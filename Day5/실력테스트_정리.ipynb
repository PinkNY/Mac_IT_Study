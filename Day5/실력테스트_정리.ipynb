{
 "cells": [
  {
   "cell_type": "markdown",
   "metadata": {},
   "source": [
    "- 명함 지갑을 만드는 회사에서 지갑의 크기를 정하려고 합니다.\n",
    "- 다양한 모양과 크기의 명함들을 모두 수납할 수 있으면서, 작아서 들고 다니기 편한 지갑을 만들어야 합니다.\n",
    "- 이러한 요건을 만족하는 지갑을 만들기 위해 디자인팀은 모든 명함의 가로 길이와 세로 길이를 조사했습니다.\n",
    "- 아래 표는 4가지 명함의 가로 길이와 세로 길이를 나타냅니다.\n",
    "\n",
    "- 명함 번호\t가로 길이\t세로 길이\n",
    "- 1\t          60\t      50\n",
    "- 2\t          30\t      70\n",
    "- 3\t          60\t      30\n",
    "- 4\t          80\t      40\n",
    "\n",
    "- 가장 긴 가로 길이와 세로 길이가 각각 80, 70이기 때문에 80(가로) x 70(세로) 크기의 지갑을 만들면 모든 명함들을 수납할 수 있습니다.\n",
    "- 하지만 2번 명함을 가로로 눕혀 수납한다면 80(가로) x 50(세로) 크기의 지갑으로 모든 명함들을 수납할 수 있습니다.\n",
    "- 이때의 지갑 크기는 4000(=80 x 50)입니다.\n",
    "\n",
    "- 모든 명함의 가로 길이와 세로 길이를 나타내는 2차원 배열 sizes가 매개변수로 주어집니다.\n",
    "- 모든 명함을 수납할 수 있는 가장 작은 지갑을 만들 때, 지갑의 크기를 return 하도록 solution 함수를 완성해주세요.\n",
    "\n",
    "- 제한사항\n",
    "- sizes의 길이는 1 이상 10,000 이하입니다.\n",
    "- sizes의 원소는 [w, h] 형식입니다.\n",
    "- w는 명함의 가로 길이를 나타냅니다.\n",
    "- h는 명함의 세로 길이를 나타냅니다.\n",
    "- w와 h는 1 이상 1,000 이하인 자연수입니다.\n"
   ]
  },
  {
   "cell_type": "code",
   "execution_count": null,
   "metadata": {},
   "outputs": [],
   "source": [
    "def solution(sizes):    \n",
    "    return max(max(x) for x in sizes) * max(min(x) for x in sizes)\n",
    "\n",
    "# sizes에서 max, min을 찾고 max * min을 한 값을 리턴."
   ]
  },
  {
   "cell_type": "markdown",
   "metadata": {},
   "source": [
    "- 코니는 영어 단어가 적힌 카드 뭉치 두 개를 선물로 받았습니다.\n",
    "- 코니는 다음과 같은 규칙으로 카드에 적힌 단어들을 사용해 원하는 순서의 단어 배열을 만들 수 있는지 알고 싶습니다.\n",
    "\n",
    "- 원하는 카드 뭉치에서 카드를 순서대로 한 장씩 사용합니다.\n",
    "- 한 번 사용한 카드는 다시 사용할 수 없습니다.\n",
    "- 카드를 사용하지 않고 다음 카드로 넘어갈 수 없습니다.\n",
    "- 기존에 주어진 카드 뭉치의 단어 순서는 바꿀 수 없습니다.\n",
    "- 예를 들어 첫 번째 카드 뭉치에 순서대로 [\"i\", \"drink\", \"water\"], 두 번째 카드 뭉치에 순서대로 [\"want\", \"to\"]가 적혀있을 때\n",
    "- [\"i\", \"want\", \"to\", \"drink\", \"water\"] 순서의 단어 배열을 만들려고 한다면\n",
    "- 첫 번째 카드 뭉치에서 \"i\"를 사용한 후 두 번째 카드 뭉치에서 \"want\"와 \"to\"를 사용하고 첫 번째 카드뭉치에 \"drink\"와 \"water\"를 차례대로 사용하면 원하는 순서의 단어 배열을 만들 수 있습니다.\n",
    "\n",
    "- 문자열로 이루어진 배열 cards1, cards2와 원하는 단어 배열 goal이 매개변수로 주어질 때, cards1과 cards2에 적힌 단어들로 goal를 만들 있다면 \"Yes\"를, 만들 수 없다면 \"No\"를 return하는 solution 함수를 완성해주세요.\n",
    "\n",
    "- 제한사항\n",
    "- 1 ≤ cards1의 길이, cards2의 길이 ≤ 10\n",
    "- 1 ≤ cards1[i]의 길이, cards2[i]의 길이 ≤ 10\n",
    "- cards1과 cards2에는 서로 다른 단어만 존재합니다.\n",
    "- 2 ≤ goal의 길이 ≤ cards1의 길이 + cards2의 길이\n",
    "- 1 ≤ goal[i]의 길이 ≤ 10\n",
    "- goal의 원소는 cards1과 cards2의 원소들로만 이루어져 있습니다.\n",
    "- cards1, cards2, goal의 문자열들은 모두 알파벳 소문자로만 이루어져 있습니다."
   ]
  },
  {
   "cell_type": "code",
   "execution_count": null,
   "metadata": {},
   "outputs": [],
   "source": [
    "def solution(cards1, cards2, goal):\n",
    "    \n",
    "    i, j = 0, 0\n",
    "    # 각 카드 뭉치에 대한 포인터 초기화\n",
    "    \n",
    "    for word in goal:\n",
    "        if i < len(cards1) and cards1[i] == word:\n",
    "            # cards1의 현재 위치에 단어가 있는지 확인\n",
    "            i += 1\n",
    "        elif j < len(cards2) and cards2[j] == word:\n",
    "            # cards2의 현재 위치에 단어가 있는지 확인\n",
    "            j += 1\n",
    "        else:\n",
    "            return \"No\"\n",
    "            # 현재 단어가 두 카드 뭉치의 현재 위치에 없다면 \"No\"\n",
    "        \n",
    "    return \"Yes\"\n",
    "    # 모든 단어를 성공적으로 확인했다면 \"Yes\""
   ]
  }
 ],
 "metadata": {
  "language_info": {
   "name": "python"
  }
 },
 "nbformat": 4,
 "nbformat_minor": 2
}
