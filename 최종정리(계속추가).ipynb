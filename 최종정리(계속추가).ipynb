{
 "cells": [
  {
   "cell_type": "markdown",
   "metadata": {},
   "source": [
    "## 배운 내용 요약"
   ]
  },
  {
   "cell_type": "code",
   "execution_count": null,
   "metadata": {},
   "outputs": [],
   "source": [
    "# 함수 정의, 호출, 결과를 출력 하는 방법들을 배움.\n",
    "\n",
    "# 함수 정의, 호출, 츨력\n",
    "def add(a, b):\n",
    "     return a + b\n",
    "\n",
    "c = add(7, 3)\n",
    "print(c)  # 출력: 10\n",
    "print(add(5, 3)) # 출력 8\n",
    "\n",
    "####\n",
    "def repeat_string(s):\n",
    "    return s * 3\n",
    "\n",
    "print(repeat_string(\"hello\"))  # 출력: hellohellohello"
   ]
  },
  {
   "cell_type": "code",
   "execution_count": null,
   "metadata": {},
   "outputs": [],
   "source": [
    "# 매개변수, 리턴값, 가변 매개변수, 기본 매개변수, 키워드 매개변수에 대해 배움.\n",
    "\n",
    "# 매개변수와 리턴값\n",
    "def repeat_string(s, n):\n",
    "    return s * n\n",
    "\n",
    "repeated_string = repeat_string(\"hello\", 3)\n",
    "print(repeated_string)  # 출력: 'hellohellohello\n",
    "\n",
    "###\n",
    "def add_and_multiply(a, b):\n",
    "    return a + b, a * b\n",
    "\n",
    "sum_result, product_result = add_and_multiply(5, 3)\n",
    "print(f\"Sum: {sum_result}, Product: {product_result}\")  # 출력: Sum: 8, Product: 15\n",
    "\n",
    "###\n",
    "def longest_string(strings):\n",
    "    return max(strings, key=len)\n",
    "\n",
    "print(longest_string([\"apple\", \"banana\", \"cherry\", \"date\"]))  # 출력: banana\n",
    "\n",
    "# 가변 매개변수\n",
    "def sum_all(*args):\n",
    "    return sum(args)\n",
    "\n",
    "number = sum_all(10, 20, 30)\n",
    "print(number)  # 출력: 60\n",
    "\n",
    "number = sum_all(10, 20, 30, 40, 50)\n",
    "print(number)  # 출력: 150\n",
    "\n",
    "###\n",
    "def concatenate_all(*args):\n",
    "    return ' '.join(args)\n",
    "\n",
    "print(concatenate_all(\"Hello\", \"world\", \"this\", \"is\", \"Python\"))  # 출력: Hello world this is Python\n",
    "\n",
    "# 기본 매개변수\n",
    "def multiply(a, b=1):\n",
    "    return a * b\n",
    "\n",
    "result = multiply(7)\n",
    "print(result)  # 출력: 7\n",
    "\n",
    "result = multiply(7, 3)\n",
    "print(result)  # 출력: 21\n",
    "\n",
    "# 키워드 매개변수\n",
    "def print_info(name, age):\n",
    "    print(f\"Name: {name}, Age: {age}\")\n",
    "\n",
    "print_info(name=\"Alice\", age=30)\n",
    "print_info(age=25, name=\"Bob\")\n",
    "\n",
    "# 여러 개의 리턴값\n",
    "def add_and_multiply(a, b):\n",
    "    return a + b, a * b\n",
    "\n",
    "sum_result, product_result = add_and_multiply(5, 3)\n",
    "print(f\"Sum: {sum_result}, Product: {product_result}\")  # 출력: Sum: 8, Product: 15\n",
    "\n",
    "# 키워드 가변 매개변수\n",
    "def print_kwargs(**kwargs):\n",
    "    for key, value in kwargs.items():\n",
    "        print(f\"{key}: {value}\")\n",
    "\n",
    "print_kwargs(name=\"Alice\", age=30, city=\"New York\")\n",
    "\n",
    "# 혼합 매개변수\n",
    "def mixed_params(a, b, c=0, *args, **kwargs):\n",
    "    print(f\"a: {a}, b: {b}, c: {c}\")\n",
    "    print(f\"args: {args}\")\n",
    "    print(f\"kwargs: {kwargs}\")\n",
    "\n",
    "mixed_params(1, 2)\n",
    "mixed_params(1, 2, 3, 4, 5, 6, key1=\"value1\", key2=\"value2\")\n"
   ]
  },
  {
   "cell_type": "code",
   "execution_count": null,
   "metadata": {},
   "outputs": [],
   "source": [
    "# 리스트, 튜플, 콜백, 람다, 고차 with등 다양한 함수를 배움.\n",
    "\n",
    "# 튜플을 사용하는 함수\n",
    "def add_and_multiply(a, b):\n",
    "    # 두 숫자의 합과 곱을 튜플로 반환하는 코드를 작성하세요\n",
    "    return a + b, a * b\n",
    "\n",
    "result = add_and_multiply(5, 3)\n",
    "print(result)  # 출력: (8, 15)\n",
    "\n",
    "# 콜백 함수\n",
    "def apply_callback(a, b, callback):\n",
    "    # 콜백 함수를 두 숫자에 적용한 결과를 반환하는 코드를 작성하세요\n",
    "    return callback(a, b)\n",
    "\n",
    "# 예시 콜백 함수\n",
    "def add(a, b):\n",
    "    return a + b\n",
    "\n",
    "result = apply_callback(5, 3, add)\n",
    "print(result)  # 출력: 8\n",
    "\n",
    "# 람다 함수\n",
    "sum_lambda = lambda a, b: a + b\n",
    "# 두 숫자의 합을 반환하는 람다 함수를 작성하세요\n",
    "\n",
    "# 람다 함수를 호출하고 결과를 출력하세요\n",
    "result = sum_lambda(5, 3)\n",
    "print(result)  # 출력: 8\n",
    "\n",
    "# 고차 함수\n",
    "def higher_order_function(a, b, func):\n",
    "    # 함수를 두 숫자에 적용한 결과를 반환하는 코드를 작성하세요\n",
    "    return func(a, b)\n",
    "\n",
    "# 예시 함수\n",
    "def multiply(a, b):\n",
    "    return a * b\n",
    "\n",
    "result = higher_order_function(5, 3, multiply)\n",
    "print(result)  # 출력: 15\n",
    "\n",
    "# with 구문\n",
    "def write_to_file(filename, content):\n",
    "    # 파일에 문자열을 쓰는 코드를 작성하세요\n",
    "    with open(filename, 'w') as file:\n",
    "        file.write(content)\n",
    "\n",
    "# 함수를 호출하고 결과를 출력하세요\n",
    "write_to_file('example.txt', 'Hello, world!')\n",
    "\n",
    "# 파일 내용을 확인하기 위해 읽어 출력\n",
    "with open('example.txt', 'r') as file:\n",
    "    print(file.read())  # 출력: Hello, world!\n",
    "    "
   ]
  },
  {
   "cell_type": "code",
   "execution_count": null,
   "metadata": {},
   "outputs": [],
   "source": [
    "numbers = [1, 2, 3, 4, 5, 6]\n",
    "\n",
    "numbers = [str(number) for number in numbers]\n",
    "\n",
    "print(\"::\".join(numbers))"
   ]
  },
  {
   "cell_type": "code",
   "execution_count": null,
   "metadata": {},
   "outputs": [],
   "source": [
    "numbers = list(range(1, 10 + 1))\n",
    "\n",
    "print(\"# 홀수만 추출하기\")\n",
    "print(list(filter(lambda x: x % 2 == 1, numbers)))\n",
    "print()\n",
    "\n",
    "print(\"# 3이상, 7미만 추출하기\")\n",
    "print(list(filter(lambda x: x >= 3 and x < 7, numbers)))\n",
    "print()\n",
    "\n",
    "print(\"# 제곱해서 50미만 추출하기\")\n",
    "print(list(filter(lambda x: x ** 2 < 50, numbers)))"
   ]
  },
  {
   "cell_type": "code",
   "execution_count": null,
   "metadata": {},
   "outputs": [],
   "source": [
    "# 모듈, 클래스를 이용한 다양한 기능을 배움.\n",
    "\n",
    "# main.py\n",
    "\n",
    "import calculator\n",
    "\n",
    "def main():\n",
    "    # 더하기 예시\n",
    "    result = calculator.add(10, 5)\n",
    "    print(f\"10 + 5 = {result}\")\n",
    "\n",
    "    # 빼기 예시\n",
    "    result = calculator.subtract(10, 5)\n",
    "    print(f\"10 - 5 = {result}\")\n",
    "\n",
    "    # 곱하기 예시\n",
    "    result = calculator.multiply(10, 5)\n",
    "    print(f\"10 * 5 = {result}\")\n",
    "\n",
    "    # 나누기 예시\n",
    "    result = calculator.divide(10, 5)\n",
    "    print(f\"10 / 5 = {result}\")\n",
    "\n",
    "    # 0으로 나누기 예시\n",
    "    result = calculator.divide(10, 0)\n",
    "    if result is not None:\n",
    "        print(f\"10 / 0 = {result}\")\n",
    "\n",
    "    # 거듭제곱 예시\n",
    "    result = calculator.power(2, 3)\n",
    "    print(f\"2^3 = {result}\")\n",
    "\n",
    "    # 제곱근 예시\n",
    "    result = calculator.sqrt(9)\n",
    "    print(f\"sqrt(9) = {result}\")\n",
    "\n",
    "    # 음수의 제곱근 예시\n",
    "    result = calculator.sqrt(-9)\n",
    "    if result is not None:\n",
    "        print(f\"sqrt(-9) = {result}\")\n",
    "\n",
    "if __name__ == \"__main__\":\n",
    "    main()\n",
    "\n"
   ]
  },
  {
   "cell_type": "code",
   "execution_count": null,
   "metadata": {},
   "outputs": [],
   "source": [
    "class BankAccount:\n",
    "    def __init__(self, owner, balance=0):\n",
    "        self.owner = owner\n",
    "        self.balance = balance\n",
    "        \n",
    "    def deposit(self, money):\n",
    "        self.balance += money\n",
    "        return self.balance\n",
    "    \n",
    "    def withdraw(self, money):\n",
    "        if self.balance < money:\n",
    "            return \"Insufficent funds\"\n",
    "        self.balance -= money\n",
    "        return self.balance\n",
    "    \n",
    "    def __str__(self):\n",
    "        return f\"owner={self.owner}, balance={self.balance}\"\n",
    "        \n",
    "acc = BankAccount(\"Bob\", 100)\n",
    "print(acc.balance, acc.owner)\n",
    "print(acc)\n",
    "print(acc.deposit(100))\n",
    "print(acc.withdraw(200))\n",
    "print(acc.withdraw(500))\n",
    "\n",
    "class SavingsAccount(BankAccount):\n",
    "# SavingsAccount 클래스는 BankAccount 클래스를 상속받는다.\n",
    "    def add_interest(self, interest):\n",
    "    # 이자율(rate)를 인자로 받아서 잔고에 추가.\n",
    "        self.balance += self.balance * interest\n",
    "        return self.balance\n",
    "    \n",
    "savings = SavingsAccount(\"Dana\", 1000)\n",
    "print(savings)\n",
    "print(savings.add_interest(0.05))\n",
    "print(savings)\n",
    "\n",
    "class CheckingAccount(BankAccount):\n",
    "    def __init__(self, owner, balance=0, overdraft_limit=0):\n",
    "        super().__init__(owner, balance)\n",
    "        # super() = super class 부모클래스의 임시적인 객체를 반환하여 사용가능 하게.\n",
    "        # 부모 클래스의 __init__() 매직 메소드를 자식 클래스의 __init__() 매직 메소드에서 실행\n",
    "        self.overdraft_limit = overdraft_limit\n",
    "        # 위에서 super()을 사용했기 때문에 overdraft_limit만 추가 작성해주면 됨.\n",
    "        \n",
    "    def withdraw(self, money):\n",
    "          if money > self.balance + self.overdraft_limit:\n",
    "              return \"Insufficient funds, overdraft limit reached\"\n",
    "          self.balance -= money\n",
    "          return self.balance\n",
    "      # 금액을 인자로 받아 계좌 잔고에서 차감. 잔고와 오버드래프트 한도를 초과 시\n",
    "      # 메세지를 반환.\n",
    "    \n",
    "# 테스트 코드\n",
    "checking = CheckingAccount(\"Eve\", 500, 200)\n",
    "print(checking)\n",
    "print(checking.withdraw(600))\n",
    "print(checking.withdraw(150))\n",
    "print(checking)\n",
    "\n",
    "class BankAccount:\n",
    "    transaction_log = []\n",
    "\n",
    "    def __init__(self, owner, balance=0):\n",
    "        self.owner = owner\n",
    "        self.balance = balance\n",
    "\n",
    "    def deposit(self, amount):\n",
    "        self.balance += amount\n",
    "        BankAccount.log_transaction(f\"Deposit: {amount}, New balance: {self.balance}\")\n",
    "        return self.balance\n",
    "\n",
    "    def withdraw(self, amount):\n",
    "        if amount > self.balance:\n",
    "            BankAccount.log_transaction(f\"Withdrawal failed: {amount}, Insufficient funds\")\n",
    "            return \"Insufficient funds\"\n",
    "        self.balance -= amount\n",
    "        BankAccount.log_transaction(f\"Withdrawal: {amount}, New balance: {self.balance}\")\n",
    "        return self.balance\n",
    "\n",
    "    @classmethod\n",
    "    def log_transaction(cls, message):\n",
    "        cls.transaction_log.append(message)\n",
    "\n",
    "    @staticmethod\n",
    "    def get_logs():\n",
    "        return BankAccount.transaction_log\n",
    "\n",
    "    def __str__(self):\n",
    "        return f\"BankAccount({self.owner}, Balance: {self.balance})\"\n",
    "\n",
    "# 테스트 코드\n",
    "acc = BankAccount(\"Charlie\", 500)\n",
    "acc.deposit(100)\n",
    "acc.withdraw(200)\n",
    "acc.withdraw(500)\n",
    "print(BankAccount.get_logs())"
   ]
  },
  {
   "cell_type": "code",
   "execution_count": null,
   "metadata": {},
   "outputs": [],
   "source": [
    "# 문자열을 정수로 변환\n",
    "\n",
    "string = \"100az\"\n",
    "# if string.isdigit()\n",
    "try:\n",
    "    number = int(string)\n",
    "    print(number)\n",
    "    print(type(number))\n",
    "except:\n",
    "    print(\"숫자로 변환할 수 없습니다.\")"
   ]
  },
  {
   "cell_type": "code",
   "execution_count": null,
   "metadata": {},
   "outputs": [],
   "source": [
    "class Person:\n",
    "    def __init__(self):\n",
    "        print('Person __init__')\n",
    "        self.hello = '안녕하세요.'\n",
    " \n",
    "class Student(Person):\n",
    "    def __init__(self):\n",
    "        print('Student __init__')\n",
    "        super().__init__()                # super()로 기반 클래스의 __init__ 메서드 호출\n",
    "        self.school = '파이썬 코딩 도장'\n",
    " \n",
    "james = Student()\n",
    "print(james.school)\n",
    "print(james.hello)\n"
   ]
  },
  {
   "cell_type": "code",
   "execution_count": null,
   "metadata": {},
   "outputs": [],
   "source": [
    "class Person:\n",
    "    def __init__(self):\n",
    "        print('Person __init__')\n",
    "        self.hello = '안녕하세요.'\n",
    " \n",
    "class Student(Person):\n",
    "    pass\n",
    " \n",
    "james = Student()\n",
    "print(james.hello)\n",
    "\n",
    "# Student가 Person에 상속되어 있다.\n",
    "# Student 클래스에 내용을 적지 않고 pass 하였으나\n",
    "# james에 Student를 대입하고 james.hello를 출력하려 하면\n",
    "# Person 클래스에 있는 init를 이용하여 둘다 출력이 된다."
   ]
  },
  {
   "cell_type": "markdown",
   "metadata": {},
   "source": [
    "# 표준 타입 계층 구조\n",
    "\n",
    "        # None (class None Type)\n",
    "\n",
    "# 숫자\n",
    "# - 정수형\n",
    "        # 정수 (class iint)\n",
    "        # 불리언 (class bool)\n",
    "# - 실수형\n",
    "        # 실수 (class folat)\n",
    "\n",
    "# 시퀀스\n",
    "# - 불변\n",
    "        # 문자열 (class str)\n",
    "        # 튜플 (class tuple)\n",
    "        # 바이트 (class bytes)\n",
    "# - 가변\n",
    "        # 리스트 (class list)\n",
    "        \n",
    "# 집합형\n",
    "        #집합 (class set)\n",
    "\n",
    "# 매핑\n",
    "        # 딕셔너리 (class dict)"
   ]
  },
  {
   "cell_type": "markdown",
   "metadata": {},
   "source": [
    "# 시간 복잡도 - 빅 오(Big-O) 표기법"
   ]
  },
  {
   "cell_type": "markdown",
   "metadata": {},
   "source": [
    "### **O(1) - 상수 시간 복잡도**\n",
    "\n",
    "입력 크기와 상관없이 일정한 시간이 걸리는 알고리즘입니다."
   ]
  },
  {
   "cell_type": "code",
   "execution_count": null,
   "metadata": {},
   "outputs": [],
   "source": [
    "# 예시: 배열의 첫 번째 원소를 출력하는 함수\n",
    "def print_first_element(arr):\n",
    "    print(arr[0])\n",
    "\n",
    "# 시간 복잡도: O(1)"
   ]
  },
  {
   "cell_type": "code",
   "execution_count": null,
   "metadata": {},
   "outputs": [],
   "source": [
    "import time\n",
    "\n",
    "def is_even(n):\n",
    "    return n % 2 == 0\n",
    "\n",
    "n = 1000000\n",
    "start = time.time()\n",
    "is_even(n)\n",
    "end = time.time()\n",
    "print(f\"Execution time: {end - start} seconds\")"
   ]
  },
  {
   "cell_type": "markdown",
   "metadata": {},
   "source": [
    "- is_even 함수는 입력 값 n에 대해 단 한 번의 나머지 연산을 수행합니다. 이 연산은 입력 크기에 관계없이 일정한 시간이 소요되므로 시간 복잡도는 𝑂(1)입니다."
   ]
  },
  {
   "cell_type": "code",
   "execution_count": null,
   "metadata": {},
   "outputs": [],
   "source": [
    "import time\n",
    "\n",
    "def is_even(n):\n",
    "    return n % 2 == 0\n",
    "\n",
    "numbers = list(range(1000000))\n",
    "\n",
    "start = time.time()\n",
    "for n in numbers:\n",
    "    if n % 100000 == 0:\n",
    "        print(n)\n",
    "end = time.time()\n",
    "print(f\"Execution time: {end - start} seconds\")"
   ]
  },
  {
   "cell_type": "markdown",
   "metadata": {},
   "source": [
    "### **O(log n) - 로그 시간 복잡도**\n",
    "\n",
    "입력 크기가 커질수록 실행 시간이 로그 형태로 증가하는 알고리즘입니다. 이진 탐색 알고리즘이 대표적입니다."
   ]
  },
  {
   "cell_type": "code",
   "execution_count": null,
   "metadata": {},
   "outputs": [],
   "source": [
    "# 예시: 이진 탐색\n",
    "def binary_search(arr, target):\n",
    "    left, right = 0, len(arr) - 1\n",
    "    while left <= right:\n",
    "        mid = (left + right) // 2\n",
    "        if arr[mid] == target:\n",
    "            return mid\n",
    "        elif arr[mid] < target:\n",
    "            left = mid + 1\n",
    "        else:\n",
    "            right = mid - 1\n",
    "    return -1\n",
    "\n",
    "# 시간 복잡도: O(log n)"
   ]
  },
  {
   "cell_type": "markdown",
   "metadata": {},
   "source": [
    "### **O(n) - 선형 시간 복잡도**\n",
    "\n",
    "입력 크기에 비례하여 실행 시간이 증가하는 알고리즘입니다."
   ]
  },
  {
   "cell_type": "code",
   "execution_count": null,
   "metadata": {},
   "outputs": [],
   "source": [
    "# 예시: 배열의 모든 원소를 출력하는 함수\n",
    "def print_all_elements(arr):\n",
    "    for element in arr:\n",
    "        print(element)\n",
    "\n",
    "# 시간 복잡도: O(n)"
   ]
  },
  {
   "cell_type": "code",
   "execution_count": null,
   "metadata": {},
   "outputs": [],
   "source": [
    "import time\n",
    "\n",
    "def sum_array(arr):\n",
    "    total = 0\n",
    "    for num in arr:\n",
    "        total += num\n",
    "    return total\n",
    "\n",
    "arr = list(range(1000000))\n",
    "start = time.time()\n",
    "sum_array(arr)\n",
    "end = time.time()\n",
    "print(f\"Execution time: {end - start} seconds\")"
   ]
  },
  {
   "cell_type": "markdown",
   "metadata": {},
   "source": [
    "- sum_array 함수는 배열의 모든 요소를 한 번씩 순회하며 합계를 계산합니다.\n",
    "- 배열의 크기가 N일 때, 순회하는 데 걸리는 시간은 N에 비례하므로 시간 복잡도는 O(N)입니다.\n",
    "- contains_duplicate 함수는 배열의 각 요소를 한 번씩 순회하며, 이미 본 요소를 집합에 추가하거나 중복을 확인합니다.\n",
    "- 배열의 크기가 N일 때, 순회하는 데 걸리는 시간은 N에 비례하므로 시간 복잡도는 O(N)입니다."
   ]
  },
  {
   "cell_type": "code",
   "execution_count": null,
   "metadata": {},
   "outputs": [],
   "source": [
    "import time\n",
    "\n",
    "def contains_duplicate(arr):\n",
    "    seen = set()\n",
    "    for num in arr:\n",
    "        if num in seen:\n",
    "            return True\n",
    "        seen.add(num)\n",
    "    return False\n",
    "\n",
    "arr = list(range(1000000)) + [0]\n",
    "start = time.time()\n",
    "contains_duplicate(arr)\n",
    "end = time.time()\n",
    "print(f\"Execution time: {end - start} seconds\")\n"
   ]
  },
  {
   "cell_type": "markdown",
   "metadata": {},
   "source": [
    "### **O(n log n) - 로그 선형 시간 복잡도**\n",
    "\n",
    "많은 정렬 알고리즘이 이 시간 복잡도를 가집니다."
   ]
  },
  {
   "cell_type": "code",
   "execution_count": null,
   "metadata": {},
   "outputs": [],
   "source": [
    "# 예시: 병합 정렬\n",
    "def merge_sort(arr):\n",
    "    if len(arr) > 1:\n",
    "        mid = len(arr) // 2\n",
    "        left_half = arr[:mid]\n",
    "        right_half = arr[mid:]\n",
    "\n",
    "        merge_sort(left_half)\n",
    "        merge_sort(right_half)\n",
    "\n",
    "        i = j = k = 0\n",
    "\n",
    "        while i < len(left_half) and j < len(right_half):\n",
    "            if left_half[i] < right_half[j]:\n",
    "                arr[k] = left_half[i]\n",
    "                i += 1\n",
    "            else:\n",
    "                arr[k] = right_half[j]\n",
    "                j += 1\n",
    "            k += 1\n",
    "\n",
    "        while i < len(left_half):\n",
    "            arr[k] = left_half[i]\n",
    "            i += 1\n",
    "            k += 1\n",
    "\n",
    "        while j < len(right_half):\n",
    "            arr[k] = right_half[j]\n",
    "            j += 1\n",
    "            k += 1\n",
    "\n",
    "# 시간 복잡도: O(n log n)"
   ]
  },
  {
   "cell_type": "markdown",
   "metadata": {},
   "source": [
    "### **O(n^2) - 이차 시간 복잡도**\n",
    "\n",
    "입력 크기가 커질수록 실행 시간이 제곱 형태로 증가하는 알고리즘입니다. 버블 정렬이 대표적입니다."
   ]
  },
  {
   "cell_type": "code",
   "execution_count": null,
   "metadata": {},
   "outputs": [],
   "source": [
    "# 예시: 버블 정렬\n",
    "def bubble_sort(arr):\n",
    "    n = len(arr)\n",
    "    for i in range(n):\n",
    "        for j in range(0, n-i-1):\n",
    "            if arr[j] > arr[j+1]:\n",
    "                arr[j], arr[j+1] = arr[j+1], arr[j]\n",
    "\n",
    "# 시간 복잡도: O(n^2)"
   ]
  },
  {
   "cell_type": "markdown",
   "metadata": {},
   "source": [
    "- selection_sort 함수는 배열의 각 요소에 대해 나머지 요소들과 비교하여 최소값을 찾습니다.\n",
    "- 첫 번째 요소를 정렬하는 데 N번 비교하고, 두 번째 요소는 N−1번 비교하는 식으로 총 $N + (N-1) + (N-2) + \\cdots + 1 = \\frac{N(N-1)}{2}$ 번 비교를 수행하므로 시간 복잡도는 $N^2$입니다."
   ]
  },
  {
   "cell_type": "code",
   "execution_count": null,
   "metadata": {},
   "outputs": [],
   "source": [
    "import time\n",
    "\n",
    "def selection_sort(arr):\n",
    "    n = len(arr)\n",
    "    for i in range(n):\n",
    "        min_idx = i\n",
    "        for j in range(i+1, n):\n",
    "            if arr[j] < arr[min_idx]:\n",
    "                min_idx = j\n",
    "        arr[i], arr[min_idx] = arr[min_idx], arr[i]\n",
    "    return arr\n",
    "\n",
    "arr = list(range(1000, 0, -1))\n",
    "start = time.time()\n",
    "selection_sort(arr)\n",
    "end = time.time()\n",
    "print(f\"Execution time: {end - start} seconds\")"
   ]
  },
  {
   "cell_type": "markdown",
   "metadata": {},
   "source": [
    "- find_sum_pairs 함수는 배열의 각 요소에 대해 나머지 모든 요소들과 쌍을 이루어 합이 target과 같은지 확인합니다.\n",
    "- 배열의 각 요소에 대해 나머지 요소들과 비교하므로, 최악의 경우 N번의 요소를 N−1번 비교하여 N×(N−1) 번 비교를 수행하므로 시간 복잡도는 $O(N^2)$입니다."
   ]
  },
  {
   "cell_type": "code",
   "execution_count": null,
   "metadata": {},
   "outputs": [],
   "source": [
    "import time\n",
    "\n",
    "def find_sum_pairs(arr, target):\n",
    "    pairs = []\n",
    "    for i in range(len(arr)):\n",
    "        for j in range(i + 1, len(arr)):\n",
    "            if arr[i] + arr[j] == target:\n",
    "                pairs.append((arr[i], arr[j]))\n",
    "    return pairs\n",
    "\n",
    "arr = list(range(1000))\n",
    "target = 1998\n",
    "start = time.time()\n",
    "find_sum_pairs(arr, target)\n",
    "end = time.time()\n",
    "print(f\"Execution time: {end - start} seconds\")\n"
   ]
  },
  {
   "cell_type": "markdown",
   "metadata": {},
   "source": [
    "### **O(2^n) - 지수 시간 복잡도**\n",
    "\n",
    "입력 크기가 커질수록 실행 시간이 지수 형태로 증가하는 알고리즘입니다. 피보나치 수열을 재귀적으로 계산하는 알고리즘이 대표적입니다."
   ]
  },
  {
   "cell_type": "code",
   "execution_count": null,
   "metadata": {},
   "outputs": [],
   "source": [
    "# 예시: 피보나치 수열\n",
    "def fibonacci(n):\n",
    "    if n <= 1:\n",
    "        return n\n",
    "    else:\n",
    "        return fibonacci(n-1) + fibonacci(n-2)\n",
    "\n",
    "# 시간 복잡도: O(2^n)\n",
    "\n"
   ]
  },
  {
   "cell_type": "markdown",
   "metadata": {},
   "source": [
    "### **O(n!) - 팩토리얼 시간 복잡도**\n",
    "\n",
    "가장 비효율적인 시간 복잡도로, 순열 생성 알고리즘이 이 시간 복잡도를 가집니다."
   ]
  },
  {
   "cell_type": "code",
   "execution_count": null,
   "metadata": {},
   "outputs": [],
   "source": [
    "# 예시: 순열 생성\n",
    "from itertools import permutations\n",
    "\n",
    "def generate_permutations(arr):\n",
    "    return list(permutations(arr))\n",
    "\n",
    "# 시간 복잡도: O(n!)"
   ]
  },
  {
   "cell_type": "markdown",
   "metadata": {},
   "source": [
    "### **리스트(List)**\n",
    "\n",
    "- 리스트는 여러 값을 하나의 변수에 저장할 수 있는 가변 자료형입니다.\n",
    "- 즉, 리스트에 저장된 값들은 생성 후에도 변경(추가, 삭제, 수정)할 수 있습니다."
   ]
  },
  {
   "cell_type": "markdown",
   "metadata": {},
   "source": [
    "### 리스트의 주요 특징\n",
    "\n",
    "1. **순서가 있는 데이터 구조 (Ordered)**: 리스트는 항목들이 입력된 순서대로 유지됩니다.\n",
    "2. **가변성 (Mutable)**: 리스트는 생성된 이후에도 항목을 추가, 제거, 수정할 수 있습니다.\n",
    "3. **중복 허용 (Allow Duplicates)**: 리스트는 중복된 값을 허용합니다.\n",
    "4. **다양한 데이터 타입 저장 가능 (Heterogeneous)**: 리스트는 문자열, 숫자, 다른 리스트 등 다양한 데이터 타입을 저장할 수 있습니다.\n",
    "5. **표기법:** 대괄호 **`[]`**를 사용합니다.\n",
    "6. **크기:** 리스트의 크기는 동적으로 변경될 수 있습니다."
   ]
  },
  {
   "cell_type": "code",
   "execution_count": null,
   "metadata": {},
   "outputs": [],
   "source": [
    "my_list = [1, 2, 3, 4]\n",
    "my_list.append(5)  # [1, 2, 3, 4, 5]\n",
    "my_list[0] = 0    # [0, 2, 3, 4, 5]\n",
    "del my_list[1]    # [0, 3, 4, 5]"
   ]
  },
  {
   "cell_type": "markdown",
   "metadata": {},
   "source": [
    "### 리스트 생성\n",
    "\n",
    "- 리스트는 대괄호를 사용하여 생성할 수 있습니다."
   ]
  },
  {
   "cell_type": "code",
   "execution_count": null,
   "metadata": {},
   "outputs": [],
   "source": [
    "# 빈 리스트 생성\n",
    "empty_list = []\n",
    "\n",
    "# 여러 데이터 타입을 포함한 리스트 생성\n",
    "mixed_list = [1, \"hello\", 3.14, True, [1, 2, 3]]"
   ]
  },
  {
   "cell_type": "markdown",
   "metadata": {},
   "source": [
    "### 리스트의 기본 연산\n",
    "\n",
    "1. **항목 접근 (Indexing)**:"
   ]
  },
  {
   "cell_type": "code",
   "execution_count": null,
   "metadata": {},
   "outputs": [],
   "source": [
    "numbers = [10, 20, 30, 40, 50]\n",
    "print(numbers[0])  # 10\n",
    "print(numbers[-1]) # 50 (역순 인덱스)"
   ]
  },
  {
   "cell_type": "markdown",
   "metadata": {},
   "source": [
    "2. **항목 변경 (Modifying):**"
   ]
  },
  {
   "cell_type": "code",
   "execution_count": null,
   "metadata": {},
   "outputs": [],
   "source": [
    "numbers[0] = 100\n",
    "print(numbers)  # [100, 20, 30, 40, 50]"
   ]
  },
  {
   "cell_type": "markdown",
   "metadata": {},
   "source": [
    "3. **항목 추가 (Appending):**"
   ]
  },
  {
   "cell_type": "code",
   "execution_count": null,
   "metadata": {},
   "outputs": [],
   "source": [
    "numbers.append(60)\n",
    "print(numbers)  # [100, 20, 30, 40, 50, 60]"
   ]
  },
  {
   "cell_type": "markdown",
   "metadata": {},
   "source": [
    "4. **항목 삽입 (Inserting):**"
   ]
  },
  {
   "cell_type": "code",
   "execution_count": null,
   "metadata": {},
   "outputs": [],
   "source": [
    "numbers.insert(2, 25)\n",
    "print(numbers)  # [100, 20, 25, 30, 40, 50, 60]"
   ]
  },
  {
   "cell_type": "markdown",
   "metadata": {},
   "source": [
    "5. **항목 제거 (Removing):**"
   ]
  },
  {
   "cell_type": "code",
   "execution_count": null,
   "metadata": {},
   "outputs": [],
   "source": [
    "numbers.remove(30)\n",
    "print(numbers)  # [100, 20, 25, 40, 50, 60]"
   ]
  },
  {
   "cell_type": "markdown",
   "metadata": {},
   "source": [
    "6. **항목 추가 (Appending):**"
   ]
  },
  {
   "cell_type": "code",
   "execution_count": null,
   "metadata": {},
   "outputs": [],
   "source": [
    "last_item = numbers.pop()\n",
    "print(last_item)  # 60\n",
    "print(numbers)    # [100, 20, 25, 40, 50]"
   ]
  },
  {
   "cell_type": "markdown",
   "metadata": {},
   "source": [
    "7. **항목 추가 (Appending):**"
   ]
  },
  {
   "cell_type": "code",
   "execution_count": null,
   "metadata": {},
   "outputs": [],
   "source": [
    "print(20 in numbers)  # True\n",
    "print(70 in numbers)  # False"
   ]
  },
  {
   "cell_type": "markdown",
   "metadata": {},
   "source": [
    "### 리스트의 주요 메소드\n",
    "\n",
    "1. **extend()**: 리스트에 다른 리스트나 반복 가능한 객체의 모든 항목을 추가합니다."
   ]
  },
  {
   "cell_type": "code",
   "execution_count": null,
   "metadata": {},
   "outputs": [],
   "source": [
    "numbers.extend([70, 80])\n",
    "print(numbers)  # [100, 20, 25, 40, 50, 70, 80]"
   ]
  },
  {
   "cell_type": "markdown",
   "metadata": {},
   "source": [
    "2. **sort()**: 리스트를 정렬합니다."
   ]
  },
  {
   "cell_type": "code",
   "execution_count": null,
   "metadata": {},
   "outputs": [],
   "source": [
    "numbers.sort()\n",
    "print(numbers)  # [20, 25, 40, 50, 70, 80, 100]"
   ]
  },
  {
   "cell_type": "markdown",
   "metadata": {},
   "source": [
    "3. **reverse()**: 리스트의 항목 순서를 반대로 뒤집습니다."
   ]
  },
  {
   "cell_type": "code",
   "execution_count": null,
   "metadata": {},
   "outputs": [],
   "source": [
    "numbers.reverse()\n",
    "print(numbers)  # [100, 80, 70, 50, 40, 25, 20]"
   ]
  },
  {
   "cell_type": "markdown",
   "metadata": {},
   "source": [
    "4. **index()**: 특정 항목의 첫 번째 인덱스를 반환합니다."
   ]
  },
  {
   "cell_type": "code",
   "execution_count": null,
   "metadata": {},
   "outputs": [],
   "source": [
    "index = numbers.index(50)\n",
    "print(index)  # 3"
   ]
  },
  {
   "cell_type": "markdown",
   "metadata": {},
   "source": [
    "5. **count()**: 리스트 내에서 특정 항목이 몇 번 등장하는지 반환합니다."
   ]
  },
  {
   "cell_type": "code",
   "execution_count": null,
   "metadata": {},
   "outputs": [],
   "source": [
    "count = numbers.count(25)\n",
    "print(count)  # 1"
   ]
  },
  {
   "cell_type": "markdown",
   "metadata": {},
   "source": [
    "### 리스트 컴프리헨션\n",
    "\n",
    "- 리스트는 데이터를 저장하고 조작하는 데 매우 유용하며, 파이썬의 다양한 내장 함수 및 메소드와 함께 사용할 수 있습니다.\n",
    "- 예를 들어, 리스트 컴프리헨션을 사용하면 리스트를 간결하고 효율적으로 생성할 수 있습니다."
   ]
  },
  {
   "cell_type": "code",
   "execution_count": null,
   "metadata": {},
   "outputs": [],
   "source": [
    "# 리스트 컴프리헨션 예제\n",
    "squares = [x**2 for x in range(10)]\n",
    "print(squares)  # [0, 1, 4, 9, 16, 25, 36, 49, 64, 81]"
   ]
  },
  {
   "cell_type": "markdown",
   "metadata": {},
   "source": [
    "### **튜플(Tuple)**\n",
    "\n",
    "튜플은 리스트와 유사하지만 불변 자료형입니다. 즉, 한 번 생성된 튜플의 값들은 변경할 수 없습니다.\n",
    "\n",
    "### **특징:**\n",
    "\n",
    "- **불변성(Immutable):** 튜플의 요소는 추가, 삭제, 수정이 불가능합니다.\n",
    "- **표기법:** 소괄호 **`()`**를 사용합니다.\n",
    "- **크기:** 튜플의 크기는 고정되어 있습니다."
   ]
  },
  {
   "cell_type": "code",
   "execution_count": null,
   "metadata": {},
   "outputs": [],
   "source": [
    "my_tuple = (1, 2, 3, 4)\n",
    "# my_tuple.append(5)  # 오류 발생: 'tuple' object has no attribute 'append'\n",
    "# my_tuple[0] = 0     # 오류 발생: 'tuple' object does not support item assignment"
   ]
  },
  {
   "cell_type": "markdown",
   "metadata": {},
   "source": [
    "### **비교 요약**\n",
    "\n",
    "- **변경 가능성:** 리스트는 가변(mutable)이고, 튜플은 불변(immutable)입니다.\n",
    "- **표기법:** 리스트는 대괄호 **`[]`**, 튜플은 소괄호 **`()`**를 사용합니다.\n",
    "- **사용 목적:** 리스트는 주로 동적으로 데이터를 추가/삭제해야 할 때 사용되고, 튜플은 변경이 필요 없는 고정된 데이터를 저장할 때 사용됩니다.\n",
    "- **성능:** 불변성으로 인해 튜플이 리스트보다 메모리 효율성이 높고, 해시 가능한 키로 사용될 수 있어 딕셔너리 키나 집합(set) 요소로 사용할 수 있습니다.\n",
    "\n",
    "### **활용 예**\n",
    "\n",
    "- **리스트:** 가변 데이터 구조가 필요한 경우(예: 학생 명단 관리).\n",
    "- **튜플:** 변경이 필요 없는 데이터 구조가 필요한 경우(예: 고정된 좌표값, 함수에서 여러 값을 반환할 때)."
   ]
  },
  {
   "cell_type": "code",
   "execution_count": null,
   "metadata": {},
   "outputs": [],
   "source": [
    "def solution(n):\n",
    "    global answer\n",
    "    answer = [[0 for _ in range(n)]for _ in range(n)]\n",
    "    assign(0,0,1,n);\n",
    "    return answer\n",
    "\n",
    "def assign(y, x, num, n):\n",
    "    if(n<=0):return answer\n",
    "    answer[y][x] = num\n",
    "    for _ in range(1, n):#→\n",
    "        x+=1\n",
    "        num+=1\n",
    "        answer[y][x]=num\n",
    "    for _ in range(1, n):#↓\n",
    "        y+=1\n",
    "        num+=1\n",
    "        answer[y][x]=num\n",
    "    for _ in range(1, n):#←\n",
    "        x-=1\n",
    "        num+=1\n",
    "        answer[y][x]=num\n",
    "    for _ in range(1, n-1):#↑\n",
    "        y-=1\n",
    "        num+=1\n",
    "        answer[y][x]=num\n",
    "    return assign(y, x+1, num+1,n-2)"
   ]
  },
  {
   "cell_type": "code",
   "execution_count": null,
   "metadata": {},
   "outputs": [],
   "source": [
    "d = [[0, 1],[1, 0],[0, -1],[-1, 0]]\n",
    "\n",
    "def solution(n):\n",
    "    answer = [[0] * n for _ in range(n)]\n",
    "    x, y = 0, 0\n",
    "    c = 1\n",
    "    dt = 0\n",
    "\n",
    "    while c <= n * n:\n",
    "        answer[x][y] = c\n",
    "        c+=1\n",
    "        xx, yy = x + d[dt][0], y + d[dt][1]\n",
    "        if 0 <= xx < n and 0 <= yy < n:\n",
    "            if answer[xx][yy] != 0:\n",
    "                dt = (dt + 1) % 4\n",
    "                x, y = x + d[dt][0], y + d[dt][1]\n",
    "            else:\n",
    "                x, y = xx, yy\n",
    "        else:\n",
    "            dt = (dt + 1) % 4\n",
    "            x, y = x + d[dt][0], y + d[dt][1]\n",
    "\n",
    "\n",
    "    return answer"
   ]
  },
  {
   "cell_type": "code",
   "execution_count": null,
   "metadata": {},
   "outputs": [],
   "source": [
    "def generateMatrix(n):\n",
    "    matrix = [[0] * n for _ in range(n)]\n",
    "    direction = [(0, 1), (1, 0), (0, -1), (-1, 0)]  # 오른쪽, 아래, 왼쪽, 위\n",
    "    dx, dy = 0, 1  # 초기 방향은 오른쪽\n",
    "    x, y = 0, 0   # 초기 위치\n",
    "\n",
    "    for i in range(1, n * n + 1):\n",
    "        matrix[x][y] = i\n",
    "        nx, ny = x + dx, y + dy\n",
    "        if 0 <= nx < n and 0 <= ny < n and matrix[nx][ny] == 0:\n",
    "            x, y = nx, ny\n",
    "        else:\n",
    "            dx, dy = direction[(direction.index((dx, dy)) + 1) % 4]\n",
    "            x, y = x + dx, y + dy\n",
    "\n",
    "    return matrix\n",
    "\n",
    "# 테스트\n",
    "n = 3\n",
    "print(generateMatrix(n))  # 예시 출력: [[1, 2, 3], [8, 9, 4], [7, 6, 5]]"
   ]
  },
  {
   "cell_type": "markdown",
   "metadata": {},
   "source": [
    "TwoSum 문제"
   ]
  },
  {
   "cell_type": "code",
   "execution_count": null,
   "metadata": {},
   "outputs": [],
   "source": [
    "from typing import List\n",
    "class Solution:\n",
    "    def twoSum(self, nums: List[int], target: int) -> List[int]:\n",
    "        for i in range(len(nums)):\n",
    "            for j in range(i + 1, len(nums)):\n",
    "                if nums[i] + nums[j] == target:\n",
    "                    return [i, j]"
   ]
  },
  {
   "cell_type": "markdown",
   "metadata": {},
   "source": [
    "- 위의 코드는 \"두 수의 합\" 문제를 해결하는 클래스 `Solution`을 정의합니다.\n",
    "- `twoSum` 메서드는 정수 리스트 `nums`와 정수 `target`을 인자로 받습니다.\n",
    "- 이 메서드는 `nums` 리스트에서 두 수를 선택하여 그 합이 `target`이 되는 인덱스를 반환합니다."
   ]
  },
  {
   "cell_type": "markdown",
   "metadata": {},
   "source": [
    "1. `nums` 리스트의 길이만큼 첫 번째 반복문을 실행합니다. 이 반복문은 리스트의 모든 요소를 하나씩 선택하기 위해 사용됩니다.\n",
    "\n",
    "2. 내부에 중첩된 두 번째 반복문은 첫 번째 반복문에서 선택된 요소의 다음 요소부터 끝까지 반복합니다. 이것은 중복된 조합을 피하기 위함입니다.\n",
    "\n",
    "3. 현재 선택된 두 수의 합이 `target`과 같은지 확인합니다. 만약 같다면, 두 수의 인덱스를 리스트로 반환합니다.\n",
    "\n",
    "4. 이 과정을 통해 모든 가능한 조합을 확인하고, 첫 번째로 발견되는 조합을 반환합니다.\n",
    "\n",
    "- 이 코드의 시간 복잡도는 \\(O(n^2)\\)입니다. 이는 두 개의 반복문을 사용하여 모든 가능한 조합을 확인하기 때문입니다."
   ]
  },
  {
   "cell_type": "code",
   "execution_count": null,
   "metadata": {},
   "outputs": [],
   "source": [
    "from typing import List\n",
    "class Solution:\n",
    "    def twoSum(self, nums: List[int], target: int) -> List[int]:\n",
    "        nums_map = {}\n",
    "\n",
    "        for i, num in enumerate(nums):\n",
    "            if target - num in nums_map.keys():\n",
    "                return [nums_map[target - num], i]\n",
    "            nums_map[num] = i\n",
    "            print(nums_map)"
   ]
  },
  {
   "cell_type": "markdown",
   "metadata": {},
   "source": [
    "- 위의 코드는 \"두 수의 합\" 문제를 해결하는 클래스 `Solution`을 정의합니다.\n",
    "- `twoSum` 메서드는 정수 리스트 `nums`와 정수 `target`을 인자로 받습니다.\n",
    "- 이 메서드는 `nums` 리스트에서 두 수를 선택하여 그 합이 `target`이 되는 인덱스를 반환합니다."
   ]
  },
  {
   "cell_type": "markdown",
   "metadata": {},
   "source": [
    "1. `nums_map`이라는 빈 딕셔너리를 초기화합니다. 이 딕셔너리는 수와 해당 수의 인덱스를 저장합니다.\n",
    "\n",
    "2. `nums` 리스트를 순회하면서 각 수의 인덱스와 값을 가져옵니다. `enumerate()` 함수를 사용하여 인덱스와 값을 동시에 가져올 수 있습니다.\n",
    "\n",
    "3. 현재 수와 target에서 현재 수를 뺀 값(target - num)의 차가 nums_map에 있는지 확인합니다. 만약 있다면, 그 수와 현재 인덱스를 리스트로 반환합니다. 이는 두 수의 합이 `target`이 되는 조합을 찾은 것입니다.\n",
    "\n",
    "4. 그렇지 않다면, 현재 수와 그 인덱스를 `nums_map`에 저장합니다. 이렇게 함으로써, 후에 해당 수와 그 인덱스를 찾을 수 있습니다.\n",
    "\n",
    "5. 각 단계에서 nums_map의 상태를 출력하는 print(nums_map) 문이 있습니다. 이는 코드 실행 과정에서 nums_map의 변화를 추적하기 위한 디버깅용입니다."
   ]
  },
  {
   "cell_type": "code",
   "execution_count": null,
   "metadata": {},
   "outputs": [],
   "source": [
    "def solution(sizes):\n",
    "    w = []\n",
    "    h = []\n",
    "    for i in range(len(sizes)):\n",
    "        if sizes[i][0] >= sizes[i][1]:\n",
    "            w.append(sizes[i][0])\n",
    "            h.append(sizes[i][1])\n",
    "        else:\n",
    "            h.append(sizes[i][0])\n",
    "            w.append(sizes[i][1])\n",
    "\n",
    "    return max(w) * max(h)"
   ]
  },
  {
   "cell_type": "code",
   "execution_count": null,
   "metadata": {},
   "outputs": [],
   "source": [
    "# 추가 내용\n",
    "\n",
    "matrix = [\n",
    "    [1, 2, 3],\n",
    "    [4, 5, 6],\n",
    "    [7, 8, 9]\n",
    "]\n",
    "\n",
    "# 첫 번째 행의 첫 번째 요소 접근\n",
    "print(matrix[0][0])  # 출력: 1\n",
    "\n",
    "# 두 번째 행의 세 번째 요소 접근\n",
    "print(matrix[1][2])  # 출력: 6\n",
    "\n",
    "# 2차원 배열의 요소에 접근하려면 두 개의 인덱스를 사용합니다.\n",
    "# 하나는 행(row)을, 다른 하나는 열(column)을 나타냅니다.\n",
    "\n",
    "# 첫 번째 행의 두 번째 요소 수정\n",
    "matrix[0][1] = 20\n",
    "print(matrix[0][1])  # 출력: 20\n",
    "\n",
    "# 세 번째 행의 첫 번째 요소 수정\n",
    "matrix[2][0] = 70\n",
    "print(matrix[2][0])  # 출력: 70\n",
    "\n",
    "# 0으로 초기화된 3x3 배열\n",
    "matrix = [[0 for _ in range(3)] for _ in range(3)]\n",
    "print(matrix)  # 출력: [[0, 0, 0], [0, 0, 0], [0, 0, 0]]\n",
    "\n",
    "# 2차원 배열의 모든 요소를 출력\n",
    "# 2차원 배열의 순회.\n",
    "for row in matrix:\n",
    "    for element in row:\n",
    "        print(element, end=' ')\n",
    "    print()"
   ]
  },
  {
   "cell_type": "code",
   "execution_count": null,
   "metadata": {},
   "outputs": [],
   "source": [
    "# 2차원 배열의 합계 계산\n",
    "matrix = [\n",
    "    [1, 2, 3],\n",
    "    [4, 5, 6],\n",
    "    [7, 8, 9]\n",
    "]\n",
    "\n",
    "total_sum = 0\n",
    "for row in matrix:\n",
    "    for element in row:\n",
    "        total_sum += element\n",
    "\n",
    "print(total_sum)  # 출력: 45\n",
    "\n",
    "# 두 번째 행의 합계\n",
    "row_sum = sum(matrix[1])\n",
    "print(row_sum)  # 출력: 15\n",
    "\n",
    "# 세 번째 열의 합계\n",
    "col_sum = sum(row[2] for row in matrix)\n",
    "print(col_sum)  # 출력: 18"
   ]
  },
  {
   "cell_type": "code",
   "execution_count": null,
   "metadata": {},
   "outputs": [],
   "source": [
    "# 2차원 배열을 함수로 처리\n",
    "def double_elements(matrix):\n",
    "    for i in range(len(matrix)):\n",
    "        for j in range(len(matrix[i])):\n",
    "            matrix[i][j] *= 2\n",
    "    return matrix\n",
    "\n",
    "# 예제 배열\n",
    "matrix = [\n",
    "    [1, 2, 3],\n",
    "    [4, 5, 6],\n",
    "    [7, 8, 9]\n",
    "]\n",
    "\n",
    "# 함수 호출\n",
    "doubled_matrix = double_elements(matrix)\n",
    "print(doubled_matrix)\n",
    "# 출력: [[2, 4, 6], [8, 10, 12], [14, 16, 18]]"
   ]
  },
  {
   "cell_type": "markdown",
   "metadata": {},
   "source": [
    "### 딕셔너리 (Dictionary)\n",
    "\n",
    "1. **정의**: 키와 값의 쌍으로 이루어진 데이터 구조입니다. 각 키는 유일하며, 각 키는 하나의 값과 매핑됩니다.\n",
    "2. **구문**: `{키1: 값1, 키2: 값2, ...}` 형태로 선언합니다.\n",
    "3. **특징**:\n",
    "    - **키는 유일**: 각 키는 중복될 수 없습니다.\n",
    "    - **순서 보장**: 파이썬 3.7부터 삽입 순서를 보장합니다. 딕셔너리에 항목을 추가한 순서대로 저장되고 순회할 수 있습니다.\n",
    "    - **빠른 검색**: 키를 이용해 값을 빠르게 검색할 수 있습니다.\n",
    "    - **가변성**: 값을 추가, 삭제, 변경할 수 있습니다."
   ]
  },
  {
   "cell_type": "code",
   "execution_count": null,
   "metadata": {},
   "outputs": [],
   "source": [
    "my_dict = {\n",
    "    \"name\": \"Alice\",\n",
    "    \"age\": 25,\n",
    "    \"city\": \"New York\"\n",
    "}"
   ]
  },
  {
   "cell_type": "markdown",
   "metadata": {},
   "source": [
    "### 딕셔너리의 주요 특징\n",
    "\n",
    "1. **키-값 쌍 (Key-Value Pairs)**: 딕셔너리는 각 항목이 고유한 키와 그에 대응하는 값으로 구성됩니다.\n",
    "2. **비순차적 (Unordered)**: 딕셔너리는 항목들이 입력된 순서를 유지하지 않습니다. (파이썬 3.7부터는 입력된 순서를 유지합니다.)\n",
    "3. **가변성 (Mutable)**: 딕셔너리는 생성된 이후에도 키-값 쌍을 추가, 제거, 수정할 수 있습니다.\n",
    "4. **키는 유일해야 함 (Unique Keys)**: 딕셔너리의 키는 중복될 수 없습니다. 값은 중복될 수 있습니다."
   ]
  },
  {
   "cell_type": "markdown",
   "metadata": {},
   "source": [
    "### 딕셔너리의 기본 연산\n",
    "\n",
    "1. **항목 접근 (Accessing Items)**:"
   ]
  },
  {
   "cell_type": "code",
   "execution_count": null,
   "metadata": {},
   "outputs": [],
   "source": [
    "# 빈 딕셔너리 생성\n",
    "empty_dict = {}\n",
    "\n",
    "# 키-값 쌍을 포함한 딕셔너리 생성\n",
    "person = {\n",
    "    \"name\": \"John\",\n",
    "    \"age\": 30,\n",
    "    \"city\": \"New York\"\n",
    "}\n",
    "\n",
    "print(person[\"name\"])  # \"John\"\n",
    "print(person.get(\"age\"))  # 30\n"
   ]
  },
  {
   "cell_type": "markdown",
   "metadata": {},
   "source": [
    "2. **항목 추가 및 수정 (Adding and Modifying Items)**:"
   ]
  },
  {
   "cell_type": "code",
   "execution_count": null,
   "metadata": {},
   "outputs": [],
   "source": [
    "# 빈 딕셔너리 생성\n",
    "empty_dict = {}\n",
    "\n",
    "# 키-값 쌍을 포함한 딕셔너리 생성\n",
    "person = {\n",
    "    \"name\": \"John\",\n",
    "    \"age\": 30,\n",
    "    \"city\": \"New York\"\n",
    "}\n",
    "\n",
    "person[\"email\"] = \"john@example.com\"  # 항목 추가\n",
    "person[\"age\"] = 31  # 항목 수정\n",
    "print(person)"
   ]
  },
  {
   "cell_type": "markdown",
   "metadata": {},
   "source": [
    "3. **항목 제거 (Removing Items)**:"
   ]
  },
  {
   "cell_type": "code",
   "execution_count": null,
   "metadata": {},
   "outputs": [],
   "source": [
    "# 빈 딕셔너리 생성\n",
    "empty_dict = {}\n",
    "\n",
    "# 키-값 쌍을 포함한 딕셔너리 생성\n",
    "person = {\n",
    "    \"name\": \"John\",\n",
    "    \"age\": 30,\n",
    "    \"city\": \"New York\"\n",
    "}\n",
    "\n",
    "del person[\"city\"]\n",
    "print(person)\n",
    "\n",
    "email = person.pop(\"email\")\n",
    "print(email)  # \"john@example.com\"\n",
    "print(person)"
   ]
  },
  {
   "cell_type": "markdown",
   "metadata": {},
   "source": [
    "4. **모든 항목 제거 (Clearing All Items)**:"
   ]
  },
  {
   "cell_type": "code",
   "execution_count": null,
   "metadata": {},
   "outputs": [],
   "source": [
    "# 빈 딕셔너리 생성\n",
    "empty_dict = {}\n",
    "\n",
    "# 키-값 쌍을 포함한 딕셔너리 생성\n",
    "person = {\n",
    "    \"name\": \"John\",\n",
    "    \"age\": 30,\n",
    "    \"city\": \"New York\"\n",
    "}\n",
    "\n",
    "person.clear()\n",
    "print(person)  # {}"
   ]
  },
  {
   "cell_type": "markdown",
   "metadata": {},
   "source": [
    "### 딕셔너리의 주요 메소드\n",
    "\n",
    "1. **keys()**: 딕셔너리의 모든 키를 반환합니다."
   ]
  },
  {
   "cell_type": "code",
   "execution_count": null,
   "metadata": {},
   "outputs": [],
   "source": [
    "keys = person.keys()\n",
    "print(keys)  # dict_keys(['name', 'age'])"
   ]
  },
  {
   "cell_type": "markdown",
   "metadata": {},
   "source": [
    "2. **values()**: 딕셔너리의 모든 값을 반환합니다."
   ]
  },
  {
   "cell_type": "code",
   "execution_count": null,
   "metadata": {},
   "outputs": [],
   "source": [
    "values = person.values()\n",
    "print(values)  # dict_values(['John', 31])"
   ]
  },
  {
   "cell_type": "markdown",
   "metadata": {},
   "source": [
    "3. **items()**: 딕셔너리의 모든 키-값 쌍을 반환합니다."
   ]
  },
  {
   "cell_type": "code",
   "execution_count": null,
   "metadata": {},
   "outputs": [],
   "source": [
    "items = person.items()\n",
    "print(items)  # dict_items([('name', 'John'), ('age', 31)])"
   ]
  },
  {
   "cell_type": "markdown",
   "metadata": {},
   "source": [
    "4. **update()**: 딕셔너리의 항목을 업데이트합니다."
   ]
  },
  {
   "cell_type": "code",
   "execution_count": null,
   "metadata": {},
   "outputs": [],
   "source": [
    "person.update({\"age\": 32, \"city\": \"Boston\"})\n",
    "print(person)"
   ]
  },
  {
   "cell_type": "markdown",
   "metadata": {},
   "source": [
    "### 딕셔너리 활용 예제\n",
    "\n",
    "- 딕셔너리는 데이터 검색, 추가, 수정에 매우 효율적이며, 다양한 용도로 사용할 수 있습니다.\n",
    "- 예를 들어, 특정 조건을 만족하는 항목만을 선택하거나, 데이터를 그룹화하는 데 사용할 수 있습니다."
   ]
  },
  {
   "cell_type": "code",
   "execution_count": null,
   "metadata": {},
   "outputs": [],
   "source": [
    "# 예제: 조건을 만족하는 항목 선택\n",
    "students = {\n",
    "    \"Alice\": 85,\n",
    "    \"Bob\": 75,\n",
    "    \"Charlie\": 90\n",
    "}\n",
    "\n",
    "high_scores = {k: v for k, v in students.items() if v > 80}\n",
    "print(high_scores)  # {'Alice': 85, 'Charlie': 90}"
   ]
  },
  {
   "cell_type": "markdown",
   "metadata": {},
   "source": [
    "### 집합 (Set)\n",
    "\n",
    "1. **정의**: 유일한 요소들의 모음입니다. 중복된 요소가 없으며, 순서가 없습니다.\n",
    "2. **구문**: `{값1, 값2, 값3, ...}` 형태로 선언합니다.\n",
    "3. **특징**:\n",
    "    - **중복 없음**: 중복된 요소가 저장되지 않습니다.\n",
    "    - **순서 없음**: 요소의 순서가 없습니다.\n",
    "    - **빠른 멤버십 테스트**: 특정 요소가 집합에 있는지 빠르게 확인할 수 있습니다.\n",
    "    - **가변성**: 요소를 추가, 삭제할 수 있습니다."
   ]
  },
  {
   "cell_type": "code",
   "execution_count": null,
   "metadata": {},
   "outputs": [],
   "source": [
    "my_set = {\"apple\", \"banana\", \"cherry\"}"
   ]
  },
  {
   "cell_type": "markdown",
   "metadata": {},
   "source": [
    "### 주요 차이점\n",
    "\n",
    "1. **데이터 저장 방식**:\n",
    "    - **딕셔너리**: 키와 값의 쌍으로 데이터를 저장.\n",
    "    - **집합**: 단순히 유일한 요소들만 저장.\n",
    "2. **접근 방식**:\n",
    "    - **딕셔너리**: 키를 사용하여 값에 접근.\n",
    "    - **집합**: 특정 요소가 집합에 있는지 여부만 확인.\n",
    "3. **용도**:\n",
    "    - **딕셔너리**: 매핑 관계를 유지할 때 유용.\n",
    "    - **집합**: 유일한 값들의 컬렉션을 관리할 때 유용."
   ]
  },
  {
   "cell_type": "code",
   "execution_count": null,
   "metadata": {},
   "outputs": [],
   "source": [
    "# 딕셔너리 예시\n",
    "my_dict = {\"name\": \"Alice\", \"age\": 25, \"city\": \"New York\"}\n",
    "print(my_dict[\"name\"])  # Output: Alice\n",
    "\n",
    "# 집합 예시\n",
    "my_set = {\"apple\", \"banana\", \"cherry\"}\n",
    "print(\"apple\" in my_set)  # Output: True\n",
    "\n",
    "# 딕셔너리에 값 추가\n",
    "my_dict[\"email\"] = \"alice@example.com\"\n",
    "\n",
    "# 집합에 요소 추가\n",
    "my_set.add(\"date\")\n"
   ]
  },
  {
   "cell_type": "markdown",
   "metadata": {},
   "source": [
    "# 폰켓몬 문제"
   ]
  },
  {
   "cell_type": "code",
   "execution_count": null,
   "metadata": {},
   "outputs": [],
   "source": [
    "def solution(nums):\n",
    "    \n",
    "    # 중복 제거한 폰켓몬 종류의 수\n",
    "    poncatmon_kind_num = len(set(nums))\n",
    "    \n",
    "    # 고를 수 있는 폰켓몬 수\n",
    "    catch_num = len(nums) // 2\n",
    "    \n",
    "    # (폰켓몬 종류의 수)와 (고를 수 있는 수) 중에 교집합 하는 수가 답.\n",
    "    # 둘 중 작은 게 답.\n",
    "    result = min(poncatmon_kind_num, catch_num)\n",
    "    \n",
    "    return result"
   ]
  },
  {
   "cell_type": "code",
   "execution_count": null,
   "metadata": {},
   "outputs": [],
   "source": [
    "def solution(nums):\n",
    "    n = len(nums) / 2       # 가져갈 수 있는 폰켓몬 수\n",
    "    types = len(set(nums))  # 폰켓몬의 종류\n",
    "    return min(n, types)"
   ]
  },
  {
   "cell_type": "markdown",
   "metadata": {},
   "source": [
    "# 완주하지 못한 선수"
   ]
  },
  {
   "cell_type": "markdown",
   "metadata": {},
   "source": [
    "- Sort/Loop을 사용한 solution"
   ]
  },
  {
   "cell_type": "code",
   "execution_count": null,
   "metadata": {},
   "outputs": [],
   "source": [
    "def solution(participant, completion):\n",
    "    answer = ''\n",
    "\n",
    "    # 1. 두 list를 sorting한다\n",
    "    participant.sort()\n",
    "    completion.sort()\n",
    "\n",
    "    # 2. completeion list의 len만큼 participant를 찾아서 없는 사람을 찾는다\n",
    "    for i in range(len(completion)):\n",
    "        if(participant[i] != completion[i]):\n",
    "            return participant[i]\n",
    "\n",
    "    # 3. 전부 다 돌아도 없을 경우에는 마지막 주자가 완주하지 못한 선수이다.\n",
    "    return participant[len(participant)-1]\n",
    "\n",
    "print(solution([\"marina\", \"josipa\", \"nikola\", \"vinko\", \"filipa\"]\n",
    ", [\"josipa\", \"filipa\", \"marina\", \"nikola\"]))"
   ]
  },
  {
   "cell_type": "markdown",
   "metadata": {},
   "source": [
    "- Hash를 사용한 solution"
   ]
  },
  {
   "cell_type": "code",
   "execution_count": null,
   "metadata": {},
   "outputs": [],
   "source": [
    "def solution(participant, completion):\n",
    "    hashDict = {}\n",
    "    sumHash = 0\n",
    "    \n",
    "    # 1. Hash : Participant의 dictionary 만들기\n",
    "    # 2. Participant의 sum(hash) 구하기\n",
    "    for part in participant:\n",
    "        hashDict[hash(part)] = part\n",
    "        sumHash += hash(part)\n",
    "    \n",
    "    # 3. completion의 sum(hash) 빼기\n",
    "    for comp in completion:\n",
    "        sumHash -= hash(comp)\n",
    "    \n",
    "    # 4. 남은 값이 완주하지 못한 선수의 hash 값이 된다\n",
    "\n",
    "    return hashDict[sumHash]\n",
    "\n",
    "print(solution([\"marina\", \"josipa\", \"nikola\", \"vinko\", \"filipa\"]\n",
    ", [\"josipa\", \"filipa\", \"marina\", \"nikola\"]))"
   ]
  },
  {
   "cell_type": "markdown",
   "metadata": {},
   "source": [
    "- Counter를 사용한 solution"
   ]
  },
  {
   "cell_type": "code",
   "execution_count": null,
   "metadata": {},
   "outputs": [],
   "source": [
    "import collections\n",
    "def solution(participant, completion):\n",
    "    # 1. participant의 Counter를 구한다\n",
    "    # 2. completion의 Counter를 구한다\n",
    "    # 3. 둘의 차를 구하면 정답만 남아있는 counter를 반환한다\n",
    "    answer = collections.Counter(participant) - collections.Counter(completion)\n",
    "    \n",
    "    # 4. counter의 key값을 반환한다\n",
    "    return list(answer.keys())[0]\n",
    "\n",
    "print(solution([\"marina\", \"josipa\", \"nikola\", \"vinko\", \"filipa\"]\n",
    ", [\"josipa\", \"filipa\", \"marina\", \"nikola\"]))"
   ]
  },
  {
   "cell_type": "markdown",
   "metadata": {},
   "source": [
    "- 강사님 풀이"
   ]
  },
  {
   "cell_type": "code",
   "execution_count": null,
   "metadata": {},
   "outputs": [],
   "source": [
    "from collections import defaultdict\n",
    "# defaultdict를 import로 불러온다.\n",
    "\n",
    "def solution(participant, completion):\n",
    "# participant, completion의 인자를 가진 solution 을 정의.\n",
    "    \n",
    "    p_dict = defaultdict(int)\n",
    "    # p_dict 디렉토리를 만드는데 디폴트값이 int.\n",
    "    \n",
    "    for p in participant:\n",
    "        p_dict[p] += 1\n",
    "        \n",
    "    for c in completion:\n",
    "        p_dict[c] -= 1\n",
    "        if p_dict[c] == 0:\n",
    "            del p_dict[c]\n",
    "        \n",
    "    \n",
    "    return (list(p_dict.keys())[0])"
   ]
  },
  {
   "cell_type": "code",
   "execution_count": null,
   "metadata": {},
   "outputs": [],
   "source": [
    "from collections import Counter\n",
    "\n",
    "def solution(participant, completion):\n",
    "    \n",
    "    p_dict = Counter(participant)\n",
    "    c_dict = Counter(completion)\n",
    "    \n",
    "    answer = p_dict - c_dict\n",
    "    return list(answer.keys())[0]"
   ]
  },
  {
   "cell_type": "markdown",
   "metadata": {},
   "source": [
    "# 보석과 돌 문제"
   ]
  },
  {
   "cell_type": "markdown",
   "metadata": {},
   "source": [
    "- defaultdict를 이용한 비교 생략"
   ]
  },
  {
   "cell_type": "code",
   "execution_count": null,
   "metadata": {},
   "outputs": [],
   "source": [
    "class Solution:\n",
    "    def numJewelsInStones(self, jewels: str, stones: str) -> int:\n",
    "        freqs = collections.defaultdict(int)\n",
    "        count = 0\n",
    "        \n",
    "        # 조건절 없이 빈도 수 계산\n",
    "        for s in stones:\n",
    "            freqs[s] += 1\n",
    "            # if s not in freqs:\n",
    "            # freqs[s] = 1\n",
    "            # else:\n",
    "            \n",
    "        # freqs = {'a': 1, 'A': 2, 'b': 4}\n",
    "        \n",
    "        for j in jewels:\n",
    "            if j in freqs:\n",
    "                count += freqs[j]\n",
    "                \n",
    "        return count"
   ]
  },
  {
   "cell_type": "markdown",
   "metadata": {},
   "source": [
    "- Counter로 빈도수 계산 생략"
   ]
  },
  {
   "cell_type": "code",
   "execution_count": null,
   "metadata": {},
   "outputs": [],
   "source": [
    "def numJewelsInStones4(jewels: str, stones: str) -> int:\n",
    "    #collections 모듈의 Counter 클래스\n",
    "    #stones을 카운터 함수에 담으면 각각의 인자들의 빈도수를 카운팅\n",
    "    freqs = collections.Counter(stones)\n",
    "    # print(freqs)\n",
    "    # Counter({'b': 4, 'A': 2, 'a': 1})\n",
    "    count = 0\n",
    "\n",
    "    for j in jewels:\n",
    "        count += freqs[j]\n",
    "\n",
    "    return count"
   ]
  },
  {
   "cell_type": "markdown",
   "metadata": {},
   "source": [
    "- 해시 테이블로 이용한 풀이"
   ]
  },
  {
   "cell_type": "code",
   "execution_count": null,
   "metadata": {},
   "outputs": [],
   "source": [
    "def numJewelsInStones2(jewels: str, stones: str) -> int:\n",
    "    # 딕셔너리 선언\n",
    "    freqs = {}\n",
    "    count = 0\n",
    "\n",
    "    # 돌에 있는 값을 하나씩 꺼내서 딕셔너리에 담아서 빈도수를 계산\n",
    "    for s in stones:\n",
    "        if s not in freqs:\n",
    "            freqs[s] = 1\n",
    "        else:\n",
    "            freqs[s] += 1\n",
    "\n",
    "    # freqs = {'a': 1, 'A': 2, 'b': 4}\n",
    "\n",
    "    for j in jewels:\n",
    "        if j in freqs:\n",
    "            # 체크해둔 빈도수랑 보석이랑 비교해서 카운팅 하는 방법\n",
    "            count += freqs[j]\n",
    "\n",
    "    return count"
   ]
  },
  {
   "cell_type": "markdown",
   "metadata": {},
   "source": [
    "- 강사님 풀이"
   ]
  },
  {
   "cell_type": "code",
   "execution_count": null,
   "metadata": {},
   "outputs": [],
   "source": [
    "class Solution:\n",
    "    def numJewelsInStones(self, jewels: str, stones: str) -> int:\n",
    "        result = 0\n",
    "        jewels = set(jewels)\n",
    "        \n",
    "        for stone in stones:\n",
    "            print(f'jewels 목록 {jewels}, 돌은 {stone}')\n",
    "            if stone in jewels:\n",
    "                print('result + 1')\n",
    "                result += 1\n",
    "                \n",
    "        return result"
   ]
  },
  {
   "cell_type": "code",
   "execution_count": null,
   "metadata": {},
   "outputs": [],
   "source": [
    "from collections import Counter\n",
    "\n",
    "class Solution:\n",
    "    def numJewelsInStones(self, jewels: str, stones: str) -> int:\n",
    "        stones = Counter(stones)\n",
    "        \n",
    "        for stone in stones:\n",
    "            print(stone)\n",
    "            \n",
    "        return 0"
   ]
  },
  {
   "cell_type": "code",
   "execution_count": null,
   "metadata": {},
   "outputs": [],
   "source": [
    "from collections import Counter\n",
    "\n",
    "class Solution:\n",
    "    def numJewelsInStones(self, jewels: str, stones: str) -> int:\n",
    "        stones = Counter(stones)\n",
    "        jewels = set(jewels)\n",
    "        result = 0\n",
    "        \n",
    "        for key, value in stones.items():\n",
    "            if key in jewels:\n",
    "                result += value\n",
    "            \n",
    "        return 0"
   ]
  },
  {
   "cell_type": "markdown",
   "metadata": {},
   "source": [
    "# 코드 처리하기 문제"
   ]
  },
  {
   "cell_type": "markdown",
   "metadata": {},
   "source": [
    "- 문자열 code가 주어집니다.\n",
    "- code를 앞에서부터 읽으면서 만약 문자가 \"1\"이면 mode를 바꿉니다.\n",
    "- mode에 따라 code를 읽어가면서 문자열 ret을 만들어냅니다. mode는 0과 1이 있으며,\n",
    "- idx를 0 부터 code의 길이 - 1 까지 1씩 키워나가면서 code[idx]의 값에 따라 다음과 같이 행동합니다.\n",
    "- mode가 0일 때\n",
    "- code[idx]가 \"1\"이 아니면 idx가 짝수일 때만 ret의 맨 뒤에 code[idx]를 추가합니다.\n",
    "- code[idx]가 \"1\"이면 mode를 0에서 1로 바꿉니다.\n",
    "- mode가 1일 때\n",
    "- code[idx]가 \"1\"이 아니면 idx가 홀수일 때만 ret의 맨 뒤에 code[idx]를 추가합니다.\n",
    "- code[idx]가 \"1\"이면 mode를 1에서 0으로 바꿉니다.\n",
    "- 문자열 code를 통해 만들어진 문자열 ret를 return 하는 solution 함수를 완성해 주세요.\n",
    "\n",
    "- 단, 시작할 때 mode는 0이며, return 하려는 ret가 만약 빈 문자열이라면 대신 \"EMPTY\"를 return 합니다."
   ]
  },
  {
   "cell_type": "code",
   "execution_count": null,
   "metadata": {},
   "outputs": [],
   "source": [
    "def solution(code):\n",
    "    \n",
    "    result = '' # 결과를 저장할 빈 문자열\n",
    "    \n",
    "    # mode를 False로 저장, 이는 모드가 0임을 나타냄.\n",
    "    mode = False\n",
    "    \n",
    "    # enumerate를 사용하여 code 문자열을 순회 / idx는 현재 인덱스. i는 현재 문자\n",
    "    for idx, i in enumerate(code):\n",
    "        \n",
    "        # 만약 현재 문자가 '1' 이라면 mode 변경\n",
    "        if i == \"1\":\n",
    "            mode = not mode\n",
    "            continue\n",
    "            \n",
    "        # 만약 mode가 False이고 idx가 짝수라면, 현재 문자를 result에 추가\n",
    "        if not mode and idx%2==0:\n",
    "            result += i\n",
    "            \n",
    "        # 만약 mode가 True이고 idx가 홀수라면, 현재 문자를 result에 추가\n",
    "        elif mode and idx%2==1:\n",
    "            result += i\n",
    "            \n",
    "    # 만약 result가 빈 문자열이라면 \"EMPTY\"를 반환\n",
    "    if not result:\n",
    "        return \"EMPTY\"\n",
    "    \n",
    "    return result # 그러지 않다면 result를 반환"
   ]
  },
  {
   "cell_type": "markdown",
   "metadata": {},
   "source": [
    "# 리트코드 242번 문제"
   ]
  },
  {
   "cell_type": "code",
   "execution_count": null,
   "metadata": {},
   "outputs": [],
   "source": [
    "from collections import Counter, defaultdict\n",
    "\n",
    "class Solution:\n",
    "    def isAnagram(self, s: str, t: str) -> bool:\n",
    "        s_dict = defaultdict(int)\n",
    "        t_dict = defaultdict(int)\n",
    "        t_dict = Counter(s)\n",
    "        t_dict = Counter(t)\n",
    "        s_dict = defaultdict(lambda: 1)\n",
    "        t_dict = defaultdict(lambda: 1)\n",
    "        \n",
    "        for c in s:\n",
    "            s_dict[c] += 1  \n",
    "            \n",
    "        for c in t:\n",
    "            t_dict[c] += 1\n",
    "            \n",
    "        return s_dict == t_dict"
   ]
  },
  {
   "cell_type": "code",
   "execution_count": null,
   "metadata": {},
   "outputs": [],
   "source": [
    "class Solution:\n",
    "    def isAnagram(self, s: str, t: str) -> bool:\n",
    "        s_dict = {}\n",
    "        t_dict = {}\n",
    "        \n",
    "        for c in s:\n",
    "            if c in s_dict:\n",
    "                s_dict[c] += 1  \n",
    "            else:\n",
    "                s_dict[c] = 1\n",
    "                \n",
    "        for c in t:\n",
    "            if c in t_dict:\n",
    "                t_dict[c] -= 1\n",
    "            else:\n",
    "                return False\n",
    "            \n",
    "        print(s_dict == t_dict)\n",
    "        return s_dict == t_dict\n",
    "        # print(id(s_dict), id(t_dict))\n",
    "        # print(id(s_dict) == id(t_dict))\n",
    "        # if s_dict == t_dict:\n",
    "        #       return True\n",
    "        # else:\n",
    "        #       return False"
   ]
  },
  {
   "cell_type": "code",
   "execution_count": null,
   "metadata": {},
   "outputs": [],
   "source": [
    "class Solution:\n",
    "    def isAnagram(self, s: str, t: str) -> bool:\n",
    "        if len(s) != len(t):    # 두 문자열의 길이가 다르면 애너그램일 수 없음.\n",
    "            return False\n",
    "        \n",
    "        # 각 문자의 빈도를 카운트하기 위한 딕셔너리 생성\n",
    "        char_count = {}\n",
    "        \n",
    "        # 첫 번째 문자열을 문자 빈도 카운트\n",
    "        for char in s:\n",
    "            if char in char_count:\n",
    "                char_count[char] += 1\n",
    "            else:\n",
    "                char_count[char] = 1\n",
    "                \n",
    "        # 두 번째 문자열의 문자 빈도를 첫 번째 문자열과 비교하여 감소시킴\n",
    "        for char in t:\n",
    "            if char in char_count:\n",
    "                char_count[char] -= 1\n",
    "            else:\n",
    "                # 두 번째 문자열에 있는 문자가 첫 번째 문자열에 없으면 애너그램이 아님.\n",
    "                return False\n",
    "            \n",
    "        # 모든 문자의 빈도가 0이면 애너그램임\n",
    "        for count in char_count.values():\n",
    "            if count != 0:\n",
    "                return False\n",
    "            \n",
    "        return True"
   ]
  },
  {
   "cell_type": "code",
   "execution_count": null,
   "metadata": {},
   "outputs": [],
   "source": [
    "class Solution:\n",
    "    def isAnagram(self, s: str, t: str) -> bool:\n",
    "        return sorted(s) == sorted(t)"
   ]
  },
  {
   "cell_type": "markdown",
   "metadata": {},
   "source": [
    "- 첫 번째 코드는 두 문자열의 길이를 먼저 비교하여 다르면 바로 False를 반환하고,\n",
    "- 두 번째 코드는 문자열을 정렬하여 비교합니다.\n",
    "\n",
    "- 첫 번째 코드는 각 문자의 빈도를 딕셔너리에 저장하고,\n",
    "- 두 번째 코드는 문자열을 정렬하여 비교합니다.\n",
    "\n",
    "- 첫 번째 코드는 두 번째 문자열의 각 문자 빈도를 첫 번째 문자열과 비교하고,\n",
    "- 두 번째 코드는 정렬된 두 문자열을 직접 비교합니다.\n",
    "\n",
    "- 첫 번째 코드는 모든 문자의 빈도가 0이면 애너그램으로 판단하고,\n",
    "- 두 번째 코드는 정렬된 두 문자열이 동일하면 애너그램으로 판단합니다."
   ]
  },
  {
   "cell_type": "markdown",
   "metadata": {},
   "source": [
    "# 유효한 팰린드롬 문제"
   ]
  },
  {
   "cell_type": "code",
   "execution_count": null,
   "metadata": {},
   "outputs": [],
   "source": [
    "# 리스트를 이용.\n",
    "\n",
    "class Solution:\n",
    "    def isPalindrome(self, s: str) -> bool:\n",
    "        strs = []\n",
    "        for char in s:\n",
    "            if char.isalnum():\n",
    "                strs.append(char.lower())\n",
    "                \n",
    "        while len(strs) > 1:\n",
    "            if strs.pop(0) != strs.pop():\n",
    "                return False\n",
    "        return True"
   ]
  },
  {
   "cell_type": "code",
   "execution_count": null,
   "metadata": {},
   "outputs": [],
   "source": [
    "class Solution:\n",
    "    def isPalindrome(self, s: str) -> bool:\n",
    "        # 알파벳만 남기기\n",
    "        new_s = \"\"\n",
    "        for letter in s:\n",
    "            if letter.isalnum():\n",
    "                new_s += letter\n",
    "        new_s = new_s.lower()\n",
    "        new_array = list(new_s)\n",
    "        \n",
    "        while len(new_array) > 2:\n",
    "            if new_array.pop() != new_array.pop(0): # 마지막값과 첫번째 값 추출\n",
    "                return False\n",
    "            \n",
    "        return True"
   ]
  },
  {
   "cell_type": "code",
   "execution_count": null,
   "metadata": {},
   "outputs": [],
   "source": [
    "class Solution:\n",
    "    def isPalindrome(self, s: str) -> bool:\n",
    "        # 알파벳만 남기기\n",
    "        new_s = \"\"\n",
    "        for letter in s:\n",
    "            if letter.isalnum():\n",
    "                new_s += letter\n",
    "        new_s = new_s.lower()\n",
    "        \n",
    "        return new_s == new_s[::-1]"
   ]
  },
  {
   "cell_type": "code",
   "execution_count": null,
   "metadata": {},
   "outputs": [],
   "source": [
    "# 리스트 컴프리헨션 사용\n",
    "\n",
    "class Solution:\n",
    "    def isPalindrome(self, s: str) -> bool:\n",
    "        # 알파벳만 남기기\n",
    "        \n",
    "        s = ([letter.lower() for letter in s if letter.isalnum])\n",
    "        return s == s[::-1]"
   ]
  },
  {
   "cell_type": "markdown",
   "metadata": {},
   "source": [
    "# 문자열 뒤집기 문제"
   ]
  },
  {
   "cell_type": "code",
   "execution_count": null,
   "metadata": {},
   "outputs": [],
   "source": [
    "class Solution:\n",
    "    def reverseString(self, s: list[str]) -> None:\n",
    "        s.reverse()"
   ]
  },
  {
   "cell_type": "markdown",
   "metadata": {},
   "source": [
    "# 가장 흔한 단어 문제"
   ]
  },
  {
   "cell_type": "code",
   "execution_count": null,
   "metadata": {},
   "outputs": [],
   "source": [
    "from collections import Counter\n",
    "from typing import List\n",
    "\n",
    "class Solution:\n",
    "    def mostCommonWord(self, paragraph: str, banned: List[str]) -> str:\n",
    "        # paragraph = [p.lower() for p in paragraph.split()]\n",
    "        new = \"\"\n",
    "        for i, p in enumerate(paragraph):\n",
    "            if p in \"!?',;.\":\n",
    "                new += \"\"\n",
    "            else:\n",
    "                new += p\n",
    "                \n",
    "        paragraph = new\n",
    "        paragraph = [p.lower() for p in paragraph.split()]\n",
    "        \n",
    "        counter = Counter(paragraph)\n",
    "        for ban in banned:\n",
    "            del counter[ban]\n",
    "        return "
   ]
  },
  {
   "cell_type": "code",
   "execution_count": null,
   "metadata": {},
   "outputs": [],
   "source": [
    "from collections import Counter\n",
    "import re\n",
    "\n",
    "class Solution:\n",
    "    def mostCommonWord(self, paragraph: str, banned: list[str]) -> str:\n",
    "        words = [word for word in re.sub(r'[^\\w]', '', paragraph).lower().split() if word not in banned]\n",
    "        counts = Counter(words)\n",
    "        return counts.most_common(1)[0][0]\n",
    "    \n",
    "# re.sub(r'[^\\w]', '', paragraph)\n",
    "# re모듈을 사용. sub 메소드를 이용해 정규식을 사용하여 문자열을 치환.\n",
    "# re.sub(pattern(바꿔야하는거), replace(변경할내용), text(바꾸고자 하는 문자열)) 형식.\n",
    "# []    = 문자 클래스.\n",
    "# '^'   = 문자 클래스 안에서 사용되면 부정의 의미. 즉. 문자 클래스 안의 문자들을 제외한 나머지를 대체하겠다.\n",
    "# '\\w'  = 단어 문자를 의미. (알파벳 문자나 숫자, 밑줄)\n",
    "# 'r''' = 원시 문자열. 백슬래시를 이스케이프 문자로 해석하지 않고 그대로 취급. r, '' 으로 취급함."
   ]
  },
  {
   "cell_type": "code",
   "execution_count": null,
   "metadata": {},
   "outputs": [],
   "source": [
    "class Solution:\n",
    "    def mostCommonWord(self, paragraph: str, banned: list[str]) -> str:\n",
    "        # banned 리스트를 집합(set)으로 변환하여 O(1) 시간에 포함 여부를 확인할 수 있도록 합니다.\n",
    "        banned_set = set(banned)\n",
    "        # 소문자로 변환된 단어 리스트 생성\n",
    "        words = paragraph.lower().split()\n",
    "        # 구두점 제거\n",
    "        words = [word.strip(\"!?',;.\") for word in words]\n",
    "        # banned에 포함되지 않은 단어들만 필터링\n",
    "        words = [word for word in words if word and word not in banned_set]\n",
    "        # 각 단어의 등장 횟수를 세어줍니다.\n",
    "        counts = {}\n",
    "        for word in words:\n",
    "            counts[word] = counts.get(word, 0) + 1\n",
    "        # 등장 횟수가 가장 많은 단어를 반환합니다.\n",
    "        return max(counts, key=counts.get)\n",
    "\n",
    "# 정규 표현식 대신 split() 메서드를 사용하여 공백 기준으로 문단을 단어로 분리.\n",
    "# 각 단어에서 구두점을 제거하기 위해 strip() 메서드를 활용.\n",
    "# 그 후 banned 단어들을 제외하고 남은 단어들의 등장 횟수를 세어서 가장 많이 등장한 단어를 반환."
   ]
  },
  {
   "cell_type": "markdown",
   "metadata": {},
   "source": [
    "# 로그 파일 재정렬 문제"
   ]
  },
  {
   "cell_type": "code",
   "execution_count": null,
   "metadata": {},
   "outputs": [],
   "source": [
    "from typing import List\n",
    "class Solution:\n",
    "    def reorderLogFiles(self, logs: List[str]) -> List[str]:\n",
    "        letters, digits = [], []\n",
    "        \n",
    "        for log in logs:\n",
    "            if log.split()[1].isdigit():\n",
    "                digits.append(log)\n",
    "            else:\n",
    "                letters.append(log)\n",
    "                \n",
    "        letters.sort(key=lambda x: (x.split()[1:], x.split()[0]))\n",
    "        \n",
    "        return letters + digits"
   ]
  },
  {
   "cell_type": "markdown",
   "metadata": {},
   "source": [
    "## 문자열\n",
    "\n",
    "파이썬에서 문자열(String)은 문자들의 연속적인 시퀀스로, 텍스트 데이터를 다루는 데 사용됩니다. 문자열은 작은 따옴표(`'`)나 큰 따옴표(`\"`)로 감싸서 생성할 수 있습니다.\n",
    "\n",
    "### 문자열의 주요 특징\n",
    "\n",
    "1. **불변성 (Immutable)**: 문자열은 생성된 이후에 변경할 수 없습니다. 새로운 문자열을 생성하여 변경된 내용을 반영할 수 있습니다.\n",
    "2. **시퀀스 타입 (Sequence Type)**: 문자열은 문자들의 순서가 있는 시퀀스입니다. 따라서 인덱싱, 슬라이싱, 반복과 같은 시퀀스 연산이 가능합니다.\n",
    "3. **다양한 표현 방식**: 작은 따옴표, 큰 따옴표, 삼중 따옴표(`'''` 또는 `\"\"\"`)로 문자열을 표현할 수 있습니다. 삼중 따옴표는 여러 줄에 걸친 문자열을 생성할 때 유용합니다."
   ]
  },
  {
   "cell_type": "code",
   "execution_count": null,
   "metadata": {},
   "outputs": [],
   "source": [
    "# 작은 따옴표와 큰 따옴표를 사용한 문자열 생성\n",
    "str1 = 'Hello, World!'\n",
    "str2 = \"Python is fun!\"\n",
    "\n",
    "# 여러 줄 문자열 생성\n",
    "str3 = \"\"\"This is a\n",
    "multi-line\n",
    "string.\"\"\"\n"
   ]
  },
  {
   "cell_type": "markdown",
   "metadata": {},
   "source": [
    "### 문자열의 기본 연산\n",
    "\n",
    "1. **인덱싱 (Indexing)**: 특정 위치의 문자에 접근합니다. (0부터 시작)"
   ]
  },
  {
   "cell_type": "code",
   "execution_count": null,
   "metadata": {},
   "outputs": [],
   "source": [
    "word = \"Python\"\n",
    "print(word[0])  # 'P'\n",
    "print(word[-1]) # 'n' (역순 인덱스)\n"
   ]
  },
  {
   "cell_type": "markdown",
   "metadata": {},
   "source": [
    "2. **슬라이싱 (Slicing)**: 문자열의 부분 문자열을 추출합니다."
   ]
  },
  {
   "cell_type": "code",
   "execution_count": null,
   "metadata": {},
   "outputs": [],
   "source": [
    "# [start:end:stride]\n",
    "\n",
    "print(word[0:2])   # 'Py'\n",
    "print(word[2:])    # 'thon'\n",
    "print(word[:2])    # 'Py'\n",
    "print(word[-2:])   # 'on'\n",
    "print(word[0:4:2]) # 'Pto'\n"
   ]
  },
  {
   "cell_type": "markdown",
   "metadata": {},
   "source": [
    "### 문자열의 기본 연산\n",
    "\n",
    "1. **길이 확인 (Length)**: 문자열의 길이를 확인합니다."
   ]
  },
  {
   "cell_type": "code",
   "execution_count": null,
   "metadata": {},
   "outputs": [],
   "source": [
    "print(len(word))  # 6"
   ]
  },
  {
   "cell_type": "markdown",
   "metadata": {},
   "source": [
    "2. **문자열 결합 (Concatenation)**: 문자열을 결합합니다."
   ]
  },
  {
   "cell_type": "code",
   "execution_count": null,
   "metadata": {},
   "outputs": [],
   "source": [
    "greeting = \"Hello, \" + \"World!\"\n",
    "print(greeting)  # 'Hello, World!'"
   ]
  },
  {
   "cell_type": "markdown",
   "metadata": {},
   "source": [
    "3. **문자열 반복 (Repetition)**: 문자열을 반복합니다."
   ]
  },
  {
   "cell_type": "code",
   "execution_count": null,
   "metadata": {},
   "outputs": [],
   "source": [
    "echo = \"Hello! \" * 3\n",
    "print(echo)  # 'Hello! Hello! Hello! '"
   ]
  },
  {
   "cell_type": "markdown",
   "metadata": {},
   "source": [
    "### 문자열의 주요 메소드\n",
    "\n",
    "1. **대소문자 변환 (Changing Case)**:"
   ]
  },
  {
   "cell_type": "code",
   "execution_count": null,
   "metadata": {},
   "outputs": [],
   "source": [
    "text = \"Hello, World!\"\n",
    "print(text.lower())  # 'hello, world!'\n",
    "print(text.upper())  # 'HELLO, WORLD!'\n",
    "print(text.title())  # 'Hello, World!'"
   ]
  },
  {
   "cell_type": "markdown",
   "metadata": {},
   "source": [
    "2. **공백 제거 (Trimming Whitespaces)**:"
   ]
  },
  {
   "cell_type": "code",
   "execution_count": null,
   "metadata": {},
   "outputs": [],
   "source": [
    "text = \"  Hello, World!  \"\n",
    "print(text.strip())  # 'Hello, World!'\n",
    "print(text.lstrip()) # 'Hello, World!  '\n",
    "print(text.rstrip()) # '  Hello, World!'"
   ]
  },
  {
   "cell_type": "markdown",
   "metadata": {},
   "source": [
    "3. **문자열 분할 (Splitting Strings)**:"
   ]
  },
  {
   "cell_type": "code",
   "execution_count": null,
   "metadata": {},
   "outputs": [],
   "source": [
    "text = \"apple,banana,cherry\"\n",
    "fruits = text.split(\",\")\n",
    "print(fruits)  # ['apple', 'banana', 'cherry']"
   ]
  },
  {
   "cell_type": "markdown",
   "metadata": {},
   "source": [
    "4. **문자열 결합 (Joining Strings)**:"
   ]
  },
  {
   "cell_type": "code",
   "execution_count": null,
   "metadata": {},
   "outputs": [],
   "source": [
    "fruits = [\"apple\", \"banana\", \"cherry\"]\n",
    "text = \", \".join(fruits)\n",
    "print(text)  # 'apple, banana, cherry'"
   ]
  },
  {
   "cell_type": "markdown",
   "metadata": {},
   "source": [
    "5. **문자열 검색 및 대체 (Searching and Replacing Strings)**:"
   ]
  },
  {
   "cell_type": "code",
   "execution_count": null,
   "metadata": {},
   "outputs": [],
   "source": [
    "text = \"Hello, World!\"\n",
    "print(text.find(\"World\"))  # 7\n",
    "print(text.replace(\"World\", \"Python\"))  # 'Hello, Python!'"
   ]
  },
  {
   "cell_type": "markdown",
   "metadata": {},
   "source": [
    "### 문자열 포맷팅 (String Formatting)\n",
    "\n",
    "파이썬에서는 문자열 내에 변수를 삽입하는 다양한 포맷팅 방법을 제공합니다.\n",
    "\n",
    "1. **f-strings (파이썬 3.6+)**:"
   ]
  },
  {
   "cell_type": "code",
   "execution_count": null,
   "metadata": {},
   "outputs": [],
   "source": [
    "name = \"John\"\n",
    "age = 30\n",
    "text = f\"My name is {name} and I am {age} years old.\"\n",
    "print(text)  # 'My name is John and I am 30 years old.'"
   ]
  },
  {
   "cell_type": "markdown",
   "metadata": {},
   "source": [
    "2. **str.format() 메소드**:"
   ]
  },
  {
   "cell_type": "code",
   "execution_count": null,
   "metadata": {},
   "outputs": [],
   "source": [
    "text = \"My name is {} and I am {} years old.\".format(name, age)\n",
    "print(text)  # 'My name is John and I am 30 years old.'"
   ]
  },
  {
   "cell_type": "markdown",
   "metadata": {},
   "source": [
    "3. **퍼센트 연산자 (%)**:"
   ]
  },
  {
   "cell_type": "code",
   "execution_count": null,
   "metadata": {},
   "outputs": [],
   "source": [
    "text = \"My name is %s and I am %d years old.\" % (name, age)\n",
    "print(text)  # 'My name is John and I am 30 years old.'"
   ]
  },
  {
   "cell_type": "markdown",
   "metadata": {},
   "source": [
    "## 시퀀스\n",
    "\n",
    "시퀀스(Sequence)는 항목들이 특정한 순서로 나열된 데이터 구조를 말합니다. 시퀀스는 항목의 순서가 중요하며, 여러 종류의 데이터 타입이 포함될 수 있습니다. 주요 시퀀스 타입으로는 리스트(List), 튜플(Tuple), 문자열(String), 레인지(Range), 바이트열(Bytes), 바이트배열(Bytearray)이 있습니다.\n",
    "\n",
    "### 주요 시퀀스 타입\n",
    "\n",
    "1. **리스트 (List)**:\n",
    "    - 가변적이며 항목을 추가, 제거, 수정할 수 있습니다.\n",
    "    - 대괄호(`[]`)로 생성합니다.\n",
    "    - 예시: `my_list = [1, 2, 3, 4, 5]`\n",
    "2. **튜플 (Tuple)**:\n",
    "    - 불변적이며 생성 후 항목을 변경할 수 없습니다.\n",
    "    - 소괄호(`()`)로 생성합니다.\n",
    "    - 예시: `my_tuple = (1, 2, 3, 4, 5)`\n",
    "3. **문자열 (String)**:\n",
    "    - 불변적이며 문자들의 시퀀스입니다.\n",
    "    - 작은 따옴표(`'`), 큰 따옴표(`\"`), 삼중 따옴표(`'''` 또는 `\"\"\"`)로 생성합니다.\n",
    "    - 예시: `my_string = \"hello\"`\n",
    "4. **레인지 (Range)**:\n",
    "    - 특정한 범위 내의 숫자 시퀀스를 생성합니다.\n",
    "    - `range()` 함수를 사용합니다.\n",
    "    - 예시: `my_range = range(1, 10)`\n",
    "5. **바이트열 (Bytes)**:\n",
    "    - 불변적이며 바이트 시퀀스를 나타냅니다.\n",
    "    - `b''` 또는 `bytes()`로 생성합니다.\n",
    "    - 예시: `my_bytes = b'hello'`\n",
    "6. **바이트배열 (Bytearray)**:\n",
    "    - 가변적이며 바이트 시퀀스를 나타냅니다.\n",
    "    - `bytearray()`로 생성합니다.\n",
    "    - 예시: `my_bytearray = bytearray(b'hello')`"
   ]
  },
  {
   "cell_type": "markdown",
   "metadata": {},
   "source": [
    "- 바이트는 0에서 255까지의 정수 값을 가지는 데이터 단위.\n",
    "- 보통 텍스트가 아닌 이진 데이터를 다룰 때 사용됩니다.\n",
    "- 예를 들어, 이미지, 비디오, 오디오 파일 등을 처리할 때 바이트 단위를 사용합니다."
   ]
  },
  {
   "cell_type": "markdown",
   "metadata": {},
   "source": [
    "### 시퀀스의 공통 연산\n",
    "\n",
    "1. **인덱싱 (Indexing)**: 특정 위치의 항목에 접근합니다."
   ]
  },
  {
   "cell_type": "code",
   "execution_count": null,
   "metadata": {},
   "outputs": [],
   "source": [
    "print(my_list[0])  # 1"
   ]
  },
  {
   "cell_type": "markdown",
   "metadata": {},
   "source": [
    "2. **슬라이싱 (Slicing)**: 시퀀스의 부분 시퀀스를 추출합니다."
   ]
  },
  {
   "cell_type": "code",
   "execution_count": null,
   "metadata": {},
   "outputs": [],
   "source": [
    "print(my_list[1:3])  # [2, 3]"
   ]
  },
  {
   "cell_type": "markdown",
   "metadata": {},
   "source": [
    "3. **길이 확인 (Length)**: 시퀀스의 길이를 확인합니다."
   ]
  },
  {
   "cell_type": "code",
   "execution_count": null,
   "metadata": {},
   "outputs": [],
   "source": [
    "print(len(my_list))  # 5"
   ]
  },
  {
   "cell_type": "markdown",
   "metadata": {},
   "source": [
    "4. **반복 (Iteration)**: 시퀀스를 반복합니다."
   ]
  },
  {
   "cell_type": "code",
   "execution_count": null,
   "metadata": {},
   "outputs": [],
   "source": [
    "for item in my_list:\n",
    "    print(item)"
   ]
  },
  {
   "cell_type": "markdown",
   "metadata": {},
   "source": [
    "5. **멤버십 테스트 (Membership Test)**: 특정 항목의 존재 여부를 확인합니다."
   ]
  },
  {
   "cell_type": "code",
   "execution_count": null,
   "metadata": {},
   "outputs": [],
   "source": [
    "print(2 in my_list)  # True"
   ]
  },
  {
   "cell_type": "markdown",
   "metadata": {},
   "source": [
    "### 시퀀스를 매개변수로 받는 함수와 객체들\n",
    "\n",
    "1. **`len()`**: 시퀀스의 길이를 반환합니다.\n",
    "    \n",
    "    ```python\n",
    "    print(len(my_list))  # 5\n",
    "    \n",
    "    ```\n",
    "    \n",
    "2. **`sorted()`**: 시퀀스를 정렬된 리스트로 반환합니다.\n",
    "    \n",
    "    ```python\n",
    "    sorted_list = sorted(my_list)\n",
    "    print(sorted_list)  # [1, 2, 3, 4, 5]\n",
    "    \n",
    "    ```\n",
    "    \n",
    "3. **`min()` / `max()`**: 시퀀스의 최소값과 최대값을 반환합니다.\n",
    "    \n",
    "    ```python\n",
    "    print(min(my_list))  # 1\n",
    "    print(max(my_list))  # 5\n",
    "    \n",
    "    ```\n",
    "    \n",
    "4. **`sum()`**: 숫자 시퀀스의 합을 반환합니다.\n",
    "    \n",
    "    ```python\n",
    "    print(sum(my_list))  # 15\n",
    "    \n",
    "    ```\n",
    "    \n",
    "5. **`enumerate()`**: 시퀀스를 열거형 객체로 반환합니다.\n",
    "    \n",
    "    ```python\n",
    "    for index, value in enumerate(my_list):\n",
    "        print(index, value)\n",
    "    \n",
    "    ```\n",
    "    \n",
    "6. **`zip()`**: 여러 시퀀스를 병렬로 결합합니다.\n",
    "    \n",
    "    ```python\n",
    "    list1 = [1, 2, 3]\n",
    "    list2 = ['a', 'b', 'c']\n",
    "    zipped = zip(list1, list2)\n",
    "    print(list(zipped))  # [(1, 'a'), (2, 'b'), (3, 'c')]\n",
    "    \n",
    "    ```\n",
    "    \n",
    "7. **`map()`**: 시퀀스의 각 항목에 함수를 적용합니다.\n",
    "    \n",
    "    ```python\n",
    "    def square(x):\n",
    "        return x * x\n",
    "    \n",
    "    squared_list = list(map(square, my_list))\n",
    "    print(squared_list)  # [1, 4, 9, 16, 25]\n",
    "    \n",
    "    ```\n",
    "    \n",
    "8. **`filter()`**: 조건을 만족하는 항목들로 시퀀스를 필터링합니다.\n",
    "\n",
    "    ```python\n",
    "    def is_even(x):\n",
    "        return x % 2 == 0\n",
    "\n",
    "    even_list = list(filter(is_even, my_list))\n",
    "    print(even_list)  # [2, 4]\n",
    "\n",
    "    ```"
   ]
  },
  {
   "cell_type": "markdown",
   "metadata": {},
   "source": [
    "### 시퀀스를 활용한 예제\n",
    "\n",
    "- 다양한 시퀀스 타입과 시퀀스를 매개변수로 받는 함수들을 결합하여 데이터를 효율적으로 처리할 수 있습니다.\n",
    "- 예를 들어, 리스트 컴프리헨션과 `zip()` 함수를 사용하여 두 리스트의 항목을 결합할 수 있습니다."
   ]
  },
  {
   "cell_type": "code",
   "execution_count": null,
   "metadata": {},
   "outputs": [],
   "source": [
    "list1 = [1, 2, 3]\n",
    "list2 = [10, 20, 30]\n",
    "summed_list = [x + y for x, y in zip(list1, list2)]\n",
    "print(summed_list)  # [11, 22, 33]"
   ]
  },
  {
   "cell_type": "markdown",
   "metadata": {},
   "source": [
    "## 스택/큐\n",
    "\n",
    "### 스택 (Stack)\n",
    "\n",
    "스택은 **후입선출**(Last In, First Out, LIFO) 원칙을 따르는 자료 구조입니다. 즉, 가장 나중에 삽입된 데이터가 가장 먼저 제거됩니다. 스택은 다음과 같은 기본 연산을 가집니다:\n",
    "\n",
    "- **push**: 스택의 맨 위에 데이터를 추가합니다.\n",
    "- **pop**: 스택의 맨 위에 있는 데이터를 제거하고 반환합니다.\n",
    "- **peek**: 스택의 맨 위에 있는 데이터를 제거하지 않고 반환합니다.\n",
    "- **is_empty**: 스택이 비어 있는지 확인합니다."
   ]
  },
  {
   "cell_type": "code",
   "execution_count": null,
   "metadata": {},
   "outputs": [],
   "source": [
    "stack = []\n",
    "\n",
    "# push 연산\n",
    "stack.append(1)\n",
    "stack.append(2)\n",
    "stack.append(3)\n",
    "\n",
    "# pop 연산\n",
    "top_element = stack.pop()  # top_element는 3이 됨\n",
    "\n",
    "# peek 연산\n",
    "top_element = stack[-1]  # top_element는 2가 됨\n",
    "\n",
    "# is_empty 연산\n",
    "is_empty = len(stack) == 0\n"
   ]
  },
  {
   "cell_type": "markdown",
   "metadata": {},
   "source": [
    "### 큐 (Queue)\n",
    "\n",
    "큐는 **선입선출**(First In, First Out, FIFO) 원칙을 따르는 자료 구조입니다. 즉, 가장 먼저 삽입된 데이터가 가장 먼저 제거됩니다. 큐는 다음과 같은 기본 연산을 가집니다:\n",
    "\n",
    "- **enqueue**: 큐의 뒤에 데이터를 추가합니다.\n",
    "- **dequeue**: 큐의 앞에 있는 데이터를 제거하고 반환합니다.\n",
    "- **peek**: 큐의 앞에 있는 데이터를 제거하지 않고 반환합니다.\n",
    "- **is_empty**: 큐가 비어 있는지 확인합니다."
   ]
  },
  {
   "cell_type": "code",
   "execution_count": null,
   "metadata": {},
   "outputs": [],
   "source": [
    "from collections import deque\n",
    "\n",
    "queue = deque()\n",
    "\n",
    "# enqueue 연산\n",
    "queue.append(1)\n",
    "queue.append(2)\n",
    "queue.append(3)\n",
    "\n",
    "# dequeue 연산\n",
    "front_element = queue.popleft()  # front_element는 1이 됨\n",
    "\n",
    "# peek 연산\n",
    "front_element = queue[0]  # front_element는 2가 됨\n",
    "\n",
    "# is_empty 연산\n",
    "is_empty = len(queue) == 0\n"
   ]
  },
  {
   "cell_type": "markdown",
   "metadata": {},
   "source": [
    "### 요약\n",
    "\n",
    "- **스택**은 LIFO 원칙을 따르며, `append()`와 `pop()` 메서드를 사용하여 구현할 수 있습니다.\n",
    "- **큐**는 FIFO 원칙을 따르며, `deque` 클래스를 사용하여 `append()`와 `popleft()` 메서드를 통해 구현할 수 있습니다."
   ]
  },
  {
   "cell_type": "markdown",
   "metadata": {},
   "source": [
    "# 큐를 이용한 스택 구현 문제"
   ]
  },
  {
   "cell_type": "code",
   "execution_count": null,
   "metadata": {},
   "outputs": [],
   "source": [
    "class MyStack:\n",
    "    def __init__(self):\n",
    "        self.q = deque()\n",
    "\n",
    "    def push(self, x: int) -> None:\n",
    "        self.q.append(x)\n",
    "        for _ in range(len(self.q) - 1):\n",
    "            self.q.append(self.q.popleft())\n",
    "\n",
    "    def pop(self) -> int:\n",
    "        return self.q.popleft()\n",
    "\n",
    "    def top(self) -> int:\n",
    "        return self.q[0]\n",
    "        \n",
    "\n",
    "    def empty(self) -> bool:\n",
    "        return True if len(self.q) == 0 else False"
   ]
  },
  {
   "cell_type": "markdown",
   "metadata": {},
   "source": [
    "# 스택을 이용한 큐 구현 문제"
   ]
  },
  {
   "cell_type": "code",
   "execution_count": null,
   "metadata": {},
   "outputs": [],
   "source": [
    "class MyQueue:\n",
    "    def __init__(self):\n",
    "        self.Q = []\n",
    "\n",
    "    def push(self, x: int) -> None:\n",
    "        self.Q.append(x)\n",
    "\n",
    "    def pop(self) -> int:\n",
    "        temp = []\n",
    "        while len(self.Q) > 1:\n",
    "            temp.append(self.Q.pop())\n",
    "        ret = self.Q.pop()\n",
    "        while temp:\n",
    "            self.Q.append(temp.pop())\n",
    "        return ret\n",
    "\n",
    "    def peek(self) -> int:\n",
    "        return self.Q[0]\n",
    "\n",
    "    def empty(self) -> bool:\n",
    "        if len(self.Q) == 0:\n",
    "            return True\n",
    "        else:\n",
    "            return False"
   ]
  },
  {
   "cell_type": "markdown",
   "metadata": {},
   "source": [
    "# 기능 개발 문제"
   ]
  },
  {
   "cell_type": "code",
   "execution_count": null,
   "metadata": {},
   "outputs": [],
   "source": [
    "from math import ceil\n",
    "\n",
    "def solution(progresses, speeds):\n",
    "    answer = [0]\n",
    "    \n",
    "    for progresses, speed in zip(progresses, speeds):\n",
    "        spend = ceil((100 - progresses) / speed)\n",
    "        # 마지막 진행된 작업이 소요시간이 더 길면, 그시간으로 넣는다.\n",
    "        answer.append(max(answer[-1], spend))\n",
    "        \n",
    "    answer = answer[1:]\n",
    "    \n",
    "    count = 0   # 소요시간이 같은 작업의 개수\n",
    "    temp = 0    # 이전 작업의 시간\n",
    "    result = []\n",
    "    for a in answer:\n",
    "        # 만약 소요 시간이 이전 작업 소요시간과 동일하지 않다면.\n",
    "        # 배포 시간이 달라짐\n",
    "        if temp != a:\n",
    "            # 소요 시간이 같았던 것들의 개수는 결과 배열에 추가\n",
    "            result.append(count)\n",
    "            # 이전 소요시간 다시 할당\n",
    "            temp = a\n",
    "            # 소요시간이 같았던 것들의 개수 초기화\n",
    "            count = 0\n",
    "        count += 1\n",
    "    result.append(count)\n",
    "       \n",
    "    return result[1:]"
   ]
  },
  {
   "cell_type": "code",
   "execution_count": null,
   "metadata": {},
   "outputs": [],
   "source": [
    "def solution(progresses, speeds):\n",
    "    answer = []\n",
    "    days = 0\n",
    "    cnt = 0\n",
    "    while len(progresses) > 0:\n",
    "        if(progresses[0]+days*speeds[0])>=100:\n",
    "            progresses.pop(0)\n",
    "            speeds.pop(0)\n",
    "            cnt += 1\n",
    "        else:\n",
    "            if cnt > 0:\n",
    "                answer.append(cnt)\n",
    "                cnt = 0\n",
    "            else:\n",
    "                days+=1\n",
    "    answer.append(cnt)\n",
    "    return answer"
   ]
  },
  {
   "cell_type": "markdown",
   "metadata": {},
   "source": [
    "# 일일 온도 문제"
   ]
  },
  {
   "cell_type": "code",
   "execution_count": null,
   "metadata": {},
   "outputs": [],
   "source": [
    "from typing import List\n",
    "class Solution:\n",
    "    def dailyTemperatures(self, T: List[int]) -> List[int]:\n",
    "        \"\"\"\n",
    "        스택으로 접근\n",
    "        \"\"\"\n",
    "        counter = {k:0 for k in range(len(T))} \n",
    "        # counter dict: 인덱스로 해야됨 (동일한 온도가 있을 수 있으므로)\n",
    "        stack = [0]\n",
    "        \n",
    "        for i in range(1,len(T)):\n",
    "            temp = T[i]\n",
    "            while True:\n",
    "                cur_idx = stack.pop()\n",
    "                cur_temp= T[cur_idx]\n",
    "                if cur_temp >= temp: # 현재보다 더 따뜻한 날씨를 못만남 (탐색 실패)\n",
    "                    stack.append(cur_idx) # cur_temp 다시 push\n",
    "                    stack.append(i) # temp도 뒤이어 push\n",
    "                    break # while loop 탈출 -> temp 변경\n",
    "                else: # 탐색 성공\n",
    "                    counter[cur_idx] = i-cur_idx # counter 업데이트하는 부분을 수정\n",
    "                    if not stack: # when stack is empty\n",
    "                        stack.append(i)\n",
    "                        break\n",
    "                                    \n",
    "        while stack:\n",
    "            counter[stack.pop()] = 0\n",
    "        \n",
    "        return list(counter.values())"
   ]
  },
  {
   "cell_type": "markdown",
   "metadata": {},
   "source": [
    "# 더 맵게 문제"
   ]
  },
  {
   "cell_type": "code",
   "execution_count": null,
   "metadata": {},
   "outputs": [],
   "source": [
    "import heapq\n",
    "\n",
    "def solution(scoville, K):\n",
    "    n = 0\n",
    "    heapq.heapify(scoville)\n",
    "    while True:\n",
    "        if len(scoville) == 1 and scoville[0] < K:\n",
    "            return -1\n",
    "        mini = heapq.heappop(scoville)\n",
    "        # 가장 덜 매운게 스코빌 지수 K이상 섞은 횟수 반환\n",
    "        if mini >= K:\n",
    "            return n\n",
    "        second = heapq.heappop(scoville)\n",
    "        heapq.heappush(scoville, mini + second * 2)\n",
    "        # 섞은 횟수\n",
    "        n += 1\n",
    "        "
   ]
  },
  {
   "cell_type": "markdown",
   "metadata": {},
   "source": [
    "# 유효한 괄호 문제"
   ]
  },
  {
   "cell_type": "code",
   "execution_count": null,
   "metadata": {},
   "outputs": [],
   "source": [
    "class Solution:\n",
    "    def isValid(self, s: str) -> bool:\n",
    "        parentheses = {\n",
    "            \"(\" : \")\",\n",
    "            \"{\" : \"}\",\n",
    "            \"[\" : \"]\"\n",
    "        }   # 괄호 짝 대조를 위한 딕셔너리\n",
    "        stack = [] # 여는 괄호를 담을 stack\n",
    "        \n",
    "        for par in s:\n",
    "            if par in parentheses.keys():   # 여는 괄호라면\n",
    "                stack.append(par)           # stack에 push\n",
    "            else:                           # 닫는 괄호\n",
    "                try:\n",
    "                    op = stack.pop()\n",
    "                    if parentheses[op] != par:\n",
    "                        return False\n",
    "                except:                     # 닫는 괄호로 시작하는 경우 예외처리\n",
    "                    return False\n",
    "                \n",
    "        if stack:   # for loop를 마쳤지만. stack에 여는 괄호가 남아있는 경우(짝이 안맞을때)\n",
    "            return False\n",
    "        else:\n",
    "            return True # for loop를 정상적으로 마치면 Valid parentheses."
   ]
  },
  {
   "cell_type": "code",
   "execution_count": null,
   "metadata": {},
   "outputs": [],
   "source": [
    "class Solution:\n",
    "    def isValid(self, s: str) -> bool:\n",
    "        parentheses = {\"(\" : \")\",\"{\" : \"}\",\"[\" : \"]\"}\n",
    "        stack = []\n",
    "\n",
    "        for par in s:\n",
    "            if par in parentheses.keys(): # 여는 괄호라면\n",
    "                stack.append(par) # stack에 push\n",
    "            elif (not stack) or (parentheses[stack.pop()] != par):\n",
    "                # not stack (닫는 괄호로 시작)\n",
    "                # parentheses[stack.pop()] != par (여는 괄호와 닫는 괄호의 짝이 맞지 않을 때)\n",
    "                return False\n",
    "\n",
    "        # 모든 string을 다 탐색했는데 stack이 남아있는 경우에는 False\n",
    "        # stack이 정상적으로 비워져 있다면 True\n",
    "        # 이 모든 경우를 포괄하기 위해서는 stack의 길이가 0인지를 return하도록 함\n",
    "        return len(stack) == 0"
   ]
  },
  {
   "cell_type": "code",
   "execution_count": null,
   "metadata": {},
   "outputs": [],
   "source": [
    "class Solution:\n",
    "    def isValid(self, s: str) -> bool:\n",
    "        # 스택 자료 구조\n",
    "        open_brackets = []\n",
    "        \n",
    "        brackets = {\"(\" : \")\",\"{\" : \"}\",\"[\" : \"]\"}\n",
    "        \n",
    "        for bracket in s:\n",
    "            # 열린 괄호는 스택에 추가\n",
    "            if not bracket in brackets.keys():\n",
    "                open_brackets.append(bracket)\n",
    "            # 닫힌 괄호(bracket)와 열린 괄호(open_brackets 마지막 원소)가 맞지 않다면 거짓 반환\n",
    "            elif len(open_brackets) == 0 or brackets[bracket] != open_brackets[-1]:\n",
    "                return False\n",
    "            # 정상적인 경우 마지막 열린 괄호 삭제\n",
    "            else:\n",
    "                open_brackets.pop()\n",
    "                \n",
    "        return len(open_brackets) == 0\n",
    "        # 열린 괄호들이 pop에 의해 전부 잘 닫쳤는지 확인 후 리턴.           \n",
    "        "
   ]
  },
  {
   "cell_type": "markdown",
   "metadata": {},
   "source": [
    "## 데크\n",
    "\n",
    "### 주요 특징과 연산\n",
    "\n",
    "1. **양쪽 끝에서의 효율적인 연산**\n",
    "    - `append(item)`: O(1) - 아이템을 오른쪽 끝에 추가합니다.\n",
    "    - `appendleft(item)`: O(1) - 아이템을 왼쪽 끝에 추가합니다.\n",
    "    - `pop()`: O(1) - 오른쪽 끝에서 아이템을 제거하고 반환합니다.\n",
    "    - `popleft()`: O(1) - 왼쪽 끝에서 아이템을 제거하고 반환합니다.\n",
    "2. **기타 유용한 메서드**\n",
    "    - `extend(iterable)`: 반복 가능한 객체(iterable)의 모든 아이템을 오른쪽 끝에 추가합니다.\n",
    "    - `extendleft(iterable)`: 반복 가능한 객체의 모든 아이템을 왼쪽 끝에 추가합니다. (이때 순서가 반대로 추가됩니다)\n",
    "    - `rotate(n)`: 덱의 모든 아이템을 오른쪽으로 `n`만큼 회전합니다. `n`이 음수일 경우 왼쪽으로 회전합니다.\n",
    "    - `reverse()`: 덱의 아이템 순서를 뒤집습니다.\n",
    "    - `clear()`: 덱의 모든 아이템을 제거합니다.\n",
    "3. **특징**\n",
    "    - `deque`는 양쪽 끝에서의 삽입과 삭제가 O(1) 시간 복잡도를 가지므로, 성능이 매우 뛰어납니다.\n",
    "    - 리스트와 달리 `deque`는 양쪽 끝에서의 삽입 및 삭제에 최적화되어 있어 중간에서의 삽입 및 삭제에는 적합하지 않습니다."
   ]
  },
  {
   "cell_type": "code",
   "execution_count": null,
   "metadata": {},
   "outputs": [],
   "source": [
    "from collections import deque\n",
    "\n",
    "# 덱 생성\n",
    "d = deque()\n",
    "\n",
    "# 오른쪽 끝에 아이템 추가\n",
    "d.append(1)\n",
    "d.append(2)\n",
    "d.append(3)\n",
    "print(d)  # 출력: deque([1, 2, 3])\n",
    "\n",
    "# 왼쪽 끝에 아이템 추가\n",
    "d.appendleft(0)\n",
    "print(d)  # 출력: deque([0, 1, 2, 3])\n",
    "\n",
    "# 오른쪽 끝에서 아이템 제거 및 반환\n",
    "right_item = d.pop()\n",
    "print(right_item)  # 출력: 3\n",
    "print(d)  # 출력: deque([0, 1, 2])\n",
    "\n",
    "# 왼쪽 끝에서 아이템 제거 및 반환\n",
    "left_item = d.popleft()\n",
    "print(left_item)  # 출력: 0\n",
    "print(d)  # 출력: deque([1, 2])\n",
    "\n",
    "# 반복 가능한 객체의 아이템들을 오른쪽 끝에 추가\n",
    "d.extend([4, 5, 6])\n",
    "print(d)  # 출력: deque([1, 2, 4, 5, 6])\n",
    "\n",
    "# 반복 가능한 객체의 아이템들을 왼쪽 끝에 추가 (순서 반대로)\n",
    "d.extendleft([-1, -2, -3])\n",
    "print(d)  # 출력: deque([-3, -2, -1, 1, 2, 4, 5, 6])\n",
    "\n",
    "# 덱 회전 (오른쪽으로 2칸)\n",
    "d.rotate(2)\n",
    "print(d)  # 출력: deque([5, 6, -3, -2, -1, 1, 2, 4])\n",
    "\n",
    "# 덱 뒤집기\n",
    "d.reverse()\n",
    "print(d)  # 출력: deque([4, 2, 1, -1, -2, -3, 6, 5])\n",
    "\n",
    "# 덱 비우기\n",
    "d.clear()\n",
    "print(d)  # 출력: deque([])\n"
   ]
  },
  {
   "cell_type": "markdown",
   "metadata": {},
   "source": [
    "### 요약\n",
    "\n",
    "- `deque`는 양쪽 끝에서의 빠른 삽입과 삭제가 필요한 경우 매우 유용한 자료 구조입니다.\n",
    "- 스택과 큐의 기능을 모두 지원하며, 다양한 유틸리티 메서드로 여러 상황에서 유연하게 사용할 수 있습니다.\n",
    "- `deque`는 리스트와 비교할 때, 양 끝에서의 연산 성능이 뛰어나므로, 해당 연산이 빈번한 경우에 특히 적합합니다."
   ]
  },
  {
   "cell_type": "markdown",
   "metadata": {},
   "source": [
    "## 힙과 우선순위 큐\n",
    "\n",
    "### 힙 (Heap)\n",
    "\n",
    "힙은 이진 트리 기반의 자료 구조로, 다음과 같은 두 가지 종류가 있습니다:\n",
    "\n",
    "1. **최소 힙 (Min-Heap)**\n",
    "    - 각 부모 노드가 자식 노드보다 작거나 같은 값을 갖습니다. 최솟값이 루트에 위치합니다.\n",
    "2. **최대 힙 (Max-Heap)**\n",
    "    - 각 부모 노드가 자식 노드보다 크거나 같은 값을 갖습니다. 최댓값이 루트에 위치합니다.\n",
    "\n",
    "파이썬의 `heapq` 모듈은 기본적으로 최소 힙을 제공합니다.\n",
    "\n",
    "### 주요 연산\n",
    "\n",
    "1. **삽입**: 힙에 요소를 추가합니다.\n",
    "2. **삭제**: 힙에서 최상위(최소 힙의 경우 최솟값, 최대 힙의 경우 최댓값) 요소를 제거합니다.\n",
    "3. **힙 정렬**: 데이터를 힙 구조로 변환하여 정렬합니다."
   ]
  },
  {
   "cell_type": "code",
   "execution_count": null,
   "metadata": {},
   "outputs": [],
   "source": [
    "import heapq\n",
    "\n",
    "# 빈 힙 생성\n",
    "min_heap = []\n",
    "\n",
    "# 삽입 연산\n",
    "heapq.heappush(min_heap, 3)\n",
    "heapq.heappush(min_heap, 1)\n",
    "heapq.heappush(min_heap, 4)\n",
    "heapq.heappush(min_heap, 2)\n",
    "\n",
    "# 힙에서 최솟값 제거 및 반환\n",
    "min_value = heapq.heappop(min_heap)\n",
    "print(min_value)  # 출력: 1\n",
    "\n",
    "# 힙에서 최솟값 확인 (제거하지 않음)\n",
    "min_value = min_heap[0]\n",
    "print(min_value)  # 출력: 2\n"
   ]
  },
  {
   "cell_type": "markdown",
   "metadata": {},
   "source": [
    "### 최대 힙 구현\n",
    "\n",
    "- 최대 힙을 구현하기 위해서는 삽입할 때 음수 값을 저장하고, 꺼낼 때 다시 음수로 변환하여 사용할 수 있습니다."
   ]
  },
  {
   "cell_type": "code",
   "execution_count": null,
   "metadata": {},
   "outputs": [],
   "source": [
    "# 빈 최대 힙 생성\n",
    "max_heap = []\n",
    "\n",
    "# 삽입 연산 (음수 값을 저장)\n",
    "heapq.heappush(max_heap, -3)\n",
    "heapq.heappush(max_heap, -1)\n",
    "heapq.heappush(max_heap, -4)\n",
    "heapq.heappush(max_heap, -2)\n",
    "\n",
    "# 힙에서 최댓값 제거 및 반환 (음수로 변환)\n",
    "max_value = -heapq.heappop(max_heap)\n",
    "print(max_value)  # 출력: 4\n"
   ]
  },
  {
   "cell_type": "markdown",
   "metadata": {},
   "source": [
    "### 우선 순위 큐 (Priority Queue)\n",
    "\n",
    "- 우선 순위 큐는 요소들이 우선 순위에 따라 처리되는 큐입니다. 힙을 이용하여 효율적으로 구현할 수 있습니다"
   ]
  },
  {
   "cell_type": "code",
   "execution_count": null,
   "metadata": {},
   "outputs": [],
   "source": [
    "import heapq\n",
    "\n",
    "# 빈 우선 순위 큐 생성\n",
    "priority_queue = []\n",
    "\n",
    "# 우선 순위와 함께 삽입 (우선 순위, 값)\n",
    "heapq.heappush(priority_queue, (1, 'task1'))\n",
    "heapq.heappush(priority_queue, (3, 'task3'))\n",
    "heapq.heappush(priority_queue, (2, 'task2'))\n",
    "\n",
    "# 우선 순위가 가장 높은 요소 제거 및 반환\n",
    "priority_task = heapq.heappop(priority_queue)\n",
    "print(priority_task)  # 출력: (1, 'task1')\n"
   ]
  },
  {
   "cell_type": "markdown",
   "metadata": {},
   "source": [
    "### 요약\n",
    "\n",
    "- **힙**은 이진 트리 기반의 자료 구조로, 최소 힙과 최대 힙으로 나뉩니다. 파이썬의 `heapq` 모듈은 기본적으로 최소 힙을 제공합니다.\n",
    "- **우선 순위 큐**는 요소들이 우선 순위에 따라 처리되는 큐로, 힙을 사용하여 구현할 수 있습니다.\n",
    "- `heapq` 모듈은 삽입, 삭제, 정렬 등의 연산을 효율적으로 수행할 수 있도록 합니다."
   ]
  },
  {
   "cell_type": "markdown",
   "metadata": {},
   "source": [
    "## 재귀 함수\n",
    "\n",
    "### 재귀 함수의 기본 구조\n",
    "\n",
    "재귀 함수는 두 가지 주요 부분으로 구성됩니다:\n",
    "\n",
    "1. **기본 조건 (Base Case)**: 재귀 호출을 멈추는 조건입니다. 이 조건이 충족되면 함수는 더 이상 자신을 호출하지 않고 종료됩니다.\n",
    "2. **재귀 조건 (Recursive Case)**: 함수가 자기 자신을 호출하는 부분입니다. 이 부분이 기본 조건을 향해 문제를 축소시킵니다.\n",
    "\n",
    "### 팩토리얼 함수\n",
    "\n",
    "팩토리얼 함수는 양의 정수 `n`에 대해 1부터 `n`까지의 정수를 모두 곱한 결과를 반환하는 함수입니다. 팩토리얼을 재귀적으로 정의하면 다음과 같습니다:\n",
    "\n",
    "- `0! = 1` (기본 조건)\n",
    "- `n! = n * (n-1)!` (재귀 조건)"
   ]
  },
  {
   "cell_type": "code",
   "execution_count": null,
   "metadata": {},
   "outputs": [],
   "source": [
    "def factorial(n):\n",
    "    if n == 0:  # 기본 조건\n",
    "        return 1\n",
    "    else:\n",
    "        return n * factorial(n - 1)  # 재귀 조건\n",
    "\n",
    "print(factorial(5))  # 출력: 120\n"
   ]
  },
  {
   "cell_type": "markdown",
   "metadata": {},
   "source": [
    "### 피보나치 수열\n",
    "\n",
    "피보나치 수열은 각 항이 앞의 두 항의 합인 수열입니다. 첫 번째 항은 0, 두 번째 항은 1입니다. 피보나치 수열을 재귀적으로 정의하면 다음과 같습니다:\n",
    "\n",
    "- `F(0) = 0` (기본 조건)\n",
    "- `F(1) = 1` (기본 조건)\n",
    "- `F(n) = F(n-1) + F(n-2)` (재귀 조건)"
   ]
  },
  {
   "cell_type": "code",
   "execution_count": null,
   "metadata": {},
   "outputs": [],
   "source": [
    "def fibonacci(n):\n",
    "    if n == 0:  # 기본 조건\n",
    "        return 0\n",
    "    elif n == 1:  # 기본 조건\n",
    "        return 1\n",
    "    else:\n",
    "        return fibonacci(n - 1) + fibonacci(n - 2)  # 재귀 조건\n",
    "\n",
    "print(fibonacci(6))  # 출력: 8\n"
   ]
  },
  {
   "cell_type": "markdown",
   "metadata": {},
   "source": [
    "### 재귀 함수의 중요 개념\n",
    "\n",
    "1. **기본 조건**: 반드시 있어야 하며, 없으면 함수가 무한히 호출되어 스택 오버플로(Stack Overflow)가 발생합니다.\n",
    "2. **재귀 조건**: 문제를 기본 조건으로 점진적으로 축소시키는 부분입니다."
   ]
  },
  {
   "cell_type": "markdown",
   "metadata": {},
   "source": [
    "### 장점과 단점\n",
    "\n",
    "### 장점\n",
    "\n",
    "- **단순성**: 문제를 단순하게 표현할 수 있습니다. 복잡한 문제를 재귀적으로 정의하여 쉽게 이해할 수 있습니다.\n",
    "- **분할 정복**: 문제를 작은 부분 문제로 나누어 해결하는 데 유용합니다. 많은 알고리즘이 재귀적으로 구현됩니다.\n",
    "\n",
    "### 단점\n",
    "\n",
    "- **효율성**: 많은 경우 재귀 호출은 함수 호출 스택을 많이 사용하여 메모리 효율이 떨어질 수 있습니다.\n",
    "- **오버헤드**: 재귀 호출 시마다 함수 호출에 따른 오버헤드가 발생합니다.\n",
    "- **스택 오버플로**: 너무 깊은 재귀 호출은 스택 오버플로를 초래할 수 있습니다."
   ]
  },
  {
   "cell_type": "markdown",
   "metadata": {},
   "source": [
    "### 재귀를 반복문으로 변환\n",
    "\n",
    "- 재귀 함수는 때때로 반복문으로 변환할 수 있습니다.\n",
    "- 예를 들어, 위의 팩토리얼 함수는 다음과 같이 반복문을 사용하여 구현할 수 있습니다:"
   ]
  },
  {
   "cell_type": "code",
   "execution_count": null,
   "metadata": {},
   "outputs": [],
   "source": [
    "def factorial_iterative(n):\n",
    "    result = 1\n",
    "    for i in range(1, n + 1):\n",
    "        result *= i\n",
    "    return result\n",
    "\n",
    "print(factorial_iterative(5))  # 출력: 120\n"
   ]
  },
  {
   "cell_type": "markdown",
   "metadata": {},
   "source": [
    "- 피보나치 수열도 다음과 같이 반복문으로 구현할 수 있습니다:"
   ]
  },
  {
   "cell_type": "code",
   "execution_count": null,
   "metadata": {},
   "outputs": [],
   "source": [
    "def fibonacci_iterative(n):\n",
    "    a, b = 0, 1\n",
    "    for _ in range(n):\n",
    "        a, b = b, a + b\n",
    "    return a\n",
    "\n",
    "print(fibonacci_iterative(6))  # 출력: 8\n"
   ]
  },
  {
   "cell_type": "markdown",
   "metadata": {},
   "source": [
    "### 요약\n",
    "\n",
    "- **재귀 함수**는 함수가 자기 자신을 호출하는 함수입니다.\n",
    "- **기본 조건**과 **재귀 조건**을 포함해야 합니다.\n",
    "- **장점**: 단순하게 문제를 표현하고, 분할 정복에 유용합니다.\n",
    "- **단점**: 효율성 문제, 스택 오버플로 위험, 함수 호출 오버헤드.\n",
    "- 재귀 함수는 때때로 **반복문**으로 변환할 수 있습니다."
   ]
  },
  {
   "cell_type": "markdown",
   "metadata": {},
   "source": [
    "## 완전 탐색\n",
    "\n",
    "<aside>\n",
    "💡 완전 탐색(Brute Force)은 가능한 모든 경우를 모두 탐색하여 문제의 해를 찾는 알고리즘 기법입니다.\n",
    "\n",
    "</aside>\n",
    "\n",
    "- 문제의 해를 보장하기 때문에 직관적이며 이해하기 쉽지만, 일반적으로 매우 비효율적\n",
    "- 주로 문제의 입력 크기가 작거나, 최적의 해를 반드시 찾아야 하는 상황에서 사용\n",
    "\n",
    "### 완전 탐색의 특징\n",
    "\n",
    "1. **단순함**: 모든 가능한 경우를 탐색하므로 알고리즘이 매우 단순하고 직관적입니다.\n",
    "2. **보장된 해**: 가능한 모든 경우를 확인하므로, 문제의 해를 반드시 찾을 수 있습니다.\n",
    "3. **비효율성**: 경우의 수가 기하급수적으로 증가할 수 있기 때문에 시간 복잡도가 매우 높아질 수 있습니다.\n",
    "\n",
    "### 완전 탐색의 종류\n",
    "\n",
    "완전 탐색은 여러 방식으로 구현할 수 있으며, 일반적으로 다음과 같은 방법이 사용됩니다:\n",
    "\n",
    "1. **순열 (Permutation)**: 주어진 요소들의 모든 순서를 탐색합니다.\n",
    "2. **조합 (Combination)**: 주어진 요소들 중에서 일부를 선택하는 모든 경우를 탐색합니다.\n",
    "3. **부분 집합 (Subset)**: 주어진 요소들의 모든 부분 집합을 탐색합니다.\n",
    "4. **백트래킹 (Backtracking)**: 불필요한 경우의 수를 줄이기 위해 탐색을 중간에 중단하는 방법입니다."
   ]
  },
  {
   "cell_type": "markdown",
   "metadata": {},
   "source": [
    "### 1. 순열 (Permutation)\n",
    "\n",
    "- 주어진 리스트의 모든 순서를 탐색하는 반복문을 사용한 방법입니다.\n",
    "\n",
    "재귀"
   ]
  },
  {
   "cell_type": "code",
   "execution_count": null,
   "metadata": {},
   "outputs": [],
   "source": [
    "def permute(data, depth, n, result):\n",
    "    if depth == n:\n",
    "        print(result)\n",
    "        return\n",
    "\n",
    "    for i in range(len(data)):\n",
    "        if data[i] not in result:\n",
    "            result.append(data[i])\n",
    "            permute(data, depth + 1, n, result)\n",
    "            result.pop()\n",
    "\n",
    "data = [1, 2, 3]\n",
    "permute(data, 0, len(data), [])"
   ]
  },
  {
   "cell_type": "markdown",
   "metadata": {},
   "source": [
    "스택"
   ]
  },
  {
   "cell_type": "code",
   "execution_count": null,
   "metadata": {},
   "outputs": [],
   "source": [
    "def permute(data):\n",
    "    result = []\n",
    "    stack = [([], data)]\n",
    "\n",
    "    while stack:\n",
    "        perm, items = stack.pop()\n",
    "        if not items:\n",
    "            result.append(perm)\n",
    "        else:\n",
    "            for i in range(len(items)):\n",
    "                new_perm = perm + [items[i]]\n",
    "                new_items = items[:i] + items[i+1:]\n",
    "                stack.append((new_perm, new_items))\n",
    "\n",
    "    return result\n",
    "\n",
    "data = [1, 2, 3]\n",
    "permutations = permute(data)\n",
    "for perm in permutations:\n",
    "    print(perm)\n",
    "\n"
   ]
  },
  {
   "cell_type": "markdown",
   "metadata": {},
   "source": [
    "### 2. 조합 (Combination)\n",
    "\n",
    "- 주어진 리스트에서 특정 개수의 요소를 선택하는 모든 경우를 반복문을 사용하여 탐색하는 방법입니다.\n",
    "\n",
    "재귀"
   ]
  },
  {
   "cell_type": "code",
   "execution_count": null,
   "metadata": {},
   "outputs": [],
   "source": [
    "def combine(data, start, n, k, result):\n",
    "    if len(result) == k:\n",
    "        print(result)\n",
    "        return\n",
    "\n",
    "    for i in range(start, n):\n",
    "        result.append(data[i])\n",
    "        combine(data, i + 1, n, k, result)\n",
    "        result.pop()\n",
    "\n",
    "data = [1, 2, 3]\n",
    "k = 2  # 조합의 크기\n",
    "combine(data, 0, len(data), k, [])"
   ]
  },
  {
   "cell_type": "markdown",
   "metadata": {},
   "source": [
    "스택"
   ]
  },
  {
   "cell_type": "code",
   "execution_count": null,
   "metadata": {},
   "outputs": [],
   "source": [
    "def combine(data, k):\n",
    "    result = []\n",
    "    stack = [(0, [])]\n",
    "\n",
    "    while stack:\n",
    "        start, combination = stack.pop()\n",
    "        if len(combination) == k:\n",
    "            result.append(combination)\n",
    "        else:\n",
    "            for i in range(start, len(data)):\n",
    "                new_combination = combination + [data[i]]\n",
    "                stack.append((i + 1, new_combination))\n",
    "\n",
    "    return result\n",
    "\n",
    "data = [1, 2, 3]\n",
    "k = 2\n",
    "combinations = combine(data, k)\n",
    "for comb in combinations:\n",
    "    print(comb)\n",
    "\n"
   ]
  },
  {
   "cell_type": "markdown",
   "metadata": {},
   "source": [
    "### 3. 부분 집합 (Subset)\n",
    "\n",
    "- 주어진 리스트의 모든 부분 집합을 반복문을 사용하여 탐색하는 방법입니다.\n",
    "\n",
    "재귀"
   ]
  },
  {
   "cell_type": "code",
   "execution_count": null,
   "metadata": {},
   "outputs": [],
   "source": [
    "def subset(data, index, result):\n",
    "    if index == len(data):\n",
    "        print(result)\n",
    "        return\n",
    "\n",
    "    subset(data, index + 1, result)\n",
    "    result.append(data[index])\n",
    "    subset(data, index + 1, result)\n",
    "    result.pop()\n",
    "\n",
    "data = [1, 2, 3]\n",
    "subset(data, 0, [])"
   ]
  },
  {
   "cell_type": "markdown",
   "metadata": {},
   "source": [
    "스택"
   ]
  },
  {
   "cell_type": "code",
   "execution_count": null,
   "metadata": {},
   "outputs": [],
   "source": [
    "def subset(data):\n",
    "    result = [[]]\n",
    "\n",
    "    for item in data:\n",
    "        new_subsets = []\n",
    "        for subset in result:\n",
    "            new_subset = subset + [item]\n",
    "            new_subsets.append(new_subset)\n",
    "        result.extend(new_subsets)\n",
    "\n",
    "    return result\n",
    "\n",
    "data = [1, 2, 3]\n",
    "subsets = subset(data)\n",
    "for s in subsets:\n",
    "    print(s)\n",
    "\n"
   ]
  },
  {
   "cell_type": "markdown",
   "metadata": {},
   "source": [
    "### 설명\n",
    "\n",
    "- **순열** 예제는 스택을 사용하여 모든 가능한 순서를 생성합니다. 각 단계에서 선택된 요소를 제외한 나머지 요소들로 새로운 상태를 생성하여 스택에 추가합니다.\n",
    "- **조합** 예제는 스택을 사용하여 선택된 요소의 개수가 `k`에 도달할 때까지 새로운 요소를 추가합니다. 시작 인덱스를 이용해 중복을 피합니다.\n",
    "- **부분 집합** 예제는 각 요소를 기존 부분 집합에 추가하여 새로운 부분 집합을 생성합니다. 결과 리스트에 모든 부분 집합을 유지합니다.\n",
    "\n",
    "### 요약\n",
    "\n",
    "- **완전 탐색**은 가능한 모든 경우를 탐색하여 해를 찾는 알고리즘 기법입니다.\n",
    "- 모든 경우를 탐색하기 때문에 해를 보장하지만, 경우의 수가 많아지면 비효율적일 수 있습니다.\n",
    "- 다양한 구현 방법이 있으며, 문제의 특성과 크기에 따라 적절히 선택하여 사용해야 합니다."
   ]
  },
  {
   "cell_type": "code",
   "execution_count": null,
   "metadata": {},
   "outputs": [],
   "source": [
    "# 완전 탐색\n",
    "# 순열(Permutation)\n",
    "\n",
    "# 재귀 ver\n",
    "\n",
    "def permute(data, depth, n, result):\n",
    "    if depth == n:\n",
    "        print(result)\n",
    "        return\n",
    "    \n",
    "    for i in range(len(data)):\n",
    "        if data[i] not in result:\n",
    "            result.append(data[i])\n",
    "            permute(data, depth + 1, n, result)\n",
    "            result.pop()\n",
    "            \n",
    "data = [1, 2, 3]\n",
    "permute(data, 0, len(data), [])\n"
   ]
  },
  {
   "cell_type": "code",
   "execution_count": null,
   "metadata": {},
   "outputs": [],
   "source": [
    "# 완전 탐색\n",
    "# 순열(Permutation)\n",
    "\n",
    "# 스택 ver\n",
    "\n",
    "def permute(data):\n",
    "    result = []\n",
    "    stack = [([], data)]\n",
    "    \n",
    "    while stack:\n",
    "        perm, items = stack.pop()\n",
    "        if len(items) == 0: # if not items: 와 같다.\n",
    "            result.append(perm)\n",
    "        else:\n",
    "            for i in range(len(items)):\n",
    "                new_perm = perm + [items[i]]\n",
    "                new_items = items[:i] + items[i+1:]\n",
    "                stack.append((new_perm, new_items))\n",
    "                \n",
    "    return result\n",
    "\n",
    "data = [1, 2, 3]\n",
    "permutations = permute(data)\n",
    "for perm in permutations:\n",
    "    print(perm)"
   ]
  },
  {
   "cell_type": "code",
   "execution_count": null,
   "metadata": {},
   "outputs": [],
   "source": [
    "# 배열의 모든 부분 집합 찾기 문제\n",
    "\n",
    "def find_subsets(arr):\n",
    "    subsets = [[]]\n",
    "    \n",
    "    for num in arr:\n",
    "        subsets += [current + [num] for current in subsets]\n",
    "    return subsets\n",
    "\n",
    "arr = [1, 2, 3]\n",
    "subsets = find_subsets(arr)\n",
    "for subset in subsets:\n",
    "    print(subset)"
   ]
  },
  {
   "cell_type": "code",
   "execution_count": null,
   "metadata": {},
   "outputs": [],
   "source": [
    "# 배열의 모든 부분 집합 찾기 문제 강사님\n",
    "\n",
    "class Solution:\n",
    "    def permute(self, nums: List[int]) -> List[List[int]]:\n",
    "        stack = [([], nums)]\n",
    "        result = []\n",
    "\n",
    "        # while len(stack) > 0:\n",
    "        while stack:\n",
    "            perm, items = stack.pop()\n",
    "            if len(items) == 0: # [1,2,3] len(perm)==3\n",
    "                result.append(perm)\n",
    "            # items = [1, 2, 3]\n",
    "            for i in range(len(items)):\n",
    "                # 새로운 순열의 부분집합을 만듬\n",
    "                new_perm = perm + [items[i]]\n",
    "                # 순열의 부분집합을 만들고 남은 원소들\n",
    "                new_items = items[:i] + items[i + 1:]\n",
    "                stack.append((new_perm, new_items))\n",
    "                print(new_perm, new_items)\n",
    "            \n",
    "        return result"
   ]
  },
  {
   "cell_type": "code",
   "execution_count": null,
   "metadata": {},
   "outputs": [],
   "source": [
    "# 문자열의 모든 순열 찾기\n",
    "\n",
    "def permute(s):\n",
    "    result = []\n",
    "    stack = [('', s)]\n",
    "\n",
    "    while stack:\n",
    "        perm, chars = stack.pop()\n",
    "        if not chars:\n",
    "            result.append(perm)\n",
    "        else:\n",
    "            for i in range(len(chars)):\n",
    "                stack.append((perm + chars[i], chars[:i] + chars[i+1:]))\n",
    "    return result\n",
    "\n",
    "s = \"ABC\"\n",
    "permutations = permute(s)\n",
    "for perm in permutations:\n",
    "    print(perm)"
   ]
  },
  {
   "cell_type": "code",
   "execution_count": null,
   "metadata": {},
   "outputs": [],
   "source": [
    "# 두 수의 모든 조합 찾기\n",
    "\n",
    "def find_combinations(list1, list2):\n",
    "    combinations = []\n",
    "    for num1 in list1:\n",
    "        for num2 in list2:\n",
    "            combinations.append((num1, num2))\n",
    "    return combinations\n",
    "\n",
    "# 테스트\n",
    "list1 = [1, 2]\n",
    "list2 = [3, 4]\n",
    "combinations = find_combinations(list1, list2)\n",
    "for combo in combinations:\n",
    "    print(combo)"
   ]
  },
  {
   "cell_type": "code",
   "execution_count": null,
   "metadata": {},
   "outputs": [],
   "source": [
    "# 백준 팩토리얼2 문제\n",
    "\n",
    "def factorial(n):\n",
    "    if n == 0:\n",
    "        return 1\n",
    "    else:\n",
    "        return n * factorial(n-1)\n",
    "    \n",
    "N = int(input())\n",
    "print(factorial(N))"
   ]
  },
  {
   "cell_type": "code",
   "execution_count": null,
   "metadata": {},
   "outputs": [],
   "source": [
    "# 백준 피보나치수5 문제\n",
    "\n",
    "n = int(input())\n",
    "\n",
    "def fibo(n):\n",
    "    if n == 0:\n",
    "        result = 0\n",
    "    elif n == 1 or n == 2:\n",
    "        result = 1\n",
    "    else:\n",
    "        result = fibo(n-1) + fibo(n-2)\n",
    "    return result\n",
    "print(fibo(n))"
   ]
  },
  {
   "cell_type": "code",
   "execution_count": null,
   "metadata": {},
   "outputs": [],
   "source": [
    "# 백준 블랙잭 문제\n",
    "# 삼중 반복문 이용\n",
    "\n",
    "n, m = map(int, input().split())\n",
    "lst = list(map(int, input().split()))\n",
    "nlst = []\n",
    "\n",
    "for i in range(n):\n",
    "    for j in range(i+1, n):\n",
    "        for k in range(j+1, n):\n",
    "            three = lst[i] + lst[j] + lst[k]\n",
    "            if three > m:\n",
    "                continue\n",
    "            else:\n",
    "                nlst.append(three)\n",
    "print(max(nlst))\n"
   ]
  },
  {
   "cell_type": "code",
   "execution_count": null,
   "metadata": {},
   "outputs": [],
   "source": [
    "# 블랙잭 문제 강사님\n",
    "\n",
    "n, target = map(int, input().split())\n",
    "cards = list(map(int, input().split()))\n",
    "current_max = 0\n",
    "\n",
    "for i in range(n):\n",
    "    for j in range(i + 1, n):\n",
    "        for k in range(j + 1, n):\n",
    "            number = cards[i] + cards[j] + cards[k]\n",
    "            if number <= target and \\\n",
    "                number > current_max:\n",
    "                    current_max = number\n",
    "                    \n",
    "print(current_max)"
   ]
  },
  {
   "cell_type": "code",
   "execution_count": null,
   "metadata": {},
   "outputs": [],
   "source": [
    "# 분해합 문제\n",
    "\n",
    "def digit_sum(n):\n",
    "    # 자연수 n의 각 자리수의 합을 반환하는 함수\n",
    "    return sum(map(int, str(n)))\n",
    "\n",
    "def find_smallest_constructor(n):\n",
    "    for num in range(1, n + 1):\n",
    "        if num + digit_sum(num) == n:\n",
    "            # 분해합이 n과 같은 생성자를 찾았을 때 해당 수 반환\n",
    "            return num\n",
    "    # 생성자를 찾지 못한 경우\n",
    "    return 0\n",
    "\n",
    "# 자연수 N 입력 받기\n",
    "N = int(input())\n",
    "\n",
    "# 가장 작은 생성자 찾기\n",
    "smallest_constructor = find_smallest_constructor(N)\n",
    "\n",
    "if smallest_constructor != 0:\n",
    "    print(smallest_constructor)\n",
    "else:\n",
    "    print(0)"
   ]
  },
  {
   "cell_type": "code",
   "execution_count": null,
   "metadata": {},
   "outputs": [],
   "source": [
    "# 분해합 문제 강사님\n",
    "\n",
    "n = int(input())\n",
    "printed = False\n",
    "\n",
    "# 1부터 시작해서 n까지 숫자를 훑어본다.\n",
    "# 가장 먼저 분해합이 n이 되는 수를 리턴.\n",
    "for number in range(1, n + 1):\n",
    "    sum_of_digits = 0\n",
    "    # for digit in str(number):\n",
    "    #     sum_of_digits += int(digit)\n",
    "    sum_of_digits = sum([int(digit) for digit in str(number)])\n",
    "    if number + sum_of_digits == n:\n",
    "        printed = True\n",
    "        print(number)\n",
    "        break\n",
    "    \n",
    "if printed == False:\n",
    "    print(0)"
   ]
  },
  {
   "cell_type": "code",
   "execution_count": null,
   "metadata": {},
   "outputs": [],
   "source": [
    "# 수학은 비대면 강의 입니다 문제\n",
    " \n",
    "# 다음 연립방정식에서 x와 y의 값을 계산.\n",
    "# ax + by = c\n",
    "# dx + ey = f\n",
    "\n",
    "# -999 이상 999이하 정수만.\n",
    " \n",
    "a, b, c, d, e, f = map(int, input().split())\n",
    "\n",
    "for x in range(-999, 1000):\n",
    "    for y in range(-999, 1000):\n",
    "        if (a*x) + (b*y) == c and (d*x) + (e*y) == f:\n",
    "            print(x,y)"
   ]
  },
  {
   "cell_type": "code",
   "execution_count": null,
   "metadata": {},
   "outputs": [],
   "source": [
    "# 복습 문제 3번\n",
    "\n",
    "def divide(a,b):\n",
    "    try:\n",
    "        return a/b\n",
    "    except ZeroDivisionError:\n",
    "        return \"Cannot divide by zero\"\n",
    "    except TypeError:\n",
    "        return \"올바른 타입이 아닙니다.\"\n",
    "        \n",
    "\n",
    "result = divide(10, 2)\n",
    "print(result)  # 출력: 5.0\n",
    "\n",
    "result = divide(10, 0)\n",
    "print(result)  # 출력: Cannot divide by zero\n",
    "\n",
    "result = divide(10, '0')\n",
    "print(result)  # 출력: 올바른 타입이 아닙니다."
   ]
  },
  {
   "cell_type": "code",
   "execution_count": null,
   "metadata": {},
   "outputs": [],
   "source": [
    "# 복습 문제 6번\n",
    "\n",
    "import random\n",
    "\n",
    "def generate_lotto_numbers():\n",
    "    generated = set()\n",
    "    while len(generated) < 6:\n",
    "        random_number = random.randint(1,45)\n",
    "        generated.add(random_number)\n",
    "    return generated\n",
    "\n",
    "print(generate_lotto_numbers())\n",
    "# 집합 사용\n",
    "        \n",
    "#set(집합)은 add 를 이용하여 추가.\n",
    "# a = set()\n",
    "# a.add(100)\n",
    "# a.add(100)\n",
    "# a.add(100)\n",
    "# a.add(100)\n",
    "# print(a)\n"
   ]
  },
  {
   "cell_type": "code",
   "execution_count": null,
   "metadata": {},
   "outputs": [],
   "source": [
    "import random\n",
    "\n",
    "def generate_lotto_numbers():\n",
    "    generated = []\n",
    "    while len(generated) < 6:\n",
    "        random_number = random.randint(1,45)\n",
    "        if random_number not in generated:\n",
    "            generated.append(random_number)\n",
    "    return generated\n",
    "\n",
    "print(generate_lotto_numbers())\n",
    "# 리스트 사용.\n",
    "# 랜덤값이라 미리 변수에 저장 해두고 사용.\n",
    "# 그때 그때 넣어서 쓰면 랜덤값이라 조건문 돌때 값이 달라짐"
   ]
  },
  {
   "cell_type": "code",
   "execution_count": null,
   "metadata": {},
   "outputs": [],
   "source": [
    "# 복습 문제 7번\n",
    "\n",
    "class Book:\n",
    "    def __init__(self, title, author, year):\n",
    "        # 여기에 코드를 작성하세요\n",
    "        self.title = title\n",
    "        self.author = author\n",
    "        self.year = year\n",
    "        # 객채 생성\n",
    "\n",
    "    def description(self):\n",
    "        # 여기에 코드를 작성하세요\n",
    "        return f\"{self.title} by {self.author}, published in {self.year}\"\n",
    "\n",
    "    def is_classic(self):\n",
    "        # 여기에 코드를 작성하세요\n",
    "        # if 2024 - self.year >= 70:\n",
    "        #     return True\n",
    "        # else:\n",
    "        #     return False\n",
    "        return 2024 - self.year >= 70\n",
    "\n",
    "# 객체 생성 및 사용 예시\n",
    "book1 = Book(\"1984\", \"George Orwell\", 1949)\n",
    "book2 = Book(\"The Great Gatsby\", \"F. Scott Fitzgerald\", 1925)\n",
    "book3 = Book(\"To Kill a Mockingbird\", \"Harper Lee\", 1960)\n",
    "\n",
    "print(book1.description())  # 출력: 1984 by George Orwell, published in 1949\n",
    "print(book2.description())  # 출력: The Great Gatsby by F. Scott Fitzgerald, published in 1925\n",
    "print(book3.description())  # 출력: To Kill a Mockingbird by Harper Lee, published in 1960\n",
    "\n",
    "print(book1.is_classic())  # 출력: True\n",
    "print(book2.is_classic())  # 출력: True\n",
    "print(book3.is_classic())  # 출력: False"
   ]
  },
  {
   "cell_type": "code",
   "execution_count": null,
   "metadata": {},
   "outputs": [],
   "source": [
    "# 복습 문제 12번\n",
    "\n",
    "def list_methods(my_list):\n",
    "    # 1. 3을 리스트의 맨 끝에 추가하세요\n",
    "    my_list.append(3)\n",
    "    # my_list = my_list + [3]\n",
    "    # 2. 5를 리스트의 첫 번째 위치에 추가하세요\n",
    "    my_list.insert(0,5)\n",
    "    # 3. 리스트의 첫 번째 요소를 제거하세요\n",
    "    my_list.pop(0)\n",
    "    # 4. 리스트를 오름차순으로 정렬하세요\n",
    "    my_list.sort()\n",
    "\n",
    "example_list = [4, 2, 1, 5]\n",
    "list_methods(example_list)\n",
    "print(example_list)  # 출력: [1, 2, 3, 4, 5]\n",
    "\n",
    "a = [1,2,3]   # address copy\n",
    "b = a         # value copy\n",
    "c = a.copy()\n",
    "a[0] = 4\n",
    "print(b,c)\n",
    "# 참조값, 값."
   ]
  },
  {
   "cell_type": "code",
   "execution_count": null,
   "metadata": {},
   "outputs": [],
   "source": [
    "# 복습 문제 14번\n",
    "\n",
    "def check_duplicate_keys(dict1, dict2):\n",
    "    # 여기에 코드를 작성하세요\n",
    "    duplicated = set()\n",
    "    \n",
    "    for key1 in dict1.keys():\n",
    "        if key1 in dict2.keys():\n",
    "            duplicated.add(key1)\n",
    "            \n",
    "    for d in duplicated:\n",
    "        print(f\"Key {d} is duplicated\")\n",
    "\n",
    "dict1 = {'a': 1, 'b': 2}\n",
    "dict2 = {'b': 3, 'c': 4}\n",
    "check_duplicate_keys(dict1, dict2)\n",
    "# # 출력:\n",
    "# # Key b is duplicated"
   ]
  },
  {
   "cell_type": "code",
   "execution_count": null,
   "metadata": {},
   "outputs": [],
   "source": [
    "# 복습 문제 18번\n",
    "\n",
    "def set_operations(set1, set2):\n",
    "    # 여기에 코드를 작성하세요\n",
    "    union_set = set1.union(set2)\n",
    "    # union_set = set1 | set2\n",
    "    intersection_set = set1.intersection(set2)\n",
    "    # set1 & set2\n",
    "    difference_set = set1.difference(set2)\n",
    "    # set1 - set2\n",
    "    return union_set, intersection_set, difference_set\n",
    "\n",
    "set1 = {1, 2, 3}\n",
    "set2 = {2, 3, 4}\n",
    "result = set_operations(set1, set2)\n",
    "print(result)  # 출력: ({1, 2, 3, 4}, {2, 3}, {1})\n",
    "\n",
    "\n",
    "# 1~7번에 해당하는 Key가 정점\n",
    "\n",
    "# number = 100\n",
    "# # 출력 결과 : number=100\n",
    "# print(f'number={number}')\n",
    "# print(f'{number=}') # 파이썬 최신버전에선 가능한 문법."
   ]
  },
  {
   "cell_type": "code",
   "execution_count": null,
   "metadata": {},
   "outputs": [],
   "source": [
    "graph = {\n",
    "    1: [2, 3, 4],   # 부모 노드\n",
    "    2: [5],\n",
    "    3: [5],\n",
    "    4: [],\n",
    "    5: [6, 7],\n",
    "    6: [],\n",
    "    7: [3],\n",
    "}\n",
    "\n",
    "def recursive_dfs(v, discovered=[]):\n",
    "    print(f'recrusive_dfs 진입 : 탐색하는 정점: {v}, 여태까지 경로: {discovered=}')\n",
    "    # 우리가 탐색한 경로\n",
    "    discovered.append(v)\n",
    "    print(f'append 함수 호출 : 여태까지 경로 {discovered}')\n",
    "    #print(f'for문 진입 : 탐색한 정점 {v}를 여태까지 경로에 추가합니다.')\n",
    "    print(f'for문 진입 : 탐색한 정점 {v}와 연결된 노드들은 {graph[v]}이고 연결된 노드들을 하나씩 탐색합니다.')\n",
    "    for w in graph[v]: # 정점과 연결된 다른 정점\n",
    "        if w not in discovered: # 이미 탐색한 정점은 거르기\n",
    "            print(f'if문 진입 : 정점 {w}는 아직 탐색하지 않았기 때문에 재귀함수를 호출합니다.')\n",
    "            discovered = recursive_dfs(w, discovered)\n",
    "            print(f'재귀함수 종료 : 정점 {w}에 대한 재귀함수가 종료되었습니다.')\n",
    "    return discovered\n",
    "    \n",
    "print(f'{recursive_dfs(1)=}')"
   ]
  },
  {
   "cell_type": "markdown",
   "metadata": {},
   "source": [
    "## 그래프\n",
    "\n",
    "1. **정점 (Vertex)와 간선 (Edge)**"
   ]
  },
  {
   "cell_type": "markdown",
   "metadata": {},
   "source": [
    "- **정점**: 그래프에서 데이터 항목을 나타내는 개체. 정점은 노드(node)라고도 불립니다.\n",
    "- **간선**: 정점 간의 관계를 나타내는 선. 간선은 링크(link) 또는 아크(arc)라고도 불립니다."
   ]
  },
  {
   "cell_type": "code",
   "execution_count": null,
   "metadata": {},
   "outputs": [],
   "source": [
    "# 인접 행렬로 그래프 표현\n",
    "graph = [\n",
    "    [0, 1, 0, 1],\n",
    "    [1, 0, 1, 0],\n",
    "    [0, 1, 0, 1],\n",
    "    [1, 0, 1, 0]\n",
    "]"
   ]
  },
  {
   "cell_type": "markdown",
   "metadata": {},
   "source": [
    "2. **그래프의 종류**\n",
    "\n",
    "- **무방향 그래프 (Undirected Graph)**: 간선에 방향이 없는 그래프. 정점 A와 B가 연결되어 있으면 A에서 B로, B에서 A로 이동 가능합니다.\n",
    "- **방향 그래프 (Directed Graph)**: 간선에 방향이 있는 그래프. 정점 A에서 B로 가는 경로가 있을 때, A에서 B로는 갈 수 있지만 B에서 A로는 갈 수 없는 경우가 있을 수 있습니다.\n",
    "- **가중 그래프 (Weighted Graph)**: 간선에 가중치가 있는 그래프. 가중치는 두 정점 간의 거리나 비용을 나타냅니다."
   ]
  },
  {
   "cell_type": "markdown",
   "metadata": {},
   "source": [
    "3. **인접 행렬 (Adjacency Matrix)와 인접 리스트 (Adjacency List)**\n",
    "    - **인접 행렬**: 정점 간의 연결을 2차원 배열로 표현. 정점 i와 j가 연결되어 있으면 `matrix[i][j]`는 1, 그렇지 않으면 0.\n",
    "    - **인접 리스트**: 각 정점에 연결된 정점들의 리스트로 표현. 더 적은 메모리를 사용하며, 큰 그래프에서 유리합니다."
   ]
  },
  {
   "cell_type": "code",
   "execution_count": null,
   "metadata": {},
   "outputs": [],
   "source": [
    "# 인접 행렬을 사용한 그래프 표현\n",
    "# A, B, C, D를 각각 0, 1, 2, 3으로 매핑\n",
    "graph = [\n",
    "    [0, 1, 1, 0],  # A\n",
    "    [1, 0, 0, 1],  # B\n",
    "    [1, 0, 0, 1],  # C\n",
    "    [0, 1, 1, 0]   # D\n",
    "]\n",
    "\n",
    "# 그래프 출력\n",
    "for row in graph:\n",
    "    print(row)"
   ]
  },
  {
   "cell_type": "code",
   "execution_count": null,
   "metadata": {},
   "outputs": [],
   "source": [
    "# 인접 리스트를 사용한 그래프 표현\n",
    "graph = {\n",
    "    'A': ['B', 'C'],\n",
    "    'B': ['A', 'D'],\n",
    "    'C': ['A', 'D'],\n",
    "    'D': ['B', 'C']\n",
    "}\n",
    "\n",
    "# 그래프 출력\n",
    "for vertex in graph:\n",
    "    print(f'{vertex}: {graph[vertex]}')"
   ]
  },
  {
   "cell_type": "code",
   "execution_count": null,
   "metadata": {},
   "outputs": [],
   "source": [
    "def factorial(n):\n",
    "    if n == 0:  # 기본 조건\n",
    "        return 1\n",
    "    else:\n",
    "        return n * factorial(n - 1)  # 재귀 조건\n",
    "\n",
    "print(factorial(5))  # 출력: 120\n"
   ]
  },
  {
   "cell_type": "markdown",
   "metadata": {},
   "source": [
    "### 깊이 우선 탐색 (DFS)\n",
    "\n",
    "DFS는 그래프의 한 정점에서 시작하여 가능한 한 깊게 탐색한 후, 더 이상 갈 곳이 없으면 되돌아오는 방식으로 탐색을 진행합니다. 주로 스택을 사용하거나 재귀 호출을 통해 구현됩니다.\n",
    "\n",
    "### 주요 특징\n",
    "\n",
    "- 깊게 탐색 후, 막히면 백트래킹(되돌아가기)하는 방식.\n",
    "- 모든 정점을 방문할 때까지 반복."
   ]
  },
  {
   "cell_type": "markdown",
   "metadata": {},
   "source": [
    "구현 (비재귀)"
   ]
  },
  {
   "cell_type": "code",
   "execution_count": null,
   "metadata": {},
   "outputs": [],
   "source": [
    "def dfs(graph, start):\n",
    "    visited = set()\n",
    "    stack = [start]\n",
    "\n",
    "    while stack:\n",
    "        vertex = stack.pop()\n",
    "        if vertex not in visited:\n",
    "            print(vertex, end=' ')\n",
    "            visited.add(vertex)\n",
    "            for neighbor in reversed(graph[vertex]):\n",
    "                if neighbor not in visited:\n",
    "                    stack.append(neighbor)\n",
    "\n",
    "graph = {\n",
    "    'A': ['B', 'C'],\n",
    "    'B': ['D', 'E'],\n",
    "    'C': ['F', 'G'],\n",
    "    'D': [],\n",
    "    'E': ['H', 'I'],\n",
    "    'F': [],\n",
    "    'G': [],\n",
    "    'H': [],\n",
    "    'I': []\n",
    "}\n",
    "\n",
    "dfs(graph, 'A')\n",
    "# 출력: A C G F B E I H D"
   ]
  },
  {
   "cell_type": "markdown",
   "metadata": {},
   "source": [
    "### 너비 우선 탐색 (BFS)\n",
    "\n",
    "BFS는 그래프의 한 정점에서 시작하여 인접한 모든 정점을 먼저 탐색한 후, 그 다음 단계의 인접 정점을 탐색하는 방식으로 진행됩니다. 주로 큐를 사용하여 구현됩니다.\n",
    "\n",
    "### 주요 특징\n",
    "\n",
    "- 같은 레벨의 정점들을 모두 탐색한 후, 다음 레벨로 이동.\n",
    "- 최단 경로를 찾는 데 유용."
   ]
  },
  {
   "cell_type": "code",
   "execution_count": null,
   "metadata": {},
   "outputs": [],
   "source": [
    "from collections import deque\n",
    "\n",
    "def bfs(graph, start):\n",
    "    visited = set()\n",
    "    queue = deque([start])\n",
    "\n",
    "    while queue:\n",
    "        vertex = queue.popleft()\n",
    "        if vertex not in visited:\n",
    "            print(vertex, end=' ')\n",
    "            visited.add(vertex)\n",
    "            for neighbor in graph[vertex]:\n",
    "                if neighbor not in visited:\n",
    "                    queue.append(neighbor)\n",
    "\n",
    "graph = {\n",
    "    'A': ['B', 'C'],\n",
    "    'B': ['D', 'E'],\n",
    "    'C': ['F', 'G'],\n",
    "    'D': [],\n",
    "    'E': ['H', 'I'],\n",
    "    'F': [],\n",
    "    'G': [],\n",
    "    'H': [],\n",
    "    'I': []\n",
    "}\n",
    "\n",
    "bfs(graph, 'A')\n",
    "# 출력: A B C D E F G H I\n"
   ]
  },
  {
   "cell_type": "markdown",
   "metadata": {},
   "source": [
    "## 깊이 우선 탐색과 너비 우선 탐색의 비교\n",
    "\n",
    "### 차이점\n",
    "\n",
    "1. **탐색 방식**\n",
    "    - DFS: 깊게, 막힐 때까지 탐색한 후 되돌아오기.\n",
    "    - BFS: 넓게, 같은 레벨의 모든 정점을 탐색한 후 다음 레벨로 이동.\n",
    "2. **자료 구조**\n",
    "    - DFS: 스택(비재귀 구현) 또는 재귀 호출(내부적으로 스택 사용).\n",
    "    - BFS: 큐.\n",
    "3. **용도**\n",
    "    - DFS: 그래프의 모든 경로를 탐색하거나, 미로 찾기 등에서 사용.\n",
    "    - BFS: 최단 경로를 찾는 문제에서 유용, 레벨 단위로 탐색.\n",
    "\n",
    "### 요약\n",
    "\n",
    "- **DFS**: 깊이 우선 탐색, 스택을 사용, 모든 경로 탐색에 유리.\n",
    "- **BFS**: 너비 우선 탐색, 큐를 사용, 최단 경로 탐색에 유리.\n",
    "\n",
    "### 팁\n",
    "\n",
    "- DFS가 동작 검증을 하는데 더 쉬워서 자주 사용됨\n",
    "- 종종 어려운 문제들은 DFS가 아닌 BFS로 풀어야 시간 초과가 되지 않는 문제들도 존"
   ]
  },
  {
   "cell_type": "markdown",
   "metadata": {},
   "source": [
    "## 파이썬 알고리즘 인터뷰 구현\n",
    "\n",
    "### DFS, 재귀 함수 - 파이썬 알고리즘 인터뷰 (p.324)"
   ]
  },
  {
   "cell_type": "code",
   "execution_count": null,
   "metadata": {},
   "outputs": [],
   "source": [
    "graph = {\n",
    "    1: [2, 3, 4],\n",
    "    2: [5],\n",
    "    3: [5],\n",
    "    4: [],\n",
    "    5: [6, 7],\n",
    "    6: [],\n",
    "    7: [3],\n",
    "}\n",
    "\n",
    "def recursive_dfs(v, discovered=[]):\n",
    "    discovered.append(v)\n",
    "    for w in graph[v]:\n",
    "        if w not in discovered:\n",
    "            discovered = recursive_dfs(w, discovered)\n",
    "    return discovered\n",
    "    \n",
    "print(f'{recursive_dfs(1)=}')\n",
    "\n",
    "# recursive_dfs(1)=[1, 2, 5, 6, 7, 3, 4]\n",
    "# recursive(재귀적인)"
   ]
  },
  {
   "cell_type": "code",
   "execution_count": null,
   "metadata": {},
   "outputs": [],
   "source": [
    "graph = {\n",
    "    1: [2, 3, 4],   # 부모 노드\n",
    "    2: [5],\n",
    "    3: [5],\n",
    "    4: [],\n",
    "    5: [6, 7],\n",
    "    6: [],\n",
    "    7: [3],\n",
    "}\n",
    "\n",
    "def recursive_dfs(v, discovered=[]):\n",
    "    print(f'recrusive_dfs 진입 : 탐색하는 정점: {v}, 여태까지 경로: {discovered=}')\n",
    "    print()\n",
    "    # 우리가 탐색한 경로\n",
    "    discovered.append(v)\n",
    "    print(f'append 함수 호출 : 여태까지 경로 {discovered}')\n",
    "    print()\n",
    "    #print(f'for문 진입 : 탐색한 정점 {v}를 여태까지 경로에 추가합니다.')\n",
    "    print(f'for문 진입 : 탐색한 정점 {v}와 연결된 노드들은 {graph[v]}이고 연결된 노드들을 하나씩 탐색합니다.')\n",
    "    print()\n",
    "    for w in graph[v]: # 정점과 연결된 다른 정점\n",
    "        if w not in discovered: # 이미 탐색한 정점은 거르기\n",
    "            print(f'if문 진입 : 정점 {w}는 아직 탐색하지 않았기 때문에 재귀함수를 호출합니다.')\n",
    "            print()\n",
    "            discovered = recursive_dfs(w, discovered)\n",
    "            print(f'재귀함수 종료 : 정점 {w}에 대한 재귀함수가 종료되었습니다.')\n",
    "            print()\n",
    "    return discovered\n",
    "    \n",
    "print(f'{recursive_dfs(1)=}')"
   ]
  },
  {
   "cell_type": "markdown",
   "metadata": {},
   "source": [
    "- recrusive_dfs 진입 : 탐색하는 정점: 1, 여태까지 경로: discovered=[]\n",
    "\n",
    "- append 함수 호출 : 여태까지 경로 [1]\n",
    "\n",
    "- for문 진입 : 탐색한 정점 1와 연결된 노드들은 [2, 3, 4]이고 연결된 노드들을 하나씩 탐색합니다.\n",
    "\n",
    "- if문 진입 : 정점 2는 아직 탐색하지 않았기 때문에 재귀함수를 호출합니다.\n",
    "\n",
    "- recrusive_dfs 진입 : 탐색하는 정점: 2, 여태까지 경로: discovered=[1]\n",
    "\n",
    "- append 함수 호출 : 여태까지 경로 [1, 2]\n",
    "\n",
    "- for문 진입 : 탐색한 정점 2와 연결된 노드들은 [5]이고 연결된 노드들을 하나씩 탐색합니다.\n",
    "\n",
    "- if문 진입 : 정점 5는 아직 탐색하지 않았기 때문에 재귀함수를 호출합니다.\n",
    "\n",
    "- recrusive_dfs 진입 : 탐색하는 정점: 5, 여태까지 경로: discovered=[1, 2]\n",
    "\n",
    "- append 함수 호출 : 여태까지 경로 [1, 2, 5]\n",
    "\n",
    "- for문 진입 : 탐색한 정점 5와 연결된 노드들은 [6, 7]이고 연결된 노드들을 하나씩 탐색합니다.\n",
    "\n",
    "- if문 진입 : 정점 6는 아직 탐색하지 않았기 때문에 재귀함수를 호출합니다.\n",
    "\n",
    "- recrusive_dfs 진입 : 탐색하는 정점: 6, 여태까지 경로: discovered=[1, 2, 5]\n",
    "- ...\n",
    "\n",
    "- 재귀함수 종료 : 정점 4에 대한 재귀함수가 종료되었습니다.\n",
    "\n",
    "- recursive_dfs(1)=[1, 2, 5, 6, 7, 3, 4]"
   ]
  },
  {
   "cell_type": "markdown",
   "metadata": {},
   "source": [
    "### DFS, 스택 - 파이썬 알고리즘 인터뷰 (p.325)"
   ]
  },
  {
   "cell_type": "code",
   "execution_count": null,
   "metadata": {},
   "outputs": [],
   "source": [
    "graph = {\n",
    "    1: [2, 3, 4],\n",
    "    2: [5],\n",
    "    3: [5],\n",
    "    4: [],\n",
    "    5: [6, 7],\n",
    "    6: [],\n",
    "    7: [3],\n",
    "}\n",
    "\n",
    "def iterative_dfs(start_v):\n",
    "    discovered = []\n",
    "    stack = [start_v]\n",
    "    while stack:\n",
    "        v = stack.pop()\n",
    "        if v not in discovered:\n",
    "            discovered.append(v)\n",
    "            for w in graph[v]:\n",
    "                stack.append(w)\n",
    "    return discovered\n",
    "\n",
    "print(f'{iterative_dfs(1)=}')\n",
    "\n",
    "# iterative_dfs(1)=[1, 4, 3, 5, 7, 6, 2]"
   ]
  },
  {
   "cell_type": "markdown",
   "metadata": {},
   "source": [
    "## BFS - 파이썬 알고리즘 인터뷰 (p.326)"
   ]
  },
  {
   "cell_type": "code",
   "execution_count": null,
   "metadata": {},
   "outputs": [],
   "source": [
    "def iterative_bfs(start_v):\n",
    "    discovered = [start_v]\n",
    "    queue = [start_v]\n",
    "    while queue:\n",
    "        v = queue.pop(0)\n",
    "        for w in graph[v]:\n",
    "            if w not in discovered:\n",
    "                discovered.append(w)\n",
    "                queue.append(w)\n",
    "    return discovered\n",
    "    \n",
    "    print(f'{iterative_bfs(1)=}')\n",
    "    \n",
    "# iterative_bfs(1)=[1, 2, 3, 4, 5, 6, 7]"
   ]
  },
  {
   "cell_type": "markdown",
   "metadata": {},
   "source": [
    "## 추가 실습"
   ]
  },
  {
   "cell_type": "code",
   "execution_count": null,
   "metadata": {},
   "outputs": [],
   "source": [
    "graph = {\n",
    "    1: [2, 3, 4],   # 부모 노드\n",
    "    2: [5],\n",
    "    3: [5],\n",
    "    4: [],\n",
    "    5: [6, 7],\n",
    "    6: [],\n",
    "    7: [3],\n",
    "}\n",
    "\n",
    "def recursive_dfs(v, discovered=[]):\n",
    "    \n",
    "    print(f'recrusive_dfs 진입 : 탐색하는 정점: {v}, 여태까지 경로: {discovered=}')\n",
    "    print()\n",
    "    \n",
    "    discovered.append(v)\n",
    "\n",
    "    \n",
    "    print(f'append 함수 호출 : 여태까지 경로 {discovered}')\n",
    "    print()\n",
    "    \n",
    "    print(f'for문 진입 : 탐색한 정점 {v}와 연결된 노드들은 {graph[v]}이고 연결된 노드들을 하나씩 탐색합니다.')\n",
    "    print()\n",
    "    \n",
    "    for w in graph[v]:\n",
    "        if w not in discovered:\n",
    "            print(f'if문 진입 : 정점 {w}는 아직 탐색하지 않았기 때문에 재귀함수를 호출합니다.')\n",
    "            print()\n",
    "            \n",
    "            discovered = recursive_dfs(w, discovered)\n",
    "            \n",
    "            print(f'재귀함수 종료 : 정점 {w}에 대한 재귀함수가 종료되었습니다.')\n",
    "            print()\n",
    "            \n",
    "    return discovered\n",
    "\n",
    "print(f'{recursive_dfs(1)=}')"
   ]
  },
  {
   "cell_type": "code",
   "execution_count": null,
   "metadata": {},
   "outputs": [],
   "source": [
    "graph = {\n",
    "    1: [2, 3, 4],\n",
    "    2: [5],\n",
    "    3: [5],\n",
    "    4: [],\n",
    "    5: [6, 7],\n",
    "    6: [],\n",
    "    7: [3],\n",
    "}\n",
    "\n",
    "def iterative_dfs(start_v):\n",
    "# start_v는 탐색을 시작할 노드. iterative_dfs 함수 설정.\n",
    "    discovered = []\n",
    "    # 빈 discovered 를 하나 생성 해둔다.\n",
    "    stack = [start_v]\n",
    "    # stack에 탐색을 시작할 노드(start_v)를 추가한다.\n",
    "    while stack:\n",
    "    # stack이 비어 있지 않는 동안 반복문을 계속 실행한다.\n",
    "    # 탐색이 시작되면 stack에 계속 추가가 되며 마지막에 추가된게 계속 실행된다.\n",
    "    # stack에서 노드를 하나 꺼내어 v에 추가한다.\n",
    "    \n",
    "        print(f'while문 진입 - 앞으로 탐색할 노드들 : {stack=} ')\n",
    "        \n",
    "        v = stack.pop()\n",
    "        \n",
    "        print(f'stack에서 값을 하나 뺌 : {v=} : ')\n",
    "        \n",
    "        if v not in discovered:\n",
    "            discovered.append(v)\n",
    "        # v가 discovered 리스트에 없다면, v를 discovered 리스트에 추가한다.\n",
    "        \n",
    "            print(f'아직 탐색에 추가되지 않은 v 추가 : {discovered=} : ')\n",
    "            \n",
    "            for w in graph[v]:\n",
    "                stack.append(w)\n",
    "            # v와 연결된 노드 w 들을 스택에 추가한다.\n",
    "            # if문에서 v가 discovered리스트에 유무를 확인하고 리스트에 추가하는 과정을 하기 위해.\n",
    "            # 다음에 탐색할 노드들을 스택에 저장해주는 역활.\n",
    "            \n",
    "                print(f'정점 {v=}와 연결된 노드들을 {stack=}에 추가  : {v=} : ')\n",
    "    \n",
    "    return discovered\n",
    "    # 탐색을 완료하고 결과값을 반환한다.\n",
    "\n",
    "print(f'{iterative_dfs(1)=}')\n",
    "# 함수를 호출하여 탐색을 시작한다.\n",
    "\n",
    "# start_v는 탐색을 시작할 노드. iterative_dfs 함수를 정의하고 비어있는 discovered를 생성해둔다.\n",
    "# stack에는 start_v를 추가하여 stack에서 노드를 하나씩 탐색 할 수 있게 해준다.\n",
    "# 그 후 while문을 통하여 stack이 비어 있지 않는 한 계속 반복문을 진행한다.\n",
    "# 반복문 내용은 v가 discovered 리스트 안에 없다면 v를 discovered 리스트에 추가하겠다. 라는 반복을 한다.\n",
    "# 그리고 그 반복을 진행하게 하기 위해 v와 연결되어 있는 w들을 스택에 추가해준다.\n",
    "# 아직 탐색하지 않는 노드들은 계속 stack에 추가하고 그 stack이 비어질때 까지 진행한다.\n",
    "# 그 후 탐색이 끝나면 return discovered를 하여 결과값을 반환하고 print문으로 출력해서 탐색을 시작한다.\n"
   ]
  },
  {
   "cell_type": "code",
   "execution_count": null,
   "metadata": {},
   "outputs": [],
   "source": [
    "graph = {\n",
    "    1: [2, 3, 4],\n",
    "    2: [5],\n",
    "    3: [5],\n",
    "    4: [],\n",
    "    5: [6, 7],\n",
    "    6: [],\n",
    "    7: [3],\n",
    "}\n",
    "\n",
    "def iterative_bfs(start_v):\n",
    "    discovered = [start_v]\n",
    "    queue = [start_v]\n",
    "    # 탐색된 노드를 저장할 리스트와 탐색할 노드를 저장할 큐를 초기화합니다.\n",
    "    # iterative_bfs를 정의. discovered와 queue 를 생성 하여 각각 start_v를 넣어둔다.\n",
    "    # discovered에는 탐색된 노드를 저장. queue에는 탐색 할 노드를 저장한다.\n",
    "    # 처음엔 start_v를 넣어서 초기화 시킴.\n",
    "    \n",
    "    print(f'초기 상태: discovered={discovered}, queue={queue}')\n",
    "    \n",
    "    while queue:\n",
    "        v = queue.pop(0)\n",
    " \n",
    "        print(f'노드 {v} 탐색 중, queue={queue}')\n",
    "        \n",
    "        for w in graph[v]:\n",
    "            if w not in discovered:\n",
    "                discovered.append(w)\n",
    "                queue.append(w)\n",
    "                \n",
    "        # 큐가 비어 있지 않은 동안 탐색을 계속합니다.\n",
    "        # 현재 노드 v와 연결된 모든 노드들(w)를 순회하고\n",
    "        # 탐색 한 노드를 discovered에 추가한다.\n",
    "        # 남은 탐색 할 노드는 queue에 추가한다.\n",
    "        # w가 discovered 리스트에 없다면 w를 discovered 리스트와 queue에 추가한다.\n",
    "                \n",
    "                print(f'노드 {v}와 연결된 노드 {w}를 발견: discovered={discovered}, queue={queue}')\n",
    "                \n",
    "    return discovered\n",
    "    # 모든 탐색이 끝나면 discovered를 반환한다.\n",
    "\n",
    "print(f'{iterative_bfs(1)=}')\n",
    "\n",
    "    \n",
    "# iterative_bfs(1)=[1, 2, 3, 4, 5, 6, 7]"
   ]
  },
  {
   "cell_type": "markdown",
   "metadata": {},
   "source": [
    "# 리트코드 200번 문제"
   ]
  },
  {
   "cell_type": "code",
   "execution_count": null,
   "metadata": {},
   "outputs": [],
   "source": [
    "from typing import List\n",
    "class Solution:\n",
    "    from collections import deque\n",
    "    def numIslands(self, grid: List[List[str]]) -> int:\n",
    "        m=len(grid)\n",
    "        n=len(grid[0])\n",
    "        d=[(0,1),(0,-1),(1,0),(-1,0)] \n",
    "        \n",
    "        answer=0\n",
    "        visited=[[False]*n for _ in range(m)]\n",
    "        for i in range(m):\n",
    "            for j in range(n):\n",
    "                if grid[i][j]==\"1\":\n",
    "                    \n",
    "                    # bfs\n",
    "                    q=deque([(i,j)])\n",
    "                    while q:\n",
    "                        x,y=q.popleft()\n",
    "                        for dx,dy in d:\n",
    "                            nx,ny=x+dx,y+dy\n",
    "                            if 0<=nx<m and 0<=ny<n and grid[nx][ny]==\"1\":\n",
    "                                grid[nx][ny]=\"0\"\n",
    "                                q.append((nx,ny))\n",
    "                    answer+=1\n",
    "                    \n",
    "        return answer"
   ]
  },
  {
   "cell_type": "code",
   "execution_count": null,
   "metadata": {},
   "outputs": [],
   "source": [
    "from typing import List\n",
    "class Solution:\n",
    "    def numIslands(self, grid: List[List[str]]) -> int:\n",
    "        def dfs(x,y):\n",
    "            if x in range(len(grid)) and \\\n",
    "                y in range(len(grid[0])) and \\\n",
    "                grid[x][y] == '1':\n",
    "                    grid[x][y] = '0'\n",
    "                    dfs(x + 1, y)\n",
    "                    dfs(x, y + 1)\n",
    "                    dfs(x - 1, y)\n",
    "                    dfs(x, y - 1)\n",
    "        \n",
    "        count = 0\n",
    "        for i in range(len(grid)):\n",
    "            for j in range(len(grid[0])):\n",
    "                if grid[i][j] == '1':\n",
    "                    dfs(i,j)\n",
    "                    count += 1\n",
    "                    \n",
    "        return count"
   ]
  },
  {
   "cell_type": "markdown",
   "metadata": {},
   "source": [
    "# 리트코드 17번 문제"
   ]
  },
  {
   "cell_type": "code",
   "execution_count": null,
   "metadata": {},
   "outputs": [],
   "source": [
    "from typing import List\n",
    "class Solution:\n",
    "    def letterCombinations(self, digits: str) -> List[str]:\n",
    "        def dfs(index, path):\n",
    "            # 끝까지탐색하면 백트래킹\n",
    "            \n",
    "            if len(path) == len(digits):\n",
    "                result.append(path)\n",
    "                return\n",
    "            \n",
    "            # 입력값 자릿수 단위 반복\n",
    "            for i in range(index, len(digits)):\n",
    "                for j in dic[digits[i]]:\n",
    "                    dfs(i + 1, path + j)\n",
    "        # 예외 처리         \n",
    "        if not digits:\n",
    "            return []\n",
    "        \n",
    "        dic = {\"2\": \"abc\", \"3\": \"def\", \"4\": \"ghi\", \"5\": \"jkl\",\n",
    "               \"6\": \"mno\",\"7\": \"pqrs\", \"8\": \"tuv\", \"9\": \"wxyz\"}\n",
    "        result = []\n",
    "        dfs(0, \"\")\n",
    "        \n",
    "        return result"
   ]
  },
  {
   "cell_type": "code",
   "execution_count": null,
   "metadata": {},
   "outputs": [],
   "source": [
    "from typing import List\n",
    "class Solution:\n",
    "    def letterCombinations(self, digits: str) -> List[str]:\n",
    "        \n",
    "        if digits == \"\":\n",
    "            return []\n",
    "        \n",
    "        def dfs(index, path):   # dfs(1, 'a')\n",
    "            \n",
    "            if len(path) == len(digits):\n",
    "                result.append(path)\n",
    "                return\n",
    "            \n",
    "            for i in range(index, len(digits)):\n",
    "                # digiits의 길이만큼, digits=23 -> 2번\n",
    "                for j in num_to_alpha[digits[i]]:\n",
    "                    # j 가 항상 3번 digiths=23, a,bc\n",
    "                    dfs(i + 1, path + j)\n",
    "                \n",
    "        num_to_alpha = {\n",
    "            \"2\": \"abc\", \"3\": \"def\", \"4\": \"ghi\",\n",
    "            \"5\": \"jkl\", \"6\": \"mno\", \"7\": \"pqrs\",\n",
    "            \"8\": \"tuv\", \"9\": \"wxyz\"\n",
    "            }\n",
    "\n",
    "        result = []\n",
    "        dfs(0, \"\")\n",
    "        return result"
   ]
  },
  {
   "cell_type": "markdown",
   "metadata": {},
   "source": [
    "# 리트코드 46번 문제"
   ]
  },
  {
   "cell_type": "code",
   "execution_count": null,
   "metadata": {},
   "outputs": [],
   "source": [
    "class Solution:\n",
    "    def permute(self, nums):\n",
    "        stack = [([], nums)]\n",
    "        result = []\n",
    "        \n",
    "        while stack:\n",
    "            perm, items = stack.pop()\n",
    "            print(f'스택 팝: 현재 순열 {perm=}, 남은 항목 {items=}\\n')\n",
    "            \n",
    "            if len(items) == 0:\n",
    "                result.append(perm)\n",
    "                print(f'순열 완성: {perm}, result에 추가됨\\n')\n",
    "                \n",
    "            for i in range(len(items)):\n",
    "                new_perm = perm + [items[i]]\n",
    "                new_items = items[:i] + items[i + 1:]\n",
    "                stack.append((new_perm, new_items))\n",
    "                print(f'스택 푸시: 새로운 순열 {new_perm=}, 남은 항목 {new_items=}\\n')\n",
    "                \n",
    "        return result\n",
    "\n",
    "# 예시 실행\n",
    "solution = Solution()\n",
    "permutations = solution.permute([1, 2, 3])\n",
    "print(f'최종 결과: {permutations}')"
   ]
  },
  {
   "cell_type": "markdown",
   "metadata": {},
   "source": [
    "- 스택 팝: 현재 순열 perm=[], 남은 항목 items=[1, 2, 3]\n",
    "\n",
    "- 스택 푸시: 새로운 순열 new_perm=[1], 남은 항목 new_items=[2, 3]\n",
    "\n",
    "- 스택 푸시: 새로운 순열 new_perm=[2], 남은 항목 new_items=[1, 3]\n",
    "\n",
    "- 스택 푸시: 새로운 순열 new_perm=[3], 남은 항목 new_items=[1, 2]\n",
    "\n",
    "- 스택 팝: 현재 순열 perm=[3], 남은 항목 items=[1, 2]\n",
    "\n",
    "- 스택 푸시: 새로운 순열 new_perm=[3, 1], 남은 항목 new_items=[2]\n",
    "\n",
    "- 스택 푸시: 새로운 순열 new_perm=[3, 2], 남은 항목 new_items=[1]\n",
    "\n",
    "- 스택 팝: 현재 순열 perm=[3, 2], 남은 항목 items=[1]\n",
    "\n",
    "- 스택 푸시: 새로운 순열 new_perm=[3, 2, 1], 남은 항목 new_items=[]\n",
    "\n",
    "- 스택 팝: 현재 순열 perm=[3, 2, 1], 남은 항목 items=[]\n",
    "\n",
    "- 순열 완성: [3, 2, 1], result에 추가됨\n",
    "\n",
    "- 스택 팝: 현재 순열 perm=[3, 1], 남은 항목 items=[2]\n",
    "\n",
    "- 스택 푸시: 새로운 순열 new_perm=[3, 1, 2], 남은 항목 new_items=[]\n",
    "- ...\n",
    "\n",
    "- 순열 완성: [1, 2, 3], result에 추가됨\n",
    "\n",
    "- 최종 결과: [[3, 2, 1], [3, 1, 2], [2, 3, 1], [2, 1, 3], [1, 3, 2], [1, 2, 3]]"
   ]
  },
  {
   "cell_type": "code",
   "execution_count": null,
   "metadata": {},
   "outputs": [],
   "source": [
    "# class Solution:\n",
    "#     def permute(self, nums):\n",
    "#         stack = [([], nums)]\n",
    "#         result = []\n",
    "        \n",
    "#         while stack:\n",
    "#             elements, prev_elements = stack.pop()\n",
    "#             print(f'스택 팝: 현재 elements {elements=}, 이전 요소들 {prev_elements=}\\n')\n",
    "            \n",
    "#             if len(elements) == 0:\n",
    "#                 result.append(prev_elements[:])\n",
    "#                 print(f'순열 완성: {prev_elements[:]}, result에 추가됨\\n')\n",
    "                \n",
    "#             for e in elements:\n",
    "#                 next_elements = elements[:]\n",
    "#                 next_elements.remove(e)\n",
    "#                 stack.append((next_elements, prev_elements + [e]))\n",
    "#                 print(f'스택 푸시: 새로운 elements {next_elements=}, 업데이트된 이전 요소들 {prev_elements + [e]=}\\n')\n",
    "                \n",
    "#         return result\n",
    "\n",
    "# # 예시 실행\n",
    "# solution = Solution()\n",
    "# permutations = solution.permute([1, 2, 3])\n",
    "# print(f'최종 결과: {permutations}')\n",
    "\n",
    "class Solution:\n",
    "    def permute(self, nums):\n",
    "        stack = [([], nums)]\n",
    "        result = []\n",
    "        \n",
    "        while stack:\n",
    "            prev_elements, elements = stack.pop()\n",
    "            print(f'스택 팝: 현재 prev_elements {prev_elements=}, 남은 elements {elements=}\\n')\n",
    "            \n",
    "            if len(elements) == 0:\n",
    "                result.append(prev_elements[:])\n",
    "                print(f'순열 완성: {prev_elements[:]}, result에 추가됨\\n')\n",
    "                \n",
    "            for e in elements:\n",
    "                next_elements = elements[:]\n",
    "                next_elements.remove(e)\n",
    "                stack.append((prev_elements + [e], next_elements))\n",
    "                print(f'스택 푸시: 업데이트된 prev_elements {prev_elements + [e]=}, 새로운 elements {next_elements=}\\n')\n",
    "                \n",
    "        return result\n",
    "\n",
    "# 예시 실행\n",
    "solution = Solution()\n",
    "permutations = solution.permute([1, 2, 3])\n",
    "print(f'최종 결과: {permutations}')\n"
   ]
  },
  {
   "cell_type": "code",
   "execution_count": null,
   "metadata": {},
   "outputs": [],
   "source": [
    "from typing import List\n",
    "\n",
    "class Solution:\n",
    "    \n",
    "    def permute(self, nums: List[int]) -> List[List[int]]:\n",
    "        result = []\n",
    "        prev_elements = []\n",
    "        \n",
    "        def dfs(elements):\n",
    "            print(f'dfs 진입: 여태까지 조합 {prev_elements=}, 남은 조합 {elements=}\\n')\n",
    "            \n",
    "            if len(elements) == 0:\n",
    "                result.append(prev_elements[:])\n",
    "                print(f'조합 완성: {prev_elements[:]}, result에 추가됨\\n')\n",
    "                return\n",
    "            \n",
    "            for e in elements:\n",
    "                next_elements = elements[:]\n",
    "                next_elements.remove(e)\n",
    "                \n",
    "                prev_elements.append(e)\n",
    "                print(f'원소 추가: {e}, {prev_elements=}, {next_elements=}\\n')\n",
    "                dfs(next_elements)\n",
    "                prev_elements.pop()\n",
    "                print(f'원소 제거: {e}, {prev_elements=}, {next_elements=}\\n')\n",
    "        \n",
    "        dfs(nums)\n",
    "        return result"
   ]
  },
  {
   "cell_type": "markdown",
   "metadata": {},
   "source": [
    "# 리트코드 77번 문제"
   ]
  },
  {
   "cell_type": "code",
   "execution_count": null,
   "metadata": {},
   "outputs": [],
   "source": [
    "class Solution:\n",
    "    def combine(self, n: int, k: int):\n",
    "        def backtrack(start, path):\n",
    "            if len(path) == k:\n",
    "                result.append(path[:])\n",
    "                return\n",
    "            for i in range(start, n + 1):\n",
    "                path.append(i)\n",
    "                backtrack(i + 1, path)\n",
    "                path.pop()\n",
    "\n",
    "        result = []\n",
    "        backtrack(1, [])\n",
    "        return result\n",
    "\n",
    "# 예시 실행\n",
    "solution = Solution()\n",
    "combinations = solution.combine(4, 2)\n",
    "print(f'조합 결과: {combinations}')\n"
   ]
  },
  {
   "cell_type": "code",
   "execution_count": null,
   "metadata": {},
   "outputs": [],
   "source": [
    "class Solution2:\n",
    "    def combine(self, n: int, k: int) -> List[List[int]]:\n",
    "    \t# remainder 개념을 사용한 이유는 빈 리스트가 입력으로 들어왔을 때도 동일하게 동작하기 위함\n",
    "        def dfs(level: int, partial_list: List, remainder: int):\n",
    "            if len(partial_list) == k:\n",
    "                answer.append(partial_list)\n",
    "                return\n",
    "            for i in range(remainder, n-k+level+1):\n",
    "                dfs(level+1, partial_list + [i], i+1)\n",
    "\n",
    "        answer = []\n",
    "        dfs(1, [], 1)\n",
    "        return answer"
   ]
  },
  {
   "cell_type": "code",
   "execution_count": null,
   "metadata": {},
   "outputs": [],
   "source": [
    "from typing import List\n",
    "\n",
    "class Solution:\n",
    "    def combine(self, n: int, k: int) -> List[List[int]]:\n",
    "        output = []\n",
    "        nums = [i + 1 for i in range(n)]\n",
    "        \n",
    "        def dfs(k, stack=None):\n",
    "            if stack is None:\n",
    "                stack = []\n",
    "                \n",
    "            if k == 0:\n",
    "                output.append(stack)\n",
    "                print(f'조합 완성: {stack}, output에 추가됨\\n')\n",
    "                return\n",
    "            \n",
    "            if stack:\n",
    "                for w in nums[stack[-1]-1:]:\n",
    "                    if w not in stack:\n",
    "                        dfs(k-1, stack + [w])\n",
    "            else:\n",
    "                for w in nums:\n",
    "                    if w not in stack:\n",
    "                        dfs(k-1, stack + [w])\n",
    "            \n",
    "            print(f'현재 stack: {stack}, k: {k}\\n')\n",
    "            \n",
    "        dfs(k)\n",
    "        \n",
    "        return output\n",
    "\n",
    "# 예시 실행\n",
    "solution = Solution()\n",
    "combinations = solution.combine(4, 2)\n",
    "print(f'최종 결과: {combinations}')"
   ]
  },
  {
   "cell_type": "markdown",
   "metadata": {},
   "source": [
    "- `itertools` 모듈은 파이썬의 표준 라이브러리 중 하나로\n",
    "- 반복 가능한(iterable) 데이터를 다루는 데 사용되는 유용한 함수들을 제공.\n",
    "- 그 중에서도 `combinations` 함수는 주어진 데이터에서 주어진 길이의 조합(combination)을 생성해주는 함수입니다."
   ]
  },
  {
   "cell_type": "code",
   "execution_count": null,
   "metadata": {},
   "outputs": [],
   "source": [
    "from itertools import combinations\n",
    "\n",
    "class Solution:\n",
    "    def combine(self, n: int, k: int):\n",
    "        # itertools의 combinations 함수를 사용하여 조합을 생성\n",
    "        return list(combinations(range(1, n + 1), k))\n",
    "\n",
    "# 예시 실행\n",
    "solution = Solution()\n",
    "combinations = solution.combine(4, 2)\n",
    "print(f'조합 결과: {combinations}')"
   ]
  },
  {
   "cell_type": "code",
   "execution_count": null,
   "metadata": {},
   "outputs": [],
   "source": [
    "# 강사님\n",
    "class Solution:\n",
    "    def combine(self, n, k):\n",
    "    # k는 조합의 길이. n은 시작부터 끝까지의 숫자 범위.\n",
    "        result = []\n",
    "        stack = [(1, [])]\n",
    "        # 빈 result 리스트와 stack(스택)을 초기화.\n",
    "        # 스택에는 튜플 형태(start, elements)로 들어간다.\n",
    "        # start는 시작 인덱스. elements는 현재까지의 조합.\n",
    "        # 초기 상태에서는 시작 인덱스는 1이고, 현재까지 조합은 빈 리스트.\n",
    "        \n",
    "        while stack:\n",
    "            start, elements = stack.pop()\n",
    "            print(f'스택 팝: 현재 start={start}, 현재 elements={elements}')\n",
    "            # 스택이 빌 때까지 반복.\n",
    "            # 스택에서 요소를 팝하여 start(시작 인덱스)와 elements(현재까지의 조합)으로 분리.\n",
    "            \n",
    "            if len(elements) == k:\n",
    "                result.append(elements[:])\n",
    "                print(f'조합 완성: {elements}, result에 추가됨')\n",
    "                continue # 밑에 코드로 넘어가지 않고 바로 다음 반복을 실행.\n",
    "            # elements의 길이가 k와 같으면 현재 조합이 완성 이므로 결과 리스트에 추가.\n",
    "            # 이후 다음 반복으로 넘어감.\n",
    "            \n",
    "            for i in range(start, n + 1):\n",
    "                stack.append((i + 1, elements + [i]))\n",
    "                print(f'스택 푸시: 다음 start={i + 1}, 다음 elements={elements + [i]}')\n",
    "            # start부터 n까지 순회 하면서 스택에 다음 요소를 추가.\n",
    "            # start는 현재까지의 조합에서 가장 큰 숫자보다 1 큰 값을 가진다.\n",
    "            # 새로운 요소를 추가한 조합은 새로운 시작 인덱스와 함께 스택에 추가.\n",
    "                \n",
    "        return result\n",
    "        # 완성된 모든 조합들을 담은 결과 리스트를 반환.\n",
    "\n",
    "# 예시 실행\n",
    "solution = Solution()\n",
    "combinations = solution.combine(6, 2)\n",
    "print(f'조합 결과: {combinations}')\n"
   ]
  },
  {
   "cell_type": "markdown",
   "metadata": {},
   "source": [
    "# 리트코드 39번 문제"
   ]
  },
  {
   "cell_type": "code",
   "execution_count": null,
   "metadata": {},
   "outputs": [],
   "source": [
    "class Solution:\n",
    "    def combinationSum(self, candidates: List[int], target: int) -> List[List[int]]:\n",
    "        answer = []\n",
    "        output = []\n",
    "        \n",
    "        def combination(index, sum_value):\n",
    "            if sum_value >= target:\n",
    "                if sum_value == target:\n",
    "                    answer.append(output[:])\n",
    "                return\n",
    "            \n",
    "            if index >= len(candidates):\n",
    "                return\n",
    "            \n",
    "            output.append(candidates[index])\n",
    "            combination(index, sum_value + candidates[index])\n",
    "            output.pop()\n",
    "            combination(index+1, sum_value)\n",
    "        \n",
    "        combination(0, 0)\n",
    "        return answer"
   ]
  },
  {
   "cell_type": "markdown",
   "metadata": {},
   "source": [
    "# 백준 24479번 문제"
   ]
  },
  {
   "cell_type": "code",
   "execution_count": null,
   "metadata": {},
   "outputs": [],
   "source": [
    "def dfs(t):\n",
    "    global cnt\n",
    "    visited[t] = cnt\n",
    "    line[t].sort()\n",
    "    for i in line[t]:\n",
    "        if visited[i] == 0:\n",
    "            cnt += 1\n",
    "            dfs(i)\n",
    "\n",
    "import sys\n",
    "sys.setrecursionlimit(150000)\n",
    "N, M, R = map(int, sys.stdin.readline().split())\n",
    "line = [[] for _ in range(N+1)]\n",
    "visited = [0]*(N+1)  # 저장값\n",
    "cnt = 1\n",
    "for _ in range(M):\n",
    "    a, b = map(int, sys.stdin.readline().split())\n",
    "    line[a].append(b)  # 양 방향 간선\n",
    "    line[b].append(a)  # 양 방향 간선\n",
    "dfs(R)\n",
    "for i in range(1, N+1):\n",
    "    print(visited[i])"
   ]
  },
  {
   "cell_type": "markdown",
   "metadata": {},
   "source": [
    "# 프로그래머스 타겟 넘버 문제"
   ]
  },
  {
   "cell_type": "code",
   "execution_count": null,
   "metadata": {},
   "outputs": [],
   "source": [
    "from collections import deque\n",
    "def solution(numbers, target):\n",
    "    answer = 0\n",
    "    queue = deque()\n",
    "    n = len(numbers)\n",
    "    queue.append([numbers[0],0])\n",
    "    queue.append([-1*numbers[0],0])\n",
    "    while queue:\n",
    "        temp, idx = queue.popleft()\n",
    "        idx += 1\n",
    "        if idx < n:\n",
    "            queue.append([temp+numbers[idx], idx])\n",
    "            queue.append([temp-numbers[idx], idx])\n",
    "        else:\n",
    "            if temp == target:\n",
    "                answer += 1\n",
    "    return answer"
   ]
  },
  {
   "cell_type": "code",
   "execution_count": null,
   "metadata": {},
   "outputs": [],
   "source": [
    "# stack을 이용한 dfs여도 마찬가지! \n",
    "\n",
    "def solution(numbers, target):\n",
    "    answer = 0\n",
    "    queue = [[numbers[0],0], [-1*numbers[0],0]]\n",
    "    n = len(numbers)\n",
    "    while queue:\n",
    "        temp, idx = queue.pop()\n",
    "        idx += 1\n",
    "        if idx < n:\n",
    "            queue.append([temp+numbers[idx], idx])\n",
    "            queue.append([temp-numbers[idx], idx])\n",
    "        else:\n",
    "            if temp == target:\n",
    "                answer += 1\n",
    "    return answer"
   ]
  },
  {
   "cell_type": "code",
   "execution_count": null,
   "metadata": {},
   "outputs": [],
   "source": [
    "# 재귀함수 이용한 DFS\n",
    "\n",
    "def solution(numbers, target):\n",
    "    n = len(numbers)\n",
    "    answer = 0\n",
    "    def dfs(idx, result):\n",
    "        if idx == n:\n",
    "            if result == target:\n",
    "                nonlocal answer\n",
    "                answer += 1\n",
    "            return\n",
    "        else:\n",
    "            dfs(idx+1, result+numbers[idx])\n",
    "            dfs(idx+1, result-numbers[idx])\n",
    "    dfs(0,0)\n",
    "    return answer"
   ]
  },
  {
   "cell_type": "markdown",
   "metadata": {},
   "source": [
    "# 프로그래머스 게임 맵 최단거리 문제"
   ]
  },
  {
   "cell_type": "code",
   "execution_count": null,
   "metadata": {},
   "outputs": [],
   "source": [
    "# BFS 방법.\n",
    "\n",
    "from collections import deque\n",
    "def solution(maps):\n",
    "    answer = 0\n",
    "    dx = [-1,1,0,0]\n",
    "    dy = [0,0,-1,1]\n",
    "\n",
    "    queue = deque()\n",
    "    queue.append((0,0))\t\t# 0,0에서 시작\n",
    "\n",
    "    while queue:\n",
    "        x, y = queue.popleft()\n",
    "        for i in range(4):\n",
    "            nx = x + dx[i]\n",
    "            ny = y + dy[i]\n",
    "            N = len(maps)\n",
    "            M = len(maps[0])\n",
    "            if 0<=nx<N and 0<=ny<M and maps[nx][ny]==1:\n",
    "                maps[nx][ny] = maps[x][y]+1\n",
    "                queue.append((nx,ny))\n",
    "    answer = maps[N-1][M-1]\n",
    "    \n",
    "    if answer ==1:\n",
    "        answer = -1\n",
    "    return answer"
   ]
  },
  {
   "cell_type": "markdown",
   "metadata": {},
   "source": [
    "## 기본 정렬 알고리즘 구현\n",
    "\n",
    "### 버블 정렬 (Bubble Sort)\n",
    "\n",
    "버블 정렬은 인접한 두 요소를 비교하여 정렬하는 단순한 알고리즘입니다. 가장 큰 요소가 맨 끝으로 '버블'처럼 이동하는 방식입니다."
   ]
  },
  {
   "cell_type": "code",
   "execution_count": null,
   "metadata": {},
   "outputs": [],
   "source": [
    "def bubble_sort(arr):\n",
    "    n = len(arr)\n",
    "    # 배열의 길이를 n에 추가.\n",
    "    \n",
    "    # 이중 반복문\n",
    "    ## 이중 반복문 내용.\n",
    "    # 내부 반복문이 정렬 범위 내의 모든 원소 쌍을 비교하여 정렬을 수행하고.\n",
    "    # 외부 반복문이 그걸 반복하여 모든 원소가 올바른 위치에 있을 때까지 정렬 범위를 줄임.\n",
    "    # 위 과정을 통해 가장 큰 원소가 맨 오른쪽으로 이동하여 정렬.\n",
    "    \n",
    "    for i in range(n):\n",
    "    # 배열의 길이(n) 만큼 반복.\n",
    "    # 각 반복에서 정렬 범위의 끝 부분(마지막 원소)를 제외하고 정렬 수행.\n",
    "    # 각 반복마다 가장 큰 원소가 배열의 마지막으로 이동.\n",
    "        for j in range(0, n - i - 1):\n",
    "        # 현재 정렬 범위 내에서 인접한 원소를 비교하고 필요하다면 위치를 바꾼다.\n",
    "        # j 는 현재 원소의 인덱스. 0 부터 시작하여 정렬 범위 끝까지 이동.\n",
    "        # n -i -1 = 현재 정렬 범위 내에서 비교할 수 있는 마지막 인덱스.\n",
    "        # 외부 반복문이 실행될 때마다 정렬 범위가 감소하기에 -i를 추가하여 정렬 범위를 줄임.\n",
    "            if arr[j] > arr[j + 1]:\n",
    "            # arr[j] (현재 원소) 와 arr[j + 1] (다음 원소)를 비교.\n",
    "            # 현재 원소가 다음 원소보다 크다면 위치를 교환.\n",
    "                arr[j], arr[j + 1] = arr[j + 1], arr[j]\n",
    "                # 현재 정렬 범위 내에서 가장 큰 원소가 오른쪽으로 이동하여 정렬.\n",
    "    return arr\n",
    "\n",
    "# 테스트\n",
    "data = [64, 34, 25, 12, 22, 11, 90]\n",
    "print(\"Bubble Sort 결과:\", bubble_sort(data))"
   ]
  },
  {
   "cell_type": "markdown",
   "metadata": {},
   "source": [
    "### 삽입 정렬 (Insertion Sort)\n",
    "\n",
    "삽입 정렬은 배열을 정렬된 부분과 정렬되지 않은 부분으로 나누고, 정렬되지 않은 부분의 요소를 하나씩 정렬된 부분에 삽입하여 정렬합니다."
   ]
  },
  {
   "cell_type": "code",
   "execution_count": null,
   "metadata": {},
   "outputs": [],
   "source": [
    "def insertion_sort(arr):\n",
    "    for i in range(1, len(arr)):\n",
    "        print(f'현재 인덱스 i: {i}, 정렬 전 배열: {arr}\\n')\n",
    "        # range(1,7) -> 1, 2, 3, 4, 5, 6\n",
    "        key = arr[i]\n",
    "        print(f'현재 key 값: {key}\\n')\n",
    "        # arr[1], .... arr[6]\n",
    "        j = i - 1\n",
    "        # 0, 1, 2, 3, 4, 5\n",
    "        while j >= 0 and key < arr[j]:\n",
    "            print(f'{i=}정렬 전 : {arr=}, {j+1=}, {j=}\\n')\n",
    "            arr[j + 1] = arr[j]\n",
    "            print(f'{i=}정렬 후 : {arr=}, {j+1=}, {j=}\\n')\n",
    "            j -= 1\n",
    "        arr[j + 1] = key\n",
    "        print(f'한 번의 정렬이 끝난 후 배열 상태: {arr}\\n')\n",
    "        # 앞에 있는 값이 뒤에 있는 값보다 클때까지\n",
    "        # 정렬이 안되어 있다면, j가 음수이면 list out of range 에러 발생.\n",
    "    return arr\n",
    "\n",
    "# 테스트\n",
    "data = [64, 34, 25, 12, 22, 11, 90]\n",
    "print(\"Insertion Sort 결과:\", insertion_sort(data))"
   ]
  },
  {
   "cell_type": "markdown",
   "metadata": {},
   "source": [
    "# 백준 수 정렬하기 문제"
   ]
  },
  {
   "cell_type": "code",
   "execution_count": null,
   "metadata": {},
   "outputs": [],
   "source": [
    "N = int(input()) # 원소 수 입력 받기\n",
    "arr = [] # 빈 어레이 생성\n",
    "\n",
    "for i in range(N):\n",
    "    arr.append(int(input())) # 숫자 삽입\n",
    "\n",
    "# 삽입 정렬\n",
    "for j in range(1, len(arr)):\n",
    "    key = arr[j]\n",
    "    i = j-1\n",
    "    while i >= 0 and arr[i] > key: # key 이전 원소가 i보다 작은 경우\n",
    "        arr[i+1] = arr[i] # 이전 원소 한칸 이동\n",
    "        i -= 1 # i 갱신\n",
    "    arr[i+1] = key # key 삽입\n",
    "\n",
    "for i in arr:\n",
    "    print(i)"
   ]
  },
  {
   "cell_type": "markdown",
   "metadata": {},
   "source": [
    "### 퀵정렬\n",
    "\n",
    "<aside>\n",
    "💡 퀵정렬(Quick Sort)은 비교 기반 정렬 알고리즘으로, 평균적으로 매우 빠른 속도를 자랑합니다.\n",
    "\n",
    "</aside>"
   ]
  },
  {
   "cell_type": "markdown",
   "metadata": {},
   "source": [
    "1. **피벗 선택(Pivot Selection)**: 리스트에서 하나의 요소를 선택하여 피벗으로 설정합니다.\n",
    "2. **분할(Partitioning)**: 피벗을 기준으로 리스트를 두 개의 부분 리스트로 나눕니다. 피벗보다 작은 요소들은 왼쪽 부분 리스트로, 피벗보다 큰 요소들은 오른쪽 부분 리스트로 이동합니다.\n",
    "3. **재귀적 정렬(Recursive Sorting)**: 분할된 두 부분 리스트에 대해 재귀적으로 퀵정렬을 수행합니다.\n",
    "4. **종료 조건(Base Case)**: 리스트의 크기가 0이나 1이 되면 재귀 호출을 종료합니다.\n",
    "\n",
    "- 퀵정렬은 평균적으로 O(n log n)의 시간 복잡도를 가지며, 최악의 경우 O(n^2)의 시간 복잡도를 가질 수 있습니다.\n",
    "- 하지만, 적절한 피벗 선택 전략을 사용하면 최악의 경우를 피할 수 있습니다."
   ]
  },
  {
   "cell_type": "markdown",
   "metadata": {},
   "source": [
    "## 파이썬 내장 정렬 함수"
   ]
  },
  {
   "cell_type": "markdown",
   "metadata": {},
   "source": [
    "### `sorted()` 함수\n",
    "\n",
    "`sorted()` 함수는 입력 데이터를 정렬된 새로운 리스트로 반환합니다. 원본 리스트는 변경되지 않습니다."
   ]
  },
  {
   "cell_type": "code",
   "execution_count": null,
   "metadata": {},
   "outputs": [],
   "source": [
    "sorted(iterable, key=None, reverse=False)"
   ]
  },
  {
   "cell_type": "markdown",
   "metadata": {},
   "source": [
    "### 매개변수\n",
    "\n",
    "- **iterable**: 정렬할 대상인 반복 가능한 객체 (예: 리스트, 튜플, 문자열 등).\n",
    "- **key**: 정렬 기준을 제공하는 함수. 각 요소에 대해 호출되어 비교에 사용됩니다.\n",
    "- **reverse**: 정렬 순서를 역순으로 할지 여부. 기본값은 `False` (오름차순 정렬)."
   ]
  },
  {
   "cell_type": "code",
   "execution_count": 1,
   "metadata": {},
   "outputs": [
    {
     "name": "stdout",
     "output_type": "stream",
     "text": [
      "오름차순 정렬: [11, 12, 22, 25, 34, 64, 90]\n",
      "내림차순 정렬: [90, 64, 34, 25, 22, 12, 11]\n",
      "길이 기준 정렬: ['date', 'apple', 'banana', 'cherry']\n"
     ]
    }
   ],
   "source": [
    "data = [64, 34, 25, 12, 22, 11, 90]\n",
    "\n",
    "# 기본 정렬 (오름차순)\n",
    "sorted_data = sorted(data)\n",
    "print(\"오름차순 정렬:\", sorted_data)\n",
    "\n",
    "# 내림차순 정렬\n",
    "sorted_data_desc = sorted(data, reverse=True)\n",
    "print(\"내림차순 정렬:\", sorted_data_desc)\n",
    "\n",
    "# 키를 사용한 정렬 (길이를 기준으로 정렬)\n",
    "words = [\"apple\", \"banana\", \"cherry\", \"date\"]\n",
    "sorted_words = sorted(words, key=len)\n",
    "print(\"길이 기준 정렬:\", sorted_words)"
   ]
  },
  {
   "cell_type": "markdown",
   "metadata": {},
   "source": [
    "### **이터러블**\n",
    "\n",
    "- 파이썬에서 이터러블(iterable)은 순회할 수 있는 객체를 말합니다.\n",
    "- 이터러블 객체는 하나씩 접근할 수 있는 요소의 집합입니다.\n",
    "- 파이썬의 기본적인 이터러블 객체에는 리스트, 튜플, 문자열, 딕셔너리, 세트 등이 포함됩니다. \n",
    "\n",
    "- Python에서 `sorted()` 함수는 다양한 이터러블(iterable) 타입을 정렬할 수 있습니다.\n",
    "- 이터러블은 반복 가능한 객체로, 하나씩 순회할 수 있는 객체를 의미합니다."
   ]
  },
  {
   "cell_type": "markdown",
   "metadata": {},
   "source": [
    "### 이터러블의 종류\n",
    "\n",
    "1. **리스트 (List)**\n",
    "    - 예: `[1, 2, 3]`\n",
    "    - 가장 일반적인 이터러블 타입입니다. 리스트는 순서가 있으며, 인덱스를 통해 접근할 수 있습니다.\n",
    "2. **튜플 (Tuple)**\n",
    "    - 예: `(1, 2, 3)`\n",
    "    - 리스트와 유사하지만, 튜플은 불변(immutable)입니다. 한번 생성된 후에는 변경할 수 없습니다.\n",
    "3. **문자열 (String)**\n",
    "    - 예: `'abc'`\n",
    "    - 문자열도 이터러블로, 각 문자를 순회할 수 있습니다.\n",
    "4. **딕셔너리 (Dictionary)**\n",
    "    - 예: `{'a': 1, 'b': 2, 'c': 3}`\n",
    "    - 딕셔너리 자체는 순서가 없지만, 키(key), 값(value), 또는 (키, 값) 쌍을 이터러블로 순회할 수 있습니다.\n",
    "5. **집합 (Set)**\n",
    "    - 예: `{1, 2, 3}`\n",
    "    - 집합은 순서가 없고, 중복을 허용하지 않는 이터러블입니다.\n",
    "6. **레인지 (Range)**\n",
    "    - 예: `range(10)`\n",
    "    - 주어진 범위 내의 숫자 시퀀스를 생성하는 이터러블입니다.\n",
    "7. **파일 객체 (File Object)**\n",
    "    - 예: `open('file.txt')`\n",
    "    - 파일 객체도 이터러블로, 한 줄씩 읽어올 수 있습니다.\n",
    "8. **제너레이터 (Generator)**\n",
    "    - 예: `(x for x in range(10))`\n",
    "    - 제너레이터는 값을 즉석에서 생성하는 이터러블입니다. 메모리를 절약하면서 큰 데이터셋을 처리할 때 유용합니다.\n",
    "9. **이터레이터 (Iterator)**\n",
    "    - 예: `iter([1, 2, 3])`\n",
    "    - 이터레이터는 `__iter__()`와 `__next__()` 메서드를 구현한 객체입니다. 이터러블은 `iter()` 함수를 통해 이터레이터로 변환할 수 있습니다."
   ]
  },
  {
   "cell_type": "markdown",
   "metadata": {},
   "source": [
    "### 정렬 가능한 이터러블 예시\n",
    "\n",
    "`sorted()` 함수는 다음과 같은 이터러블을 정렬할 수 있습니다.\n",
    "\n",
    "1. **리스트**"
   ]
  },
  {
   "cell_type": "code",
   "execution_count": null,
   "metadata": {},
   "outputs": [],
   "source": [
    "my_list = [3, 1, 4, 1, 5, 9]\n",
    "sorted_list = sorted(my_list)\n",
    "# 결과: [1, 1, 3, 4, 5, 9]"
   ]
  },
  {
   "cell_type": "markdown",
   "metadata": {},
   "source": [
    "2. **튜플**"
   ]
  },
  {
   "cell_type": "code",
   "execution_count": null,
   "metadata": {},
   "outputs": [],
   "source": [
    "my_tuple = (3, 1, 4, 1, 5, 9)\n",
    "sorted_tuple = sorted(my_tuple)\n",
    "# 결과: [1, 1, 3, 4, 5, 9]"
   ]
  },
  {
   "cell_type": "markdown",
   "metadata": {},
   "source": [
    "3. **문자열**"
   ]
  },
  {
   "cell_type": "code",
   "execution_count": null,
   "metadata": {},
   "outputs": [],
   "source": [
    "my_string = \"python\"\n",
    "sorted_string = sorted(my_string)\n",
    "# 결과: ['h', 'n', 'o', 'p', 't', 'y']"
   ]
  },
  {
   "cell_type": "markdown",
   "metadata": {},
   "source": [
    "4. **딕셔너리 (키 기준)**"
   ]
  },
  {
   "cell_type": "code",
   "execution_count": null,
   "metadata": {},
   "outputs": [],
   "source": [
    "my_dict = {'b': 2, 'a': 1, 'c': 3}\n",
    "sorted_keys = sorted(my_dict)\n",
    "# 결과: ['a', 'b', 'c']"
   ]
  },
  {
   "cell_type": "markdown",
   "metadata": {},
   "source": [
    "5. **집합**"
   ]
  },
  {
   "cell_type": "code",
   "execution_count": null,
   "metadata": {},
   "outputs": [],
   "source": [
    "my_set = {3, 1, 4, 1, 5, 9}\n",
    "sorted_set = sorted(my_set)\n",
    "# 결과: [1, 3, 4, 5, 9]"
   ]
  },
  {
   "cell_type": "markdown",
   "metadata": {},
   "source": [
    "6. **레인지**"
   ]
  },
  {
   "cell_type": "code",
   "execution_count": null,
   "metadata": {},
   "outputs": [],
   "source": [
    "my_range = range(10, 0, -1)\n",
    "sorted_range = sorted(my_range)\n",
    "# 결과: [1, 2, 3, 4, 5, 6, 7, 8, 9, 10]"
   ]
  },
  {
   "cell_type": "markdown",
   "metadata": {},
   "source": [
    "### 정렬 불가능한 이터러블 예시\n",
    "\n",
    "- 비교할 수 없는 요소들이 섞여 있는 이터러블은 정렬할 수 없습니다."
   ]
  },
  {
   "cell_type": "code",
   "execution_count": null,
   "metadata": {},
   "outputs": [],
   "source": [
    "mixed_list = [3, 'apple', 1, 'banana']\n",
    "try:\n",
    "    sorted_list = sorted(mixed_list)\n",
    "except TypeError as e:\n",
    "    print(\"Error:\", e)\n",
    "# 결과: Error: '<' not supported between instances of 'str' and 'int'"
   ]
  },
  {
   "cell_type": "markdown",
   "metadata": {},
   "source": [
    "### 정리\n",
    "\n",
    "- **정렬 가능한 이터러블**: 리스트, 튜플, 문자열, 집합, 레인지, 이터레이터, 제너레이터\n",
    "- **정렬 불가능한 이터러블**: 비교할 수 없는 요소들이 포함된 경우 (예: 숫자와 문자열의 혼합)"
   ]
  },
  {
   "cell_type": "markdown",
   "metadata": {},
   "source": [
    "### `sort()` 메서드\n",
    "\n",
    "`sort()` 메서드는 리스트 객체의 메서드로, 리스트 자체를 정렬합니다. 이 메서드는 리스트를 직접 변경하며, 새로운 리스트를 반환하지 않습니다."
   ]
  },
  {
   "cell_type": "code",
   "execution_count": null,
   "metadata": {},
   "outputs": [],
   "source": [
    "list.sort(key=None, reverse=False)"
   ]
  },
  {
   "cell_type": "markdown",
   "metadata": {},
   "source": [
    "### 매개변수\n",
    "\n",
    "- **key**: 정렬 기준을 제공하는 함수. 각 요소에 대해 호출되어 비교에 사용됩니다.\n",
    "- **reverse**: 정렬 순서를 역순으로 할지 여부. 기본값은 `False` (오름차순 정렬)."
   ]
  },
  {
   "cell_type": "code",
   "execution_count": null,
   "metadata": {},
   "outputs": [],
   "source": [
    "data = [64, 34, 25, 12, 22, 11, 90]\n",
    "\n",
    "# 기본 정렬 (오름차순)\n",
    "data.sort()\n",
    "print(\"오름차순 정렬:\", data)\n",
    "\n",
    "# 내림차순 정렬\n",
    "data.sort(reverse=True)\n",
    "print(\"내림차순 정렬:\", data)\n",
    "\n",
    "# 키를 사용한 정렬 (길이를 기준으로 정렬)\n",
    "words = [\"apple\", \"banana\", \"cherry\", \"date\"]\n",
    "words.sort(key=len)\n",
    "print(\"길이 기준 정렬:\", words)"
   ]
  },
  {
   "cell_type": "markdown",
   "metadata": {},
   "source": [
    "### `sorted()`와 `sort()`의 비교\n",
    "\n",
    "1. **반환 값**\n",
    "    - `sorted()`: 새로운 정렬된 리스트를 반환합니다. 원본 리스트는 변경되지 않습니다.\n",
    "    - `sort()`: 리스트 객체의 메서드로, 원본 리스트를 직접 정렬하며 반환 값은 `None`입니다.\n",
    "2. **사용 대상**\n",
    "    - `sorted()`: 모든 반복 가능한 객체(iterable)를 정렬할 수 있습니다. 예를 들어, 리스트, 튜플, 문자열, 딕셔너리 키 등.\n",
    "    - `sort()`: 리스트 객체에서만 사용 가능합니다.\n",
    "3. **문법**\n",
    "    - `sorted()`: 함수 형태로 호출됩니다. 예: `sorted(list)`\n",
    "    - `sort()`: 리스트 객체의 메서드로 호출됩니다. 예: `list.sort()`"
   ]
  },
  {
   "cell_type": "code",
   "execution_count": null,
   "metadata": {},
   "outputs": [],
   "source": [
    "data = [64, 34, 25, 12, 22, 11, 90]\n",
    "\n",
    "# sorted() 사용\n",
    "sorted_data = sorted(data)\n",
    "print(\"sorted() 결과:\", sorted_data)\n",
    "print(\"원본 리스트:\", data)  # 원본 리스트는 변경되지 않음\n",
    "\n",
    "# sort() 사용\n",
    "data.sort()\n",
    "print(\"sort() 결과:\", data)  # 원본 리스트가 변경됨"
   ]
  },
  {
   "cell_type": "markdown",
   "metadata": {},
   "source": [
    "# 백준 수 정렬하기2 문제"
   ]
  },
  {
   "cell_type": "code",
   "execution_count": null,
   "metadata": {},
   "outputs": [],
   "source": [
    "import sys\n",
    "input = sys.stdin.read\n",
    "\n",
    "# 전체 입력을 읽어와서 줄 단위로 분리\n",
    "data = input().split()\n",
    "\n",
    "# 첫 번째 줄은 n, 나머지는 정렬할 숫자들\n",
    "n = int(data[0])\n",
    "arr = list(map(int, data[1:]))\n",
    "\n",
    "# 중복 제거 및 정렬\n",
    "arr = sorted(set(arr))\n",
    "\n",
    "# 한 줄에 하나씩 출력\n",
    "for num in arr:\n",
    "    print(num)"
   ]
  },
  {
   "cell_type": "markdown",
   "metadata": {},
   "source": [
    "# 백준 대표값2 문제"
   ]
  },
  {
   "cell_type": "code",
   "execution_count": null,
   "metadata": {},
   "outputs": [],
   "source": [
    "x = []\n",
    "\n",
    "for i in range(5):\n",
    "    x.append(int(input()))\n",
    "x.sort()\n",
    "\n",
    "print(int(sum(x)/5))\n",
    "print(x[2])\n",
    "\n",
    "# arr = [int(input()) for _ in range(5)]\n",
    "# 평균 = int(sum(arr) / len(arr))\n",
    "# 중앙값 = sorted(arr)[2]"
   ]
  },
  {
   "cell_type": "markdown",
   "metadata": {},
   "source": [
    "# 백준 수 커트라인 문제"
   ]
  },
  {
   "cell_type": "code",
   "execution_count": null,
   "metadata": {},
   "outputs": [],
   "source": [
    "n, m = map(int,input().split())\n",
    "\n",
    "scores = list(map(int,input().split()))\n",
    "scores.sort(reverse=True)\n",
    "\n",
    "print(scores[m-1])"
   ]
  },
  {
   "cell_type": "markdown",
   "metadata": {},
   "source": [
    "# 백준 소트인사이드 문제"
   ]
  },
  {
   "cell_type": "code",
   "execution_count": null,
   "metadata": {},
   "outputs": [],
   "source": [
    "n = int(input())\n",
    " \n",
    "arr = []\n",
    "for i in str(n):\n",
    "    arr.append(int(i))\n",
    "# arr = list(map(int,str(n))) 으로 변경가능\n",
    "    \n",
    "arr.sort(reverse=True) # 내림차순\n",
    " \n",
    "for i in arr:\n",
    "    print(i,end='')"
   ]
  },
  {
   "cell_type": "code",
   "execution_count": null,
   "metadata": {},
   "outputs": [],
   "source": [
    "arr = ''.join(sorted(input(), reverse=True))\n",
    "print(arr)\n",
    "\n",
    "# join 이용하는 방법.\n"
   ]
  },
  {
   "cell_type": "code",
   "execution_count": null,
   "metadata": {},
   "outputs": [],
   "source": [
    "arr = sorted(input(), reverse=True)\n",
    "\n",
    "for element in arr:\n",
    "    print(element, end='')\n",
    "    \n",
    "# sorted 이용 방법."
   ]
  },
  {
   "cell_type": "markdown",
   "metadata": {},
   "source": [
    "# 백준 좌표 정렬하기 문제"
   ]
  },
  {
   "cell_type": "code",
   "execution_count": null,
   "metadata": {},
   "outputs": [],
   "source": [
    "n = int(input())\n",
    "arr = []\n",
    "\n",
    "for i in range(n):\n",
    "    a,b = map(int,input().split())\n",
    "    arr.append((a,b))\n",
    "arr.sort()\n",
    "\n",
    "for i in range(n):\n",
    "    print(arr[i][0],arr[i][1])"
   ]
  },
  {
   "cell_type": "code",
   "execution_count": null,
   "metadata": {},
   "outputs": [],
   "source": [
    "n = int(input())\n",
    "# coordinates = 좌표\n",
    "coords = [list(map(input().split() for _ in range(n)))]\n",
    "coords.sort()\n",
    "\n",
    "for x, y in coords:\n",
    "    print(x, y)"
   ]
  },
  {
   "cell_type": "markdown",
   "metadata": {},
   "source": [
    "## `key` 매개변수의 활용\n",
    "\n",
    "- `key` 매개변수는 각 요소에 대해 호출되는 함수를 지정하여 정렬 기준을 커스터마이즈할 수 있습니다. 이를 통해 다양한 기준으로 정렬할 수 있습니다."
   ]
  },
  {
   "cell_type": "code",
   "execution_count": null,
   "metadata": {},
   "outputs": [],
   "source": [
    "# 리스트를 절대값을 기준으로 정렬\n",
    "numbers = [-5, -2, -1, 0, 1, 3, 7, 8, -9]\n",
    "sorted_numbers = sorted(numbers, key=abs)\n",
    "print(\"절대값 기준 정렬:\", sorted_numbers)\n",
    "\n",
    "# 딕셔너리의 리스트를 특정 키를 기준으로 정렬\n",
    "students = [\n",
    "    {\"name\": \"John\", \"age\": 25},\n",
    "    {\"name\": \"Jane\", \"age\": 22},\n",
    "    {\"name\": \"Dave\", \"age\": 23}\n",
    "]\n",
    "\n",
    "# 나이를 기준으로 정렬\n",
    "sorted_students = sorted(students, key=lambda x: x[\"age\"])\n",
    "print(\"나이 기준 정렬:\", sorted_students)\n",
    "\n",
    "# 이름을 기준으로 정렬\n",
    "sorted_students_by_name = sorted(students, key=lambda x: x[\"name\"])\n",
    "print(\"이름 기준 정렬:\", sorted_students_by_name)\n"
   ]
  },
  {
   "cell_type": "markdown",
   "metadata": {},
   "source": [
    "### `key` 매개변수를 사용하여 복잡한 데이터 구조를 정렬할 때의 예제\n",
    "\n",
    "- `key` 매개변수를 사용하면 리스트의 요소가 복잡한 데이터 구조일 때도 쉽게 정렬할 수 있습니다.\n",
    "- 딕셔너리의 리스트, 객체의 리스트 등을 정렬할 수 있습니다.\n",
    "\n",
    "### 예제 1: 딕셔너리의 리스트 정렬\n",
    "\n",
    "- 학생들의 딕셔너리 리스트를 나이, 이름, 성적 등을 기준으로 정렬해 보겠습니다."
   ]
  },
  {
   "cell_type": "code",
   "execution_count": null,
   "metadata": {},
   "outputs": [],
   "source": [
    "students = [\n",
    "    {\"name\": \"John\", \"age\": 25, \"grade\": 85},\n",
    "    {\"name\": \"Jane\", \"age\": 22, \"grade\": 90},\n",
    "    {\"name\": \"Dave\", \"age\": 23, \"grade\": 88},\n",
    "    {\"name\": \"Alice\", \"age\": 24, \"grade\": 95}\n",
    "]\n",
    "\n",
    "# 나이 기준으로 정렬\n",
    "sorted_by_age = sorted(students, key=lambda x: x[\"age\"])\n",
    "print(\"나이 기준 정렬:\", sorted_by_age)\n",
    "\n",
    "# 이름 기준으로 정렬\n",
    "sorted_by_name = sorted(students, key=lambda x: x[\"name\"])\n",
    "print(\"이름 기준 정렬:\", sorted_by_name)\n",
    "\n",
    "# 성적 기준으로 정렬\n",
    "sorted_by_grade = sorted(students, key=lambda x: x[\"grade\"])\n",
    "print(\"성적 기준 정렬:\", sorted_by_grade)\n"
   ]
  },
  {
   "cell_type": "markdown",
   "metadata": {},
   "source": [
    "### 예제 2: 복합 기준 정렬\n",
    "\n",
    "- 여러 기준을 사용하여 정렬할 수도 있습니다.\n",
    "- 예를 들어, 나이와 성적을 모두 고려하여 정렬할 수 있습니다."
   ]
  },
  {
   "cell_type": "code",
   "execution_count": null,
   "metadata": {},
   "outputs": [],
   "source": [
    "students = [\n",
    "    {\"name\": \"John\", \"age\": 25, \"grade\": 85},\n",
    "    {\"name\": \"Jane\", \"age\": 22, \"grade\": 90},\n",
    "    {\"name\": \"Anna\", \"age\": 22, \"grade\": 91},\n",
    "    {\"name\": \"Dave\", \"age\": 23, \"grade\": 88},\n",
    "    {\"name\": \"Alice\", \"age\": 24, \"grade\": 95}\n",
    "]\n",
    "\n",
    "# 나이와 성적 기준으로 정렬 (먼저 나이, 그 다음 성적)\n",
    "sorted_by_age_then_grade = sorted(students, key=lambda x: (x[\"age\"], x[\"grade\"]))\n",
    "print(\"나이와 성적 기준 정렬:\", sorted_by_age_then_grade)"
   ]
  },
  {
   "cell_type": "markdown",
   "metadata": {},
   "source": [
    "### 예제 3: 클래스 객체의 리스트 정렬\n",
    "\n",
    "- 클래스 객체의 리스트를 정렬하는 예제입니다."
   ]
  },
  {
   "cell_type": "code",
   "execution_count": null,
   "metadata": {},
   "outputs": [],
   "source": [
    "class Student:\n",
    "    def __init__(self, name, age, grade):\n",
    "        self.name = name\n",
    "        self.age = age\n",
    "        self.grade = grade\n",
    "\n",
    "    def __repr__(self):\n",
    "        return f\"{self.name}({self.age}, {self.grade})\"\n",
    "\n",
    "students = [\n",
    "    Student(\"John\", 25, 85),\n",
    "    Student(\"Jane\", 22, 90),\n",
    "    Student(\"Dave\", 23, 88),\n",
    "    Student(\"Alice\", 24, 95)\n",
    "]\n",
    "\n",
    "# 나이 기준으로 정렬\n",
    "sorted_students_by_age = sorted(students, key=lambda student: student.age)\n",
    "print(\"나이 기준 정렬:\", sorted_students_by_age)\n",
    "\n",
    "# 이름 기준으로 정렬\n",
    "sorted_students_by_name = sorted(students, key=lambda student: student.name)\n",
    "print(\"이름 기준 정렬:\", sorted_students_by_name)\n",
    "\n",
    "# 성적 기준으로 정렬\n",
    "sorted_students_by_grade = sorted(students, key=lambda student: student.grade)\n",
    "print(\"성적 기준 정렬:\", sorted_students_by_grade)\n"
   ]
  },
  {
   "cell_type": "markdown",
   "metadata": {},
   "source": [
    "### 요약\n",
    "\n",
    "- `sorted()`는 새로운 정렬된 리스트를 반환하고, 원본 리스트는 변경되지 않습니다. 반복 가능한 모든 객체에 사용할 수 있습니다.\n",
    "- `sort()`는 리스트 객체의 메서드로, 리스트 자체를 정렬합니다. 반환 값은 `None`이며, 원본 리스트가 변경됩니다.\n",
    "- 두 함수 모두 `key` 매개변수를 통해 정렬 기준을 지정할 수 있으며, `reverse` 매개변수를 통해 오름차순 또는 내림차순 정렬을 지정할 수 있습니다."
   ]
  },
  {
   "cell_type": "markdown",
   "metadata": {},
   "source": [
    "# 백준 좌표 정렬하기2 문제"
   ]
  },
  {
   "cell_type": "code",
   "execution_count": null,
   "metadata": {},
   "outputs": [],
   "source": [
    "n = int(input())\n",
    "\n",
    "coords = [list(map(int(input().split()))) for _ in range(n)]\n",
    "\n",
    "sorted_coords = sorted(coords, key=lambda x: x[1])\n",
    "# sorted(coords, key=lambda x: (x[1], x[0]))\n",
    "\n",
    "for x, y in sorted_coords:\n",
    "    print(x, y)"
   ]
  },
  {
   "cell_type": "markdown",
   "metadata": {},
   "source": [
    "# 프로그래머스 K번째 수 문제"
   ]
  },
  {
   "cell_type": "code",
   "execution_count": null,
   "metadata": {},
   "outputs": [],
   "source": [
    "def solution(array, commands):\n",
    "    answer = []\n",
    "    \n",
    "    for i in commands:\n",
    "        ary = array[i[0]-1: i[1]]    # 문제에서 주어진 크기만큼 자르기\n",
    "        ary.sort()    # sort 함수로 정렬\n",
    "        answer.append(ary[i[2]-1])    # k 번째 값 집어넣기\n",
    "        \n",
    "    return answer\n",
    "\n",
    "# 초기화: answer 리스트를 빈 리스트로 초기화합니다.\n",
    "# 반복문: commands 리스트를 순회하며 각 명령을 i에 할당합니다.\n",
    "# 슬라이싱: array에서 i[0]-1부터 i[1]까지의 부분 배열을 ary에 할당합니다.\n",
    "# 정렬: ary를 정렬합니다.\n",
    "# 추가: 정렬된 ary의 i[2]-1번째 값을 answer 리스트에 추가합니다.\n",
    "# 반환: 최종적으로 answer 리스트를 반환합니다."
   ]
  },
  {
   "cell_type": "code",
   "execution_count": null,
   "metadata": {},
   "outputs": [],
   "source": [
    "def solution(array, commands):\n",
    "    return list(map(lambda x:sorted(array[x[0]-1:x[1]])[x[2]-1], commands))\n",
    "\n",
    "# lambda 함수: 각 명령 x에 대해 다음 작업을 수행하는 익명 함수를 정의합니다.\n",
    "# array[x[0]-1:x[1]]: array에서 부분 배열을 슬라이싱합니다.\n",
    "# sorted(array[x[0]-1:x[1]]): 슬라이싱된 부분 배열을 정렬합니다.\n",
    "# sorted(array[x[0]-1:x[1]])[x[2]-1]: 정렬된 배열에서 x[2]-1번째 값을 추출합니다.\n",
    "# map 함수: commands 리스트의 각 요소에 대해 lambda 함수를 적용합니다.\n",
    "# list로 변환: map 객체를 리스트로 변환하여 반환합니다."
   ]
  },
  {
   "cell_type": "code",
   "execution_count": null,
   "metadata": {},
   "outputs": [],
   "source": [
    "import heapq\n",
    "\n",
    "def solution(array, commands):\n",
    "    \n",
    "    answer = []\n",
    "    \n",
    "    for command in commands:\n",
    "    # commands 리스트를 순회하며 각 명령을 command에 할당합니다.\n",
    "        start, end, k = command\n",
    "        sub_array = array[start-1:end]\n",
    "        # array에서 start-1부터 end까지의 부분 배열을 sub_array에 할당합니다.\n",
    "        \n",
    "        heapq.heapify(sub_array)\n",
    "        # heapq.heapify(sub_array)를 사용하여 부분 배열을 힙으로 변환합니다\n",
    "        kth_smallest = heapq.nsmallest(k, sub_array)[-1]\n",
    "        # sub_array 에서 k 번째로 작은 원소를 찾는다.\n",
    "        # 이 함수는 k 개의 가장 작은 요소들을 리스트로 반환,\n",
    "        # k번째 요소를 얻기 위해 [-1] 인덱싱을 사용.\n",
    "        \n",
    "        answer.append(kth_smallest)\n",
    "        \n",
    "    return answer"
   ]
  },
  {
   "cell_type": "code",
   "execution_count": null,
   "metadata": {},
   "outputs": [],
   "source": [
    "def solution(array, commands):\n",
    "    answer = []\n",
    "    for i, j, k in commands:\n",
    "        slice_array = array[i-1: j]\n",
    "        sorted_array = sorted(slice_array)\n",
    "        kth_number = sorted_array[k-1]\n",
    "        answer.append(kth_number)\n",
    "    return answer"
   ]
  },
  {
   "cell_type": "markdown",
   "metadata": {},
   "source": [
    "# 프로그래머스 가장 큰수 LV2 문제 "
   ]
  },
  {
   "cell_type": "code",
   "execution_count": null,
   "metadata": {},
   "outputs": [],
   "source": [
    "def solution(numbers):\n",
    "    numbers = list(map(str, numbers))\n",
    "    numbers.sort(key=lambda x: x*3, reverse=True)\n",
    "    return str(int(''.join(numbers)))"
   ]
  },
  {
   "cell_type": "code",
   "execution_count": null,
   "metadata": {},
   "outputs": [],
   "source": [
    "from functools import cmp_to_key\n",
    "\n",
    "def compare(x, y):  # x: 왼쪽 y: 오른쪽\n",
    "    if int(x + y) > int(y + x):\n",
    "        return 1\n",
    "    else:\n",
    "        return -1\n",
    "\n",
    "def solution(numbers):\n",
    "    numbers = [0,0]\n",
    "    str_numbers = list(map(str, numbers))\n",
    "    str_numbers.sort(key=cmp_to_key(compare), reverse=True)\n",
    "    return str(int(''.join(str_numbers)))"
   ]
  },
  {
   "cell_type": "code",
   "execution_count": null,
   "metadata": {},
   "outputs": [],
   "source": [
    "from functools import cmp_to_key\n",
    "\n",
    "def compare(x, y):\n",
    "    if x + y > y + x:\n",
    "        return -1\n",
    "    elif x + y < y + x:\n",
    "        return 1\n",
    "    else:\n",
    "        return 0\n",
    "\n",
    "def solution(numbers):\n",
    "    numbers = list(map(str, numbers))\n",
    "    numbers.sort(key=cmp_to_key(compare))\n",
    "    return str(int(''.join(numbers)))\n",
    "\n",
    "# functools, cmp_to_key 예시\n",
    "# from functools import cmp_to_key\n",
    "\n",
    "# # 오름차순.\n",
    "# def compare(x, y):\n",
    "#     if x > y:\n",
    "#         return 1    # y가 x 오른쪽에 위치 시키게 한다.\n",
    "#     else:\n",
    "#         return -1   # x가 y 오른쪽에 위치 시키게 한다.\n",
    "\n",
    "# a = [5,3,4,2,4]\n",
    "# print(sorted(a, key=cmp_to_key(compare)))\n",
    "\n",
    "# def compare(x, y):\n",
    "#     if len(x) > len(y):\n",
    "#         return 1\n",
    "#     else:\n",
    "#         return -1\n",
    "\n",
    "# a = [5,3,4,2,4]\n",
    "# print(sorted(a, key=cmp_to_key(compare)))"
   ]
  },
  {
   "cell_type": "code",
   "execution_count": null,
   "metadata": {},
   "outputs": [],
   "source": [
    "def solution(nubers):\n",
    "    numbers = list(map(str, numbers))\n",
    "    \n",
    "    for i in range(1, len(nubers)):\n",
    "        key = numbers[i]\n",
    "        j = i -1\n",
    "        \n",
    "        while j >= 0 and (numbers[j] + key < key + numbers[j]):\n",
    "            numbers[j + 1] = nubers[j]\n",
    "            j -= 1\n",
    "        nubers[j + 1] = key\n",
    "        \n",
    "    return str(int(''.join(numbers)))"
   ]
  },
  {
   "cell_type": "code",
   "execution_count": null,
   "metadata": {},
   "outputs": [],
   "source": [
    "import heapq\n",
    "\n",
    "def solution(numbers):\n",
    "    numbers = list(map(str, numbers))\n",
    "    heapq.heapify(numbers)\n",
    "    sorted_numbers = []\n",
    "\n",
    "    while numbers:\n",
    "        sorted_numbers.append(heapq.heappop(numbers))\n",
    "\n",
    "    sorted_numbers.sort(key=lambda x: x*3, reverse=True)\n",
    "    return str(int(''.join(sorted_numbers)))\n"
   ]
  },
  {
   "cell_type": "markdown",
   "metadata": {},
   "source": [
    "# 프로그래머스 H-Index 문제"
   ]
  },
  {
   "cell_type": "code",
   "execution_count": null,
   "metadata": {},
   "outputs": [],
   "source": [
    "def solution(citations):\n",
    "    citations.sort(reverse=True)\n",
    "    for i in range(len(citations)):\n",
    "        if citations[i] <= i:\n",
    "            return i\n",
    "    return len(citations)"
   ]
  },
  {
   "cell_type": "code",
   "execution_count": null,
   "metadata": {},
   "outputs": [],
   "source": [
    "def solution(citations):\n",
    "    citations.sort(reverse=True)\n",
    "    h_index = 0\n",
    "    \n",
    "    for i, c in enumerate(citations):\n",
    "        if c >= i + 1:\n",
    "            h_index = i + 1\n",
    "        else:\n",
    "            break\n",
    "        \n",
    "    return h_index"
   ]
  },
  {
   "cell_type": "code",
   "execution_count": null,
   "metadata": {},
   "outputs": [],
   "source": [
    "def solution(citations):\n",
    "    n = len(citations)\n",
    "    \n",
    "    count = [0] * (n +1)\n",
    "    \n",
    "    for c in citations:\n",
    "        if c >= n:\n",
    "            count[n] += 1\n",
    "        else:\n",
    "            count[c] += 1\n",
    "            \n",
    "    total = 0\n",
    "    \n",
    "    for i in range(n, -1, -1):\n",
    "        total += count[i]\n",
    "        if total >= i:\n",
    "            return i\n",
    "        \n",
    "    return 0"
   ]
  },
  {
   "cell_type": "code",
   "execution_count": null,
   "metadata": {},
   "outputs": [],
   "source": [
    "def solution(citations):\n",
    "    citations.sort()\n",
    "    n = len(citations)\n",
    "    left, right = 0, n\n",
    "    \n",
    "    while left < right:\n",
    "        mid = (left + right) // 2\n",
    "        if citations[mid] >= n - mid:\n",
    "            right = mid\n",
    "        else:\n",
    "            left = mid + 1\n",
    "            \n",
    "    return n - left"
   ]
  },
  {
   "cell_type": "markdown",
   "metadata": {},
   "source": [
    "# 백준 단어 정렬 문제"
   ]
  },
  {
   "cell_type": "code",
   "execution_count": null,
   "metadata": {},
   "outputs": [],
   "source": [
    "n = int(input())\n",
    "# 숫자 입력 받기\n",
    "# words = set()\n",
    "# 비어있는 집합을 만들어서 중복된 단어 제거\n",
    "\n",
    "# for _ in range(13):\n",
    "#     word = input()\n",
    "#     words.add(word)\n",
    "\n",
    "words = set(input() for _ in range(n))\n",
    "    \n",
    "sotred_words = sorted(words, key=lambda x: (len(x), x))\n",
    "# 단어의 길이, 사전순 으로 정렬.\n",
    "\n",
    "for word in sotred_words:\n",
    "    print(word)\n",
    "    \n",
    "# 자료를 추가 -> 정렬 -> 출력"
   ]
  },
  {
   "cell_type": "code",
   "execution_count": null,
   "metadata": {},
   "outputs": [],
   "source": [
    "import heapq\n",
    "\n",
    "n = int(input())\n",
    "\n",
    "heap = list()\n",
    "words =set()\n",
    "\n",
    "for _ in range(n):\n",
    "    word = input()\n",
    "    if word not in words:\n",
    "    # 단어 사전에 아직 없는 단어라면 (중복 확인)\n",
    "        heapq.heappush(words, (len(word), word))\n",
    "        # (heap, item) heap 배열에 item을 정렬된 상태로 추가해주겠다.\n",
    "        words.add(word)\n",
    "        # 단어가 등장할 때마다 단어 사전에 추가    \n",
    "while heap:\n",
    "    word = heapq.heappop(heap)\n",
    "    print(word[1]) # 튜플에서 두 번째 원소만 출력.\n",
    "    \n",
    "\n",
    "# 정렬이 된 상태로 자료를 추가하고 그대로 출력"
   ]
  },
  {
   "cell_type": "markdown",
   "metadata": {},
   "source": [
    "# 리트코드 56번 문제"
   ]
  },
  {
   "cell_type": "code",
   "execution_count": null,
   "metadata": {},
   "outputs": [],
   "source": [
    "from typing import List\n",
    "\n",
    "class Solution:\n",
    "    def merge(self, intervals: List[List[int]]) -> List[List[int]]:\n",
    "        merged = []\n",
    "        for i in sorted(intervals, key=lambda x: x[0]):\n",
    "            if merged and i[0] <= merged[-1][1]:\n",
    "                merged[-1][1] = max(merged[-1][1], i[1])\n",
    "            else:\n",
    "                merged += i,\n",
    "                # merged += i, = 튜플로 생성 한다. 콤마가 튜플을 생성하는 역할.\n",
    "                # 콤마는 중첩 리스트로 만들어주는 역할을 한다.\n",
    "                # 대괄호 사용하는것과 같아서 편한 방법으로 하면 됨.\n",
    "        return merged"
   ]
  },
  {
   "cell_type": "code",
   "execution_count": null,
   "metadata": {},
   "outputs": [],
   "source": [
    "from typing import List\n",
    "\n",
    "class Solution:\n",
    "    def merge(self, intervals: List[List[int]]) -> List[List[int]]:\n",
    "        result = []\n",
    "        for i in sorted(intervals):\n",
    "            if result and i[0] <= result[-1][1]:\n",
    "                result[-1][1] = max(result[-1][1], i[1])\n",
    "            else:\n",
    "                result += [i]\n",
    "        return result"
   ]
  },
  {
   "cell_type": "markdown",
   "metadata": {},
   "source": [
    "# 리트코드 973번 문제"
   ]
  },
  {
   "cell_type": "code",
   "execution_count": null,
   "metadata": {},
   "outputs": [],
   "source": [
    "from typing import List\n",
    "import heapq\n",
    "\n",
    "class Solution:\n",
    "    def kClosest(self, points: List[List[int]], k: int) -> List[List[int]]:\n",
    "        heap = []\n",
    "        \n",
    "        for (x,y) in points:\n",
    "            dist = x ** 2 + y ** 2\n",
    "            # dist = math.sqrt(x ** 2 + y ** 2)\n",
    "            # import math 하면 재곱근 계산 가능.\n",
    "            heapq.heappush(heap, (dist, x, y))\n",
    "            \n",
    "        result = []\n",
    "        \n",
    "        for _ in range(k):\n",
    "            (dist, x, y) = heapq.heappop(heap)\n",
    "            # _, (x, y) = heapq.heappop(heap)\n",
    "            # dist는 사용은 안할거라 _ 로 처리해도 가능.\n",
    "            result.append((x,y))\n",
    "            \n",
    "        return result"
   ]
  },
  {
   "cell_type": "code",
   "execution_count": null,
   "metadata": {},
   "outputs": [],
   "source": [
    "class Solution:\n",
    "    def kClosest(self, points: List[List[int]], k: int) -> List[List[int]]:\n",
    "        points.sort(key=lambda x: x[0] ** 2 + x[1] ** 2)\n",
    "        return points[:k]"
   ]
  }
 ],
 "metadata": {
  "kernelspec": {
   "display_name": "Python 3",
   "language": "python",
   "name": "python3"
  },
  "language_info": {
   "codemirror_mode": {
    "name": "ipython",
    "version": 3
   },
   "file_extension": ".py",
   "mimetype": "text/x-python",
   "name": "python",
   "nbconvert_exporter": "python",
   "pygments_lexer": "ipython3",
   "version": "3.12.3"
  }
 },
 "nbformat": 4,
 "nbformat_minor": 2
}
