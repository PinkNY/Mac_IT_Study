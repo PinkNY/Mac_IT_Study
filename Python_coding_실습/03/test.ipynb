{
 "cells": [
  {
   "cell_type": "markdown",
   "metadata": {},
   "source": [
    "시간 복잡도 - 빅 오(Big-O) 표기법"
   ]
  },
  {
   "cell_type": "code",
   "execution_count": 22,
   "metadata": {},
   "outputs": [
    {
     "name": "stdout",
     "output_type": "stream",
     "text": [
      "0\n",
      "100000\n",
      "200000\n",
      "300000\n",
      "400000\n",
      "500000\n",
      "600000\n",
      "700000\n",
      "800000\n",
      "900000\n",
      "Execution time: 0.05948138236999512 seconds\n"
     ]
    }
   ],
   "source": [
    "import time\n",
    "\n",
    "def is_even(n):\n",
    "    return n % 2 == 0\n",
    "\n",
    "numbers = list(range(1000000))\n",
    "\n",
    "start = time.time()\n",
    "for n in numbers:\n",
    "    if n % 100000 == 0:\n",
    "        print(n)\n",
    "end = time.time()\n",
    "print(f\"Execution time: {end - start} seconds\")"
   ]
  },
  {
   "cell_type": "markdown",
   "metadata": {},
   "source": [
    "### *O*(1).\n",
    "\n",
    "**설명: is_even** 함수는 입력 값 **n**에 대해 단 한 번의 나머지 연산을 수행합니다. 이 연산은 입력 크기에 관계없이 일정한 시간이 소요되므로 시간 복잡도는 𝑂(1)입니다."
   ]
  },
  {
   "cell_type": "code",
   "execution_count": 2,
   "metadata": {},
   "outputs": [
    {
     "name": "stdout",
     "output_type": "stream",
     "text": [
      "Execution time: 0.025936126708984375 seconds\n"
     ]
    }
   ],
   "source": [
    "import time\n",
    "\n",
    "def sum_array(arr):\n",
    "    total = 0\n",
    "    for num in arr:\n",
    "        total += num\n",
    "    return total\n",
    "\n",
    "arr = list(range(1000000))\n",
    "start = time.time()\n",
    "sum_array(arr)\n",
    "end = time.time()\n",
    "print(f\"Execution time: {end - start} seconds\")"
   ]
  },
  {
   "cell_type": "markdown",
   "metadata": {},
   "source": [
    "### O(N)\n",
    "\n",
    "**설명:** **sum_array** 함수는 배열의 모든 요소를 한 번씩 순회하며 합계를 계산합니다. 배열의 크기가 *N*일 때, 순회하는 데 걸리는 시간은 *N*에 비례하므로 시간 복잡도는 *O*(*N*)입니다."
   ]
  },
  {
   "cell_type": "code",
   "execution_count": 3,
   "metadata": {},
   "outputs": [
    {
     "name": "stdout",
     "output_type": "stream",
     "text": [
      "Execution time: 0.06298494338989258 seconds\n"
     ]
    }
   ],
   "source": [
    "import time\n",
    "\n",
    "def contains_duplicate(arr):\n",
    "    seen = set()\n",
    "    for num in arr:\n",
    "        if num in seen:\n",
    "            return True\n",
    "        seen.add(num)\n",
    "    return False\n",
    "\n",
    "arr = list(range(1000000)) + [0]\n",
    "start = time.time()\n",
    "contains_duplicate(arr)\n",
    "end = time.time()\n",
    "print(f\"Execution time: {end - start} seconds\")\n"
   ]
  },
  {
   "cell_type": "markdown",
   "metadata": {},
   "source": [
    "### *O*(*N*).\n",
    "\n",
    "**설명:** **contains_duplicate** 함수는 배열의 각 요소를 한 번씩 순회하며, 이미 본 요소를 집합에 추가하거나 중복을 확인합니다. 배열의 크기가 *N*일 때, 순회하는 데 걸리는 시간은 *N*에 비례하므로 시간 복잡도는 *O*(*N*)입니다."
   ]
  },
  {
   "cell_type": "code",
   "execution_count": 4,
   "metadata": {},
   "outputs": [
    {
     "name": "stdout",
     "output_type": "stream",
     "text": [
      "Execution time: 0.0159451961517334 seconds\n"
     ]
    }
   ],
   "source": [
    "import time\n",
    "\n",
    "def selection_sort(arr):\n",
    "    n = len(arr)\n",
    "    for i in range(n):\n",
    "        min_idx = i\n",
    "        for j in range(i+1, n):\n",
    "            if arr[j] < arr[min_idx]:\n",
    "                min_idx = j\n",
    "        arr[i], arr[min_idx] = arr[min_idx], arr[i]\n",
    "    return arr\n",
    "\n",
    "arr = list(range(1000, 0, -1))\n",
    "start = time.time()\n",
    "selection_sort(arr)\n",
    "end = time.time()\n",
    "print(f\"Execution time: {end - start} seconds\")"
   ]
  },
  {
   "cell_type": "markdown",
   "metadata": {},
   "source": [
    "### *O(N^2).*\n",
    "\n",
    "**설명:** **`selection_sort`** 함수는 배열의 각 요소에 대해 나머지 요소들과 비교하여 최소값을 찾습니다. 첫 번째 요소를 정렬하는 데 *N*번 비교하고, 두 번째 요소는 *N*−1번 비교하는 식으로 총 $N + (N-1) + (N-2) + \\cdots + 1 = \\frac{N(N-1)}{2}$ 번 비교를 수행하므로 시간 복잡도는 $N^2$입니다."
   ]
  },
  {
   "cell_type": "code",
   "execution_count": 5,
   "metadata": {},
   "outputs": [
    {
     "name": "stdout",
     "output_type": "stream",
     "text": [
      "Execution time: 0.03127312660217285 seconds\n"
     ]
    }
   ],
   "source": [
    "import time\n",
    "\n",
    "def find_sum_pairs(arr, target):\n",
    "    pairs = []\n",
    "    for i in range(len(arr)):\n",
    "        for j in range(i + 1, len(arr)):\n",
    "            if arr[i] + arr[j] == target:\n",
    "                pairs.append((arr[i], arr[j]))\n",
    "    return pairs\n",
    "\n",
    "arr = list(range(1000))\n",
    "target = 1998\n",
    "start = time.time()\n",
    "find_sum_pairs(arr, target)\n",
    "end = time.time()\n",
    "print(f\"Execution time: {end - start} seconds\")"
   ]
  },
  {
   "cell_type": "markdown",
   "metadata": {},
   "source": [
    "### $*O(N^2)*$\n",
    "\n",
    "**설명:** **`find_sum_pairs`** 함수는 배열의 각 요소에 대해 나머지 모든 요소들과 쌍을 이루어 합이 **`target`**과 같은지 확인합니다. 배열의 각 요소에 대해 나머지 요소들과 비교하므로, 최악의 경우 *N*번의 요소를 *N*−1번 비교하여 *N*×(*N*−1) 번 비교를 수행하므로 시간 복잡도는 $*O(N^2)*$입니다."
   ]
  },
  {
   "cell_type": "code",
   "execution_count": 23,
   "metadata": {},
   "outputs": [],
   "source": [
    "def find_sum_pairs(arr, target):\n",
    "    pairs = []\n",
    "    for i in range(len(arr)):\n",
    "        for j in range(i + 1, len(arr)):\n",
    "            if arr[i] + arr[j] == target:\n",
    "                pairs.append((arr[i], arr[j]))\n",
    "                \n",
    "    for i in range(len(arr)):\n",
    "        for j in range(i + 1, len(arr)):\n",
    "            if arr[i] + arr[j] == target:\n",
    "                pairs.append((arr[i], arr[j]))\n",
    "                \n",
    "    return pairs\n",
    "\n",
    "# $O(N^2)$"
   ]
  },
  {
   "cell_type": "markdown",
   "metadata": {},
   "source": [
    "O(1)\n",
    "\n",
    "입력값(N)이 증가해도 실행시간은 동일한 알고리즘, index로 접근하여 바로 처리할 수 있는 연산 과정의 시간 복잡도 → 기본 연산 수라고 생각하면 편함\n",
    "\n",
    "ex) stack의 push, pop\n",
    "\n",
    "O(log N)\n",
    "\n",
    "연산이 한 번 실행될 때 마다 데이터의 크기가 절반 감소하는 알고리즘 (log의 지수는 항상 2)\n",
    "\n",
    "ex) binary search 알고리즘, tree 형태 자료구조 탐색\n",
    "\n",
    "O(N)\n",
    "\n",
    "입력값(N)이 증가함에 따라 실행시간도 선형적으로 증가하는 알고리즘\n",
    "\n",
    "ex) 1중 for문\n",
    "\n",
    "O(N log N)\n",
    "\n",
    "O(N)의 알고리즘과 O(log N)의 알고리즘이 중첩된 형태\n",
    "\n",
    "ex) 퀵 / 병합 / 힙 정렬\n",
    "\n",
    "O(N^2)\n",
    "\n",
    "O(N)의 알고리즘과 O(log N)의 알고리즘이 중첩된 형태\n",
    "\n",
    "ex) 2중 For 문, 삽입/거품/선택 정렬\n",
    "\n",
    "O(2^N)\n",
    "\n",
    "빅오 표기법 중 가장 느린 시간 복잡도로 주로 재귀적으로 수행하는 알고리즘이 이에 해당\n",
    "\n",
    "ex) fibonacci 수열"
   ]
  },
  {
   "cell_type": "markdown",
   "metadata": {},
   "source": [
    "### 리스트의 주요 특징\n",
    "\n",
    "1. **순서가 있는 데이터 구조 (Ordered)**: 리스트는 항목들이 입력된 순서대로 유지됩니다.\n",
    "2. **가변성 (Mutable)**: 리스트는 생성된 이후에도 항목을 추가, 제거, 수정할 수 있습니다.\n",
    "3. **중복 허용 (Allow Duplicates)**: 리스트는 중복된 값을 허용합니다.\n",
    "4. **다양한 데이터 타입 저장 가능 (Heterogeneous)**: 리스트는 문자열, 숫자, 다른 리스트 등 다양한 데이터 타입을 저장할 수 있습니다."
   ]
  },
  {
   "cell_type": "markdown",
   "metadata": {},
   "source": [
    "### 리스트 생성\n",
    "\n",
    "리스트는 대괄호를 사용하여 생성할 수 있습니다."
   ]
  },
  {
   "cell_type": "code",
   "execution_count": null,
   "metadata": {},
   "outputs": [],
   "source": [
    "# 빈 리스트 생성\n",
    "empty_list = []\n",
    "\n",
    "# 여러 데이터 타입을 포함한 리스트 생성\n",
    "mixed_list = [1, \"hello\", 3.14, True, [1, 2, 3]]\n"
   ]
  },
  {
   "cell_type": "markdown",
   "metadata": {},
   "source": [
    "리스트의 기본 연산"
   ]
  },
  {
   "cell_type": "markdown",
   "metadata": {},
   "source": [
    "항목 접근 (Indexing):"
   ]
  },
  {
   "cell_type": "code",
   "execution_count": null,
   "metadata": {},
   "outputs": [],
   "source": [
    "numbers = [10, 20, 30, 40, 50]\n",
    "print(numbers[0])  # 10\n",
    "print(numbers[-1]) # 50 (역순 인덱스)\n"
   ]
  },
  {
   "cell_type": "markdown",
   "metadata": {},
   "source": [
    "항목 변경 (Modifying):"
   ]
  },
  {
   "cell_type": "code",
   "execution_count": null,
   "metadata": {},
   "outputs": [],
   "source": [
    "numbers[0] = 100\n",
    "print(numbers)  # [100, 20, 30, 40, 50]\n"
   ]
  },
  {
   "cell_type": "markdown",
   "metadata": {},
   "source": [
    "항목 추가 (Appending):"
   ]
  },
  {
   "cell_type": "code",
   "execution_count": null,
   "metadata": {},
   "outputs": [],
   "source": [
    "numbers.append(60)\n",
    "print(numbers)  # [100, 20, 30, 40, 50, 60]\n"
   ]
  },
  {
   "cell_type": "markdown",
   "metadata": {},
   "source": [
    "항목 삽입 (Inserting):"
   ]
  },
  {
   "cell_type": "code",
   "execution_count": null,
   "metadata": {},
   "outputs": [],
   "source": [
    "numbers.insert(2, 25)\n",
    "print(numbers)  # [100, 20, 25, 30, 40, 50, 60]\n"
   ]
  },
  {
   "cell_type": "markdown",
   "metadata": {},
   "source": [
    "항목 제거 (Removing):"
   ]
  },
  {
   "cell_type": "code",
   "execution_count": null,
   "metadata": {},
   "outputs": [],
   "source": [
    "numbers.remove(30)\n",
    "print(numbers)  # [100, 20, 25, 40, 50, 60]\n"
   ]
  },
  {
   "cell_type": "markdown",
   "metadata": {},
   "source": [
    "항목 팝 (Pop):"
   ]
  },
  {
   "cell_type": "code",
   "execution_count": null,
   "metadata": {},
   "outputs": [],
   "source": [
    "last_item = numbers.pop()\n",
    "print(last_item)  # 60\n",
    "print(numbers)    # [100, 20, 25, 40, 50]\n"
   ]
  },
  {
   "cell_type": "markdown",
   "metadata": {},
   "source": [
    "항목 포함 여부 확인 (Checking Membership):"
   ]
  },
  {
   "cell_type": "code",
   "execution_count": null,
   "metadata": {},
   "outputs": [],
   "source": [
    "print(20 in numbers)  # True\n",
    "print(70 in numbers)  # False\n"
   ]
  },
  {
   "cell_type": "markdown",
   "metadata": {},
   "source": [
    "리스트의 주요 메소드"
   ]
  },
  {
   "cell_type": "markdown",
   "metadata": {},
   "source": [
    "extend(): 리스트에 다른 리스트나 반복 가능한 객체의 모든 항목을 추가합니다."
   ]
  },
  {
   "cell_type": "code",
   "execution_count": null,
   "metadata": {},
   "outputs": [],
   "source": [
    "numbers.extend([70, 80])\n",
    "print(numbers)  # [100, 20, 25, 40, 50, 70, 80]\n"
   ]
  },
  {
   "cell_type": "markdown",
   "metadata": {},
   "source": [
    "sort(): 리스트를 정렬합니다."
   ]
  },
  {
   "cell_type": "code",
   "execution_count": null,
   "metadata": {},
   "outputs": [],
   "source": [
    "numbers.sort()\n",
    "print(numbers)  # [20, 25, 40, 50, 70, 80, 100]\n"
   ]
  },
  {
   "cell_type": "markdown",
   "metadata": {},
   "source": [
    "reverse(): 리스트의 항목 순서를 반대로 뒤집습니다."
   ]
  },
  {
   "cell_type": "code",
   "execution_count": null,
   "metadata": {},
   "outputs": [],
   "source": [
    "numbers.reverse()\n",
    "print(numbers)  # [100, 80, 70, 50, 40, 25, 20]\n"
   ]
  },
  {
   "cell_type": "markdown",
   "metadata": {},
   "source": [
    "index(): 특정 항목의 첫 번째 인덱스를 반환합니다."
   ]
  },
  {
   "cell_type": "code",
   "execution_count": null,
   "metadata": {},
   "outputs": [],
   "source": [
    "index = numbers.index(50)\n",
    "print(index)  # 3\n"
   ]
  },
  {
   "cell_type": "markdown",
   "metadata": {},
   "source": [
    "count(): 리스트 내에서 특정 항목이 몇 번 등장하는지 반환합니다."
   ]
  },
  {
   "cell_type": "code",
   "execution_count": null,
   "metadata": {},
   "outputs": [],
   "source": [
    "count = numbers.count(25)\n",
    "print(count)  # 1\n"
   ]
  },
  {
   "cell_type": "markdown",
   "metadata": {},
   "source": [
    "### 리스트 활용 예제\n",
    "\n",
    "리스트는 데이터를 저장하고 조작하는 데 매우 유용하며, 파이썬의 다양한 내장 함수 및 메소드와 함께 사용할 수 있습니다. 예를 들어, 리스트 컴프리헨션을 사용하면 리스트를 간결하고 효율적으로 생성할 수 있습니다."
   ]
  },
  {
   "cell_type": "code",
   "execution_count": null,
   "metadata": {},
   "outputs": [],
   "source": [
    "# 리스트 컴프리헨션 예제\n",
    "squares = [x**2 for x in range(10)]\n",
    "print(squares)  # [0, 1, 4, 9, 16, 25, 36, 49, 64, 81]\n"
   ]
  },
  {
   "cell_type": "markdown",
   "metadata": {},
   "source": [
    "리스트와 튜플"
   ]
  },
  {
   "cell_type": "markdown",
   "metadata": {},
   "source": [
    "### **리스트(List)**\n",
    "\n",
    "리스트는 여러 값을 하나의 변수에 저장할 수 있는 가변 자료형입니다. 즉, 리스트에 저장된 값들은 생성 후에도 변경(추가, 삭제, 수정)할 수 있습니다.\n",
    "\n",
    "### **특징:**\n",
    "\n",
    "- **가변성(Mutable):** 리스트의 요소는 추가, 삭제, 수정이 가능합니다.\n",
    "- **표기법:** 대괄호 **`[]`**를 사용합니다.\n",
    "- **크기:** 리스트의 크기는 동적으로 변경될 수 있습니다."
   ]
  },
  {
   "cell_type": "code",
   "execution_count": null,
   "metadata": {},
   "outputs": [],
   "source": [
    "my_list = [1, 2, 3, 4]\n",
    "my_list.append(5)  # [1, 2, 3, 4, 5]\n",
    "my_list[0] = 0    # [0, 2, 3, 4, 5]\n",
    "del my_list[1]    # [0, 3, 4, 5]"
   ]
  },
  {
   "cell_type": "markdown",
   "metadata": {},
   "source": [
    "### **튜플(Tuple)**\n",
    "\n",
    "튜플은 리스트와 유사하지만 불변 자료형입니다. 즉, 한 번 생성된 튜플의 값들은 변경할 수 없습니다.\n",
    "\n",
    "### **특징:**\n",
    "\n",
    "- **불변성(Immutable):** 튜플의 요소는 추가, 삭제, 수정이 불가능합니다.\n",
    "- **표기법:** 소괄호 **`()`**를 사용합니다.\n",
    "- **크기:** 튜플의 크기는 고정되어 있습니다."
   ]
  },
  {
   "cell_type": "code",
   "execution_count": null,
   "metadata": {},
   "outputs": [],
   "source": [
    "my_tuple = (1, 2, 3, 4)\n",
    "# my_tuple.append(5)  # 오류 발생: 'tuple' object has no attribute 'append'\n",
    "# my_tuple[0] = 0     # 오류 발생: 'tuple' object does not support item assignment"
   ]
  },
  {
   "cell_type": "markdown",
   "metadata": {},
   "source": [
    "### **비교 요약**\n",
    "\n",
    "- **변경 가능성:** 리스트는 가변(mutable)이고, 튜플은 불변(immutable)입니다.\n",
    "- **표기법:** 리스트는 대괄호 **`[]`**, 튜플은 소괄호 **`()`**를 사용합니다.\n",
    "- **사용 목적:** 리스트는 주로 동적으로 데이터를 추가/삭제해야 할 때 사용되고, 튜플은 변경이 필요 없는 고정된 데이터를 저장할 때 사용됩니다.\n",
    "- **성능:** 불변성으로 인해 튜플이 리스트보다 메모리 효율성이 높고, 해시 가능한 키로 사용될 수 있어 딕셔너리 키나 집합(set) 요소로 사용할 수 있습니다.\n",
    "\n",
    "### **활용 예**\n",
    "\n",
    "- **리스트:** 가변 데이터 구조가 필요한 경우(예: 학생 명단 관리).\n",
    "- **튜플:** 변경이 필요 없는 데이터 구조가 필요한 경우(예: 고정된 좌표값, 함수에서 여러 값을 반환할 때)."
   ]
  },
  {
   "cell_type": "code",
   "execution_count": 21,
   "metadata": {},
   "outputs": [],
   "source": [
    "def solution(n):\n",
    "    global answer\n",
    "    answer = [[0 for _ in range(n)]for _ in range(n)]\n",
    "    assign(0,0,1,n);\n",
    "    return answer\n",
    "\n",
    "def assign(y, x, num, n):\n",
    "    if(n<=0):return answer\n",
    "    answer[y][x] = num\n",
    "    for _ in range(1, n):#→\n",
    "        x+=1\n",
    "        num+=1\n",
    "        answer[y][x]=num\n",
    "    for _ in range(1, n):#↓\n",
    "        y+=1\n",
    "        num+=1\n",
    "        answer[y][x]=num\n",
    "    for _ in range(1, n):#←\n",
    "        x-=1\n",
    "        num+=1\n",
    "        answer[y][x]=num\n",
    "    for _ in range(1, n-1):#↑\n",
    "        y-=1\n",
    "        num+=1\n",
    "        answer[y][x]=num\n",
    "    return assign(y, x+1, num+1,n-2)"
   ]
  },
  {
   "cell_type": "code",
   "execution_count": 20,
   "metadata": {},
   "outputs": [],
   "source": [
    "d = [[0, 1],[1, 0],[0, -1],[-1, 0]]\n",
    "\n",
    "def solution(n):\n",
    "    answer = [[0] * n for _ in range(n)]\n",
    "    x, y = 0, 0\n",
    "    c = 1\n",
    "    dt = 0\n",
    "\n",
    "    while c <= n * n:\n",
    "        answer[x][y] = c\n",
    "        c+=1\n",
    "        xx, yy = x + d[dt][0], y + d[dt][1]\n",
    "        if 0 <= xx < n and 0 <= yy < n:\n",
    "            if answer[xx][yy] != 0:\n",
    "                dt = (dt + 1) % 4\n",
    "                x, y = x + d[dt][0], y + d[dt][1]\n",
    "            else:\n",
    "                x, y = xx, yy\n",
    "        else:\n",
    "            dt = (dt + 1) % 4\n",
    "            x, y = x + d[dt][0], y + d[dt][1]\n",
    "\n",
    "\n",
    "    return answer"
   ]
  },
  {
   "cell_type": "code",
   "execution_count": 19,
   "metadata": {},
   "outputs": [
    {
     "name": "stdout",
     "output_type": "stream",
     "text": [
      "[[1, 2, 3], [8, 9, 4], [7, 6, 5]]\n"
     ]
    }
   ],
   "source": [
    "def generateMatrix(n):\n",
    "    matrix = [[0] * n for _ in range(n)]\n",
    "    direction = [(0, 1), (1, 0), (0, -1), (-1, 0)]  # 오른쪽, 아래, 왼쪽, 위\n",
    "    dx, dy = 0, 1  # 초기 방향은 오른쪽\n",
    "    x, y = 0, 0   # 초기 위치\n",
    "\n",
    "    for i in range(1, n * n + 1):\n",
    "        matrix[x][y] = i\n",
    "        nx, ny = x + dx, y + dy\n",
    "        if 0 <= nx < n and 0 <= ny < n and matrix[nx][ny] == 0:\n",
    "            x, y = nx, ny\n",
    "        else:\n",
    "            dx, dy = direction[(direction.index((dx, dy)) + 1) % 4]\n",
    "            x, y = x + dx, y + dy\n",
    "\n",
    "    return matrix\n",
    "\n",
    "# 테스트\n",
    "n = 3\n",
    "print(generateMatrix(n))  # 예시 출력: [[1, 2, 3], [8, 9, 4], [7, 6, 5]]\n"
   ]
  },
  {
   "cell_type": "markdown",
   "metadata": {},
   "source": [
    "TwoSum"
   ]
  },
  {
   "cell_type": "code",
   "execution_count": null,
   "metadata": {},
   "outputs": [],
   "source": [
    "class Solution:\n",
    "    def twoSum(self, nums: List[int], target: int) -> List[int]:\n",
    "        for i in range(len(nums)):\n",
    "            for j in range(i + 1, len(nums)):\n",
    "                if nums[i] + nums[j] == target:\n",
    "                    return [i, j]"
   ]
  },
  {
   "cell_type": "markdown",
   "metadata": {},
   "source": [
    "위의 코드는 \"두 수의 합\" 문제를 해결하는 클래스 `Solution`을 정의합니다. `twoSum` 메서드는 정수 리스트 `nums`와 정수 `target`을 인자로 받습니다. 이 메서드는 `nums` 리스트에서 두 수를 선택하여 그 합이 `target`이 되는 인덱스를 반환합니다."
   ]
  },
  {
   "cell_type": "markdown",
   "metadata": {},
   "source": [
    "1. `nums` 리스트의 길이만큼 첫 번째 반복문을 실행합니다. 이 반복문은 리스트의 모든 요소를 하나씩 선택하기 위해 사용됩니다.\n",
    "\n",
    "2. 내부에 중첩된 두 번째 반복문은 첫 번째 반복문에서 선택된 요소의 다음 요소부터 끝까지 반복합니다. 이것은 중복된 조합을 피하기 위함입니다.\n",
    "\n",
    "3. 현재 선택된 두 수의 합이 `target`과 같은지 확인합니다. 만약 같다면, 두 수의 인덱스를 리스트로 반환합니다.\n",
    "\n",
    "4. 이 과정을 통해 모든 가능한 조합을 확인하고, 첫 번째로 발견되는 조합을 반환합니다.\n",
    "\n",
    "이 코드의 시간 복잡도는 \\(O(n^2)\\)입니다. 이는 두 개의 반복문을 사용하여 모든 가능한 조합을 확인하기 때문입니다."
   ]
  },
  {
   "cell_type": "code",
   "execution_count": null,
   "metadata": {},
   "outputs": [],
   "source": [
    "class Solution:\n",
    "    def twoSum(self, nums: List[int], target: int) -> List[int]:\n",
    "        nums_map = {}\n",
    "\n",
    "        for i, num in enumerate(nums):\n",
    "            if target - num in nums_map.keys():\n",
    "                return [nums_map[target - num], i]\n",
    "            nums_map[num] = i\n",
    "            print(nums_map)"
   ]
  },
  {
   "cell_type": "markdown",
   "metadata": {},
   "source": [
    "이 코드는 \"두 수의 합\" 문제를 해결하는 클래스 Solution을 정의합니다. twoSum 메서드는 정수 리스트 nums와 정수 target을 인자로 받습니다. 이 메서드는 nums 리스트에서 두 수를 선택하여 그 합이 target이 되는 인덱스를 반환합니다."
   ]
  },
  {
   "cell_type": "markdown",
   "metadata": {},
   "source": [
    "1. nums_map이라는 빈 딕셔너리를 초기화합니다. 이 딕셔너리는 수와 해당 수의 인덱스를 저장합니다.\n",
    "\n",
    "2. nums 리스트를 순회하면서 각 수의 인덱스와 값을 가져옵니다. enumerate() 함수를 사용하여 인덱스와 값을 동시에 가져올 수 있습니다.\n",
    "\n",
    "3. 현재 수와 target에서 현재 수를 뺀 값(target - num)의 차가 nums_map에 있는지 확인합니다. 만약 있다면, 그 수와 현재 인덱스를 리스트로 반환합니다. 이는 두 수의 합이 target이 되는 조합을 찾은 것입니다.\n",
    "\n",
    "4. 그렇지 않다면, 현재 수와 그 인덱스를 nums_map에 저장합니다. 이렇게 함으로써, 후에 해당 수와 그 인덱스를 찾을 수 있습니다.\n",
    "\n",
    "5. 각 단계에서 nums_map의 상태를 출력하는 print(nums_map) 문이 있습니다. 이는 코드 실행 과정에서 nums_map의 변화를 추적하기 위한 디버깅용입니다."
   ]
  },
  {
   "cell_type": "code",
   "execution_count": null,
   "metadata": {},
   "outputs": [],
   "source": [
    "def solution(sizes):\n",
    "    w = []\n",
    "    h = []\n",
    "    for i in range(len(sizes)):\n",
    "        if sizes[i][0] >= sizes[i][1]:\n",
    "            w.append(sizes[i][0])\n",
    "            h.append(sizes[i][1])\n",
    "        else:\n",
    "            h.append(sizes[i][0])\n",
    "            w.append(sizes[i][1])\n",
    "\n",
    "    return max(w) * max(h)"
   ]
  },
  {
   "cell_type": "markdown",
   "metadata": {},
   "source": [
    "### 딕셔너리의 주요 특징\n",
    "\n",
    "1. **키-값 쌍 (Key-Value Pairs)**: 딕셔너리는 각 항목이 고유한 키와 그에 대응하는 값으로 구성됩니다.\n",
    "2. **비순차적 (Unordered)**: 딕셔너리는 항목들이 입력된 순서를 유지하지 않습니다. (파이썬 3.7부터는 입력된 순서를 유지합니다.)\n",
    "3. **가변성 (Mutable)**: 딕셔너리는 생성된 이후에도 키-값 쌍을 추가, 제거, 수정할 수 있습니다.\n",
    "4. **키는 유일해야 함 (Unique Keys)**: 딕셔너리의 키는 중복될 수 없습니다. 값은 중복될 수 있습니다."
   ]
  },
  {
   "cell_type": "markdown",
   "metadata": {},
   "source": [
    "### 딕셔너리 생성\n",
    "\n",
    "딕셔너리는 중괄호를 사용하여 생성할 수 있습니다."
   ]
  },
  {
   "cell_type": "code",
   "execution_count": null,
   "metadata": {},
   "outputs": [],
   "source": [
    "# 빈 딕셔너리 생성\n",
    "empty_dict = {}\n",
    "\n",
    "# 키-값 쌍을 포함한 딕셔너리 생성\n",
    "person = {\n",
    "    \"name\": \"John\",\n",
    "    \"age\": 30,\n",
    "    \"city\": \"New York\"\n",
    "}\n"
   ]
  },
  {
   "cell_type": "markdown",
   "metadata": {},
   "source": [
    "### 딕셔너리의 기본 연산\n",
    "\n",
    "1. **항목 접근 (Accessing Items)**:"
   ]
  },
  {
   "cell_type": "code",
   "execution_count": null,
   "metadata": {},
   "outputs": [],
   "source": [
    "print(person[\"name\"])  # \"John\"\n",
    "print(person.get(\"age\"))  # 30\n"
   ]
  },
  {
   "cell_type": "markdown",
   "metadata": {},
   "source": [
    "2. 항목 추가 및 수정 (Adding and Modifying Items):"
   ]
  },
  {
   "cell_type": "code",
   "execution_count": null,
   "metadata": {},
   "outputs": [],
   "source": [
    "person[\"email\"] = \"john@example.com\"  # 항목 추가\n",
    "person[\"age\"] = 31  # 항목 수정\n",
    "print(person)\n"
   ]
  },
  {
   "cell_type": "markdown",
   "metadata": {},
   "source": [
    "3. 항목 제거 (Removing Items):"
   ]
  },
  {
   "cell_type": "code",
   "execution_count": null,
   "metadata": {},
   "outputs": [],
   "source": [
    "del person[\"city\"]\n",
    "print(person)\n",
    "\n",
    "email = person.pop(\"email\")\n",
    "print(email)  # \"john@example.com\"\n",
    "print(person)\n"
   ]
  },
  {
   "cell_type": "markdown",
   "metadata": {},
   "source": [
    "4. 모든 항목 제거 (Clearing All Items):"
   ]
  },
  {
   "cell_type": "code",
   "execution_count": null,
   "metadata": {},
   "outputs": [],
   "source": [
    "person.clear()\n",
    "print(person)  # {}\n"
   ]
  },
  {
   "cell_type": "markdown",
   "metadata": {},
   "source": [
    "### 딕셔너리의 주요 메소드\n",
    "\n",
    "1. **keys()**: 딕셔너리의 모든 키를 반환합니다."
   ]
  },
  {
   "cell_type": "code",
   "execution_count": null,
   "metadata": {},
   "outputs": [],
   "source": [
    "keys = person.keys()\n",
    "print(keys)  # dict_keys(['name', 'age'])\n"
   ]
  },
  {
   "cell_type": "markdown",
   "metadata": {},
   "source": [
    "2. values(): 딕셔너리의 모든 값을 반환합니다."
   ]
  },
  {
   "cell_type": "code",
   "execution_count": null,
   "metadata": {},
   "outputs": [],
   "source": [
    "values = person.values()\n",
    "print(values)  # dict_values(['John', 31])\n"
   ]
  },
  {
   "cell_type": "markdown",
   "metadata": {},
   "source": [
    "3. items(): 딕셔너리의 모든 키-값 쌍을 반환합니다."
   ]
  },
  {
   "cell_type": "code",
   "execution_count": null,
   "metadata": {},
   "outputs": [],
   "source": [
    "items = person.items()\n",
    "print(items)  # dict_items([('name', 'John'), ('age', 31)])\n"
   ]
  },
  {
   "cell_type": "markdown",
   "metadata": {},
   "source": [
    "4. update(): 딕셔너리의 항목을 업데이트합니다."
   ]
  },
  {
   "cell_type": "code",
   "execution_count": null,
   "metadata": {},
   "outputs": [],
   "source": [
    "person.update({\"age\": 32, \"city\": \"Boston\"})\n",
    "print(person)\n"
   ]
  },
  {
   "cell_type": "markdown",
   "metadata": {},
   "source": [
    "### 딕셔너리 활용 예제\n",
    "\n",
    "딕셔너리는 데이터 검색, 추가, 수정에 매우 효율적이며, 다양한 용도로 사용할 수 있습니다. 예를 들어, 특정 조건을 만족하는 항목만을 선택하거나, 데이터를 그룹화하는 데 사용할 수 있습니다."
   ]
  },
  {
   "cell_type": "code",
   "execution_count": null,
   "metadata": {},
   "outputs": [],
   "source": [
    "# 예제: 조건을 만족하는 항목 선택\n",
    "students = {\n",
    "    \"Alice\": 85,\n",
    "    \"Bob\": 75,\n",
    "    \"Charlie\": 90\n",
    "}\n",
    "\n",
    "high_scores = {k: v for k, v in students.items() if v > 80}\n",
    "print(high_scores)  # {'Alice': 85, 'Charlie': 90}\n"
   ]
  },
  {
   "cell_type": "markdown",
   "metadata": {},
   "source": [
    "### 딕셔너리 (Dictionary)\n",
    "\n",
    "1. **정의**: 키와 값의 쌍으로 이루어진 데이터 구조입니다. 각 키는 유일하며, 각 키는 하나의 값과 매핑됩니다.\n",
    "2. **구문**: `{키1: 값1, 키2: 값2, ...}` 형태로 선언합니다.\n",
    "3. **특징**:\n",
    "    - **키는 유일**: 각 키는 중복될 수 없습니다.\n",
    "    - **순서 보장**: 파이썬 3.7부터 삽입 순서를 보장합니다. 딕셔너리에 항목을 추가한 순서대로 저장되고 순회할 수 있습니다.\n",
    "    - **빠른 검색**: 키를 이용해 값을 빠르게 검색할 수 있습니다.\n",
    "    - **가변성**: 값을 추가, 삭제, 변경할 수 있습니다.\n",
    "\n",
    "    my_dict = {\n",
    "    \"name\": \"Alice\",\n",
    "    \"age\": 25,\n",
    "    \"city\": \"New York\"\n",
    "}\n"
   ]
  },
  {
   "cell_type": "markdown",
   "metadata": {},
   "source": [
    "### 집합 (Set)\n",
    "\n",
    "1. **정의**: 유일한 요소들의 모음입니다. 중복된 요소가 없으며, 순서가 없습니다.\n",
    "2. **구문**: `{값1, 값2, 값3, ...}` 형태로 선언합니다.\n",
    "3. **특징**:\n",
    "    - **중복 없음**: 중복된 요소가 저장되지 않습니다.\n",
    "    - **순서 없음**: 요소의 순서가 없습니다.\n",
    "    - **빠른 멤버십 테스트**: 특정 요소가 집합에 있는지 빠르게 확인할 수 있습니다.\n",
    "    - **가변성**: 요소를 추가, 삭제할 수 있습니다.\n",
    "\n",
    "    my_set = {\"apple\", \"banana\", \"cherry\"}\n"
   ]
  },
  {
   "cell_type": "markdown",
   "metadata": {},
   "source": [
    "### 주요 차이점\n",
    "\n",
    "1. **데이터 저장 방식**:\n",
    "    - **딕셔너리**: 키와 값의 쌍으로 데이터를 저장.\n",
    "    - **집합**: 단순히 유일한 요소들만 저장.\n",
    "2. **접근 방식**:\n",
    "    - **딕셔너리**: 키를 사용하여 값에 접근.\n",
    "    - **집합**: 특정 요소가 집합에 있는지 여부만 확인.\n",
    "3. **용도**:\n",
    "    - **딕셔너리**: 매핑 관계를 유지할 때 유용.\n",
    "    - **집합**: 유일한 값들의 컬렉션을 관리할 때 유용.\n",
    "\n",
    "\n"
   ]
  },
  {
   "cell_type": "code",
   "execution_count": null,
   "metadata": {},
   "outputs": [],
   "source": [
    "# 딕셔너리 예시\n",
    "my_dict = {\"name\": \"Alice\", \"age\": 25, \"city\": \"New York\"}\n",
    "print(my_dict[\"name\"])  # Output: Alice\n",
    "\n",
    "# 집합 예시\n",
    "my_set = {\"apple\", \"banana\", \"cherry\"}\n",
    "print(\"apple\" in my_set)  # Output: True\n",
    "\n",
    "# 딕셔너리에 값 추가\n",
    "my_dict[\"email\"] = \"alice@example.com\"\n",
    "\n",
    "# 집합에 요소 추가\n",
    "my_set.add(\"date\")"
   ]
  },
  {
   "cell_type": "markdown",
   "metadata": {},
   "source": [
    "폰켓몬"
   ]
  },
  {
   "cell_type": "code",
   "execution_count": null,
   "metadata": {},
   "outputs": [],
   "source": [
    "def solution(nums):\n",
    "    \n",
    "    # 중복 제거한 폰켓몬 종류의 수\n",
    "    poncatmon_kind_num = len(set(nums))\n",
    "    \n",
    "    # 고를 수 있는 폰켓몬 수\n",
    "    catch_num = len(nums) // 2\n",
    "    \n",
    "    # (폰켓몬 종류의 수)와 (고를 수 있는 수) 중에 교집합 하는 수가 답.\n",
    "    # 둘 중 작은 게 답.\n",
    "    result = min(poncatmon_kind_num, catch_num)\n",
    "    \n",
    "    return result"
   ]
  },
  {
   "cell_type": "code",
   "execution_count": null,
   "metadata": {},
   "outputs": [],
   "source": [
    "def solution(nums):\n",
    "    n = len(nums) / 2       # 가져갈 수 있는 폰켓몬 수\n",
    "    types = len(set(nums))  # 폰켓몬의 종류\n",
    "    return min(n, types)"
   ]
  },
  {
   "cell_type": "markdown",
   "metadata": {},
   "source": [
    "완주하지 못한 선수"
   ]
  },
  {
   "cell_type": "markdown",
   "metadata": {},
   "source": [
    " Sort/Loop을 사용한 solution"
   ]
  },
  {
   "cell_type": "code",
   "execution_count": 7,
   "metadata": {},
   "outputs": [
    {
     "name": "stdout",
     "output_type": "stream",
     "text": [
      "vinko\n"
     ]
    }
   ],
   "source": [
    "def solution(participant, completion):\n",
    "    answer = ''\n",
    "\n",
    "    # 1. 두 list를 sorting한다\n",
    "    participant.sort()\n",
    "    completion.sort()\n",
    "\n",
    "    # 2. completeion list의 len만큼 participant를 찾아서 없는 사람을 찾는다\n",
    "    for i in range(len(completion)):\n",
    "        if(participant[i] != completion[i]):\n",
    "            return participant[i]\n",
    "\n",
    "    # 3. 전부 다 돌아도 없을 경우에는 마지막 주자가 완주하지 못한 선수이다.\n",
    "    return participant[len(participant)-1]\n",
    "\n",
    "print(solution([\"marina\", \"josipa\", \"nikola\", \"vinko\", \"filipa\"]\n",
    ", [\"josipa\", \"filipa\", \"marina\", \"nikola\"]))\n"
   ]
  },
  {
   "cell_type": "markdown",
   "metadata": {},
   "source": [
    "Hash를 사용한 solution"
   ]
  },
  {
   "cell_type": "code",
   "execution_count": 8,
   "metadata": {},
   "outputs": [
    {
     "name": "stdout",
     "output_type": "stream",
     "text": [
      "vinko\n"
     ]
    }
   ],
   "source": [
    "def solution(participant, completion):\n",
    "    hashDict = {}\n",
    "    sumHash = 0\n",
    "    \n",
    "    # 1. Hash : Participant의 dictionary 만들기\n",
    "    # 2. Participant의 sum(hash) 구하기\n",
    "    for part in participant:\n",
    "        hashDict[hash(part)] = part\n",
    "        sumHash += hash(part)\n",
    "    \n",
    "    # 3. completion의 sum(hash) 빼기\n",
    "    for comp in completion:\n",
    "        sumHash -= hash(comp)\n",
    "    \n",
    "    # 4. 남은 값이 완주하지 못한 선수의 hash 값이 된다\n",
    "\n",
    "    return hashDict[sumHash]\n",
    "\n",
    "print(solution([\"marina\", \"josipa\", \"nikola\", \"vinko\", \"filipa\"]\n",
    ", [\"josipa\", \"filipa\", \"marina\", \"nikola\"]))\n"
   ]
  },
  {
   "cell_type": "markdown",
   "metadata": {},
   "source": [
    "Counter를 사용한 solution"
   ]
  },
  {
   "cell_type": "code",
   "execution_count": 9,
   "metadata": {},
   "outputs": [
    {
     "name": "stdout",
     "output_type": "stream",
     "text": [
      "vinko\n"
     ]
    }
   ],
   "source": [
    "import collections\n",
    "def solution(participant, completion):\n",
    "    # 1. participant의 Counter를 구한다\n",
    "    # 2. completion의 Counter를 구한다\n",
    "    # 3. 둘의 차를 구하면 정답만 남아있는 counter를 반환한다\n",
    "    answer = collections.Counter(participant) - collections.Counter(completion)\n",
    "    \n",
    "    # 4. counter의 key값을 반환한다\n",
    "    return list(answer.keys())[0]\n",
    "\n",
    "print(solution([\"marina\", \"josipa\", \"nikola\", \"vinko\", \"filipa\"]\n",
    ", [\"josipa\", \"filipa\", \"marina\", \"nikola\"]))\n"
   ]
  },
  {
   "cell_type": "markdown",
   "metadata": {},
   "source": [
    "강사님 답안"
   ]
  },
  {
   "cell_type": "code",
   "execution_count": 10,
   "metadata": {},
   "outputs": [],
   "source": [
    "from collections import defaultdict\n",
    "# defaultdict를 import로 불러온다.\n",
    "\n",
    "def solution(participant, completion):\n",
    "# participant, completion의 인자를 가진 solution 을 정의.\n",
    "    \n",
    "    p_dict = defaultdict(int)\n",
    "    # p_dict 디렉토리를 만드는데 디폴트값이 int.\n",
    "    \n",
    "    for p in participant:\n",
    "        p_dict[p] += 1\n",
    "        \n",
    "    for c in completion:\n",
    "        p_dict[c] -= 1\n",
    "        if p_dict[c] == 0:\n",
    "            del p_dict[c]\n",
    "        \n",
    "    \n",
    "    return (list(p_dict.keys())[0])"
   ]
  },
  {
   "cell_type": "code",
   "execution_count": 12,
   "metadata": {},
   "outputs": [],
   "source": [
    "from collections import Counter\n",
    "\n",
    "def solution(participant, completion):\n",
    "    \n",
    "    p_dict = Counter(participant)\n",
    "    c_dict = Counter(completion)\n",
    "    \n",
    "    answer = p_dict - c_dict\n",
    "    return list(answer.keys())[0]"
   ]
  },
  {
   "cell_type": "markdown",
   "metadata": {},
   "source": [
    "보석과 돌"
   ]
  },
  {
   "cell_type": "markdown",
   "metadata": {},
   "source": [
    "defaultdict를 이용한 비교 생략"
   ]
  },
  {
   "cell_type": "code",
   "execution_count": null,
   "metadata": {},
   "outputs": [],
   "source": [
    "class Solution:\n",
    "    def numJewelsInStones(self, jewels: str, stones: str) -> int:\n",
    "        freqs = collections.defaultdict(int)\n",
    "        count = 0\n",
    "        \n",
    "        # 조건절 없이 빈도 수 계산\n",
    "        for s in stones:\n",
    "            freqs[s] += 1\n",
    "            # if s not in freqs:\n",
    "            # freqs[s] = 1\n",
    "            # else:\n",
    "            \n",
    "        # freqs = {'a': 1, 'A': 2, 'b': 4}\n",
    "        \n",
    "        for j in jewels:\n",
    "            if j in freqs:\n",
    "                count += freqs[j]\n",
    "                \n",
    "        return count"
   ]
  },
  {
   "cell_type": "markdown",
   "metadata": {},
   "source": [
    "Counter로 빈도수 계산 생략"
   ]
  },
  {
   "cell_type": "code",
   "execution_count": null,
   "metadata": {},
   "outputs": [],
   "source": [
    "def numJewelsInStones4(jewels: str, stones: str) -> int:\n",
    "    #collections 모듈의 Counter 클래스\n",
    "    #stones을 카운터 함수에 담으면 각각의 인자들의 빈도수를 카운팅\n",
    "    freqs = collections.Counter(stones)\n",
    "    # print(freqs)\n",
    "    # Counter({'b': 4, 'A': 2, 'a': 1})\n",
    "    count = 0\n",
    "\n",
    "    for j in jewels:\n",
    "        count += freqs[j]\n",
    "\n",
    "    return count"
   ]
  },
  {
   "cell_type": "markdown",
   "metadata": {},
   "source": [
    "해시 테이블로 이용한 풀이"
   ]
  },
  {
   "cell_type": "code",
   "execution_count": null,
   "metadata": {},
   "outputs": [],
   "source": [
    "def numJewelsInStones2(jewels: str, stones: str) -> int:\n",
    "    # 딕셔너리 선언\n",
    "    freqs = {}\n",
    "    count = 0\n",
    "\n",
    "    # 돌에 있는 값을 하나씩 꺼내서 딕셔너리에 담아서 빈도수를 계산\n",
    "    for s in stones:\n",
    "        if s not in freqs:\n",
    "            freqs[s] = 1\n",
    "        else:\n",
    "            freqs[s] += 1\n",
    "\n",
    "    # freqs = {'a': 1, 'A': 2, 'b': 4}\n",
    "\n",
    "    for j in jewels:\n",
    "        if j in freqs:\n",
    "            # 체크해둔 빈도수랑 보석이랑 비교해서 카운팅 하는 방법\n",
    "            count += freqs[j]\n",
    "\n",
    "    return count"
   ]
  },
  {
   "cell_type": "markdown",
   "metadata": {},
   "source": [
    "강사님 답안"
   ]
  },
  {
   "cell_type": "code",
   "execution_count": 13,
   "metadata": {},
   "outputs": [],
   "source": [
    "class Solution:\n",
    "    def numJewelsInStones(self, jewels: str, stones: str) -> int:\n",
    "        result = 0\n",
    "        jewels = set(jewels)\n",
    "        \n",
    "        for stone in stones:\n",
    "            print(f'jewels 목록 {jewels}, 돌은 {stone}')\n",
    "            if stone in jewels:\n",
    "                print('result + 1')\n",
    "                result += 1\n",
    "                \n",
    "        return result"
   ]
  },
  {
   "cell_type": "code",
   "execution_count": null,
   "metadata": {},
   "outputs": [],
   "source": [
    "from collections import Counter\n",
    "\n",
    "class Solution:\n",
    "    def numJewelsInStones(self, jewels: str, stones: str) -> int:\n",
    "        stones = Counter(stones)\n",
    "        \n",
    "        for stone in stones:\n",
    "            print(stone)\n",
    "            \n",
    "        return 0"
   ]
  },
  {
   "cell_type": "code",
   "execution_count": null,
   "metadata": {},
   "outputs": [],
   "source": [
    "from collections import Counter\n",
    "\n",
    "class Solution:\n",
    "    def numJewelsInStones(self, jewels: str, stones: str) -> int:\n",
    "        stones = Counter(stones)\n",
    "        jewels = set(jewels)\n",
    "        result = 0\n",
    "        \n",
    "        for key, value in stones.items():\n",
    "            if key in jewels:\n",
    "                result += value\n",
    "            \n",
    "        return 0"
   ]
  },
  {
   "cell_type": "markdown",
   "metadata": {},
   "source": [
    "코드 처리하기\n",
    "\n",
    "문자열 code가 주어집니다.\n",
    "code를 앞에서부터 읽으면서 만약 문자가 \"1\"이면 mode를 바꿉니다. mode에 따라 code를 읽어가면서 문자열 ret을 만들어냅니다.\n",
    "\n",
    "mode는 0과 1이 있으며, idx를 0 부터 code의 길이 - 1 까지 1씩 키워나가면서 code[idx]의 값에 따라 다음과 같이 행동합니다.\n",
    "\n",
    "mode가 0일 때\n",
    "code[idx]가 \"1\"이 아니면 idx가 짝수일 때만 ret의 맨 뒤에 code[idx]를 추가합니다.\n",
    "code[idx]가 \"1\"이면 mode를 0에서 1로 바꿉니다.\n",
    "mode가 1일 때\n",
    "code[idx]가 \"1\"이 아니면 idx가 홀수일 때만 ret의 맨 뒤에 code[idx]를 추가합니다.\n",
    "code[idx]가 \"1\"이면 mode를 1에서 0으로 바꿉니다.\n",
    "문자열 code를 통해 만들어진 문자열 ret를 return 하는 solution 함수를 완성해 주세요.\n",
    "\n",
    "단, 시작할 때 mode는 0이며, return 하려는 ret가 만약 빈 문자열이라면 대신 \"EMPTY\"를 return 합니다."
   ]
  },
  {
   "cell_type": "code",
   "execution_count": null,
   "metadata": {},
   "outputs": [],
   "source": [
    "def solution(code):\n",
    "    \n",
    "    result = '' # 결과를 저장할 빈 문자열\n",
    "    \n",
    "    # mode를 False로 저장, 이는 모드가 0임을 나타냄.\n",
    "    mode = False\n",
    "    \n",
    "    # enumerate를 사용하여 code 문자열을 순회 / idx는 현재 인덱스. i는 현재 문자\n",
    "    for idx, i in enumerate(code):\n",
    "        \n",
    "        # 만약 현재 문자가 '1' 이라면 mode 변경\n",
    "        if i == \"1\":\n",
    "            mode = not mode\n",
    "            continue\n",
    "            \n",
    "        # 만약 mode가 False이고 idx가 짝수라면, 현재 문자를 result에 추가\n",
    "        if not mode and idx%2==0:\n",
    "            result += i\n",
    "            \n",
    "        # 만약 mode가 True이고 idx가 홀수라면, 현재 문자를 result에 추가\n",
    "        elif mode and idx%2==1:\n",
    "            result += i\n",
    "            \n",
    "    # 만약 result가 빈 문자열이라면 \"EMPTY\"를 반환\n",
    "    if not result:\n",
    "        return \"EMPTY\"\n",
    "    \n",
    "    return result # 그러지 않다면 result를 반환"
   ]
  },
  {
   "cell_type": "code",
   "execution_count": 18,
   "metadata": {},
   "outputs": [],
   "source": [
    "class Solution:\n",
    "    def isAnagram(self, s: str, t: str) -> bool:\n",
    "        if len(s) != len(t):    # 두 문자열의 길이가 다르면 애너그램일 수 없음.\n",
    "            return False\n",
    "        \n",
    "        # 각 문자의 빈도를 카운트하기 위한 딕셔너리 생성\n",
    "        char_count = {}\n",
    "        \n",
    "        # 첫 번째 문자열을 문자 빈도 카운트\n",
    "        for char in s:\n",
    "            if char in char_count:\n",
    "                char_count[char] += 1\n",
    "            else:\n",
    "                char_count[char] = 1\n",
    "                \n",
    "        # 두 번째 문자열의 문자 빈도를 첫 번째 문자열과 비교하여 감소시킴\n",
    "        for char in t:\n",
    "            if char in char_count:\n",
    "                char_count[char] -= 1\n",
    "            else:\n",
    "                # 두 번째 문자열에 있는 문자가 첫 번째 문자열에 없으면 애너그램이 아님.\n",
    "                return False\n",
    "            \n",
    "        # 모든 문자의 빈도가 0이면 애너그램임\n",
    "        for count in char_count.values():\n",
    "            if count != 0:\n",
    "                return False\n",
    "            \n",
    "        return True"
   ]
  },
  {
   "cell_type": "markdown",
   "metadata": {},
   "source": [
    "정사각형 만들기\n",
    "\n",
    "이차원 정수 배열 arr이 매개변수로 주어집니다. arr의 행의 수가 더 많다면 열의 수가 행의 수와 같아지도록 각 행의 끝에 0을 추가하고, 열의 수가 더 많다면 행의 수가 열의 수와 같아지도록 각 열의 끝에 0을 추가한 이차원 배열을 return 하는 solution 함수를 작성해 주세요.\n",
    "\n",
    "\n",
    "- 1 ≤ arr의 길이 ≤ 100\n",
    "- 1 ≤ arr의 원소의 길이 ≤ 100\n",
    "- arr의 모든 원소의 길이는 같습니다.\n",
    "- 1 ≤ arr의 원소의 원소 ≤ 1,000"
   ]
  },
  {
   "cell_type": "code",
   "execution_count": null,
   "metadata": {},
   "outputs": [],
   "source": [
    "# 2중 for문으로 2중 리스트 선언.\n",
    "# array = [[0 for col in range(11)] for row in range(10)]\n",
    "# for i in array :\n",
    "#     for j in i:\n",
    "#         print(j,end=\" \")\n",
    "#     print()\n",
    "\n",
    "# (column : 열  row : 행)   , 열은 세로줄, 행은 가로줄"
   ]
  },
  {
   "cell_type": "code",
   "execution_count": null,
   "metadata": {},
   "outputs": [],
   "source": [
    "def solution(arr):\n",
    "    answer = []\n",
    "    \n",
    "    row = len(arr)      # row(행)\n",
    "    col = len(arr[0])   # col(열)\n",
    "    \n",
    "    if row > col:\n",
    "        for i in arr:\n",
    "            answer.append(i + [0] * (row - col))\n",
    "    # 행이 열보다 클때. i가 arr에 있다면\n",
    "    # (i + [0] * (row - col)을 answer에 추가)        \n",
    "    elif row < col:\n",
    "        for _ in range(col -row):\n",
    "            arr.append([0] * col)\n",
    "        answer = arr\n",
    "    # 행이 열보다 작을때. _가 (col - row)의 길이 일때.\n",
    "    # arr에 ([0] * col)을 추가.    \n",
    "    else:\n",
    "        answer = arr\n",
    "    # 둘다 아니라면 arr을 answer에 대입.\n",
    "        \n",
    "    return answer\n",
    "    # answer를 반환.\n"
   ]
  },
  {
   "cell_type": "markdown",
   "metadata": {},
   "source": [
    "배열 만들기6"
   ]
  },
  {
   "cell_type": "markdown",
   "metadata": {},
   "source": [
    "0과 1로만 이루어진 정수 배열 arr가 주어집니다. arr를 이용해 새로운 배열 stk을 만드려고 합니다.\n",
    "\n",
    "i의 초기값을 0으로 설정하고 i가 arr의 길이보다 작으면 다음을 반복합니다.\n",
    "\n",
    "만약 stk이 빈 배열이라면 arr[i]를 stk에 추가하고 i에 1을 더합니다.\n",
    "stk에 원소가 있고, stk의 마지막 원소가 arr[i]와 같으면 stk의 마지막 원소를 stk에서 제거하고 i에 1을 더합니다.\n",
    "stk에 원소가 있는데 stk의 마지막 원소가 arr[i]와 다르면 stk의 맨 마지막에 arr[i]를 추가하고 i에 1을 더합니다.\n",
    "위 작업을 마친 후 만들어진 stk을 return 하는 solution 함수를 완성해 주세요.\n",
    "\n",
    "단, 만약 빈 배열을 return 해야한다면 [-1]을 return 합니다."
   ]
  },
  {
   "cell_type": "code",
   "execution_count": null,
   "metadata": {},
   "outputs": [],
   "source": [
    "def solution(arr):\n",
    "    \n",
    "    stk = []\n",
    "    \n",
    "    for i in range(len(arr)):\n",
    "        if stk and stk[-1] == arr[i]:\n",
    "            stk.pop()\n",
    "        else:\n",
    "            stk.append(arr[i])\n",
    "            \n",
    "    return stk or [-1]"
   ]
  }
 ],
 "metadata": {
  "kernelspec": {
   "display_name": "Python 3",
   "language": "python",
   "name": "python3"
  },
  "language_info": {
   "codemirror_mode": {
    "name": "ipython",
    "version": 3
   },
   "file_extension": ".py",
   "mimetype": "text/x-python",
   "name": "python",
   "nbconvert_exporter": "python",
   "pygments_lexer": "ipython3",
   "version": "3.12.3"
  }
 },
 "nbformat": 4,
 "nbformat_minor": 2
}
