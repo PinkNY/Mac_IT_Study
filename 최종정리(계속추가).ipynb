{
 "cells": [
  {
   "cell_type": "markdown",
   "metadata": {},
   "source": [
    "## 배운 내용 요약"
   ]
  },
  {
   "cell_type": "code",
   "execution_count": null,
   "metadata": {},
   "outputs": [],
   "source": [
    "# 함수 정의, 호출, 결과를 출력 하는 방법들을 배움.\n",
    "\n",
    "# 함수 정의, 호출, 츨력\n",
    "def add(a, b):\n",
    "     return a + b\n",
    "\n",
    "c = add(7, 3)\n",
    "print(c)  # 출력: 10\n",
    "print(add(5, 3)) # 출력 8\n",
    "\n",
    "####\n",
    "def repeat_string(s):\n",
    "    return s * 3\n",
    "\n",
    "print(repeat_string(\"hello\"))  # 출력: hellohellohello"
   ]
  },
  {
   "cell_type": "code",
   "execution_count": null,
   "metadata": {},
   "outputs": [],
   "source": [
    "# 매개변수, 리턴값, 가변 매개변수, 기본 매개변수, 키워드 매개변수에 대해 배움.\n",
    "\n",
    "# 매개변수와 리턴값\n",
    "def repeat_string(s, n):\n",
    "    return s * n\n",
    "\n",
    "repeated_string = repeat_string(\"hello\", 3)\n",
    "print(repeated_string)  # 출력: 'hellohellohello\n",
    "\n",
    "###\n",
    "def add_and_multiply(a, b):\n",
    "    return a + b, a * b\n",
    "\n",
    "sum_result, product_result = add_and_multiply(5, 3)\n",
    "print(f\"Sum: {sum_result}, Product: {product_result}\")  # 출력: Sum: 8, Product: 15\n",
    "\n",
    "###\n",
    "def longest_string(strings):\n",
    "    return max(strings, key=len)\n",
    "\n",
    "print(longest_string([\"apple\", \"banana\", \"cherry\", \"date\"]))  # 출력: banana\n",
    "\n",
    "# 가변 매개변수\n",
    "def sum_all(*args):\n",
    "    return sum(args)\n",
    "\n",
    "number = sum_all(10, 20, 30)\n",
    "print(number)  # 출력: 60\n",
    "\n",
    "number = sum_all(10, 20, 30, 40, 50)\n",
    "print(number)  # 출력: 150\n",
    "\n",
    "###\n",
    "def concatenate_all(*args):\n",
    "    return ' '.join(args)\n",
    "\n",
    "print(concatenate_all(\"Hello\", \"world\", \"this\", \"is\", \"Python\"))  # 출력: Hello world this is Python\n",
    "\n",
    "# 기본 매개변수\n",
    "def multiply(a, b=1):\n",
    "    return a * b\n",
    "\n",
    "result = multiply(7)\n",
    "print(result)  # 출력: 7\n",
    "\n",
    "result = multiply(7, 3)\n",
    "print(result)  # 출력: 21\n",
    "\n",
    "# 키워드 매개변수\n",
    "def print_info(name, age):\n",
    "    print(f\"Name: {name}, Age: {age}\")\n",
    "\n",
    "print_info(name=\"Alice\", age=30)\n",
    "print_info(age=25, name=\"Bob\")\n",
    "\n",
    "# 여러 개의 리턴값\n",
    "def add_and_multiply(a, b):\n",
    "    return a + b, a * b\n",
    "\n",
    "sum_result, product_result = add_and_multiply(5, 3)\n",
    "print(f\"Sum: {sum_result}, Product: {product_result}\")  # 출력: Sum: 8, Product: 15\n",
    "\n",
    "# 키워드 가변 매개변수\n",
    "def print_kwargs(**kwargs):\n",
    "    for key, value in kwargs.items():\n",
    "        print(f\"{key}: {value}\")\n",
    "\n",
    "print_kwargs(name=\"Alice\", age=30, city=\"New York\")\n",
    "\n",
    "# 혼합 매개변수\n",
    "def mixed_params(a, b, c=0, *args, **kwargs):\n",
    "    print(f\"a: {a}, b: {b}, c: {c}\")\n",
    "    print(f\"args: {args}\")\n",
    "    print(f\"kwargs: {kwargs}\")\n",
    "\n",
    "mixed_params(1, 2)\n",
    "mixed_params(1, 2, 3, 4, 5, 6, key1=\"value1\", key2=\"value2\")\n"
   ]
  },
  {
   "cell_type": "code",
   "execution_count": null,
   "metadata": {},
   "outputs": [],
   "source": [
    "# 리스트, 튜플, 콜백, 람다, 고차 with등 다양한 함수를 배움.\n",
    "\n",
    "# 튜플을 사용하는 함수\n",
    "def add_and_multiply(a, b):\n",
    "    # 두 숫자의 합과 곱을 튜플로 반환하는 코드를 작성하세요\n",
    "    return a + b, a * b\n",
    "\n",
    "result = add_and_multiply(5, 3)\n",
    "print(result)  # 출력: (8, 15)\n",
    "\n",
    "# 콜백 함수\n",
    "def apply_callback(a, b, callback):\n",
    "    # 콜백 함수를 두 숫자에 적용한 결과를 반환하는 코드를 작성하세요\n",
    "    return callback(a, b)\n",
    "\n",
    "# 예시 콜백 함수\n",
    "def add(a, b):\n",
    "    return a + b\n",
    "\n",
    "result = apply_callback(5, 3, add)\n",
    "print(result)  # 출력: 8\n",
    "\n",
    "# 람다 함수\n",
    "sum_lambda = lambda a, b: a + b\n",
    "# 두 숫자의 합을 반환하는 람다 함수를 작성하세요\n",
    "\n",
    "# 람다 함수를 호출하고 결과를 출력하세요\n",
    "result = sum_lambda(5, 3)\n",
    "print(result)  # 출력: 8\n",
    "\n",
    "# 고차 함수\n",
    "def higher_order_function(a, b, func):\n",
    "    # 함수를 두 숫자에 적용한 결과를 반환하는 코드를 작성하세요\n",
    "    return func(a, b)\n",
    "\n",
    "# 예시 함수\n",
    "def multiply(a, b):\n",
    "    return a * b\n",
    "\n",
    "result = higher_order_function(5, 3, multiply)\n",
    "print(result)  # 출력: 15\n",
    "\n",
    "# with 구문\n",
    "def write_to_file(filename, content):\n",
    "    # 파일에 문자열을 쓰는 코드를 작성하세요\n",
    "    with open(filename, 'w') as file:\n",
    "        file.write(content)\n",
    "\n",
    "# 함수를 호출하고 결과를 출력하세요\n",
    "write_to_file('example.txt', 'Hello, world!')\n",
    "\n",
    "# 파일 내용을 확인하기 위해 읽어 출력\n",
    "with open('example.txt', 'r') as file:\n",
    "    print(file.read())  # 출력: Hello, world!\n",
    "    "
   ]
  },
  {
   "cell_type": "code",
   "execution_count": null,
   "metadata": {},
   "outputs": [],
   "source": [
    "numbers = [1, 2, 3, 4, 5, 6]\n",
    "\n",
    "numbers = [str(number) for number in numbers]\n",
    "\n",
    "print(\"::\".join(numbers))"
   ]
  },
  {
   "cell_type": "code",
   "execution_count": null,
   "metadata": {},
   "outputs": [],
   "source": [
    "numbers = list(range(1, 10 + 1))\n",
    "\n",
    "print(\"# 홀수만 추출하기\")\n",
    "print(list(filter(lambda x: x % 2 == 1, numbers)))\n",
    "print()\n",
    "\n",
    "print(\"# 3이상, 7미만 추출하기\")\n",
    "print(list(filter(lambda x: x >= 3 and x < 7, numbers)))\n",
    "print()\n",
    "\n",
    "print(\"# 제곱해서 50미만 추출하기\")\n",
    "print(list(filter(lambda x: x ** 2 < 50, numbers)))"
   ]
  },
  {
   "cell_type": "code",
   "execution_count": null,
   "metadata": {},
   "outputs": [],
   "source": [
    "# 모듈, 클래스를 이용한 다양한 기능을 배움.\n",
    "\n",
    "# main.py\n",
    "\n",
    "import calculator\n",
    "\n",
    "def main():\n",
    "    # 더하기 예시\n",
    "    result = calculator.add(10, 5)\n",
    "    print(f\"10 + 5 = {result}\")\n",
    "\n",
    "    # 빼기 예시\n",
    "    result = calculator.subtract(10, 5)\n",
    "    print(f\"10 - 5 = {result}\")\n",
    "\n",
    "    # 곱하기 예시\n",
    "    result = calculator.multiply(10, 5)\n",
    "    print(f\"10 * 5 = {result}\")\n",
    "\n",
    "    # 나누기 예시\n",
    "    result = calculator.divide(10, 5)\n",
    "    print(f\"10 / 5 = {result}\")\n",
    "\n",
    "    # 0으로 나누기 예시\n",
    "    result = calculator.divide(10, 0)\n",
    "    if result is not None:\n",
    "        print(f\"10 / 0 = {result}\")\n",
    "\n",
    "    # 거듭제곱 예시\n",
    "    result = calculator.power(2, 3)\n",
    "    print(f\"2^3 = {result}\")\n",
    "\n",
    "    # 제곱근 예시\n",
    "    result = calculator.sqrt(9)\n",
    "    print(f\"sqrt(9) = {result}\")\n",
    "\n",
    "    # 음수의 제곱근 예시\n",
    "    result = calculator.sqrt(-9)\n",
    "    if result is not None:\n",
    "        print(f\"sqrt(-9) = {result}\")\n",
    "\n",
    "if __name__ == \"__main__\":\n",
    "    main()\n",
    "\n"
   ]
  },
  {
   "cell_type": "code",
   "execution_count": null,
   "metadata": {},
   "outputs": [],
   "source": [
    "class BankAccount:\n",
    "    def __init__(self, owner, balance=0):\n",
    "        self.owner = owner\n",
    "        self.balance = balance\n",
    "        \n",
    "    def deposit(self, money):\n",
    "        self.balance += money\n",
    "        return self.balance\n",
    "    \n",
    "    def withdraw(self, money):\n",
    "        if self.balance < money:\n",
    "            return \"Insufficent funds\"\n",
    "        self.balance -= money\n",
    "        return self.balance\n",
    "    \n",
    "    def __str__(self):\n",
    "        return f\"owner={self.owner}, balance={self.balance}\"\n",
    "        \n",
    "acc = BankAccount(\"Bob\", 100)\n",
    "print(acc.balance, acc.owner)\n",
    "print(acc)\n",
    "print(acc.deposit(100))\n",
    "print(acc.withdraw(200))\n",
    "print(acc.withdraw(500))\n",
    "\n",
    "class SavingsAccount(BankAccount):\n",
    "# SavingsAccount 클래스는 BankAccount 클래스를 상속받는다.\n",
    "    def add_interest(self, interest):\n",
    "    # 이자율(rate)를 인자로 받아서 잔고에 추가.\n",
    "        self.balance += self.balance * interest\n",
    "        return self.balance\n",
    "    \n",
    "savings = SavingsAccount(\"Dana\", 1000)\n",
    "print(savings)\n",
    "print(savings.add_interest(0.05))\n",
    "print(savings)\n",
    "\n",
    "class CheckingAccount(BankAccount):\n",
    "    def __init__(self, owner, balance=0, overdraft_limit=0):\n",
    "        super().__init__(owner, balance)\n",
    "        # super() = super class 부모클래스의 임시적인 객체를 반환하여 사용가능 하게.\n",
    "        # 부모 클래스의 __init__() 매직 메소드를 자식 클래스의 __init__() 매직 메소드에서 실행\n",
    "        self.overdraft_limit = overdraft_limit\n",
    "        # 위에서 super()을 사용했기 때문에 overdraft_limit만 추가 작성해주면 됨.\n",
    "        \n",
    "    def withdraw(self, money):\n",
    "          if money > self.balance + self.overdraft_limit:\n",
    "              return \"Insufficient funds, overdraft limit reached\"\n",
    "          self.balance -= money\n",
    "          return self.balance\n",
    "      # 금액을 인자로 받아 계좌 잔고에서 차감. 잔고와 오버드래프트 한도를 초과 시\n",
    "      # 메세지를 반환.\n",
    "    \n",
    "# 테스트 코드\n",
    "checking = CheckingAccount(\"Eve\", 500, 200)\n",
    "print(checking)\n",
    "print(checking.withdraw(600))\n",
    "print(checking.withdraw(150))\n",
    "print(checking)\n",
    "\n",
    "class BankAccount:\n",
    "    transaction_log = []\n",
    "\n",
    "    def __init__(self, owner, balance=0):\n",
    "        self.owner = owner\n",
    "        self.balance = balance\n",
    "\n",
    "    def deposit(self, amount):\n",
    "        self.balance += amount\n",
    "        BankAccount.log_transaction(f\"Deposit: {amount}, New balance: {self.balance}\")\n",
    "        return self.balance\n",
    "\n",
    "    def withdraw(self, amount):\n",
    "        if amount > self.balance:\n",
    "            BankAccount.log_transaction(f\"Withdrawal failed: {amount}, Insufficient funds\")\n",
    "            return \"Insufficient funds\"\n",
    "        self.balance -= amount\n",
    "        BankAccount.log_transaction(f\"Withdrawal: {amount}, New balance: {self.balance}\")\n",
    "        return self.balance\n",
    "\n",
    "    @classmethod\n",
    "    def log_transaction(cls, message):\n",
    "        cls.transaction_log.append(message)\n",
    "\n",
    "    @staticmethod\n",
    "    def get_logs():\n",
    "        return BankAccount.transaction_log\n",
    "\n",
    "    def __str__(self):\n",
    "        return f\"BankAccount({self.owner}, Balance: {self.balance})\"\n",
    "\n",
    "# 테스트 코드\n",
    "acc = BankAccount(\"Charlie\", 500)\n",
    "acc.deposit(100)\n",
    "acc.withdraw(200)\n",
    "acc.withdraw(500)\n",
    "print(BankAccount.get_logs())"
   ]
  },
  {
   "cell_type": "code",
   "execution_count": null,
   "metadata": {},
   "outputs": [],
   "source": [
    "# 문자열을 정수로 변환\n",
    "\n",
    "string = \"100az\"\n",
    "# if string.isdigit()\n",
    "try:\n",
    "    number = int(string)\n",
    "    print(number)\n",
    "    print(type(number))\n",
    "except:\n",
    "    print(\"숫자로 변환할 수 없습니다.\")"
   ]
  },
  {
   "cell_type": "code",
   "execution_count": null,
   "metadata": {},
   "outputs": [],
   "source": [
    "class Person:\n",
    "    def __init__(self):\n",
    "        print('Person __init__')\n",
    "        self.hello = '안녕하세요.'\n",
    " \n",
    "class Student(Person):\n",
    "    def __init__(self):\n",
    "        print('Student __init__')\n",
    "        super().__init__()                # super()로 기반 클래스의 __init__ 메서드 호출\n",
    "        self.school = '파이썬 코딩 도장'\n",
    " \n",
    "james = Student()\n",
    "print(james.school)\n",
    "print(james.hello)\n"
   ]
  },
  {
   "cell_type": "code",
   "execution_count": null,
   "metadata": {},
   "outputs": [],
   "source": [
    "class Person:\n",
    "    def __init__(self):\n",
    "        print('Person __init__')\n",
    "        self.hello = '안녕하세요.'\n",
    " \n",
    "class Student(Person):\n",
    "    pass\n",
    " \n",
    "james = Student()\n",
    "print(james.hello)\n",
    "\n",
    "# Student가 Person에 상속되어 있다.\n",
    "# Student 클래스에 내용을 적지 않고 pass 하였으나\n",
    "# james에 Student를 대입하고 james.hello를 출력하려 하면\n",
    "# Person 클래스에 있는 init를 이용하여 둘다 출력이 된다."
   ]
  },
  {
   "cell_type": "markdown",
   "metadata": {},
   "source": [
    "# 표준 타입 계층 구조\n",
    "\n",
    "        # None (class None Type)\n",
    "\n",
    "# 숫자\n",
    "# - 정수형\n",
    "        # 정수 (class iint)\n",
    "        # 불리언 (class bool)\n",
    "# - 실수형\n",
    "        # 실수 (class folat)\n",
    "\n",
    "# 시퀀스\n",
    "# - 불변\n",
    "        # 문자열 (class str)\n",
    "        # 튜플 (class tuple)\n",
    "        # 바이트 (class bytes)\n",
    "# - 가변\n",
    "        # 리스트 (class list)\n",
    "        \n",
    "# 집합형\n",
    "        #집합 (class set)\n",
    "\n",
    "# 매핑\n",
    "        # 딕셔너리 (class dict)"
   ]
  },
  {
   "cell_type": "markdown",
   "metadata": {},
   "source": [
    "# 시간 복잡도 - 빅 오(Big-O) 표기법"
   ]
  },
  {
   "cell_type": "markdown",
   "metadata": {},
   "source": [
    "### **O(1) - 상수 시간 복잡도**\n",
    "\n",
    "입력 크기와 상관없이 일정한 시간이 걸리는 알고리즘입니다."
   ]
  },
  {
   "cell_type": "code",
   "execution_count": null,
   "metadata": {},
   "outputs": [],
   "source": [
    "# 예시: 배열의 첫 번째 원소를 출력하는 함수\n",
    "def print_first_element(arr):\n",
    "    print(arr[0])\n",
    "\n",
    "# 시간 복잡도: O(1)"
   ]
  },
  {
   "cell_type": "code",
   "execution_count": null,
   "metadata": {},
   "outputs": [],
   "source": [
    "import time\n",
    "\n",
    "def is_even(n):\n",
    "    return n % 2 == 0\n",
    "\n",
    "n = 1000000\n",
    "start = time.time()\n",
    "is_even(n)\n",
    "end = time.time()\n",
    "print(f\"Execution time: {end - start} seconds\")"
   ]
  },
  {
   "cell_type": "markdown",
   "metadata": {},
   "source": [
    "- is_even 함수는 입력 값 n에 대해 단 한 번의 나머지 연산을 수행합니다. 이 연산은 입력 크기에 관계없이 일정한 시간이 소요되므로 시간 복잡도는 𝑂(1)입니다."
   ]
  },
  {
   "cell_type": "code",
   "execution_count": null,
   "metadata": {},
   "outputs": [],
   "source": [
    "import time\n",
    "\n",
    "def is_even(n):\n",
    "    return n % 2 == 0\n",
    "\n",
    "numbers = list(range(1000000))\n",
    "\n",
    "start = time.time()\n",
    "for n in numbers:\n",
    "    if n % 100000 == 0:\n",
    "        print(n)\n",
    "end = time.time()\n",
    "print(f\"Execution time: {end - start} seconds\")"
   ]
  },
  {
   "cell_type": "markdown",
   "metadata": {},
   "source": [
    "### **O(log n) - 로그 시간 복잡도**\n",
    "\n",
    "입력 크기가 커질수록 실행 시간이 로그 형태로 증가하는 알고리즘입니다. 이진 탐색 알고리즘이 대표적입니다."
   ]
  },
  {
   "cell_type": "code",
   "execution_count": null,
   "metadata": {},
   "outputs": [],
   "source": [
    "# 예시: 이진 탐색\n",
    "def binary_search(arr, target):\n",
    "    left, right = 0, len(arr) - 1\n",
    "    while left <= right:\n",
    "        mid = (left + right) // 2\n",
    "        if arr[mid] == target:\n",
    "            return mid\n",
    "        elif arr[mid] < target:\n",
    "            left = mid + 1\n",
    "        else:\n",
    "            right = mid - 1\n",
    "    return -1\n",
    "\n",
    "# 시간 복잡도: O(log n)"
   ]
  },
  {
   "cell_type": "markdown",
   "metadata": {},
   "source": [
    "### **O(n) - 선형 시간 복잡도**\n",
    "\n",
    "입력 크기에 비례하여 실행 시간이 증가하는 알고리즘입니다."
   ]
  },
  {
   "cell_type": "code",
   "execution_count": null,
   "metadata": {},
   "outputs": [],
   "source": [
    "# 예시: 배열의 모든 원소를 출력하는 함수\n",
    "def print_all_elements(arr):\n",
    "    for element in arr:\n",
    "        print(element)\n",
    "\n",
    "# 시간 복잡도: O(n)"
   ]
  },
  {
   "cell_type": "code",
   "execution_count": null,
   "metadata": {},
   "outputs": [],
   "source": [
    "import time\n",
    "\n",
    "def sum_array(arr):\n",
    "    total = 0\n",
    "    for num in arr:\n",
    "        total += num\n",
    "    return total\n",
    "\n",
    "arr = list(range(1000000))\n",
    "start = time.time()\n",
    "sum_array(arr)\n",
    "end = time.time()\n",
    "print(f\"Execution time: {end - start} seconds\")"
   ]
  },
  {
   "cell_type": "markdown",
   "metadata": {},
   "source": [
    "- sum_array 함수는 배열의 모든 요소를 한 번씩 순회하며 합계를 계산합니다.\n",
    "- 배열의 크기가 N일 때, 순회하는 데 걸리는 시간은 N에 비례하므로 시간 복잡도는 O(N)입니다.\n",
    "- contains_duplicate 함수는 배열의 각 요소를 한 번씩 순회하며, 이미 본 요소를 집합에 추가하거나 중복을 확인합니다.\n",
    "- 배열의 크기가 N일 때, 순회하는 데 걸리는 시간은 N에 비례하므로 시간 복잡도는 O(N)입니다."
   ]
  },
  {
   "cell_type": "code",
   "execution_count": null,
   "metadata": {},
   "outputs": [],
   "source": [
    "import time\n",
    "\n",
    "def contains_duplicate(arr):\n",
    "    seen = set()\n",
    "    for num in arr:\n",
    "        if num in seen:\n",
    "            return True\n",
    "        seen.add(num)\n",
    "    return False\n",
    "\n",
    "arr = list(range(1000000)) + [0]\n",
    "start = time.time()\n",
    "contains_duplicate(arr)\n",
    "end = time.time()\n",
    "print(f\"Execution time: {end - start} seconds\")\n"
   ]
  },
  {
   "cell_type": "markdown",
   "metadata": {},
   "source": [
    "### **O(n log n) - 로그 선형 시간 복잡도**\n",
    "\n",
    "많은 정렬 알고리즘이 이 시간 복잡도를 가집니다."
   ]
  },
  {
   "cell_type": "code",
   "execution_count": null,
   "metadata": {},
   "outputs": [],
   "source": [
    "# 예시: 병합 정렬\n",
    "def merge_sort(arr):\n",
    "    if len(arr) > 1:\n",
    "        mid = len(arr) // 2\n",
    "        left_half = arr[:mid]\n",
    "        right_half = arr[mid:]\n",
    "\n",
    "        merge_sort(left_half)\n",
    "        merge_sort(right_half)\n",
    "\n",
    "        i = j = k = 0\n",
    "\n",
    "        while i < len(left_half) and j < len(right_half):\n",
    "            if left_half[i] < right_half[j]:\n",
    "                arr[k] = left_half[i]\n",
    "                i += 1\n",
    "            else:\n",
    "                arr[k] = right_half[j]\n",
    "                j += 1\n",
    "            k += 1\n",
    "\n",
    "        while i < len(left_half):\n",
    "            arr[k] = left_half[i]\n",
    "            i += 1\n",
    "            k += 1\n",
    "\n",
    "        while j < len(right_half):\n",
    "            arr[k] = right_half[j]\n",
    "            j += 1\n",
    "            k += 1\n",
    "\n",
    "# 시간 복잡도: O(n log n)"
   ]
  },
  {
   "cell_type": "markdown",
   "metadata": {},
   "source": [
    "### **O(n^2) - 이차 시간 복잡도**\n",
    "\n",
    "입력 크기가 커질수록 실행 시간이 제곱 형태로 증가하는 알고리즘입니다. 버블 정렬이 대표적입니다."
   ]
  },
  {
   "cell_type": "code",
   "execution_count": null,
   "metadata": {},
   "outputs": [],
   "source": [
    "# 예시: 버블 정렬\n",
    "def bubble_sort(arr):\n",
    "    n = len(arr)\n",
    "    for i in range(n):\n",
    "        for j in range(0, n-i-1):\n",
    "            if arr[j] > arr[j+1]:\n",
    "                arr[j], arr[j+1] = arr[j+1], arr[j]\n",
    "\n",
    "# 시간 복잡도: O(n^2)"
   ]
  },
  {
   "cell_type": "markdown",
   "metadata": {},
   "source": [
    "- selection_sort 함수는 배열의 각 요소에 대해 나머지 요소들과 비교하여 최소값을 찾습니다.\n",
    "- 첫 번째 요소를 정렬하는 데 N번 비교하고, 두 번째 요소는 N−1번 비교하는 식으로 총 $N + (N-1) + (N-2) + \\cdots + 1 = \\frac{N(N-1)}{2}$ 번 비교를 수행하므로 시간 복잡도는 $N^2$입니다."
   ]
  },
  {
   "cell_type": "code",
   "execution_count": null,
   "metadata": {},
   "outputs": [],
   "source": [
    "import time\n",
    "\n",
    "def selection_sort(arr):\n",
    "    n = len(arr)\n",
    "    for i in range(n):\n",
    "        min_idx = i\n",
    "        for j in range(i+1, n):\n",
    "            if arr[j] < arr[min_idx]:\n",
    "                min_idx = j\n",
    "        arr[i], arr[min_idx] = arr[min_idx], arr[i]\n",
    "    return arr\n",
    "\n",
    "arr = list(range(1000, 0, -1))\n",
    "start = time.time()\n",
    "selection_sort(arr)\n",
    "end = time.time()\n",
    "print(f\"Execution time: {end - start} seconds\")"
   ]
  },
  {
   "cell_type": "markdown",
   "metadata": {},
   "source": [
    "- find_sum_pairs 함수는 배열의 각 요소에 대해 나머지 모든 요소들과 쌍을 이루어 합이 target과 같은지 확인합니다.\n",
    "- 배열의 각 요소에 대해 나머지 요소들과 비교하므로, 최악의 경우 N번의 요소를 N−1번 비교하여 N×(N−1) 번 비교를 수행하므로 시간 복잡도는 $O(N^2)$입니다."
   ]
  },
  {
   "cell_type": "code",
   "execution_count": null,
   "metadata": {},
   "outputs": [],
   "source": [
    "import time\n",
    "\n",
    "def find_sum_pairs(arr, target):\n",
    "    pairs = []\n",
    "    for i in range(len(arr)):\n",
    "        for j in range(i + 1, len(arr)):\n",
    "            if arr[i] + arr[j] == target:\n",
    "                pairs.append((arr[i], arr[j]))\n",
    "    return pairs\n",
    "\n",
    "arr = list(range(1000))\n",
    "target = 1998\n",
    "start = time.time()\n",
    "find_sum_pairs(arr, target)\n",
    "end = time.time()\n",
    "print(f\"Execution time: {end - start} seconds\")\n"
   ]
  },
  {
   "cell_type": "markdown",
   "metadata": {},
   "source": [
    "### **O(2^n) - 지수 시간 복잡도**\n",
    "\n",
    "입력 크기가 커질수록 실행 시간이 지수 형태로 증가하는 알고리즘입니다. 피보나치 수열을 재귀적으로 계산하는 알고리즘이 대표적입니다."
   ]
  },
  {
   "cell_type": "code",
   "execution_count": null,
   "metadata": {},
   "outputs": [],
   "source": [
    "# 예시: 피보나치 수열\n",
    "def fibonacci(n):\n",
    "    if n <= 1:\n",
    "        return n\n",
    "    else:\n",
    "        return fibonacci(n-1) + fibonacci(n-2)\n",
    "\n",
    "# 시간 복잡도: O(2^n)\n",
    "\n"
   ]
  },
  {
   "cell_type": "markdown",
   "metadata": {},
   "source": [
    "### **O(n!) - 팩토리얼 시간 복잡도**\n",
    "\n",
    "가장 비효율적인 시간 복잡도로, 순열 생성 알고리즘이 이 시간 복잡도를 가집니다."
   ]
  },
  {
   "cell_type": "code",
   "execution_count": null,
   "metadata": {},
   "outputs": [],
   "source": [
    "# 예시: 순열 생성\n",
    "from itertools import permutations\n",
    "\n",
    "def generate_permutations(arr):\n",
    "    return list(permutations(arr))\n",
    "\n",
    "# 시간 복잡도: O(n!)"
   ]
  },
  {
   "cell_type": "markdown",
   "metadata": {},
   "source": [
    "### **리스트(List)**\n",
    "\n",
    "- 리스트는 여러 값을 하나의 변수에 저장할 수 있는 가변 자료형입니다.\n",
    "- 즉, 리스트에 저장된 값들은 생성 후에도 변경(추가, 삭제, 수정)할 수 있습니다."
   ]
  },
  {
   "cell_type": "markdown",
   "metadata": {},
   "source": [
    "### 리스트의 주요 특징\n",
    "\n",
    "1. **순서가 있는 데이터 구조 (Ordered)**: 리스트는 항목들이 입력된 순서대로 유지됩니다.\n",
    "2. **가변성 (Mutable)**: 리스트는 생성된 이후에도 항목을 추가, 제거, 수정할 수 있습니다.\n",
    "3. **중복 허용 (Allow Duplicates)**: 리스트는 중복된 값을 허용합니다.\n",
    "4. **다양한 데이터 타입 저장 가능 (Heterogeneous)**: 리스트는 문자열, 숫자, 다른 리스트 등 다양한 데이터 타입을 저장할 수 있습니다.\n",
    "5. **표기법:** 대괄호 **`[]`**를 사용합니다.\n",
    "6. **크기:** 리스트의 크기는 동적으로 변경될 수 있습니다."
   ]
  },
  {
   "cell_type": "code",
   "execution_count": null,
   "metadata": {},
   "outputs": [],
   "source": [
    "my_list = [1, 2, 3, 4]\n",
    "my_list.append(5)  # [1, 2, 3, 4, 5]\n",
    "my_list[0] = 0    # [0, 2, 3, 4, 5]\n",
    "del my_list[1]    # [0, 3, 4, 5]"
   ]
  },
  {
   "cell_type": "markdown",
   "metadata": {},
   "source": [
    "### 리스트 생성\n",
    "\n",
    "- 리스트는 대괄호를 사용하여 생성할 수 있습니다."
   ]
  },
  {
   "cell_type": "code",
   "execution_count": null,
   "metadata": {},
   "outputs": [],
   "source": [
    "# 빈 리스트 생성\n",
    "empty_list = []\n",
    "\n",
    "# 여러 데이터 타입을 포함한 리스트 생성\n",
    "mixed_list = [1, \"hello\", 3.14, True, [1, 2, 3]]"
   ]
  },
  {
   "cell_type": "markdown",
   "metadata": {},
   "source": [
    "### 리스트의 기본 연산\n",
    "\n",
    "1. **항목 접근 (Indexing)**:"
   ]
  },
  {
   "cell_type": "code",
   "execution_count": null,
   "metadata": {},
   "outputs": [],
   "source": [
    "numbers = [10, 20, 30, 40, 50]\n",
    "print(numbers[0])  # 10\n",
    "print(numbers[-1]) # 50 (역순 인덱스)"
   ]
  },
  {
   "cell_type": "markdown",
   "metadata": {},
   "source": [
    "2. **항목 변경 (Modifying):**"
   ]
  },
  {
   "cell_type": "code",
   "execution_count": null,
   "metadata": {},
   "outputs": [],
   "source": [
    "numbers[0] = 100\n",
    "print(numbers)  # [100, 20, 30, 40, 50]"
   ]
  },
  {
   "cell_type": "markdown",
   "metadata": {},
   "source": [
    "3. **항목 추가 (Appending):**"
   ]
  },
  {
   "cell_type": "code",
   "execution_count": null,
   "metadata": {},
   "outputs": [],
   "source": [
    "numbers.append(60)\n",
    "print(numbers)  # [100, 20, 30, 40, 50, 60]"
   ]
  },
  {
   "cell_type": "markdown",
   "metadata": {},
   "source": [
    "4. **항목 삽입 (Inserting):**"
   ]
  },
  {
   "cell_type": "code",
   "execution_count": null,
   "metadata": {},
   "outputs": [],
   "source": [
    "numbers.insert(2, 25)\n",
    "print(numbers)  # [100, 20, 25, 30, 40, 50, 60]"
   ]
  },
  {
   "cell_type": "markdown",
   "metadata": {},
   "source": [
    "5. **항목 제거 (Removing):**"
   ]
  },
  {
   "cell_type": "code",
   "execution_count": null,
   "metadata": {},
   "outputs": [],
   "source": [
    "numbers.remove(30)\n",
    "print(numbers)  # [100, 20, 25, 40, 50, 60]"
   ]
  },
  {
   "cell_type": "markdown",
   "metadata": {},
   "source": [
    "6. **항목 추가 (Appending):**"
   ]
  },
  {
   "cell_type": "code",
   "execution_count": null,
   "metadata": {},
   "outputs": [],
   "source": [
    "last_item = numbers.pop()\n",
    "print(last_item)  # 60\n",
    "print(numbers)    # [100, 20, 25, 40, 50]"
   ]
  },
  {
   "cell_type": "markdown",
   "metadata": {},
   "source": [
    "7. **항목 추가 (Appending):**"
   ]
  },
  {
   "cell_type": "code",
   "execution_count": null,
   "metadata": {},
   "outputs": [],
   "source": [
    "print(20 in numbers)  # True\n",
    "print(70 in numbers)  # False"
   ]
  },
  {
   "cell_type": "markdown",
   "metadata": {},
   "source": [
    "### 리스트의 주요 메소드\n",
    "\n",
    "1. **extend()**: 리스트에 다른 리스트나 반복 가능한 객체의 모든 항목을 추가합니다."
   ]
  },
  {
   "cell_type": "code",
   "execution_count": null,
   "metadata": {},
   "outputs": [],
   "source": [
    "numbers.extend([70, 80])\n",
    "print(numbers)  # [100, 20, 25, 40, 50, 70, 80]"
   ]
  },
  {
   "cell_type": "markdown",
   "metadata": {},
   "source": [
    "2. **sort()**: 리스트를 정렬합니다."
   ]
  },
  {
   "cell_type": "code",
   "execution_count": null,
   "metadata": {},
   "outputs": [],
   "source": [
    "numbers.sort()\n",
    "print(numbers)  # [20, 25, 40, 50, 70, 80, 100]"
   ]
  },
  {
   "cell_type": "markdown",
   "metadata": {},
   "source": [
    "3. **reverse()**: 리스트의 항목 순서를 반대로 뒤집습니다."
   ]
  },
  {
   "cell_type": "code",
   "execution_count": null,
   "metadata": {},
   "outputs": [],
   "source": [
    "numbers.reverse()\n",
    "print(numbers)  # [100, 80, 70, 50, 40, 25, 20]"
   ]
  },
  {
   "cell_type": "markdown",
   "metadata": {},
   "source": [
    "4. **index()**: 특정 항목의 첫 번째 인덱스를 반환합니다."
   ]
  },
  {
   "cell_type": "code",
   "execution_count": null,
   "metadata": {},
   "outputs": [],
   "source": [
    "index = numbers.index(50)\n",
    "print(index)  # 3"
   ]
  },
  {
   "cell_type": "markdown",
   "metadata": {},
   "source": [
    "5. **count()**: 리스트 내에서 특정 항목이 몇 번 등장하는지 반환합니다."
   ]
  },
  {
   "cell_type": "code",
   "execution_count": null,
   "metadata": {},
   "outputs": [],
   "source": [
    "count = numbers.count(25)\n",
    "print(count)  # 1"
   ]
  },
  {
   "cell_type": "markdown",
   "metadata": {},
   "source": [
    "### 리스트 컴프리헨션\n",
    "\n",
    "- 리스트는 데이터를 저장하고 조작하는 데 매우 유용하며, 파이썬의 다양한 내장 함수 및 메소드와 함께 사용할 수 있습니다.\n",
    "- 예를 들어, 리스트 컴프리헨션을 사용하면 리스트를 간결하고 효율적으로 생성할 수 있습니다."
   ]
  },
  {
   "cell_type": "code",
   "execution_count": null,
   "metadata": {},
   "outputs": [],
   "source": [
    "# 리스트 컴프리헨션 예제\n",
    "squares = [x**2 for x in range(10)]\n",
    "print(squares)  # [0, 1, 4, 9, 16, 25, 36, 49, 64, 81]"
   ]
  },
  {
   "cell_type": "markdown",
   "metadata": {},
   "source": [
    "### **튜플(Tuple)**\n",
    "\n",
    "튜플은 리스트와 유사하지만 불변 자료형입니다. 즉, 한 번 생성된 튜플의 값들은 변경할 수 없습니다.\n",
    "\n",
    "### **특징:**\n",
    "\n",
    "- **불변성(Immutable):** 튜플의 요소는 추가, 삭제, 수정이 불가능합니다.\n",
    "- **표기법:** 소괄호 **`()`**를 사용합니다.\n",
    "- **크기:** 튜플의 크기는 고정되어 있습니다."
   ]
  },
  {
   "cell_type": "code",
   "execution_count": null,
   "metadata": {},
   "outputs": [],
   "source": [
    "my_tuple = (1, 2, 3, 4)\n",
    "# my_tuple.append(5)  # 오류 발생: 'tuple' object has no attribute 'append'\n",
    "# my_tuple[0] = 0     # 오류 발생: 'tuple' object does not support item assignment"
   ]
  },
  {
   "cell_type": "markdown",
   "metadata": {},
   "source": [
    "### **비교 요약**\n",
    "\n",
    "- **변경 가능성:** 리스트는 가변(mutable)이고, 튜플은 불변(immutable)입니다.\n",
    "- **표기법:** 리스트는 대괄호 **`[]`**, 튜플은 소괄호 **`()`**를 사용합니다.\n",
    "- **사용 목적:** 리스트는 주로 동적으로 데이터를 추가/삭제해야 할 때 사용되고, 튜플은 변경이 필요 없는 고정된 데이터를 저장할 때 사용됩니다.\n",
    "- **성능:** 불변성으로 인해 튜플이 리스트보다 메모리 효율성이 높고, 해시 가능한 키로 사용될 수 있어 딕셔너리 키나 집합(set) 요소로 사용할 수 있습니다.\n",
    "\n",
    "### **활용 예**\n",
    "\n",
    "- **리스트:** 가변 데이터 구조가 필요한 경우(예: 학생 명단 관리).\n",
    "- **튜플:** 변경이 필요 없는 데이터 구조가 필요한 경우(예: 고정된 좌표값, 함수에서 여러 값을 반환할 때)."
   ]
  },
  {
   "cell_type": "code",
   "execution_count": null,
   "metadata": {},
   "outputs": [],
   "source": [
    "def solution(n):\n",
    "    global answer\n",
    "    answer = [[0 for _ in range(n)]for _ in range(n)]\n",
    "    assign(0,0,1,n);\n",
    "    return answer\n",
    "\n",
    "def assign(y, x, num, n):\n",
    "    if(n<=0):return answer\n",
    "    answer[y][x] = num\n",
    "    for _ in range(1, n):#→\n",
    "        x+=1\n",
    "        num+=1\n",
    "        answer[y][x]=num\n",
    "    for _ in range(1, n):#↓\n",
    "        y+=1\n",
    "        num+=1\n",
    "        answer[y][x]=num\n",
    "    for _ in range(1, n):#←\n",
    "        x-=1\n",
    "        num+=1\n",
    "        answer[y][x]=num\n",
    "    for _ in range(1, n-1):#↑\n",
    "        y-=1\n",
    "        num+=1\n",
    "        answer[y][x]=num\n",
    "    return assign(y, x+1, num+1,n-2)"
   ]
  },
  {
   "cell_type": "code",
   "execution_count": null,
   "metadata": {},
   "outputs": [],
   "source": [
    "d = [[0, 1],[1, 0],[0, -1],[-1, 0]]\n",
    "\n",
    "def solution(n):\n",
    "    answer = [[0] * n for _ in range(n)]\n",
    "    x, y = 0, 0\n",
    "    c = 1\n",
    "    dt = 0\n",
    "\n",
    "    while c <= n * n:\n",
    "        answer[x][y] = c\n",
    "        c+=1\n",
    "        xx, yy = x + d[dt][0], y + d[dt][1]\n",
    "        if 0 <= xx < n and 0 <= yy < n:\n",
    "            if answer[xx][yy] != 0:\n",
    "                dt = (dt + 1) % 4\n",
    "                x, y = x + d[dt][0], y + d[dt][1]\n",
    "            else:\n",
    "                x, y = xx, yy\n",
    "        else:\n",
    "            dt = (dt + 1) % 4\n",
    "            x, y = x + d[dt][0], y + d[dt][1]\n",
    "\n",
    "\n",
    "    return answer"
   ]
  },
  {
   "cell_type": "code",
   "execution_count": null,
   "metadata": {},
   "outputs": [],
   "source": [
    "def generateMatrix(n):\n",
    "    matrix = [[0] * n for _ in range(n)]\n",
    "    direction = [(0, 1), (1, 0), (0, -1), (-1, 0)]  # 오른쪽, 아래, 왼쪽, 위\n",
    "    dx, dy = 0, 1  # 초기 방향은 오른쪽\n",
    "    x, y = 0, 0   # 초기 위치\n",
    "\n",
    "    for i in range(1, n * n + 1):\n",
    "        matrix[x][y] = i\n",
    "        nx, ny = x + dx, y + dy\n",
    "        if 0 <= nx < n and 0 <= ny < n and matrix[nx][ny] == 0:\n",
    "            x, y = nx, ny\n",
    "        else:\n",
    "            dx, dy = direction[(direction.index((dx, dy)) + 1) % 4]\n",
    "            x, y = x + dx, y + dy\n",
    "\n",
    "    return matrix\n",
    "\n",
    "# 테스트\n",
    "n = 3\n",
    "print(generateMatrix(n))  # 예시 출력: [[1, 2, 3], [8, 9, 4], [7, 6, 5]]"
   ]
  },
  {
   "cell_type": "markdown",
   "metadata": {},
   "source": [
    "TwoSum 문제"
   ]
  },
  {
   "cell_type": "code",
   "execution_count": null,
   "metadata": {},
   "outputs": [],
   "source": [
    "from typing import List\n",
    "class Solution:\n",
    "    def twoSum(self, nums: List[int], target: int) -> List[int]:\n",
    "        for i in range(len(nums)):\n",
    "            for j in range(i + 1, len(nums)):\n",
    "                if nums[i] + nums[j] == target:\n",
    "                    return [i, j]"
   ]
  },
  {
   "cell_type": "markdown",
   "metadata": {},
   "source": [
    "- 위의 코드는 \"두 수의 합\" 문제를 해결하는 클래스 `Solution`을 정의합니다.\n",
    "- `twoSum` 메서드는 정수 리스트 `nums`와 정수 `target`을 인자로 받습니다.\n",
    "- 이 메서드는 `nums` 리스트에서 두 수를 선택하여 그 합이 `target`이 되는 인덱스를 반환합니다."
   ]
  },
  {
   "cell_type": "markdown",
   "metadata": {},
   "source": [
    "1. `nums` 리스트의 길이만큼 첫 번째 반복문을 실행합니다. 이 반복문은 리스트의 모든 요소를 하나씩 선택하기 위해 사용됩니다.\n",
    "\n",
    "2. 내부에 중첩된 두 번째 반복문은 첫 번째 반복문에서 선택된 요소의 다음 요소부터 끝까지 반복합니다. 이것은 중복된 조합을 피하기 위함입니다.\n",
    "\n",
    "3. 현재 선택된 두 수의 합이 `target`과 같은지 확인합니다. 만약 같다면, 두 수의 인덱스를 리스트로 반환합니다.\n",
    "\n",
    "4. 이 과정을 통해 모든 가능한 조합을 확인하고, 첫 번째로 발견되는 조합을 반환합니다.\n",
    "\n",
    "- 이 코드의 시간 복잡도는 \\(O(n^2)\\)입니다. 이는 두 개의 반복문을 사용하여 모든 가능한 조합을 확인하기 때문입니다."
   ]
  },
  {
   "cell_type": "code",
   "execution_count": null,
   "metadata": {},
   "outputs": [],
   "source": [
    "from typing import List\n",
    "class Solution:\n",
    "    def twoSum(self, nums: List[int], target: int) -> List[int]:\n",
    "        nums_map = {}\n",
    "\n",
    "        for i, num in enumerate(nums):\n",
    "            if target - num in nums_map.keys():\n",
    "                return [nums_map[target - num], i]\n",
    "            nums_map[num] = i\n",
    "            print(nums_map)"
   ]
  },
  {
   "cell_type": "markdown",
   "metadata": {},
   "source": [
    "- 위의 코드는 \"두 수의 합\" 문제를 해결하는 클래스 `Solution`을 정의합니다.\n",
    "- `twoSum` 메서드는 정수 리스트 `nums`와 정수 `target`을 인자로 받습니다.\n",
    "- 이 메서드는 `nums` 리스트에서 두 수를 선택하여 그 합이 `target`이 되는 인덱스를 반환합니다."
   ]
  },
  {
   "cell_type": "markdown",
   "metadata": {},
   "source": [
    "1. `nums_map`이라는 빈 딕셔너리를 초기화합니다. 이 딕셔너리는 수와 해당 수의 인덱스를 저장합니다.\n",
    "\n",
    "2. `nums` 리스트를 순회하면서 각 수의 인덱스와 값을 가져옵니다. `enumerate()` 함수를 사용하여 인덱스와 값을 동시에 가져올 수 있습니다.\n",
    "\n",
    "3. 현재 수와 target에서 현재 수를 뺀 값(target - num)의 차가 nums_map에 있는지 확인합니다. 만약 있다면, 그 수와 현재 인덱스를 리스트로 반환합니다. 이는 두 수의 합이 `target`이 되는 조합을 찾은 것입니다.\n",
    "\n",
    "4. 그렇지 않다면, 현재 수와 그 인덱스를 `nums_map`에 저장합니다. 이렇게 함으로써, 후에 해당 수와 그 인덱스를 찾을 수 있습니다.\n",
    "\n",
    "5. 각 단계에서 nums_map의 상태를 출력하는 print(nums_map) 문이 있습니다. 이는 코드 실행 과정에서 nums_map의 변화를 추적하기 위한 디버깅용입니다."
   ]
  },
  {
   "cell_type": "code",
   "execution_count": null,
   "metadata": {},
   "outputs": [],
   "source": [
    "def solution(sizes):\n",
    "    w = []\n",
    "    h = []\n",
    "    for i in range(len(sizes)):\n",
    "        if sizes[i][0] >= sizes[i][1]:\n",
    "            w.append(sizes[i][0])\n",
    "            h.append(sizes[i][1])\n",
    "        else:\n",
    "            h.append(sizes[i][0])\n",
    "            w.append(sizes[i][1])\n",
    "\n",
    "    return max(w) * max(h)"
   ]
  },
  {
   "cell_type": "code",
   "execution_count": null,
   "metadata": {},
   "outputs": [],
   "source": [
    "# 추가 내용\n",
    "\n",
    "matrix = [\n",
    "    [1, 2, 3],\n",
    "    [4, 5, 6],\n",
    "    [7, 8, 9]\n",
    "]\n",
    "\n",
    "# 첫 번째 행의 첫 번째 요소 접근\n",
    "print(matrix[0][0])  # 출력: 1\n",
    "\n",
    "# 두 번째 행의 세 번째 요소 접근\n",
    "print(matrix[1][2])  # 출력: 6\n",
    "\n",
    "# 2차원 배열의 요소에 접근하려면 두 개의 인덱스를 사용합니다.\n",
    "# 하나는 행(row)을, 다른 하나는 열(column)을 나타냅니다.\n",
    "\n",
    "# 첫 번째 행의 두 번째 요소 수정\n",
    "matrix[0][1] = 20\n",
    "print(matrix[0][1])  # 출력: 20\n",
    "\n",
    "# 세 번째 행의 첫 번째 요소 수정\n",
    "matrix[2][0] = 70\n",
    "print(matrix[2][0])  # 출력: 70\n",
    "\n",
    "# 0으로 초기화된 3x3 배열\n",
    "matrix = [[0 for _ in range(3)] for _ in range(3)]\n",
    "print(matrix)  # 출력: [[0, 0, 0], [0, 0, 0], [0, 0, 0]]\n",
    "\n",
    "# 2차원 배열의 모든 요소를 출력\n",
    "# 2차원 배열의 순회.\n",
    "for row in matrix:\n",
    "    for element in row:\n",
    "        print(element, end=' ')\n",
    "    print()"
   ]
  },
  {
   "cell_type": "code",
   "execution_count": null,
   "metadata": {},
   "outputs": [],
   "source": [
    "# 2차원 배열의 합계 계산\n",
    "matrix = [\n",
    "    [1, 2, 3],\n",
    "    [4, 5, 6],\n",
    "    [7, 8, 9]\n",
    "]\n",
    "\n",
    "total_sum = 0\n",
    "for row in matrix:\n",
    "    for element in row:\n",
    "        total_sum += element\n",
    "\n",
    "print(total_sum)  # 출력: 45\n",
    "\n",
    "# 두 번째 행의 합계\n",
    "row_sum = sum(matrix[1])\n",
    "print(row_sum)  # 출력: 15\n",
    "\n",
    "# 세 번째 열의 합계\n",
    "col_sum = sum(row[2] for row in matrix)\n",
    "print(col_sum)  # 출력: 18"
   ]
  },
  {
   "cell_type": "code",
   "execution_count": null,
   "metadata": {},
   "outputs": [],
   "source": [
    "# 2차원 배열을 함수로 처리\n",
    "def double_elements(matrix):\n",
    "    for i in range(len(matrix)):\n",
    "        for j in range(len(matrix[i])):\n",
    "            matrix[i][j] *= 2\n",
    "    return matrix\n",
    "\n",
    "# 예제 배열\n",
    "matrix = [\n",
    "    [1, 2, 3],\n",
    "    [4, 5, 6],\n",
    "    [7, 8, 9]\n",
    "]\n",
    "\n",
    "# 함수 호출\n",
    "doubled_matrix = double_elements(matrix)\n",
    "print(doubled_matrix)\n",
    "# 출력: [[2, 4, 6], [8, 10, 12], [14, 16, 18]]"
   ]
  },
  {
   "cell_type": "markdown",
   "metadata": {},
   "source": [
    "### 딕셔너리 (Dictionary)\n",
    "\n",
    "1. **정의**: 키와 값의 쌍으로 이루어진 데이터 구조입니다. 각 키는 유일하며, 각 키는 하나의 값과 매핑됩니다.\n",
    "2. **구문**: `{키1: 값1, 키2: 값2, ...}` 형태로 선언합니다.\n",
    "3. **특징**:\n",
    "    - **키는 유일**: 각 키는 중복될 수 없습니다.\n",
    "    - **순서 보장**: 파이썬 3.7부터 삽입 순서를 보장합니다. 딕셔너리에 항목을 추가한 순서대로 저장되고 순회할 수 있습니다.\n",
    "    - **빠른 검색**: 키를 이용해 값을 빠르게 검색할 수 있습니다.\n",
    "    - **가변성**: 값을 추가, 삭제, 변경할 수 있습니다."
   ]
  },
  {
   "cell_type": "code",
   "execution_count": null,
   "metadata": {},
   "outputs": [],
   "source": [
    "my_dict = {\n",
    "    \"name\": \"Alice\",\n",
    "    \"age\": 25,\n",
    "    \"city\": \"New York\"\n",
    "}"
   ]
  },
  {
   "cell_type": "markdown",
   "metadata": {},
   "source": [
    "### 딕셔너리의 주요 특징\n",
    "\n",
    "1. **키-값 쌍 (Key-Value Pairs)**: 딕셔너리는 각 항목이 고유한 키와 그에 대응하는 값으로 구성됩니다.\n",
    "2. **비순차적 (Unordered)**: 딕셔너리는 항목들이 입력된 순서를 유지하지 않습니다. (파이썬 3.7부터는 입력된 순서를 유지합니다.)\n",
    "3. **가변성 (Mutable)**: 딕셔너리는 생성된 이후에도 키-값 쌍을 추가, 제거, 수정할 수 있습니다.\n",
    "4. **키는 유일해야 함 (Unique Keys)**: 딕셔너리의 키는 중복될 수 없습니다. 값은 중복될 수 있습니다."
   ]
  },
  {
   "cell_type": "markdown",
   "metadata": {},
   "source": [
    "### 딕셔너리의 기본 연산\n",
    "\n",
    "1. **항목 접근 (Accessing Items)**:"
   ]
  },
  {
   "cell_type": "code",
   "execution_count": null,
   "metadata": {},
   "outputs": [],
   "source": [
    "# 빈 딕셔너리 생성\n",
    "empty_dict = {}\n",
    "\n",
    "# 키-값 쌍을 포함한 딕셔너리 생성\n",
    "person = {\n",
    "    \"name\": \"John\",\n",
    "    \"age\": 30,\n",
    "    \"city\": \"New York\"\n",
    "}\n",
    "\n",
    "print(person[\"name\"])  # \"John\"\n",
    "print(person.get(\"age\"))  # 30\n"
   ]
  },
  {
   "cell_type": "markdown",
   "metadata": {},
   "source": [
    "2. **항목 추가 및 수정 (Adding and Modifying Items)**:"
   ]
  },
  {
   "cell_type": "code",
   "execution_count": null,
   "metadata": {},
   "outputs": [],
   "source": [
    "# 빈 딕셔너리 생성\n",
    "empty_dict = {}\n",
    "\n",
    "# 키-값 쌍을 포함한 딕셔너리 생성\n",
    "person = {\n",
    "    \"name\": \"John\",\n",
    "    \"age\": 30,\n",
    "    \"city\": \"New York\"\n",
    "}\n",
    "\n",
    "person[\"email\"] = \"john@example.com\"  # 항목 추가\n",
    "person[\"age\"] = 31  # 항목 수정\n",
    "print(person)"
   ]
  },
  {
   "cell_type": "markdown",
   "metadata": {},
   "source": [
    "3. **항목 제거 (Removing Items)**:"
   ]
  },
  {
   "cell_type": "code",
   "execution_count": null,
   "metadata": {},
   "outputs": [],
   "source": [
    "# 빈 딕셔너리 생성\n",
    "empty_dict = {}\n",
    "\n",
    "# 키-값 쌍을 포함한 딕셔너리 생성\n",
    "person = {\n",
    "    \"name\": \"John\",\n",
    "    \"age\": 30,\n",
    "    \"city\": \"New York\"\n",
    "}\n",
    "\n",
    "del person[\"city\"]\n",
    "print(person)\n",
    "\n",
    "email = person.pop(\"email\")\n",
    "print(email)  # \"john@example.com\"\n",
    "print(person)"
   ]
  },
  {
   "cell_type": "markdown",
   "metadata": {},
   "source": [
    "4. **모든 항목 제거 (Clearing All Items)**:"
   ]
  },
  {
   "cell_type": "code",
   "execution_count": null,
   "metadata": {},
   "outputs": [],
   "source": [
    "# 빈 딕셔너리 생성\n",
    "empty_dict = {}\n",
    "\n",
    "# 키-값 쌍을 포함한 딕셔너리 생성\n",
    "person = {\n",
    "    \"name\": \"John\",\n",
    "    \"age\": 30,\n",
    "    \"city\": \"New York\"\n",
    "}\n",
    "\n",
    "person.clear()\n",
    "print(person)  # {}"
   ]
  },
  {
   "cell_type": "markdown",
   "metadata": {},
   "source": [
    "### 딕셔너리의 주요 메소드\n",
    "\n",
    "1. **keys()**: 딕셔너리의 모든 키를 반환합니다."
   ]
  },
  {
   "cell_type": "code",
   "execution_count": null,
   "metadata": {},
   "outputs": [],
   "source": [
    "keys = person.keys()\n",
    "print(keys)  # dict_keys(['name', 'age'])"
   ]
  },
  {
   "cell_type": "markdown",
   "metadata": {},
   "source": [
    "2. **values()**: 딕셔너리의 모든 값을 반환합니다."
   ]
  },
  {
   "cell_type": "code",
   "execution_count": null,
   "metadata": {},
   "outputs": [],
   "source": [
    "values = person.values()\n",
    "print(values)  # dict_values(['John', 31])"
   ]
  },
  {
   "cell_type": "markdown",
   "metadata": {},
   "source": [
    "3. **items()**: 딕셔너리의 모든 키-값 쌍을 반환합니다."
   ]
  },
  {
   "cell_type": "code",
   "execution_count": null,
   "metadata": {},
   "outputs": [],
   "source": [
    "items = person.items()\n",
    "print(items)  # dict_items([('name', 'John'), ('age', 31)])"
   ]
  },
  {
   "cell_type": "markdown",
   "metadata": {},
   "source": [
    "4. **update()**: 딕셔너리의 항목을 업데이트합니다."
   ]
  },
  {
   "cell_type": "code",
   "execution_count": null,
   "metadata": {},
   "outputs": [],
   "source": [
    "person.update({\"age\": 32, \"city\": \"Boston\"})\n",
    "print(person)"
   ]
  },
  {
   "cell_type": "markdown",
   "metadata": {},
   "source": [
    "### 딕셔너리 활용 예제\n",
    "\n",
    "- 딕셔너리는 데이터 검색, 추가, 수정에 매우 효율적이며, 다양한 용도로 사용할 수 있습니다.\n",
    "- 예를 들어, 특정 조건을 만족하는 항목만을 선택하거나, 데이터를 그룹화하는 데 사용할 수 있습니다."
   ]
  },
  {
   "cell_type": "code",
   "execution_count": null,
   "metadata": {},
   "outputs": [],
   "source": [
    "# 예제: 조건을 만족하는 항목 선택\n",
    "students = {\n",
    "    \"Alice\": 85,\n",
    "    \"Bob\": 75,\n",
    "    \"Charlie\": 90\n",
    "}\n",
    "\n",
    "high_scores = {k: v for k, v in students.items() if v > 80}\n",
    "print(high_scores)  # {'Alice': 85, 'Charlie': 90}"
   ]
  },
  {
   "cell_type": "markdown",
   "metadata": {},
   "source": [
    "### 집합 (Set)\n",
    "\n",
    "1. **정의**: 유일한 요소들의 모음입니다. 중복된 요소가 없으며, 순서가 없습니다.\n",
    "2. **구문**: `{값1, 값2, 값3, ...}` 형태로 선언합니다.\n",
    "3. **특징**:\n",
    "    - **중복 없음**: 중복된 요소가 저장되지 않습니다.\n",
    "    - **순서 없음**: 요소의 순서가 없습니다.\n",
    "    - **빠른 멤버십 테스트**: 특정 요소가 집합에 있는지 빠르게 확인할 수 있습니다.\n",
    "    - **가변성**: 요소를 추가, 삭제할 수 있습니다."
   ]
  },
  {
   "cell_type": "code",
   "execution_count": null,
   "metadata": {},
   "outputs": [],
   "source": [
    "my_set = {\"apple\", \"banana\", \"cherry\"}"
   ]
  },
  {
   "cell_type": "markdown",
   "metadata": {},
   "source": [
    "### 주요 차이점\n",
    "\n",
    "1. **데이터 저장 방식**:\n",
    "    - **딕셔너리**: 키와 값의 쌍으로 데이터를 저장.\n",
    "    - **집합**: 단순히 유일한 요소들만 저장.\n",
    "2. **접근 방식**:\n",
    "    - **딕셔너리**: 키를 사용하여 값에 접근.\n",
    "    - **집합**: 특정 요소가 집합에 있는지 여부만 확인.\n",
    "3. **용도**:\n",
    "    - **딕셔너리**: 매핑 관계를 유지할 때 유용.\n",
    "    - **집합**: 유일한 값들의 컬렉션을 관리할 때 유용."
   ]
  },
  {
   "cell_type": "code",
   "execution_count": null,
   "metadata": {},
   "outputs": [],
   "source": [
    "# 딕셔너리 예시\n",
    "my_dict = {\"name\": \"Alice\", \"age\": 25, \"city\": \"New York\"}\n",
    "print(my_dict[\"name\"])  # Output: Alice\n",
    "\n",
    "# 집합 예시\n",
    "my_set = {\"apple\", \"banana\", \"cherry\"}\n",
    "print(\"apple\" in my_set)  # Output: True\n",
    "\n",
    "# 딕셔너리에 값 추가\n",
    "my_dict[\"email\"] = \"alice@example.com\"\n",
    "\n",
    "# 집합에 요소 추가\n",
    "my_set.add(\"date\")\n"
   ]
  },
  {
   "cell_type": "markdown",
   "metadata": {},
   "source": [
    "# 폰켓몬 문제"
   ]
  },
  {
   "cell_type": "code",
   "execution_count": null,
   "metadata": {},
   "outputs": [],
   "source": [
    "def solution(nums):\n",
    "    \n",
    "    # 중복 제거한 폰켓몬 종류의 수\n",
    "    poncatmon_kind_num = len(set(nums))\n",
    "    \n",
    "    # 고를 수 있는 폰켓몬 수\n",
    "    catch_num = len(nums) // 2\n",
    "    \n",
    "    # (폰켓몬 종류의 수)와 (고를 수 있는 수) 중에 교집합 하는 수가 답.\n",
    "    # 둘 중 작은 게 답.\n",
    "    result = min(poncatmon_kind_num, catch_num)\n",
    "    \n",
    "    return result"
   ]
  },
  {
   "cell_type": "code",
   "execution_count": null,
   "metadata": {},
   "outputs": [],
   "source": [
    "def solution(nums):\n",
    "    n = len(nums) / 2       # 가져갈 수 있는 폰켓몬 수\n",
    "    types = len(set(nums))  # 폰켓몬의 종류\n",
    "    return min(n, types)"
   ]
  },
  {
   "cell_type": "markdown",
   "metadata": {},
   "source": [
    "# 완주하지 못한 선수"
   ]
  },
  {
   "cell_type": "markdown",
   "metadata": {},
   "source": [
    "- Sort/Loop을 사용한 solution"
   ]
  },
  {
   "cell_type": "code",
   "execution_count": null,
   "metadata": {},
   "outputs": [],
   "source": [
    "def solution(participant, completion):\n",
    "    answer = ''\n",
    "\n",
    "    # 1. 두 list를 sorting한다\n",
    "    participant.sort()\n",
    "    completion.sort()\n",
    "\n",
    "    # 2. completeion list의 len만큼 participant를 찾아서 없는 사람을 찾는다\n",
    "    for i in range(len(completion)):\n",
    "        if(participant[i] != completion[i]):\n",
    "            return participant[i]\n",
    "\n",
    "    # 3. 전부 다 돌아도 없을 경우에는 마지막 주자가 완주하지 못한 선수이다.\n",
    "    return participant[len(participant)-1]\n",
    "\n",
    "print(solution([\"marina\", \"josipa\", \"nikola\", \"vinko\", \"filipa\"]\n",
    ", [\"josipa\", \"filipa\", \"marina\", \"nikola\"]))"
   ]
  },
  {
   "cell_type": "markdown",
   "metadata": {},
   "source": [
    "- Hash를 사용한 solution"
   ]
  },
  {
   "cell_type": "code",
   "execution_count": null,
   "metadata": {},
   "outputs": [],
   "source": [
    "def solution(participant, completion):\n",
    "    hashDict = {}\n",
    "    sumHash = 0\n",
    "    \n",
    "    # 1. Hash : Participant의 dictionary 만들기\n",
    "    # 2. Participant의 sum(hash) 구하기\n",
    "    for part in participant:\n",
    "        hashDict[hash(part)] = part\n",
    "        sumHash += hash(part)\n",
    "    \n",
    "    # 3. completion의 sum(hash) 빼기\n",
    "    for comp in completion:\n",
    "        sumHash -= hash(comp)\n",
    "    \n",
    "    # 4. 남은 값이 완주하지 못한 선수의 hash 값이 된다\n",
    "\n",
    "    return hashDict[sumHash]\n",
    "\n",
    "print(solution([\"marina\", \"josipa\", \"nikola\", \"vinko\", \"filipa\"]\n",
    ", [\"josipa\", \"filipa\", \"marina\", \"nikola\"]))"
   ]
  },
  {
   "cell_type": "markdown",
   "metadata": {},
   "source": [
    "- Counter를 사용한 solution"
   ]
  },
  {
   "cell_type": "code",
   "execution_count": null,
   "metadata": {},
   "outputs": [],
   "source": [
    "import collections\n",
    "def solution(participant, completion):\n",
    "    # 1. participant의 Counter를 구한다\n",
    "    # 2. completion의 Counter를 구한다\n",
    "    # 3. 둘의 차를 구하면 정답만 남아있는 counter를 반환한다\n",
    "    answer = collections.Counter(participant) - collections.Counter(completion)\n",
    "    \n",
    "    # 4. counter의 key값을 반환한다\n",
    "    return list(answer.keys())[0]\n",
    "\n",
    "print(solution([\"marina\", \"josipa\", \"nikola\", \"vinko\", \"filipa\"]\n",
    ", [\"josipa\", \"filipa\", \"marina\", \"nikola\"]))"
   ]
  },
  {
   "cell_type": "markdown",
   "metadata": {},
   "source": [
    "- 강사님 풀이"
   ]
  },
  {
   "cell_type": "code",
   "execution_count": null,
   "metadata": {},
   "outputs": [],
   "source": [
    "from collections import defaultdict\n",
    "# defaultdict를 import로 불러온다.\n",
    "\n",
    "def solution(participant, completion):\n",
    "# participant, completion의 인자를 가진 solution 을 정의.\n",
    "    \n",
    "    p_dict = defaultdict(int)\n",
    "    # p_dict 디렉토리를 만드는데 디폴트값이 int.\n",
    "    \n",
    "    for p in participant:\n",
    "        p_dict[p] += 1\n",
    "        \n",
    "    for c in completion:\n",
    "        p_dict[c] -= 1\n",
    "        if p_dict[c] == 0:\n",
    "            del p_dict[c]\n",
    "        \n",
    "    \n",
    "    return (list(p_dict.keys())[0])"
   ]
  },
  {
   "cell_type": "code",
   "execution_count": null,
   "metadata": {},
   "outputs": [],
   "source": [
    "from collections import Counter\n",
    "\n",
    "def solution(participant, completion):\n",
    "    \n",
    "    p_dict = Counter(participant)\n",
    "    c_dict = Counter(completion)\n",
    "    \n",
    "    answer = p_dict - c_dict\n",
    "    return list(answer.keys())[0]"
   ]
  },
  {
   "cell_type": "markdown",
   "metadata": {},
   "source": [
    "# 보석과 돌 문제"
   ]
  },
  {
   "cell_type": "markdown",
   "metadata": {},
   "source": [
    "- defaultdict를 이용한 비교 생략"
   ]
  },
  {
   "cell_type": "code",
   "execution_count": null,
   "metadata": {},
   "outputs": [],
   "source": [
    "class Solution:\n",
    "    def numJewelsInStones(self, jewels: str, stones: str) -> int:\n",
    "        freqs = collections.defaultdict(int)\n",
    "        count = 0\n",
    "        \n",
    "        # 조건절 없이 빈도 수 계산\n",
    "        for s in stones:\n",
    "            freqs[s] += 1\n",
    "            # if s not in freqs:\n",
    "            # freqs[s] = 1\n",
    "            # else:\n",
    "            \n",
    "        # freqs = {'a': 1, 'A': 2, 'b': 4}\n",
    "        \n",
    "        for j in jewels:\n",
    "            if j in freqs:\n",
    "                count += freqs[j]\n",
    "                \n",
    "        return count"
   ]
  },
  {
   "cell_type": "markdown",
   "metadata": {},
   "source": [
    "- Counter로 빈도수 계산 생략"
   ]
  },
  {
   "cell_type": "code",
   "execution_count": null,
   "metadata": {},
   "outputs": [],
   "source": [
    "def numJewelsInStones4(jewels: str, stones: str) -> int:\n",
    "    #collections 모듈의 Counter 클래스\n",
    "    #stones을 카운터 함수에 담으면 각각의 인자들의 빈도수를 카운팅\n",
    "    freqs = collections.Counter(stones)\n",
    "    # print(freqs)\n",
    "    # Counter({'b': 4, 'A': 2, 'a': 1})\n",
    "    count = 0\n",
    "\n",
    "    for j in jewels:\n",
    "        count += freqs[j]\n",
    "\n",
    "    return count"
   ]
  },
  {
   "cell_type": "markdown",
   "metadata": {},
   "source": [
    "- 해시 테이블로 이용한 풀이"
   ]
  },
  {
   "cell_type": "code",
   "execution_count": null,
   "metadata": {},
   "outputs": [],
   "source": [
    "def numJewelsInStones2(jewels: str, stones: str) -> int:\n",
    "    # 딕셔너리 선언\n",
    "    freqs = {}\n",
    "    count = 0\n",
    "\n",
    "    # 돌에 있는 값을 하나씩 꺼내서 딕셔너리에 담아서 빈도수를 계산\n",
    "    for s in stones:\n",
    "        if s not in freqs:\n",
    "            freqs[s] = 1\n",
    "        else:\n",
    "            freqs[s] += 1\n",
    "\n",
    "    # freqs = {'a': 1, 'A': 2, 'b': 4}\n",
    "\n",
    "    for j in jewels:\n",
    "        if j in freqs:\n",
    "            # 체크해둔 빈도수랑 보석이랑 비교해서 카운팅 하는 방법\n",
    "            count += freqs[j]\n",
    "\n",
    "    return count"
   ]
  },
  {
   "cell_type": "markdown",
   "metadata": {},
   "source": [
    "- 강사님 풀이"
   ]
  },
  {
   "cell_type": "code",
   "execution_count": null,
   "metadata": {},
   "outputs": [],
   "source": [
    "class Solution:\n",
    "    def numJewelsInStones(self, jewels: str, stones: str) -> int:\n",
    "        result = 0\n",
    "        jewels = set(jewels)\n",
    "        \n",
    "        for stone in stones:\n",
    "            print(f'jewels 목록 {jewels}, 돌은 {stone}')\n",
    "            if stone in jewels:\n",
    "                print('result + 1')\n",
    "                result += 1\n",
    "                \n",
    "        return result"
   ]
  },
  {
   "cell_type": "code",
   "execution_count": null,
   "metadata": {},
   "outputs": [],
   "source": [
    "from collections import Counter\n",
    "\n",
    "class Solution:\n",
    "    def numJewelsInStones(self, jewels: str, stones: str) -> int:\n",
    "        stones = Counter(stones)\n",
    "        \n",
    "        for stone in stones:\n",
    "            print(stone)\n",
    "            \n",
    "        return 0"
   ]
  },
  {
   "cell_type": "code",
   "execution_count": null,
   "metadata": {},
   "outputs": [],
   "source": [
    "from collections import Counter\n",
    "\n",
    "class Solution:\n",
    "    def numJewelsInStones(self, jewels: str, stones: str) -> int:\n",
    "        stones = Counter(stones)\n",
    "        jewels = set(jewels)\n",
    "        result = 0\n",
    "        \n",
    "        for key, value in stones.items():\n",
    "            if key in jewels:\n",
    "                result += value\n",
    "            \n",
    "        return 0"
   ]
  },
  {
   "cell_type": "markdown",
   "metadata": {},
   "source": [
    "# 코드 처리하기 문제"
   ]
  },
  {
   "cell_type": "markdown",
   "metadata": {},
   "source": [
    "- 문자열 code가 주어집니다.\n",
    "- code를 앞에서부터 읽으면서 만약 문자가 \"1\"이면 mode를 바꿉니다.\n",
    "- mode에 따라 code를 읽어가면서 문자열 ret을 만들어냅니다. mode는 0과 1이 있으며,\n",
    "- idx를 0 부터 code의 길이 - 1 까지 1씩 키워나가면서 code[idx]의 값에 따라 다음과 같이 행동합니다.\n",
    "- mode가 0일 때\n",
    "- code[idx]가 \"1\"이 아니면 idx가 짝수일 때만 ret의 맨 뒤에 code[idx]를 추가합니다.\n",
    "- code[idx]가 \"1\"이면 mode를 0에서 1로 바꿉니다.\n",
    "- mode가 1일 때\n",
    "- code[idx]가 \"1\"이 아니면 idx가 홀수일 때만 ret의 맨 뒤에 code[idx]를 추가합니다.\n",
    "- code[idx]가 \"1\"이면 mode를 1에서 0으로 바꿉니다.\n",
    "- 문자열 code를 통해 만들어진 문자열 ret를 return 하는 solution 함수를 완성해 주세요.\n",
    "\n",
    "- 단, 시작할 때 mode는 0이며, return 하려는 ret가 만약 빈 문자열이라면 대신 \"EMPTY\"를 return 합니다."
   ]
  },
  {
   "cell_type": "code",
   "execution_count": null,
   "metadata": {},
   "outputs": [],
   "source": [
    "def solution(code):\n",
    "    \n",
    "    result = '' # 결과를 저장할 빈 문자열\n",
    "    \n",
    "    # mode를 False로 저장, 이는 모드가 0임을 나타냄.\n",
    "    mode = False\n",
    "    \n",
    "    # enumerate를 사용하여 code 문자열을 순회 / idx는 현재 인덱스. i는 현재 문자\n",
    "    for idx, i in enumerate(code):\n",
    "        \n",
    "        # 만약 현재 문자가 '1' 이라면 mode 변경\n",
    "        if i == \"1\":\n",
    "            mode = not mode\n",
    "            continue\n",
    "            \n",
    "        # 만약 mode가 False이고 idx가 짝수라면, 현재 문자를 result에 추가\n",
    "        if not mode and idx%2==0:\n",
    "            result += i\n",
    "            \n",
    "        # 만약 mode가 True이고 idx가 홀수라면, 현재 문자를 result에 추가\n",
    "        elif mode and idx%2==1:\n",
    "            result += i\n",
    "            \n",
    "    # 만약 result가 빈 문자열이라면 \"EMPTY\"를 반환\n",
    "    if not result:\n",
    "        return \"EMPTY\"\n",
    "    \n",
    "    return result # 그러지 않다면 result를 반환"
   ]
  },
  {
   "cell_type": "markdown",
   "metadata": {},
   "source": [
    "# 리트코드 242번 문제"
   ]
  },
  {
   "cell_type": "code",
   "execution_count": null,
   "metadata": {},
   "outputs": [],
   "source": [
    "from collections import Counter, defaultdict\n",
    "\n",
    "class Solution:\n",
    "    def isAnagram(self, s: str, t: str) -> bool:\n",
    "        s_dict = defaultdict(int)\n",
    "        t_dict = defaultdict(int)\n",
    "        t_dict = Counter(s)\n",
    "        t_dict = Counter(t)\n",
    "        s_dict = defaultdict(lambda: 1)\n",
    "        t_dict = defaultdict(lambda: 1)\n",
    "        \n",
    "        for c in s:\n",
    "            s_dict[c] += 1  \n",
    "            \n",
    "        for c in t:\n",
    "            t_dict[c] += 1\n",
    "            \n",
    "        return s_dict == t_dict"
   ]
  },
  {
   "cell_type": "code",
   "execution_count": null,
   "metadata": {},
   "outputs": [],
   "source": [
    "class Solution:\n",
    "    def isAnagram(self, s: str, t: str) -> bool:\n",
    "        s_dict = {}\n",
    "        t_dict = {}\n",
    "        \n",
    "        for c in s:\n",
    "            if c in s_dict:\n",
    "                s_dict[c] += 1  \n",
    "            else:\n",
    "                s_dict[c] = 1\n",
    "                \n",
    "        for c in t:\n",
    "            if c in t_dict:\n",
    "                t_dict[c] -= 1\n",
    "            else:\n",
    "                return False\n",
    "            \n",
    "        print(s_dict == t_dict)\n",
    "        return s_dict == t_dict\n",
    "        # print(id(s_dict), id(t_dict))\n",
    "        # print(id(s_dict) == id(t_dict))\n",
    "        # if s_dict == t_dict:\n",
    "        #       return True\n",
    "        # else:\n",
    "        #       return False"
   ]
  },
  {
   "cell_type": "code",
   "execution_count": null,
   "metadata": {},
   "outputs": [],
   "source": [
    "class Solution:\n",
    "    def isAnagram(self, s: str, t: str) -> bool:\n",
    "        if len(s) != len(t):    # 두 문자열의 길이가 다르면 애너그램일 수 없음.\n",
    "            return False\n",
    "        \n",
    "        # 각 문자의 빈도를 카운트하기 위한 딕셔너리 생성\n",
    "        char_count = {}\n",
    "        \n",
    "        # 첫 번째 문자열을 문자 빈도 카운트\n",
    "        for char in s:\n",
    "            if char in char_count:\n",
    "                char_count[char] += 1\n",
    "            else:\n",
    "                char_count[char] = 1\n",
    "                \n",
    "        # 두 번째 문자열의 문자 빈도를 첫 번째 문자열과 비교하여 감소시킴\n",
    "        for char in t:\n",
    "            if char in char_count:\n",
    "                char_count[char] -= 1\n",
    "            else:\n",
    "                # 두 번째 문자열에 있는 문자가 첫 번째 문자열에 없으면 애너그램이 아님.\n",
    "                return False\n",
    "            \n",
    "        # 모든 문자의 빈도가 0이면 애너그램임\n",
    "        for count in char_count.values():\n",
    "            if count != 0:\n",
    "                return False\n",
    "            \n",
    "        return True"
   ]
  },
  {
   "cell_type": "code",
   "execution_count": null,
   "metadata": {},
   "outputs": [],
   "source": [
    "class Solution:\n",
    "    def isAnagram(self, s: str, t: str) -> bool:\n",
    "        return sorted(s) == sorted(t)"
   ]
  },
  {
   "cell_type": "markdown",
   "metadata": {},
   "source": [
    "- 첫 번째 코드는 두 문자열의 길이를 먼저 비교하여 다르면 바로 False를 반환하고,\n",
    "- 두 번째 코드는 문자열을 정렬하여 비교합니다.\n",
    "\n",
    "- 첫 번째 코드는 각 문자의 빈도를 딕셔너리에 저장하고,\n",
    "- 두 번째 코드는 문자열을 정렬하여 비교합니다.\n",
    "\n",
    "- 첫 번째 코드는 두 번째 문자열의 각 문자 빈도를 첫 번째 문자열과 비교하고,\n",
    "- 두 번째 코드는 정렬된 두 문자열을 직접 비교합니다.\n",
    "\n",
    "- 첫 번째 코드는 모든 문자의 빈도가 0이면 애너그램으로 판단하고,\n",
    "- 두 번째 코드는 정렬된 두 문자열이 동일하면 애너그램으로 판단합니다."
   ]
  },
  {
   "cell_type": "markdown",
   "metadata": {},
   "source": [
    "# 유효한 팰린드롬 문제"
   ]
  },
  {
   "cell_type": "code",
   "execution_count": null,
   "metadata": {},
   "outputs": [],
   "source": [
    "# 리스트를 이용.\n",
    "\n",
    "class Solution:\n",
    "    def isPalindrome(self, s: str) -> bool:\n",
    "        strs = []\n",
    "        for char in s:\n",
    "            if char.isalnum():\n",
    "                strs.append(char.lower())\n",
    "                \n",
    "        while len(strs) > 1:\n",
    "            if strs.pop(0) != strs.pop():\n",
    "                return False\n",
    "        return True"
   ]
  },
  {
   "cell_type": "code",
   "execution_count": null,
   "metadata": {},
   "outputs": [],
   "source": [
    "class Solution:\n",
    "    def isPalindrome(self, s: str) -> bool:\n",
    "        # 알파벳만 남기기\n",
    "        new_s = \"\"\n",
    "        for letter in s:\n",
    "            if letter.isalnum():\n",
    "                new_s += letter\n",
    "        new_s = new_s.lower()\n",
    "        new_array = list(new_s)\n",
    "        \n",
    "        while len(new_array) > 2:\n",
    "            if new_array.pop() != new_array.pop(0): # 마지막값과 첫번째 값 추출\n",
    "                return False\n",
    "            \n",
    "        return True"
   ]
  },
  {
   "cell_type": "code",
   "execution_count": null,
   "metadata": {},
   "outputs": [],
   "source": [
    "class Solution:\n",
    "    def isPalindrome(self, s: str) -> bool:\n",
    "        # 알파벳만 남기기\n",
    "        new_s = \"\"\n",
    "        for letter in s:\n",
    "            if letter.isalnum():\n",
    "                new_s += letter\n",
    "        new_s = new_s.lower()\n",
    "        \n",
    "        return new_s == new_s[::-1]"
   ]
  },
  {
   "cell_type": "code",
   "execution_count": null,
   "metadata": {},
   "outputs": [],
   "source": [
    "# 리스트 컴프리헨션 사용\n",
    "\n",
    "class Solution:\n",
    "    def isPalindrome(self, s: str) -> bool:\n",
    "        # 알파벳만 남기기\n",
    "        \n",
    "        s = ([letter.lower() for letter in s if letter.isalnum])\n",
    "        return s == s[::-1]"
   ]
  },
  {
   "cell_type": "markdown",
   "metadata": {},
   "source": [
    "# 문자열 뒤집기 문제"
   ]
  },
  {
   "cell_type": "code",
   "execution_count": null,
   "metadata": {},
   "outputs": [],
   "source": [
    "class Solution:\n",
    "    def reverseString(self, s: list[str]) -> None:\n",
    "        s.reverse()"
   ]
  },
  {
   "cell_type": "markdown",
   "metadata": {},
   "source": [
    "# 가장 흔한 단어 문제"
   ]
  },
  {
   "cell_type": "code",
   "execution_count": null,
   "metadata": {},
   "outputs": [],
   "source": [
    "from collections import Counter\n",
    "from typing import List\n",
    "\n",
    "class Solution:\n",
    "    def mostCommonWord(self, paragraph: str, banned: List[str]) -> str:\n",
    "        # paragraph = [p.lower() for p in paragraph.split()]\n",
    "        new = \"\"\n",
    "        for i, p in enumerate(paragraph):\n",
    "            if p in \"!?',;.\":\n",
    "                new += \"\"\n",
    "            else:\n",
    "                new += p\n",
    "                \n",
    "        paragraph = new\n",
    "        paragraph = [p.lower() for p in paragraph.split()]\n",
    "        \n",
    "        counter = Counter(paragraph)\n",
    "        for ban in banned:\n",
    "            del counter[ban]\n",
    "        return "
   ]
  },
  {
   "cell_type": "code",
   "execution_count": null,
   "metadata": {},
   "outputs": [],
   "source": [
    "from collections import Counter\n",
    "import re\n",
    "\n",
    "class Solution:\n",
    "    def mostCommonWord(self, paragraph: str, banned: list[str]) -> str:\n",
    "        words = [word for word in re.sub(r'[^\\w]', '', paragraph).lower().split() if word not in banned]\n",
    "        counts = Counter(words)\n",
    "        return counts.most_common(1)[0][0]\n",
    "    \n",
    "# re.sub(r'[^\\w]', '', paragraph)\n",
    "# re모듈을 사용. sub 메소드를 이용해 정규식을 사용하여 문자열을 치환.\n",
    "# re.sub(pattern(바꿔야하는거), replace(변경할내용), text(바꾸고자 하는 문자열)) 형식.\n",
    "# []    = 문자 클래스.\n",
    "# '^'   = 문자 클래스 안에서 사용되면 부정의 의미. 즉. 문자 클래스 안의 문자들을 제외한 나머지를 대체하겠다.\n",
    "# '\\w'  = 단어 문자를 의미. (알파벳 문자나 숫자, 밑줄)\n",
    "# 'r''' = 원시 문자열. 백슬래시를 이스케이프 문자로 해석하지 않고 그대로 취급. r, '' 으로 취급함."
   ]
  },
  {
   "cell_type": "code",
   "execution_count": null,
   "metadata": {},
   "outputs": [],
   "source": [
    "class Solution:\n",
    "    def mostCommonWord(self, paragraph: str, banned: list[str]) -> str:\n",
    "        # banned 리스트를 집합(set)으로 변환하여 O(1) 시간에 포함 여부를 확인할 수 있도록 합니다.\n",
    "        banned_set = set(banned)\n",
    "        # 소문자로 변환된 단어 리스트 생성\n",
    "        words = paragraph.lower().split()\n",
    "        # 구두점 제거\n",
    "        words = [word.strip(\"!?',;.\") for word in words]\n",
    "        # banned에 포함되지 않은 단어들만 필터링\n",
    "        words = [word for word in words if word and word not in banned_set]\n",
    "        # 각 단어의 등장 횟수를 세어줍니다.\n",
    "        counts = {}\n",
    "        for word in words:\n",
    "            counts[word] = counts.get(word, 0) + 1\n",
    "        # 등장 횟수가 가장 많은 단어를 반환합니다.\n",
    "        return max(counts, key=counts.get)\n",
    "\n",
    "# 정규 표현식 대신 split() 메서드를 사용하여 공백 기준으로 문단을 단어로 분리.\n",
    "# 각 단어에서 구두점을 제거하기 위해 strip() 메서드를 활용.\n",
    "# 그 후 banned 단어들을 제외하고 남은 단어들의 등장 횟수를 세어서 가장 많이 등장한 단어를 반환."
   ]
  },
  {
   "cell_type": "markdown",
   "metadata": {},
   "source": [
    "# 로그 파일 재정렬 문제"
   ]
  },
  {
   "cell_type": "code",
   "execution_count": null,
   "metadata": {},
   "outputs": [],
   "source": [
    "from typing import List\n",
    "class Solution:\n",
    "    def reorderLogFiles(self, logs: List[str]) -> List[str]:\n",
    "        letters, digits = [], []\n",
    "        \n",
    "        for log in logs:\n",
    "            if log.split()[1].isdigit():\n",
    "                digits.append(log)\n",
    "            else:\n",
    "                letters.append(log)\n",
    "                \n",
    "        letters.sort(key=lambda x: (x.split()[1:], x.split()[0]))\n",
    "        \n",
    "        return letters + digits"
   ]
  },
  {
   "cell_type": "markdown",
   "metadata": {},
   "source": [
    "## 문자열\n",
    "\n",
    "파이썬에서 문자열(String)은 문자들의 연속적인 시퀀스로, 텍스트 데이터를 다루는 데 사용됩니다. 문자열은 작은 따옴표(`'`)나 큰 따옴표(`\"`)로 감싸서 생성할 수 있습니다.\n",
    "\n",
    "### 문자열의 주요 특징\n",
    "\n",
    "1. **불변성 (Immutable)**: 문자열은 생성된 이후에 변경할 수 없습니다. 새로운 문자열을 생성하여 변경된 내용을 반영할 수 있습니다.\n",
    "2. **시퀀스 타입 (Sequence Type)**: 문자열은 문자들의 순서가 있는 시퀀스입니다. 따라서 인덱싱, 슬라이싱, 반복과 같은 시퀀스 연산이 가능합니다.\n",
    "3. **다양한 표현 방식**: 작은 따옴표, 큰 따옴표, 삼중 따옴표(`'''` 또는 `\"\"\"`)로 문자열을 표현할 수 있습니다. 삼중 따옴표는 여러 줄에 걸친 문자열을 생성할 때 유용합니다."
   ]
  },
  {
   "cell_type": "code",
   "execution_count": null,
   "metadata": {},
   "outputs": [],
   "source": [
    "# 작은 따옴표와 큰 따옴표를 사용한 문자열 생성\n",
    "str1 = 'Hello, World!'\n",
    "str2 = \"Python is fun!\"\n",
    "\n",
    "# 여러 줄 문자열 생성\n",
    "str3 = \"\"\"This is a\n",
    "multi-line\n",
    "string.\"\"\"\n"
   ]
  },
  {
   "cell_type": "markdown",
   "metadata": {},
   "source": [
    "### 문자열의 기본 연산\n",
    "\n",
    "1. **인덱싱 (Indexing)**: 특정 위치의 문자에 접근합니다. (0부터 시작)"
   ]
  },
  {
   "cell_type": "code",
   "execution_count": null,
   "metadata": {},
   "outputs": [],
   "source": [
    "word = \"Python\"\n",
    "print(word[0])  # 'P'\n",
    "print(word[-1]) # 'n' (역순 인덱스)\n"
   ]
  },
  {
   "cell_type": "markdown",
   "metadata": {},
   "source": [
    "2. **슬라이싱 (Slicing)**: 문자열의 부분 문자열을 추출합니다."
   ]
  },
  {
   "cell_type": "code",
   "execution_count": null,
   "metadata": {},
   "outputs": [],
   "source": [
    "# [start:end:stride]\n",
    "\n",
    "print(word[0:2])   # 'Py'\n",
    "print(word[2:])    # 'thon'\n",
    "print(word[:2])    # 'Py'\n",
    "print(word[-2:])   # 'on'\n",
    "print(word[0:4:2]) # 'Pto'\n"
   ]
  },
  {
   "cell_type": "markdown",
   "metadata": {},
   "source": [
    "### 문자열의 기본 연산\n",
    "\n",
    "1. **길이 확인 (Length)**: 문자열의 길이를 확인합니다."
   ]
  },
  {
   "cell_type": "code",
   "execution_count": null,
   "metadata": {},
   "outputs": [],
   "source": [
    "print(len(word))  # 6"
   ]
  },
  {
   "cell_type": "markdown",
   "metadata": {},
   "source": [
    "2. **문자열 결합 (Concatenation)**: 문자열을 결합합니다."
   ]
  },
  {
   "cell_type": "code",
   "execution_count": null,
   "metadata": {},
   "outputs": [],
   "source": [
    "greeting = \"Hello, \" + \"World!\"\n",
    "print(greeting)  # 'Hello, World!'"
   ]
  },
  {
   "cell_type": "markdown",
   "metadata": {},
   "source": [
    "3. **문자열 반복 (Repetition)**: 문자열을 반복합니다."
   ]
  },
  {
   "cell_type": "code",
   "execution_count": null,
   "metadata": {},
   "outputs": [],
   "source": [
    "echo = \"Hello! \" * 3\n",
    "print(echo)  # 'Hello! Hello! Hello! '"
   ]
  },
  {
   "cell_type": "markdown",
   "metadata": {},
   "source": [
    "### 문자열의 주요 메소드\n",
    "\n",
    "1. **대소문자 변환 (Changing Case)**:"
   ]
  },
  {
   "cell_type": "code",
   "execution_count": null,
   "metadata": {},
   "outputs": [],
   "source": [
    "text = \"Hello, World!\"\n",
    "print(text.lower())  # 'hello, world!'\n",
    "print(text.upper())  # 'HELLO, WORLD!'\n",
    "print(text.title())  # 'Hello, World!'"
   ]
  },
  {
   "cell_type": "markdown",
   "metadata": {},
   "source": [
    "2. **공백 제거 (Trimming Whitespaces)**:"
   ]
  },
  {
   "cell_type": "code",
   "execution_count": null,
   "metadata": {},
   "outputs": [],
   "source": [
    "text = \"  Hello, World!  \"\n",
    "print(text.strip())  # 'Hello, World!'\n",
    "print(text.lstrip()) # 'Hello, World!  '\n",
    "print(text.rstrip()) # '  Hello, World!'"
   ]
  },
  {
   "cell_type": "markdown",
   "metadata": {},
   "source": [
    "3. **문자열 분할 (Splitting Strings)**:"
   ]
  },
  {
   "cell_type": "code",
   "execution_count": null,
   "metadata": {},
   "outputs": [],
   "source": [
    "text = \"apple,banana,cherry\"\n",
    "fruits = text.split(\",\")\n",
    "print(fruits)  # ['apple', 'banana', 'cherry']"
   ]
  },
  {
   "cell_type": "markdown",
   "metadata": {},
   "source": [
    "4. **문자열 결합 (Joining Strings)**:"
   ]
  },
  {
   "cell_type": "code",
   "execution_count": null,
   "metadata": {},
   "outputs": [],
   "source": [
    "fruits = [\"apple\", \"banana\", \"cherry\"]\n",
    "text = \", \".join(fruits)\n",
    "print(text)  # 'apple, banana, cherry'"
   ]
  },
  {
   "cell_type": "markdown",
   "metadata": {},
   "source": [
    "5. **문자열 검색 및 대체 (Searching and Replacing Strings)**:"
   ]
  },
  {
   "cell_type": "code",
   "execution_count": null,
   "metadata": {},
   "outputs": [],
   "source": [
    "text = \"Hello, World!\"\n",
    "print(text.find(\"World\"))  # 7\n",
    "print(text.replace(\"World\", \"Python\"))  # 'Hello, Python!'"
   ]
  },
  {
   "cell_type": "markdown",
   "metadata": {},
   "source": [
    "### 문자열 포맷팅 (String Formatting)\n",
    "\n",
    "파이썬에서는 문자열 내에 변수를 삽입하는 다양한 포맷팅 방법을 제공합니다.\n",
    "\n",
    "1. **f-strings (파이썬 3.6+)**:"
   ]
  },
  {
   "cell_type": "code",
   "execution_count": null,
   "metadata": {},
   "outputs": [],
   "source": [
    "name = \"John\"\n",
    "age = 30\n",
    "text = f\"My name is {name} and I am {age} years old.\"\n",
    "print(text)  # 'My name is John and I am 30 years old.'"
   ]
  },
  {
   "cell_type": "markdown",
   "metadata": {},
   "source": [
    "2. **str.format() 메소드**:"
   ]
  },
  {
   "cell_type": "code",
   "execution_count": null,
   "metadata": {},
   "outputs": [],
   "source": [
    "text = \"My name is {} and I am {} years old.\".format(name, age)\n",
    "print(text)  # 'My name is John and I am 30 years old.'"
   ]
  },
  {
   "cell_type": "markdown",
   "metadata": {},
   "source": [
    "3. **퍼센트 연산자 (%)**:"
   ]
  },
  {
   "cell_type": "code",
   "execution_count": null,
   "metadata": {},
   "outputs": [],
   "source": [
    "text = \"My name is %s and I am %d years old.\" % (name, age)\n",
    "print(text)  # 'My name is John and I am 30 years old.'"
   ]
  },
  {
   "cell_type": "markdown",
   "metadata": {},
   "source": [
    "## 시퀀스\n",
    "\n",
    "시퀀스(Sequence)는 항목들이 특정한 순서로 나열된 데이터 구조를 말합니다. 시퀀스는 항목의 순서가 중요하며, 여러 종류의 데이터 타입이 포함될 수 있습니다. 주요 시퀀스 타입으로는 리스트(List), 튜플(Tuple), 문자열(String), 레인지(Range), 바이트열(Bytes), 바이트배열(Bytearray)이 있습니다.\n",
    "\n",
    "### 주요 시퀀스 타입\n",
    "\n",
    "1. **리스트 (List)**:\n",
    "    - 가변적이며 항목을 추가, 제거, 수정할 수 있습니다.\n",
    "    - 대괄호(`[]`)로 생성합니다.\n",
    "    - 예시: `my_list = [1, 2, 3, 4, 5]`\n",
    "2. **튜플 (Tuple)**:\n",
    "    - 불변적이며 생성 후 항목을 변경할 수 없습니다.\n",
    "    - 소괄호(`()`)로 생성합니다.\n",
    "    - 예시: `my_tuple = (1, 2, 3, 4, 5)`\n",
    "3. **문자열 (String)**:\n",
    "    - 불변적이며 문자들의 시퀀스입니다.\n",
    "    - 작은 따옴표(`'`), 큰 따옴표(`\"`), 삼중 따옴표(`'''` 또는 `\"\"\"`)로 생성합니다.\n",
    "    - 예시: `my_string = \"hello\"`\n",
    "4. **레인지 (Range)**:\n",
    "    - 특정한 범위 내의 숫자 시퀀스를 생성합니다.\n",
    "    - `range()` 함수를 사용합니다.\n",
    "    - 예시: `my_range = range(1, 10)`\n",
    "5. **바이트열 (Bytes)**:\n",
    "    - 불변적이며 바이트 시퀀스를 나타냅니다.\n",
    "    - `b''` 또는 `bytes()`로 생성합니다.\n",
    "    - 예시: `my_bytes = b'hello'`\n",
    "6. **바이트배열 (Bytearray)**:\n",
    "    - 가변적이며 바이트 시퀀스를 나타냅니다.\n",
    "    - `bytearray()`로 생성합니다.\n",
    "    - 예시: `my_bytearray = bytearray(b'hello')`"
   ]
  },
  {
   "cell_type": "markdown",
   "metadata": {},
   "source": [
    "- 바이트는 0에서 255까지의 정수 값을 가지는 데이터 단위.\n",
    "- 보통 텍스트가 아닌 이진 데이터를 다룰 때 사용됩니다.\n",
    "- 예를 들어, 이미지, 비디오, 오디오 파일 등을 처리할 때 바이트 단위를 사용합니다."
   ]
  },
  {
   "cell_type": "markdown",
   "metadata": {},
   "source": [
    "### 시퀀스의 공통 연산\n",
    "\n",
    "1. **인덱싱 (Indexing)**: 특정 위치의 항목에 접근합니다."
   ]
  },
  {
   "cell_type": "code",
   "execution_count": null,
   "metadata": {},
   "outputs": [],
   "source": [
    "print(my_list[0])  # 1"
   ]
  },
  {
   "cell_type": "markdown",
   "metadata": {},
   "source": [
    "2. **슬라이싱 (Slicing)**: 시퀀스의 부분 시퀀스를 추출합니다."
   ]
  },
  {
   "cell_type": "code",
   "execution_count": null,
   "metadata": {},
   "outputs": [],
   "source": [
    "print(my_list[1:3])  # [2, 3]"
   ]
  },
  {
   "cell_type": "markdown",
   "metadata": {},
   "source": [
    "3. **길이 확인 (Length)**: 시퀀스의 길이를 확인합니다."
   ]
  },
  {
   "cell_type": "code",
   "execution_count": null,
   "metadata": {},
   "outputs": [],
   "source": [
    "print(len(my_list))  # 5"
   ]
  },
  {
   "cell_type": "markdown",
   "metadata": {},
   "source": [
    "4. **반복 (Iteration)**: 시퀀스를 반복합니다."
   ]
  },
  {
   "cell_type": "code",
   "execution_count": null,
   "metadata": {},
   "outputs": [],
   "source": [
    "for item in my_list:\n",
    "    print(item)"
   ]
  },
  {
   "cell_type": "markdown",
   "metadata": {},
   "source": [
    "5. **멤버십 테스트 (Membership Test)**: 특정 항목의 존재 여부를 확인합니다."
   ]
  },
  {
   "cell_type": "code",
   "execution_count": null,
   "metadata": {},
   "outputs": [],
   "source": [
    "print(2 in my_list)  # True"
   ]
  },
  {
   "cell_type": "markdown",
   "metadata": {},
   "source": [
    "### 시퀀스를 매개변수로 받는 함수와 객체들\n",
    "\n",
    "1. **`len()`**: 시퀀스의 길이를 반환합니다.\n",
    "    \n",
    "    ```python\n",
    "    print(len(my_list))  # 5\n",
    "    \n",
    "    ```\n",
    "    \n",
    "2. **`sorted()`**: 시퀀스를 정렬된 리스트로 반환합니다.\n",
    "    \n",
    "    ```python\n",
    "    sorted_list = sorted(my_list)\n",
    "    print(sorted_list)  # [1, 2, 3, 4, 5]\n",
    "    \n",
    "    ```\n",
    "    \n",
    "3. **`min()` / `max()`**: 시퀀스의 최소값과 최대값을 반환합니다.\n",
    "    \n",
    "    ```python\n",
    "    print(min(my_list))  # 1\n",
    "    print(max(my_list))  # 5\n",
    "    \n",
    "    ```\n",
    "    \n",
    "4. **`sum()`**: 숫자 시퀀스의 합을 반환합니다.\n",
    "    \n",
    "    ```python\n",
    "    print(sum(my_list))  # 15\n",
    "    \n",
    "    ```\n",
    "    \n",
    "5. **`enumerate()`**: 시퀀스를 열거형 객체로 반환합니다.\n",
    "    \n",
    "    ```python\n",
    "    for index, value in enumerate(my_list):\n",
    "        print(index, value)\n",
    "    \n",
    "    ```\n",
    "    \n",
    "6. **`zip()`**: 여러 시퀀스를 병렬로 결합합니다.\n",
    "    \n",
    "    ```python\n",
    "    list1 = [1, 2, 3]\n",
    "    list2 = ['a', 'b', 'c']\n",
    "    zipped = zip(list1, list2)\n",
    "    print(list(zipped))  # [(1, 'a'), (2, 'b'), (3, 'c')]\n",
    "    \n",
    "    ```\n",
    "    \n",
    "7. **`map()`**: 시퀀스의 각 항목에 함수를 적용합니다.\n",
    "    \n",
    "    ```python\n",
    "    def square(x):\n",
    "        return x * x\n",
    "    \n",
    "    squared_list = list(map(square, my_list))\n",
    "    print(squared_list)  # [1, 4, 9, 16, 25]\n",
    "    \n",
    "    ```\n",
    "    \n",
    "8. **`filter()`**: 조건을 만족하는 항목들로 시퀀스를 필터링합니다.\n",
    "\n",
    "    ```python\n",
    "    def is_even(x):\n",
    "        return x % 2 == 0\n",
    "\n",
    "    even_list = list(filter(is_even, my_list))\n",
    "    print(even_list)  # [2, 4]\n",
    "\n",
    "    ```"
   ]
  },
  {
   "cell_type": "markdown",
   "metadata": {},
   "source": [
    "### 시퀀스를 활용한 예제\n",
    "\n",
    "- 다양한 시퀀스 타입과 시퀀스를 매개변수로 받는 함수들을 결합하여 데이터를 효율적으로 처리할 수 있습니다.\n",
    "- 예를 들어, 리스트 컴프리헨션과 `zip()` 함수를 사용하여 두 리스트의 항목을 결합할 수 있습니다."
   ]
  },
  {
   "cell_type": "code",
   "execution_count": null,
   "metadata": {},
   "outputs": [],
   "source": [
    "list1 = [1, 2, 3]\n",
    "list2 = [10, 20, 30]\n",
    "summed_list = [x + y for x, y in zip(list1, list2)]\n",
    "print(summed_list)  # [11, 22, 33]"
   ]
  },
  {
   "cell_type": "markdown",
   "metadata": {},
   "source": [
    "## 스택/큐\n",
    "\n",
    "### 스택 (Stack)\n",
    "\n",
    "스택은 **후입선출**(Last In, First Out, LIFO) 원칙을 따르는 자료 구조입니다. 즉, 가장 나중에 삽입된 데이터가 가장 먼저 제거됩니다. 스택은 다음과 같은 기본 연산을 가집니다:\n",
    "\n",
    "- **push**: 스택의 맨 위에 데이터를 추가합니다.\n",
    "- **pop**: 스택의 맨 위에 있는 데이터를 제거하고 반환합니다.\n",
    "- **peek**: 스택의 맨 위에 있는 데이터를 제거하지 않고 반환합니다.\n",
    "- **is_empty**: 스택이 비어 있는지 확인합니다."
   ]
  },
  {
   "cell_type": "code",
   "execution_count": null,
   "metadata": {},
   "outputs": [],
   "source": [
    "stack = []\n",
    "\n",
    "# push 연산\n",
    "stack.append(1)\n",
    "stack.append(2)\n",
    "stack.append(3)\n",
    "\n",
    "# pop 연산\n",
    "top_element = stack.pop()  # top_element는 3이 됨\n",
    "\n",
    "# peek 연산\n",
    "top_element = stack[-1]  # top_element는 2가 됨\n",
    "\n",
    "# is_empty 연산\n",
    "is_empty = len(stack) == 0\n"
   ]
  },
  {
   "cell_type": "markdown",
   "metadata": {},
   "source": [
    "### 큐 (Queue)\n",
    "\n",
    "큐는 **선입선출**(First In, First Out, FIFO) 원칙을 따르는 자료 구조입니다. 즉, 가장 먼저 삽입된 데이터가 가장 먼저 제거됩니다. 큐는 다음과 같은 기본 연산을 가집니다:\n",
    "\n",
    "- **enqueue**: 큐의 뒤에 데이터를 추가합니다.\n",
    "- **dequeue**: 큐의 앞에 있는 데이터를 제거하고 반환합니다.\n",
    "- **peek**: 큐의 앞에 있는 데이터를 제거하지 않고 반환합니다.\n",
    "- **is_empty**: 큐가 비어 있는지 확인합니다."
   ]
  },
  {
   "cell_type": "code",
   "execution_count": null,
   "metadata": {},
   "outputs": [],
   "source": [
    "from collections import deque\n",
    "\n",
    "queue = deque()\n",
    "\n",
    "# enqueue 연산\n",
    "queue.append(1)\n",
    "queue.append(2)\n",
    "queue.append(3)\n",
    "\n",
    "# dequeue 연산\n",
    "front_element = queue.popleft()  # front_element는 1이 됨\n",
    "\n",
    "# peek 연산\n",
    "front_element = queue[0]  # front_element는 2가 됨\n",
    "\n",
    "# is_empty 연산\n",
    "is_empty = len(queue) == 0\n"
   ]
  },
  {
   "cell_type": "markdown",
   "metadata": {},
   "source": [
    "### 요약\n",
    "\n",
    "- **스택**은 LIFO 원칙을 따르며, `append()`와 `pop()` 메서드를 사용하여 구현할 수 있습니다.\n",
    "- **큐**는 FIFO 원칙을 따르며, `deque` 클래스를 사용하여 `append()`와 `popleft()` 메서드를 통해 구현할 수 있습니다."
   ]
  },
  {
   "cell_type": "markdown",
   "metadata": {},
   "source": [
    "# 큐를 이용한 스택 구현 문제"
   ]
  },
  {
   "cell_type": "code",
   "execution_count": null,
   "metadata": {},
   "outputs": [],
   "source": [
    "class MyStack:\n",
    "    def __init__(self):\n",
    "        self.q = deque()\n",
    "\n",
    "    def push(self, x: int) -> None:\n",
    "        self.q.append(x)\n",
    "        for _ in range(len(self.q) - 1):\n",
    "            self.q.append(self.q.popleft())\n",
    "\n",
    "    def pop(self) -> int:\n",
    "        return self.q.popleft()\n",
    "\n",
    "    def top(self) -> int:\n",
    "        return self.q[0]\n",
    "        \n",
    "\n",
    "    def empty(self) -> bool:\n",
    "        return True if len(self.q) == 0 else False"
   ]
  },
  {
   "cell_type": "markdown",
   "metadata": {},
   "source": [
    "# 스택을 이용한 큐 구현 문제"
   ]
  },
  {
   "cell_type": "code",
   "execution_count": null,
   "metadata": {},
   "outputs": [],
   "source": [
    "class MyQueue:\n",
    "    def __init__(self):\n",
    "        self.Q = []\n",
    "\n",
    "    def push(self, x: int) -> None:\n",
    "        self.Q.append(x)\n",
    "\n",
    "    def pop(self) -> int:\n",
    "        temp = []\n",
    "        while len(self.Q) > 1:\n",
    "            temp.append(self.Q.pop())\n",
    "        ret = self.Q.pop()\n",
    "        while temp:\n",
    "            self.Q.append(temp.pop())\n",
    "        return ret\n",
    "\n",
    "    def peek(self) -> int:\n",
    "        return self.Q[0]\n",
    "\n",
    "    def empty(self) -> bool:\n",
    "        if len(self.Q) == 0:\n",
    "            return True\n",
    "        else:\n",
    "            return False"
   ]
  },
  {
   "cell_type": "markdown",
   "metadata": {},
   "source": [
    "# 기능 개발 문제"
   ]
  },
  {
   "cell_type": "code",
   "execution_count": null,
   "metadata": {},
   "outputs": [],
   "source": [
    "from math import ceil\n",
    "\n",
    "def solution(progresses, speeds):\n",
    "    answer = [0]\n",
    "    \n",
    "    for progresses, speed in zip(progresses, speeds):\n",
    "        spend = ceil((100 - progresses) / speed)\n",
    "        # 마지막 진행된 작업이 소요시간이 더 길면, 그시간으로 넣는다.\n",
    "        answer.append(max(answer[-1], spend))\n",
    "        \n",
    "    answer = answer[1:]\n",
    "    \n",
    "    count = 0   # 소요시간이 같은 작업의 개수\n",
    "    temp = 0    # 이전 작업의 시간\n",
    "    result = []\n",
    "    for a in answer:\n",
    "        # 만약 소요 시간이 이전 작업 소요시간과 동일하지 않다면.\n",
    "        # 배포 시간이 달라짐\n",
    "        if temp != a:\n",
    "            # 소요 시간이 같았던 것들의 개수는 결과 배열에 추가\n",
    "            result.append(count)\n",
    "            # 이전 소요시간 다시 할당\n",
    "            temp = a\n",
    "            # 소요시간이 같았던 것들의 개수 초기화\n",
    "            count = 0\n",
    "        count += 1\n",
    "    result.append(count)\n",
    "       \n",
    "    return result[1:]"
   ]
  },
  {
   "cell_type": "code",
   "execution_count": null,
   "metadata": {},
   "outputs": [],
   "source": [
    "def solution(progresses, speeds):\n",
    "    answer = []\n",
    "    days = 0\n",
    "    cnt = 0\n",
    "    while len(progresses) > 0:\n",
    "        if(progresses[0]+days*speeds[0])>=100:\n",
    "            progresses.pop(0)\n",
    "            speeds.pop(0)\n",
    "            cnt += 1\n",
    "        else:\n",
    "            if cnt > 0:\n",
    "                answer.append(cnt)\n",
    "                cnt = 0\n",
    "            else:\n",
    "                days+=1\n",
    "    answer.append(cnt)\n",
    "    return answer"
   ]
  },
  {
   "cell_type": "markdown",
   "metadata": {},
   "source": [
    "# 일일 온도 문제"
   ]
  },
  {
   "cell_type": "code",
   "execution_count": null,
   "metadata": {},
   "outputs": [],
   "source": [
    "from typing import List\n",
    "class Solution:\n",
    "    def dailyTemperatures(self, T: List[int]) -> List[int]:\n",
    "        \"\"\"\n",
    "        스택으로 접근\n",
    "        \"\"\"\n",
    "        counter = {k:0 for k in range(len(T))} \n",
    "        # counter dict: 인덱스로 해야됨 (동일한 온도가 있을 수 있으므로)\n",
    "        stack = [0]\n",
    "        \n",
    "        for i in range(1,len(T)):\n",
    "            temp = T[i]\n",
    "            while True:\n",
    "                cur_idx = stack.pop()\n",
    "                cur_temp= T[cur_idx]\n",
    "                if cur_temp >= temp: # 현재보다 더 따뜻한 날씨를 못만남 (탐색 실패)\n",
    "                    stack.append(cur_idx) # cur_temp 다시 push\n",
    "                    stack.append(i) # temp도 뒤이어 push\n",
    "                    break # while loop 탈출 -> temp 변경\n",
    "                else: # 탐색 성공\n",
    "                    counter[cur_idx] = i-cur_idx # counter 업데이트하는 부분을 수정\n",
    "                    if not stack: # when stack is empty\n",
    "                        stack.append(i)\n",
    "                        break\n",
    "                                    \n",
    "        while stack:\n",
    "            counter[stack.pop()] = 0\n",
    "        \n",
    "        return list(counter.values())"
   ]
  },
  {
   "cell_type": "markdown",
   "metadata": {},
   "source": [
    "# 더 맵게 문제"
   ]
  },
  {
   "cell_type": "code",
   "execution_count": null,
   "metadata": {},
   "outputs": [],
   "source": [
    "import heapq\n",
    "\n",
    "def solution(scoville, K):\n",
    "    n = 0\n",
    "    heapq.heapify(scoville)\n",
    "    while True:\n",
    "        if len(scoville) == 1 and scoville[0] < K:\n",
    "            return -1\n",
    "        mini = heapq.heappop(scoville)\n",
    "        # 가장 덜 매운게 스코빌 지수 K이상 섞은 횟수 반환\n",
    "        if mini >= K:\n",
    "            return n\n",
    "        second = heapq.heappop(scoville)\n",
    "        heapq.heappush(scoville, mini + second * 2)\n",
    "        # 섞은 횟수\n",
    "        n += 1\n",
    "        "
   ]
  },
  {
   "cell_type": "markdown",
   "metadata": {},
   "source": [
    "# 유효한 괄호 문제"
   ]
  },
  {
   "cell_type": "code",
   "execution_count": null,
   "metadata": {},
   "outputs": [],
   "source": [
    "class Solution:\n",
    "    def isValid(self, s: str) -> bool:\n",
    "        parentheses = {\n",
    "            \"(\" : \")\",\n",
    "            \"{\" : \"}\",\n",
    "            \"[\" : \"]\"\n",
    "        }   # 괄호 짝 대조를 위한 딕셔너리\n",
    "        stack = [] # 여는 괄호를 담을 stack\n",
    "        \n",
    "        for par in s:\n",
    "            if par in parentheses.keys():   # 여는 괄호라면\n",
    "                stack.append(par)           # stack에 push\n",
    "            else:                           # 닫는 괄호\n",
    "                try:\n",
    "                    op = stack.pop()\n",
    "                    if parentheses[op] != par:\n",
    "                        return False\n",
    "                except:                     # 닫는 괄호로 시작하는 경우 예외처리\n",
    "                    return False\n",
    "                \n",
    "        if stack:   # for loop를 마쳤지만. stack에 여는 괄호가 남아있는 경우(짝이 안맞을때)\n",
    "            return False\n",
    "        else:\n",
    "            return True # for loop를 정상적으로 마치면 Valid parentheses."
   ]
  },
  {
   "cell_type": "code",
   "execution_count": null,
   "metadata": {},
   "outputs": [],
   "source": [
    "class Solution:\n",
    "    def isValid(self, s: str) -> bool:\n",
    "        parentheses = {\"(\" : \")\",\"{\" : \"}\",\"[\" : \"]\"}\n",
    "        stack = []\n",
    "\n",
    "        for par in s:\n",
    "            if par in parentheses.keys(): # 여는 괄호라면\n",
    "                stack.append(par) # stack에 push\n",
    "            elif (not stack) or (parentheses[stack.pop()] != par):\n",
    "                # not stack (닫는 괄호로 시작)\n",
    "                # parentheses[stack.pop()] != par (여는 괄호와 닫는 괄호의 짝이 맞지 않을 때)\n",
    "                return False\n",
    "\n",
    "        # 모든 string을 다 탐색했는데 stack이 남아있는 경우에는 False\n",
    "        # stack이 정상적으로 비워져 있다면 True\n",
    "        # 이 모든 경우를 포괄하기 위해서는 stack의 길이가 0인지를 return하도록 함\n",
    "        return len(stack) == 0"
   ]
  },
  {
   "cell_type": "code",
   "execution_count": null,
   "metadata": {},
   "outputs": [],
   "source": [
    "class Solution:\n",
    "    def isValid(self, s: str) -> bool:\n",
    "        # 스택 자료 구조\n",
    "        open_brackets = []\n",
    "        \n",
    "        brackets = {\"(\" : \")\",\"{\" : \"}\",\"[\" : \"]\"}\n",
    "        \n",
    "        for bracket in s:\n",
    "            # 열린 괄호는 스택에 추가\n",
    "            if not bracket in brackets.keys():\n",
    "                open_brackets.append(bracket)\n",
    "            # 닫힌 괄호(bracket)와 열린 괄호(open_brackets 마지막 원소)가 맞지 않다면 거짓 반환\n",
    "            elif len(open_brackets) == 0 or brackets[bracket] != open_brackets[-1]:\n",
    "                return False\n",
    "            # 정상적인 경우 마지막 열린 괄호 삭제\n",
    "            else:\n",
    "                open_brackets.pop()\n",
    "                \n",
    "        return len(open_brackets) == 0\n",
    "        # 열린 괄호들이 pop에 의해 전부 잘 닫쳤는지 확인 후 리턴.           \n",
    "        "
   ]
  },
  {
   "cell_type": "markdown",
   "metadata": {},
   "source": [
    "## 데크\n",
    "\n",
    "### 주요 특징과 연산\n",
    "\n",
    "1. **양쪽 끝에서의 효율적인 연산**\n",
    "    - `append(item)`: O(1) - 아이템을 오른쪽 끝에 추가합니다.\n",
    "    - `appendleft(item)`: O(1) - 아이템을 왼쪽 끝에 추가합니다.\n",
    "    - `pop()`: O(1) - 오른쪽 끝에서 아이템을 제거하고 반환합니다.\n",
    "    - `popleft()`: O(1) - 왼쪽 끝에서 아이템을 제거하고 반환합니다.\n",
    "2. **기타 유용한 메서드**\n",
    "    - `extend(iterable)`: 반복 가능한 객체(iterable)의 모든 아이템을 오른쪽 끝에 추가합니다.\n",
    "    - `extendleft(iterable)`: 반복 가능한 객체의 모든 아이템을 왼쪽 끝에 추가합니다. (이때 순서가 반대로 추가됩니다)\n",
    "    - `rotate(n)`: 덱의 모든 아이템을 오른쪽으로 `n`만큼 회전합니다. `n`이 음수일 경우 왼쪽으로 회전합니다.\n",
    "    - `reverse()`: 덱의 아이템 순서를 뒤집습니다.\n",
    "    - `clear()`: 덱의 모든 아이템을 제거합니다.\n",
    "3. **특징**\n",
    "    - `deque`는 양쪽 끝에서의 삽입과 삭제가 O(1) 시간 복잡도를 가지므로, 성능이 매우 뛰어납니다.\n",
    "    - 리스트와 달리 `deque`는 양쪽 끝에서의 삽입 및 삭제에 최적화되어 있어 중간에서의 삽입 및 삭제에는 적합하지 않습니다."
   ]
  },
  {
   "cell_type": "code",
   "execution_count": null,
   "metadata": {},
   "outputs": [],
   "source": [
    "from collections import deque\n",
    "\n",
    "# 덱 생성\n",
    "d = deque()\n",
    "\n",
    "# 오른쪽 끝에 아이템 추가\n",
    "d.append(1)\n",
    "d.append(2)\n",
    "d.append(3)\n",
    "print(d)  # 출력: deque([1, 2, 3])\n",
    "\n",
    "# 왼쪽 끝에 아이템 추가\n",
    "d.appendleft(0)\n",
    "print(d)  # 출력: deque([0, 1, 2, 3])\n",
    "\n",
    "# 오른쪽 끝에서 아이템 제거 및 반환\n",
    "right_item = d.pop()\n",
    "print(right_item)  # 출력: 3\n",
    "print(d)  # 출력: deque([0, 1, 2])\n",
    "\n",
    "# 왼쪽 끝에서 아이템 제거 및 반환\n",
    "left_item = d.popleft()\n",
    "print(left_item)  # 출력: 0\n",
    "print(d)  # 출력: deque([1, 2])\n",
    "\n",
    "# 반복 가능한 객체의 아이템들을 오른쪽 끝에 추가\n",
    "d.extend([4, 5, 6])\n",
    "print(d)  # 출력: deque([1, 2, 4, 5, 6])\n",
    "\n",
    "# 반복 가능한 객체의 아이템들을 왼쪽 끝에 추가 (순서 반대로)\n",
    "d.extendleft([-1, -2, -3])\n",
    "print(d)  # 출력: deque([-3, -2, -1, 1, 2, 4, 5, 6])\n",
    "\n",
    "# 덱 회전 (오른쪽으로 2칸)\n",
    "d.rotate(2)\n",
    "print(d)  # 출력: deque([5, 6, -3, -2, -1, 1, 2, 4])\n",
    "\n",
    "# 덱 뒤집기\n",
    "d.reverse()\n",
    "print(d)  # 출력: deque([4, 2, 1, -1, -2, -3, 6, 5])\n",
    "\n",
    "# 덱 비우기\n",
    "d.clear()\n",
    "print(d)  # 출력: deque([])\n"
   ]
  },
  {
   "cell_type": "markdown",
   "metadata": {},
   "source": [
    "### 요약\n",
    "\n",
    "- `deque`는 양쪽 끝에서의 빠른 삽입과 삭제가 필요한 경우 매우 유용한 자료 구조입니다.\n",
    "- 스택과 큐의 기능을 모두 지원하며, 다양한 유틸리티 메서드로 여러 상황에서 유연하게 사용할 수 있습니다.\n",
    "- `deque`는 리스트와 비교할 때, 양 끝에서의 연산 성능이 뛰어나므로, 해당 연산이 빈번한 경우에 특히 적합합니다."
   ]
  },
  {
   "cell_type": "markdown",
   "metadata": {},
   "source": [
    "## 힙과 우선순위 큐\n",
    "\n",
    "### 힙 (Heap)\n",
    "\n",
    "힙은 이진 트리 기반의 자료 구조로, 다음과 같은 두 가지 종류가 있습니다:\n",
    "\n",
    "1. **최소 힙 (Min-Heap)**\n",
    "    - 각 부모 노드가 자식 노드보다 작거나 같은 값을 갖습니다. 최솟값이 루트에 위치합니다.\n",
    "2. **최대 힙 (Max-Heap)**\n",
    "    - 각 부모 노드가 자식 노드보다 크거나 같은 값을 갖습니다. 최댓값이 루트에 위치합니다.\n",
    "\n",
    "파이썬의 `heapq` 모듈은 기본적으로 최소 힙을 제공합니다.\n",
    "\n",
    "### 주요 연산\n",
    "\n",
    "1. **삽입**: 힙에 요소를 추가합니다.\n",
    "2. **삭제**: 힙에서 최상위(최소 힙의 경우 최솟값, 최대 힙의 경우 최댓값) 요소를 제거합니다.\n",
    "3. **힙 정렬**: 데이터를 힙 구조로 변환하여 정렬합니다."
   ]
  },
  {
   "cell_type": "code",
   "execution_count": null,
   "metadata": {},
   "outputs": [],
   "source": [
    "import heapq\n",
    "\n",
    "# 빈 힙 생성\n",
    "min_heap = []\n",
    "\n",
    "# 삽입 연산\n",
    "heapq.heappush(min_heap, 3)\n",
    "heapq.heappush(min_heap, 1)\n",
    "heapq.heappush(min_heap, 4)\n",
    "heapq.heappush(min_heap, 2)\n",
    "\n",
    "# 힙에서 최솟값 제거 및 반환\n",
    "min_value = heapq.heappop(min_heap)\n",
    "print(min_value)  # 출력: 1\n",
    "\n",
    "# 힙에서 최솟값 확인 (제거하지 않음)\n",
    "min_value = min_heap[0]\n",
    "print(min_value)  # 출력: 2\n"
   ]
  },
  {
   "cell_type": "markdown",
   "metadata": {},
   "source": [
    "### 최대 힙 구현\n",
    "\n",
    "- 최대 힙을 구현하기 위해서는 삽입할 때 음수 값을 저장하고, 꺼낼 때 다시 음수로 변환하여 사용할 수 있습니다."
   ]
  },
  {
   "cell_type": "code",
   "execution_count": null,
   "metadata": {},
   "outputs": [],
   "source": [
    "# 빈 최대 힙 생성\n",
    "max_heap = []\n",
    "\n",
    "# 삽입 연산 (음수 값을 저장)\n",
    "heapq.heappush(max_heap, -3)\n",
    "heapq.heappush(max_heap, -1)\n",
    "heapq.heappush(max_heap, -4)\n",
    "heapq.heappush(max_heap, -2)\n",
    "\n",
    "# 힙에서 최댓값 제거 및 반환 (음수로 변환)\n",
    "max_value = -heapq.heappop(max_heap)\n",
    "print(max_value)  # 출력: 4\n"
   ]
  },
  {
   "cell_type": "markdown",
   "metadata": {},
   "source": [
    "### 우선 순위 큐 (Priority Queue)\n",
    "\n",
    "- 우선 순위 큐는 요소들이 우선 순위에 따라 처리되는 큐입니다. 힙을 이용하여 효율적으로 구현할 수 있습니다"
   ]
  },
  {
   "cell_type": "code",
   "execution_count": null,
   "metadata": {},
   "outputs": [],
   "source": [
    "import heapq\n",
    "\n",
    "# 빈 우선 순위 큐 생성\n",
    "priority_queue = []\n",
    "\n",
    "# 우선 순위와 함께 삽입 (우선 순위, 값)\n",
    "heapq.heappush(priority_queue, (1, 'task1'))\n",
    "heapq.heappush(priority_queue, (3, 'task3'))\n",
    "heapq.heappush(priority_queue, (2, 'task2'))\n",
    "\n",
    "# 우선 순위가 가장 높은 요소 제거 및 반환\n",
    "priority_task = heapq.heappop(priority_queue)\n",
    "print(priority_task)  # 출력: (1, 'task1')\n"
   ]
  },
  {
   "cell_type": "markdown",
   "metadata": {},
   "source": [
    "### 요약\n",
    "\n",
    "- **힙**은 이진 트리 기반의 자료 구조로, 최소 힙과 최대 힙으로 나뉩니다. 파이썬의 `heapq` 모듈은 기본적으로 최소 힙을 제공합니다.\n",
    "- **우선 순위 큐**는 요소들이 우선 순위에 따라 처리되는 큐로, 힙을 사용하여 구현할 수 있습니다.\n",
    "- `heapq` 모듈은 삽입, 삭제, 정렬 등의 연산을 효율적으로 수행할 수 있도록 합니다."
   ]
  },
  {
   "cell_type": "markdown",
   "metadata": {},
   "source": [
    "## 재귀 함수\n",
    "\n",
    "### 재귀 함수의 기본 구조\n",
    "\n",
    "재귀 함수는 두 가지 주요 부분으로 구성됩니다:\n",
    "\n",
    "1. **기본 조건 (Base Case)**: 재귀 호출을 멈추는 조건입니다. 이 조건이 충족되면 함수는 더 이상 자신을 호출하지 않고 종료됩니다.\n",
    "2. **재귀 조건 (Recursive Case)**: 함수가 자기 자신을 호출하는 부분입니다. 이 부분이 기본 조건을 향해 문제를 축소시킵니다.\n",
    "\n",
    "### 팩토리얼 함수\n",
    "\n",
    "팩토리얼 함수는 양의 정수 `n`에 대해 1부터 `n`까지의 정수를 모두 곱한 결과를 반환하는 함수입니다. 팩토리얼을 재귀적으로 정의하면 다음과 같습니다:\n",
    "\n",
    "- `0! = 1` (기본 조건)\n",
    "- `n! = n * (n-1)!` (재귀 조건)"
   ]
  },
  {
   "cell_type": "code",
   "execution_count": null,
   "metadata": {},
   "outputs": [],
   "source": [
    "def factorial(n):\n",
    "    if n == 0:  # 기본 조건\n",
    "        return 1\n",
    "    else:\n",
    "        return n * factorial(n - 1)  # 재귀 조건\n",
    "\n",
    "print(factorial(5))  # 출력: 120\n"
   ]
  },
  {
   "cell_type": "markdown",
   "metadata": {},
   "source": [
    "### 피보나치 수열\n",
    "\n",
    "피보나치 수열은 각 항이 앞의 두 항의 합인 수열입니다. 첫 번째 항은 0, 두 번째 항은 1입니다. 피보나치 수열을 재귀적으로 정의하면 다음과 같습니다:\n",
    "\n",
    "- `F(0) = 0` (기본 조건)\n",
    "- `F(1) = 1` (기본 조건)\n",
    "- `F(n) = F(n-1) + F(n-2)` (재귀 조건)"
   ]
  },
  {
   "cell_type": "code",
   "execution_count": null,
   "metadata": {},
   "outputs": [],
   "source": [
    "def fibonacci(n):\n",
    "    if n == 0:  # 기본 조건\n",
    "        return 0\n",
    "    elif n == 1:  # 기본 조건\n",
    "        return 1\n",
    "    else:\n",
    "        return fibonacci(n - 1) + fibonacci(n - 2)  # 재귀 조건\n",
    "\n",
    "print(fibonacci(6))  # 출력: 8\n"
   ]
  },
  {
   "cell_type": "markdown",
   "metadata": {},
   "source": [
    "### 재귀 함수의 중요 개념\n",
    "\n",
    "1. **기본 조건**: 반드시 있어야 하며, 없으면 함수가 무한히 호출되어 스택 오버플로(Stack Overflow)가 발생합니다.\n",
    "2. **재귀 조건**: 문제를 기본 조건으로 점진적으로 축소시키는 부분입니다."
   ]
  },
  {
   "cell_type": "markdown",
   "metadata": {},
   "source": [
    "### 장점과 단점\n",
    "\n",
    "### 장점\n",
    "\n",
    "- **단순성**: 문제를 단순하게 표현할 수 있습니다. 복잡한 문제를 재귀적으로 정의하여 쉽게 이해할 수 있습니다.\n",
    "- **분할 정복**: 문제를 작은 부분 문제로 나누어 해결하는 데 유용합니다. 많은 알고리즘이 재귀적으로 구현됩니다.\n",
    "\n",
    "### 단점\n",
    "\n",
    "- **효율성**: 많은 경우 재귀 호출은 함수 호출 스택을 많이 사용하여 메모리 효율이 떨어질 수 있습니다.\n",
    "- **오버헤드**: 재귀 호출 시마다 함수 호출에 따른 오버헤드가 발생합니다.\n",
    "- **스택 오버플로**: 너무 깊은 재귀 호출은 스택 오버플로를 초래할 수 있습니다."
   ]
  },
  {
   "cell_type": "markdown",
   "metadata": {},
   "source": [
    "### 재귀를 반복문으로 변환\n",
    "\n",
    "- 재귀 함수는 때때로 반복문으로 변환할 수 있습니다.\n",
    "- 예를 들어, 위의 팩토리얼 함수는 다음과 같이 반복문을 사용하여 구현할 수 있습니다:"
   ]
  },
  {
   "cell_type": "code",
   "execution_count": null,
   "metadata": {},
   "outputs": [],
   "source": [
    "def factorial_iterative(n):\n",
    "    result = 1\n",
    "    for i in range(1, n + 1):\n",
    "        result *= i\n",
    "    return result\n",
    "\n",
    "print(factorial_iterative(5))  # 출력: 120\n"
   ]
  },
  {
   "cell_type": "markdown",
   "metadata": {},
   "source": [
    "- 피보나치 수열도 다음과 같이 반복문으로 구현할 수 있습니다:"
   ]
  },
  {
   "cell_type": "code",
   "execution_count": null,
   "metadata": {},
   "outputs": [],
   "source": [
    "def fibonacci_iterative(n):\n",
    "    a, b = 0, 1\n",
    "    for _ in range(n):\n",
    "        a, b = b, a + b\n",
    "    return a\n",
    "\n",
    "print(fibonacci_iterative(6))  # 출력: 8\n"
   ]
  },
  {
   "cell_type": "markdown",
   "metadata": {},
   "source": [
    "### 요약\n",
    "\n",
    "- **재귀 함수**는 함수가 자기 자신을 호출하는 함수입니다.\n",
    "- **기본 조건**과 **재귀 조건**을 포함해야 합니다.\n",
    "- **장점**: 단순하게 문제를 표현하고, 분할 정복에 유용합니다.\n",
    "- **단점**: 효율성 문제, 스택 오버플로 위험, 함수 호출 오버헤드.\n",
    "- 재귀 함수는 때때로 **반복문**으로 변환할 수 있습니다."
   ]
  },
  {
   "cell_type": "markdown",
   "metadata": {},
   "source": [
    "## 완전 탐색\n",
    "\n",
    "<aside>\n",
    "💡 완전 탐색(Brute Force)은 가능한 모든 경우를 모두 탐색하여 문제의 해를 찾는 알고리즘 기법입니다.\n",
    "\n",
    "</aside>\n",
    "\n",
    "- 문제의 해를 보장하기 때문에 직관적이며 이해하기 쉽지만, 일반적으로 매우 비효율적\n",
    "- 주로 문제의 입력 크기가 작거나, 최적의 해를 반드시 찾아야 하는 상황에서 사용\n",
    "\n",
    "### 완전 탐색의 특징\n",
    "\n",
    "1. **단순함**: 모든 가능한 경우를 탐색하므로 알고리즘이 매우 단순하고 직관적입니다.\n",
    "2. **보장된 해**: 가능한 모든 경우를 확인하므로, 문제의 해를 반드시 찾을 수 있습니다.\n",
    "3. **비효율성**: 경우의 수가 기하급수적으로 증가할 수 있기 때문에 시간 복잡도가 매우 높아질 수 있습니다.\n",
    "\n",
    "### 완전 탐색의 종류\n",
    "\n",
    "완전 탐색은 여러 방식으로 구현할 수 있으며, 일반적으로 다음과 같은 방법이 사용됩니다:\n",
    "\n",
    "1. **순열 (Permutation)**: 주어진 요소들의 모든 순서를 탐색합니다.\n",
    "2. **조합 (Combination)**: 주어진 요소들 중에서 일부를 선택하는 모든 경우를 탐색합니다.\n",
    "3. **부분 집합 (Subset)**: 주어진 요소들의 모든 부분 집합을 탐색합니다.\n",
    "4. **백트래킹 (Backtracking)**: 불필요한 경우의 수를 줄이기 위해 탐색을 중간에 중단하는 방법입니다."
   ]
  },
  {
   "cell_type": "markdown",
   "metadata": {},
   "source": [
    "### 1. 순열 (Permutation)\n",
    "\n",
    "- 주어진 리스트의 모든 순서를 탐색하는 반복문을 사용한 방법입니다.\n",
    "\n",
    "재귀"
   ]
  },
  {
   "cell_type": "code",
   "execution_count": null,
   "metadata": {},
   "outputs": [],
   "source": [
    "def permute(data, depth, n, result):\n",
    "    if depth == n:\n",
    "        print(result)\n",
    "        return\n",
    "\n",
    "    for i in range(len(data)):\n",
    "        if data[i] not in result:\n",
    "            result.append(data[i])\n",
    "            permute(data, depth + 1, n, result)\n",
    "            result.pop()\n",
    "\n",
    "data = [1, 2, 3]\n",
    "permute(data, 0, len(data), [])"
   ]
  },
  {
   "cell_type": "markdown",
   "metadata": {},
   "source": [
    "스택"
   ]
  },
  {
   "cell_type": "code",
   "execution_count": null,
   "metadata": {},
   "outputs": [],
   "source": [
    "def permute(data):\n",
    "    result = []\n",
    "    stack = [([], data)]\n",
    "\n",
    "    while stack:\n",
    "        perm, items = stack.pop()\n",
    "        if not items:\n",
    "            result.append(perm)\n",
    "        else:\n",
    "            for i in range(len(items)):\n",
    "                new_perm = perm + [items[i]]\n",
    "                new_items = items[:i] + items[i+1:]\n",
    "                stack.append((new_perm, new_items))\n",
    "\n",
    "    return result\n",
    "\n",
    "data = [1, 2, 3]\n",
    "permutations = permute(data)\n",
    "for perm in permutations:\n",
    "    print(perm)\n",
    "\n"
   ]
  },
  {
   "cell_type": "markdown",
   "metadata": {},
   "source": [
    "### 2. 조합 (Combination)\n",
    "\n",
    "- 주어진 리스트에서 특정 개수의 요소를 선택하는 모든 경우를 반복문을 사용하여 탐색하는 방법입니다.\n",
    "\n",
    "재귀"
   ]
  },
  {
   "cell_type": "code",
   "execution_count": null,
   "metadata": {},
   "outputs": [],
   "source": [
    "def combine(data, start, n, k, result):\n",
    "    if len(result) == k:\n",
    "        print(result)\n",
    "        return\n",
    "\n",
    "    for i in range(start, n):\n",
    "        result.append(data[i])\n",
    "        combine(data, i + 1, n, k, result)\n",
    "        result.pop()\n",
    "\n",
    "data = [1, 2, 3]\n",
    "k = 2  # 조합의 크기\n",
    "combine(data, 0, len(data), k, [])"
   ]
  },
  {
   "cell_type": "markdown",
   "metadata": {},
   "source": [
    "스택"
   ]
  },
  {
   "cell_type": "code",
   "execution_count": null,
   "metadata": {},
   "outputs": [],
   "source": [
    "def combine(data, k):\n",
    "    result = []\n",
    "    stack = [(0, [])]\n",
    "\n",
    "    while stack:\n",
    "        start, combination = stack.pop()\n",
    "        if len(combination) == k:\n",
    "            result.append(combination)\n",
    "        else:\n",
    "            for i in range(start, len(data)):\n",
    "                new_combination = combination + [data[i]]\n",
    "                stack.append((i + 1, new_combination))\n",
    "\n",
    "    return result\n",
    "\n",
    "data = [1, 2, 3]\n",
    "k = 2\n",
    "combinations = combine(data, k)\n",
    "for comb in combinations:\n",
    "    print(comb)\n",
    "\n"
   ]
  },
  {
   "cell_type": "markdown",
   "metadata": {},
   "source": [
    "### 3. 부분 집합 (Subset)\n",
    "\n",
    "- 주어진 리스트의 모든 부분 집합을 반복문을 사용하여 탐색하는 방법입니다.\n",
    "\n",
    "재귀"
   ]
  },
  {
   "cell_type": "code",
   "execution_count": null,
   "metadata": {},
   "outputs": [],
   "source": [
    "def subset(data, index, result):\n",
    "    if index == len(data):\n",
    "        print(result)\n",
    "        return\n",
    "\n",
    "    subset(data, index + 1, result)\n",
    "    result.append(data[index])\n",
    "    subset(data, index + 1, result)\n",
    "    result.pop()\n",
    "\n",
    "data = [1, 2, 3]\n",
    "subset(data, 0, [])"
   ]
  },
  {
   "cell_type": "markdown",
   "metadata": {},
   "source": [
    "스택"
   ]
  },
  {
   "cell_type": "code",
   "execution_count": null,
   "metadata": {},
   "outputs": [],
   "source": [
    "def subset(data):\n",
    "    result = [[]]\n",
    "\n",
    "    for item in data:\n",
    "        new_subsets = []\n",
    "        for subset in result:\n",
    "            new_subset = subset + [item]\n",
    "            new_subsets.append(new_subset)\n",
    "        result.extend(new_subsets)\n",
    "\n",
    "    return result\n",
    "\n",
    "data = [1, 2, 3]\n",
    "subsets = subset(data)\n",
    "for s in subsets:\n",
    "    print(s)\n",
    "\n"
   ]
  },
  {
   "cell_type": "markdown",
   "metadata": {},
   "source": [
    "### 설명\n",
    "\n",
    "- **순열** 예제는 스택을 사용하여 모든 가능한 순서를 생성합니다. 각 단계에서 선택된 요소를 제외한 나머지 요소들로 새로운 상태를 생성하여 스택에 추가합니다.\n",
    "- **조합** 예제는 스택을 사용하여 선택된 요소의 개수가 `k`에 도달할 때까지 새로운 요소를 추가합니다. 시작 인덱스를 이용해 중복을 피합니다.\n",
    "- **부분 집합** 예제는 각 요소를 기존 부분 집합에 추가하여 새로운 부분 집합을 생성합니다. 결과 리스트에 모든 부분 집합을 유지합니다.\n",
    "\n",
    "### 요약\n",
    "\n",
    "- **완전 탐색**은 가능한 모든 경우를 탐색하여 해를 찾는 알고리즘 기법입니다.\n",
    "- 모든 경우를 탐색하기 때문에 해를 보장하지만, 경우의 수가 많아지면 비효율적일 수 있습니다.\n",
    "- 다양한 구현 방법이 있으며, 문제의 특성과 크기에 따라 적절히 선택하여 사용해야 합니다."
   ]
  },
  {
   "cell_type": "code",
   "execution_count": null,
   "metadata": {},
   "outputs": [],
   "source": [
    "# 완전 탐색\n",
    "# 순열(Permutation)\n",
    "\n",
    "# 재귀 ver\n",
    "\n",
    "def permute(data, depth, n, result):\n",
    "    if depth == n:\n",
    "        print(result)\n",
    "        return\n",
    "    \n",
    "    for i in range(len(data)):\n",
    "        if data[i] not in result:\n",
    "            result.append(data[i])\n",
    "            permute(data, depth + 1, n, result)\n",
    "            result.pop()\n",
    "            \n",
    "data = [1, 2, 3]\n",
    "permute(data, 0, len(data), [])\n"
   ]
  },
  {
   "cell_type": "code",
   "execution_count": null,
   "metadata": {},
   "outputs": [],
   "source": [
    "# 완전 탐색\n",
    "# 순열(Permutation)\n",
    "\n",
    "# 스택 ver\n",
    "\n",
    "def permute(data):\n",
    "    result = []\n",
    "    stack = [([], data)]\n",
    "    \n",
    "    while stack:\n",
    "        perm, items = stack.pop()\n",
    "        if len(items) == 0: # if not items: 와 같다.\n",
    "            result.append(perm)\n",
    "        else:\n",
    "            for i in range(len(items)):\n",
    "                new_perm = perm + [items[i]]\n",
    "                new_items = items[:i] + items[i+1:]\n",
    "                stack.append((new_perm, new_items))\n",
    "                \n",
    "    return result\n",
    "\n",
    "data = [1, 2, 3]\n",
    "permutations = permute(data)\n",
    "for perm in permutations:\n",
    "    print(perm)"
   ]
  },
  {
   "cell_type": "code",
   "execution_count": null,
   "metadata": {},
   "outputs": [],
   "source": [
    "# 배열의 모든 부분 집합 찾기 문제\n",
    "\n",
    "def find_subsets(arr):\n",
    "    subsets = [[]]\n",
    "    \n",
    "    for num in arr:\n",
    "        subsets += [current + [num] for current in subsets]\n",
    "    return subsets\n",
    "\n",
    "arr = [1, 2, 3]\n",
    "subsets = find_subsets(arr)\n",
    "for subset in subsets:\n",
    "    print(subset)"
   ]
  },
  {
   "cell_type": "code",
   "execution_count": null,
   "metadata": {},
   "outputs": [],
   "source": [
    "# 배열의 모든 부분 집합 찾기 문제 강사님\n",
    "\n",
    "class Solution:\n",
    "    def permute(self, nums: List[int]) -> List[List[int]]:\n",
    "        stack = [([], nums)]\n",
    "        result = []\n",
    "\n",
    "        # while len(stack) > 0:\n",
    "        while stack:\n",
    "            perm, items = stack.pop()\n",
    "            if len(items) == 0: # [1,2,3] len(perm)==3\n",
    "                result.append(perm)\n",
    "            # items = [1, 2, 3]\n",
    "            for i in range(len(items)):\n",
    "                # 새로운 순열의 부분집합을 만듬\n",
    "                new_perm = perm + [items[i]]\n",
    "                # 순열의 부분집합을 만들고 남은 원소들\n",
    "                new_items = items[:i] + items[i + 1:]\n",
    "                stack.append((new_perm, new_items))\n",
    "                print(new_perm, new_items)\n",
    "            \n",
    "        return result"
   ]
  },
  {
   "cell_type": "code",
   "execution_count": null,
   "metadata": {},
   "outputs": [],
   "source": [
    "# 문자열의 모든 순열 찾기\n",
    "\n",
    "def permute(s):\n",
    "    result = []\n",
    "    stack = [('', s)]\n",
    "\n",
    "    while stack:\n",
    "        perm, chars = stack.pop()\n",
    "        if not chars:\n",
    "            result.append(perm)\n",
    "        else:\n",
    "            for i in range(len(chars)):\n",
    "                stack.append((perm + chars[i], chars[:i] + chars[i+1:]))\n",
    "    return result\n",
    "\n",
    "s = \"ABC\"\n",
    "permutations = permute(s)\n",
    "for perm in permutations:\n",
    "    print(perm)"
   ]
  },
  {
   "cell_type": "code",
   "execution_count": null,
   "metadata": {},
   "outputs": [],
   "source": [
    "# 두 수의 모든 조합 찾기\n",
    "\n",
    "def find_combinations(list1, list2):\n",
    "    combinations = []\n",
    "    for num1 in list1:\n",
    "        for num2 in list2:\n",
    "            combinations.append((num1, num2))\n",
    "    return combinations\n",
    "\n",
    "# 테스트\n",
    "list1 = [1, 2]\n",
    "list2 = [3, 4]\n",
    "combinations = find_combinations(list1, list2)\n",
    "for combo in combinations:\n",
    "    print(combo)"
   ]
  },
  {
   "cell_type": "code",
   "execution_count": null,
   "metadata": {},
   "outputs": [],
   "source": [
    "# 백준 팩토리얼2 문제\n",
    "\n",
    "def factorial(n):\n",
    "    if n == 0:\n",
    "        return 1\n",
    "    else:\n",
    "        return n * factorial(n-1)\n",
    "    \n",
    "N = int(input())\n",
    "print(factorial(N))"
   ]
  },
  {
   "cell_type": "code",
   "execution_count": null,
   "metadata": {},
   "outputs": [],
   "source": [
    "# 백준 피보나치수5 문제\n",
    "\n",
    "n = int(input())\n",
    "\n",
    "def fibo(n):\n",
    "    if n == 0:\n",
    "        result = 0\n",
    "    elif n == 1 or n == 2:\n",
    "        result = 1\n",
    "    else:\n",
    "        result = fibo(n-1) + fibo(n-2)\n",
    "    return result\n",
    "print(fibo(n))"
   ]
  },
  {
   "cell_type": "code",
   "execution_count": null,
   "metadata": {},
   "outputs": [],
   "source": [
    "# 백준 블랙잭 문제\n",
    "# 삼중 반복문 이용\n",
    "\n",
    "n, m = map(int, input().split())\n",
    "lst = list(map(int, input().split()))\n",
    "nlst = []\n",
    "\n",
    "for i in range(n):\n",
    "    for j in range(i+1, n):\n",
    "        for k in range(j+1, n):\n",
    "            three = lst[i] + lst[j] + lst[k]\n",
    "            if three > m:\n",
    "                continue\n",
    "            else:\n",
    "                nlst.append(three)\n",
    "print(max(nlst))\n"
   ]
  },
  {
   "cell_type": "code",
   "execution_count": null,
   "metadata": {},
   "outputs": [],
   "source": [
    "# 블랙잭 문제 강사님\n",
    "\n",
    "n, target = map(int, input().split())\n",
    "cards = list(map(int, input().split()))\n",
    "current_max = 0\n",
    "\n",
    "for i in range(n):\n",
    "    for j in range(i + 1, n):\n",
    "        for k in range(j + 1, n):\n",
    "            number = cards[i] + cards[j] + cards[k]\n",
    "            if number <= target and \\\n",
    "                number > current_max:\n",
    "                    current_max = number\n",
    "                    \n",
    "print(current_max)"
   ]
  },
  {
   "cell_type": "code",
   "execution_count": null,
   "metadata": {},
   "outputs": [],
   "source": [
    "# 분해합 문제\n",
    "\n",
    "def digit_sum(n):\n",
    "    # 자연수 n의 각 자리수의 합을 반환하는 함수\n",
    "    return sum(map(int, str(n)))\n",
    "\n",
    "def find_smallest_constructor(n):\n",
    "    for num in range(1, n + 1):\n",
    "        if num + digit_sum(num) == n:\n",
    "            # 분해합이 n과 같은 생성자를 찾았을 때 해당 수 반환\n",
    "            return num\n",
    "    # 생성자를 찾지 못한 경우\n",
    "    return 0\n",
    "\n",
    "# 자연수 N 입력 받기\n",
    "N = int(input())\n",
    "\n",
    "# 가장 작은 생성자 찾기\n",
    "smallest_constructor = find_smallest_constructor(N)\n",
    "\n",
    "if smallest_constructor != 0:\n",
    "    print(smallest_constructor)\n",
    "else:\n",
    "    print(0)"
   ]
  },
  {
   "cell_type": "code",
   "execution_count": null,
   "metadata": {},
   "outputs": [],
   "source": [
    "# 분해합 문제 강사님\n",
    "\n",
    "n = int(input())\n",
    "printed = False\n",
    "\n",
    "# 1부터 시작해서 n까지 숫자를 훑어본다.\n",
    "# 가장 먼저 분해합이 n이 되는 수를 리턴.\n",
    "for number in range(1, n + 1):\n",
    "    sum_of_digits = 0\n",
    "    # for digit in str(number):\n",
    "    #     sum_of_digits += int(digit)\n",
    "    sum_of_digits = sum([int(digit) for digit in str(number)])\n",
    "    if number + sum_of_digits == n:\n",
    "        printed = True\n",
    "        print(number)\n",
    "        break\n",
    "    \n",
    "if printed == False:\n",
    "    print(0)"
   ]
  },
  {
   "cell_type": "code",
   "execution_count": null,
   "metadata": {},
   "outputs": [],
   "source": [
    "# 수학은 비대면 강의 입니다 문제\n",
    " \n",
    "# 다음 연립방정식에서 x와 y의 값을 계산.\n",
    "# ax + by = c\n",
    "# dx + ey = f\n",
    "\n",
    "# -999 이상 999이하 정수만.\n",
    " \n",
    "a, b, c, d, e, f = map(int, input().split())\n",
    "\n",
    "for x in range(-999, 1000):\n",
    "    for y in range(-999, 1000):\n",
    "        if (a*x) + (b*y) == c and (d*x) + (e*y) == f:\n",
    "            print(x,y)"
   ]
  },
  {
   "cell_type": "code",
   "execution_count": null,
   "metadata": {},
   "outputs": [],
   "source": [
    "# 복습 문제 3번\n",
    "\n",
    "def divide(a,b):\n",
    "    try:\n",
    "        return a/b\n",
    "    except ZeroDivisionError:\n",
    "        return \"Cannot divide by zero\"\n",
    "    except TypeError:\n",
    "        return \"올바른 타입이 아닙니다.\"\n",
    "        \n",
    "\n",
    "result = divide(10, 2)\n",
    "print(result)  # 출력: 5.0\n",
    "\n",
    "result = divide(10, 0)\n",
    "print(result)  # 출력: Cannot divide by zero\n",
    "\n",
    "result = divide(10, '0')\n",
    "print(result)  # 출력: 올바른 타입이 아닙니다."
   ]
  },
  {
   "cell_type": "code",
   "execution_count": null,
   "metadata": {},
   "outputs": [],
   "source": [
    "# 복습 문제 6번\n",
    "\n",
    "import random\n",
    "\n",
    "def generate_lotto_numbers():\n",
    "    generated = set()\n",
    "    while len(generated) < 6:\n",
    "        random_number = random.randint(1,45)\n",
    "        generated.add(random_number)\n",
    "    return generated\n",
    "\n",
    "print(generate_lotto_numbers())\n",
    "# 집합 사용\n",
    "        \n",
    "#set(집합)은 add 를 이용하여 추가.\n",
    "# a = set()\n",
    "# a.add(100)\n",
    "# a.add(100)\n",
    "# a.add(100)\n",
    "# a.add(100)\n",
    "# print(a)\n"
   ]
  },
  {
   "cell_type": "code",
   "execution_count": null,
   "metadata": {},
   "outputs": [],
   "source": [
    "import random\n",
    "\n",
    "def generate_lotto_numbers():\n",
    "    generated = []\n",
    "    while len(generated) < 6:\n",
    "        random_number = random.randint(1,45)\n",
    "        if random_number not in generated:\n",
    "            generated.append(random_number)\n",
    "    return generated\n",
    "\n",
    "print(generate_lotto_numbers())\n",
    "# 리스트 사용.\n",
    "# 랜덤값이라 미리 변수에 저장 해두고 사용.\n",
    "# 그때 그때 넣어서 쓰면 랜덤값이라 조건문 돌때 값이 달라짐"
   ]
  },
  {
   "cell_type": "code",
   "execution_count": null,
   "metadata": {},
   "outputs": [],
   "source": [
    "# 복습 문제 7번\n",
    "\n",
    "class Book:\n",
    "    def __init__(self, title, author, year):\n",
    "        # 여기에 코드를 작성하세요\n",
    "        self.title = title\n",
    "        self.author = author\n",
    "        self.year = year\n",
    "        # 객채 생성\n",
    "\n",
    "    def description(self):\n",
    "        # 여기에 코드를 작성하세요\n",
    "        return f\"{self.title} by {self.author}, published in {self.year}\"\n",
    "\n",
    "    def is_classic(self):\n",
    "        # 여기에 코드를 작성하세요\n",
    "        # if 2024 - self.year >= 70:\n",
    "        #     return True\n",
    "        # else:\n",
    "        #     return False\n",
    "        return 2024 - self.year >= 70\n",
    "\n",
    "# 객체 생성 및 사용 예시\n",
    "book1 = Book(\"1984\", \"George Orwell\", 1949)\n",
    "book2 = Book(\"The Great Gatsby\", \"F. Scott Fitzgerald\", 1925)\n",
    "book3 = Book(\"To Kill a Mockingbird\", \"Harper Lee\", 1960)\n",
    "\n",
    "print(book1.description())  # 출력: 1984 by George Orwell, published in 1949\n",
    "print(book2.description())  # 출력: The Great Gatsby by F. Scott Fitzgerald, published in 1925\n",
    "print(book3.description())  # 출력: To Kill a Mockingbird by Harper Lee, published in 1960\n",
    "\n",
    "print(book1.is_classic())  # 출력: True\n",
    "print(book2.is_classic())  # 출력: True\n",
    "print(book3.is_classic())  # 출력: False"
   ]
  },
  {
   "cell_type": "code",
   "execution_count": null,
   "metadata": {},
   "outputs": [],
   "source": [
    "# 복습 문제 12번\n",
    "\n",
    "def list_methods(my_list):\n",
    "    # 1. 3을 리스트의 맨 끝에 추가하세요\n",
    "    my_list.append(3)\n",
    "    # my_list = my_list + [3]\n",
    "    # 2. 5를 리스트의 첫 번째 위치에 추가하세요\n",
    "    my_list.insert(0,5)\n",
    "    # 3. 리스트의 첫 번째 요소를 제거하세요\n",
    "    my_list.pop(0)\n",
    "    # 4. 리스트를 오름차순으로 정렬하세요\n",
    "    my_list.sort()\n",
    "\n",
    "example_list = [4, 2, 1, 5]\n",
    "list_methods(example_list)\n",
    "print(example_list)  # 출력: [1, 2, 3, 4, 5]\n",
    "\n",
    "a = [1,2,3]   # address copy\n",
    "b = a         # value copy\n",
    "c = a.copy()\n",
    "a[0] = 4\n",
    "print(b,c)\n",
    "# 참조값, 값."
   ]
  },
  {
   "cell_type": "code",
   "execution_count": null,
   "metadata": {},
   "outputs": [],
   "source": [
    "# 복습 문제 14번\n",
    "\n",
    "def check_duplicate_keys(dict1, dict2):\n",
    "    # 여기에 코드를 작성하세요\n",
    "    duplicated = set()\n",
    "    \n",
    "    for key1 in dict1.keys():\n",
    "        if key1 in dict2.keys():\n",
    "            duplicated.add(key1)\n",
    "            \n",
    "    for d in duplicated:\n",
    "        print(f\"Key {d} is duplicated\")\n",
    "\n",
    "dict1 = {'a': 1, 'b': 2}\n",
    "dict2 = {'b': 3, 'c': 4}\n",
    "check_duplicate_keys(dict1, dict2)\n",
    "# # 출력:\n",
    "# # Key b is duplicated"
   ]
  },
  {
   "cell_type": "code",
   "execution_count": null,
   "metadata": {},
   "outputs": [],
   "source": [
    "# 복습 문제 18번\n",
    "\n",
    "def set_operations(set1, set2):\n",
    "    # 여기에 코드를 작성하세요\n",
    "    union_set = set1.union(set2)\n",
    "    # union_set = set1 | set2\n",
    "    intersection_set = set1.intersection(set2)\n",
    "    # set1 & set2\n",
    "    difference_set = set1.difference(set2)\n",
    "    # set1 - set2\n",
    "    return union_set, intersection_set, difference_set\n",
    "\n",
    "set1 = {1, 2, 3}\n",
    "set2 = {2, 3, 4}\n",
    "result = set_operations(set1, set2)\n",
    "print(result)  # 출력: ({1, 2, 3, 4}, {2, 3}, {1})\n",
    "\n",
    "\n",
    "# 1~7번에 해당하는 Key가 정점\n",
    "\n",
    "# number = 100\n",
    "# # 출력 결과 : number=100\n",
    "# print(f'number={number}')\n",
    "# print(f'{number=}') # 파이썬 최신버전에선 가능한 문법."
   ]
  },
  {
   "cell_type": "code",
   "execution_count": null,
   "metadata": {},
   "outputs": [],
   "source": [
    "graph = {\n",
    "    1: [2, 3, 4],   # 부모 노드\n",
    "    2: [5],\n",
    "    3: [5],\n",
    "    4: [],\n",
    "    5: [6, 7],\n",
    "    6: [],\n",
    "    7: [3],\n",
    "}\n",
    "\n",
    "def recursive_dfs(v, discovered=[]):\n",
    "    print(f'recrusive_dfs 진입 : 탐색하는 정점: {v}, 여태까지 경로: {discovered=}')\n",
    "    # 우리가 탐색한 경로\n",
    "    discovered.append(v)\n",
    "    print(f'append 함수 호출 : 여태까지 경로 {discovered}')\n",
    "    #print(f'for문 진입 : 탐색한 정점 {v}를 여태까지 경로에 추가합니다.')\n",
    "    print(f'for문 진입 : 탐색한 정점 {v}와 연결된 노드들은 {graph[v]}이고 연결된 노드들을 하나씩 탐색합니다.')\n",
    "    for w in graph[v]: # 정점과 연결된 다른 정점\n",
    "        if w not in discovered: # 이미 탐색한 정점은 거르기\n",
    "            print(f'if문 진입 : 정점 {w}는 아직 탐색하지 않았기 때문에 재귀함수를 호출합니다.')\n",
    "            discovered = recursive_dfs(w, discovered)\n",
    "            print(f'재귀함수 종료 : 정점 {w}에 대한 재귀함수가 종료되었습니다.')\n",
    "    return discovered\n",
    "    \n",
    "print(f'{recursive_dfs(1)=}')"
   ]
  },
  {
   "cell_type": "markdown",
   "metadata": {},
   "source": [
    "## 그래프\n",
    "\n",
    "1. **정점 (Vertex)와 간선 (Edge)**"
   ]
  },
  {
   "cell_type": "markdown",
   "metadata": {},
   "source": [
    "- **정점**: 그래프에서 데이터 항목을 나타내는 개체. 정점은 노드(node)라고도 불립니다.\n",
    "- **간선**: 정점 간의 관계를 나타내는 선. 간선은 링크(link) 또는 아크(arc)라고도 불립니다."
   ]
  },
  {
   "cell_type": "code",
   "execution_count": null,
   "metadata": {},
   "outputs": [],
   "source": [
    "# 인접 행렬로 그래프 표현\n",
    "graph = [\n",
    "    [0, 1, 0, 1],\n",
    "    [1, 0, 1, 0],\n",
    "    [0, 1, 0, 1],\n",
    "    [1, 0, 1, 0]\n",
    "]"
   ]
  },
  {
   "cell_type": "markdown",
   "metadata": {},
   "source": [
    "2. **그래프의 종류**\n",
    "\n",
    "- **무방향 그래프 (Undirected Graph)**: 간선에 방향이 없는 그래프. 정점 A와 B가 연결되어 있으면 A에서 B로, B에서 A로 이동 가능합니다.\n",
    "- **방향 그래프 (Directed Graph)**: 간선에 방향이 있는 그래프. 정점 A에서 B로 가는 경로가 있을 때, A에서 B로는 갈 수 있지만 B에서 A로는 갈 수 없는 경우가 있을 수 있습니다.\n",
    "- **가중 그래프 (Weighted Graph)**: 간선에 가중치가 있는 그래프. 가중치는 두 정점 간의 거리나 비용을 나타냅니다."
   ]
  },
  {
   "cell_type": "markdown",
   "metadata": {},
   "source": [
    "3. **인접 행렬 (Adjacency Matrix)와 인접 리스트 (Adjacency List)**\n",
    "    - **인접 행렬**: 정점 간의 연결을 2차원 배열로 표현. 정점 i와 j가 연결되어 있으면 `matrix[i][j]`는 1, 그렇지 않으면 0.\n",
    "    - **인접 리스트**: 각 정점에 연결된 정점들의 리스트로 표현. 더 적은 메모리를 사용하며, 큰 그래프에서 유리합니다."
   ]
  },
  {
   "cell_type": "code",
   "execution_count": null,
   "metadata": {},
   "outputs": [],
   "source": [
    "# 인접 행렬을 사용한 그래프 표현\n",
    "# A, B, C, D를 각각 0, 1, 2, 3으로 매핑\n",
    "graph = [\n",
    "    [0, 1, 1, 0],  # A\n",
    "    [1, 0, 0, 1],  # B\n",
    "    [1, 0, 0, 1],  # C\n",
    "    [0, 1, 1, 0]   # D\n",
    "]\n",
    "\n",
    "# 그래프 출력\n",
    "for row in graph:\n",
    "    print(row)"
   ]
  },
  {
   "cell_type": "code",
   "execution_count": null,
   "metadata": {},
   "outputs": [],
   "source": [
    "# 인접 리스트를 사용한 그래프 표현\n",
    "graph = {\n",
    "    'A': ['B', 'C'],\n",
    "    'B': ['A', 'D'],\n",
    "    'C': ['A', 'D'],\n",
    "    'D': ['B', 'C']\n",
    "}\n",
    "\n",
    "# 그래프 출력\n",
    "for vertex in graph:\n",
    "    print(f'{vertex}: {graph[vertex]}')"
   ]
  },
  {
   "cell_type": "code",
   "execution_count": null,
   "metadata": {},
   "outputs": [],
   "source": [
    "def factorial(n):\n",
    "    if n == 0:  # 기본 조건\n",
    "        return 1\n",
    "    else:\n",
    "        return n * factorial(n - 1)  # 재귀 조건\n",
    "\n",
    "print(factorial(5))  # 출력: 120\n"
   ]
  },
  {
   "cell_type": "markdown",
   "metadata": {},
   "source": [
    "### 깊이 우선 탐색 (DFS)\n",
    "\n",
    "DFS는 그래프의 한 정점에서 시작하여 가능한 한 깊게 탐색한 후, 더 이상 갈 곳이 없으면 되돌아오는 방식으로 탐색을 진행합니다. 주로 스택을 사용하거나 재귀 호출을 통해 구현됩니다.\n",
    "\n",
    "### 주요 특징\n",
    "\n",
    "- 깊게 탐색 후, 막히면 백트래킹(되돌아가기)하는 방식.\n",
    "- 모든 정점을 방문할 때까지 반복."
   ]
  },
  {
   "cell_type": "markdown",
   "metadata": {},
   "source": [
    "구현 (비재귀)"
   ]
  },
  {
   "cell_type": "code",
   "execution_count": null,
   "metadata": {},
   "outputs": [],
   "source": [
    "def dfs(graph, start):\n",
    "    visited = set()\n",
    "    stack = [start]\n",
    "\n",
    "    while stack:\n",
    "        vertex = stack.pop()\n",
    "        if vertex not in visited:\n",
    "            print(vertex, end=' ')\n",
    "            visited.add(vertex)\n",
    "            for neighbor in reversed(graph[vertex]):\n",
    "                if neighbor not in visited:\n",
    "                    stack.append(neighbor)\n",
    "\n",
    "graph = {\n",
    "    'A': ['B', 'C'],\n",
    "    'B': ['D', 'E'],\n",
    "    'C': ['F', 'G'],\n",
    "    'D': [],\n",
    "    'E': ['H', 'I'],\n",
    "    'F': [],\n",
    "    'G': [],\n",
    "    'H': [],\n",
    "    'I': []\n",
    "}\n",
    "\n",
    "dfs(graph, 'A')\n",
    "# 출력: A C G F B E I H D"
   ]
  },
  {
   "cell_type": "markdown",
   "metadata": {},
   "source": [
    "### 너비 우선 탐색 (BFS)\n",
    "\n",
    "BFS는 그래프의 한 정점에서 시작하여 인접한 모든 정점을 먼저 탐색한 후, 그 다음 단계의 인접 정점을 탐색하는 방식으로 진행됩니다. 주로 큐를 사용하여 구현됩니다.\n",
    "\n",
    "### 주요 특징\n",
    "\n",
    "- 같은 레벨의 정점들을 모두 탐색한 후, 다음 레벨로 이동.\n",
    "- 최단 경로를 찾는 데 유용."
   ]
  },
  {
   "cell_type": "code",
   "execution_count": null,
   "metadata": {},
   "outputs": [],
   "source": [
    "from collections import deque\n",
    "\n",
    "def bfs(graph, start):\n",
    "    visited = set()\n",
    "    queue = deque([start])\n",
    "\n",
    "    while queue:\n",
    "        vertex = queue.popleft()\n",
    "        if vertex not in visited:\n",
    "            print(vertex, end=' ')\n",
    "            visited.add(vertex)\n",
    "            for neighbor in graph[vertex]:\n",
    "                if neighbor not in visited:\n",
    "                    queue.append(neighbor)\n",
    "\n",
    "graph = {\n",
    "    'A': ['B', 'C'],\n",
    "    'B': ['D', 'E'],\n",
    "    'C': ['F', 'G'],\n",
    "    'D': [],\n",
    "    'E': ['H', 'I'],\n",
    "    'F': [],\n",
    "    'G': [],\n",
    "    'H': [],\n",
    "    'I': []\n",
    "}\n",
    "\n",
    "bfs(graph, 'A')\n",
    "# 출력: A B C D E F G H I\n"
   ]
  },
  {
   "cell_type": "markdown",
   "metadata": {},
   "source": [
    "## 깊이 우선 탐색과 너비 우선 탐색의 비교\n",
    "\n",
    "### 차이점\n",
    "\n",
    "1. **탐색 방식**\n",
    "    - DFS: 깊게, 막힐 때까지 탐색한 후 되돌아오기.\n",
    "    - BFS: 넓게, 같은 레벨의 모든 정점을 탐색한 후 다음 레벨로 이동.\n",
    "2. **자료 구조**\n",
    "    - DFS: 스택(비재귀 구현) 또는 재귀 호출(내부적으로 스택 사용).\n",
    "    - BFS: 큐.\n",
    "3. **용도**\n",
    "    - DFS: 그래프의 모든 경로를 탐색하거나, 미로 찾기 등에서 사용.\n",
    "    - BFS: 최단 경로를 찾는 문제에서 유용, 레벨 단위로 탐색.\n",
    "\n",
    "### 요약\n",
    "\n",
    "- **DFS**: 깊이 우선 탐색, 스택을 사용, 모든 경로 탐색에 유리.\n",
    "- **BFS**: 너비 우선 탐색, 큐를 사용, 최단 경로 탐색에 유리.\n",
    "\n",
    "### 팁\n",
    "\n",
    "- DFS가 동작 검증을 하는데 더 쉬워서 자주 사용됨\n",
    "- 종종 어려운 문제들은 DFS가 아닌 BFS로 풀어야 시간 초과가 되지 않는 문제들도 존"
   ]
  },
  {
   "cell_type": "markdown",
   "metadata": {},
   "source": [
    "## 파이썬 알고리즘 인터뷰 구현\n",
    "\n",
    "### DFS, 재귀 함수 - 파이썬 알고리즘 인터뷰 (p.324)"
   ]
  },
  {
   "cell_type": "code",
   "execution_count": null,
   "metadata": {},
   "outputs": [],
   "source": [
    "graph = {\n",
    "    1: [2, 3, 4],\n",
    "    2: [5],\n",
    "    3: [5],\n",
    "    4: [],\n",
    "    5: [6, 7],\n",
    "    6: [],\n",
    "    7: [3],\n",
    "}\n",
    "\n",
    "def recursive_dfs(v, discovered=[]):\n",
    "    discovered.append(v)\n",
    "    for w in graph[v]:\n",
    "        if w not in discovered:\n",
    "            discovered = recursive_dfs(w, discovered)\n",
    "    return discovered\n",
    "    \n",
    "print(f'{recursive_dfs(1)=}')\n",
    "\n",
    "# recursive_dfs(1)=[1, 2, 5, 6, 7, 3, 4]\n",
    "# recursive(재귀적인)"
   ]
  },
  {
   "cell_type": "code",
   "execution_count": null,
   "metadata": {},
   "outputs": [],
   "source": [
    "graph = {\n",
    "    1: [2, 3, 4],   # 부모 노드\n",
    "    2: [5],\n",
    "    3: [5],\n",
    "    4: [],\n",
    "    5: [6, 7],\n",
    "    6: [],\n",
    "    7: [3],\n",
    "}\n",
    "\n",
    "def recursive_dfs(v, discovered=[]):\n",
    "    print(f'recrusive_dfs 진입 : 탐색하는 정점: {v}, 여태까지 경로: {discovered=}')\n",
    "    print()\n",
    "    # 우리가 탐색한 경로\n",
    "    discovered.append(v)\n",
    "    print(f'append 함수 호출 : 여태까지 경로 {discovered}')\n",
    "    print()\n",
    "    #print(f'for문 진입 : 탐색한 정점 {v}를 여태까지 경로에 추가합니다.')\n",
    "    print(f'for문 진입 : 탐색한 정점 {v}와 연결된 노드들은 {graph[v]}이고 연결된 노드들을 하나씩 탐색합니다.')\n",
    "    print()\n",
    "    for w in graph[v]: # 정점과 연결된 다른 정점\n",
    "        if w not in discovered: # 이미 탐색한 정점은 거르기\n",
    "            print(f'if문 진입 : 정점 {w}는 아직 탐색하지 않았기 때문에 재귀함수를 호출합니다.')\n",
    "            print()\n",
    "            discovered = recursive_dfs(w, discovered)\n",
    "            print(f'재귀함수 종료 : 정점 {w}에 대한 재귀함수가 종료되었습니다.')\n",
    "            print()\n",
    "    return discovered\n",
    "    \n",
    "print(f'{recursive_dfs(1)=}')"
   ]
  },
  {
   "cell_type": "markdown",
   "metadata": {},
   "source": [
    "- recrusive_dfs 진입 : 탐색하는 정점: 1, 여태까지 경로: discovered=[]\n",
    "\n",
    "- append 함수 호출 : 여태까지 경로 [1]\n",
    "\n",
    "- for문 진입 : 탐색한 정점 1와 연결된 노드들은 [2, 3, 4]이고 연결된 노드들을 하나씩 탐색합니다.\n",
    "\n",
    "- if문 진입 : 정점 2는 아직 탐색하지 않았기 때문에 재귀함수를 호출합니다.\n",
    "\n",
    "- recrusive_dfs 진입 : 탐색하는 정점: 2, 여태까지 경로: discovered=[1]\n",
    "\n",
    "- append 함수 호출 : 여태까지 경로 [1, 2]\n",
    "\n",
    "- for문 진입 : 탐색한 정점 2와 연결된 노드들은 [5]이고 연결된 노드들을 하나씩 탐색합니다.\n",
    "\n",
    "- if문 진입 : 정점 5는 아직 탐색하지 않았기 때문에 재귀함수를 호출합니다.\n",
    "\n",
    "- recrusive_dfs 진입 : 탐색하는 정점: 5, 여태까지 경로: discovered=[1, 2]\n",
    "\n",
    "- append 함수 호출 : 여태까지 경로 [1, 2, 5]\n",
    "\n",
    "- for문 진입 : 탐색한 정점 5와 연결된 노드들은 [6, 7]이고 연결된 노드들을 하나씩 탐색합니다.\n",
    "\n",
    "- if문 진입 : 정점 6는 아직 탐색하지 않았기 때문에 재귀함수를 호출합니다.\n",
    "\n",
    "- recrusive_dfs 진입 : 탐색하는 정점: 6, 여태까지 경로: discovered=[1, 2, 5]\n",
    "- ...\n",
    "\n",
    "- 재귀함수 종료 : 정점 4에 대한 재귀함수가 종료되었습니다.\n",
    "\n",
    "- recursive_dfs(1)=[1, 2, 5, 6, 7, 3, 4]"
   ]
  },
  {
   "cell_type": "markdown",
   "metadata": {},
   "source": [
    "### DFS, 스택 - 파이썬 알고리즘 인터뷰 (p.325)"
   ]
  },
  {
   "cell_type": "code",
   "execution_count": null,
   "metadata": {},
   "outputs": [],
   "source": [
    "graph = {\n",
    "    1: [2, 3, 4],\n",
    "    2: [5],\n",
    "    3: [5],\n",
    "    4: [],\n",
    "    5: [6, 7],\n",
    "    6: [],\n",
    "    7: [3],\n",
    "}\n",
    "\n",
    "def iterative_dfs(start_v):\n",
    "    discovered = []\n",
    "    stack = [start_v]\n",
    "    while stack:\n",
    "        v = stack.pop()\n",
    "        if v not in discovered:\n",
    "            discovered.append(v)\n",
    "            for w in graph[v]:\n",
    "                stack.append(w)\n",
    "    return discovered\n",
    "\n",
    "print(f'{iterative_dfs(1)=}')\n",
    "\n",
    "# iterative_dfs(1)=[1, 4, 3, 5, 7, 6, 2]"
   ]
  },
  {
   "cell_type": "markdown",
   "metadata": {},
   "source": [
    "## BFS - 파이썬 알고리즘 인터뷰 (p.326)"
   ]
  },
  {
   "cell_type": "code",
   "execution_count": null,
   "metadata": {},
   "outputs": [],
   "source": [
    "def iterative_bfs(start_v):\n",
    "    discovered = [start_v]\n",
    "    queue = [start_v]\n",
    "    while queue:\n",
    "        v = queue.pop(0)\n",
    "        for w in graph[v]:\n",
    "            if w not in discovered:\n",
    "                discovered.append(w)\n",
    "                queue.append(w)\n",
    "    return discovered\n",
    "    \n",
    "    print(f'{iterative_bfs(1)=}')\n",
    "    \n",
    "# iterative_bfs(1)=[1, 2, 3, 4, 5, 6, 7]"
   ]
  },
  {
   "cell_type": "markdown",
   "metadata": {},
   "source": [
    "## 추가 실습"
   ]
  },
  {
   "cell_type": "code",
   "execution_count": null,
   "metadata": {},
   "outputs": [],
   "source": [
    "graph = {\n",
    "    1: [2, 3, 4],   # 부모 노드\n",
    "    2: [5],\n",
    "    3: [5],\n",
    "    4: [],\n",
    "    5: [6, 7],\n",
    "    6: [],\n",
    "    7: [3],\n",
    "}\n",
    "\n",
    "def recursive_dfs(v, discovered=[]):\n",
    "    \n",
    "    print(f'recrusive_dfs 진입 : 탐색하는 정점: {v}, 여태까지 경로: {discovered=}')\n",
    "    print()\n",
    "    \n",
    "    discovered.append(v)\n",
    "\n",
    "    \n",
    "    print(f'append 함수 호출 : 여태까지 경로 {discovered}')\n",
    "    print()\n",
    "    \n",
    "    print(f'for문 진입 : 탐색한 정점 {v}와 연결된 노드들은 {graph[v]}이고 연결된 노드들을 하나씩 탐색합니다.')\n",
    "    print()\n",
    "    \n",
    "    for w in graph[v]:\n",
    "        if w not in discovered:\n",
    "            print(f'if문 진입 : 정점 {w}는 아직 탐색하지 않았기 때문에 재귀함수를 호출합니다.')\n",
    "            print()\n",
    "            \n",
    "            discovered = recursive_dfs(w, discovered)\n",
    "            \n",
    "            print(f'재귀함수 종료 : 정점 {w}에 대한 재귀함수가 종료되었습니다.')\n",
    "            print()\n",
    "            \n",
    "    return discovered\n",
    "\n",
    "print(f'{recursive_dfs(1)=}')"
   ]
  },
  {
   "cell_type": "code",
   "execution_count": null,
   "metadata": {},
   "outputs": [],
   "source": [
    "graph = {\n",
    "    1: [2, 3, 4],\n",
    "    2: [5],\n",
    "    3: [5],\n",
    "    4: [],\n",
    "    5: [6, 7],\n",
    "    6: [],\n",
    "    7: [3],\n",
    "}\n",
    "\n",
    "def iterative_dfs(start_v):\n",
    "# start_v는 탐색을 시작할 노드. iterative_dfs 함수 설정.\n",
    "    discovered = []\n",
    "    # 빈 discovered 를 하나 생성 해둔다.\n",
    "    stack = [start_v]\n",
    "    # stack에 탐색을 시작할 노드(start_v)를 추가한다.\n",
    "    while stack:\n",
    "    # stack이 비어 있지 않는 동안 반복문을 계속 실행한다.\n",
    "    # 탐색이 시작되면 stack에 계속 추가가 되며 마지막에 추가된게 계속 실행된다.\n",
    "    # stack에서 노드를 하나 꺼내어 v에 추가한다.\n",
    "    \n",
    "        print(f'while문 진입 - 앞으로 탐색할 노드들 : {stack=} ')\n",
    "        \n",
    "        v = stack.pop()\n",
    "        \n",
    "        print(f'stack에서 값을 하나 뺌 : {v=} : ')\n",
    "        \n",
    "        if v not in discovered:\n",
    "            discovered.append(v)\n",
    "        # v가 discovered 리스트에 없다면, v를 discovered 리스트에 추가한다.\n",
    "        \n",
    "            print(f'아직 탐색에 추가되지 않은 v 추가 : {discovered=} : ')\n",
    "            \n",
    "            for w in graph[v]:\n",
    "                stack.append(w)\n",
    "            # v와 연결된 노드 w 들을 스택에 추가한다.\n",
    "            # if문에서 v가 discovered리스트에 유무를 확인하고 리스트에 추가하는 과정을 하기 위해.\n",
    "            # 다음에 탐색할 노드들을 스택에 저장해주는 역활.\n",
    "            \n",
    "                print(f'정점 {v=}와 연결된 노드들을 {stack=}에 추가  : {v=} : ')\n",
    "    \n",
    "    return discovered\n",
    "    # 탐색을 완료하고 결과값을 반환한다.\n",
    "\n",
    "print(f'{iterative_dfs(1)=}')\n",
    "# 함수를 호출하여 탐색을 시작한다.\n",
    "\n",
    "# start_v는 탐색을 시작할 노드. iterative_dfs 함수를 정의하고 비어있는 discovered를 생성해둔다.\n",
    "# stack에는 start_v를 추가하여 stack에서 노드를 하나씩 탐색 할 수 있게 해준다.\n",
    "# 그 후 while문을 통하여 stack이 비어 있지 않는 한 계속 반복문을 진행한다.\n",
    "# 반복문 내용은 v가 discovered 리스트 안에 없다면 v를 discovered 리스트에 추가하겠다. 라는 반복을 한다.\n",
    "# 그리고 그 반복을 진행하게 하기 위해 v와 연결되어 있는 w들을 스택에 추가해준다.\n",
    "# 아직 탐색하지 않는 노드들은 계속 stack에 추가하고 그 stack이 비어질때 까지 진행한다.\n",
    "# 그 후 탐색이 끝나면 return discovered를 하여 결과값을 반환하고 print문으로 출력해서 탐색을 시작한다.\n"
   ]
  },
  {
   "cell_type": "code",
   "execution_count": null,
   "metadata": {},
   "outputs": [],
   "source": [
    "graph = {\n",
    "    1: [2, 3, 4],\n",
    "    2: [5],\n",
    "    3: [5],\n",
    "    4: [],\n",
    "    5: [6, 7],\n",
    "    6: [],\n",
    "    7: [3],\n",
    "}\n",
    "\n",
    "def iterative_bfs(start_v):\n",
    "    discovered = [start_v]\n",
    "    queue = [start_v]\n",
    "    # 탐색된 노드를 저장할 리스트와 탐색할 노드를 저장할 큐를 초기화합니다.\n",
    "    # iterative_bfs를 정의. discovered와 queue 를 생성 하여 각각 start_v를 넣어둔다.\n",
    "    # discovered에는 탐색된 노드를 저장. queue에는 탐색 할 노드를 저장한다.\n",
    "    # 처음엔 start_v를 넣어서 초기화 시킴.\n",
    "    \n",
    "    print(f'초기 상태: discovered={discovered}, queue={queue}')\n",
    "    \n",
    "    while queue:\n",
    "        v = queue.pop(0)\n",
    " \n",
    "        print(f'노드 {v} 탐색 중, queue={queue}')\n",
    "        \n",
    "        for w in graph[v]:\n",
    "            if w not in discovered:\n",
    "                discovered.append(w)\n",
    "                queue.append(w)\n",
    "                \n",
    "        # 큐가 비어 있지 않은 동안 탐색을 계속합니다.\n",
    "        # 현재 노드 v와 연결된 모든 노드들(w)를 순회하고\n",
    "        # 탐색 한 노드를 discovered에 추가한다.\n",
    "        # 남은 탐색 할 노드는 queue에 추가한다.\n",
    "        # w가 discovered 리스트에 없다면 w를 discovered 리스트와 queue에 추가한다.\n",
    "                \n",
    "                print(f'노드 {v}와 연결된 노드 {w}를 발견: discovered={discovered}, queue={queue}')\n",
    "                \n",
    "    return discovered\n",
    "    # 모든 탐색이 끝나면 discovered를 반환한다.\n",
    "\n",
    "print(f'{iterative_bfs(1)=}')\n",
    "\n",
    "    \n",
    "# iterative_bfs(1)=[1, 2, 3, 4, 5, 6, 7]"
   ]
  },
  {
   "cell_type": "markdown",
   "metadata": {},
   "source": [
    "# 리트코드 200번 문제"
   ]
  },
  {
   "cell_type": "code",
   "execution_count": null,
   "metadata": {},
   "outputs": [],
   "source": [
    "from typing import List\n",
    "class Solution:\n",
    "    from collections import deque\n",
    "    def numIslands(self, grid: List[List[str]]) -> int:\n",
    "        m=len(grid)\n",
    "        n=len(grid[0])\n",
    "        d=[(0,1),(0,-1),(1,0),(-1,0)] \n",
    "        \n",
    "        answer=0\n",
    "        visited=[[False]*n for _ in range(m)]\n",
    "        for i in range(m):\n",
    "            for j in range(n):\n",
    "                if grid[i][j]==\"1\":\n",
    "                    \n",
    "                    # bfs\n",
    "                    q=deque([(i,j)])\n",
    "                    while q:\n",
    "                        x,y=q.popleft()\n",
    "                        for dx,dy in d:\n",
    "                            nx,ny=x+dx,y+dy\n",
    "                            if 0<=nx<m and 0<=ny<n and grid[nx][ny]==\"1\":\n",
    "                                grid[nx][ny]=\"0\"\n",
    "                                q.append((nx,ny))\n",
    "                    answer+=1\n",
    "                    \n",
    "        return answer"
   ]
  },
  {
   "cell_type": "code",
   "execution_count": null,
   "metadata": {},
   "outputs": [],
   "source": [
    "from typing import List\n",
    "class Solution:\n",
    "    def numIslands(self, grid: List[List[str]]) -> int:\n",
    "        def dfs(x,y):\n",
    "            if x in range(len(grid)) and \\\n",
    "                y in range(len(grid[0])) and \\\n",
    "                grid[x][y] == '1':\n",
    "                    grid[x][y] = '0'\n",
    "                    dfs(x + 1, y)\n",
    "                    dfs(x, y + 1)\n",
    "                    dfs(x - 1, y)\n",
    "                    dfs(x, y - 1)\n",
    "        \n",
    "        count = 0\n",
    "        for i in range(len(grid)):\n",
    "            for j in range(len(grid[0])):\n",
    "                if grid[i][j] == '1':\n",
    "                    dfs(i,j)\n",
    "                    count += 1\n",
    "                    \n",
    "        return count"
   ]
  },
  {
   "cell_type": "markdown",
   "metadata": {},
   "source": [
    "# 리트코드 17번 문제"
   ]
  },
  {
   "cell_type": "code",
   "execution_count": null,
   "metadata": {},
   "outputs": [],
   "source": [
    "from typing import List\n",
    "class Solution:\n",
    "    def letterCombinations(self, digits: str) -> List[str]:\n",
    "        def dfs(index, path):\n",
    "            # 끝까지탐색하면 백트래킹\n",
    "            \n",
    "            if len(path) == len(digits):\n",
    "                result.append(path)\n",
    "                return\n",
    "            \n",
    "            # 입력값 자릿수 단위 반복\n",
    "            for i in range(index, len(digits)):\n",
    "                for j in dic[digits[i]]:\n",
    "                    dfs(i + 1, path + j)\n",
    "        # 예외 처리         \n",
    "        if not digits:\n",
    "            return []\n",
    "        \n",
    "        dic = {\"2\": \"abc\", \"3\": \"def\", \"4\": \"ghi\", \"5\": \"jkl\",\n",
    "               \"6\": \"mno\",\"7\": \"pqrs\", \"8\": \"tuv\", \"9\": \"wxyz\"}\n",
    "        result = []\n",
    "        dfs(0, \"\")\n",
    "        \n",
    "        return result"
   ]
  },
  {
   "cell_type": "code",
   "execution_count": null,
   "metadata": {},
   "outputs": [],
   "source": [
    "from typing import List\n",
    "class Solution:\n",
    "    def letterCombinations(self, digits: str) -> List[str]:\n",
    "        \n",
    "        if digits == \"\":\n",
    "            return []\n",
    "        \n",
    "        def dfs(index, path):   # dfs(1, 'a')\n",
    "            \n",
    "            if len(path) == len(digits):\n",
    "                result.append(path)\n",
    "                return\n",
    "            \n",
    "            for i in range(index, len(digits)):\n",
    "                # digiits의 길이만큼, digits=23 -> 2번\n",
    "                for j in num_to_alpha[digits[i]]:\n",
    "                    # j 가 항상 3번 digiths=23, a,bc\n",
    "                    dfs(i + 1, path + j)\n",
    "                \n",
    "        num_to_alpha = {\n",
    "            \"2\": \"abc\", \"3\": \"def\", \"4\": \"ghi\",\n",
    "            \"5\": \"jkl\", \"6\": \"mno\", \"7\": \"pqrs\",\n",
    "            \"8\": \"tuv\", \"9\": \"wxyz\"\n",
    "            }\n",
    "\n",
    "        result = []\n",
    "        dfs(0, \"\")\n",
    "        return result"
   ]
  },
  {
   "cell_type": "markdown",
   "metadata": {},
   "source": [
    "# 리트코드 46번 문제"
   ]
  },
  {
   "cell_type": "code",
   "execution_count": null,
   "metadata": {},
   "outputs": [],
   "source": [
    "class Solution:\n",
    "    def permute(self, nums):\n",
    "        stack = [([], nums)]\n",
    "        result = []\n",
    "        \n",
    "        while stack:\n",
    "            perm, items = stack.pop()\n",
    "            print(f'스택 팝: 현재 순열 {perm=}, 남은 항목 {items=}\\n')\n",
    "            \n",
    "            if len(items) == 0:\n",
    "                result.append(perm)\n",
    "                print(f'순열 완성: {perm}, result에 추가됨\\n')\n",
    "                \n",
    "            for i in range(len(items)):\n",
    "                new_perm = perm + [items[i]]\n",
    "                new_items = items[:i] + items[i + 1:]\n",
    "                stack.append((new_perm, new_items))\n",
    "                print(f'스택 푸시: 새로운 순열 {new_perm=}, 남은 항목 {new_items=}\\n')\n",
    "                \n",
    "        return result\n",
    "\n",
    "# 예시 실행\n",
    "solution = Solution()\n",
    "permutations = solution.permute([1, 2, 3])\n",
    "print(f'최종 결과: {permutations}')"
   ]
  },
  {
   "cell_type": "markdown",
   "metadata": {},
   "source": [
    "- 스택 팝: 현재 순열 perm=[], 남은 항목 items=[1, 2, 3]\n",
    "\n",
    "- 스택 푸시: 새로운 순열 new_perm=[1], 남은 항목 new_items=[2, 3]\n",
    "\n",
    "- 스택 푸시: 새로운 순열 new_perm=[2], 남은 항목 new_items=[1, 3]\n",
    "\n",
    "- 스택 푸시: 새로운 순열 new_perm=[3], 남은 항목 new_items=[1, 2]\n",
    "\n",
    "- 스택 팝: 현재 순열 perm=[3], 남은 항목 items=[1, 2]\n",
    "\n",
    "- 스택 푸시: 새로운 순열 new_perm=[3, 1], 남은 항목 new_items=[2]\n",
    "\n",
    "- 스택 푸시: 새로운 순열 new_perm=[3, 2], 남은 항목 new_items=[1]\n",
    "\n",
    "- 스택 팝: 현재 순열 perm=[3, 2], 남은 항목 items=[1]\n",
    "\n",
    "- 스택 푸시: 새로운 순열 new_perm=[3, 2, 1], 남은 항목 new_items=[]\n",
    "\n",
    "- 스택 팝: 현재 순열 perm=[3, 2, 1], 남은 항목 items=[]\n",
    "\n",
    "- 순열 완성: [3, 2, 1], result에 추가됨\n",
    "\n",
    "- 스택 팝: 현재 순열 perm=[3, 1], 남은 항목 items=[2]\n",
    "\n",
    "- 스택 푸시: 새로운 순열 new_perm=[3, 1, 2], 남은 항목 new_items=[]\n",
    "- ...\n",
    "\n",
    "- 순열 완성: [1, 2, 3], result에 추가됨\n",
    "\n",
    "- 최종 결과: [[3, 2, 1], [3, 1, 2], [2, 3, 1], [2, 1, 3], [1, 3, 2], [1, 2, 3]]"
   ]
  },
  {
   "cell_type": "code",
   "execution_count": null,
   "metadata": {},
   "outputs": [],
   "source": [
    "# class Solution:\n",
    "#     def permute(self, nums):\n",
    "#         stack = [([], nums)]\n",
    "#         result = []\n",
    "        \n",
    "#         while stack:\n",
    "#             elements, prev_elements = stack.pop()\n",
    "#             print(f'스택 팝: 현재 elements {elements=}, 이전 요소들 {prev_elements=}\\n')\n",
    "            \n",
    "#             if len(elements) == 0:\n",
    "#                 result.append(prev_elements[:])\n",
    "#                 print(f'순열 완성: {prev_elements[:]}, result에 추가됨\\n')\n",
    "                \n",
    "#             for e in elements:\n",
    "#                 next_elements = elements[:]\n",
    "#                 next_elements.remove(e)\n",
    "#                 stack.append((next_elements, prev_elements + [e]))\n",
    "#                 print(f'스택 푸시: 새로운 elements {next_elements=}, 업데이트된 이전 요소들 {prev_elements + [e]=}\\n')\n",
    "                \n",
    "#         return result\n",
    "\n",
    "# # 예시 실행\n",
    "# solution = Solution()\n",
    "# permutations = solution.permute([1, 2, 3])\n",
    "# print(f'최종 결과: {permutations}')\n",
    "\n",
    "class Solution:\n",
    "    def permute(self, nums):\n",
    "        stack = [([], nums)]\n",
    "        result = []\n",
    "        \n",
    "        while stack:\n",
    "            prev_elements, elements = stack.pop()\n",
    "            print(f'스택 팝: 현재 prev_elements {prev_elements=}, 남은 elements {elements=}\\n')\n",
    "            \n",
    "            if len(elements) == 0:\n",
    "                result.append(prev_elements[:])\n",
    "                print(f'순열 완성: {prev_elements[:]}, result에 추가됨\\n')\n",
    "                \n",
    "            for e in elements:\n",
    "                next_elements = elements[:]\n",
    "                next_elements.remove(e)\n",
    "                stack.append((prev_elements + [e], next_elements))\n",
    "                print(f'스택 푸시: 업데이트된 prev_elements {prev_elements + [e]=}, 새로운 elements {next_elements=}\\n')\n",
    "                \n",
    "        return result\n",
    "\n",
    "# 예시 실행\n",
    "solution = Solution()\n",
    "permutations = solution.permute([1, 2, 3])\n",
    "print(f'최종 결과: {permutations}')\n"
   ]
  },
  {
   "cell_type": "code",
   "execution_count": null,
   "metadata": {},
   "outputs": [],
   "source": [
    "from typing import List\n",
    "\n",
    "class Solution:\n",
    "    \n",
    "    def permute(self, nums: List[int]) -> List[List[int]]:\n",
    "        result = []\n",
    "        prev_elements = []\n",
    "        \n",
    "        def dfs(elements):\n",
    "            print(f'dfs 진입: 여태까지 조합 {prev_elements=}, 남은 조합 {elements=}\\n')\n",
    "            \n",
    "            if len(elements) == 0:\n",
    "                result.append(prev_elements[:])\n",
    "                print(f'조합 완성: {prev_elements[:]}, result에 추가됨\\n')\n",
    "                return\n",
    "            \n",
    "            for e in elements:\n",
    "                next_elements = elements[:]\n",
    "                next_elements.remove(e)\n",
    "                \n",
    "                prev_elements.append(e)\n",
    "                print(f'원소 추가: {e}, {prev_elements=}, {next_elements=}\\n')\n",
    "                dfs(next_elements)\n",
    "                prev_elements.pop()\n",
    "                print(f'원소 제거: {e}, {prev_elements=}, {next_elements=}\\n')\n",
    "        \n",
    "        dfs(nums)\n",
    "        return result"
   ]
  },
  {
   "cell_type": "markdown",
   "metadata": {},
   "source": [
    "# 리트코드 77번 문제"
   ]
  },
  {
   "cell_type": "code",
   "execution_count": null,
   "metadata": {},
   "outputs": [],
   "source": [
    "class Solution:\n",
    "    def combine(self, n: int, k: int):\n",
    "        def backtrack(start, path):\n",
    "            if len(path) == k:\n",
    "                result.append(path[:])\n",
    "                return\n",
    "            for i in range(start, n + 1):\n",
    "                path.append(i)\n",
    "                backtrack(i + 1, path)\n",
    "                path.pop()\n",
    "\n",
    "        result = []\n",
    "        backtrack(1, [])\n",
    "        return result\n",
    "\n",
    "# 예시 실행\n",
    "solution = Solution()\n",
    "combinations = solution.combine(4, 2)\n",
    "print(f'조합 결과: {combinations}')\n"
   ]
  },
  {
   "cell_type": "code",
   "execution_count": null,
   "metadata": {},
   "outputs": [],
   "source": [
    "class Solution2:\n",
    "    def combine(self, n: int, k: int) -> List[List[int]]:\n",
    "    \t# remainder 개념을 사용한 이유는 빈 리스트가 입력으로 들어왔을 때도 동일하게 동작하기 위함\n",
    "        def dfs(level: int, partial_list: List, remainder: int):\n",
    "            if len(partial_list) == k:\n",
    "                answer.append(partial_list)\n",
    "                return\n",
    "            for i in range(remainder, n-k+level+1):\n",
    "                dfs(level+1, partial_list + [i], i+1)\n",
    "\n",
    "        answer = []\n",
    "        dfs(1, [], 1)\n",
    "        return answer"
   ]
  },
  {
   "cell_type": "code",
   "execution_count": null,
   "metadata": {},
   "outputs": [],
   "source": [
    "from typing import List\n",
    "\n",
    "class Solution:\n",
    "    def combine(self, n: int, k: int) -> List[List[int]]:\n",
    "        output = []\n",
    "        nums = [i + 1 for i in range(n)]\n",
    "        \n",
    "        def dfs(k, stack=None):\n",
    "            if stack is None:\n",
    "                stack = []\n",
    "                \n",
    "            if k == 0:\n",
    "                output.append(stack)\n",
    "                print(f'조합 완성: {stack}, output에 추가됨\\n')\n",
    "                return\n",
    "            \n",
    "            if stack:\n",
    "                for w in nums[stack[-1]-1:]:\n",
    "                    if w not in stack:\n",
    "                        dfs(k-1, stack + [w])\n",
    "            else:\n",
    "                for w in nums:\n",
    "                    if w not in stack:\n",
    "                        dfs(k-1, stack + [w])\n",
    "            \n",
    "            print(f'현재 stack: {stack}, k: {k}\\n')\n",
    "            \n",
    "        dfs(k)\n",
    "        \n",
    "        return output\n",
    "\n",
    "# 예시 실행\n",
    "solution = Solution()\n",
    "combinations = solution.combine(4, 2)\n",
    "print(f'최종 결과: {combinations}')"
   ]
  },
  {
   "cell_type": "markdown",
   "metadata": {},
   "source": [
    "- `itertools` 모듈은 파이썬의 표준 라이브러리 중 하나로\n",
    "- 반복 가능한(iterable) 데이터를 다루는 데 사용되는 유용한 함수들을 제공.\n",
    "- 그 중에서도 `combinations` 함수는 주어진 데이터에서 주어진 길이의 조합(combination)을 생성해주는 함수입니다."
   ]
  },
  {
   "cell_type": "code",
   "execution_count": null,
   "metadata": {},
   "outputs": [],
   "source": [
    "from itertools import combinations\n",
    "\n",
    "class Solution:\n",
    "    def combine(self, n: int, k: int):\n",
    "        # itertools의 combinations 함수를 사용하여 조합을 생성\n",
    "        return list(combinations(range(1, n + 1), k))\n",
    "\n",
    "# 예시 실행\n",
    "solution = Solution()\n",
    "combinations = solution.combine(4, 2)\n",
    "print(f'조합 결과: {combinations}')"
   ]
  },
  {
   "cell_type": "code",
   "execution_count": null,
   "metadata": {},
   "outputs": [],
   "source": [
    "# 강사님\n",
    "class Solution:\n",
    "    def combine(self, n, k):\n",
    "    # k는 조합의 길이. n은 시작부터 끝까지의 숫자 범위.\n",
    "        result = []\n",
    "        stack = [(1, [])]\n",
    "        # 빈 result 리스트와 stack(스택)을 초기화.\n",
    "        # 스택에는 튜플 형태(start, elements)로 들어간다.\n",
    "        # start는 시작 인덱스. elements는 현재까지의 조합.\n",
    "        # 초기 상태에서는 시작 인덱스는 1이고, 현재까지 조합은 빈 리스트.\n",
    "        \n",
    "        while stack:\n",
    "            start, elements = stack.pop()\n",
    "            print(f'스택 팝: 현재 start={start}, 현재 elements={elements}')\n",
    "            # 스택이 빌 때까지 반복.\n",
    "            # 스택에서 요소를 팝하여 start(시작 인덱스)와 elements(현재까지의 조합)으로 분리.\n",
    "            \n",
    "            if len(elements) == k:\n",
    "                result.append(elements[:])\n",
    "                print(f'조합 완성: {elements}, result에 추가됨')\n",
    "                continue # 밑에 코드로 넘어가지 않고 바로 다음 반복을 실행.\n",
    "            # elements의 길이가 k와 같으면 현재 조합이 완성 이므로 결과 리스트에 추가.\n",
    "            # 이후 다음 반복으로 넘어감.\n",
    "            \n",
    "            for i in range(start, n + 1):\n",
    "                stack.append((i + 1, elements + [i]))\n",
    "                print(f'스택 푸시: 다음 start={i + 1}, 다음 elements={elements + [i]}')\n",
    "            # start부터 n까지 순회 하면서 스택에 다음 요소를 추가.\n",
    "            # start는 현재까지의 조합에서 가장 큰 숫자보다 1 큰 값을 가진다.\n",
    "            # 새로운 요소를 추가한 조합은 새로운 시작 인덱스와 함께 스택에 추가.\n",
    "                \n",
    "        return result\n",
    "        # 완성된 모든 조합들을 담은 결과 리스트를 반환.\n",
    "\n",
    "# 예시 실행\n",
    "solution = Solution()\n",
    "combinations = solution.combine(6, 2)\n",
    "print(f'조합 결과: {combinations}')\n"
   ]
  },
  {
   "cell_type": "markdown",
   "metadata": {},
   "source": [
    "# 리트코드 39번 문제"
   ]
  },
  {
   "cell_type": "code",
   "execution_count": null,
   "metadata": {},
   "outputs": [],
   "source": [
    "class Solution:\n",
    "    def combinationSum(self, candidates: List[int], target: int) -> List[List[int]]:\n",
    "        answer = []\n",
    "        output = []\n",
    "        \n",
    "        def combination(index, sum_value):\n",
    "            if sum_value >= target:\n",
    "                if sum_value == target:\n",
    "                    answer.append(output[:])\n",
    "                return\n",
    "            \n",
    "            if index >= len(candidates):\n",
    "                return\n",
    "            \n",
    "            output.append(candidates[index])\n",
    "            combination(index, sum_value + candidates[index])\n",
    "            output.pop()\n",
    "            combination(index+1, sum_value)\n",
    "        \n",
    "        combination(0, 0)\n",
    "        return answer"
   ]
  },
  {
   "cell_type": "markdown",
   "metadata": {},
   "source": [
    "# 백준 24479번 문제"
   ]
  },
  {
   "cell_type": "code",
   "execution_count": null,
   "metadata": {},
   "outputs": [],
   "source": [
    "def dfs(t):\n",
    "    global cnt\n",
    "    visited[t] = cnt\n",
    "    line[t].sort()\n",
    "    for i in line[t]:\n",
    "        if visited[i] == 0:\n",
    "            cnt += 1\n",
    "            dfs(i)\n",
    "\n",
    "import sys\n",
    "sys.setrecursionlimit(150000)\n",
    "N, M, R = map(int, sys.stdin.readline().split())\n",
    "line = [[] for _ in range(N+1)]\n",
    "visited = [0]*(N+1)  # 저장값\n",
    "cnt = 1\n",
    "for _ in range(M):\n",
    "    a, b = map(int, sys.stdin.readline().split())\n",
    "    line[a].append(b)  # 양 방향 간선\n",
    "    line[b].append(a)  # 양 방향 간선\n",
    "dfs(R)\n",
    "for i in range(1, N+1):\n",
    "    print(visited[i])"
   ]
  },
  {
   "cell_type": "markdown",
   "metadata": {},
   "source": [
    "# 프로그래머스 타겟 넘버 문제"
   ]
  },
  {
   "cell_type": "code",
   "execution_count": null,
   "metadata": {},
   "outputs": [],
   "source": [
    "from collections import deque\n",
    "def solution(numbers, target):\n",
    "    answer = 0\n",
    "    queue = deque()\n",
    "    n = len(numbers)\n",
    "    queue.append([numbers[0],0])\n",
    "    queue.append([-1*numbers[0],0])\n",
    "    while queue:\n",
    "        temp, idx = queue.popleft()\n",
    "        idx += 1\n",
    "        if idx < n:\n",
    "            queue.append([temp+numbers[idx], idx])\n",
    "            queue.append([temp-numbers[idx], idx])\n",
    "        else:\n",
    "            if temp == target:\n",
    "                answer += 1\n",
    "    return answer"
   ]
  },
  {
   "cell_type": "code",
   "execution_count": null,
   "metadata": {},
   "outputs": [],
   "source": [
    "# stack을 이용한 dfs여도 마찬가지! \n",
    "\n",
    "def solution(numbers, target):\n",
    "    answer = 0\n",
    "    queue = [[numbers[0],0], [-1*numbers[0],0]]\n",
    "    n = len(numbers)\n",
    "    while queue:\n",
    "        temp, idx = queue.pop()\n",
    "        idx += 1\n",
    "        if idx < n:\n",
    "            queue.append([temp+numbers[idx], idx])\n",
    "            queue.append([temp-numbers[idx], idx])\n",
    "        else:\n",
    "            if temp == target:\n",
    "                answer += 1\n",
    "    return answer"
   ]
  },
  {
   "cell_type": "code",
   "execution_count": null,
   "metadata": {},
   "outputs": [],
   "source": [
    "# 재귀함수 이용한 DFS\n",
    "\n",
    "def solution(numbers, target):\n",
    "    n = len(numbers)\n",
    "    answer = 0\n",
    "    def dfs(idx, result):\n",
    "        if idx == n:\n",
    "            if result == target:\n",
    "                nonlocal answer\n",
    "                answer += 1\n",
    "            return\n",
    "        else:\n",
    "            dfs(idx+1, result+numbers[idx])\n",
    "            dfs(idx+1, result-numbers[idx])\n",
    "    dfs(0,0)\n",
    "    return answer"
   ]
  },
  {
   "cell_type": "markdown",
   "metadata": {},
   "source": [
    "# 프로그래머스 게임 맵 최단거리 문제"
   ]
  },
  {
   "cell_type": "code",
   "execution_count": null,
   "metadata": {},
   "outputs": [],
   "source": [
    "# BFS 방법.\n",
    "\n",
    "from collections import deque\n",
    "def solution(maps):\n",
    "    answer = 0\n",
    "    dx = [-1,1,0,0]\n",
    "    dy = [0,0,-1,1]\n",
    "\n",
    "    queue = deque()\n",
    "    queue.append((0,0))\t\t# 0,0에서 시작\n",
    "\n",
    "    while queue:\n",
    "        x, y = queue.popleft()\n",
    "        for i in range(4):\n",
    "            nx = x + dx[i]\n",
    "            ny = y + dy[i]\n",
    "            N = len(maps)\n",
    "            M = len(maps[0])\n",
    "            if 0<=nx<N and 0<=ny<M and maps[nx][ny]==1:\n",
    "                maps[nx][ny] = maps[x][y]+1\n",
    "                queue.append((nx,ny))\n",
    "    answer = maps[N-1][M-1]\n",
    "    \n",
    "    if answer ==1:\n",
    "        answer = -1\n",
    "    return answer"
   ]
  },
  {
   "cell_type": "markdown",
   "metadata": {},
   "source": [
    "## 기본 정렬 알고리즘 구현\n",
    "\n",
    "### 버블 정렬 (Bubble Sort)\n",
    "\n",
    "버블 정렬은 인접한 두 요소를 비교하여 정렬하는 단순한 알고리즘입니다. 가장 큰 요소가 맨 끝으로 '버블'처럼 이동하는 방식입니다."
   ]
  },
  {
   "cell_type": "code",
   "execution_count": null,
   "metadata": {},
   "outputs": [],
   "source": [
    "def bubble_sort(arr):\n",
    "    n = len(arr)\n",
    "    # 배열의 길이를 n에 추가.\n",
    "    \n",
    "    # 이중 반복문\n",
    "    ## 이중 반복문 내용.\n",
    "    # 내부 반복문이 정렬 범위 내의 모든 원소 쌍을 비교하여 정렬을 수행하고.\n",
    "    # 외부 반복문이 그걸 반복하여 모든 원소가 올바른 위치에 있을 때까지 정렬 범위를 줄임.\n",
    "    # 위 과정을 통해 가장 큰 원소가 맨 오른쪽으로 이동하여 정렬.\n",
    "    \n",
    "    for i in range(n):\n",
    "    # 배열의 길이(n) 만큼 반복.\n",
    "    # 각 반복에서 정렬 범위의 끝 부분(마지막 원소)를 제외하고 정렬 수행.\n",
    "    # 각 반복마다 가장 큰 원소가 배열의 마지막으로 이동.\n",
    "        for j in range(0, n - i - 1):\n",
    "        # 현재 정렬 범위 내에서 인접한 원소를 비교하고 필요하다면 위치를 바꾼다.\n",
    "        # j 는 현재 원소의 인덱스. 0 부터 시작하여 정렬 범위 끝까지 이동.\n",
    "        # n -i -1 = 현재 정렬 범위 내에서 비교할 수 있는 마지막 인덱스.\n",
    "        # 외부 반복문이 실행될 때마다 정렬 범위가 감소하기에 -i를 추가하여 정렬 범위를 줄임.\n",
    "            if arr[j] > arr[j + 1]:\n",
    "            # arr[j] (현재 원소) 와 arr[j + 1] (다음 원소)를 비교.\n",
    "            # 현재 원소가 다음 원소보다 크다면 위치를 교환.\n",
    "                arr[j], arr[j + 1] = arr[j + 1], arr[j]\n",
    "                # 현재 정렬 범위 내에서 가장 큰 원소가 오른쪽으로 이동하여 정렬.\n",
    "    return arr\n",
    "\n",
    "# 테스트\n",
    "data = [64, 34, 25, 12, 22, 11, 90]\n",
    "print(\"Bubble Sort 결과:\", bubble_sort(data))"
   ]
  },
  {
   "cell_type": "markdown",
   "metadata": {},
   "source": [
    "### 삽입 정렬 (Insertion Sort)\n",
    "\n",
    "삽입 정렬은 배열을 정렬된 부분과 정렬되지 않은 부분으로 나누고, 정렬되지 않은 부분의 요소를 하나씩 정렬된 부분에 삽입하여 정렬합니다."
   ]
  },
  {
   "cell_type": "code",
   "execution_count": null,
   "metadata": {},
   "outputs": [],
   "source": [
    "def insertion_sort(arr):\n",
    "    for i in range(1, len(arr)):\n",
    "        print(f'현재 인덱스 i: {i}, 정렬 전 배열: {arr}\\n')\n",
    "        # range(1,7) -> 1, 2, 3, 4, 5, 6\n",
    "        key = arr[i]\n",
    "        print(f'현재 key 값: {key}\\n')\n",
    "        # arr[1], .... arr[6]\n",
    "        j = i - 1\n",
    "        # 0, 1, 2, 3, 4, 5\n",
    "        while j >= 0 and key < arr[j]:\n",
    "            print(f'{i=}정렬 전 : {arr=}, {j+1=}, {j=}\\n')\n",
    "            arr[j + 1] = arr[j]\n",
    "            print(f'{i=}정렬 후 : {arr=}, {j+1=}, {j=}\\n')\n",
    "            j -= 1\n",
    "        arr[j + 1] = key\n",
    "        print(f'한 번의 정렬이 끝난 후 배열 상태: {arr}\\n')\n",
    "        # 앞에 있는 값이 뒤에 있는 값보다 클때까지\n",
    "        # 정렬이 안되어 있다면, j가 음수이면 list out of range 에러 발생.\n",
    "    return arr\n",
    "\n",
    "# 테스트\n",
    "data = [64, 34, 25, 12, 22, 11, 90]\n",
    "print(\"Insertion Sort 결과:\", insertion_sort(data))"
   ]
  },
  {
   "cell_type": "markdown",
   "metadata": {},
   "source": [
    "# 백준 수 정렬하기 문제"
   ]
  },
  {
   "cell_type": "code",
   "execution_count": null,
   "metadata": {},
   "outputs": [],
   "source": [
    "N = int(input()) # 원소 수 입력 받기\n",
    "arr = [] # 빈 어레이 생성\n",
    "\n",
    "for i in range(N):\n",
    "    arr.append(int(input())) # 숫자 삽입\n",
    "\n",
    "# 삽입 정렬\n",
    "for j in range(1, len(arr)):\n",
    "    key = arr[j]\n",
    "    i = j-1\n",
    "    while i >= 0 and arr[i] > key: # key 이전 원소가 i보다 작은 경우\n",
    "        arr[i+1] = arr[i] # 이전 원소 한칸 이동\n",
    "        i -= 1 # i 갱신\n",
    "    arr[i+1] = key # key 삽입\n",
    "\n",
    "for i in arr:\n",
    "    print(i)"
   ]
  },
  {
   "cell_type": "markdown",
   "metadata": {},
   "source": [
    "### 퀵정렬\n",
    "\n",
    "<aside>\n",
    "💡 퀵정렬(Quick Sort)은 비교 기반 정렬 알고리즘으로, 평균적으로 매우 빠른 속도를 자랑합니다.\n",
    "\n",
    "</aside>"
   ]
  },
  {
   "cell_type": "markdown",
   "metadata": {},
   "source": [
    "1. **피벗 선택(Pivot Selection)**: 리스트에서 하나의 요소를 선택하여 피벗으로 설정합니다.\n",
    "2. **분할(Partitioning)**: 피벗을 기준으로 리스트를 두 개의 부분 리스트로 나눕니다. 피벗보다 작은 요소들은 왼쪽 부분 리스트로, 피벗보다 큰 요소들은 오른쪽 부분 리스트로 이동합니다.\n",
    "3. **재귀적 정렬(Recursive Sorting)**: 분할된 두 부분 리스트에 대해 재귀적으로 퀵정렬을 수행합니다.\n",
    "4. **종료 조건(Base Case)**: 리스트의 크기가 0이나 1이 되면 재귀 호출을 종료합니다.\n",
    "\n",
    "- 퀵정렬은 평균적으로 O(n log n)의 시간 복잡도를 가지며, 최악의 경우 O(n^2)의 시간 복잡도를 가질 수 있습니다.\n",
    "- 하지만, 적절한 피벗 선택 전략을 사용하면 최악의 경우를 피할 수 있습니다."
   ]
  },
  {
   "cell_type": "markdown",
   "metadata": {},
   "source": [
    "## 파이썬 내장 정렬 함수"
   ]
  },
  {
   "cell_type": "markdown",
   "metadata": {},
   "source": [
    "### `sorted()` 함수\n",
    "\n",
    "`sorted()` 함수는 입력 데이터를 정렬된 새로운 리스트로 반환합니다. 원본 리스트는 변경되지 않습니다."
   ]
  },
  {
   "cell_type": "code",
   "execution_count": null,
   "metadata": {},
   "outputs": [],
   "source": [
    "sorted(iterable, key=None, reverse=False)"
   ]
  },
  {
   "cell_type": "markdown",
   "metadata": {},
   "source": [
    "### 매개변수\n",
    "\n",
    "- **iterable**: 정렬할 대상인 반복 가능한 객체 (예: 리스트, 튜플, 문자열 등).\n",
    "- **key**: 정렬 기준을 제공하는 함수. 각 요소에 대해 호출되어 비교에 사용됩니다.\n",
    "- **reverse**: 정렬 순서를 역순으로 할지 여부. 기본값은 `False` (오름차순 정렬)."
   ]
  },
  {
   "cell_type": "code",
   "execution_count": null,
   "metadata": {},
   "outputs": [],
   "source": [
    "data = [64, 34, 25, 12, 22, 11, 90]\n",
    "\n",
    "# 기본 정렬 (오름차순)\n",
    "sorted_data = sorted(data)\n",
    "print(\"오름차순 정렬:\", sorted_data)\n",
    "\n",
    "# 내림차순 정렬\n",
    "sorted_data_desc = sorted(data, reverse=True)\n",
    "print(\"내림차순 정렬:\", sorted_data_desc)\n",
    "\n",
    "# 키를 사용한 정렬 (길이를 기준으로 정렬)\n",
    "words = [\"apple\", \"banana\", \"cherry\", \"date\"]\n",
    "sorted_words = sorted(words, key=len)\n",
    "print(\"길이 기준 정렬:\", sorted_words)"
   ]
  },
  {
   "cell_type": "markdown",
   "metadata": {},
   "source": [
    "### **이터러블**\n",
    "\n",
    "- 파이썬에서 이터러블(iterable)은 순회할 수 있는 객체를 말합니다.\n",
    "- 이터러블 객체는 하나씩 접근할 수 있는 요소의 집합입니다.\n",
    "- 파이썬의 기본적인 이터러블 객체에는 리스트, 튜플, 문자열, 딕셔너리, 세트 등이 포함됩니다. \n",
    "\n",
    "- Python에서 `sorted()` 함수는 다양한 이터러블(iterable) 타입을 정렬할 수 있습니다.\n",
    "- 이터러블은 반복 가능한 객체로, 하나씩 순회할 수 있는 객체를 의미합니다."
   ]
  },
  {
   "cell_type": "markdown",
   "metadata": {},
   "source": [
    "### 이터러블의 종류\n",
    "\n",
    "1. **리스트 (List)**\n",
    "    - 예: `[1, 2, 3]`\n",
    "    - 가장 일반적인 이터러블 타입입니다. 리스트는 순서가 있으며, 인덱스를 통해 접근할 수 있습니다.\n",
    "2. **튜플 (Tuple)**\n",
    "    - 예: `(1, 2, 3)`\n",
    "    - 리스트와 유사하지만, 튜플은 불변(immutable)입니다. 한번 생성된 후에는 변경할 수 없습니다.\n",
    "3. **문자열 (String)**\n",
    "    - 예: `'abc'`\n",
    "    - 문자열도 이터러블로, 각 문자를 순회할 수 있습니다.\n",
    "4. **딕셔너리 (Dictionary)**\n",
    "    - 예: `{'a': 1, 'b': 2, 'c': 3}`\n",
    "    - 딕셔너리 자체는 순서가 없지만, 키(key), 값(value), 또는 (키, 값) 쌍을 이터러블로 순회할 수 있습니다.\n",
    "5. **집합 (Set)**\n",
    "    - 예: `{1, 2, 3}`\n",
    "    - 집합은 순서가 없고, 중복을 허용하지 않는 이터러블입니다.\n",
    "6. **레인지 (Range)**\n",
    "    - 예: `range(10)`\n",
    "    - 주어진 범위 내의 숫자 시퀀스를 생성하는 이터러블입니다.\n",
    "7. **파일 객체 (File Object)**\n",
    "    - 예: `open('file.txt')`\n",
    "    - 파일 객체도 이터러블로, 한 줄씩 읽어올 수 있습니다.\n",
    "8. **제너레이터 (Generator)**\n",
    "    - 예: `(x for x in range(10))`\n",
    "    - 제너레이터는 값을 즉석에서 생성하는 이터러블입니다. 메모리를 절약하면서 큰 데이터셋을 처리할 때 유용합니다.\n",
    "9. **이터레이터 (Iterator)**\n",
    "    - 예: `iter([1, 2, 3])`\n",
    "    - 이터레이터는 `__iter__()`와 `__next__()` 메서드를 구현한 객체입니다. 이터러블은 `iter()` 함수를 통해 이터레이터로 변환할 수 있습니다."
   ]
  },
  {
   "cell_type": "markdown",
   "metadata": {},
   "source": [
    "### 정렬 가능한 이터러블 예시\n",
    "\n",
    "`sorted()` 함수는 다음과 같은 이터러블을 정렬할 수 있습니다.\n",
    "\n",
    "1. **리스트**"
   ]
  },
  {
   "cell_type": "code",
   "execution_count": null,
   "metadata": {},
   "outputs": [],
   "source": [
    "my_list = [3, 1, 4, 1, 5, 9]\n",
    "sorted_list = sorted(my_list)\n",
    "# 결과: [1, 1, 3, 4, 5, 9]"
   ]
  },
  {
   "cell_type": "markdown",
   "metadata": {},
   "source": [
    "2. **튜플**"
   ]
  },
  {
   "cell_type": "code",
   "execution_count": null,
   "metadata": {},
   "outputs": [],
   "source": [
    "my_tuple = (3, 1, 4, 1, 5, 9)\n",
    "sorted_tuple = sorted(my_tuple)\n",
    "# 결과: [1, 1, 3, 4, 5, 9]"
   ]
  },
  {
   "cell_type": "markdown",
   "metadata": {},
   "source": [
    "3. **문자열**"
   ]
  },
  {
   "cell_type": "code",
   "execution_count": null,
   "metadata": {},
   "outputs": [],
   "source": [
    "my_string = \"python\"\n",
    "sorted_string = sorted(my_string)\n",
    "# 결과: ['h', 'n', 'o', 'p', 't', 'y']"
   ]
  },
  {
   "cell_type": "markdown",
   "metadata": {},
   "source": [
    "4. **딕셔너리 (키 기준)**"
   ]
  },
  {
   "cell_type": "code",
   "execution_count": null,
   "metadata": {},
   "outputs": [],
   "source": [
    "my_dict = {'b': 2, 'a': 1, 'c': 3}\n",
    "sorted_keys = sorted(my_dict)\n",
    "# 결과: ['a', 'b', 'c']"
   ]
  },
  {
   "cell_type": "markdown",
   "metadata": {},
   "source": [
    "5. **집합**"
   ]
  },
  {
   "cell_type": "code",
   "execution_count": null,
   "metadata": {},
   "outputs": [],
   "source": [
    "my_set = {3, 1, 4, 1, 5, 9}\n",
    "sorted_set = sorted(my_set)\n",
    "# 결과: [1, 3, 4, 5, 9]"
   ]
  },
  {
   "cell_type": "markdown",
   "metadata": {},
   "source": [
    "6. **레인지**"
   ]
  },
  {
   "cell_type": "code",
   "execution_count": null,
   "metadata": {},
   "outputs": [],
   "source": [
    "my_range = range(10, 0, -1)\n",
    "sorted_range = sorted(my_range)\n",
    "# 결과: [1, 2, 3, 4, 5, 6, 7, 8, 9, 10]"
   ]
  },
  {
   "cell_type": "markdown",
   "metadata": {},
   "source": [
    "### 정렬 불가능한 이터러블 예시\n",
    "\n",
    "- 비교할 수 없는 요소들이 섞여 있는 이터러블은 정렬할 수 없습니다."
   ]
  },
  {
   "cell_type": "code",
   "execution_count": null,
   "metadata": {},
   "outputs": [],
   "source": [
    "mixed_list = [3, 'apple', 1, 'banana']\n",
    "try:\n",
    "    sorted_list = sorted(mixed_list)\n",
    "except TypeError as e:\n",
    "    print(\"Error:\", e)\n",
    "# 결과: Error: '<' not supported between instances of 'str' and 'int'"
   ]
  },
  {
   "cell_type": "markdown",
   "metadata": {},
   "source": [
    "### 정리\n",
    "\n",
    "- **정렬 가능한 이터러블**: 리스트, 튜플, 문자열, 집합, 레인지, 이터레이터, 제너레이터\n",
    "- **정렬 불가능한 이터러블**: 비교할 수 없는 요소들이 포함된 경우 (예: 숫자와 문자열의 혼합)"
   ]
  },
  {
   "cell_type": "markdown",
   "metadata": {},
   "source": [
    "### `sort()` 메서드\n",
    "\n",
    "`sort()` 메서드는 리스트 객체의 메서드로, 리스트 자체를 정렬합니다. 이 메서드는 리스트를 직접 변경하며, 새로운 리스트를 반환하지 않습니다."
   ]
  },
  {
   "cell_type": "code",
   "execution_count": null,
   "metadata": {},
   "outputs": [],
   "source": [
    "list.sort(key=None, reverse=False)"
   ]
  },
  {
   "cell_type": "markdown",
   "metadata": {},
   "source": [
    "### 매개변수\n",
    "\n",
    "- **key**: 정렬 기준을 제공하는 함수. 각 요소에 대해 호출되어 비교에 사용됩니다.\n",
    "- **reverse**: 정렬 순서를 역순으로 할지 여부. 기본값은 `False` (오름차순 정렬)."
   ]
  },
  {
   "cell_type": "code",
   "execution_count": null,
   "metadata": {},
   "outputs": [],
   "source": [
    "data = [64, 34, 25, 12, 22, 11, 90]\n",
    "\n",
    "# 기본 정렬 (오름차순)\n",
    "data.sort()\n",
    "print(\"오름차순 정렬:\", data)\n",
    "\n",
    "# 내림차순 정렬\n",
    "data.sort(reverse=True)\n",
    "print(\"내림차순 정렬:\", data)\n",
    "\n",
    "# 키를 사용한 정렬 (길이를 기준으로 정렬)\n",
    "words = [\"apple\", \"banana\", \"cherry\", \"date\"]\n",
    "words.sort(key=len)\n",
    "print(\"길이 기준 정렬:\", words)"
   ]
  },
  {
   "cell_type": "markdown",
   "metadata": {},
   "source": [
    "### `sorted()`와 `sort()`의 비교\n",
    "\n",
    "1. **반환 값**\n",
    "    - `sorted()`: 새로운 정렬된 리스트를 반환합니다. 원본 리스트는 변경되지 않습니다.\n",
    "    - `sort()`: 리스트 객체의 메서드로, 원본 리스트를 직접 정렬하며 반환 값은 `None`입니다.\n",
    "2. **사용 대상**\n",
    "    - `sorted()`: 모든 반복 가능한 객체(iterable)를 정렬할 수 있습니다. 예를 들어, 리스트, 튜플, 문자열, 딕셔너리 키 등.\n",
    "    - `sort()`: 리스트 객체에서만 사용 가능합니다.\n",
    "3. **문법**\n",
    "    - `sorted()`: 함수 형태로 호출됩니다. 예: `sorted(list)`\n",
    "    - `sort()`: 리스트 객체의 메서드로 호출됩니다. 예: `list.sort()`"
   ]
  },
  {
   "cell_type": "code",
   "execution_count": null,
   "metadata": {},
   "outputs": [],
   "source": [
    "data = [64, 34, 25, 12, 22, 11, 90]\n",
    "\n",
    "# sorted() 사용\n",
    "sorted_data = sorted(data)\n",
    "print(\"sorted() 결과:\", sorted_data)\n",
    "print(\"원본 리스트:\", data)  # 원본 리스트는 변경되지 않음\n",
    "\n",
    "# sort() 사용\n",
    "data.sort()\n",
    "print(\"sort() 결과:\", data)  # 원본 리스트가 변경됨"
   ]
  },
  {
   "cell_type": "markdown",
   "metadata": {},
   "source": [
    "# 백준 수 정렬하기2 문제"
   ]
  },
  {
   "cell_type": "code",
   "execution_count": null,
   "metadata": {},
   "outputs": [],
   "source": [
    "import sys\n",
    "input = sys.stdin.read\n",
    "\n",
    "# 전체 입력을 읽어와서 줄 단위로 분리\n",
    "data = input().split()\n",
    "\n",
    "# 첫 번째 줄은 n, 나머지는 정렬할 숫자들\n",
    "n = int(data[0])\n",
    "arr = list(map(int, data[1:]))\n",
    "\n",
    "# 중복 제거 및 정렬\n",
    "arr = sorted(set(arr))\n",
    "\n",
    "# 한 줄에 하나씩 출력\n",
    "for num in arr:\n",
    "    print(num)"
   ]
  },
  {
   "cell_type": "markdown",
   "metadata": {},
   "source": [
    "# 백준 대표값2 문제"
   ]
  },
  {
   "cell_type": "code",
   "execution_count": null,
   "metadata": {},
   "outputs": [],
   "source": [
    "x = []\n",
    "\n",
    "for i in range(5):\n",
    "    x.append(int(input()))\n",
    "x.sort()\n",
    "\n",
    "print(int(sum(x)/5))\n",
    "print(x[2])\n",
    "\n",
    "# arr = [int(input()) for _ in range(5)]\n",
    "# 평균 = int(sum(arr) / len(arr))\n",
    "# 중앙값 = sorted(arr)[2]"
   ]
  },
  {
   "cell_type": "markdown",
   "metadata": {},
   "source": [
    "# 백준 수 커트라인 문제"
   ]
  },
  {
   "cell_type": "code",
   "execution_count": null,
   "metadata": {},
   "outputs": [],
   "source": [
    "n, m = map(int,input().split())\n",
    "\n",
    "scores = list(map(int,input().split()))\n",
    "scores.sort(reverse=True)\n",
    "\n",
    "print(scores[m-1])"
   ]
  },
  {
   "cell_type": "markdown",
   "metadata": {},
   "source": [
    "# 백준 소트인사이드 문제"
   ]
  },
  {
   "cell_type": "code",
   "execution_count": null,
   "metadata": {},
   "outputs": [],
   "source": [
    "n = int(input())\n",
    " \n",
    "arr = []\n",
    "for i in str(n):\n",
    "    arr.append(int(i))\n",
    "# arr = list(map(int,str(n))) 으로 변경가능\n",
    "    \n",
    "arr.sort(reverse=True) # 내림차순\n",
    " \n",
    "for i in arr:\n",
    "    print(i,end='')"
   ]
  },
  {
   "cell_type": "code",
   "execution_count": null,
   "metadata": {},
   "outputs": [],
   "source": [
    "arr = ''.join(sorted(input(), reverse=True))\n",
    "print(arr)\n",
    "\n",
    "# join 이용하는 방법.\n"
   ]
  },
  {
   "cell_type": "code",
   "execution_count": null,
   "metadata": {},
   "outputs": [],
   "source": [
    "arr = sorted(input(), reverse=True)\n",
    "\n",
    "for element in arr:\n",
    "    print(element, end='')\n",
    "    \n",
    "# sorted 이용 방법."
   ]
  },
  {
   "cell_type": "markdown",
   "metadata": {},
   "source": [
    "# 백준 좌표 정렬하기 문제"
   ]
  },
  {
   "cell_type": "code",
   "execution_count": null,
   "metadata": {},
   "outputs": [],
   "source": [
    "n = int(input())\n",
    "arr = []\n",
    "\n",
    "for i in range(n):\n",
    "    a,b = map(int,input().split())\n",
    "    arr.append((a,b))\n",
    "arr.sort()\n",
    "\n",
    "for i in range(n):\n",
    "    print(arr[i][0],arr[i][1])"
   ]
  },
  {
   "cell_type": "code",
   "execution_count": null,
   "metadata": {},
   "outputs": [],
   "source": [
    "n = int(input())\n",
    "# coordinates = 좌표\n",
    "coords = [list(map(input().split() for _ in range(n)))]\n",
    "coords.sort()\n",
    "\n",
    "for x, y in coords:\n",
    "    print(x, y)"
   ]
  },
  {
   "cell_type": "markdown",
   "metadata": {},
   "source": [
    "## `key` 매개변수의 활용\n",
    "\n",
    "- `key` 매개변수는 각 요소에 대해 호출되는 함수를 지정하여 정렬 기준을 커스터마이즈할 수 있습니다. 이를 통해 다양한 기준으로 정렬할 수 있습니다."
   ]
  },
  {
   "cell_type": "code",
   "execution_count": null,
   "metadata": {},
   "outputs": [],
   "source": [
    "# 리스트를 절대값을 기준으로 정렬\n",
    "numbers = [-5, -2, -1, 0, 1, 3, 7, 8, -9]\n",
    "sorted_numbers = sorted(numbers, key=abs)\n",
    "print(\"절대값 기준 정렬:\", sorted_numbers)\n",
    "\n",
    "# 딕셔너리의 리스트를 특정 키를 기준으로 정렬\n",
    "students = [\n",
    "    {\"name\": \"John\", \"age\": 25},\n",
    "    {\"name\": \"Jane\", \"age\": 22},\n",
    "    {\"name\": \"Dave\", \"age\": 23}\n",
    "]\n",
    "\n",
    "# 나이를 기준으로 정렬\n",
    "sorted_students = sorted(students, key=lambda x: x[\"age\"])\n",
    "print(\"나이 기준 정렬:\", sorted_students)\n",
    "\n",
    "# 이름을 기준으로 정렬\n",
    "sorted_students_by_name = sorted(students, key=lambda x: x[\"name\"])\n",
    "print(\"이름 기준 정렬:\", sorted_students_by_name)\n"
   ]
  },
  {
   "cell_type": "markdown",
   "metadata": {},
   "source": [
    "### `key` 매개변수를 사용하여 복잡한 데이터 구조를 정렬할 때의 예제\n",
    "\n",
    "- `key` 매개변수를 사용하면 리스트의 요소가 복잡한 데이터 구조일 때도 쉽게 정렬할 수 있습니다.\n",
    "- 딕셔너리의 리스트, 객체의 리스트 등을 정렬할 수 있습니다.\n",
    "\n",
    "### 예제 1: 딕셔너리의 리스트 정렬\n",
    "\n",
    "- 학생들의 딕셔너리 리스트를 나이, 이름, 성적 등을 기준으로 정렬해 보겠습니다."
   ]
  },
  {
   "cell_type": "code",
   "execution_count": null,
   "metadata": {},
   "outputs": [],
   "source": [
    "students = [\n",
    "    {\"name\": \"John\", \"age\": 25, \"grade\": 85},\n",
    "    {\"name\": \"Jane\", \"age\": 22, \"grade\": 90},\n",
    "    {\"name\": \"Dave\", \"age\": 23, \"grade\": 88},\n",
    "    {\"name\": \"Alice\", \"age\": 24, \"grade\": 95}\n",
    "]\n",
    "\n",
    "# 나이 기준으로 정렬\n",
    "sorted_by_age = sorted(students, key=lambda x: x[\"age\"])\n",
    "print(\"나이 기준 정렬:\", sorted_by_age)\n",
    "\n",
    "# 이름 기준으로 정렬\n",
    "sorted_by_name = sorted(students, key=lambda x: x[\"name\"])\n",
    "print(\"이름 기준 정렬:\", sorted_by_name)\n",
    "\n",
    "# 성적 기준으로 정렬\n",
    "sorted_by_grade = sorted(students, key=lambda x: x[\"grade\"])\n",
    "print(\"성적 기준 정렬:\", sorted_by_grade)\n"
   ]
  },
  {
   "cell_type": "markdown",
   "metadata": {},
   "source": [
    "### 예제 2: 복합 기준 정렬\n",
    "\n",
    "- 여러 기준을 사용하여 정렬할 수도 있습니다.\n",
    "- 예를 들어, 나이와 성적을 모두 고려하여 정렬할 수 있습니다."
   ]
  },
  {
   "cell_type": "code",
   "execution_count": null,
   "metadata": {},
   "outputs": [],
   "source": [
    "students = [\n",
    "    {\"name\": \"John\", \"age\": 25, \"grade\": 85},\n",
    "    {\"name\": \"Jane\", \"age\": 22, \"grade\": 90},\n",
    "    {\"name\": \"Anna\", \"age\": 22, \"grade\": 91},\n",
    "    {\"name\": \"Dave\", \"age\": 23, \"grade\": 88},\n",
    "    {\"name\": \"Alice\", \"age\": 24, \"grade\": 95}\n",
    "]\n",
    "\n",
    "# 나이와 성적 기준으로 정렬 (먼저 나이, 그 다음 성적)\n",
    "sorted_by_age_then_grade = sorted(students, key=lambda x: (x[\"age\"], x[\"grade\"]))\n",
    "print(\"나이와 성적 기준 정렬:\", sorted_by_age_then_grade)"
   ]
  },
  {
   "cell_type": "markdown",
   "metadata": {},
   "source": [
    "### 예제 3: 클래스 객체의 리스트 정렬\n",
    "\n",
    "- 클래스 객체의 리스트를 정렬하는 예제입니다."
   ]
  },
  {
   "cell_type": "code",
   "execution_count": null,
   "metadata": {},
   "outputs": [],
   "source": [
    "class Student:\n",
    "    def __init__(self, name, age, grade):\n",
    "        self.name = name\n",
    "        self.age = age\n",
    "        self.grade = grade\n",
    "\n",
    "    def __repr__(self):\n",
    "        return f\"{self.name}({self.age}, {self.grade})\"\n",
    "\n",
    "students = [\n",
    "    Student(\"John\", 25, 85),\n",
    "    Student(\"Jane\", 22, 90),\n",
    "    Student(\"Dave\", 23, 88),\n",
    "    Student(\"Alice\", 24, 95)\n",
    "]\n",
    "\n",
    "# 나이 기준으로 정렬\n",
    "sorted_students_by_age = sorted(students, key=lambda student: student.age)\n",
    "print(\"나이 기준 정렬:\", sorted_students_by_age)\n",
    "\n",
    "# 이름 기준으로 정렬\n",
    "sorted_students_by_name = sorted(students, key=lambda student: student.name)\n",
    "print(\"이름 기준 정렬:\", sorted_students_by_name)\n",
    "\n",
    "# 성적 기준으로 정렬\n",
    "sorted_students_by_grade = sorted(students, key=lambda student: student.grade)\n",
    "print(\"성적 기준 정렬:\", sorted_students_by_grade)\n"
   ]
  },
  {
   "cell_type": "markdown",
   "metadata": {},
   "source": [
    "### 요약\n",
    "\n",
    "- `sorted()`는 새로운 정렬된 리스트를 반환하고, 원본 리스트는 변경되지 않습니다. 반복 가능한 모든 객체에 사용할 수 있습니다.\n",
    "- `sort()`는 리스트 객체의 메서드로, 리스트 자체를 정렬합니다. 반환 값은 `None`이며, 원본 리스트가 변경됩니다.\n",
    "- 두 함수 모두 `key` 매개변수를 통해 정렬 기준을 지정할 수 있으며, `reverse` 매개변수를 통해 오름차순 또는 내림차순 정렬을 지정할 수 있습니다."
   ]
  },
  {
   "cell_type": "markdown",
   "metadata": {},
   "source": [
    "# 백준 좌표 정렬하기2 문제"
   ]
  },
  {
   "cell_type": "code",
   "execution_count": null,
   "metadata": {},
   "outputs": [],
   "source": [
    "n = int(input())\n",
    "\n",
    "coords = [list(map(int(input().split()))) for _ in range(n)]\n",
    "\n",
    "sorted_coords = sorted(coords, key=lambda x: x[1])\n",
    "# sorted(coords, key=lambda x: (x[1], x[0]))\n",
    "\n",
    "for x, y in sorted_coords:\n",
    "    print(x, y)"
   ]
  },
  {
   "cell_type": "markdown",
   "metadata": {},
   "source": [
    "# 프로그래머스 K번째 수 문제"
   ]
  },
  {
   "cell_type": "code",
   "execution_count": null,
   "metadata": {},
   "outputs": [],
   "source": [
    "def solution(array, commands):\n",
    "    answer = []\n",
    "    \n",
    "    for i in commands:\n",
    "        ary = array[i[0]-1: i[1]]    # 문제에서 주어진 크기만큼 자르기\n",
    "        ary.sort()    # sort 함수로 정렬\n",
    "        answer.append(ary[i[2]-1])    # k 번째 값 집어넣기\n",
    "        \n",
    "    return answer\n",
    "\n",
    "# 초기화: answer 리스트를 빈 리스트로 초기화합니다.\n",
    "# 반복문: commands 리스트를 순회하며 각 명령을 i에 할당합니다.\n",
    "# 슬라이싱: array에서 i[0]-1부터 i[1]까지의 부분 배열을 ary에 할당합니다.\n",
    "# 정렬: ary를 정렬합니다.\n",
    "# 추가: 정렬된 ary의 i[2]-1번째 값을 answer 리스트에 추가합니다.\n",
    "# 반환: 최종적으로 answer 리스트를 반환합니다."
   ]
  },
  {
   "cell_type": "code",
   "execution_count": null,
   "metadata": {},
   "outputs": [],
   "source": [
    "def solution(array, commands):\n",
    "    return list(map(lambda x:sorted(array[x[0]-1:x[1]])[x[2]-1], commands))\n",
    "\n",
    "# lambda 함수: 각 명령 x에 대해 다음 작업을 수행하는 익명 함수를 정의합니다.\n",
    "# array[x[0]-1:x[1]]: array에서 부분 배열을 슬라이싱합니다.\n",
    "# sorted(array[x[0]-1:x[1]]): 슬라이싱된 부분 배열을 정렬합니다.\n",
    "# sorted(array[x[0]-1:x[1]])[x[2]-1]: 정렬된 배열에서 x[2]-1번째 값을 추출합니다.\n",
    "# map 함수: commands 리스트의 각 요소에 대해 lambda 함수를 적용합니다.\n",
    "# list로 변환: map 객체를 리스트로 변환하여 반환합니다."
   ]
  },
  {
   "cell_type": "code",
   "execution_count": null,
   "metadata": {},
   "outputs": [],
   "source": [
    "import heapq\n",
    "\n",
    "def solution(array, commands):\n",
    "    \n",
    "    answer = []\n",
    "    \n",
    "    for command in commands:\n",
    "    # commands 리스트를 순회하며 각 명령을 command에 할당합니다.\n",
    "        start, end, k = command\n",
    "        sub_array = array[start-1:end]\n",
    "        # array에서 start-1부터 end까지의 부분 배열을 sub_array에 할당합니다.\n",
    "        \n",
    "        heapq.heapify(sub_array)\n",
    "        # heapq.heapify(sub_array)를 사용하여 부분 배열을 힙으로 변환합니다\n",
    "        kth_smallest = heapq.nsmallest(k, sub_array)[-1]\n",
    "        # sub_array 에서 k 번째로 작은 원소를 찾는다.\n",
    "        # 이 함수는 k 개의 가장 작은 요소들을 리스트로 반환,\n",
    "        # k번째 요소를 얻기 위해 [-1] 인덱싱을 사용.\n",
    "        \n",
    "        answer.append(kth_smallest)\n",
    "        \n",
    "    return answer"
   ]
  },
  {
   "cell_type": "code",
   "execution_count": null,
   "metadata": {},
   "outputs": [],
   "source": [
    "def solution(array, commands):\n",
    "    answer = []\n",
    "    for i, j, k in commands:\n",
    "        slice_array = array[i-1: j]\n",
    "        sorted_array = sorted(slice_array)\n",
    "        kth_number = sorted_array[k-1]\n",
    "        answer.append(kth_number)\n",
    "    return answer"
   ]
  },
  {
   "cell_type": "markdown",
   "metadata": {},
   "source": [
    "# 프로그래머스 가장 큰수 LV2 문제 "
   ]
  },
  {
   "cell_type": "code",
   "execution_count": null,
   "metadata": {},
   "outputs": [],
   "source": [
    "def solution(numbers):\n",
    "    numbers = list(map(str, numbers))\n",
    "    numbers.sort(key=lambda x: x*3, reverse=True)\n",
    "    return str(int(''.join(numbers)))"
   ]
  },
  {
   "cell_type": "code",
   "execution_count": null,
   "metadata": {},
   "outputs": [],
   "source": [
    "from functools import cmp_to_key\n",
    "\n",
    "def compare(x, y):  # x: 왼쪽 y: 오른쪽\n",
    "    if int(x + y) > int(y + x):\n",
    "        return 1\n",
    "    else:\n",
    "        return -1\n",
    "\n",
    "def solution(numbers):\n",
    "    numbers = [0,0]\n",
    "    str_numbers = list(map(str, numbers))\n",
    "    str_numbers.sort(key=cmp_to_key(compare), reverse=True)\n",
    "    return str(int(''.join(str_numbers)))"
   ]
  },
  {
   "cell_type": "code",
   "execution_count": null,
   "metadata": {},
   "outputs": [],
   "source": [
    "from functools import cmp_to_key\n",
    "\n",
    "def compare(x, y):\n",
    "    if x + y > y + x:\n",
    "        return -1\n",
    "    elif x + y < y + x:\n",
    "        return 1\n",
    "    else:\n",
    "        return 0\n",
    "\n",
    "def solution(numbers):\n",
    "    numbers = list(map(str, numbers))\n",
    "    numbers.sort(key=cmp_to_key(compare))\n",
    "    return str(int(''.join(numbers)))\n",
    "\n",
    "# functools, cmp_to_key 예시\n",
    "# from functools import cmp_to_key\n",
    "\n",
    "# # 오름차순.\n",
    "# def compare(x, y):\n",
    "#     if x > y:\n",
    "#         return 1    # y가 x 오른쪽에 위치 시키게 한다.\n",
    "#     else:\n",
    "#         return -1   # x가 y 오른쪽에 위치 시키게 한다.\n",
    "\n",
    "# a = [5,3,4,2,4]\n",
    "# print(sorted(a, key=cmp_to_key(compare)))\n",
    "\n",
    "# def compare(x, y):\n",
    "#     if len(x) > len(y):\n",
    "#         return 1\n",
    "#     else:\n",
    "#         return -1\n",
    "\n",
    "# a = [5,3,4,2,4]\n",
    "# print(sorted(a, key=cmp_to_key(compare)))"
   ]
  },
  {
   "cell_type": "code",
   "execution_count": null,
   "metadata": {},
   "outputs": [],
   "source": [
    "def solution(nubers):\n",
    "    numbers = list(map(str, numbers))\n",
    "    \n",
    "    for i in range(1, len(nubers)):\n",
    "        key = numbers[i]\n",
    "        j = i -1\n",
    "        \n",
    "        while j >= 0 and (numbers[j] + key < key + numbers[j]):\n",
    "            numbers[j + 1] = nubers[j]\n",
    "            j -= 1\n",
    "        nubers[j + 1] = key\n",
    "        \n",
    "    return str(int(''.join(numbers)))"
   ]
  },
  {
   "cell_type": "code",
   "execution_count": null,
   "metadata": {},
   "outputs": [],
   "source": [
    "import heapq\n",
    "\n",
    "def solution(numbers):\n",
    "    numbers = list(map(str, numbers))\n",
    "    heapq.heapify(numbers)\n",
    "    sorted_numbers = []\n",
    "\n",
    "    while numbers:\n",
    "        sorted_numbers.append(heapq.heappop(numbers))\n",
    "\n",
    "    sorted_numbers.sort(key=lambda x: x*3, reverse=True)\n",
    "    return str(int(''.join(sorted_numbers)))\n"
   ]
  },
  {
   "cell_type": "markdown",
   "metadata": {},
   "source": [
    "# 프로그래머스 H-Index 문제"
   ]
  },
  {
   "cell_type": "code",
   "execution_count": null,
   "metadata": {},
   "outputs": [],
   "source": [
    "def solution(citations):\n",
    "    citations.sort(reverse=True)\n",
    "    for i in range(len(citations)):\n",
    "        if citations[i] <= i:\n",
    "            return i\n",
    "    return len(citations)"
   ]
  },
  {
   "cell_type": "code",
   "execution_count": null,
   "metadata": {},
   "outputs": [],
   "source": [
    "def solution(citations):\n",
    "    citations.sort(reverse=True)\n",
    "    h_index = 0\n",
    "    \n",
    "    for i, c in enumerate(citations):\n",
    "        if c >= i + 1:\n",
    "            h_index = i + 1\n",
    "        else:\n",
    "            break\n",
    "        \n",
    "    return h_index"
   ]
  },
  {
   "cell_type": "code",
   "execution_count": null,
   "metadata": {},
   "outputs": [],
   "source": [
    "def solution(citations):\n",
    "    n = len(citations)\n",
    "    \n",
    "    count = [0] * (n +1)\n",
    "    \n",
    "    for c in citations:\n",
    "        if c >= n:\n",
    "            count[n] += 1\n",
    "        else:\n",
    "            count[c] += 1\n",
    "            \n",
    "    total = 0\n",
    "    \n",
    "    for i in range(n, -1, -1):\n",
    "        total += count[i]\n",
    "        if total >= i:\n",
    "            return i\n",
    "        \n",
    "    return 0"
   ]
  },
  {
   "cell_type": "code",
   "execution_count": null,
   "metadata": {},
   "outputs": [],
   "source": [
    "def solution(citations):\n",
    "    citations.sort()\n",
    "    n = len(citations)\n",
    "    left, right = 0, n\n",
    "    \n",
    "    while left < right:\n",
    "        mid = (left + right) // 2\n",
    "        if citations[mid] >= n - mid:\n",
    "            right = mid\n",
    "        else:\n",
    "            left = mid + 1\n",
    "            \n",
    "    return n - left"
   ]
  },
  {
   "cell_type": "markdown",
   "metadata": {},
   "source": [
    "# 백준 단어 정렬 문제"
   ]
  },
  {
   "cell_type": "code",
   "execution_count": null,
   "metadata": {},
   "outputs": [],
   "source": [
    "n = int(input())\n",
    "# 숫자 입력 받기\n",
    "# words = set()\n",
    "# 비어있는 집합을 만들어서 중복된 단어 제거\n",
    "\n",
    "# for _ in range(13):\n",
    "#     word = input()\n",
    "#     words.add(word)\n",
    "\n",
    "words = set(input() for _ in range(n))\n",
    "    \n",
    "sotred_words = sorted(words, key=lambda x: (len(x), x))\n",
    "# 단어의 길이, 사전순 으로 정렬.\n",
    "\n",
    "for word in sotred_words:\n",
    "    print(word)\n",
    "    \n",
    "# 자료를 추가 -> 정렬 -> 출력"
   ]
  },
  {
   "cell_type": "code",
   "execution_count": null,
   "metadata": {},
   "outputs": [],
   "source": [
    "import heapq\n",
    "\n",
    "n = int(input())\n",
    "\n",
    "heap = list()\n",
    "words =set()\n",
    "\n",
    "for _ in range(n):\n",
    "    word = input()\n",
    "    if word not in words:\n",
    "    # 단어 사전에 아직 없는 단어라면 (중복 확인)\n",
    "        heapq.heappush(words, (len(word), word))\n",
    "        # (heap, item) heap 배열에 item을 정렬된 상태로 추가해주겠다.\n",
    "        words.add(word)\n",
    "        # 단어가 등장할 때마다 단어 사전에 추가    \n",
    "while heap:\n",
    "    word = heapq.heappop(heap)\n",
    "    print(word[1]) # 튜플에서 두 번째 원소만 출력.\n",
    "    \n",
    "\n",
    "# 정렬이 된 상태로 자료를 추가하고 그대로 출력"
   ]
  },
  {
   "cell_type": "markdown",
   "metadata": {},
   "source": [
    "# 리트코드 56번 문제"
   ]
  },
  {
   "cell_type": "code",
   "execution_count": null,
   "metadata": {},
   "outputs": [],
   "source": [
    "from typing import List\n",
    "\n",
    "class Solution:\n",
    "    def merge(self, intervals: List[List[int]]) -> List[List[int]]:\n",
    "        merged = []\n",
    "        for i in sorted(intervals, key=lambda x: x[0]):\n",
    "            if merged and i[0] <= merged[-1][1]:\n",
    "                merged[-1][1] = max(merged[-1][1], i[1])\n",
    "            else:\n",
    "                merged += i,\n",
    "                # merged += i, = 튜플로 생성 한다. 콤마가 튜플을 생성하는 역할.\n",
    "                # 콤마는 중첩 리스트로 만들어주는 역할을 한다.\n",
    "                # 대괄호 사용하는것과 같아서 편한 방법으로 하면 됨.\n",
    "        return merged"
   ]
  },
  {
   "cell_type": "code",
   "execution_count": null,
   "metadata": {},
   "outputs": [],
   "source": [
    "from typing import List\n",
    "\n",
    "class Solution:\n",
    "    def merge(self, intervals: List[List[int]]) -> List[List[int]]:\n",
    "        result = []\n",
    "        for i in sorted(intervals):\n",
    "            if result and i[0] <= result[-1][1]:\n",
    "                result[-1][1] = max(result[-1][1], i[1])\n",
    "            else:\n",
    "                result += [i]\n",
    "        return result"
   ]
  },
  {
   "cell_type": "markdown",
   "metadata": {},
   "source": [
    "# 리트코드 973번 문제"
   ]
  },
  {
   "cell_type": "code",
   "execution_count": null,
   "metadata": {},
   "outputs": [],
   "source": [
    "from typing import List\n",
    "import heapq\n",
    "\n",
    "class Solution:\n",
    "    def kClosest(self, points: List[List[int]], k: int) -> List[List[int]]:\n",
    "        heap = []\n",
    "        \n",
    "        for (x,y) in points:\n",
    "            dist = x ** 2 + y ** 2\n",
    "            # dist = math.sqrt(x ** 2 + y ** 2)\n",
    "            # import math 하면 재곱근 계산 가능.\n",
    "            heapq.heappush(heap, (dist, x, y))\n",
    "            \n",
    "        result = []\n",
    "        \n",
    "        for _ in range(k):\n",
    "            (dist, x, y) = heapq.heappop(heap)\n",
    "            # _, (x, y) = heapq.heappop(heap)\n",
    "            # dist는 사용은 안할거라 _ 로 처리해도 가능.\n",
    "            result.append((x,y))\n",
    "            \n",
    "        return result"
   ]
  },
  {
   "cell_type": "code",
   "execution_count": null,
   "metadata": {},
   "outputs": [],
   "source": [
    "class Solution:\n",
    "    def kClosest(self, points: List[List[int]], k: int) -> List[List[int]]:\n",
    "        points.sort(key=lambda x: x[0] ** 2 + x[1] ** 2)\n",
    "        return points[:k]"
   ]
  },
  {
   "cell_type": "markdown",
   "metadata": {},
   "source": [
    "## 웹 크롤링"
   ]
  },
  {
   "cell_type": "markdown",
   "metadata": {},
   "source": [
    "- **웹 크롤링의 기초 이해**\n",
    "    - HTML 구조와 웹 페이지 요소를 이해하고, 이를 통해 데이터를 추출하는 방법을 배웁니다.\n",
    "- **파이썬 라이브러리 활용**\n",
    "    - Requests와 BeautifulSoup 같은 파이썬 라이브러리를 이용하여 웹 페이지에서 데이터를 효율적으로 수집하는 방법을 배웁니다.\n",
    "- **동적 웹 페이지 처리**\n",
    "    - Selenium을 사용하여 JavaScript로 동적으로 렌더링되는 웹 페이지에서 데이터를 추출하는 방법을 학습합니다.\n",
    "- **데이터 저장 및 분석**\n",
    "    - 수집한 데이터를 CSV나 JSON 파일로 저장하고, 기본적인 데이터 전처리 및 분석 방법을 배웁니다.\n",
    "- 크롤링 실제 활용\n",
    "    - 실제 프로젝트를 통해 뉴스 기사 데이터를 수집하고, 이를 분석하여 의미 있는 정보를 도출하는 과정을 경험합니다.\n",
    "\n",
    "### 웹 크롤링의 개념\n",
    "\n",
    "- **웹 크롤링(Web Crawling)**\n",
    "    - 자동화된 스크립트를 사용하여 인터넷 상의 웹 페이지를 방문하고 데이터를 수집하는 과정\n",
    "    - 웹 크롤링을 통해 웹 사이트의 텍스트, 이미지, 링크 등 다양한 정보를 수집\n",
    "- **크롤러(Crawler)**\n",
    "    - 웹 크롤링을 수행하는 프로그램 또는 스크립트\n",
    "    - 웹 페이지의 구조를 이해하고, 필요한 데이터를 추출하여 저장합니다.\n",
    "- **스크래핑(Scraping)**\n",
    "    - 특정 웹 페이지에서 필요한 데이터를 추출하는 과정\n",
    "    - 웹 크롤링과 스크래핑은 종종 혼용되어 사용되지만, 스크래핑은 크롤링의 일부분으로 볼 수 있습니다."
   ]
  },
  {
   "cell_type": "markdown",
   "metadata": {},
   "source": [
    "### 웹 크롤링의 활용 사례\n",
    "\n",
    "- **데이터 수집 및 분석:** 기업들은 웹 크롤링을 통해 경쟁사 분석, 시장 조사, 고객 리뷰 분석 등 다양한 목적으로 데이터를 수집하고 분석합니다.\n",
    "    - 예: e-커머스 사이트에서 상품 리뷰를 수집하여 분석\n",
    "- **뉴스 및 정보 수집:** 뉴스 기사, 블로그 포스트 등 최신 정보를 수집하여 트렌드 분석이나 여론 조사를 수행합니다.\n",
    "    - 예: 특정 주제에 대한 뉴스 기사를 수집하여 트렌드 분석\n",
    "- **학술 연구:** 연구자들은 웹 크롤링을 통해 대량의 데이터를 수집하여 연구에 활용합니다.\n",
    "    - 예: 소셜 미디어 데이터를 수집하여 사회적 현상 분석\n",
    "- **부동산 정보 수집:** 부동산 웹사이트에서 매물 정보를 수집하여 가격 비교 및 시장 분석에 활용합니다.\n",
    "    - 예: 부동산 매물 정보를 수집하여 지역별 가격 변동 분석\n",
    "- **주식 및 금융 데이터 수집:** 금융 웹사이트에서 주식 시세, 뉴스 등을 수집하여 투자 분석에 활용합니다.\n",
    "    - 예: 주식 시세 데이터를 수집하여 투자 전략 수립\n",
    "\n",
    "### 웹 크롤링의 장점 및 한계\n",
    "\n",
    "- **장점:**\n",
    "    - 대량의 데이터를 자동으로 수집할 수 있어 효율적\n",
    "    - 다양한 출처에서 데이터를 통합하여 분석 가능\n",
    "    - 사람의 개입 없이 24시간 데이터를 수집할 수 있음\n",
    "- **한계:**\n",
    "    - 웹사이트의 구조가 변경되면 크롤러가 작동하지 않을 수 있음\n",
    "    - 웹 크롤링은 법적, 윤리적 이슈를 동반할 수 있음\n",
    "    - 동적 웹 페이지의 경우, 크롤링이 어려울 수 있음"
   ]
  },
  {
   "cell_type": "markdown",
   "metadata": {},
   "source": [
    "### 웹 크롤링 시 주의사항\n",
    "\n",
    "### 1. 법적 이슈\n",
    "\n",
    "- **로봇 배제 표준(Robots.txt):** 많은 웹사이트는 robots.txt 파일을 통해 크롤러가 접근할 수 있는 영역과 접근할 수 없는 영역을 지정합니다. 크롤러는 이 파일을 확인하고 규칙을 준수해야 합니다.\n",
    "    - 예: `User-agent: * Disallow: /private/`\n",
    "        \n",
    "        <aside>\n",
    "        💡 HTTP 통신의 헤더 부분입니다.\n",
    "        \n",
    "        </aside>\n",
    "        \n",
    "- **저작권:** 웹 크롤링을 통해 수집한 데이터가 저작권으로 보호될 수 있습니다. 특히, 상업적 목적으로 데이터를 사용할 경우 저작권 문제를 사전에 해결해야 합니다.\n",
    "- **서비스 약관:** 웹사이트의 서비스 약관(Terms of Service)에는 크롤링에 대한 규정이 포함될 수 있습니다. 약관을 위반할 경우 법적 문제가 발생할 수 있습니다.\n",
    "- **개인정보 보호:** 개인정보가 포함된 데이터를 수집할 경우 개인정보 보호법을 준수해야 합니다. 예를 들어, 사용자 데이터 수집 시 GDPR(유럽 일반 데이터 보호 규칙)이나 CCPA(캘리포니아 소비자 개인정보 보호법) 등을 준수해야 합니다.\n",
    "\n",
    "### 2. 윤리적 고려사항\n",
    "\n",
    "- **과도한 요청 피하기:** 웹 크롤링은 웹 서버에 부하를 줄 수 있습니다. 과도한 요청을 보내지 않도록 주의해야 하며, 적절한 딜레이를 설정하는 것이 좋습니다.\n",
    "    - 예: 각 요청 사이에 1-2초 간격 두기\n",
    "- **공정 사용:** 수집한 데이터를 사용할 때 공정 사용 원칙(Fair Use)을 준수해야 합니다. 이는 데이터 사용 목적, 성격, 양 등을 고려하여 공정하게 사용하는 것을 의미합니다.\n",
    "- **투명성:** 데이터를 수집할 때 가능한 한 투명하게 작업하고, 필요 시 데이터 소유자에게 알리는 것이 좋습니다.\n",
    "\n",
    "### 3. 기술적 주의사항\n",
    "\n",
    "- **웹사이트 구조 변경:** 웹사이트의 구조가 변경되면 크롤러가 작동하지 않을 수 있습니다. 이를 해결하기 위해 크롤러를 지속적으로 업데이트해야 합니다.\n",
    "- **IP 차단:** 빈번한 요청으로 인해 IP가 차단될 수 있습니다. 이를 피하기 위해 프록시 서버를 이용하거나 요청 빈도를 조절해야 합니다.\n",
    "- **CAPTCHA 회피:** 일부 웹사이트는 봇을 막기 위해 CAPTCHA를 사용합니다. 이를 우회하기 위해서는 CAPTCHA 솔버를 사용하거나 사람이 직접 해결해야 합니다.\n",
    "- **반복 가능성:** 크롤러는 여러 번 실행할 수 있어야 하며, 각 실행 결과가 일관되게 나와야 합니다. 이를 위해 코드를 잘 관리하고 테스트해야 합니다."
   ]
  },
  {
   "cell_type": "markdown",
   "metadata": {},
   "source": [
    "# 2. 정적 웹 페이지와 동적 웹 페이지\n",
    "\n",
    "**정적 웹 페이지 (Static Web Page)**\n",
    "\n",
    "- **정의**: 정적 웹 페이지는 서버에 저장된 HTML 파일을 클라이언트(웹 브라우저)에게 그대로 전달하는 웹 페이지입니다. 페이지의 내용은 변경되지 않으며, 모든 사용자가 동일한 콘텐츠를 보게 됩니다.\n",
    "- **특징**:\n",
    "    - 서버에서 HTML, CSS, JavaScript 파일을 클라이언트로 전달\n",
    "    - 사용자와의 상호작용이 제한적\n",
    "    - 서버 요청 시 동일한 콘텐츠 제공\n",
    "    - 예: 개인 포트폴리오 웹사이트, 간단한 정보 제공 사이트\n",
    "\n",
    "**동적 웹 페이지 (Dynamic Web Page)**\n",
    "\n",
    "- **정의**: 동적 웹 페이지는 서버 또는 클라이언트 측에서 생성된 데이터를 기반으로 페이지가 동적으로 구성되는 웹 페이지입니다. 사용자의 행동이나 데이터베이스의 변경에 따라 실시간으로 내용이 업데이트됩니다.\n",
    "- **특징**:\n",
    "    - 서버 측 스크립트(PHP, [ASP.NET](http://asp.net/) 등) 또는 클라이언트 측 스크립트(JavaScript)로 생성\n",
    "    - 사용자 입력에 따라 다른 콘텐츠 제공\n",
    "    - 데이터베이스와 상호작용 가능\n",
    "    - 예: 소셜 미디어, 전자상거래 사이트, 뉴스 포털\n",
    "\n",
    "### 동적 웹 페이지 처리가 왜 필요한가?\n",
    "\n",
    "**1. 동적 콘텐츠 제공:**\n",
    "\n",
    "- 동적 웹 페이지는 사용자 맞춤형 경험을 제공합니다. 예를 들어, 전자상거래 사이트는 사용자의 이전 구매 내역을 기반으로 제품을 추천합니다.\n",
    "\n",
    "**2. 실시간 데이터 업데이트:**\n",
    "\n",
    "- 동적 웹 페이지는 실시간으로 데이터를 업데이트하여 최신 정보를 사용자에게 제공합니다. 뉴스 사이트나 주식 거래 사이트가 이에 해당합니다.\n",
    "\n",
    "**3. 사용자 상호작용:**\n",
    "\n",
    "- 동적 웹 페이지는 사용자와의 상호작용을 통해 더 풍부한 사용자 경험을 제공합니다. 예를 들어, 댓글 시스템이나 실시간 채팅 기능이 있습니다.\n",
    "\n",
    "### 동적 웹 페이지 크롤링의 어려움과 처리 방법\n",
    "\n",
    "**왜 크롤링이 어려운가?**\n",
    "\n",
    "- **JavaScript로 렌더링**: 동적 웹 페이지는 서버에서 기본 HTML을 전송한 후, JavaScript가 실행되어 콘텐츠를 로드하거나 변경합니다. 단순한 HTML 파싱으로는 이러한 데이터를 얻을 수 없습니다.\n",
    "- **AJAX 요청**: 많은 동적 웹 페이지는 AJAX 요청을 통해 서버와 비동기적으로 데이터를 주고받습니다. 이러한 데이터는 초기 페이지 로드 시 존재하지 않으며, JavaScript가 실행된 후에야 나타납니다."
   ]
  },
  {
   "cell_type": "markdown",
   "metadata": {},
   "source": [
    "# 3. HTML 및 웹 페이지 구조 이해\n",
    "\n",
    "### 1. HTML 기본 구조\n",
    "\n",
    "- **HTML(Document Object Model):** HTML은 웹 페이지의 구조를 정의하는 마크업 언어입니다. HTML 문서는 요소로 구성되며, 각 요소는 태그로 감싸여 있습니다.\n",
    "    - 예: `<html>`, `<head>`, `<body>`, `<div>`, `<p>`, `<a>` 등\n",
    "- **기본 구조:** HTML 문서는 기본적으로 아래와 같은 구조를 가집니다."
   ]
  },
  {
   "cell_type": "markdown",
   "metadata": {},
   "source": [
    "### 2. 주요 HTML 요소\n",
    "\n",
    "- **헤더 요소(head):** 문서의 메타데이터를 포함합니다. 예: `<title>`, `<meta>`, `<link>`, `<style>`, `<script>`\n",
    "- **본문 요소(body):** 웹 페이지의 주요 콘텐츠를 포함합니다. 예: `<header>`, `<nav>`, `<section>`, `<article>`, `<footer>`\n",
    "- **텍스트 요소:** 텍스트 콘텐츠를 정의합니다. 예: `<h1>`, `<p>`, `<span>`, `<strong>`, `<em>`\n",
    "- **링크 요소:** 다른 페이지로 연결하는 하이퍼링크를 정의합니다. 예: `<a href=\"URL\">Link Text</a>`\n",
    "- **이미지 요소:** 이미지를 포함합니다. 예: `<img src=\"image.jpg\" alt=\"Description\">`\n",
    "- **리스트 요소:** 목록을 정의합니다. 예: `<ul>`, `<ol>`, `<li>`\n",
    "\n",
    "### 3. 웹 페이지 구조 이해\n",
    "\n",
    "- **DOM 트리:** HTML 문서는 트리 구조로 표현됩니다. 각 HTML 요소는 노드로서 DOM(Document Object Model)을 구성합니다.\n",
    "    - 예: `<html>`은 루트 노드, `<body>`, `<head>`는 자식 노드\n",
    "- **속성(Attribute):** HTML 요소는 속성을 가질 수 있습니다. 예: `<a href=\"URL\" target=\"_blank\">Link Text</a>`\n",
    "- **클래스와 ID:** 스타일링과 스크립팅을 위해 HTML 요소에 클래스와 ID를 지정할 수 있습니다.\n",
    "    - 예: `<div class=\"container\">`, `<h1 id=\"main-title\">`\n",
    "\n",
    "### 4. CSS 선택자 이해\n",
    "\n",
    "- **CSS 선택자:** 웹 페이지에서 원하는 요소를 선택하고 스타일을 적용하는 방법을 이해하는 것이 중요합니다. 크롤링 시에도 요소를 선택할 때 사용됩니다.\n",
    "    - **기본 선택자:** `element`, `.class`, `#id`\n",
    "    - **복합 선택자:** `element.class`, `element#id`, `element > child`, `element + sibling`, `element ~ sibling`\n",
    "    - 예: `.container > .item`, `#main-title + p`"
   ]
  },
  {
   "cell_type": "markdown",
   "metadata": {},
   "source": [
    "# 4. 파이썬 크롤링 도구 소개\n",
    "\n",
    "웹 크롤링을 위해 파이썬에서 주로 사용되는 두 가지 주요 라이브러리는 Requests와 BeautifulSoup입니다. 이 두 라이브러리는 함께 사용되어 웹 페이지에서 데이터를 쉽게 수집할 수 있도록 도와줍니다.\n",
    "\n",
    "### 1. Requests 라이브러리\n",
    "\n",
    "- **소개:** Requests는 HTTP 요청을 보내고 응답을 받을 수 있게 해주는 파이썬 라이브러리입니다. 이를 통해 웹 페이지의 HTML 소스를 가져올 수 있습니다.\n",
    "- **설치:** `pip install requests`\n",
    "- **기본 사용법:**"
   ]
  },
  {
   "cell_type": "code",
   "execution_count": 4,
   "metadata": {},
   "outputs": [
    {
     "name": "stdout",
     "output_type": "stream",
     "text": [
      "200\n",
      "   <!doctype html> <html lang=\"ko\" class=\"fzoom\"> <head> <meta charset=\"utf-8\"> <meta name=\"Referrer\" content=\"origin\"> <meta http-equiv=\"X-UA-Compatible\" content=\"IE=edge\"> <meta name=\"viewport\" content=\"width=1190\"> <title>NAVER</title> <meta name=\"apple-mobile-web-app-title\" content=\"NAVER\"/> <meta name=\"robots\" content=\"index,nofollow\"/> <meta name=\"description\" content=\"네이버 메인에서 다양한 정보와 유용한 컨텐츠를 만나 보세요\"/> <meta property=\"og:title\" content=\"네이버\"> <meta property=\"og:url\" content=\"https://www.naver.com/\"> <meta property=\"og:image\" content=\"https://s.pstatic.net/static/www/mobile/edit/2016/0705/mobile_212852414260.png\"> <meta property=\"og:description\" content=\"네이버 메인에서 다양한 정보와 유용한 컨텐츠를 만나 보세요\"/> <meta name=\"twitter:card\" content=\"summary\"> <meta name=\"twitter:title\" content=\"\"> <meta name=\"twitter:url\" content=\"https://www.naver.com/\"> <meta name=\"twitter:image\" content=\"https://s.pstatic.net/static/www/mobile/edit/2016/0705/mobile_212852414260.png\"> <meta name=\"twitter:description\" content=\"네이버 메인에서 다양한 정보와 유용한 컨텐츠를 만나 보세요\"/> <link rel=\"shortcut icon\" type=\"image/x-icon\" href=\"/favicon.ico?1\"> <link rel=\"apple-touch-icon-precomposed\" href=\"https://s.pstatic.net/static/www/nFavicon96.png\"/> <link rel=\"apple-touch-icon\" sizes=\"114x114\" href=\"https://s.pstatic.net/static/www/u/2014/0328/mma_204243574.png\"/> <link rel=\"apple-touch-icon\" href=\"https://s.pstatic.net/static/www/u/2014/0328/mma_20432863.png\"/> <link rel=\"stylesheet\" href=\"https://ssl.pstatic.net/sstatic/search/pc/css/sp_autocomplete_240530.css\"> <script>window.gladsdk=window.gladsdk||{},window.gladsdk.cmd=window.gladsdk.cmd||[],window.ndpsdk=window.ndpsdk||{},window.ndpsdk.cmd=window.ndpsdk.cmd||[],window.ndpsdk.polyfill=window.ndpsdk.polyfill||{cmd:[]};var g_ssc=\"navertop.v5\";window.nsc=g_ssc,window.nmain=window.nmain||{},window.nmain.jsOrigin=\"www\"</script> <script async src=\"https://ssl.pstatic.net/tveta/libs/ndpsdk/prod/ndp-loader.js\"></script> <script async src=\"https://ssl.pstatic.net/tveta/libs/glad/prod/gfp-core.js\"></script> <script src=\"https://ssl.pstatic.net/tveta/libs/assets/js/pc/main/min/pc.veta.core.min.js\" defer=\"defer\"></script>  <script>\n",
      "window[\"EAGER-DATA\"] = window[\"EAGER-DATA\"] || {};\n",
      "window[\"EAGER-DATA\"][\"PC-FEED-WRAPPER\"] = {\"@type\":\"BLOCK\",\"blocks\":[{\"@type\":\"BLOCK\",\"blocks\":[{\"@type\":\"BLOCK\",\"blocks\":[{\"@type\":\"PC-CAS-EDIT-CONTENTS-BLOCK\",\"blocks\":null,\"materials\":[{\"@type\":\"MATERIAL-PC-FEED-EDIT\",\"title\":\"돌고 도는 정비 주기들,\",\"url\":\"https://mycar.naver.com/?topCardType=maintenance\",\"image\":{\"url\":\"https://s.pstatic.net/static/www/mobile/edit/20230829_1095/upload_1693273391781UBYW8.jpg\"},\"highlight\":\"네이버 마이카\",\"adMark\":false,\"desc\":\"이제 외울 필요 없어요!\",\"clickCode\":\"mycar\",\"_id\":\"6548800558a9ce6eb3e8a64e\"},{\"@type\":\"MATERIAL-PC-FEED-EDIT\",\"title\":\"벤츠 시승신청\",\"url\":\"https://www.mercedes-benz.co.kr/passengercars/campaigns/e-class.html?utm_source=naver&utm_medium=digital&utm_campaign=C.P.L.W214_ML_LA_KR_2024_eclass&utm_content=naver_cpl_cpt_corss_cov_template_da#contact\",\"image\":{\"url\":\"https://s.pstatic.net/static/www/mobile/edit/20240524_1095/upload_1716529475113zA2Hq.jpg\"},\"highlight\":\"네이버 자동차\",\"adMark\":true,\"desc\":\"시승 가능한 모델을 버튼으로 확인하세요!\",\"clickCode\":\"ben\",\"_id\":\"6548800558a9ce6eb3e8a64f\"},{\"@type\":\"MATERIAL-PC-FEED-EDIT\",\"title\":\"푸조 시승신청\",\"url\":\"https://naver.me/5oXgz7e0\",\"image\":{\"url\":\"https://s.pstatic.net/static/www/mobile/edit/20240529_1095/upload_171694831556038CzR.jpg\"},\"highlight\":\"네이버 자동차\",\"adMark\":true,\"desc\":\"시승 가능한 모델을 버튼으로 확인하세요!\",\"clickCode\":\"pu\",\"_id\":\"6548800558a9ce6eb3e8a650\"},{\"@type\":\"MATERIAL-PC-FEED-EDIT\",\"title\":\"볼보 시승신청\",\"url\":\"https://volvocar.co.kr/buy/purchase/volvo-for-family-campaign/?type=digital&source=naver&utm_source=naver_nosp&utm_medium=display&utm_content=electrification_display-ads_autotestdrive&utm_campaign=kr_electrification_consideration-action_2406_nameplates_other_volvoforfamily_paid&sourceapplicationinformation=kr_elc_cat_npl\",\"image\":{\"url\":\"https://s.pstatic.net/static/www/mobile/edit/20240530_1095/upload_17170589870529dFfB.jpg\"},\"highlight\":\"네이버 자동차\",\"adMark\":true,\"desc\":\"시승 가능한 모델을 버튼으로 확인하세요!\",\"clickCode\":\"vol\",\"_id\":\"65918205372986ca693489f2\"},{\"@type\":\"MATERIAL-PC-FEED-EDIT\",\"title\":\"BYD 시승신청\",\"url\":\"https://naver.me/xME4yD0E\",\"image\":{\"url\":\"https://s.pstatic.net/static/www/mobile/edit/20240404_1095/upload_1712213533676ff9vy.jpg\"},\"highlight\":\"네이버 자동차\",\"adMark\":true,\"desc\":\"시승 가능한 모델을 버튼으로 확인하세요!\",\"clickCode\":\"byd\",\"_id\":\"66097a859bd5c834780766ae\"},{\"@type\":\"MATERIAL-PC-FEED-EDIT\",\"title\":\"BMW 시승신청\",\"url\":\"https://form.naver.com/response/-l-Y-xd1NwK8sWeYQ2CRsA\",\"image\":{\"url\":\"https://s.pstatic.net/static/www/mobile/edit/20240603_1095/upload_1717376573660p7p9K.jpg\"},\"highlight\":\"네이버 자동차\",\"adMark\":true,\"desc\":\"시승 가능한 모델을 버튼으로 확인하세요!\",\"clickCode\":\"bmw\",\"_id\":\"6621f9edcd8ef9780f8d2f6b\"},{\"@type\":\"MATERIAL-PC-FEED-EDIT\",\"title\":\"지프 시승신청\",\"url\":\"https://naver.me/GG8KkyvW\",\"image\":{\"url\":\"https://s.pstatic.net/static/www/mobile/edit/20240530_1095/upload_17170466789800Dq5D.jpg\"},\"highlight\":\"네이버 자동차\",\"adMark\":true,\"desc\":\"시승 가능한 모델을 버튼으로 확인하세요!\",\"clickCode\":\"jeepp\",\"_id\":\"6659e6058d185e78084d4590\"},{\"@type\":\"MATERIAL-PC-FEED-EDIT\",\"title\":\"르노 시승신청\",\"url\":\"https://naver.me/FynCPMmz\",\"image\":{\"url\":\"https://s.pstatic.net/static/www/mobile/edit/20240603_1095/upload_1717396857936Za2Sq.jpg\"},\"highlight\":\"네이버 자동차\",\"adMark\":true,\"desc\":\"시승 가능한 모델을 버튼으로 확인하세요!\",\"clickCode\":\"re\",\"_id\":\"665d65cd3ddfbd16b5891cd2\"},{\"@type\":\"MATERIAL-PC-FEED-EDIT\",\"title\":\"KGM 시승신청\",\"url\":\"https://naver.me/Gn0luDWL\",\"image\":{\"url\":\"https://s.pstatic.net/static/www/mobile/edit/20240605_1095/upload_1717549041193Y9k1H.jpg\"},\"highlight\":\"네이버 자동차\",\"adMark\":true,\"desc\":\"시승 가능한 모델을 버튼으로 확인하세요!\",\"clickCode\":\"KGM \",\"_id\":\"665fbe810836e115b028929c\"}],\"excludeInPaging\":false,\"positionForPaging\":0,\"realtime\":false,\"layout\":\"BIG-IMAGE-MAX-6\",\"orderRandom\":true,\"_id\":null,\"@type\":\"PC-CAS-EDIT-CONTENTS-BLOCK\",\"@code\":null,\"@template\":\"NONE\",\"@flowId\":null,\"@flowExecutionId\":null,\"@provider\":null,\"@lastModifiedAt\":null}],\"materials\":null,\"excludeInPaging\":false,\"positionForPaging\":0,\"realtime\":false,\"_id\":null,\"@type\":\"BLOCK\",\"@code\":\"PC-FEED-CARGAME-CAS-EDIT\",\"@template\":\"PC-FEED-CAS-EDIT\",\"@flowId\":null,\"@flowExecutionId\":null,\"@provider\":null,\"@lastModifiedAt\":null},{\"@type\":\"BLOCK\",\"blocks\":null,\"materials\":[{\"@type\":\"MATERIAL-PC-FEED\",\"title\":\"\\\"무려 13배 증가...\\\" 전기차 택시(TAXI), 괄목할만한 성장세 `주목`\",\"url\":\"https://post.naver.com/viewer/postView.naver?volumeNo=37930989&memberNo=8910941\",\"image\":{\"url\":\"https://s.pstatic.net/dthumb.phinf/?src=%22https%3A%2F%2Fs.pstatic.net%2Fstatic%2Fwww%2Fmobile%2Fedit%2F20240604_1095%2Fupload_1717460864775KxhpT.jpg%22&type=ff364_236&service=navermain\"},\"source\":{\"name\":\"오토얼라인먼트\",\"service\":\"POST\",\"image\":{\"url\":\"https://s.pstatic.net/post.phinf/MjAyMjEyMTFfMTcx/MDAxNjcwNzI0NjYyMTAx.OxcZhl5Im-R7saHkrkKGrzOL5H76No9_XxDcU6oEmSsg.eD7I3d-XxmmLycuMiUIvgjs1uOMwsOTtwqIkG_penL0g.PNG/post_8767636244181691749.png?type=f120_120\"}},\"showLiveBadge\":false,\"_id\":\"6441ca92c499cc07f334c614\"},{\"@type\":\"MATERIAL-PC-FEED\",\"title\":\"고연비 모델, 토요타 프리우스 PHEV 리뷰\",\"url\":\"https://tv.naver.com/v/52183719\",\"image\":{\"url\":\"https://s.pstatic.net/dthumb.phinf/?src=%22https%3A%2F%2Fs.pstatic.net%2Fstatic%2Fwww%2Fmobile%2Fedit%2F20240603_1095%2Fupload_1717381998317P1WC9.jpg%22&type=ff364_236&service=navermain\"},\"source\":{\"name\":\"오토뷰\",\"service\":\"NTV\",\"image\":{\"url\":\"https://s.pstatic.net/tvcast.phinf/20240531_251/Erxa7_17171433748521VgGi_JPEG/1717143355213.jpg\"}},\"video\":{\"playTime\":\"24:55\"},\"showLiveBadge\":false,\"_id\":\"6441ca92c499cc07f334c615\"},{\"@type\":\"MATERIAL-PC-FEED\",\"title\":\"지커, 국내 진출 본격화...BYD 등 中 전기차 공세 시동\",\"url\":\"https://post.naver.com/viewer/postView.naver?volumeNo=37929994&memberNo=37677556\",\"image\":{\"url\":\"https://s.pstatic.net/dthumb.phinf/?src=%22https%3A%2F%2Fs.pstatic.net%2Fstatic%2Fwww%2Fmobile%2Fedit%2F20240604_1095%2Fupload_1717460874444vHKLl.jpg%22&type=ff364_236&service=navermain\"},\"source\":{\"name\":\"AUTOCAST\",\"service\":\"POST\",\"image\":{\"url\":\"https://s.pstatic.net/post.phinf/MjAyNDAzMDRfMTA5/MDAxNzA5NTI1ODcwMDAw.v0JYLH17KiwqPJWJRy3QML67pYxnSr9Ugem58FSfY4gg.EZiU6ACYRzlWc1SbgipNlIKBZGj4Ewr7DawLJxA1PxIg.PNG/post_304416311175716410.png?type=f120_120\"}},\"showLiveBadge\":false,\"_id\":\"6441ca92c499cc07f334c616\"},{\"@type\":\"MATERIAL-PC-FEED\",\"title\":\"9,390만원, 가격 또 올렸다. 여성스러워진 E300 4매틱 AMG라인\",\"url\":\"https://tv.naver.com/v/52240432\",\"image\":{\"url\":\"https://s.pstatic.net/dthumb.phinf/?src=%22https%3A%2F%2Fs.pstatic.net%2Fstatic%2Fwww%2Fmobile%2Fedit%2F20240603_1095%2Fupload_1717382018692HqU6x.jpg%22&type=ff364_236&service=navermain\"},\"source\":{\"name\":\"카리포트TV\",\"service\":\"NTV\",\"image\":{\"url\":\"https://s.pstatic.net/tvcast.phinf/20240602_113/g0h7a_1717263372463yykBV_JPEG/1717263095134.jpg\"}},\"video\":{\"playTime\":\"14:34\"},\"showLiveBadge\":false,\"_id\":\"6441ca92c499cc07f334c617\"},{\"@type\":\"MATERIAL-PC-FEED\",\"title\":\"메르세데스-벤츠 EQS SUV의 럭셔리, 안전까지 책임지다\",\"url\":\"https://post.naver.com/viewer/postView.naver?volumeNo=37917962&memberNo=11643111\",\"image\":{\"url\":\"https://s.pstatic.net/dthumb.phinf/?src=%22https%3A%2F%2Fs.pstatic.net%2Fstatic%2Fwww%2Fmobile%2Fedit%2F20240604_1095%2Fupload_1717460877721i55xI.jpg%22&type=ff364_236&service=navermain\"},\"source\":{\"name\":\"모터매거진\",\"service\":\"POST\",\"image\":{\"url\":\"https://s.pstatic.net/post.phinf/20240429_47/1714346596934HxVjR_PNG/image.png?type=f120_120\"}},\"showLiveBadge\":false,\"_id\":\"6441ca92c499cc07f334c618\"},{\"@type\":\"MATERIAL-PC-FEED\",\"title\":\"현대 '더 뉴 아이오닉 5' 롱레인지 2WD 시승기 \",\"url\":\"https://post.naver.com/viewer/postView.naver?volumeNo=37910146&memberNo=1208029\",\"image\":{\"url\":\"https://s.pstatic.net/dthumb.phinf/?src=%22https%3A%2F%2Fs.pstatic.net%2Fstatic%2Fwww%2Fmobile%2Fedit%2F20240603_1095%2Fupload_1717382009085e7MBL.jpg%22&type=ff364_236&service=navermain\"},\"source\":{\"name\":\"오토디자이어\",\"service\":\"POST\",\"image\":{\"url\":\"https://s.pstatic.net/post.phinf/MjAxODA5MjBfMTM3/MDAxNTM3NDIwNzM2NTY5.O5XKt9cn7dzmZcqjmrYk_OgIF5UynakYCHz4jBkk4yIg.tzrXlIdCKAhNtCMXUC0vReDyhMug-KfvYxbugEUW4sAg.JPEG/post_5250664473291390418.jpg?type=f120_120\"}},\"showLiveBadge\":false,\"_id\":\"6441ca92c499cc07f334c619\"},{\"@type\":\"MATERIAL-PC-FEED\",\"title\":\"지프, 왜고니어 S 공개, 올 하반기 출시 예정\",\"url\":\"https://post.naver.com/viewer/postView.naver?volumeNo=37928644&memberNo=44489085\",\"image\":{\"url\":\"https://s.pstatic.net/dthumb.phinf/?src=%22https%3A%2F%2Fs.pstatic.net%2Fstatic%2Fwww%2Fmobile%2Fedit%2F20240603_1095%2Fupload_1717388975930bePdi.jpg%22&type=ff364_236&service=navermain\"},\"source\":{\"name\":\"카빌리프\",\"service\":\"POST\",\"image\":{\"url\":\"https://s.pstatic.net/post.phinf/MjAxOTEwMzBfMTUg/MDAxNTcyNDE2OTQ1MDU3.8TsCl7br3AkDFCNjAsrO7txvFJ0cic1u8yKWO-by-Ikg.rcC8GwTSP3IgXalFYJPJ439Mu78-GdcyalvtH3mkZJgg.JPEG/post_1871869820778669702.jpg?type=f120_120\"}},\"showLiveBadge\":false,\"_id\":\"6441ca92c499cc07f334c61a\"},{\"@type\":\"MATERIAL-PC-FEED\",\"title\":\"[라이벌] BMW X2의 경쟁 모델은?\",\"url\":\"https://post.naver.com/viewer/postView.naver?volumeNo=37914964&memberNo=11643111\",\"image\":{\"url\":\"https://s.pstatic.net/dthumb.phinf/?src=%22https%3A%2F%2Fs.pstatic.net%2Fstatic%2Fwww%2Fmobile%2Fedit%2F20240603_1095%2Fupload_1717388854014sAtFh.jpg%22&type=ff364_236&service=navermain\"},\"source\":{\"name\":\"모터매거진\",\"service\":\"POST\",\"image\":{\"url\":\"https://s.pstatic.net/post.phinf/20240429_47/1714346596934HxVjR_PNG/image.png?type=f120_120\"}},\"showLiveBadge\":false,\"_id\":\"6441ca92c499cc07f334c61b\"}],\"excludeInPaging\":false,\"positionForPaging\":0,\"realtime\":false,\"_id\":null,\"@type\":\"BLOCK\",\"@code\":\"PC-FEED-CARGAME-MANUAL-1\",\"@template\":\"TWO-COLUMNS\",\"@flowId\":null,\"@flowExecutionId\":null,\"@provider\":null,\"@lastModifiedAt\":null},{\"@type\":\"PC-FEED-BLOCK\",\"materials\":[{\"@type\":\"MATERIAL-PC-FEED\",\"title\":\"KGM 티볼리 에어\",\"url\":\"https://search.naver.com/search.naver?where=m&sm=mtb_etc&mra=bjg1&pkid=128&os=31629364&qvt=0&query=2024%20%ED%8B%B0%EB%B3%BC%EB%A6%AC%20%EC%97%90%EC%96%B4%20%EC%98%A4%EB%84%88%ED%8F%89%EA%B0%80\",\"image\":{\"url\":\"https://s.pstatic.net/dthumb.phinf/?src=%22https%3A%2F%2Fs.pstatic.net%2Fstatic%2Fwww%2Fmobile%2Fedit%2F20240603_1095%2Fupload_1717392802577qpMjK.jpg%22&type=nf365_240&service=navermain\"},\"showLiveBadge\":false,\"_id\":\"6548800558a9ce6eb3e8a626\"},{\"@type\":\"MATERIAL-PC-FEED\",\"title\":\"르노코리아 아르카나 E-테크 하이브리드\",\"url\":\"https://search.naver.com/search.naver?where=m&sm=mtb_etc&mra=bjg1&pkid=128&os=33853112&qvt=0&query=2025%20%EC%95%84%EB%A5%B4%EC%B9%B4%EB%82%98%20E-%ED%85%8C%ED%81%AC%20%ED%95%98%EC%9D%B4%EB%B8%8C%EB%A6%AC%EB%93%9C%20%EC%98%A4%EB%84%88%ED%8F%89%EA%B0%80\",\"image\":{\"url\":\"https://s.pstatic.net/dthumb.phinf/?src=%22https%3A%2F%2Fs.pstatic.net%2Fstatic%2Fwww%2Fmobile%2Fedit%2F20240603_1095%2Fupload_1717392733151vU33b.jpg%22&type=nf365_240&service=navermain\"},\"showLiveBadge\":false,\"_id\":\"6548800558a9ce6eb3e8a627\"},{\"@type\":\"MATERIAL-PC-FEED\",\"title\":\"현대 코나 하이브리드\",\"url\":\"https://search.naver.com/search.naver?where=m&sm=mtb_etc&mra=bjg1&pkid=128&os=33653023&qvt=0&query=2024%20%EC%BD%94%EB%82%98%20%ED%95%98%EC%9D%B4%EB%B8%8C%EB%A6%AC%EB%93%9C%20%EC%98%A4%EB%84%88%ED%8F%89%EA%B0%80\",\"image\":{\"url\":\"https://s.pstatic.net/dthumb.phinf/?src=%22https%3A%2F%2Fs.pstatic.net%2Fstatic%2Fwww%2Fmobile%2Fedit%2F20240603_1095%2Fupload_17173927765490AnfL.jpg%22&type=nf365_240&service=navermain\"},\"showLiveBadge\":false,\"_id\":\"6548800558a9ce6eb3e8a628\"},{\"@type\":\"MATERIAL-PC-FEED\",\"title\":\"쉐보레 트레일블레이저\",\"url\":\"https://search.naver.com/search.naver?where=m&sm=mtb_etc&mra=bjg1&pkid=128&os=34107074&qvt=0&query=2025%20%EC%89%90%EB%B3%B4%EB%A0%88%20%ED%8A%B8%EB%A0%88%EC%9D%BC%EB%B8%94%EB%A0%88%EC%9D%B4%EC%A0%80%20%EC%98%A4%EB%84%88%ED%8F%89%EA%B0%80\",\"image\":{\"url\":\"https://s.pstatic.net/dthumb.phinf/?src=%22https%3A%2F%2Fs.pstatic.net%2Fstatic%2Fwww%2Fmobile%2Fedit%2F20240603_1095%2Fupload_1717391976159BVL1S.jpg%22&type=nf365_240&service=navermain\"},\"showLiveBadge\":false,\"_id\":\"6548800558a9ce6eb3e8a629\"}],\"excludeInPaging\":false,\"positionForPaging\":0,\"realtime\":false,\"title\":\"마이카 오너평가\",\"moreText\":\"오너평가 하러가기\",\"moreUrl\":\"https://mycar.naver.com/?topCardType=owner-review\",\"needCologger\":false,\"ad\":false,\"@type\":\"PC-FEED-BLOCK\",\"@code\":\"PC-FEED-CARGAME-MANUAL-2\",\"@template\":\"FOUR-COLUMNS\"},{\"@type\":\"BLOCK\",\"blocks\":null,\"materials\":[{\"@type\":\"MATERIAL-PC-FEED\",\"title\":\"자동차 엠블럼의 역사, 오늘은 현대자동차 이야기다.\",\"url\":\"https://tv.naver.com/h/51995884\",\"image\":{\"url\":\"https://s.pstatic.net/dthumb.phinf/?src=%22https%3A%2F%2Fs.pstatic.net%2Fstatic%2Fwww%2Fmobile%2Fedit%2F20240528_1095%2Fupload_1716871654316mlCup.jpg%22&type=ff364_236&service=navermain\"},\"source\":{\"name\":\"Auto Herald TV\",\"service\":\"NTV\",\"image\":{\"url\":\"https://s.pstatic.net/tvcast.phinf/20240528_99/QHPgW_1716868909319HjgMk_JPEG/lGVxH2DSeK_03.jpg\"}},\"video\":{\"playTime\":\"00:59\"},\"showLiveBadge\":false,\"_id\":\"6548800558a9ce6eb3e8a62e\"},{\"@type\":\"MATERIAL-PC-FEED\",\"title\":\"\\\"국내 출시는 언제?\\\" 성능·옵션 대폭 개선된 포르쉐 '타이칸 페이스리프트' 살펴보니\",\"url\":\"https://post.naver.com/viewer/postView.naver?volumeNo=37914619&memberNo=24075080\",\"image\":{\"url\":\"https://s.pstatic.net/dthumb.phinf/?src=%22https%3A%2F%2Fs.pstatic.net%2Fstatic%2Fwww%2Fmobile%2Fedit%2F20240603_1095%2Fupload_1717377660925XzR0d.jpg%22&type=ff364_236&service=navermain\"},\"source\":{\"name\":\"M Today\",\"service\":\"POST\",\"image\":{\"url\":\"https://s.pstatic.net/post.phinf/MjAyMjA3MTNfMTIy/MDAxNjU3Njk1MDY0NTEw.xCdRSsqrCQWSSsXPolYeYOB4BIkWAbLOSEp2gaKEzWAg.HGVXKI-Jg6j9kVc_XReMfDVrPsfydVT6lljDcJIaqu8g.PNG/post_6890417832104481256.png?type=f120_120\"}},\"showLiveBadge\":false,\"_id\":\"6548800558a9ce6eb3e8a62f\"},{\"@type\":\"MATERIAL-PC-FEED\",\"title\":\"루프 텐트가 완전 개방되는 캠퍼밴\",\"url\":\"https://post.naver.com/viewer/postView.naver?volumeNo=37889765&memberNo=22197681\",\"image\":{\"url\":\"https://s.pstatic.net/dthumb.phinf/?src=%22https%3A%2F%2Fs.pstatic.net%2Fstatic%2Fwww%2Fmobile%2Fedit%2F20240528_1095%2Fupload_1716852499803vAi2B.jpg%22&type=ff364_236&service=navermain\"},\"source\":{\"name\":\"모토야\",\"service\":\"POST\",\"image\":{\"url\":\"https://s.pstatic.net/post.phinf/20160608_129/motoyard_1465364705871719KU_PNG/motoyard_4848182847144712461.png?type=f120_120\"}},\"showLiveBadge\":false,\"_id\":\"6548800558a9ce6eb3e8a630\"},{\"@type\":\"MATERIAL-PC-FEED\",\"title\":\"[캠핑카] 2인 차박 딱이네..1천만원대 스즈키 허슬러 '터프 와일드'\",\"url\":\"https://post.naver.com/viewer/postView.naver?volumeNo=37921823&memberNo=31245283\",\"image\":{\"url\":\"https://s.pstatic.net/dthumb.phinf/?src=%22https%3A%2F%2Fs.pstatic.net%2Fstatic%2Fwww%2Fmobile%2Fedit%2F20240603_1095%2Fupload_1717378151263yOwAr.jpg%22&type=ff364_236&service=navermain\"},\"source\":{\"name\":\"카가이 CAR GUY\",\"service\":\"POST\",\"image\":{\"url\":\"https://s.pstatic.net/post.phinf/MjAxNzEwMDlfMjY4/MDAxNTA3NTI2Mzk5NTQ1.M4skE-icyZfVyUG828IrHJmdqsFfcKVua1olO1ugFoAg.qBDVC1Hpr83kwDNHi5MnbPlouSGve01Gb6xF849uvi4g.JPEG/post_9097335889324620388.jpg?type=f120_120\"}},\"showLiveBadge\":false,\"_id\":\"6548800558a9ce6eb3e8a631\"},{\"@type\":\"MATERIAL-PC-FEED\",\"title\":\"\\\"하이패스 없어도 통과\\\"…번호판 인식해 고속도로 통행료 납부한다\",\"url\":\"https://post.naver.com/viewer/postView.naver?volumeNo=37898511&memberNo=783179\",\"image\":{\"url\":\"https://s.pstatic.net/dthumb.phinf/?src=%22https%3A%2F%2Fs.pstatic.net%2Fstatic%2Fwww%2Fmobile%2Fedit%2F20240529_1095%2Fupload_1716945471799izs22.jpg%22&type=ff364_236&service=navermain\"},\"source\":{\"name\":\"오토이슈\",\"service\":\"POST\",\"image\":{\"url\":\"https://s.pstatic.net/post.phinf/MjAxODA3MjRfMTgy/MDAxNTMyNDA5MTcwNjcw.OHGsBQDwFmhCSQVNofTHJZ00XaX7PNtaadWzGhMRw9Ig.D-AwTK7fPtGeeZQMvhP5hIqrpvAY2y1JOSz0hR7KKikg.JPEG/post_5301922279037386932.jpg?type=f120_120\"}},\"showLiveBadge\":false,\"_id\":\"6548800558a9ce6eb3e8a632\"},{\"@type\":\"MATERIAL-PC-FEED\",\"title\":\"#토레스페이스리프트 2열 실제 승차감!\",\"url\":\"https://tv.naver.com/h/51989753\",\"image\":{\"url\":\"https://s.pstatic.net/dthumb.phinf/?src=%22https%3A%2F%2Fs.pstatic.net%2Fstatic%2Fwww%2Fmobile%2Fedit%2F20240528_1095%2Fupload_1716871663621AogiK.jpg%22&type=ff364_236&service=navermain\"},\"source\":{\"name\":\"홍시car\",\"service\":\"NTV\",\"image\":{\"url\":\"https://s.pstatic.net/tvcast.phinf/20240528_106/gIRH4_17168615660075WGqp_JPEG/21DnuiYbul_09.jpg\"}},\"video\":{\"playTime\":\"00:59\"},\"showLiveBadge\":false,\"_id\":\"6548800558a9ce6eb3e8a633\"},{\"@type\":\"MATERIAL-PC-FEED\",\"title\":\"\\\"와, 이거 다 과태료\\\" 너무 흔해서 그냥 넘어갔던 운전자 '이 행동'\",\"url\":\"https://post.naver.com/viewer/postView.naver?volumeNo=37893919&memberNo=23315462\",\"image\":{\"url\":\"https://s.pstatic.net/dthumb.phinf/?src=%22https%3A%2F%2Fs.pstatic.net%2Fstatic%2Fwww%2Fmobile%2Fedit%2F20240528_1095%2Fupload_1716871202302k7QDY.jpg%22&type=ff364_236&service=navermain\"},\"source\":{\"name\":\"다키포스트\",\"service\":\"POST\",\"image\":{\"url\":\"https://s.pstatic.net/post.phinf/MjAyMDEwMTVfMTkz/MDAxNjAyNzQzMjY4NjEw.GlSbhA_VdhHl7OVPQuk6cnWqJSR78lvs20_mR--dlscg.lxILgNyTSQeKbs-y5H2HYvOPj-IHIkzRtSn98mChfQkg.PNG/post_1384977838082956362.png?type=f120_120\"}},\"showLiveBadge\":false,\"_id\":\"6548800558a9ce6eb3e8a634\"},{\"@type\":\"MATERIAL-PC-FEED\",\"title\":\"페라리 12기통 역사를 담은 2인승 프론트 미드십 슈퍼카, 12 칠린드리 한국 상륙\",\"url\":\"https://post.naver.com/viewer/postView.naver?volumeNo=37914544&memberNo=11643111\",\"image\":{\"url\":\"https://s.pstatic.net/dthumb.phinf/?src=%22https%3A%2F%2Fs.pstatic.net%2Fstatic%2Fwww%2Fmobile%2Fedit%2F20240603_1095%2Fupload_17173776638515NyTM.jpg%22&type=ff364_236&service=navermain\"},\"source\":{\"name\":\"모터매거진\",\"service\":\"POST\",\"image\":{\"url\":\"https://s.pstatic.net/post.phinf/20240429_47/1714346596934HxVjR_PNG/image.png?type=f120_120\"}},\"showLiveBadge\":false,\"_id\":\"6548800558a9ce6eb3e8a635\"}],\"excludeInPaging\":false,\"positionForPaging\":0,\"realtime\":false,\"_id\":null,\"@type\":\"BLOCK\",\"@code\":\"PC-FEED-CARGAME-MANUAL-3\",\"@template\":\"TWO-COLUMNS\",\"@flowId\":null,\"@flowExecutionId\":null,\"@provider\":null,\"@lastModifiedAt\":null},{\"@type\":\"PC-FEED-BLOCK\",\"materials\":[{\"@type\":\"MATERIAL-PC-FEED\",\"title\":\"차박은 꼼지락! 꼼지락하면 차박보드\",\"url\":\"https://smartstore.naver.com/ggomjirakcamping/products/4504683351\",\"image\":{\"url\":\"https://s.pstatic.net/dthumb.phinf/?src=%22https%3A%2F%2Fs.pstatic.net%2Fshopping.phinf%2F20240516_10%2Fa8b76000-2162-466a-8064-69b7d1f66d4b.jpg%22&type=n222_222&service=navermain\"},\"highlight\":\"시선집중\",\"filterId\":\"001269\",\"adContentSeq\":\"26702995\",\"bizCdEnumNm\":\"CAR_LIFE\",\"inflowCd\":\"cadcar\",\"showLiveBadge\":false,\"_id\":\"654ad80598c6dbca70ba6c90\"},{\"@type\":\"MATERIAL-PC-FEED\",\"title\":\"향 도자기를 한 개 더 증정!\",\"url\":\"https://smartstore.naver.com/dosua/products/473869411\",\"image\":{\"url\":\"https://s.pstatic.net/dthumb.phinf/?src=%22https%3A%2F%2Fs.pstatic.net%2Fshopping.phinf%2F20240430_29%2F75fd9a41-0760-44b1-a9e6-87d3abb0750e.jpg%22&type=n222_222&service=navermain\"},\"highlight\":\"시선집중\",\"filterId\":\"001269\",\"adContentSeq\":\"26598575\",\"bizCdEnumNm\":\"CAR_LIFE\",\"inflowCd\":\"cadcar\",\"showLiveBadge\":false,\"_id\":\"654ad80598c6dbca70ba6c91\"},{\"@type\":\"MATERIAL-PC-FEED\",\"title\":\"손잡이가 접히는 V홈 햇빛가리개\",\"url\":\"https://smartstore.naver.com/auto_crew/products/10318536322\",\"image\":{\"url\":\"https://s.pstatic.net/dthumb.phinf/?src=%22https%3A%2F%2Fs.pstatic.net%2Fshopping.phinf%2F20240527_9%2Fb7da562f-8ef3-4abf-9a6b-4b13454d340c.jpg%22&type=n222_222&service=navermain\"},\"highlight\":\"시즌잇템\",\"filterId\":\"001269\",\"adContentSeq\":\"27114613\",\"bizCdEnumNm\":\"CAR_LIFE\",\"inflowCd\":\"cadcar\",\"showLiveBadge\":false,\"_id\":\"654ad80598c6dbca70ba6c92\"},{\"@type\":\"MATERIAL-PC-FEED\",\"title\":\"평점4.9! 유리막코팅제 끝판왕!\",\"url\":\"https://m.smartstore.naver.com/diamantestore/products/7370262969\",\"image\":{\"url\":\"https://s.pstatic.net/dthumb.phinf/?src=%22https%3A%2F%2Fs.pstatic.net%2Fshopping.phinf%2F20240209_18%2F68145100-9997-41d0-a83c-d9fc7c295fbe.jpg%22&type=n222_222&service=navermain\"},\"highlight\":\"핫템추천\",\"filterId\":\"001269\",\"adContentSeq\":\"26339657\",\"bizCdEnumNm\":\"CAR_LIFE\",\"inflowCd\":\"cadcar\",\"showLiveBadge\":false,\"_id\":\"654ad80598c6dbca70ba6c93\"},{\"@type\":\"MATERIAL-PC-FEED\",\"title\":\"모기 잡지말고 켜두면 다 잡혀\",\"url\":\"https://wrd.appstory.co.kr/rd.flad?n=114184\",\"image\":{\"url\":\"https://s.pstatic.net/dthumb.phinf/?src=%22https%3A%2F%2Fs.pstatic.net%2Fshopping.phinf%2F20240418_8%2F19930752-5c05-456d-b915-98f1110df1ea.jpg%22&type=n222_222&service=navermain\"},\"highlight\":\"50% 할인\",\"filterId\":\"001269\",\"adContentSeq\":\"26821240\",\"bizCdEnumNm\":\"CAR_LIFE\",\"inflowCd\":\"cadcar\",\"showLiveBadge\":false,\"_id\":\"654ad80598c6dbca70ba6c94\"},{\"@type\":\"MATERIAL-PC-FEED\",\"title\":\"프리워시 1만원대? 압축분무기 증정!\",\"url\":\"https://smartstore.naver.com/qnftmdnjs/products/10221709103\",\"image\":{\"url\":\"https://s.pstatic.net/dthumb.phinf/?src=%22https%3A%2F%2Fs.pstatic.net%2Fshopping.phinf%2F20240529_25%2F44f4bcda-b121-4fb3-93a3-3b923af0a0cc.jpg%22&type=n222_222&service=navermain\"},\"highlight\":\"시즌잇템\",\"filterId\":\"001269\",\"adContentSeq\":\"26601882\",\"bizCdEnumNm\":\"CAR_LIFE\",\"inflowCd\":\"cadcar\",\"showLiveBadge\":false,\"_id\":\"654ad80598c6dbca70ba6c95\"},{\"@type\":\"MATERIAL-PC-FEED\",\"title\":\"이거 하나로 세차 다 끝내\",\"url\":\"https://carmim.co.kr/product/detail.html?product_no=52&cafe_mkt=ncarlife_a05\",\"image\":{\"url\":\"https://s.pstatic.net/dthumb.phinf/?src=%22https%3A%2F%2Fs.pstatic.net%2Fshopping.phinf%2F20221226_28%2F55019fbc-89cb-45da-af06-1cfc0e7640f6.jpg%22&type=n222_222&service=navermain\"},\"highlight\":\"핫템추천\",\"filterId\":\"001270\",\"adContentSeq\":\"26721961\",\"bizCdEnumNm\":\"CAR_LIFE\",\"inflowCd\":\"cadacc\",\"showLiveBadge\":false,\"_id\":\"654ad80598c6dbca70ba6c96\"},{\"@type\":\"MATERIAL-PC-FEED\",\"title\":\"초강력 악취제거 명품 차량탈취제\",\"url\":\"https://smartstore.naver.com/soonforest/products/9652493738?nt_source=car&nt_medium=car&nt_detail=240528_03\",\"image\":{\"url\":\"https://s.pstatic.net/dthumb.phinf/?src=%22https%3A%2F%2Fs.pstatic.net%2Fshopping.phinf%2F20240531_28%2F2624e65f-3732-4f9e-9d00-9564201bbf57.jpg%22&type=n222_222&service=navermain\"},\"highlight\":\"40% 할인\",\"filterId\":\"001270\",\"adContentSeq\":\"26465337\",\"bizCdEnumNm\":\"CAR_LIFE\",\"inflowCd\":\"cadacc\",\"showLiveBadge\":false,\"_id\":\"654ad80598c6dbca70ba6c97\"},{\"@type\":\"MATERIAL-PC-FEED\",\"title\":\"찌든내? 그런게 왜나죠?\",\"url\":\"https://smartstore.naver.com/badairsolution/products/6668489518\",\"image\":{\"url\":\"https://s.pstatic.net/dthumb.phinf/?src=%22https%3A%2F%2Fs.pstatic.net%2Fshopping.phinf%2F20240604_19%2F8c6e311a-0615-42ef-8cc1-91cc5de9c474.jpg%22&type=n222_222&service=navermain\"},\"highlight\":\"핫템추천\",\"filterId\":\"001270\",\"adContentSeq\":\"27234744\",\"bizCdEnumNm\":\"CAR_LIFE\",\"inflowCd\":\"cadacc\",\"showLiveBadge\":false,\"_id\":\"654ad80598c6dbca70ba6c98\"},{\"@type\":\"MATERIAL-PC-FEED\",\"title\":\"분위기 반전템! 차량맞춤 코일매트\",\"url\":\"https://brand.naver.com/mayton/products/3830130729\",\"image\":{\"url\":\"https://s.pstatic.net/dthumb.phinf/?src=%22https%3A%2F%2Fs.pstatic.net%2Fshopping.phinf%2F20240605_4%2F6219dcd4-00ce-4090-867a-bb7a5de70d24.jpg%22&type=n222_222&service=navermain\"},\"highlight\":\"46% 할인\",\"filterId\":\"001270\",\"adContentSeq\":\"27393481\",\"bizCdEnumNm\":\"CAR_LIFE\",\"inflowCd\":\"cadacc\",\"showLiveBadge\":false,\"_id\":\"654ad80598c6dbca70ba6c99\"},{\"@type\":\"MATERIAL-PC-FEED\",\"title\":\"특별한정판 카본 수전사 와이퍼 예약\",\"url\":\"https://smartstore.naver.com/bladeshin/products/8450279101?NaPm=ct%3Dlt5g3nk8%7Cci%3D469cd873e17cf8aaeb3d9b586b3d0ab4471d5efa%7Ctr%3Dslsl%7Csn%3D4698647%7Chk%3Dd7903ad0bb60b52547a4a6d1c73879e503366981\",\"image\":{\"url\":\"https://s.pstatic.net/dthumb.phinf/?src=%22https%3A%2F%2Fs.pstatic.net%2Fshopping.phinf%2F20240228_4%2F8badcef9-cc4e-4420-8905-60adc56183c8.jpg%22&type=n222_222&service=navermain\"},\"highlight\":\"핫템추천\",\"filterId\":\"001270\",\"adContentSeq\":\"26316934\",\"bizCdEnumNm\":\"CAR_LIFE\",\"inflowCd\":\"cadacc\",\"showLiveBadge\":false,\"_id\":\"654ad80598c6dbca70ba6c9a\"},{\"@type\":\"MATERIAL-PC-FEED\",\"title\":\"운전 중 허리 통증 아웃 힙착 메시\",\"url\":\"https://smartstore.naver.com/newmanshop/products/6774674734\",\"image\":{\"url\":\"https://s.pstatic.net/dthumb.phinf/?src=%22https%3A%2F%2Fs.pstatic.net%2Fshopping.phinf%2F20230410_25%2F1e2c0d97-5bc4-44f0-acf3-8977917fa28d.jpg%22&type=n222_222&service=navermain\"},\"highlight\":\"핫템추천\",\"filterId\":\"001270\",\"adContentSeq\":\"26313726\",\"bizCdEnumNm\":\"CAR_LIFE\",\"inflowCd\":\"cadacc\",\"showLiveBadge\":false,\"_id\":\"654ad80598c6dbca70ba6c9b\"},{\"@type\":\"MATERIAL-PC-FEED\",\"title\":\"스포츠헤어밴드 초특가 1+1+1 9900원\",\"url\":\"https://smartstore.naver.com/main/products/8777866349\",\"image\":{\"url\":\"https://s.pstatic.net/dthumb.phinf/?src=%22https%3A%2F%2Fs.pstatic.net%2Fshopping.phinf%2Fmain_8632236%2F86322366672.jpg%3Ftype%3Df500%22&type=n222_222&service=navermain\"},\"highlight\":\"핫템추천\",\"filterId\":\"001271\",\"adContentSeq\":\"26792818\",\"bizCdEnumNm\":\"CAR_LIFE\",\"inflowCd\":\"cadspo\",\"showLiveBadge\":false,\"_id\":\"654ad80598c6dbca70ba6c9c\"},{\"@type\":\"MATERIAL-PC-FEED\",\"title\":\"운동할 때 막 쓰기 좋은 스포츠 모자\",\"url\":\"https://smartstore.naver.com/scrolling/products/6720957451?nt_source=NAVER&nt_medium=CARLIFE&nt_detail=USCS-001\",\"image\":{\"url\":\"https://s.pstatic.net/dthumb.phinf/?src=%22https%3A%2F%2Fs.pstatic.net%2Fshopping.phinf%2F20221117_10%2Fbf1fefa3-2f56-44fc-a7c4-9e7a695d03e7.jpg%22&type=n222_222&service=navermain\"},\"highlight\":\"무료배송\",\"filterId\":\"001271\",\"adContentSeq\":\"26792814\",\"bizCdEnumNm\":\"CAR_LIFE\",\"inflowCd\":\"cadspo\",\"showLiveBadge\":false,\"_id\":\"654ad80598c6dbca70ba6c9d\"},{\"@type\":\"MATERIAL-PC-FEED\",\"title\":\"긴시간 고음질 노이즈캔슬링 4만원대\",\"url\":\"https://wrd.appstory.co.kr/rd.flad?n=115783\",\"image\":{\"url\":\"https://s.pstatic.net/dthumb.phinf/?src=%22https%3A%2F%2Fs.pstatic.net%2Fshopping.phinf%2F20240605_1%2Fa7bd8ee4-77cb-4200-8e79-5f12194695cb.jpg%22&type=n222_222&service=navermain\"},\"highlight\":\"66% 할인\",\"filterId\":\"001271\",\"adContentSeq\":\"27408521\",\"bizCdEnumNm\":\"CAR_LIFE\",\"inflowCd\":\"cadspo\",\"showLiveBadge\":false,\"_id\":\"654ad80598c6dbca70ba6c9e\"},{\"@type\":\"MATERIAL-PC-FEED\",\"title\":\"안흘러내리는 햄스트링보호대 초특가\",\"url\":\"https://smartstore.naver.com/main/products/6033744738\",\"image\":{\"url\":\"https://s.pstatic.net/dthumb.phinf/?src=%22https%3A%2F%2Fs.pstatic.net%2Fshopping.phinf%2Fmain_8357824%2F83578244226.jpg%3Ftype%3Df500%22&type=n222_222&service=navermain\"},\"highlight\":\"핫템추천\",\"filterId\":\"001271\",\"adContentSeq\":\"26792833\",\"bizCdEnumNm\":\"CAR_LIFE\",\"inflowCd\":\"cadspo\",\"showLiveBadge\":false,\"_id\":\"654ad80598c6dbca70ba6c9f\"},{\"@type\":\"MATERIAL-PC-FEED\",\"title\":\"멀티탭도 디자인이다\",\"url\":\"https://smartstore.naver.com/77teukgong/products/10245292695\",\"image\":{\"url\":\"https://s.pstatic.net/dthumb.phinf/?src=%22https%3A%2F%2Fs.pstatic.net%2Fshopping.phinf%2F20240531_5%2Ffd145c3d-68e3-4c9e-9d9e-127531e6376d.jpg%22&type=n222_222&service=navermain\"},\"highlight\":\"핫템추천\",\"filterId\":\"001271\",\"adContentSeq\":\"26807339\",\"bizCdEnumNm\":\"CAR_LIFE\",\"inflowCd\":\"cadspo\",\"showLiveBadge\":false,\"_id\":\"654ad80598c6dbca70ba6ca0\"},{\"@type\":\"MATERIAL-PC-FEED\",\"title\":\"손목보호는 되고 두꺼운건 싫으니까\",\"url\":\"https://smartstore.naver.com/scrolling/products/6189703596?nt_source=NAVER&nt_medium=CARLIFE&nt_detail=UWBS-001\",\"image\":{\"url\":\"https://s.pstatic.net/dthumb.phinf/?src=%22https%3A%2F%2Fs.pstatic.net%2Fshopping.phinf%2F20221117_8%2F9f9969a4-72d6-4d18-af7b-6dd0b9cd1ed6.jpg%22&type=n222_222&service=navermain\"},\"highlight\":\"무료배송\",\"filterId\":\"001271\",\"adContentSeq\":\"26792831\",\"bizCdEnumNm\":\"CAR_LIFE\",\"inflowCd\":\"cadspo\",\"showLiveBadge\":false,\"_id\":\"654ad80598c6dbca70ba6ca1\"}],\"excludeInPaging\":false,\"positionForPaging\":0,\"realtime\":false,\"title\":\"자동차 쇼핑 아이템\",\"filterList\":[{\"id\":\"001269\",\"name\":\"CAR&LIFE\",\"defaultType\":false},{\"id\":\"001270\",\"name\":\"자동차용품\",\"defaultType\":false},{\"id\":\"001271\",\"name\":\"취미&라이프\",\"defaultType\":false}],\"needCologger\":true,\"ad\":true,\"@type\":\"PC-FEED-BLOCK\",\"@code\":\"PC-FEED-CARGAME-AUTO-ITEM\",\"@template\":\"SIX-COLUMNS\"},{\"@type\":\"PC-FEED-BLOCK\",\"materials\":[{\"@type\":\"MATERIAL-PC-FEED\",\"title\":\"동서고가차도 사고현장 제보..ㄷㄷ\",\"url\":\"https://tv.naver.com/v/52325188\",\"image\":{\"url\":\"https://s.pstatic.net/dthumb.phinf/?src=%22https%3A%2F%2Fs.pstatic.net%2Ftvcast.phinf%2F20240604_64%2FaNABt_1717428440326ANM4v_JPEG%2FPublishThumb_20240604_002707_693.jpg%22&type=ff364_236&service=navermain\"},\"source\":{\"url\":\"https://tv.naver.com/motorsjason\",\"name\":\"남자들의 자동차 - 남차카페\",\"image\":{\"url\":\"https://s.pstatic.net/dthumb.phinf/?src=%22https%3A%2F%2Fs.pstatic.net%2Ftvcast.phinf%2F20200615_21%2F7lS1y_1592157060622S6rna_JPEG%2F1592157060542.jpg%22&type=nf40_40&service=navermain\"}},\"video\":{\"playTime\":\"00:08\"},\"showLiveBadge\":false,\"_id\":\"654ad80598c6dbca70ba6ca2\"},{\"@type\":\"MATERIAL-PC-FEED\",\"title\":\"월 220, 이 차 사면 안되는 건가요??🚘\",\"url\":\"https://tv.naver.com/v/52720115\",\"image\":{\"url\":\"https://s.pstatic.net/dthumb.phinf/?src=%22https%3A%2F%2Fs.pstatic.net%2Ftvcast.phinf%2F20240606_108%2FXw3K5_17176645947942kJOI_JPEG%2F98D08D45-7C94-418C-8582-F812618386E4.jpg%22&type=ff364_236&service=navermain\"},\"source\":{\"url\":\"https://tv.naver.com/carderra\",\"name\":\"다키포스트TV\",\"image\":{\"url\":\"https://s.pstatic.net/dthumb.phinf/?src=%22https%3A%2F%2Fs.pstatic.net%2Ftvcast.phinf%2F20211104_108%2F5d6Yg_1635994231553J4KbJ_PNG%2F1635994231537.png%22&type=nf40_40&service=navermain\"}},\"video\":{\"playTime\":\"01:04\"},\"showLiveBadge\":false,\"_id\":\"654ad80598c6dbca70ba6ca3\"},{\"@type\":\"MATERIAL-PC-FEED\",\"title\":\"에코모드로 주행하면 정말 연비가 up?자동차 주행모드 알아보기\",\"url\":\"https://m.post.naver.com/viewer/postView.naver?volumeNo=37814864&memberNo=9055832&vType=VERTICAL\",\"image\":{\"url\":\"https://s.pstatic.net/dthumb.phinf/?src=%22https%3A%2F%2Fs.pstatic.net%2Fpost.phinf%2FMjAyNDA1MTRfOTkg%2FMDAxNzE1NjczMTg2NDg1.m0V8FJtlRrTX6tdGgtN2_mjznf2Kv8vJKv-8V5bPHXcg.N0sS4UXpNNfQf1xyiH86u0g-b6JCujDdvPTuOWh7Hgkg.JPEG%2FI3bsmRPHdfnutiC7MdZntqUUqzao.jpg%22&type=ff364_236&service=navermain\"},\"source\":{\"url\":\"https://m.post.naver.com/my.naver?memberNo=9055832\",\"name\":\"삼성화재 다이렉트 착\",\"image\":{\"url\":\"https://s.pstatic.net/dthumb.phinf/?src=%22https%3A%2F%2Fs.pstatic.net%2Fpost.phinf%2FMjAyMjA3MThfMjk3%2FMDAxNjU4MTQ4ODg2ODAy.n4pLClZ4tX9PzZjyEOLTMmmASd9sxYS755aBjOPO1ZEg.Fbe5BjWbP9iVdvx3HC5ePHk6bgajrw_6wvN280T3qf0g.JPEG%2Fpost_9056980373794919325.jpg%3Ftype%3Df200_200%22&type=nf40_40&service=navermain\"}},\"showLiveBadge\":false,\"_id\":\"654ad80598c6dbca70ba6ca4\"},{\"@type\":\"MATERIAL-PC-FEED\",\"title\":\"6월에도 화끈하다, 최대 72개월 무이자 또는 최대 400만원 할인하는 쉐보레\",\"url\":\"https://m.post.naver.com/viewer/postView.naver?volumeNo=37923759&memberNo=48540360&vType=VERTICAL\",\"image\":{\"url\":\"https://s.pstatic.net/dthumb.phinf/?src=%22https%3A%2F%2Fs.pstatic.net%2Fpost.phinf%2FMjAyNDA2MDJfMTA3%2FMDAxNzE3Mjg5MDg2ODMy.Q_b221l2oKWvaeM2ujHhDpa4FzkjV-7LC_oM9WTU23og.C-k4GqU0fheLdnOmfvhslksVF-BXBUUxAYcJeiQv8Wkg.JPEG%2FIG2TY36qlH7TeazXbTJJtLAVAoT0.jpg%22&type=ff364_236&service=navermain\"},\"source\":{\"url\":\"https://m.post.naver.com/my.naver?memberNo=48540360\",\"name\":\"모빌리티 그라운드\",\"image\":{\"url\":\"https://s.pstatic.net/dthumb.phinf/?src=%22https%3A%2F%2Fs.pstatic.net%2Fpost.phinf%2FMjAyMTExMDRfMTMx%2FMDAxNjM1OTgyNTM3OTk1.PTzqthB2aSj8f9T1yRkgfJIoFhT94tu2XmMJlkOwa_Ag.Vylr9o-ZT73l_AKHqNEGYCkhkJniLLMqKlbGcaFm5EUg.JPEG%2Fpost_5985224297225186826.jpg%3Ftype%3Df200_200%22&type=nf40_40&service=navermain\"}},\"showLiveBadge\":false,\"_id\":\"654ad80598c6dbca70ba6ca5\"},{\"@type\":\"MATERIAL-PC-FEED\",\"title\":\"운전하다 끼어들기 잘못해서 생기는 최후\",\"url\":\"https://tv.naver.com/v/52341441\",\"image\":{\"url\":\"https://s.pstatic.net/dthumb.phinf/?src=%22https%3A%2F%2Fs.pstatic.net%2Ftvcast.phinf%2F20240604_7%2FFazaz_1717472397532XGFS9_JPEG%2F302B8346-AF51-4CDA-979F-B7D20250DAFC.jpg%22&type=ff364_236&service=navermain\"},\"source\":{\"url\":\"https://tv.naver.com/goodman\",\"name\":\"굳맨\",\"image\":{\"url\":\"https://s.pstatic.net/dthumb.phinf/?src=%22https%3A%2F%2Fs.pstatic.net%2Ftvcast.phinf%2F20180207_255%2FL5PWq_1517981786329BOVt0_JPEG%2F1517981786289.JPG%22&type=nf40_40&service=navermain\"}},\"video\":{\"playTime\":\"00:14\"},\"showLiveBadge\":false,\"_id\":\"654ad80598c6dbca70ba6ca6\"},{\"@type\":\"MATERIAL-PC-FEED\",\"title\":\"세계서 가장 빠른 오토바이..스즈키 하야부사 GSX 1300R 튜닝\",\"url\":\"https://in.naver.com/carguy/contents/internal/700143247043520\",\"image\":{\"url\":\"https://s.pstatic.net/dthumb.phinf/?src=%22https%3A%2F%2Fs.pstatic.net%2Fpost.phinf%2FMjAyNDA2MDFfMjcw%2FMDAxNzE3MjAwNTU3NjEw.4ms9BG8mxj4pBhBi9APoZHuy-Q9ewamxwcYhqR6qRZUg.wzczZ2kblmqoOyPyZLkjA4iX6aUBHtAp-4X3c7avLaQg.JPEG%2FITGzeR990bHvimYlgR4QajMt-wRM.jpg%22&type=ff364_236&service=navermain\"},\"source\":{\"url\":\"https://m.post.naver.com/my.naver?memberNo=31245283\",\"name\":\"카가이 CAR GUY\",\"image\":{\"url\":\"https://s.pstatic.net/dthumb.phinf/?src=%22https%3A%2F%2Fs.pstatic.net%2Fpost.phinf%2FMjAxNzEwMDlfMjY4%2FMDAxNTA3NTI2Mzk5NTQ1.M4skE-icyZfVyUG828IrHJmdqsFfcKVua1olO1ugFoAg.qBDVC1Hpr83kwDNHi5MnbPlouSGve01Gb6xF849uvi4g.JPEG%2Fpost_9097335889324620388.jpg%3Ftype%3Df200_200%22&type=nf40_40&service=navermain\"}},\"showLiveBadge\":false,\"_id\":\"654ad80598c6dbca70ba6ca7\"},{\"@type\":\"MATERIAL-PC-FEED\",\"title\":\"중고차 시장서 디젤·LPG SUV '찬밥 신세'…이유가?\",\"url\":\"https://in.naver.com/autoissue/contents/internal/702122349370304\",\"image\":{\"url\":\"https://s.pstatic.net/dthumb.phinf/?src=%22https%3A%2F%2Fs.pstatic.net%2Fpost.phinf%2FMjAyNDA2MDVfNDYg%2FMDAxNzE3NTQyNjk0OTQx.yLakXGEd5uXK76Acfoq-x5MUpbbeMm70YATWpfr4zgsg.hQ7Ut_LdpXnhq7a8NPTuN-CHNwa9rFeIkbLTEKIb1Yog.JPEG%2FIsWA6P-SqGRt5FzEUqQJJEUxj0yk.jpg%22&type=ff364_236&service=navermain\"},\"source\":{\"url\":\"https://m.post.naver.com/my.naver?memberNo=783179\",\"name\":\"오토이슈\",\"image\":{\"url\":\"https://s.pstatic.net/dthumb.phinf/?src=%22https%3A%2F%2Fs.pstatic.net%2Fpost.phinf%2FMjAxODA3MjRfMTgy%2FMDAxNTMyNDA5MTcwNjcw.OHGsBQDwFmhCSQVNofTHJZ00XaX7PNtaadWzGhMRw9Ig.D-AwTK7fPtGeeZQMvhP5hIqrpvAY2y1JOSz0hR7KKikg.JPEG%2Fpost_5301922279037386932.jpg%3Ftype%3Df200_200%22&type=nf40_40&service=navermain\"}},\"showLiveBadge\":false,\"_id\":\"654ad80598c6dbca70ba6ca8\"},{\"@type\":\"MATERIAL-PC-FEED\",\"title\":\"세계최초 전기차인데 오픈카가 있습니다\",\"url\":\"https://tv.naver.com/v/52692562\",\"image\":{\"url\":\"https://s.pstatic.net/dthumb.phinf/?src=%22https%3A%2F%2Fs.pstatic.net%2Ftvcast.phinf%2F20240606_252%2Fbj1QX_1717642791397gxg01_JPEG%2F3AD5107F-05BE-4E4F-8BAA-41EC939B5243.jpg%22&type=ff364_236&service=navermain\"},\"source\":{\"url\":\"https://tv.naver.com/goodman\",\"name\":\"굳맨\",\"image\":{\"url\":\"https://s.pstatic.net/dthumb.phinf/?src=%22https%3A%2F%2Fs.pstatic.net%2Ftvcast.phinf%2F20180207_255%2FL5PWq_1517981786329BOVt0_JPEG%2F1517981786289.JPG%22&type=nf40_40&service=navermain\"}},\"video\":{\"playTime\":\"00:42\"},\"showLiveBadge\":false,\"_id\":\"654ad80598c6dbca70ba6ca9\"}],\"excludeInPaging\":false,\"positionForPaging\":0,\"realtime\":false,\"needCologger\":false,\"ad\":false,\"@type\":\"PC-FEED-BLOCK\",\"@code\":\"PC-FEED-CARGAME-BEST-CONTENTS\",\"@template\":\"TWO-COLUMNS\"},{\"@type\":\"PC-FEED-BLOCK\",\"materials\":[{\"@type\":\"MATERIAL-PC-FEED\",\"title\":\"2025 렉서스 ES F 스포츠 하이브리드\",\"url\":\"https://search.naver.com/search.naver?where=nexearch&sm=mob_crc&mra=bjg1&pkid=128&os=33808496&qvt=0&query=2025%20%EB%A0%89%EC%84%9C%EC%8A%A4%20ES%20F%20%EC%8A%A4%ED%8F%AC%EC%B8%A0%20%ED%95%98%EC%9D%B4%EB%B8%8C%EB%A6%AC%EB%93%9C\",\"image\":{\"url\":\"https://s.pstatic.net/dthumb.phinf/?src=%22https%3A%2F%2Fimgauto-phinf.pstatic.net%2F20240325_211%2Fauto_17113384026694uXcq_PNG%2F20240325124630_UfNPBIWL.png%22&type=nf358_179&service=navermain\"},\"desc\":\"2024년 3월\",\"showLiveBadge\":false,\"_id\":\"654ad80598c6dbca70ba6caa\"},{\"@type\":\"MATERIAL-PC-FEED\",\"title\":\"2025 렉서스 NX 플러그인 하이브리드 중형\",\"url\":\"https://search.naver.com/search.naver?where=nexearch&sm=mob_crc&mra=bjg1&pkid=128&os=34069155&qvt=0&query=2025%20%EB%A0%89%EC%84%9C%EC%8A%A4%20NX%20%ED%94%8C%EB%9F%AC%EA%B7%B8%EC%9D%B8%20%ED%95%98%EC%9D%B4%EB%B8%8C%EB%A6%AC%EB%93%9C\",\"image\":{\"url\":\"https://s.pstatic.net/dthumb.phinf/?src=%22https%3A%2F%2Fimgauto-phinf.pstatic.net%2F20240513_227%2Fauto_1715587177862vr6Be_PNG%2F20240513165926_KOc6KUnd.png%22&type=nf358_179&service=navermain\"},\"desc\":\"2024년 5월\",\"showLiveBadge\":false,\"_id\":\"654ad80598c6dbca70ba6cab\"},{\"@type\":\"MATERIAL-PC-FEED\",\"title\":\"2024 캐딜락 리릭\",\"url\":\"https://search.naver.com/search.naver?where=nexearch&sm=mob_crc&mra=bjg1&pkid=128&os=34111531&qvt=0&query=2024%20%EC%BA%90%EB%94%9C%EB%9D%BD%20%EB%A6%AC%EB%A6%AD\",\"image\":{\"url\":\"https://s.pstatic.net/dthumb.phinf/?src=%22https%3A%2F%2Fimgauto-phinf.pstatic.net%2F20240523_139%2Fauto_1716449833721nfGOi_PNG%2F20240523163704_TvWyTj2V.png%22&type=nf358_179&service=navermain\"},\"desc\":\"2024년 6월\",\"showLiveBadge\":false,\"_id\":\"654ad80598c6dbca70ba6cac\"},{\"@type\":\"MATERIAL-PC-FEED\",\"title\":\"2025 렉서스 NX F 스포츠 플러그인 하이브리드 중형\",\"url\":\"https://search.naver.com/search.naver?where=nexearch&sm=mob_crc&mra=bjg1&pkid=128&os=34069144&qvt=0&query=2025%20%EB%A0%89%EC%84%9C%EC%8A%A4%20NX%20F%20%EC%8A%A4%ED%8F%AC%EC%B8%A0%20%ED%94%8C%EB%9F%AC%EA%B7%B8%EC%9D%B8%20%ED%95%98%EC%9D%B4%EB%B8%8C%EB%A6%AC%EB%93%9C\",\"image\":{\"url\":\"https://s.pstatic.net/dthumb.phinf/?src=%22https%3A%2F%2Fimgauto-phinf.pstatic.net%2F20240513_48%2Fauto_1715586774735oegbq_PNG%2F20240513165243_y688SzDz.png%22&type=nf358_179&service=navermain\"},\"desc\":\"2024년 5월\",\"showLiveBadge\":false,\"_id\":\"654ad80598c6dbca70ba6cad\"},{\"@type\":\"MATERIAL-PC-FEED\",\"title\":\"2025 QM6 중형\",\"url\":\"https://search.naver.com/search.naver?where=nexearch&sm=mob_crc&mra=bjg1&pkid=128&os=29841703&qvt=0&query=2025%20QM6\",\"image\":{\"url\":\"https://s.pstatic.net/dthumb.phinf/?src=%22https%3A%2F%2Fimgauto-phinf.pstatic.net%2F20240403_95%2Fauto_1712128088933nujuz_PNG%2F20240403160807_0ENdoTlh.png%22&type=nf358_179&service=navermain\"},\"desc\":\"2024년 4월\",\"showLiveBadge\":false,\"_id\":\"654ad80598c6dbca70ba6cae\"},{\"@type\":\"MATERIAL-PC-FEED\",\"title\":\"2025 그랜저\",\"url\":\"https://search.naver.com/search.naver?where=nexearch&sm=mob_crc&mra=bjg1&pkid=128&os=34216135&qvt=0&query=2025%20%EA%B7%B8%EB%9E%9C%EC%A0%80\",\"image\":{\"url\":\"https://s.pstatic.net/dthumb.phinf/?src=%22https%3A%2F%2Fimgauto-phinf.pstatic.net%2F20240605_35%2Fauto_1717560153564QkgGC_PNG%2F20240605130224_Nciw6nAW.png%22&type=nf358_179&service=navermain\"},\"desc\":\"2024년 6월\",\"showLiveBadge\":false,\"_id\":\"654ad80598c6dbca70ba6caf\"},{\"@type\":\"MATERIAL-PC-FEED\",\"title\":\"2024 볼보 EX30 소형\",\"url\":\"https://search.naver.com/search.naver?where=nexearch&sm=mob_crc&mra=bjg1&pkid=128&os=32762991&qvt=0&query=2024%20%EB%B3%BC%EB%B3%B4%20EX30\",\"image\":{\"url\":\"https://s.pstatic.net/dthumb.phinf/?src=%22https%3A%2F%2Fimgauto-phinf.pstatic.net%2F20231128_114%2Fauto_1701129903058jqAUw_PNG%2F20231128090448_RdCE8ZqD.png%22&type=nf358_179&service=navermain\"},\"desc\":\"2024년 6월\",\"showLiveBadge\":false,\"_id\":\"654ad80598c6dbca70ba6cb0\"},{\"@type\":\"MATERIAL-PC-FEED\",\"title\":\"2025 쉐보레 트레일블레이저 소형\",\"url\":\"https://search.naver.com/search.naver?where=nexearch&sm=mob_crc&mra=bjg1&pkid=128&os=34107074&qvt=0&query=2025%20%EC%89%90%EB%B3%B4%EB%A0%88%20%ED%8A%B8%EB%A0%88%EC%9D%BC%EB%B8%94%EB%A0%88%EC%9D%B4%EC%A0%80\",\"image\":{\"url\":\"https://s.pstatic.net/dthumb.phinf/?src=%22https%3A%2F%2Fimgauto-phinf.pstatic.net%2F20240522_216%2Fauto_1716349245705w90fU_PNG%2F20240522124036_7lHwUO0p.png%22&type=nf358_179&service=navermain\"},\"desc\":\"2024년 5월\",\"showLiveBadge\":false,\"_id\":\"654ad80598c6dbca70ba6cb1\"},{\"@type\":\"MATERIAL-PC-FEED\",\"title\":\"2025 GV70 중형\",\"url\":\"https://search.naver.com/search.naver?where=nexearch&sm=mob_crc&mra=bjg1&pkid=128&os=33979157&qvt=0&query=2025%20GV70\",\"image\":{\"url\":\"https://s.pstatic.net/dthumb.phinf/?src=%22https%3A%2F%2Fimgauto-phinf.pstatic.net%2F20240508_237%2Fauto_1715132569855dJKNG_PNG%2F20240508104248_F1BZquFR.png%22&type=nf358_179&service=navermain\"},\"desc\":\"2024년 5월\",\"showLiveBadge\":false,\"_id\":\"654ad80598c6dbca70ba6cb2\"},{\"@type\":\"MATERIAL-PC-FEED\",\"title\":\"2025 그랜저 하이브리드\",\"url\":\"https://search.naver.com/search.naver?where=nexearch&sm=mob_crc&mra=bjg1&pkid=128&os=34216113&qvt=0&query=2025%20%EA%B7%B8%EB%9E%9C%EC%A0%80%20%ED%95%98%EC%9D%B4%EB%B8%8C%EB%A6%AC%EB%93%9C\",\"image\":{\"url\":\"https://s.pstatic.net/dthumb.phinf/?src=%22https%3A%2F%2Fimgauto-phinf.pstatic.net%2F20240605_43%2Fauto_1717560332397QWfqm_PNG%2F20240605130522_nHmaB0MM.png%22&type=nf358_179&service=navermain\"},\"desc\":\"2024년 6월\",\"showLiveBadge\":false,\"_id\":\"654ad80598c6dbca70ba6cb3\"},{\"@type\":\"MATERIAL-PC-FEED\",\"title\":\"2025 렉서스 NX 하이브리드 중형\",\"url\":\"https://search.naver.com/search.naver?where=nexearch&sm=mob_crc&mra=bjg1&pkid=128&os=34069154&qvt=0&query=2025%20%EB%A0%89%EC%84%9C%EC%8A%A4%20NX%20%ED%95%98%EC%9D%B4%EB%B8%8C%EB%A6%AC%EB%93%9C\",\"image\":{\"url\":\"https://s.pstatic.net/dthumb.phinf/?src=%22https%3A%2F%2Fimgauto-phinf.pstatic.net%2F20240513_265%2Fauto_17155875708564A72a_PNG%2F20240513170601_4l4Zx2bF.png%22&type=nf358_179&service=navermain\"},\"desc\":\"2024년 5월\",\"showLiveBadge\":false,\"_id\":\"654ad80598c6dbca70ba6cb4\"},{\"@type\":\"MATERIAL-PC-FEED\",\"title\":\"2025 토레스 중형\",\"url\":\"https://search.naver.com/search.naver?where=nexearch&sm=mob_crc&mra=bjg1&pkid=128&os=34023330&qvt=0&query=2025%20%ED%86%A0%EB%A0%88%EC%8A%A4\",\"image\":{\"url\":\"https://s.pstatic.net/dthumb.phinf/?src=%22https%3A%2F%2Fimgauto-phinf.pstatic.net%2F20240508_223%2Fauto_1715142050200OfLPy_PNG%2F20240508132037_B6mtusGV.png%22&type=nf358_179&service=navermain\"},\"desc\":\"2024년 5월\",\"showLiveBadge\":false,\"_id\":\"654ad80598c6dbca70ba6cb5\"},{\"@type\":\"MATERIAL-PC-FEED\",\"title\":\"2025 렉서스 ES 하이브리드\",\"url\":\"https://search.naver.com/search.naver?where=nexearch&sm=mob_crc&mra=bjg1&pkid=128&os=33808505&qvt=0&query=2025%20%EB%A0%89%EC%84%9C%EC%8A%A4%20ES%20%ED%95%98%EC%9D%B4%EB%B8%8C%EB%A6%AC%EB%93%9C\",\"image\":{\"url\":\"https://s.pstatic.net/dthumb.phinf/?src=%22https%3A%2F%2Fimgauto-phinf.pstatic.net%2F20240325_187%2Fauto_1711338737990veylq_PNG%2F20240325125207_gn53nOJv.png%22&type=nf358_179&service=navermain\"},\"desc\":\"2024년 3월\",\"showLiveBadge\":false,\"_id\":\"654ad80598c6dbca70ba6cb6\"},{\"@type\":\"MATERIAL-PC-FEED\",\"title\":\"2025 아르카나 소형\",\"url\":\"https://search.naver.com/search.naver?where=nexearch&sm=mob_crc&mra=bjg1&pkid=128&os=33853113&qvt=0&query=2025%20%EC%95%84%EB%A5%B4%EC%B9%B4%EB%82%98\",\"image\":{\"url\":\"https://s.pstatic.net/dthumb.phinf/?src=%22https%3A%2F%2Fimgauto-phinf.pstatic.net%2F20240403_68%2Fauto_1712127044952ISU3a_PNG%2F20240403155035_qqXUP6o2.png%22&type=nf358_179&service=navermain\"},\"desc\":\"2024년 4월\",\"showLiveBadge\":false,\"_id\":\"654ad80598c6dbca70ba6cb7\"},{\"@type\":\"MATERIAL-PC-FEED\",\"title\":\"2024 메르세데스-벤츠 EQA 준중형\",\"url\":\"https://search.naver.com/search.naver?where=nexearch&sm=mob_crc&mra=bjg1&pkid=128&os=32058377&qvt=0&query=2024%20%EB%A9%94%EB%A5%B4%EC%84%B8%EB%8D%B0%EC%8A%A4-%EB%B2%A4%EC%B8%A0%20EQA\",\"image\":{\"url\":\"https://s.pstatic.net/dthumb.phinf/?src=%22https%3A%2F%2Fimgauto-phinf.pstatic.net%2F20230825_272%2Fauto_1692926941031O1YPU_PNG%2F20230825102849_mQzG1MdX.png%22&type=nf358_179&service=navermain\"},\"desc\":\"2024년 5월\",\"showLiveBadge\":false,\"_id\":\"654ad80598c6dbca70ba6cb8\"},{\"@type\":\"MATERIAL-PC-FEED\",\"title\":\"2025 아르카나 E-테크 하이브리드 소형\",\"url\":\"https://search.naver.com/search.naver?where=nexearch&sm=mob_crc&mra=bjg1&pkid=128&os=33853112&qvt=0&query=2025%20%EC%95%84%EB%A5%B4%EC%B9%B4%EB%82%98%20E-%ED%85%8C%ED%81%AC%20%ED%95%98%EC%9D%B4%EB%B8%8C%EB%A6%AC%EB%93%9C\",\"image\":{\"url\":\"https://s.pstatic.net/dthumb.phinf/?src=%22https%3A%2F%2Fimgauto-phinf.pstatic.net%2F20240403_234%2Fauto_1712124872574APeCW_PNG%2F20240403151420_deiOnvr0.png%22&type=nf358_179&service=navermain\"},\"desc\":\"2024년 4월\",\"showLiveBadge\":false,\"_id\":\"654ad80598c6dbca70ba6cb9\"},{\"@type\":\"MATERIAL-PC-FEED\",\"title\":\"2025 쉐보레 트랙스 크로스오버 소형\",\"url\":\"https://search.naver.com/search.naver?where=nexearch&sm=mob_crc&mra=bjg1&pkid=128&os=33774200&qvt=0&query=2025%20%EC%89%90%EB%B3%B4%EB%A0%88%20%ED%8A%B8%EB%9E%99%EC%8A%A4%20%ED%81%AC%EB%A1%9C%EC%8A%A4%EC%98%A4%EB%B2%84\",\"image\":{\"url\":\"https://s.pstatic.net/dthumb.phinf/?src=%22https%3A%2F%2Fimgauto-phinf.pstatic.net%2F20240314_77%2Fauto_1710388514584jQQpT_PNG%2F20240314125500_NmLokfQg.png%22&type=nf358_179&service=navermain\"},\"desc\":\"2024년 3월\",\"showLiveBadge\":false,\"_id\":\"654ad80598c6dbca70ba6cba\"},{\"@type\":\"MATERIAL-PC-FEED\",\"title\":\"2025 EV3 소형\",\"url\":\"https://search.naver.com/search.naver?where=nexearch&sm=mob_crc&mra=bjg1&pkid=128&os=34212257&qvt=0&query=2025%20EV3\",\"image\":{\"url\":\"https://s.pstatic.net/dthumb.phinf/?src=%22https%3A%2F%2Fimgauto-phinf.pstatic.net%2F20240604_188%2Fauto_1717465349622ABxX2_PNG%2F20240604104209_wv4mJ48r.png%22&type=nf358_179&service=navermain\"},\"desc\":\"2024년 6월\",\"showLiveBadge\":false,\"_id\":\"654ad80598c6dbca70ba6cbb\"},{\"@type\":\"MATERIAL-PC-FEED\",\"title\":\"2024 캐딜락 XT4 준중형\",\"url\":\"https://search.naver.com/search.naver?where=nexearch&sm=mob_crc&mra=bjg1&pkid=128&os=29806739&qvt=0&query=2024%20%EC%BA%90%EB%94%9C%EB%9D%BD%20XT4\",\"image\":{\"url\":\"https://s.pstatic.net/dthumb.phinf/?src=%22https%3A%2F%2Fimgauto-phinf.pstatic.net%2F20240507_124%2Fauto_1715044554731WMy1L_PNG%2F20240507101553_CosXTFQd.png%22&type=nf358_179&service=navermain\"},\"desc\":\"2024년 6월\",\"showLiveBadge\":false,\"_id\":\"654ad80598c6dbca70ba6cbc\"},{\"@type\":\"MATERIAL-PC-FEED\",\"title\":\"2025 코란도 EV 준중형\",\"url\":\"https://search.naver.com/search.naver?where=nexearch&sm=mob_crc&mra=bjg1&pkid=128&os=34212390&qvt=0&query=2025%20%EC%BD%94%EB%9E%80%EB%8F%84%20EV\",\"image\":{\"url\":\"https://s.pstatic.net/dthumb.phinf/?src=%22https%3A%2F%2Fimgauto-phinf.pstatic.net%2F20240604_13%2Fauto_1717468269494680oD_PNG%2F20240604113100_YIpz78Y5.png%22&type=nf358_179&service=navermain\"},\"desc\":\"2024년 6월\",\"showLiveBadge\":false,\"_id\":\"654ad80598c6dbca70ba6cbd\"}],\"excludeInPaging\":false,\"positionForPaging\":0,\"realtime\":false,\"title\":\"요즘 신차\",\"needCologger\":false,\"ad\":false,\"@type\":\"PC-FEED-BLOCK\",\"@code\":\"PC-FEED-CARGAME-NEW-CAR\",\"@template\":\"FOUR-COLUMNS-CAR\"}],\"materials\":null,\"excludeInPaging\":false,\"positionForPaging\":0,\"realtime\":false,\"_id\":null,\"@type\":\"BLOCK\",\"@code\":\"PC-FEED-CARGAME\",\"@template\":\"NONE\",\"@flowId\":null,\"@flowExecutionId\":null,\"@provider\":null,\"@lastModifiedAt\":null}],\"materials\":null,\"excludeInPaging\":false,\"positionForPaging\":0,\"realtime\":false,\"_id\":\"6441ca92a10d3006855f9acd\",\"@type\":\"BLOCK\",\"@code\":\"PC-FEED-WRAPPER\",\"@template\":\"PC-FEED-WRAPPER\",\"@flowId\":\"PC-FEED-WRAPPER\",\"@flowExecutionId\":\"6dc01aa2-24a3-11ef-b933-5fa9b9bc4d8f\",\"@provider\":\"lambda\",\"@lastModifiedAt\":[2024,6,7,7,56,22,122000000]}\n",
      "window[\"EAGER-DATA\"][\"CAS-MINICONTENT-PC-SPECIAL-LOGO\"] = {\"@type\":\"MINI-CONTENT-BLOCK\",\"blocks\":null,\"materials\":null,\"excludeInPaging\":false,\"positionForPaging\":0,\"realtime\":false,\"items\":[],\"_id\":\"6433d8e3a10d3006850274e8\",\"@type\":\"MINI-CONTENT-BLOCK\",\"@code\":\"CAS-MINICONTENT-PC-SPECIAL-LOGO\",\"@template\":\"NONE\",\"@flowId\":\"CAS-MINICONTENT\",\"@flowExecutionId\":\"787b9a2e-24a3-11ef-b933-db64922c148d\",\"@provider\":\"lambda\",\"@lastModifiedAt\":[2024,6,7,7,56,39,167000000]}\n",
      "window[\"EAGER-DATA\"][\"PC-MEDIA-WRAPPER\"] = {\"@type\":\"PC-MEDIA-CONTENTS-BLOCK\",\"blocks\":[{\"@type\":\"BLOCK\",\"blocks\":[{\"@type\":\"PC-NEWSSTAND-BLOCK\",\"blocks\":[{\"@type\":\"PC-NEWSSTAND-PRESS-BLOCK\",\"blocks\":null,\"materials\":null,\"excludeInPaging\":false,\"positionForPaging\":0,\"realtime\":false,\"pid\":\"907\",\"name\":\"경북매일신문\",\"logoLight\":{\"url\":\"https://s.pstatic.net/static/newsstand/2020/logo/light/0604/907.png\"},\"logoDark\":{\"url\":\"https://s.pstatic.net/static/newsstand/2020/logo/dark/0604/907.png\"},\"showThumbnailView\":true,\"showListView\":true,\"regDate\":\"20240607 16:40:13\",\"_id\":null,\"@type\":\"PC-NEWSSTAND-PRESS-BLOCK\",\"@code\":null,\"@template\":\"NONE\",\"@flowId\":null,\"@flowExecutionId\":null,\"@provider\":null,\"@lastModifiedAt\":null},{\"@type\":\"PC-NEWSSTAND-PRESS-BLOCK\",\"blocks\":null,\"materials\":null,\"excludeInPaging\":false,\"positionForPaging\":0,\"realtime\":false,\"pid\":\"908\",\"name\":\"국방일보\",\"logoLight\":{\"url\":\"https://s.pstatic.net/static/newsstand/2020/logo/light/0604/908.png\"},\"logoDark\":{\"url\":\"https://s.pstatic.net/static/newsstand/2020/logo/dark/0604/908.png\"},\"showThumbnailView\":true,\"showListView\":true,\"regDate\":\"20240606 16:27:09\",\"_id\":null,\"@type\":\"PC-NEWSSTAND-PRESS-BLOCK\",\"@code\":null,\"@template\":\"NONE\",\"@flowId\":null,\"@flowExecutionId\":null,\"@provider\":null,\"@lastModifiedAt\":null},{\"@type\":\"PC-NEWSSTAND-PRESS-BLOCK\",\"blocks\":null,\"materials\":null,\"excludeInPaging\":false,\"positionForPaging\":0,\"realtime\":false,\"pid\":\"909\",\"name\":\"기호일보\",\"logoLight\":{\"url\":\"https://s.pstatic.net/static/newsstand/2020/logo/light/0604/909.png\"},\"logoDark\":{\"url\":\"https://s.pstatic.net/static/newsstand/2020/logo/dark/0604/909.png\"},\"showThumbnailView\":true,\"showListView\":true,\"regDate\":\"20240607 10:41:06\",\"_id\":null,\"@type\":\"PC-NEWSSTAND-PRESS-BLOCK\",\"@code\":null,\"@template\":\"NONE\",\"@flowId\":null,\"@flowExecutionId\":null,\"@provider\":null,\"@lastModifiedAt\":null},{\"@type\":\"PC-NEWSSTAND-PRESS-BLOCK\",\"blocks\":null,\"materials\":null,\"excludeInPaging\":false,\"positionForPaging\":0,\"realtime\":false,\"pid\":\"353\",\"name\":\"중앙SUNDAY\",\"logoLight\":{\"url\":\"https://s.pstatic.net/static/newsstand/2020/logo/light/0604/353.png\"},\"logoDark\":{\"url\":\"https://s.pstatic.net/static/newsstand/2020/logo/dark/0604/353.png\"},\"showThumbnailView\":true,\"showListView\":true,\"regDate\":\"20240607 16:37:22\",\"_id\":null,\"@type\":\"PC-NEWSSTAND-PRESS-BLOCK\",\"@code\":null,\"@template\":\"NONE\",\"@flowId\":null,\"@flowExecutionId\":null,\"@provider\":null,\"@lastModifiedAt\":null},{\"@type\":\"PC-NEWSSTAND-PRESS-BLOCK\",\"blocks\":null,\"materials\":null,\"excludeInPaging\":false,\"positionForPaging\":0,\"realtime\":false,\"pid\":\"354\",\"name\":\"엘르\",\"logoLight\":{\"url\":\"https://s.pstatic.net/static/newsstand/2020/logo/light/0604/354.png\"},\"logoDark\":{\"url\":\"https://s.pstatic.net/static/newsstand/2020/logo/dark/0604/354.png\"},\"showThumbnailView\":true,\"showListView\":true,\"regDate\":\"20240607 16:51:28\",\"_id\":null,\"@type\":\"PC-NEWSSTAND-PRESS-BLOCK\",\"@code\":null,\"@template\":\"NONE\",\"@flowId\":null,\"@flowExecutionId\":null,\"@provider\":null,\"@lastModifiedAt\":null},{\"@type\":\"PC-NEWSSTAND-PRESS-BLOCK\",\"blocks\":null,\"materials\":null,\"excludeInPaging\":false,\"positionForPaging\":0,\"realtime\":false,\"pid\":\"355\",\"name\":\"사이언스타임즈\",\"logoLight\":{\"url\":\"https://s.pstatic.net/static/newsstand/2020/logo/light/0604/355.png\"},\"logoDark\":{\"url\":\"https://s.pstatic.net/static/newsstand/2020/logo/dark/0604/355.png\"},\"showThumbnailView\":true,\"showListView\":true,\"regDate\":\"20240605 13:56:13\",\"_id\":null,\"@type\":\"PC-NEWSSTAND-PRESS-BLOCK\",\"@code\":null,\"@template\":\"NONE\",\"@flowId\":null,\"@flowExecutionId\":null,\"@provider\":null,\"@lastModifiedAt\":null},{\"@type\":\"PC-NEWSSTAND-PRESS-BLOCK\",\"blocks\":null,\"materials\":null,\"excludeInPaging\":false,\"positionForPaging\":0,\"realtime\":false,\"pid\":\"356\",\"name\":\"게임메카\",\"logoLight\":{\"url\":\"https://s.pstatic.net/static/newsstand/2020/logo/light/0604/356.png\"},\"logoDark\":{\"url\":\"https://s.pstatic.net/static/newsstand/2020/logo/dark/0604/356.png\"},\"showThumbnailView\":true,\"showListView\":true,\"regDate\":\"20240607 16:22:38\",\"_id\":null,\"@type\":\"PC-NEWSSTAND-PRESS-BLOCK\",\"@code\":null,\"@template\":\"NONE\",\"@flowId\":null,\"@flowExecutionId\":null,\"@provider\":null,\"@lastModifiedAt\":null},{\"@type\":\"PC-NEWSSTAND-PRESS-BLOCK\",\"blocks\":null,\"materials\":null,\"excludeInPaging\":false,\"positionForPaging\":0,\"realtime\":false,\"pid\":\"477\",\"name\":\"스포티비뉴스\",\"logoLight\":{\"url\":\"https://s.pstatic.net/static/newsstand/up/2021/1130/nsd10159718.png\"},\"logoDark\":{\"url\":\"https://s.pstatic.net/static/newsstand/up/2021/1130/nsd101536636.png\"},\"showThumbnailView\":true,\"showListView\":true,\"regDate\":\"20240607 16:40:05\",\"_id\":null,\"@type\":\"PC-NEWSSTAND-PRESS-BLOCK\",\"@code\":null,\"@template\":\"NONE\",\"@flowId\":null,\"@flowExecutionId\":null,\"@provider\":null,\"@lastModifiedAt\":null},{\"@type\":\"PC-NEWSSTAND-PRESS-BLOCK\",\"blocks\":null,\"materials\":null,\"excludeInPaging\":false,\"positionForPaging\":0,\"realtime\":false,\"pid\":\"117\",\"name\":\"마이데일리\",\"logoLight\":{\"url\":\"https://s.pstatic.net/static/newsstand/2020/logo/light/0604/117.png\"},\"logoDark\":{\"url\":\"https://s.pstatic.net/static/newsstand/2020/logo/dark/0604/117.png\"},\"showThumbnailView\":true,\"showListView\":true,\"regDate\":\"20240607 15:55:06\",\"_id\":null,\"@type\":\"PC-NEWSSTAND-PRESS-BLOCK\",\"@code\":null,\"@template\":\"NONE\",\"@flowId\":null,\"@flowExecutionId\":null,\"@provider\":null,\"@lastModifiedAt\":null},{\"@type\":\"PC-NEWSSTAND-PRESS-BLOCK\",\"blocks\":null,\"materials\":null,\"excludeInPaging\":false,\"positionForPaging\":0,\"realtime\":false,\"pid\":\"910\",\"name\":\"넥스트데일리\",\"logoLight\":{\"url\":\"https://s.pstatic.net/static/newsstand/2020/logo/light/0604/910.png\"},\"logoDark\":{\"url\":\"https://s.pstatic.net/static/newsstand/2020/logo/dark/0604/910.png\"},\"showThumbnailView\":true,\"showListView\":true,\"regDate\":\"20240607 16:40:24\",\"_id\":null,\"@type\":\"PC-NEWSSTAND-PRESS-BLOCK\",\"@code\":null,\"@template\":\"NONE\",\"@flowId\":null,\"@flowExecutionId\":null,\"@provider\":null,\"@lastModifiedAt\":null},{\"@type\":\"PC-NEWSSTAND-PRESS-BLOCK\",\"blocks\":null,\"materials\":null,\"excludeInPaging\":false,\"positionForPaging\":0,\"realtime\":false,\"pid\":\"911\",\"name\":\"농민신문\",\"logoLight\":{\"url\":\"https://s.pstatic.net/static/newsstand/2020/logo/light/0604/911.png\"},\"logoDark\":{\"url\":\"https://s.pstatic.net/static/newsstand/2020/logo/dark/0604/911.png\"},\"showThumbnailView\":true,\"showListView\":true,\"regDate\":\"20240607 13:45:00\",\"_id\":null,\"@type\":\"PC-NEWSSTAND-PRESS-BLOCK\",\"@code\":null,\"@template\":\"NONE\",\"@flowId\":null,\"@flowExecutionId\":null,\"@provider\":null,\"@lastModifiedAt\":null},{\"@type\":\"PC-NEWSSTAND-PRESS-BLOCK\",\"blocks\":null,\"materials\":null,\"excludeInPaging\":false,\"positionForPaging\":0,\"realtime\":false,\"pid\":\"913\",\"name\":\"뉴스토마토\",\"logoLight\":{\"url\":\"https://s.pstatic.net/static/newsstand/2020/logo/light/0604/913.png\"},\"logoDark\":{\"url\":\"https://s.pstatic.net/static/newsstand/2020/logo/dark/0604/913.png\"},\"showThumbnailView\":true,\"showListView\":true,\"regDate\":\"20240607 16:51:59\",\"_id\":null,\"@type\":\"PC-NEWSSTAND-PRESS-BLOCK\",\"@code\":null,\"@template\":\"NONE\",\"@flowId\":null,\"@flowExecutionId\":null,\"@provider\":null,\"@lastModifiedAt\":null},{\"@type\":\"PC-NEWSSTAND-PRESS-BLOCK\",\"blocks\":null,\"materials\":null,\"excludeInPaging\":false,\"positionForPaging\":0,\"realtime\":false,\"pid\":\"914\",\"name\":\"뉴스핌\",\"logoLight\":{\"url\":\"https://s.pstatic.net/static/newsstand/2020/logo/light/0604/914.png\"},\"logoDark\":{\"url\":\"https://s.pstatic.net/static/newsstand/2020/logo/dark/0604/914.png\"},\"showThumbnailView\":true,\"showListView\":true,\"regDate\":\"20240607 16:45:19\",\"_id\":null,\"@type\":\"PC-NEWSSTAND-PRESS-BLOCK\",\"@code\":null,\"@template\":\"NONE\",\"@flowId\":null,\"@flowExecutionId\":null,\"@provider\":null,\"@lastModifiedAt\":null},{\"@type\":\"PC-NEWSSTAND-PRESS-BLOCK\",\"blocks\":null,\"materials\":null,\"excludeInPaging\":false,\"positionForPaging\":0,\"realtime\":false,\"pid\":\"915\",\"name\":\"르몽드 디플로마티크\",\"logoLight\":{\"url\":\"https://s.pstatic.net/static/newsstand/2020/logo/light/0604/915.png\"},\"logoDark\":{\"url\":\"https://s.pstatic.net/static/newsstand/2020/logo/dark/0604/915.png\"},\"showThumbnailView\":true,\"showListView\":true,\"regDate\":\"20240524 15:34:39\",\"_id\":null,\"@type\":\"PC-NEWSSTAND-PRESS-BLOCK\",\"@code\":null,\"@template\":\"NONE\",\"@flowId\":null,\"@flowExecutionId\":null,\"@provider\":null,\"@lastModifiedAt\":null},{\"@type\":\"PC-NEWSSTAND-PRESS-BLOCK\",\"blocks\":null,\"materials\":null,\"excludeInPaging\":false,\"positionForPaging\":0,\"realtime\":false,\"pid\":\"916\",\"name\":\"머니투데이방송\",\"logoLight\":{\"url\":\"https://s.pstatic.net/static/newsstand/up/2021/0420/nsd105139164.png\"},\"logoDark\":{\"url\":\"https://s.pstatic.net/static/newsstand/up/2021/0420/nsd104943516.png\"},\"showThumbnailView\":true,\"showListView\":true,\"regDate\":\"20240607 15:34:04\",\"_id\":null,\"@type\":\"PC-NEWSSTAND-PRESS-BLOCK\",\"@code\":null,\"@template\":\"NONE\",\"@flowId\":null,\"@flowExecutionId\":null,\"@provider\":null,\"@lastModifiedAt\":null},{\"@type\":\"PC-NEWSSTAND-PRESS-BLOCK\",\"blocks\":null,\"materials\":null,\"excludeInPaging\":false,\"positionForPaging\":0,\"realtime\":false,\"pid\":\"917\",\"name\":\"IT조선\",\"logoLight\":{\"url\":\"https://s.pstatic.net/static/newsstand/2020/logo/light/0604/917.png\"},\"logoDark\":{\"url\":\"https://s.pstatic.net/static/newsstand/2020/logo/dark/0604/917.png\"},\"showThumbnailView\":true,\"showListView\":true,\"regDate\":\"20240607 16:40:37\",\"_id\":null,\"@type\":\"PC-NEWSSTAND-PRESS-BLOCK\",\"@code\":null,\"@template\":\"NONE\",\"@flowId\":null,\"@flowExecutionId\":null,\"@provider\":null,\"@lastModifiedAt\":null},{\"@type\":\"PC-NEWSSTAND-PRESS-BLOCK\",\"blocks\":null,\"materials\":null,\"excludeInPaging\":false,\"positionForPaging\":0,\"realtime\":false,\"pid\":\"361\",\"name\":\"채널예스\",\"logoLight\":{\"url\":\"https://s.pstatic.net/static/newsstand/up/2023/0418/nsd124959421.png\"},\"logoDark\":{\"url\":\"https://s.pstatic.net/static/newsstand/up/2023/0418/nsd124945796.png\"},\"showThumbnailView\":true,\"showListView\":true,\"regDate\":\"20240607 16:40:46\",\"_id\":null,\"@type\":\"PC-NEWSSTAND-PRESS-BLOCK\",\"@code\":null,\"@template\":\"NONE\",\"@flowId\":null,\"@flowExecutionId\":null,\"@provider\":null,\"@lastModifiedAt\":null},{\"@type\":\"PC-NEWSSTAND-PRESS-BLOCK\",\"blocks\":null,\"materials\":null,\"excludeInPaging\":false,\"positionForPaging\":0,\"realtime\":false,\"pid\":\"120\",\"name\":\"EBN\",\"logoLight\":{\"url\":\"https://s.pstatic.net/static/newsstand/2020/logo/light/0604/120.png\"},\"logoDark\":{\"url\":\"https://s.pstatic.net/static/newsstand/2020/logo/dark/0604/120.png\"},\"showThumbnailView\":true,\"showListView\":true,\"regDate\":\"20240607 14:05:57\",\"_id\":null,\"@type\":\"PC-NEWSSTAND-PRESS-BLOCK\",\"@code\":null,\"@template\":\"NONE\",\"@flowId\":null,\"@flowExecutionId\":null,\"@provider\":null,\"@lastModifiedAt\":null},{\"@type\":\"PC-NEWSSTAND-PRESS-BLOCK\",\"blocks\":null,\"materials\":null,\"excludeInPaging\":false,\"positionForPaging\":0,\"realtime\":false,\"pid\":\"241\",\"name\":\"일간스포츠\",\"logoLight\":{\"url\":\"https://s.pstatic.net/static/newsstand/up/2023/0112/nsd92558162.png\"},\"logoDark\":{\"url\":\"https://s.pstatic.net/static/newsstand/2020/logo/dark/0604/241.png\"},\"showThumbnailView\":true,\"showListView\":true,\"regDate\":\"20240607 13:11:19\",\"_id\":null,\"@type\":\"PC-NEWSSTAND-PRESS-BLOCK\",\"@code\":null,\"@template\":\"NONE\",\"@flowId\":null,\"@flowExecutionId\":null,\"@provider\":null,\"@lastModifiedAt\":null},{\"@type\":\"PC-NEWSSTAND-PRESS-BLOCK\",\"blocks\":null,\"materials\":null,\"excludeInPaging\":false,\"positionForPaging\":0,\"realtime\":false,\"pid\":\"363\",\"name\":\"동아사이언스\",\"logoLight\":{\"url\":\"https://s.pstatic.net/static/newsstand/2020/logo/light/0604/363.png\"},\"logoDark\":{\"url\":\"https://s.pstatic.net/static/newsstand/2020/logo/dark/0604/363.png\"},\"showThumbnailView\":true,\"showListView\":true,\"regDate\":\"20240605 18:02:56\",\"_id\":null,\"@type\":\"PC-NEWSSTAND-PRESS-BLOCK\",\"@code\":null,\"@template\":\"NONE\",\"@flowId\":null,\"@flowExecutionId\":null,\"@provider\":null,\"@lastModifiedAt\":null},{\"@type\":\"PC-NEWSSTAND-PRESS-BLOCK\",\"blocks\":null,\"materials\":null,\"excludeInPaging\":false,\"positionForPaging\":0,\"realtime\":false,\"pid\":\"122\",\"name\":\"법률신문\",\"logoLight\":{\"url\":\"https://s.pstatic.net/static/newsstand/up/2022/1103/nsd124326426.png\"},\"logoDark\":{\"url\":\"https://s.pstatic.net/static/newsstand/up/2022/1103/nsd124320554.png\"},\"showThumbnailView\":true,\"showListView\":true,\"regDate\":\"20240607 07:37:32\",\"_id\":null,\"@type\":\"PC-NEWSSTAND-PRESS-BLOCK\",\"@code\":null,\"@template\":\"NONE\",\"@flowId\":null,\"@flowExecutionId\":null,\"@provider\":null,\"@lastModifiedAt\":null},{\"@type\":\"PC-NEWSSTAND-PRESS-BLOCK\",\"blocks\":null,\"materials\":null,\"excludeInPaging\":false,\"positionForPaging\":0,\"realtime\":false,\"pid\":\"243\",\"name\":\"이코노미스트\",\"logoLight\":{\"url\":\"https://s.pstatic.net/static/newsstand/2020/logo/light/0604/243.png\"},\"logoDark\":{\"url\":\"https://s.pstatic.net/static/newsstand/2020/logo/dark/0604/243.png\"},\"showThumbnailView\":true,\"showListView\":true,\"regDate\":\"20240607 13:18:02\",\"_id\":null,\"@type\":\"PC-NEWSSTAND-PRESS-BLOCK\",\"@code\":null,\"@template\":\"NONE\",\"@flowId\":null,\"@flowExecutionId\":null,\"@provider\":null,\"@lastModifiedAt\":null},{\"@type\":\"PC-NEWSSTAND-PRESS-BLOCK\",\"blocks\":null,\"materials\":null,\"excludeInPaging\":false,\"positionForPaging\":0,\"realtime\":false,\"pid\":\"364\",\"name\":\"PC사랑\",\"logoLight\":{\"url\":\"https://s.pstatic.net/static/newsstand/2020/logo/light/0604/364.png\"},\"logoDark\":{\"url\":\"https://s.pstatic.net/static/newsstand/2020/logo/dark/0604/364.png\"},\"showThumbnailView\":true,\"showListView\":true,\"regDate\":\"20240603 10:04:18\",\"_id\":null,\"@type\":\"PC-NEWSSTAND-PRESS-BLOCK\",\"@code\":null,\"@template\":\"NONE\",\"@flowId\":null,\"@flowExecutionId\":null,\"@provider\":null,\"@lastModifiedAt\":null},{\"@type\":\"PC-NEWSSTAND-PRESS-BLOCK\",\"blocks\":null,\"materials\":null,\"excludeInPaging\":false,\"positionForPaging\":0,\"realtime\":false,\"pid\":\"002\",\"name\":\"프레시안\",\"logoLight\":{\"url\":\"https://s.pstatic.net/static/newsstand/2020/logo/light/0604/002.png\"},\"logoDark\":{\"url\":\"https://s.pstatic.net/static/newsstand/2020/logo/dark/0604/002.png\"},\"showThumbnailView\":true,\"showListView\":true,\"regDate\":\"20240607 16:02:43\",\"_id\":null,\"@type\":\"PC-NEWSSTAND-PRESS-BLOCK\",\"@code\":null,\"@template\":\"NONE\",\"@flowId\":null,\"@flowExecutionId\":null,\"@provider\":null,\"@lastModifiedAt\":null},{\"@type\":\"PC-NEWSSTAND-PRESS-BLOCK\",\"blocks\":null,\"materials\":null,\"excludeInPaging\":false,\"positionForPaging\":0,\"realtime\":false,\"pid\":\"123\",\"name\":\"조세일보\",\"logoLight\":{\"url\":\"https://s.pstatic.net/static/newsstand/2020/logo/light/0604/123.png\"},\"logoDark\":{\"url\":\"https://s.pstatic.net/static/newsstand/2020/logo/dark/0604/123.png\"},\"showThumbnailView\":true,\"showListView\":true,\"regDate\":\"20240607 16:29:35\",\"_id\":null,\"@type\":\"PC-NEWSSTAND-PRESS-BLOCK\",\"@code\":null,\"@template\":\"NONE\",\"@flowId\":null,\"@flowExecutionId\":null,\"@provider\":null,\"@lastModifiedAt\":null},{\"@type\":\"PC-NEWSSTAND-PRESS-BLOCK\",\"blocks\":null,\"materials\":null,\"excludeInPaging\":false,\"positionForPaging\":0,\"realtime\":false,\"pid\":\"003\",\"name\":\"뉴시스\",\"logoLight\":{\"url\":\"https://s.pstatic.net/static/newsstand/2020/logo/light/0604/003.png\"},\"logoDark\":{\"url\":\"https://s.pstatic.net/static/newsstand/2020/logo/dark/0604/003.png\"},\"showThumbnailView\":true,\"showListView\":true,\"regDate\":\"20240607 16:42:07\",\"_id\":null,\"@type\":\"PC-NEWSSTAND-PRESS-BLOCK\",\"@code\":null,\"@template\":\"NONE\",\"@flowId\":null,\"@flowExecutionId\":null,\"@provider\":null,\"@lastModifiedAt\":null},{\"@type\":\"PC-NEWSSTAND-PRESS-BLOCK\",\"blocks\":null,\"materials\":null,\"excludeInPaging\":false,\"positionForPaging\":0,\"realtime\":false,\"pid\":\"366\",\"name\":\"조선비즈\",\"logoLight\":{\"url\":\"https://s.pstatic.net/static/newsstand/2020/logo/light/0604/366.png\"},\"logoDark\":{\"url\":\"https://s.pstatic.net/static/newsstand/2020/logo/dark/0604/366.png\"},\"showThumbnailView\":true,\"showListView\":true,\"regDate\":\"20240607 16:24:53\",\"_id\":null,\"@type\":\"PC-NEWSSTAND-PRESS-BLOCK\",\"@code\":null,\"@template\":\"NONE\",\"@flowId\":null,\"@flowExecutionId\":null,\"@provider\":null,\"@lastModifiedAt\":null},{\"@type\":\"PC-NEWSSTAND-PRESS-BLOCK\",\"blocks\":null,\"materials\":null,\"excludeInPaging\":false,\"positionForPaging\":0,\"realtime\":false,\"pid\":\"005\",\"name\":\"국민일보\",\"logoLight\":{\"url\":\"https://s.pstatic.net/static/newsstand/2020/logo/light/0604/005.png\"},\"logoDark\":{\"url\":\"https://s.pstatic.net/static/newsstand/2020/logo/dark/0604/005.png\"},\"showThumbnailView\":true,\"showListView\":true,\"regDate\":\"20240607 16:44:33\",\"_id\":null,\"@type\":\"PC-NEWSSTAND-PRESS-BLOCK\",\"@code\":null,\"@template\":\"NONE\",\"@flowId\":null,\"@flowExecutionId\":null,\"@provider\":null,\"@lastModifiedAt\":null},{\"@type\":\"PC-NEWSSTAND-PRESS-BLOCK\",\"blocks\":null,\"materials\":null,\"excludeInPaging\":false,\"positionForPaging\":0,\"realtime\":false,\"pid\":\"368\",\"name\":\"데일리안\",\"logoLight\":{\"url\":\"https://s.pstatic.net/static/newsstand/2020/logo/light/0604/368.png\"},\"logoDark\":{\"url\":\"https://s.pstatic.net/static/newsstand/2020/logo/dark/0604/368.png\"},\"showThumbnailView\":true,\"showListView\":true,\"regDate\":\"20240607 16:35:23\",\"_id\":null,\"@type\":\"PC-NEWSSTAND-PRESS-BLOCK\",\"@code\":null,\"@template\":\"NONE\",\"@flowId\":null,\"@flowExecutionId\":null,\"@provider\":null,\"@lastModifiedAt\":null},{\"@type\":\"PC-NEWSSTAND-PRESS-BLOCK\",\"blocks\":null,\"materials\":null,\"excludeInPaging\":false,\"positionForPaging\":0,\"realtime\":false,\"pid\":\"006\",\"name\":\"미디어오늘\",\"logoLight\":{\"url\":\"https://s.pstatic.net/static/newsstand/2020/logo/light/0604/006.png\"},\"logoDark\":{\"url\":\"https://s.pstatic.net/static/newsstand/2020/logo/dark/0604/006.png\"},\"showThumbnailView\":true,\"showListView\":true,\"regDate\":\"20240607 16:45:01\",\"_id\":null,\"@type\":\"PC-NEWSSTAND-PRESS-BLOCK\",\"@code\":null,\"@template\":\"NONE\",\"@flowId\":null,\"@flowExecutionId\":null,\"@provider\":null,\"@lastModifiedAt\":null},{\"@type\":\"PC-NEWSSTAND-PRESS-BLOCK\",\"blocks\":null,\"materials\":null,\"excludeInPaging\":false,\"positionForPaging\":0,\"realtime\":false,\"pid\":\"920\",\"name\":\"아시아투데이\",\"logoLight\":{\"url\":\"https://s.pstatic.net/static/newsstand/2020/logo/light/0604/920.png\"},\"logoDark\":{\"url\":\"https://s.pstatic.net/static/newsstand/2020/logo/dark/0604/920.png\"},\"showThumbnailView\":true,\"showListView\":true,\"regDate\":\"20240607 16:35:27\",\"_id\":null,\"@type\":\"PC-NEWSSTAND-PRESS-BLOCK\",\"@code\":null,\"@template\":\"NONE\",\"@flowId\":null,\"@flowExecutionId\":null,\"@provider\":null,\"@lastModifiedAt\":null},{\"@type\":\"PC-NEWSSTAND-PRESS-BLOCK\",\"blocks\":null,\"materials\":null,\"excludeInPaging\":false,\"positionForPaging\":0,\"realtime\":false,\"pid\":\"008\",\"name\":\"머니투데이\",\"logoLight\":{\"url\":\"https://s.pstatic.net/static/newsstand/2020/logo/light/0604/008.png\"},\"logoDark\":{\"url\":\"https://s.pstatic.net/static/newsstand/2020/logo/dark/0604/008.png\"},\"showThumbnailView\":true,\"showListView\":true,\"regDate\":\"20240607 16:50:08\",\"_id\":null,\"@type\":\"PC-NEWSSTAND-PRESS-BLOCK\",\"@code\":null,\"@template\":\"NONE\",\"@flowId\":null,\"@flowExecutionId\":null,\"@provider\":null,\"@lastModifiedAt\":null},{\"@type\":\"PC-NEWSSTAND-PRESS-BLOCK\",\"blocks\":null,\"materials\":null,\"excludeInPaging\":false,\"positionForPaging\":0,\"realtime\":false,\"pid\":\"921\",\"name\":\"아주경제\",\"logoLight\":{\"url\":\"https://s.pstatic.net/static/newsstand/up/2023/0731/nsd13387289.png\"},\"logoDark\":{\"url\":\"https://s.pstatic.net/static/newsstand/up/2023/0731/nsd133759965.png\"},\"showThumbnailView\":true,\"showListView\":true,\"regDate\":\"20240607 16:44:01\",\"_id\":null,\"@type\":\"PC-NEWSSTAND-PRESS-BLOCK\",\"@code\":null,\"@template\":\"NONE\",\"@flowId\":null,\"@flowExecutionId\":null,\"@provider\":null,\"@lastModifiedAt\":null},{\"@type\":\"PC-NEWSSTAND-PRESS-BLOCK\",\"blocks\":null,\"materials\":null,\"excludeInPaging\":false,\"positionForPaging\":0,\"realtime\":false,\"pid\":\"009\",\"name\":\"매일경제\",\"logoLight\":{\"url\":\"https://s.pstatic.net/static/newsstand/2020/logo/light/0604/009.png\"},\"logoDark\":{\"url\":\"https://s.pstatic.net/static/newsstand/2020/logo/dark/0604/009.png\"},\"showThumbnailView\":true,\"showListView\":true,\"regDate\":\"20240607 16:51:17\",\"_id\":null,\"@type\":\"PC-NEWSSTAND-PRESS-BLOCK\",\"@code\":null,\"@template\":\"NONE\",\"@flowId\":null,\"@flowExecutionId\":null,\"@provider\":null,\"@lastModifiedAt\":null},{\"@type\":\"PC-NEWSSTAND-PRESS-BLOCK\",\"blocks\":null,\"materials\":null,\"excludeInPaging\":false,\"positionForPaging\":0,\"realtime\":false,\"pid\":\"801\",\"name\":\"위키리크스한국\",\"logoLight\":{\"url\":\"https://s.pstatic.net/static/newsstand/2020/logo/light/0604/801.png\"},\"logoDark\":{\"url\":\"https://s.pstatic.net/static/newsstand/2020/logo/dark/0604/801.png\"},\"showThumbnailView\":true,\"showListView\":true,\"regDate\":\"20240607 16:40:09\",\"_id\":null,\"@type\":\"PC-NEWSSTAND-PRESS-BLOCK\",\"@code\":null,\"@template\":\"NONE\",\"@flowId\":null,\"@flowExecutionId\":null,\"@provider\":null,\"@lastModifiedAt\":null},{\"@type\":\"PC-NEWSSTAND-PRESS-BLOCK\",\"blocks\":null,\"materials\":null,\"excludeInPaging\":false,\"positionForPaging\":0,\"realtime\":false,\"pid\":\"922\",\"name\":\"이투데이\",\"logoLight\":{\"url\":\"https://s.pstatic.net/static/newsstand/2020/logo/light/0604/922.png\"},\"logoDark\":{\"url\":\"https://s.pstatic.net/static/newsstand/2020/logo/dark/0604/922.png\"},\"showThumbnailView\":true,\"showListView\":true,\"regDate\":\"20240607 16:39:58\",\"_id\":null,\"@type\":\"PC-NEWSSTAND-PRESS-BLOCK\",\"@code\":null,\"@template\":\"NONE\",\"@flowId\":null,\"@flowExecutionId\":null,\"@provider\":null,\"@lastModifiedAt\":null},{\"@type\":\"PC-NEWSSTAND-PRESS-BLOCK\",\"blocks\":null,\"materials\":null,\"excludeInPaging\":false,\"positionForPaging\":0,\"realtime\":false,\"pid\":\"802\",\"name\":\"스포츠Q\",\"logoLight\":{\"url\":\"https://s.pstatic.net/static/newsstand/2020/logo/light/0604/802.png\"},\"logoDark\":{\"url\":\"https://s.pstatic.net/static/newsstand/2020/logo/dark/0604/802.png\"},\"showThumbnailView\":true,\"showListView\":true,\"regDate\":\"20240607 16:40:10\",\"_id\":null,\"@type\":\"PC-NEWSSTAND-PRESS-BLOCK\",\"@code\":null,\"@template\":\"NONE\",\"@flowId\":null,\"@flowExecutionId\":null,\"@provider\":null,\"@lastModifiedAt\":null},{\"@type\":\"PC-NEWSSTAND-PRESS-BLOCK\",\"blocks\":null,\"materials\":null,\"excludeInPaging\":false,\"positionForPaging\":0,\"realtime\":false,\"pid\":\"923\",\"name\":\"인민망\",\"logoLight\":{\"url\":\"https://s.pstatic.net/static/newsstand/2020/logo/light/0604/923.png\"},\"logoDark\":{\"url\":\"https://s.pstatic.net/static/newsstand/2020/logo/dark/0604/923.png\"},\"showThumbnailView\":true,\"showListView\":true,\"regDate\":\"20240607 12:30:03\",\"_id\":null,\"@type\":\"PC-NEWSSTAND-PRESS-BLOCK\",\"@code\":null,\"@template\":\"NONE\",\"@flowId\":null,\"@flowExecutionId\":null,\"@provider\":null,\"@lastModifiedAt\":null},{\"@type\":\"PC-NEWSSTAND-PRESS-BLOCK\",\"blocks\":null,\"materials\":null,\"excludeInPaging\":false,\"positionForPaging\":0,\"realtime\":false,\"pid\":\"803\",\"name\":\"인더스트리뉴스\",\"logoLight\":{\"url\":\"https://s.pstatic.net/static/newsstand/up/2021/0907/nsd9423633.png\"},\"logoDark\":{\"url\":\"https://s.pstatic.net/static/newsstand/up/2021/0907/nsd94216114.png\"},\"showThumbnailView\":true,\"showListView\":true,\"regDate\":\"20240607 16:40:11\",\"_id\":null,\"@type\":\"PC-NEWSSTAND-PRESS-BLOCK\",\"@code\":null,\"@template\":\"NONE\",\"@flowId\":null,\"@flowExecutionId\":null,\"@provider\":null,\"@lastModifiedAt\":null},{\"@type\":\"PC-NEWSSTAND-PRESS-BLOCK\",\"blocks\":null,\"materials\":null,\"excludeInPaging\":false,\"positionForPaging\":0,\"realtime\":false,\"pid\":\"924\",\"name\":\"인벤\",\"logoLight\":{\"url\":\"https://s.pstatic.net/static/newsstand/2020/logo/light/0604/924.png\"},\"logoDark\":{\"url\":\"https://s.pstatic.net/static/newsstand/2020/logo/dark/0604/924.png\"},\"showThumbnailView\":true,\"showListView\":true,\"regDate\":\"20240607 15:55:09\",\"_id\":null,\"@type\":\"PC-NEWSSTAND-PRESS-BLOCK\",\"@code\":null,\"@template\":\"NONE\",\"@flowId\":null,\"@flowExecutionId\":null,\"@provider\":null,\"@lastModifiedAt\":null},{\"@type\":\"PC-NEWSSTAND-PRESS-BLOCK\",\"blocks\":null,\"materials\":null,\"excludeInPaging\":false,\"positionForPaging\":0,\"realtime\":false,\"pid\":\"804\",\"name\":\"데이터뉴스\",\"logoLight\":{\"url\":\"https://s.pstatic.net/static/newsstand/2020/logo/light/0604/804.png\"},\"logoDark\":{\"url\":\"https://s.pstatic.net/static/newsstand/2020/logo/dark/0604/804.png\"},\"showThumbnailView\":true,\"showListView\":true,\"regDate\":\"20240607 16:45:04\",\"_id\":null,\"@type\":\"PC-NEWSSTAND-PRESS-BLOCK\",\"@code\":null,\"@template\":\"NONE\",\"@flowId\":null,\"@flowExecutionId\":null,\"@provider\":null,\"@lastModifiedAt\":null},{\"@type\":\"PC-NEWSSTAND-PRESS-BLOCK\",\"blocks\":null,\"materials\":null,\"excludeInPaging\":false,\"positionForPaging\":0,\"realtime\":false,\"pid\":\"925\",\"name\":\"일요신문\",\"logoLight\":{\"url\":\"https://s.pstatic.net/static/newsstand/2020/logo/light/0604/925.png\"},\"logoDark\":{\"url\":\"https://s.pstatic.net/static/newsstand/2020/logo/dark/0604/925.png\"},\"showThumbnailView\":true,\"showListView\":true,\"regDate\":\"20240607 09:46:55\",\"_id\":null,\"@type\":\"PC-NEWSSTAND-PRESS-BLOCK\",\"@code\":null,\"@template\":\"NONE\",\"@flowId\":null,\"@flowExecutionId\":null,\"@provider\":null,\"@lastModifiedAt\":null},{\"@type\":\"PC-NEWSSTAND-PRESS-BLOCK\",\"blocks\":null,\"materials\":null,\"excludeInPaging\":false,\"positionForPaging\":0,\"realtime\":false,\"pid\":\"805\",\"name\":\"한경잡앤조이\",\"logoLight\":{\"url\":\"https://s.pstatic.net/static/newsstand/up/2020/0615/nsd10319824.png\"},\"logoDark\":{\"url\":\"https://s.pstatic.net/static/newsstand/up/2020/0615/nsd10311145.png\"},\"showThumbnailView\":true,\"showListView\":true,\"regDate\":\"20240607 15:47:43\",\"_id\":null,\"@type\":\"PC-NEWSSTAND-PRESS-BLOCK\",\"@code\":null,\"@template\":\"NONE\",\"@flowId\":null,\"@flowExecutionId\":null,\"@provider\":null,\"@lastModifiedAt\":null},{\"@type\":\"PC-NEWSSTAND-PRESS-BLOCK\",\"blocks\":null,\"materials\":null,\"excludeInPaging\":false,\"positionForPaging\":0,\"realtime\":false,\"pid\":\"926\",\"name\":\"중부일보\",\"logoLight\":{\"url\":\"https://s.pstatic.net/static/newsstand/up/2022/0704/nsd231551300.png\"},\"logoDark\":{\"url\":\"https://s.pstatic.net/static/newsstand/up/2022/0704/nsd231545458.png\"},\"showThumbnailView\":true,\"showListView\":true,\"regDate\":\"20240607 15:41:14\",\"_id\":null,\"@type\":\"PC-NEWSSTAND-PRESS-BLOCK\",\"@code\":null,\"@template\":\"NONE\",\"@flowId\":null,\"@flowExecutionId\":null,\"@provider\":null,\"@lastModifiedAt\":null},{\"@type\":\"PC-NEWSSTAND-PRESS-BLOCK\",\"blocks\":null,\"materials\":null,\"excludeInPaging\":false,\"positionForPaging\":0,\"realtime\":false,\"pid\":\"806\",\"name\":\"한경머니\",\"logoLight\":{\"url\":\"https://s.pstatic.net/static/newsstand/up/2024/0531/nsd115428801.png\"},\"logoDark\":{\"url\":\"https://s.pstatic.net/static/newsstand/up/2024/0531/nsd115449376.png\"},\"showThumbnailView\":true,\"showListView\":true,\"regDate\":\"20240607 15:47:14\",\"_id\":null,\"@type\":\"PC-NEWSSTAND-PRESS-BLOCK\",\"@code\":null,\"@template\":\"NONE\",\"@flowId\":null,\"@flowExecutionId\":null,\"@provider\":null,\"@lastModifiedAt\":null},{\"@type\":\"PC-NEWSSTAND-PRESS-BLOCK\",\"blocks\":null,\"materials\":null,\"excludeInPaging\":false,\"positionForPaging\":0,\"realtime\":false,\"pid\":\"927\",\"name\":\"충북일보\",\"logoLight\":{\"url\":\"https://s.pstatic.net/static/newsstand/2020/logo/light/0604/927.png\"},\"logoDark\":{\"url\":\"https://s.pstatic.net/static/newsstand/2020/logo/dark/0604/927.png\"},\"showThumbnailView\":true,\"showListView\":true,\"regDate\":\"20240604 18:23:10\",\"_id\":null,\"@type\":\"PC-NEWSSTAND-PRESS-BLOCK\",\"@code\":null,\"@template\":\"NONE\",\"@flowId\":null,\"@flowExecutionId\":null,\"@provider\":null,\"@lastModifiedAt\":null},{\"@type\":\"PC-NEWSSTAND-PRESS-BLOCK\",\"blocks\":null,\"materials\":null,\"excludeInPaging\":false,\"positionForPaging\":0,\"realtime\":false,\"pid\":\"807\",\"name\":\"인사이트코리아\",\"logoLight\":{\"url\":\"https://s.pstatic.net/static/newsstand/2020/logo/light/0604/807.png\"},\"logoDark\":{\"url\":\"https://s.pstatic.net/static/newsstand/2020/logo/dark/0604/807.png\"},\"showThumbnailView\":true,\"showListView\":true,\"regDate\":\"20240607 16:40:12\",\"_id\":null,\"@type\":\"PC-NEWSSTAND-PRESS-BLOCK\",\"@code\":null,\"@template\":\"NONE\",\"@flowId\":null,\"@flowExecutionId\":null,\"@provider\":null,\"@lastModifiedAt\":null},{\"@type\":\"PC-NEWSSTAND-PRESS-BLOCK\",\"blocks\":null,\"materials\":null,\"excludeInPaging\":false,\"positionForPaging\":0,\"realtime\":false,\"pid\":\"928\",\"name\":\"컴퓨터월드\",\"logoLight\":{\"url\":\"https://s.pstatic.net/static/newsstand/2020/logo/light/0604/928.png\"},\"logoDark\":{\"url\":\"https://s.pstatic.net/static/newsstand/2020/logo/dark/0604/928.png\"},\"showThumbnailView\":true,\"showListView\":true,\"regDate\":\"20240603 20:28:30\",\"_id\":null,\"@type\":\"PC-NEWSSTAND-PRESS-BLOCK\",\"@code\":null,\"@template\":\"NONE\",\"@flowId\":null,\"@flowExecutionId\":null,\"@provider\":null,\"@lastModifiedAt\":null},{\"@type\":\"PC-NEWSSTAND-PRESS-BLOCK\",\"blocks\":null,\"materials\":null,\"excludeInPaging\":false,\"positionForPaging\":0,\"realtime\":false,\"pid\":\"808\",\"name\":\"산업일보\",\"logoLight\":{\"url\":\"https://s.pstatic.net/static/newsstand/2020/logo/light/0604/808.png\"},\"logoDark\":{\"url\":\"https://s.pstatic.net/static/newsstand/2020/logo/dark/0604/808.png\"},\"showThumbnailView\":true,\"showListView\":true,\"regDate\":\"20240607 16:45:03\",\"_id\":null,\"@type\":\"PC-NEWSSTAND-PRESS-BLOCK\",\"@code\":null,\"@template\":\"NONE\",\"@flowId\":null,\"@flowExecutionId\":null,\"@provider\":null,\"@lastModifiedAt\":null},{\"@type\":\"PC-NEWSSTAND-PRESS-BLOCK\",\"blocks\":null,\"materials\":null,\"excludeInPaging\":false,\"positionForPaging\":0,\"realtime\":false,\"pid\":\"809\",\"name\":\"미디어펜\",\"logoLight\":{\"url\":\"https://s.pstatic.net/static/newsstand/2020/logo/light/0604/809.png\"},\"logoDark\":{\"url\":\"https://s.pstatic.net/static/newsstand/2020/logo/dark/0604/809.png\"},\"showThumbnailView\":true,\"showListView\":true,\"regDate\":\"20240607 16:41:36\",\"_id\":null,\"@type\":\"PC-NEWSSTAND-PRESS-BLOCK\",\"@code\":null,\"@template\":\"NONE\",\"@flowId\":null,\"@flowExecutionId\":null,\"@provider\":null,\"@lastModifiedAt\":null},{\"@type\":\"PC-NEWSSTAND-PRESS-BLOCK\",\"blocks\":null,\"materials\":null,\"excludeInPaging\":false,\"positionForPaging\":0,\"realtime\":false,\"pid\":\"011\",\"name\":\"서울경제\",\"logoLight\":{\"url\":\"https://s.pstatic.net/static/newsstand/2019/logo/011.png\"},\"logoDark\":{\"url\":\"https://s.pstatic.net/static/newsstand/2020/logo/dark/0604/011.png\"},\"showThumbnailView\":true,\"showListView\":true,\"regDate\":\"20240607 16:39:52\",\"_id\":null,\"@type\":\"PC-NEWSSTAND-PRESS-BLOCK\",\"@code\":null,\"@template\":\"NONE\",\"@flowId\":null,\"@flowExecutionId\":null,\"@provider\":null,\"@lastModifiedAt\":null},{\"@type\":\"PC-NEWSSTAND-PRESS-BLOCK\",\"blocks\":null,\"materials\":null,\"excludeInPaging\":false,\"positionForPaging\":0,\"realtime\":false,\"pid\":\"374\",\"name\":\"SBS Biz\",\"logoLight\":{\"url\":\"https://s.pstatic.net/static/newsstand/up/2020/1229/nsd165811867.png\"},\"logoDark\":{\"url\":\"https://s.pstatic.net/static/newsstand/up/2020/1229/nsd165811867.png\"},\"showThumbnailView\":true,\"showListView\":true,\"regDate\":\"20240607 16:22:47\",\"_id\":null,\"@type\":\"PC-NEWSSTAND-PRESS-BLOCK\",\"@code\":null,\"@template\":\"NONE\",\"@flowId\":null,\"@flowExecutionId\":null,\"@provider\":null,\"@lastModifiedAt\":null},{\"@type\":\"PC-NEWSSTAND-PRESS-BLOCK\",\"blocks\":null,\"materials\":null,\"excludeInPaging\":false,\"positionForPaging\":0,\"realtime\":false,\"pid\":\"013\",\"name\":\"연합인포맥스\",\"logoLight\":{\"url\":\"https://s.pstatic.net/static/newsstand/2020/logo/light/0604/013.png\"},\"logoDark\":{\"url\":\"https://s.pstatic.net/static/newsstand/2020/logo/dark/0604/013.png\"},\"showThumbnailView\":true,\"showListView\":true,\"regDate\":\"20240607 16:40:31\",\"_id\":null,\"@type\":\"PC-NEWSSTAND-PRESS-BLOCK\",\"@code\":null,\"@template\":\"NONE\",\"@flowId\":null,\"@flowExecutionId\":null,\"@provider\":null,\"@lastModifiedAt\":null},{\"@type\":\"PC-NEWSSTAND-PRESS-BLOCK\",\"blocks\":null,\"materials\":null,\"excludeInPaging\":false,\"positionForPaging\":0,\"realtime\":false,\"pid\":\"376\",\"name\":\"지지통신\",\"logoLight\":{\"url\":\"https://s.pstatic.net/static/newsstand/2020/logo/light/0604/376.png\"},\"logoDark\":{\"url\":\"https://s.pstatic.net/static/newsstand/2020/logo/dark/0604/376.png\"},\"showThumbnailView\":true,\"showListView\":true,\"regDate\":\"20240607 16:10:05\",\"_id\":null,\"@type\":\"PC-NEWSSTAND-PRESS-BLOCK\",\"@code\":null,\"@template\":\"NONE\",\"@flowId\":null,\"@flowExecutionId\":null,\"@provider\":null,\"@lastModifiedAt\":null},{\"@type\":\"PC-NEWSSTAND-PRESS-BLOCK\",\"blocks\":null,\"materials\":null,\"excludeInPaging\":false,\"positionForPaging\":0,\"realtime\":false,\"pid\":\"014\",\"name\":\"파이낸셜뉴스\",\"logoLight\":{\"url\":\"https://s.pstatic.net/static/newsstand/2020/logo/light/0604/014.png\"},\"logoDark\":{\"url\":\"https://s.pstatic.net/static/newsstand/2020/logo/dark/0604/014.png\"},\"showThumbnailView\":true,\"showListView\":true,\"regDate\":\"20240607 16:35:18\",\"_id\":null,\"@type\":\"PC-NEWSSTAND-PRESS-BLOCK\",\"@code\":null,\"@template\":\"NONE\",\"@flowId\":null,\"@flowExecutionId\":null,\"@provider\":null,\"@lastModifiedAt\":null},{\"@type\":\"PC-NEWSSTAND-PRESS-BLOCK\",\"blocks\":null,\"materials\":null,\"excludeInPaging\":false,\"positionForPaging\":0,\"realtime\":false,\"pid\":\"135\",\"name\":\"시사저널\",\"logoLight\":{\"url\":\"https://s.pstatic.net/static/newsstand/2020/logo/light/0604/135.png\"},\"logoDark\":{\"url\":\"https://s.pstatic.net/static/newsstand/2020/logo/dark/0604/135.png\"},\"showThumbnailView\":true,\"showListView\":true,\"regDate\":\"20240607 16:40:07\",\"_id\":null,\"@type\":\"PC-NEWSSTAND-PRESS-BLOCK\",\"@code\":null,\"@template\":\"NONE\",\"@flowId\":null,\"@flowExecutionId\":null,\"@provider\":null,\"@lastModifiedAt\":null},{\"@type\":\"PC-NEWSSTAND-PRESS-BLOCK\",\"blocks\":null,\"materials\":null,\"excludeInPaging\":false,\"positionForPaging\":0,\"realtime\":false,\"pid\":\"015\",\"name\":\"한국경제\",\"logoLight\":{\"url\":\"https://s.pstatic.net/static/newsstand/2020/logo/light/0604/015.png\"},\"logoDark\":{\"url\":\"https://s.pstatic.net/static/newsstand/2020/logo/dark/0604/015.png\"},\"showThumbnailView\":true,\"showListView\":true,\"regDate\":\"20240607 16:42:02\",\"_id\":null,\"@type\":\"PC-NEWSSTAND-PRESS-BLOCK\",\"@code\":null,\"@template\":\"NONE\",\"@flowId\":null,\"@flowExecutionId\":null,\"@provider\":null,\"@lastModifiedAt\":null},{\"@type\":\"PC-NEWSSTAND-PRESS-BLOCK\",\"blocks\":null,\"materials\":null,\"excludeInPaging\":false,\"positionForPaging\":0,\"realtime\":false,\"pid\":\"016\",\"name\":\"헤럴드경제\",\"logoLight\":{\"url\":\"https://s.pstatic.net/static/newsstand/2020/logo/light/0604/016.png\"},\"logoDark\":{\"url\":\"https://s.pstatic.net/static/newsstand/2020/logo/dark/0604/016.png\"},\"showThumbnailView\":true,\"showListView\":true,\"regDate\":\"20240607 15:45:04\",\"_id\":null,\"@type\":\"PC-NEWSSTAND-PRESS-BLOCK\",\"@code\":null,\"@template\":\"NONE\",\"@flowId\":null,\"@flowExecutionId\":null,\"@provider\":null,\"@lastModifiedAt\":null},{\"@type\":\"PC-NEWSSTAND-PRESS-BLOCK\",\"blocks\":null,\"materials\":null,\"excludeInPaging\":false,\"positionForPaging\":0,\"realtime\":false,\"pid\":\"138\",\"name\":\"디지털데일리\",\"logoLight\":{\"url\":\"https://s.pstatic.net/static/newsstand/2020/logo/light/0604/138.png\"},\"logoDark\":{\"url\":\"https://s.pstatic.net/static/newsstand/2020/logo/dark/0604/138.png\"},\"showThumbnailView\":true,\"showListView\":true,\"regDate\":\"20240607 15:45:55\",\"_id\":null,\"@type\":\"PC-NEWSSTAND-PRESS-BLOCK\",\"@code\":null,\"@template\":\"NONE\",\"@flowId\":null,\"@flowExecutionId\":null,\"@provider\":null,\"@lastModifiedAt\":null},{\"@type\":\"PC-NEWSSTAND-PRESS-BLOCK\",\"blocks\":null,\"materials\":null,\"excludeInPaging\":false,\"positionForPaging\":0,\"realtime\":false,\"pid\":\"930\",\"name\":\"뉴스타파\",\"logoLight\":{\"url\":\"https://s.pstatic.net/static/newsstand/2020/logo/light/0604/930.png\"},\"logoDark\":{\"url\":\"https://s.pstatic.net/static/newsstand/2020/logo/dark/0604/930.png\"},\"showThumbnailView\":true,\"showListView\":true,\"regDate\":\"20240607 16:51:40\",\"_id\":null,\"@type\":\"PC-NEWSSTAND-PRESS-BLOCK\",\"@code\":null,\"@template\":\"NONE\",\"@flowId\":null,\"@flowExecutionId\":null,\"@provider\":null,\"@lastModifiedAt\":null},{\"@type\":\"PC-NEWSSTAND-PRESS-BLOCK\",\"blocks\":null,\"materials\":null,\"excludeInPaging\":false,\"positionForPaging\":0,\"realtime\":false,\"pid\":\"018\",\"name\":\"이데일리\",\"logoLight\":{\"url\":\"https://s.pstatic.net/static/newsstand/2020/logo/light/0604/018.png\"},\"logoDark\":{\"url\":\"https://s.pstatic.net/static/newsstand/2020/logo/dark/0604/018.png\"},\"showThumbnailView\":true,\"showListView\":true,\"regDate\":\"20240607 16:21:40\",\"_id\":null,\"@type\":\"PC-NEWSSTAND-PRESS-BLOCK\",\"@code\":null,\"@template\":\"NONE\",\"@flowId\":null,\"@flowExecutionId\":null,\"@provider\":null,\"@lastModifiedAt\":null},{\"@type\":\"PC-NEWSSTAND-PRESS-BLOCK\",\"blocks\":null,\"materials\":null,\"excludeInPaging\":false,\"positionForPaging\":0,\"realtime\":false,\"pid\":\"139\",\"name\":\"스포탈코리아\",\"logoLight\":{\"url\":\"https://s.pstatic.net/static/newsstand/2020/logo/light/0604/139.png\"},\"logoDark\":{\"url\":\"https://s.pstatic.net/static/newsstand/2020/logo/dark/0604/139.png\"},\"showThumbnailView\":true,\"showListView\":true,\"regDate\":\"20240605 12:07:37\",\"_id\":null,\"@type\":\"PC-NEWSSTAND-PRESS-BLOCK\",\"@code\":null,\"@template\":\"NONE\",\"@flowId\":null,\"@flowExecutionId\":null,\"@provider\":null,\"@lastModifiedAt\":null},{\"@type\":\"PC-NEWSSTAND-PRESS-BLOCK\",\"blocks\":null,\"materials\":null,\"excludeInPaging\":false,\"positionForPaging\":0,\"realtime\":false,\"pid\":\"810\",\"name\":\"신아일보\",\"logoLight\":{\"url\":\"https://s.pstatic.net/static/newsstand/up/2021/0316/nsd103953129.png\"},\"logoDark\":{\"url\":\"https://s.pstatic.net/static/newsstand/up/2021/0316/nsd104012979.png\"},\"showThumbnailView\":true,\"showListView\":true,\"regDate\":\"20240607 16:40:11\",\"_id\":null,\"@type\":\"PC-NEWSSTAND-PRESS-BLOCK\",\"@code\":null,\"@template\":\"NONE\",\"@flowId\":null,\"@flowExecutionId\":null,\"@provider\":null,\"@lastModifiedAt\":null},{\"@type\":\"PC-NEWSSTAND-PRESS-BLOCK\",\"blocks\":null,\"materials\":null,\"excludeInPaging\":false,\"positionForPaging\":0,\"realtime\":false,\"pid\":\"811\",\"name\":\"한국농어촌방송\",\"logoLight\":{\"url\":\"https://s.pstatic.net/static/newsstand/up/2022/0315/nsd181452869.png\"},\"logoDark\":{\"url\":\"https://s.pstatic.net/static/newsstand/up/2022/0315/nsd18156958.png\"},\"showThumbnailView\":true,\"showListView\":true,\"regDate\":\"20240607 16:40:13\",\"_id\":null,\"@type\":\"PC-NEWSSTAND-PRESS-BLOCK\",\"@code\":null,\"@template\":\"NONE\",\"@flowId\":null,\"@flowExecutionId\":null,\"@provider\":null,\"@lastModifiedAt\":null},{\"@type\":\"PC-NEWSSTAND-PRESS-BLOCK\",\"blocks\":null,\"materials\":null,\"excludeInPaging\":false,\"positionForPaging\":0,\"realtime\":false,\"pid\":\"932\",\"name\":\"CEO스코어데일리\",\"logoLight\":{\"url\":\"https://s.pstatic.net/static/newsstand/2020/logo/light/0604/932.png\"},\"logoDark\":{\"url\":\"https://s.pstatic.net/static/newsstand/2020/logo/dark/0604/932.png\"},\"showThumbnailView\":true,\"showListView\":true,\"regDate\":\"20240607 07:05:57\",\"_id\":null,\"@type\":\"PC-NEWSSTAND-PRESS-BLOCK\",\"@code\":null,\"@template\":\"NONE\",\"@flowId\":null,\"@flowExecutionId\":null,\"@provider\":null,\"@lastModifiedAt\":null},{\"@type\":\"PC-NEWSSTAND-PRESS-BLOCK\",\"blocks\":null,\"materials\":null,\"excludeInPaging\":false,\"positionForPaging\":0,\"realtime\":false,\"pid\":\"812\",\"name\":\"데일리임팩트\",\"logoLight\":{\"url\":\"https://s.pstatic.net/static/newsstand/up/2021/0819/nsd151219656.png\"},\"logoDark\":{\"url\":\"https://s.pstatic.net/static/newsstand/up/2021/0819/nsd151254429.png\"},\"showThumbnailView\":true,\"showListView\":true,\"regDate\":\"20240607 16:40:15\",\"_id\":null,\"@type\":\"PC-NEWSSTAND-PRESS-BLOCK\",\"@code\":null,\"@template\":\"NONE\",\"@flowId\":null,\"@flowExecutionId\":null,\"@provider\":null,\"@lastModifiedAt\":null},{\"@type\":\"PC-NEWSSTAND-PRESS-BLOCK\",\"blocks\":null,\"materials\":null,\"excludeInPaging\":false,\"positionForPaging\":0,\"realtime\":false,\"pid\":\"813\",\"name\":\"이코노믹리뷰\",\"logoLight\":{\"url\":\"https://s.pstatic.net/static/newsstand/up/2022/0418/nsd164755323.png\"},\"logoDark\":{\"url\":\"https://s.pstatic.net/static/newsstand/up/2022/0418/nsd164818946.png\"},\"showThumbnailView\":true,\"showListView\":true,\"regDate\":\"20240607 16:40:16\",\"_id\":null,\"@type\":\"PC-NEWSSTAND-PRESS-BLOCK\",\"@code\":null,\"@template\":\"NONE\",\"@flowId\":null,\"@flowExecutionId\":null,\"@provider\":null,\"@lastModifiedAt\":null},{\"@type\":\"PC-NEWSSTAND-PRESS-BLOCK\",\"blocks\":null,\"materials\":null,\"excludeInPaging\":false,\"positionForPaging\":0,\"realtime\":false,\"pid\":\"934\",\"name\":\"Arirang TV\",\"logoLight\":{\"url\":\"https://s.pstatic.net/static/newsstand/2020/logo/light/0604/934.png\"},\"logoDark\":{\"url\":\"https://s.pstatic.net/static/newsstand/2020/logo/dark/0604/934.png\"},\"showThumbnailView\":true,\"showListView\":true,\"regDate\":\"20240607 15:15:24\",\"_id\":null,\"@type\":\"PC-NEWSSTAND-PRESS-BLOCK\",\"@code\":null,\"@template\":\"NONE\",\"@flowId\":null,\"@flowExecutionId\":null,\"@provider\":null,\"@lastModifiedAt\":null},{\"@type\":\"PC-NEWSSTAND-PRESS-BLOCK\",\"blocks\":null,\"materials\":null,\"excludeInPaging\":false,\"positionForPaging\":0,\"realtime\":false,\"pid\":\"814\",\"name\":\"미주한국일보\",\"logoLight\":{\"url\":\"https://s.pstatic.net/static/newsstand/2020/logo/light/0604/814.png\"},\"logoDark\":{\"url\":\"https://s.pstatic.net/static/newsstand/2020/logo/dark/0604/814.png\"},\"showThumbnailView\":true,\"showListView\":true,\"regDate\":\"20240607 12:50:41\",\"_id\":null,\"@type\":\"PC-NEWSSTAND-PRESS-BLOCK\",\"@code\":null,\"@template\":\"NONE\",\"@flowId\":null,\"@flowExecutionId\":null,\"@provider\":null,\"@lastModifiedAt\":null},{\"@type\":\"PC-NEWSSTAND-PRESS-BLOCK\",\"blocks\":null,\"materials\":null,\"excludeInPaging\":false,\"positionForPaging\":0,\"realtime\":false,\"pid\":\"935\",\"name\":\"경상일보\",\"logoLight\":{\"url\":\"https://s.pstatic.net/static/newsstand/2020/logo/light/0604/935.png\"},\"logoDark\":{\"url\":\"https://s.pstatic.net/static/newsstand/2020/logo/dark/0604/935.png\"},\"showThumbnailView\":true,\"showListView\":true,\"regDate\":\"20240607 00:59:02\",\"_id\":null,\"@type\":\"PC-NEWSSTAND-PRESS-BLOCK\",\"@code\":null,\"@template\":\"NONE\",\"@flowId\":null,\"@flowExecutionId\":null,\"@provider\":null,\"@lastModifiedAt\":null},{\"@type\":\"PC-NEWSSTAND-PRESS-BLOCK\",\"blocks\":null,\"materials\":null,\"excludeInPaging\":false,\"positionForPaging\":0,\"realtime\":false,\"pid\":\"815\",\"name\":\"법률방송뉴스\",\"logoLight\":{\"url\":\"https://s.pstatic.net/static/newsstand/2020/logo/light/0604/815.png\"},\"logoDark\":{\"url\":\"https://s.pstatic.net/static/newsstand/2020/logo/dark/0604/815.png\"},\"showThumbnailView\":true,\"showListView\":true,\"regDate\":\"20240607 16:40:15\",\"_id\":null,\"@type\":\"PC-NEWSSTAND-PRESS-BLOCK\",\"@code\":null,\"@template\":\"NONE\",\"@flowId\":null,\"@flowExecutionId\":null,\"@provider\":null,\"@lastModifiedAt\":null},{\"@type\":\"PC-NEWSSTAND-PRESS-BLOCK\",\"blocks\":null,\"materials\":null,\"excludeInPaging\":false,\"positionForPaging\":0,\"realtime\":false,\"pid\":\"936\",\"name\":\"대구일보\",\"logoLight\":{\"url\":\"https://s.pstatic.net/static/newsstand/2020/logo/light/0604/936.png\"},\"logoDark\":{\"url\":\"https://s.pstatic.net/static/newsstand/2020/logo/dark/0604/936.png\"},\"showThumbnailView\":true,\"showListView\":true,\"regDate\":\"20240607 16:40:39\",\"_id\":null,\"@type\":\"PC-NEWSSTAND-PRESS-BLOCK\",\"@code\":null,\"@template\":\"NONE\",\"@flowId\":null,\"@flowExecutionId\":null,\"@provider\":null,\"@lastModifiedAt\":null},{\"@type\":\"PC-NEWSSTAND-PRESS-BLOCK\",\"blocks\":null,\"materials\":null,\"excludeInPaging\":false,\"positionForPaging\":0,\"realtime\":false,\"pid\":\"816\",\"name\":\"시사오늘\",\"logoLight\":{\"url\":\"https://s.pstatic.net/static/newsstand/2020/logo/light/0604/816.png\"},\"logoDark\":{\"url\":\"https://s.pstatic.net/static/newsstand/2020/logo/dark/0604/816.png\"},\"showThumbnailView\":true,\"showListView\":true,\"regDate\":\"20240607 16:40:16\",\"_id\":null,\"@type\":\"PC-NEWSSTAND-PRESS-BLOCK\",\"@code\":null,\"@template\":\"NONE\",\"@flowId\":null,\"@flowExecutionId\":null,\"@provider\":null,\"@lastModifiedAt\":null},{\"@type\":\"PC-NEWSSTAND-PRESS-BLOCK\",\"blocks\":null,\"materials\":null,\"excludeInPaging\":false,\"positionForPaging\":0,\"realtime\":false,\"pid\":\"937\",\"name\":\"전북도민일보\",\"logoLight\":{\"url\":\"https://s.pstatic.net/static/newsstand/2020/logo/light/0604/937.png\"},\"logoDark\":{\"url\":\"https://s.pstatic.net/static/newsstand/2020/logo/dark/0604/937.png\"},\"showThumbnailView\":true,\"showListView\":true,\"regDate\":\"20240607 15:34:13\",\"_id\":null,\"@type\":\"PC-NEWSSTAND-PRESS-BLOCK\",\"@code\":null,\"@template\":\"NONE\",\"@flowId\":null,\"@flowExecutionId\":null,\"@provider\":null,\"@lastModifiedAt\":null},{\"@type\":\"PC-NEWSSTAND-PRESS-BLOCK\",\"blocks\":null,\"materials\":null,\"excludeInPaging\":false,\"positionForPaging\":0,\"realtime\":false,\"pid\":\"817\",\"name\":\"미디어제주\",\"logoLight\":{\"url\":\"https://s.pstatic.net/static/newsstand/2020/logo/light/0604/817.png\"},\"logoDark\":{\"url\":\"https://s.pstatic.net/static/newsstand/2020/logo/dark/0604/817.png\"},\"showThumbnailView\":true,\"showListView\":true,\"regDate\":\"20240607 16:40:17\",\"_id\":null,\"@type\":\"PC-NEWSSTAND-PRESS-BLOCK\",\"@code\":null,\"@template\":\"NONE\",\"@flowId\":null,\"@flowExecutionId\":null,\"@provider\":null,\"@lastModifiedAt\":null},{\"@type\":\"PC-NEWSSTAND-PRESS-BLOCK\",\"blocks\":null,\"materials\":null,\"excludeInPaging\":false,\"positionForPaging\":0,\"realtime\":false,\"pid\":\"938\",\"name\":\"그린포스트코리아\",\"logoLight\":{\"url\":\"https://s.pstatic.net/static/newsstand/2020/logo/light/0604/938.png\"},\"logoDark\":{\"url\":\"https://s.pstatic.net/static/newsstand/2020/logo/dark/0604/938.png\"},\"showThumbnailView\":true,\"showListView\":true,\"regDate\":\"20240607 16:40:35\",\"_id\":null,\"@type\":\"PC-NEWSSTAND-PRESS-BLOCK\",\"@code\":null,\"@template\":\"NONE\",\"@flowId\":null,\"@flowExecutionId\":null,\"@provider\":null,\"@lastModifiedAt\":null},{\"@type\":\"PC-NEWSSTAND-PRESS-BLOCK\",\"blocks\":null,\"materials\":null,\"excludeInPaging\":false,\"positionForPaging\":0,\"realtime\":false,\"pid\":\"818\",\"name\":\"IT동아\",\"logoLight\":{\"url\":\"https://s.pstatic.net/static/newsstand/2020/logo/light/0604/818.png\"},\"logoDark\":{\"url\":\"https://s.pstatic.net/static/newsstand/2020/logo/dark/0604/818.png\"},\"showThumbnailView\":true,\"showListView\":true,\"regDate\":\"20240607 12:47:36\",\"_id\":null,\"@type\":\"PC-NEWSSTAND-PRESS-BLOCK\",\"@code\":null,\"@template\":\"NONE\",\"@flowId\":null,\"@flowExecutionId\":null,\"@provider\":null,\"@lastModifiedAt\":null},{\"@type\":\"PC-NEWSSTAND-PRESS-BLOCK\",\"blocks\":null,\"materials\":null,\"excludeInPaging\":false,\"positionForPaging\":0,\"realtime\":false,\"pid\":\"819\",\"name\":\"바이라인네트워크\",\"logoLight\":{\"url\":\"https://s.pstatic.net/static/newsstand/2020/logo/light/0604/819.png\"},\"logoDark\":{\"url\":\"https://s.pstatic.net/static/newsstand/2020/logo/dark/0604/819.png\"},\"showThumbnailView\":true,\"showListView\":true,\"regDate\":\"20240607 15:23:22\",\"_id\":null,\"@type\":\"PC-NEWSSTAND-PRESS-BLOCK\",\"@code\":null,\"@template\":\"NONE\",\"@flowId\":null,\"@flowExecutionId\":null,\"@provider\":null,\"@lastModifiedAt\":null},{\"@type\":\"PC-NEWSSTAND-PRESS-BLOCK\",\"blocks\":null,\"materials\":null,\"excludeInPaging\":false,\"positionForPaging\":0,\"realtime\":false,\"pid\":\"140\",\"name\":\"씨네21\",\"logoLight\":{\"url\":\"https://s.pstatic.net/static/newsstand/2020/logo/light/0604/140.png\"},\"logoDark\":{\"url\":\"https://s.pstatic.net/static/newsstand/2020/logo/dark/0604/140.png\"},\"showThumbnailView\":true,\"showListView\":true,\"regDate\":\"20240607 16:00:00\",\"_id\":null,\"@type\":\"PC-NEWSSTAND-PRESS-BLOCK\",\"@code\":null,\"@template\":\"NONE\",\"@flowId\":null,\"@flowExecutionId\":null,\"@provider\":null,\"@lastModifiedAt\":null},{\"@type\":\"PC-NEWSSTAND-PRESS-BLOCK\",\"blocks\":null,\"materials\":null,\"excludeInPaging\":false,\"positionForPaging\":0,\"realtime\":false,\"pid\":\"020\",\"name\":\"동아일보\",\"logoLight\":{\"url\":\"https://s.pstatic.net/static/newsstand/2020/logo/light/0604/020.png\"},\"logoDark\":{\"url\":\"https://s.pstatic.net/static/newsstand/2020/logo/dark/0604/020.png\"},\"showThumbnailView\":true,\"showListView\":true,\"regDate\":\"20240607 16:47:27\",\"_id\":null,\"@type\":\"PC-NEWSSTAND-PRESS-BLOCK\",\"@code\":null,\"@template\":\"NONE\",\"@flowId\":null,\"@flowExecutionId\":null,\"@provider\":null,\"@lastModifiedAt\":null},{\"@type\":\"PC-NEWSSTAND-PRESS-BLOCK\",\"blocks\":null,\"materials\":null,\"excludeInPaging\":false,\"positionForPaging\":0,\"realtime\":false,\"pid\":\"021\",\"name\":\"문화일보\",\"logoLight\":{\"url\":\"https://s.pstatic.net/static/newsstand/2020/logo/light/0604/021.png\"},\"logoDark\":{\"url\":\"https://s.pstatic.net/static/newsstand/2020/logo/dark/0604/021.png\"},\"showThumbnailView\":true,\"showListView\":true,\"regDate\":\"20240607 16:40:57\",\"_id\":null,\"@type\":\"PC-NEWSSTAND-PRESS-BLOCK\",\"@code\":null,\"@template\":\"NONE\",\"@flowId\":null,\"@flowExecutionId\":null,\"@provider\":null,\"@lastModifiedAt\":null},{\"@type\":\"PC-NEWSSTAND-PRESS-BLOCK\",\"blocks\":null,\"materials\":null,\"excludeInPaging\":false,\"positionForPaging\":0,\"realtime\":false,\"pid\":\"384\",\"name\":\"한국대학신문\",\"logoLight\":{\"url\":\"https://s.pstatic.net/static/newsstand/2020/logo/light/0604/384.png\"},\"logoDark\":{\"url\":\"https://s.pstatic.net/static/newsstand/2020/logo/dark/0604/384.png\"},\"showThumbnailView\":true,\"showListView\":true,\"regDate\":\"20240607 16:40:05\",\"_id\":null,\"@type\":\"PC-NEWSSTAND-PRESS-BLOCK\",\"@code\":null,\"@template\":\"NONE\",\"@flowId\":null,\"@flowExecutionId\":null,\"@provider\":null,\"@lastModifiedAt\":null},{\"@type\":\"PC-NEWSSTAND-PRESS-BLOCK\",\"blocks\":null,\"materials\":null,\"excludeInPaging\":false,\"positionForPaging\":0,\"realtime\":false,\"pid\":\"022\",\"name\":\"세계일보\",\"logoLight\":{\"url\":\"https://s.pstatic.net/static/newsstand/2020/logo/light/0604/022.png\"},\"logoDark\":{\"url\":\"https://s.pstatic.net/static/newsstand/2020/logo/dark/0604/022.png\"},\"showThumbnailView\":true,\"showListView\":true,\"regDate\":\"20240607 16:42:32\",\"_id\":null,\"@type\":\"PC-NEWSSTAND-PRESS-BLOCK\",\"@code\":null,\"@template\":\"NONE\",\"@flowId\":null,\"@flowExecutionId\":null,\"@provider\":null,\"@lastModifiedAt\":null},{\"@type\":\"PC-NEWSSTAND-PRESS-BLOCK\",\"blocks\":null,\"materials\":null,\"excludeInPaging\":false,\"positionForPaging\":0,\"realtime\":false,\"pid\":\"143\",\"name\":\"쿠키뉴스\",\"logoLight\":{\"url\":\"https://s.pstatic.net/static/newsstand/up/2022/0823/nsd105911492.png\"},\"logoDark\":{\"url\":\"https://s.pstatic.net/static/newsstand/up/2022/0819/nsd181056744.png\"},\"showThumbnailView\":true,\"showListView\":true,\"regDate\":\"20240607 16:44:12\",\"_id\":null,\"@type\":\"PC-NEWSSTAND-PRESS-BLOCK\",\"@code\":null,\"@template\":\"NONE\",\"@flowId\":null,\"@flowExecutionId\":null,\"@provider\":null,\"@lastModifiedAt\":null},{\"@type\":\"PC-NEWSSTAND-PRESS-BLOCK\",\"blocks\":null,\"materials\":null,\"excludeInPaging\":false,\"positionForPaging\":0,\"realtime\":false,\"pid\":\"385\",\"name\":\"영남일보\",\"logoLight\":{\"url\":\"https://s.pstatic.net/static/newsstand/2020/logo/light/0604/385.png\"},\"logoDark\":{\"url\":\"https://s.pstatic.net/static/newsstand/2020/logo/dark/0604/385.png\"},\"showThumbnailView\":true,\"showListView\":true,\"regDate\":\"20240607 16:40:04\",\"_id\":null,\"@type\":\"PC-NEWSSTAND-PRESS-BLOCK\",\"@code\":null,\"@template\":\"NONE\",\"@flowId\":null,\"@flowExecutionId\":null,\"@provider\":null,\"@lastModifiedAt\":null},{\"@type\":\"PC-NEWSSTAND-PRESS-BLOCK\",\"blocks\":null,\"materials\":null,\"excludeInPaging\":false,\"positionForPaging\":0,\"realtime\":false,\"pid\":\"023\",\"name\":\"조선일보\",\"logoLight\":{\"url\":\"https://s.pstatic.net/static/newsstand/up/2020/0903/nsd185255316.png\"},\"logoDark\":{\"url\":\"https://s.pstatic.net/static/newsstand/up/2020/0903/nsd185246724.png\"},\"showThumbnailView\":true,\"showListView\":true,\"regDate\":\"20240607 16:26:32\",\"_id\":null,\"@type\":\"PC-NEWSSTAND-PRESS-BLOCK\",\"@code\":null,\"@template\":\"NONE\",\"@flowId\":null,\"@flowExecutionId\":null,\"@provider\":null,\"@lastModifiedAt\":null},{\"@type\":\"PC-NEWSSTAND-PRESS-BLOCK\",\"blocks\":null,\"materials\":null,\"excludeInPaging\":false,\"positionForPaging\":0,\"realtime\":false,\"pid\":\"144\",\"name\":\"스포츠경향\",\"logoLight\":{\"url\":\"https://s.pstatic.net/static/newsstand/2020/logo/light/0604/144.png\"},\"logoDark\":{\"url\":\"https://s.pstatic.net/static/newsstand/2020/logo/dark/0604/144.png\"},\"showThumbnailView\":true,\"showListView\":true,\"regDate\":\"20240607 15:42:12\",\"_id\":null,\"@type\":\"PC-NEWSSTAND-PRESS-BLOCK\",\"@code\":null,\"@template\":\"NONE\",\"@flowId\":null,\"@flowExecutionId\":null,\"@provider\":null,\"@lastModifiedAt\":null},{\"@type\":\"PC-NEWSSTAND-PRESS-BLOCK\",\"blocks\":null,\"materials\":null,\"excludeInPaging\":false,\"positionForPaging\":0,\"realtime\":false,\"pid\":\"024\",\"name\":\"매경이코노미\",\"logoLight\":{\"url\":\"https://s.pstatic.net/static/newsstand/2020/logo/light/0604/024.png\"},\"logoDark\":{\"url\":\"https://s.pstatic.net/static/newsstand/2020/logo/dark/0604/024.png\"},\"showThumbnailView\":true,\"showListView\":true,\"regDate\":\"20240607 16:44:01\",\"_id\":null,\"@type\":\"PC-NEWSSTAND-PRESS-BLOCK\",\"@code\":null,\"@template\":\"NONE\",\"@flowId\":null,\"@flowExecutionId\":null,\"@provider\":null,\"@lastModifiedAt\":null},{\"@type\":\"PC-NEWSSTAND-PRESS-BLOCK\",\"blocks\":null,\"materials\":null,\"excludeInPaging\":false,\"positionForPaging\":0,\"realtime\":false,\"pid\":\"387\",\"name\":\"인천일보\",\"logoLight\":{\"url\":\"https://s.pstatic.net/static/newsstand/up/2022/0331/nsd155937506.png\"},\"logoDark\":{\"url\":\"https://s.pstatic.net/static/newsstand/up/2022/0331/nsd15594915.png\"},\"showThumbnailView\":true,\"showListView\":true,\"regDate\":\"20240607 16:40:02\",\"_id\":null,\"@type\":\"PC-NEWSSTAND-PRESS-BLOCK\",\"@code\":null,\"@template\":\"NONE\",\"@flowId\":null,\"@flowExecutionId\":null,\"@provider\":null,\"@lastModifiedAt\":null},{\"@type\":\"PC-NEWSSTAND-PRESS-BLOCK\",\"blocks\":null,\"materials\":null,\"excludeInPaging\":false,\"positionForPaging\":0,\"realtime\":false,\"pid\":\"025\",\"name\":\"중앙일보\",\"logoLight\":{\"url\":\"https://s.pstatic.net/static/newsstand/up/2021/0824/nsd115034872.png\"},\"logoDark\":{\"url\":\"https://s.pstatic.net/static/newsstand/up/2021/0823/nsd101834185.png\"},\"showThumbnailView\":true,\"showListView\":true,\"regDate\":\"20240607 16:41:37\",\"_id\":null,\"@type\":\"PC-NEWSSTAND-PRESS-BLOCK\",\"@code\":null,\"@template\":\"NONE\",\"@flowId\":null,\"@flowExecutionId\":null,\"@provider\":null,\"@lastModifiedAt\":null},{\"@type\":\"PC-NEWSSTAND-PRESS-BLOCK\",\"blocks\":null,\"materials\":null,\"excludeInPaging\":false,\"positionForPaging\":0,\"realtime\":false,\"pid\":\"388\",\"name\":\"전남일보\",\"logoLight\":{\"url\":\"https://s.pstatic.net/static/newsstand/2020/logo/light/0604/388.png\"},\"logoDark\":{\"url\":\"https://s.pstatic.net/static/newsstand/2020/logo/dark/0604/388.png\"},\"showThumbnailView\":true,\"showListView\":true,\"regDate\":\"20240607 16:45:01\",\"_id\":null,\"@type\":\"PC-NEWSSTAND-PRESS-BLOCK\",\"@code\":null,\"@template\":\"NONE\",\"@flowId\":null,\"@flowExecutionId\":null,\"@provider\":null,\"@lastModifiedAt\":null},{\"@type\":\"PC-NEWSSTAND-PRESS-BLOCK\",\"blocks\":null,\"materials\":null,\"excludeInPaging\":false,\"positionForPaging\":0,\"realtime\":false,\"pid\":\"389\",\"name\":\"제주도민일보\",\"logoLight\":{\"url\":\"https://s.pstatic.net/static/newsstand/2020/logo/light/0604/389.png\"},\"logoDark\":{\"url\":\"https://s.pstatic.net/static/newsstand/2020/logo/dark/0604/389.png\"},\"showThumbnailView\":true,\"showListView\":true,\"regDate\":\"20240607 16:40:21\",\"_id\":null,\"@type\":\"PC-NEWSSTAND-PRESS-BLOCK\",\"@code\":null,\"@template\":\"NONE\",\"@flowId\":null,\"@flowExecutionId\":null,\"@provider\":null,\"@lastModifiedAt\":null},{\"@type\":\"PC-NEWSSTAND-PRESS-BLOCK\",\"blocks\":null,\"materials\":null,\"excludeInPaging\":false,\"positionForPaging\":0,\"realtime\":false,\"pid\":\"940\",\"name\":\"스포츠투데이\",\"logoLight\":{\"url\":\"https://s.pstatic.net/static/newsstand/up/2022/0328/nsd223244325.png\"},\"logoDark\":{\"url\":\"https://s.pstatic.net/static/newsstand/up/2022/0328/nsd223257107.png\"},\"showThumbnailView\":true,\"showListView\":true,\"regDate\":\"20240607 16:30:01\",\"_id\":null,\"@type\":\"PC-NEWSSTAND-PRESS-BLOCK\",\"@code\":null,\"@template\":\"NONE\",\"@flowId\":null,\"@flowExecutionId\":null,\"@provider\":null,\"@lastModifiedAt\":null},{\"@type\":\"PC-NEWSSTAND-PRESS-BLOCK\",\"blocks\":null,\"materials\":null,\"excludeInPaging\":false,\"positionForPaging\":0,\"realtime\":false,\"pid\":\"028\",\"name\":\"한겨레\",\"logoLight\":{\"url\":\"https://s.pstatic.net/static/newsstand/up/2024/0219/nsd145828169.png\"},\"logoDark\":{\"url\":\"https://s.pstatic.net/static/newsstand/up/2024/0219/nsd14592425.png\"},\"showThumbnailView\":true,\"showListView\":true,\"regDate\":\"20240607 16:51:15\",\"_id\":null,\"@type\":\"PC-NEWSSTAND-PRESS-BLOCK\",\"@code\":null,\"@template\":\"NONE\",\"@flowId\":null,\"@flowExecutionId\":null,\"@provider\":null,\"@lastModifiedAt\":null},{\"@type\":\"PC-NEWSSTAND-PRESS-BLOCK\",\"blocks\":null,\"materials\":null,\"excludeInPaging\":false,\"positionForPaging\":0,\"realtime\":false,\"pid\":\"820\",\"name\":\"월간노동법률\",\"logoLight\":{\"url\":\"https://s.pstatic.net/static/newsstand/up/2022/0817/nsd14480190.png\"},\"logoDark\":{\"url\":\"https://s.pstatic.net/static/newsstand/up/2022/0817/nsd144754102.png\"},\"showThumbnailView\":true,\"showListView\":true,\"regDate\":\"20240607 15:26:18\",\"_id\":null,\"@type\":\"PC-NEWSSTAND-PRESS-BLOCK\",\"@code\":null,\"@template\":\"NONE\",\"@flowId\":null,\"@flowExecutionId\":null,\"@provider\":null,\"@lastModifiedAt\":null},{\"@type\":\"PC-NEWSSTAND-PRESS-BLOCK\",\"blocks\":null,\"materials\":null,\"excludeInPaging\":false,\"positionForPaging\":0,\"realtime\":false,\"pid\":\"941\",\"name\":\"초이스경제\",\"logoLight\":{\"url\":\"https://s.pstatic.net/static/newsstand/2020/logo/light/0604/941.png\"},\"logoDark\":{\"url\":\"https://s.pstatic.net/static/newsstand/2020/logo/dark/0604/941.png\"},\"showThumbnailView\":true,\"showListView\":true,\"regDate\":\"20240607 16:31:51\",\"_id\":null,\"@type\":\"PC-NEWSSTAND-PRESS-BLOCK\",\"@code\":null,\"@template\":\"NONE\",\"@flowId\":null,\"@flowExecutionId\":null,\"@provider\":null,\"@lastModifiedAt\":null},{\"@type\":\"PC-NEWSSTAND-PRESS-BLOCK\",\"blocks\":null,\"materials\":null,\"excludeInPaging\":false,\"positionForPaging\":0,\"realtime\":false,\"pid\":\"029\",\"name\":\"디지털타임스\",\"logoLight\":{\"url\":\"https://s.pstatic.net/static/newsstand/2020/logo/light/0604/029.png\"},\"logoDark\":{\"url\":\"https://s.pstatic.net/static/newsstand/2020/logo/dark/0604/029.png\"},\"showThumbnailView\":true,\"showListView\":true,\"regDate\":\"20240607 16:44:29\",\"_id\":null,\"@type\":\"PC-NEWSSTAND-PRESS-BLOCK\",\"@code\":null,\"@template\":\"NONE\",\"@flowId\":null,\"@flowExecutionId\":null,\"@provider\":null,\"@lastModifiedAt\":null},{\"@type\":\"PC-NEWSSTAND-PRESS-BLOCK\",\"blocks\":null,\"materials\":null,\"excludeInPaging\":false,\"positionForPaging\":0,\"realtime\":false,\"pid\":\"821\",\"name\":\"경남도민일보\",\"logoLight\":{\"url\":\"https://s.pstatic.net/static/newsstand/2020/logo/light/0604/821.png\"},\"logoDark\":{\"url\":\"https://s.pstatic.net/static/newsstand/2020/logo/dark/0604/821.png\"},\"showThumbnailView\":true,\"showListView\":true,\"regDate\":\"20240607 16:40:17\",\"_id\":null,\"@type\":\"PC-NEWSSTAND-PRESS-BLOCK\",\"@code\":null,\"@template\":\"NONE\",\"@flowId\":null,\"@flowExecutionId\":null,\"@provider\":null,\"@lastModifiedAt\":null},{\"@type\":\"PC-NEWSSTAND-PRESS-BLOCK\",\"blocks\":null,\"materials\":null,\"excludeInPaging\":false,\"positionForPaging\":0,\"realtime\":false,\"pid\":\"942\",\"name\":\"비즈니스포스트\",\"logoLight\":{\"url\":\"https://s.pstatic.net/static/newsstand/2020/logo/light/0604/942.png\"},\"logoDark\":{\"url\":\"https://s.pstatic.net/static/newsstand/2020/logo/dark/0604/942.png\"},\"showThumbnailView\":true,\"showListView\":true,\"regDate\":\"20240607 15:49:27\",\"_id\":null,\"@type\":\"PC-NEWSSTAND-PRESS-BLOCK\",\"@code\":null,\"@template\":\"NONE\",\"@flowId\":null,\"@flowExecutionId\":null,\"@provider\":null,\"@lastModifiedAt\":null},{\"@type\":\"PC-NEWSSTAND-PRESS-BLOCK\",\"blocks\":null,\"materials\":null,\"excludeInPaging\":false,\"positionForPaging\":0,\"realtime\":false,\"pid\":\"822\",\"name\":\"프라임경제\",\"logoLight\":{\"url\":\"https://s.pstatic.net/static/newsstand/up/2020/0730/nsd13728808.png\"},\"logoDark\":{\"url\":\"https://s.pstatic.net/static/newsstand/up/2020/0730/nsd13719939.png\"},\"showThumbnailView\":true,\"showListView\":true,\"regDate\":\"20240607 16:30:05\",\"_id\":null,\"@type\":\"PC-NEWSSTAND-PRESS-BLOCK\",\"@code\":null,\"@template\":\"NONE\",\"@flowId\":null,\"@flowExecutionId\":null,\"@provider\":null,\"@lastModifiedAt\":null},{\"@type\":\"PC-NEWSSTAND-PRESS-BLOCK\",\"blocks\":null,\"materials\":null,\"excludeInPaging\":false,\"positionForPaging\":0,\"realtime\":false,\"pid\":\"943\",\"name\":\"비즈워치\",\"logoLight\":{\"url\":\"https://s.pstatic.net/static/newsstand/up/2023/0213/nsd17943530.png\"},\"logoDark\":{\"url\":\"https://s.pstatic.net/static/newsstand/up/2023/0213/nsd17100999.png\"},\"showThumbnailView\":true,\"showListView\":true,\"regDate\":\"20240607 15:59:19\",\"_id\":null,\"@type\":\"PC-NEWSSTAND-PRESS-BLOCK\",\"@code\":null,\"@template\":\"NONE\",\"@flowId\":null,\"@flowExecutionId\":null,\"@provider\":null,\"@lastModifiedAt\":null},{\"@type\":\"PC-NEWSSTAND-PRESS-BLOCK\",\"blocks\":null,\"materials\":null,\"excludeInPaging\":false,\"positionForPaging\":0,\"realtime\":false,\"pid\":\"823\",\"name\":\"KPI뉴스\",\"logoLight\":{\"url\":\"https://s.pstatic.net/static/newsstand/up/2024/0329/nsd145553436.png\"},\"logoDark\":{\"url\":\"https://s.pstatic.net/static/newsstand/up/2024/0329/nsd14554610.png\"},\"showThumbnailView\":true,\"showListView\":true,\"regDate\":\"20240607 16:40:22\",\"_id\":null,\"@type\":\"PC-NEWSSTAND-PRESS-BLOCK\",\"@code\":null,\"@template\":\"NONE\",\"@flowId\":null,\"@flowExecutionId\":null,\"@provider\":null,\"@lastModifiedAt\":null},{\"@type\":\"PC-NEWSSTAND-PRESS-BLOCK\",\"blocks\":null,\"materials\":null,\"excludeInPaging\":false,\"positionForPaging\":0,\"realtime\":false,\"pid\":\"944\",\"name\":\"나우뉴스\",\"logoLight\":{\"url\":\"https://s.pstatic.net/static/newsstand/up/2022/0804/nsd1343054.png\"},\"logoDark\":{\"url\":\"https://s.pstatic.net/static/newsstand/up/2022/0804/nsd13457540.png\"},\"showThumbnailView\":true,\"showListView\":true,\"regDate\":\"20240607 16:05:09\",\"_id\":null,\"@type\":\"PC-NEWSSTAND-PRESS-BLOCK\",\"@code\":null,\"@template\":\"NONE\",\"@flowId\":null,\"@flowExecutionId\":null,\"@provider\":null,\"@lastModifiedAt\":null},{\"@type\":\"PC-NEWSSTAND-PRESS-BLOCK\",\"blocks\":null,\"materials\":null,\"excludeInPaging\":false,\"positionForPaging\":0,\"realtime\":false,\"pid\":\"824\",\"name\":\"서울파이낸스\",\"logoLight\":{\"url\":\"https://s.pstatic.net/static/newsstand/2020/logo/light/0604/824.png\"},\"logoDark\":{\"url\":\"https://s.pstatic.net/static/newsstand/2020/logo/dark/0604/824.png\"},\"showThumbnailView\":true,\"showListView\":true,\"regDate\":\"20240607 16:40:18\",\"_id\":null,\"@type\":\"PC-NEWSSTAND-PRESS-BLOCK\",\"@code\":null,\"@template\":\"NONE\",\"@flowId\":null,\"@flowExecutionId\":null,\"@provider\":null,\"@lastModifiedAt\":null},{\"@type\":\"PC-NEWSSTAND-PRESS-BLOCK\",\"blocks\":null,\"materials\":null,\"excludeInPaging\":false,\"positionForPaging\":0,\"realtime\":false,\"pid\":\"945\",\"name\":\"YTN사이언스\",\"logoLight\":{\"url\":\"https://s.pstatic.net/static/newsstand/up/2020/0922/nsd152336602.png\"},\"logoDark\":{\"url\":\"https://s.pstatic.net/static/newsstand/up/2020/0922/nsd152323211.png\"},\"showThumbnailView\":true,\"showListView\":true,\"regDate\":\"20240607 16:44:59\",\"_id\":null,\"@type\":\"PC-NEWSSTAND-PRESS-BLOCK\",\"@code\":null,\"@template\":\"NONE\",\"@flowId\":null,\"@flowExecutionId\":null,\"@provider\":null,\"@lastModifiedAt\":null},{\"@type\":\"PC-NEWSSTAND-PRESS-BLOCK\",\"blocks\":null,\"materials\":null,\"excludeInPaging\":false,\"positionForPaging\":0,\"realtime\":false,\"pid\":\"825\",\"name\":\"이로운넷\",\"logoLight\":{\"url\":\"https://s.pstatic.net/static/newsstand/2020/logo/light/0604/825.png\"},\"logoDark\":{\"url\":\"https://s.pstatic.net/static/newsstand/2020/logo/dark/0604/825.png\"},\"showThumbnailView\":true,\"showListView\":true,\"regDate\":\"20240607 16:40:19\",\"_id\":null,\"@type\":\"PC-NEWSSTAND-PRESS-BLOCK\",\"@code\":null,\"@template\":\"NONE\",\"@flowId\":null,\"@flowExecutionId\":null,\"@provider\":null,\"@lastModifiedAt\":null},{\"@type\":\"PC-NEWSSTAND-PRESS-BLOCK\",\"blocks\":null,\"materials\":null,\"excludeInPaging\":false,\"positionForPaging\":0,\"realtime\":false,\"pid\":\"946\",\"name\":\"YONHAPNEWS\",\"logoLight\":{\"url\":\"https://s.pstatic.net/static/newsstand/2020/logo/light/0604/946.png\"},\"logoDark\":{\"url\":\"https://s.pstatic.net/static/newsstand/2020/logo/dark/0604/946.png\"},\"showThumbnailView\":true,\"showListView\":true,\"regDate\":\"20240607 16:22:18\",\"_id\":null,\"@type\":\"PC-NEWSSTAND-PRESS-BLOCK\",\"@code\":null,\"@template\":\"NONE\",\"@flowId\":null,\"@flowExecutionId\":null,\"@provider\":null,\"@lastModifiedAt\":null},{\"@type\":\"PC-NEWSSTAND-PRESS-BLOCK\",\"blocks\":null,\"materials\":null,\"excludeInPaging\":false,\"positionForPaging\":0,\"realtime\":false,\"pid\":\"826\",\"name\":\"톱데일리\",\"logoLight\":{\"url\":\"https://s.pstatic.net/static/newsstand/up/2022/0817/nsd14491516.png\"},\"logoDark\":{\"url\":\"https://s.pstatic.net/static/newsstand/up/2022/0817/nsd14499446.png\"},\"showThumbnailView\":true,\"showListView\":true,\"regDate\":\"20240607 16:40:13\",\"_id\":null,\"@type\":\"PC-NEWSSTAND-PRESS-BLOCK\",\"@code\":null,\"@template\":\"NONE\",\"@flowId\":null,\"@flowExecutionId\":null,\"@provider\":null,\"@lastModifiedAt\":null},{\"@type\":\"PC-NEWSSTAND-PRESS-BLOCK\",\"blocks\":null,\"materials\":null,\"excludeInPaging\":false,\"positionForPaging\":0,\"realtime\":false,\"pid\":\"947\",\"name\":\"조이뉴스24\",\"logoLight\":{\"url\":\"https://s.pstatic.net/static/newsstand/2020/logo/light/0604/947.png\"},\"logoDark\":{\"url\":\"https://s.pstatic.net/static/newsstand/2020/logo/dark/0604/947.png\"},\"showThumbnailView\":true,\"showListView\":true,\"regDate\":\"20240607 16:31:58\",\"_id\":null,\"@type\":\"PC-NEWSSTAND-PRESS-BLOCK\",\"@code\":null,\"@template\":\"NONE\",\"@flowId\":null,\"@flowExecutionId\":null,\"@provider\":null,\"@lastModifiedAt\":null},{\"@type\":\"PC-NEWSSTAND-PRESS-BLOCK\",\"blocks\":null,\"materials\":null,\"excludeInPaging\":false,\"positionForPaging\":0,\"realtime\":false,\"pid\":\"827\",\"name\":\"베이비뉴스\",\"logoLight\":{\"url\":\"https://s.pstatic.net/static/newsstand/up/2021/0222/nsd13325188.png\"},\"logoDark\":{\"url\":\"https://s.pstatic.net/static/newsstand/up/2021/0222/nsd13338358.png\"},\"showThumbnailView\":true,\"showListView\":true,\"regDate\":\"20240607 16:40:22\",\"_id\":null,\"@type\":\"PC-NEWSSTAND-PRESS-BLOCK\",\"@code\":null,\"@template\":\"NONE\",\"@flowId\":null,\"@flowExecutionId\":null,\"@provider\":null,\"@lastModifiedAt\":null},{\"@type\":\"PC-NEWSSTAND-PRESS-BLOCK\",\"blocks\":null,\"materials\":null,\"excludeInPaging\":false,\"positionForPaging\":0,\"realtime\":false,\"pid\":\"948\",\"name\":\"한겨레21\",\"logoLight\":{\"url\":\"https://s.pstatic.net/static/newsstand/2020/logo/light/0604/948.png\"},\"logoDark\":{\"url\":\"https://s.pstatic.net/static/newsstand/2020/logo/dark/0604/948.png\"},\"showThumbnailView\":true,\"showListView\":true,\"regDate\":\"20240607 16:37:51\",\"_id\":null,\"@type\":\"PC-NEWSSTAND-PRESS-BLOCK\",\"@code\":null,\"@template\":\"NONE\",\"@flowId\":null,\"@flowExecutionId\":null,\"@provider\":null,\"@lastModifiedAt\":null},{\"@type\":\"PC-NEWSSTAND-PRESS-BLOCK\",\"blocks\":null,\"materials\":null,\"excludeInPaging\":false,\"positionForPaging\":0,\"realtime\":false,\"pid\":\"828\",\"name\":\"식품저널 foodnews\",\"logoLight\":{\"url\":\"https://s.pstatic.net/static/newsstand/up/2021/0211/nsd0427277.png\"},\"logoDark\":{\"url\":\"https://s.pstatic.net/static/newsstand/up/2021/0211/nsd0439284.png\"},\"showThumbnailView\":true,\"showListView\":true,\"regDate\":\"20240607 16:40:21\",\"_id\":null,\"@type\":\"PC-NEWSSTAND-PRESS-BLOCK\",\"@code\":null,\"@template\":\"NONE\",\"@flowId\":null,\"@flowExecutionId\":null,\"@provider\":null,\"@lastModifiedAt\":null},{\"@type\":\"PC-NEWSSTAND-PRESS-BLOCK\",\"blocks\":null,\"materials\":null,\"excludeInPaging\":false,\"positionForPaging\":0,\"realtime\":false,\"pid\":\"829\",\"name\":\"미디어스\",\"logoLight\":{\"url\":\"https://s.pstatic.net/static/newsstand/up/2021/0211/nsd01153196.png\"},\"logoDark\":{\"url\":\"https://s.pstatic.net/static/newsstand/up/2021/0211/nsd01153196.png\"},\"showThumbnailView\":true,\"showListView\":true,\"regDate\":\"20240607 16:40:29\",\"_id\":null,\"@type\":\"PC-NEWSSTAND-PRESS-BLOCK\",\"@code\":null,\"@template\":\"NONE\",\"@flowId\":null,\"@flowExecutionId\":null,\"@provider\":null,\"@lastModifiedAt\":null},{\"@type\":\"PC-NEWSSTAND-PRESS-BLOCK\",\"blocks\":null,\"materials\":null,\"excludeInPaging\":false,\"positionForPaging\":0,\"realtime\":false,\"pid\":\"391\",\"name\":\"충청일보\",\"logoLight\":{\"url\":\"https://s.pstatic.net/static/newsstand/2020/logo/light/0604/391.png\"},\"logoDark\":{\"url\":\"https://s.pstatic.net/static/newsstand/2020/logo/dark/0604/391.png\"},\"showThumbnailView\":true,\"showListView\":true,\"regDate\":\"20240606 22:00:40\",\"_id\":null,\"@type\":\"PC-NEWSSTAND-PRESS-BLOCK\",\"@code\":null,\"@template\":\"NONE\",\"@flowId\":null,\"@flowExecutionId\":null,\"@provider\":null,\"@lastModifiedAt\":null},{\"@type\":\"PC-NEWSSTAND-PRESS-BLOCK\",\"blocks\":null,\"materials\":null,\"excludeInPaging\":false,\"positionForPaging\":0,\"realtime\":false,\"pid\":\"030\",\"name\":\"전자신문\",\"logoLight\":{\"url\":\"https://s.pstatic.net/static/newsstand/2020/logo/light/0604/030.png\"},\"logoDark\":{\"url\":\"https://s.pstatic.net/static/newsstand/2020/logo/dark/0604/030.png\"},\"showThumbnailView\":true,\"showListView\":true,\"regDate\":\"20240607 16:40:10\",\"_id\":null,\"@type\":\"PC-NEWSSTAND-PRESS-BLOCK\",\"@code\":null,\"@template\":\"NONE\",\"@flowId\":null,\"@flowExecutionId\":null,\"@provider\":null,\"@lastModifiedAt\":null},{\"@type\":\"PC-NEWSSTAND-PRESS-BLOCK\",\"blocks\":null,\"materials\":null,\"excludeInPaging\":false,\"positionForPaging\":0,\"realtime\":false,\"pid\":\"031\",\"name\":\"아이뉴스24\",\"logoLight\":{\"url\":\"https://s.pstatic.net/static/newsstand/2020/logo/light/0604/031.png\"},\"logoDark\":{\"url\":\"https://s.pstatic.net/static/newsstand/2020/logo/dark/0604/031.png\"},\"showThumbnailView\":true,\"showListView\":true,\"regDate\":\"20240607 16:41:30\",\"_id\":null,\"@type\":\"PC-NEWSSTAND-PRESS-BLOCK\",\"@code\":null,\"@template\":\"NONE\",\"@flowId\":null,\"@flowExecutionId\":null,\"@provider\":null,\"@lastModifiedAt\":null},{\"@type\":\"PC-NEWSSTAND-PRESS-BLOCK\",\"blocks\":null,\"materials\":null,\"excludeInPaging\":false,\"positionForPaging\":0,\"realtime\":false,\"pid\":\"032\",\"name\":\"경향신문\",\"logoLight\":{\"url\":\"https://s.pstatic.net/static/newsstand/2020/logo/light/0604/032.png\"},\"logoDark\":{\"url\":\"https://s.pstatic.net/static/newsstand/2020/logo/dark/0604/032.png\"},\"showThumbnailView\":true,\"showListView\":true,\"regDate\":\"20240607 16:16:46\",\"_id\":null,\"@type\":\"PC-NEWSSTAND-PRESS-BLOCK\",\"@code\":null,\"@template\":\"NONE\",\"@flowId\":null,\"@flowExecutionId\":null,\"@provider\":null,\"@lastModifiedAt\":null},{\"@type\":\"PC-NEWSSTAND-PRESS-BLOCK\",\"blocks\":null,\"materials\":null,\"excludeInPaging\":false,\"positionForPaging\":0,\"realtime\":false,\"pid\":\"396\",\"name\":\"스포츠월드\",\"logoLight\":{\"url\":\"https://s.pstatic.net/static/newsstand/2020/logo/light/0604/396.png\"},\"logoDark\":{\"url\":\"https://s.pstatic.net/static/newsstand/2020/logo/dark/0604/396.png\"},\"showThumbnailView\":true,\"showListView\":true,\"regDate\":\"20240607 16:24:50\",\"_id\":null,\"@type\":\"PC-NEWSSTAND-PRESS-BLOCK\",\"@code\":null,\"@template\":\"NONE\",\"@flowId\":null,\"@flowExecutionId\":null,\"@provider\":null,\"@lastModifiedAt\":null},{\"@type\":\"PC-NEWSSTAND-PRESS-BLOCK\",\"blocks\":null,\"materials\":null,\"excludeInPaging\":false,\"positionForPaging\":0,\"realtime\":false,\"pid\":\"277\",\"name\":\"아시아경제\",\"logoLight\":{\"url\":\"https://s.pstatic.net/static/newsstand/2020/logo/light/0604/277.png\"},\"logoDark\":{\"url\":\"https://s.pstatic.net/static/newsstand/2020/logo/dark/0604/277.png\"},\"showThumbnailView\":true,\"showListView\":true,\"regDate\":\"20240607 16:19:29\",\"_id\":null,\"@type\":\"PC-NEWSSTAND-PRESS-BLOCK\",\"@code\":null,\"@template\":\"NONE\",\"@flowId\":null,\"@flowExecutionId\":null,\"@provider\":null,\"@lastModifiedAt\":null},{\"@type\":\"PC-NEWSSTAND-PRESS-BLOCK\",\"blocks\":null,\"materials\":null,\"excludeInPaging\":false,\"positionForPaging\":0,\"realtime\":false,\"pid\":\"950\",\"name\":\"월간중앙\",\"logoLight\":{\"url\":\"https://s.pstatic.net/static/newsstand/2020/logo/light/0604/950.png\"},\"logoDark\":{\"url\":\"https://s.pstatic.net/static/newsstand/2020/logo/dark/0604/950.png\"},\"showThumbnailView\":true,\"showListView\":true,\"regDate\":\"20240607 16:00:00\",\"_id\":null,\"@type\":\"PC-NEWSSTAND-PRESS-BLOCK\",\"@code\":null,\"@template\":\"NONE\",\"@flowId\":null,\"@flowExecutionId\":null,\"@provider\":null,\"@lastModifiedAt\":null},{\"@type\":\"PC-NEWSSTAND-PRESS-BLOCK\",\"blocks\":null,\"materials\":null,\"excludeInPaging\":false,\"positionForPaging\":0,\"realtime\":false,\"pid\":\"038\",\"name\":\"한국일보\",\"logoLight\":{\"url\":\"https://s.pstatic.net/static/newsstand/2020/logo/light/0604/038.png\"},\"logoDark\":{\"url\":\"https://s.pstatic.net/static/newsstand/2020/logo/dark/0604/038.png\"},\"showThumbnailView\":true,\"showListView\":true,\"regDate\":\"20240607 16:23:39\",\"_id\":null,\"@type\":\"PC-NEWSSTAND-PRESS-BLOCK\",\"@code\":null,\"@template\":\"NONE\",\"@flowId\":null,\"@flowExecutionId\":null,\"@provider\":null,\"@lastModifiedAt\":null},{\"@type\":\"PC-NEWSSTAND-PRESS-BLOCK\",\"blocks\":null,\"materials\":null,\"excludeInPaging\":false,\"positionForPaging\":0,\"realtime\":false,\"pid\":\"830\",\"name\":\"게임동아\",\"logoLight\":{\"url\":\"https://s.pstatic.net/static/newsstand/up/2021/0211/nsd02321523.png\"},\"logoDark\":{\"url\":\"https://s.pstatic.net/static/newsstand/up/2021/0211/nsd02332888.png\"},\"showThumbnailView\":true,\"showListView\":true,\"regDate\":\"20240607 15:58:30\",\"_id\":null,\"@type\":\"PC-NEWSSTAND-PRESS-BLOCK\",\"@code\":null,\"@template\":\"NONE\",\"@flowId\":null,\"@flowExecutionId\":null,\"@provider\":null,\"@lastModifiedAt\":null},{\"@type\":\"PC-NEWSSTAND-PRESS-BLOCK\",\"blocks\":null,\"materials\":null,\"excludeInPaging\":false,\"positionForPaging\":0,\"realtime\":false,\"pid\":\"951\",\"name\":\"포브스코리아\",\"logoLight\":{\"url\":\"https://s.pstatic.net/static/newsstand/2020/logo/light/0604/951.png\"},\"logoDark\":{\"url\":\"https://s.pstatic.net/static/newsstand/2020/logo/dark/0604/951.png\"},\"showThumbnailView\":true,\"showListView\":true,\"regDate\":\"20240607 16:00:00\",\"_id\":null,\"@type\":\"PC-NEWSSTAND-PRESS-BLOCK\",\"@code\":null,\"@template\":\"NONE\",\"@flowId\":null,\"@flowExecutionId\":null,\"@provider\":null,\"@lastModifiedAt\":null},{\"@type\":\"PC-NEWSSTAND-PRESS-BLOCK\",\"blocks\":null,\"materials\":null,\"excludeInPaging\":false,\"positionForPaging\":0,\"realtime\":false,\"pid\":\"952\",\"name\":\"보안뉴스\",\"logoLight\":{\"url\":\"https://s.pstatic.net/static/newsstand/2020/logo/light/0604/952.png\"},\"logoDark\":{\"url\":\"https://s.pstatic.net/static/newsstand/2020/logo/dark/0604/952.png\"},\"showThumbnailView\":true,\"showListView\":true,\"regDate\":\"20240607 10:05:00\",\"_id\":null,\"@type\":\"PC-NEWSSTAND-PRESS-BLOCK\",\"@code\":null,\"@template\":\"NONE\",\"@flowId\":null,\"@flowExecutionId\":null,\"@provider\":null,\"@lastModifiedAt\":null},{\"@type\":\"PC-NEWSSTAND-PRESS-BLOCK\",\"blocks\":null,\"materials\":null,\"excludeInPaging\":false,\"positionForPaging\":0,\"realtime\":false,\"pid\":\"953\",\"name\":\"디지털투데이\",\"logoLight\":{\"url\":\"https://s.pstatic.net/static/newsstand/2020/logo/light/0604/953.png\"},\"logoDark\":{\"url\":\"https://s.pstatic.net/static/newsstand/2020/logo/dark/0604/953.png\"},\"showThumbnailView\":true,\"showListView\":true,\"regDate\":\"20240607 16:00:05\",\"_id\":null,\"@type\":\"PC-NEWSSTAND-PRESS-BLOCK\",\"@code\":null,\"@template\":\"NONE\",\"@flowId\":null,\"@flowExecutionId\":null,\"@provider\":null,\"@lastModifiedAt\":null},{\"@type\":\"PC-NEWSSTAND-PRESS-BLOCK\",\"blocks\":null,\"materials\":null,\"excludeInPaging\":false,\"positionForPaging\":0,\"realtime\":false,\"pid\":\"954\",\"name\":\"CNB뉴스\",\"logoLight\":{\"url\":\"https://s.pstatic.net/static/newsstand/2020/logo/light/0604/954.png\"},\"logoDark\":{\"url\":\"https://s.pstatic.net/static/newsstand/2020/logo/dark/0604/954.png\"},\"showThumbnailView\":true,\"showListView\":true,\"regDate\":\"20240607 16:40:02\",\"_id\":null,\"@type\":\"PC-NEWSSTAND-PRESS-BLOCK\",\"@code\":null,\"@template\":\"NONE\",\"@flowId\":null,\"@flowExecutionId\":null,\"@provider\":null,\"@lastModifiedAt\":null},{\"@type\":\"PC-NEWSSTAND-PRESS-BLOCK\",\"blocks\":null,\"materials\":null,\"excludeInPaging\":false,\"positionForPaging\":0,\"realtime\":false,\"pid\":\"955\",\"name\":\"독서신문\",\"logoLight\":{\"url\":\"https://s.pstatic.net/static/newsstand/2020/logo/light/0604/955.png\"},\"logoDark\":{\"url\":\"https://s.pstatic.net/static/newsstand/2020/logo/dark/0604/955.png\"},\"showThumbnailView\":true,\"showListView\":true,\"regDate\":\"20240607 16:40:04\",\"_id\":null,\"@type\":\"PC-NEWSSTAND-PRESS-BLOCK\",\"@code\":null,\"@template\":\"NONE\",\"@flowId\":null,\"@flowExecutionId\":null,\"@provider\":null,\"@lastModifiedAt\":null},{\"@type\":\"PC-NEWSSTAND-PRESS-BLOCK\",\"blocks\":null,\"materials\":null,\"excludeInPaging\":false,\"positionForPaging\":0,\"realtime\":false,\"pid\":\"956\",\"name\":\"철강금속신문\",\"logoLight\":{\"url\":\"https://s.pstatic.net/static/newsstand/2020/logo/light/0604/956.png\"},\"logoDark\":{\"url\":\"https://s.pstatic.net/static/newsstand/2020/logo/dark/0604/956.png\"},\"showThumbnailView\":true,\"showListView\":true,\"regDate\":\"20240607 16:40:03\",\"_id\":null,\"@type\":\"PC-NEWSSTAND-PRESS-BLOCK\",\"@code\":null,\"@template\":\"NONE\",\"@flowId\":null,\"@flowExecutionId\":null,\"@provider\":null,\"@lastModifiedAt\":null},{\"@type\":\"PC-NEWSSTAND-PRESS-BLOCK\",\"blocks\":null,\"materials\":null,\"excludeInPaging\":false,\"positionForPaging\":0,\"realtime\":false,\"pid\":\"957\",\"name\":\"시사위크\",\"logoLight\":{\"url\":\"https://s.pstatic.net/static/newsstand/2020/logo/light/0604/957.png\"},\"logoDark\":{\"url\":\"https://s.pstatic.net/static/newsstand/2020/logo/dark/0604/957.png\"},\"showThumbnailView\":true,\"showListView\":true,\"regDate\":\"20240607 15:30:31\",\"_id\":null,\"@type\":\"PC-NEWSSTAND-PRESS-BLOCK\",\"@code\":null,\"@template\":\"NONE\",\"@flowId\":null,\"@flowExecutionId\":null,\"@provider\":null,\"@lastModifiedAt\":null},{\"@type\":\"PC-NEWSSTAND-PRESS-BLOCK\",\"blocks\":null,\"materials\":null,\"excludeInPaging\":false,\"positionForPaging\":0,\"realtime\":false,\"pid\":\"958\",\"name\":\"베리타스알파\",\"logoLight\":{\"url\":\"https://s.pstatic.net/static/newsstand/up/2023/0826/nsd0145257.png\"},\"logoDark\":{\"url\":\"https://s.pstatic.net/static/newsstand/up/2023/0826/nsd0136682.png\"},\"showThumbnailView\":true,\"showListView\":true,\"regDate\":\"20240607 16:40:38\",\"_id\":null,\"@type\":\"PC-NEWSSTAND-PRESS-BLOCK\",\"@code\":null,\"@template\":\"NONE\",\"@flowId\":null,\"@flowExecutionId\":null,\"@provider\":null,\"@lastModifiedAt\":null},{\"@type\":\"PC-NEWSSTAND-PRESS-BLOCK\",\"blocks\":null,\"materials\":null,\"excludeInPaging\":false,\"positionForPaging\":0,\"realtime\":false,\"pid\":\"959\",\"name\":\"M이코노미뉴스\",\"logoLight\":{\"url\":\"https://s.pstatic.net/static/newsstand/up/2021/1221/nsd15292271.png\"},\"logoDark\":{\"url\":\"https://s.pstatic.net/static/newsstand/up/2021/1221/nsd171157172.png\"},\"showThumbnailView\":true,\"showListView\":true,\"regDate\":\"20240607 16:40:05\",\"_id\":null,\"@type\":\"PC-NEWSSTAND-PRESS-BLOCK\",\"@code\":null,\"@template\":\"NONE\",\"@flowId\":null,\"@flowExecutionId\":null,\"@provider\":null,\"@lastModifiedAt\":null},{\"@type\":\"PC-NEWSSTAND-PRESS-BLOCK\",\"blocks\":null,\"materials\":null,\"excludeInPaging\":false,\"positionForPaging\":0,\"realtime\":false,\"pid\":\"040\",\"name\":\"코리아타임스\",\"logoLight\":{\"url\":\"https://s.pstatic.net/static/newsstand/2020/logo/light/0604/040.png\"},\"logoDark\":{\"url\":\"https://s.pstatic.net/static/newsstand/2020/logo/dark/0604/040.png\"},\"showThumbnailView\":true,\"showListView\":true,\"regDate\":\"20240607 16:45:11\",\"_id\":null,\"@type\":\"PC-NEWSSTAND-PRESS-BLOCK\",\"@code\":null,\"@template\":\"NONE\",\"@flowId\":null,\"@flowExecutionId\":null,\"@provider\":null,\"@lastModifiedAt\":null},{\"@type\":\"PC-NEWSSTAND-PRESS-BLOCK\",\"blocks\":null,\"materials\":null,\"excludeInPaging\":false,\"positionForPaging\":0,\"realtime\":false,\"pid\":\"042\",\"name\":\"데일리한국\",\"logoLight\":{\"url\":\"https://s.pstatic.net/static/newsstand/2020/logo/light/0604/042.png\"},\"logoDark\":{\"url\":\"https://s.pstatic.net/static/newsstand/2020/logo/dark/0604/042.png\"},\"showThumbnailView\":true,\"showListView\":true,\"regDate\":\"20240607 16:40:25\",\"_id\":null,\"@type\":\"PC-NEWSSTAND-PRESS-BLOCK\",\"@code\":null,\"@template\":\"NONE\",\"@flowId\":null,\"@flowExecutionId\":null,\"@provider\":null,\"@lastModifiedAt\":null},{\"@type\":\"PC-NEWSSTAND-PRESS-BLOCK\",\"blocks\":null,\"materials\":null,\"excludeInPaging\":false,\"positionForPaging\":0,\"realtime\":false,\"pid\":\"044\",\"name\":\"코리아헤럴드\",\"logoLight\":{\"url\":\"https://s.pstatic.net/static/newsstand/2020/logo/light/0604/044.png\"},\"logoDark\":{\"url\":\"https://s.pstatic.net/static/newsstand/2020/logo/dark/0604/044.png\"},\"showThumbnailView\":true,\"showListView\":true,\"regDate\":\"20240607 15:43:50\",\"_id\":null,\"@type\":\"PC-NEWSSTAND-PRESS-BLOCK\",\"@code\":null,\"@template\":\"NONE\",\"@flowId\":null,\"@flowExecutionId\":null,\"@provider\":null,\"@lastModifiedAt\":null},{\"@type\":\"PC-NEWSSTAND-PRESS-BLOCK\",\"blocks\":null,\"materials\":null,\"excludeInPaging\":false,\"positionForPaging\":0,\"realtime\":false,\"pid\":\"047\",\"name\":\"오마이뉴스\",\"logoLight\":{\"url\":\"https://s.pstatic.net/static/newsstand/2020/logo/light/0604/047.png\"},\"logoDark\":{\"url\":\"https://s.pstatic.net/static/newsstand/2020/logo/dark/0604/047.png\"},\"showThumbnailView\":true,\"showListView\":true,\"regDate\":\"20240607 16:35:12\",\"_id\":null,\"@type\":\"PC-NEWSSTAND-PRESS-BLOCK\",\"@code\":null,\"@template\":\"NONE\",\"@flowId\":null,\"@flowExecutionId\":null,\"@provider\":null,\"@lastModifiedAt\":null},{\"@type\":\"PC-NEWSSTAND-PRESS-BLOCK\",\"blocks\":null,\"materials\":null,\"excludeInPaging\":false,\"positionForPaging\":0,\"realtime\":false,\"pid\":\"960\",\"name\":\"대한경제\",\"logoLight\":{\"url\":\"https://s.pstatic.net/static/newsstand/up/2022/1115/nsd153942530.png\"},\"logoDark\":{\"url\":\"https://s.pstatic.net/static/newsstand/up/2022/1115/nsd153934427.png\"},\"showThumbnailView\":true,\"showListView\":true,\"regDate\":\"20240607 16:40:22\",\"_id\":null,\"@type\":\"PC-NEWSSTAND-PRESS-BLOCK\",\"@code\":null,\"@template\":\"NONE\",\"@flowId\":null,\"@flowExecutionId\":null,\"@provider\":null,\"@lastModifiedAt\":null},{\"@type\":\"PC-NEWSSTAND-PRESS-BLOCK\",\"blocks\":null,\"materials\":null,\"excludeInPaging\":false,\"positionForPaging\":0,\"realtime\":false,\"pid\":\"961\",\"name\":\"메트로신문\",\"logoLight\":{\"url\":\"https://s.pstatic.net/static/newsstand/2020/logo/light/0604/961.png\"},\"logoDark\":{\"url\":\"https://s.pstatic.net/static/newsstand/2020/logo/dark/0604/961.png\"},\"showThumbnailView\":true,\"showListView\":true,\"regDate\":\"20240607 15:18:37\",\"_id\":null,\"@type\":\"PC-NEWSSTAND-PRESS-BLOCK\",\"@code\":null,\"@template\":\"NONE\",\"@flowId\":null,\"@flowExecutionId\":null,\"@provider\":null,\"@lastModifiedAt\":null},{\"@type\":\"PC-NEWSSTAND-PRESS-BLOCK\",\"blocks\":null,\"materials\":null,\"excludeInPaging\":false,\"positionForPaging\":0,\"realtime\":false,\"pid\":\"962\",\"name\":\"스포츠한국\",\"logoLight\":{\"url\":\"https://s.pstatic.net/static/newsstand/2020/logo/light/0604/962.png\"},\"logoDark\":{\"url\":\"https://s.pstatic.net/static/newsstand/2020/logo/dark/0604/962.png\"},\"showThumbnailView\":true,\"showListView\":true,\"regDate\":\"20240607 16:40:28\",\"_id\":null,\"@type\":\"PC-NEWSSTAND-PRESS-BLOCK\",\"@code\":null,\"@template\":\"NONE\",\"@flowId\":null,\"@flowExecutionId\":null,\"@provider\":null,\"@lastModifiedAt\":null},{\"@type\":\"PC-NEWSSTAND-PRESS-BLOCK\",\"blocks\":null,\"materials\":null,\"excludeInPaging\":false,\"positionForPaging\":0,\"realtime\":false,\"pid\":\"963\",\"name\":\"에너지경제\",\"logoLight\":{\"url\":\"https://s.pstatic.net/static/newsstand/2020/logo/light/0604/963.png\"},\"logoDark\":{\"url\":\"https://s.pstatic.net/static/newsstand/2020/logo/dark/0604/963.png\"},\"showThumbnailView\":true,\"showListView\":true,\"regDate\":\"20240607 16:40:02\",\"_id\":null,\"@type\":\"PC-NEWSSTAND-PRESS-BLOCK\",\"@code\":null,\"@template\":\"NONE\",\"@flowId\":null,\"@flowExecutionId\":null,\"@provider\":null,\"@lastModifiedAt\":null},{\"@type\":\"PC-NEWSSTAND-PRESS-BLOCK\",\"blocks\":null,\"materials\":null,\"excludeInPaging\":false,\"positionForPaging\":0,\"realtime\":false,\"pid\":\"964\",\"name\":\"이뉴스투데이\",\"logoLight\":{\"url\":\"https://s.pstatic.net/static/newsstand/2020/logo/light/0604/964.png\"},\"logoDark\":{\"url\":\"https://s.pstatic.net/static/newsstand/2020/logo/dark/0604/964.png\"},\"showThumbnailView\":true,\"showListView\":true,\"regDate\":\"20240607 16:44:23\",\"_id\":null,\"@type\":\"PC-NEWSSTAND-PRESS-BLOCK\",\"@code\":null,\"@template\":\"NONE\",\"@flowId\":null,\"@flowExecutionId\":null,\"@provider\":null,\"@lastModifiedAt\":null},{\"@type\":\"PC-NEWSSTAND-PRESS-BLOCK\",\"blocks\":null,\"materials\":null,\"excludeInPaging\":false,\"positionForPaging\":0,\"realtime\":false,\"pid\":\"965\",\"name\":\"전기신문\",\"logoLight\":{\"url\":\"https://s.pstatic.net/static/newsstand/2020/logo/light/0604/965.png\"},\"logoDark\":{\"url\":\"https://s.pstatic.net/static/newsstand/2020/logo/dark/0604/965.png\"},\"showThumbnailView\":true,\"showListView\":true,\"regDate\":\"20240607 16:40:25\",\"_id\":null,\"@type\":\"PC-NEWSSTAND-PRESS-BLOCK\",\"@code\":null,\"@template\":\"NONE\",\"@flowId\":null,\"@flowExecutionId\":null,\"@provider\":null,\"@lastModifiedAt\":null},{\"@type\":\"PC-NEWSSTAND-PRESS-BLOCK\",\"blocks\":null,\"materials\":null,\"excludeInPaging\":false,\"positionForPaging\":0,\"realtime\":false,\"pid\":\"966\",\"name\":\"정신의학신문\",\"logoLight\":{\"url\":\"https://s.pstatic.net/static/newsstand/2020/logo/light/0604/966.png\"},\"logoDark\":{\"url\":\"https://s.pstatic.net/static/newsstand/2020/logo/dark/0604/966.png\"},\"showThumbnailView\":true,\"showListView\":true,\"regDate\":\"20240607 16:40:23\",\"_id\":null,\"@type\":\"PC-NEWSSTAND-PRESS-BLOCK\",\"@code\":null,\"@template\":\"NONE\",\"@flowId\":null,\"@flowExecutionId\":null,\"@provider\":null,\"@lastModifiedAt\":null},{\"@type\":\"PC-NEWSSTAND-PRESS-BLOCK\",\"blocks\":null,\"materials\":null,\"excludeInPaging\":false,\"positionForPaging\":0,\"realtime\":false,\"pid\":\"967\",\"name\":\"코리아쉬핑가제트\",\"logoLight\":{\"url\":\"https://s.pstatic.net/static/newsstand/2020/logo/light/0604/967.png\"},\"logoDark\":{\"url\":\"https://s.pstatic.net/static/newsstand/2020/logo/dark/0604/967.png\"},\"showThumbnailView\":true,\"showListView\":true,\"regDate\":\"20240607 16:40:01\",\"_id\":null,\"@type\":\"PC-NEWSSTAND-PRESS-BLOCK\",\"@code\":null,\"@template\":\"NONE\",\"@flowId\":null,\"@flowExecutionId\":null,\"@provider\":null,\"@lastModifiedAt\":null},{\"@type\":\"PC-NEWSSTAND-PRESS-BLOCK\",\"blocks\":null,\"materials\":null,\"excludeInPaging\":false,\"positionForPaging\":0,\"realtime\":false,\"pid\":\"968\",\"name\":\"한국금융신문\",\"logoLight\":{\"url\":\"https://s.pstatic.net/static/newsstand/2020/logo/light/0604/968.png\"},\"logoDark\":{\"url\":\"https://s.pstatic.net/static/newsstand/2020/logo/dark/0604/968.png\"},\"showThumbnailView\":true,\"showListView\":true,\"regDate\":\"20240607 15:48:53\",\"_id\":null,\"@type\":\"PC-NEWSSTAND-PRESS-BLOCK\",\"@code\":null,\"@template\":\"NONE\",\"@flowId\":null,\"@flowExecutionId\":null,\"@provider\":null,\"@lastModifiedAt\":null},{\"@type\":\"PC-NEWSSTAND-PRESS-BLOCK\",\"blocks\":null,\"materials\":null,\"excludeInPaging\":false,\"positionForPaging\":0,\"realtime\":false,\"pid\":\"969\",\"name\":\"매일노동뉴스\",\"logoLight\":{\"url\":\"https://s.pstatic.net/static/newsstand/2020/logo/light/0604/969.png\"},\"logoDark\":{\"url\":\"https://s.pstatic.net/static/newsstand/2020/logo/dark/0604/969.png\"},\"showThumbnailView\":true,\"showListView\":true,\"regDate\":\"20240607 07:40:04\",\"_id\":null,\"@type\":\"PC-NEWSSTAND-PRESS-BLOCK\",\"@code\":null,\"@template\":\"NONE\",\"@flowId\":null,\"@flowExecutionId\":null,\"@provider\":null,\"@lastModifiedAt\":null},{\"@type\":\"PC-NEWSSTAND-PRESS-BLOCK\",\"blocks\":null,\"materials\":null,\"excludeInPaging\":false,\"positionForPaging\":0,\"realtime\":false,\"pid\":\"050\",\"name\":\"한경비즈니스\",\"logoLight\":{\"url\":\"https://s.pstatic.net/static/newsstand/up/2020/0928/nsd125033437.png\"},\"logoDark\":{\"url\":\"https://s.pstatic.net/static/newsstand/up/2020/0928/nsd125026855.png\"},\"showThumbnailView\":true,\"showListView\":true,\"regDate\":\"20240607 15:51:09\",\"_id\":null,\"@type\":\"PC-NEWSSTAND-PRESS-BLOCK\",\"@code\":null,\"@template\":\"NONE\",\"@flowId\":null,\"@flowExecutionId\":null,\"@provider\":null,\"@lastModifiedAt\":null},{\"@type\":\"PC-NEWSSTAND-PRESS-BLOCK\",\"blocks\":null,\"materials\":null,\"excludeInPaging\":false,\"positionForPaging\":0,\"realtime\":false,\"pid\":\"293\",\"name\":\"블로터\",\"logoLight\":{\"url\":\"https://s.pstatic.net/static/newsstand/2020/logo/light/0604/293.png\"},\"logoDark\":{\"url\":\"https://s.pstatic.net/static/newsstand/2020/logo/dark/0604/293.png\"},\"showThumbnailView\":true,\"showListView\":true,\"regDate\":\"20240607 16:40:34\",\"_id\":null,\"@type\":\"PC-NEWSSTAND-PRESS-BLOCK\",\"@code\":null,\"@template\":\"NONE\",\"@flowId\":null,\"@flowExecutionId\":null,\"@provider\":null,\"@lastModifiedAt\":null},{\"@type\":\"PC-NEWSSTAND-PRESS-BLOCK\",\"blocks\":null,\"materials\":null,\"excludeInPaging\":false,\"positionForPaging\":0,\"realtime\":false,\"pid\":\"052\",\"name\":\"YTN\",\"logoLight\":{\"url\":\"https://s.pstatic.net/static/newsstand/2020/logo/light/0604/052.png\"},\"logoDark\":{\"url\":\"https://s.pstatic.net/static/newsstand/2020/logo/dark/0604/052.png\"},\"showThumbnailView\":true,\"showListView\":true,\"regDate\":\"20240607 16:16:54\",\"_id\":null,\"@type\":\"PC-NEWSSTAND-PRESS-BLOCK\",\"@code\":null,\"@template\":\"NONE\",\"@flowId\":null,\"@flowExecutionId\":null,\"@provider\":null,\"@lastModifiedAt\":null},{\"@type\":\"PC-NEWSSTAND-PRESS-BLOCK\",\"blocks\":null,\"materials\":null,\"excludeInPaging\":false,\"positionForPaging\":0,\"realtime\":false,\"pid\":\"296\",\"name\":\"코메디닷컴\",\"logoLight\":{\"url\":\"https://s.pstatic.net/static/newsstand/2020/logo/light/0604/296.png\"},\"logoDark\":{\"url\":\"https://s.pstatic.net/static/newsstand/2020/logo/dark/0604/296.png\"},\"showThumbnailView\":true,\"showListView\":true,\"regDate\":\"20240607 14:41:53\",\"_id\":null,\"@type\":\"PC-NEWSSTAND-PRESS-BLOCK\",\"@code\":null,\"@template\":\"NONE\",\"@flowId\":null,\"@flowExecutionId\":null,\"@provider\":null,\"@lastModifiedAt\":null},{\"@type\":\"PC-NEWSSTAND-PRESS-BLOCK\",\"blocks\":null,\"materials\":null,\"excludeInPaging\":false,\"positionForPaging\":0,\"realtime\":false,\"pid\":\"055\",\"name\":\"SBS\",\"logoLight\":{\"url\":\"https://s.pstatic.net/static/newsstand/2020/logo/light/0604/055.png\"},\"logoDark\":{\"url\":\"https://s.pstatic.net/static/newsstand/2020/logo/dark/0604/055.png\"},\"showThumbnailView\":true,\"showListView\":true,\"regDate\":\"20240607 16:51:17\",\"_id\":null,\"@type\":\"PC-NEWSSTAND-PRESS-BLOCK\",\"@code\":null,\"@template\":\"NONE\",\"@flowId\":null,\"@flowExecutionId\":null,\"@provider\":null,\"@lastModifiedAt\":null},{\"@type\":\"PC-NEWSSTAND-PRESS-BLOCK\",\"blocks\":null,\"materials\":null,\"excludeInPaging\":false,\"positionForPaging\":0,\"realtime\":false,\"pid\":\"056\",\"name\":\"KBS\",\"logoLight\":{\"url\":\"https://s.pstatic.net/static/newsstand/2020/logo/light/0604/056.png\"},\"logoDark\":{\"url\":\"https://s.pstatic.net/static/newsstand/2020/logo/dark/0604/056.png\"},\"showThumbnailView\":true,\"showListView\":true,\"regDate\":\"20240607 16:50:49\",\"_id\":null,\"@type\":\"PC-NEWSSTAND-PRESS-BLOCK\",\"@code\":null,\"@template\":\"NONE\",\"@flowId\":null,\"@flowExecutionId\":null,\"@provider\":null,\"@lastModifiedAt\":null},{\"@type\":\"PC-NEWSSTAND-PRESS-BLOCK\",\"blocks\":null,\"materials\":null,\"excludeInPaging\":false,\"positionForPaging\":0,\"realtime\":false,\"pid\":\"057\",\"name\":\"MBN\",\"logoLight\":{\"url\":\"https://s.pstatic.net/static/newsstand/2020/logo/light/0604/057.png\"},\"logoDark\":{\"url\":\"https://s.pstatic.net/static/newsstand/2020/logo/dark/0604/057.png\"},\"showThumbnailView\":true,\"showListView\":true,\"regDate\":\"20240607 16:45:01\",\"_id\":null,\"@type\":\"PC-NEWSSTAND-PRESS-BLOCK\",\"@code\":null,\"@template\":\"NONE\",\"@flowId\":null,\"@flowExecutionId\":null,\"@provider\":null,\"@lastModifiedAt\":null},{\"@type\":\"PC-NEWSSTAND-PRESS-BLOCK\",\"blocks\":null,\"materials\":null,\"excludeInPaging\":false,\"positionForPaging\":0,\"realtime\":false,\"pid\":\"970\",\"name\":\"소비자가만드는신문\",\"logoLight\":{\"url\":\"https://s.pstatic.net/static/newsstand/2020/logo/light/0604/970.png\"},\"logoDark\":{\"url\":\"https://s.pstatic.net/static/newsstand/2020/logo/dark/0604/970.png\"},\"showThumbnailView\":true,\"showListView\":true,\"regDate\":\"20240607 09:26:49\",\"_id\":null,\"@type\":\"PC-NEWSSTAND-PRESS-BLOCK\",\"@code\":null,\"@template\":\"NONE\",\"@flowId\":null,\"@flowExecutionId\":null,\"@provider\":null,\"@lastModifiedAt\":null},{\"@type\":\"PC-NEWSSTAND-PRESS-BLOCK\",\"blocks\":null,\"materials\":null,\"excludeInPaging\":false,\"positionForPaging\":0,\"realtime\":false,\"pid\":\"971\",\"name\":\"일요시사\",\"logoLight\":{\"url\":\"https://s.pstatic.net/static/newsstand/2020/logo/light/0604/971.png\"},\"logoDark\":{\"url\":\"https://s.pstatic.net/static/newsstand/2020/logo/dark/0604/971.png\"},\"showThumbnailView\":true,\"showListView\":true,\"regDate\":\"20240607 16:40:03\",\"_id\":null,\"@type\":\"PC-NEWSSTAND-PRESS-BLOCK\",\"@code\":null,\"@template\":\"NONE\",\"@flowId\":null,\"@flowExecutionId\":null,\"@provider\":null,\"@lastModifiedAt\":null},{\"@type\":\"PC-NEWSSTAND-PRESS-BLOCK\",\"blocks\":null,\"materials\":null,\"excludeInPaging\":false,\"positionForPaging\":0,\"realtime\":false,\"pid\":\"972\",\"name\":\"PD저널\",\"logoLight\":{\"url\":\"https://s.pstatic.net/static/newsstand/2020/logo/light/0604/972.png\"},\"logoDark\":{\"url\":\"https://s.pstatic.net/static/newsstand/2020/logo/dark/0604/972.png\"},\"showThumbnailView\":true,\"showListView\":true,\"regDate\":\"20240604 19:47:29\",\"_id\":null,\"@type\":\"PC-NEWSSTAND-PRESS-BLOCK\",\"@code\":null,\"@template\":\"NONE\",\"@flowId\":null,\"@flowExecutionId\":null,\"@provider\":null,\"@lastModifiedAt\":null},{\"@type\":\"PC-NEWSSTAND-PRESS-BLOCK\",\"blocks\":null,\"materials\":null,\"excludeInPaging\":false,\"positionForPaging\":0,\"realtime\":false,\"pid\":\"973\",\"name\":\"비즈한국\",\"logoLight\":{\"url\":\"https://s.pstatic.net/static/newsstand/2020/logo/light/0604/973.png\"},\"logoDark\":{\"url\":\"https://s.pstatic.net/static/newsstand/2020/logo/dark/0604/973.png\"},\"showThumbnailView\":true,\"showListView\":true,\"regDate\":\"20240607 16:51:50\",\"_id\":null,\"@type\":\"PC-NEWSSTAND-PRESS-BLOCK\",\"@code\":null,\"@template\":\"NONE\",\"@flowId\":null,\"@flowExecutionId\":null,\"@provider\":null,\"@lastModifiedAt\":null},{\"@type\":\"PC-NEWSSTAND-PRESS-BLOCK\",\"blocks\":null,\"materials\":null,\"excludeInPaging\":false,\"positionForPaging\":0,\"realtime\":false,\"pid\":\"974\",\"name\":\"BBS NEWS\",\"logoLight\":{\"url\":\"https://s.pstatic.net/static/newsstand/2020/logo/light/0604/974.png\"},\"logoDark\":{\"url\":\"https://s.pstatic.net/static/newsstand/2020/logo/dark/0604/974.png\"},\"showThumbnailView\":true,\"showListView\":true,\"regDate\":\"20240607 15:57:28\",\"_id\":null,\"@type\":\"PC-NEWSSTAND-PRESS-BLOCK\",\"@code\":null,\"@template\":\"NONE\",\"@flowId\":null,\"@flowExecutionId\":null,\"@provider\":null,\"@lastModifiedAt\":null},{\"@type\":\"PC-NEWSSTAND-PRESS-BLOCK\",\"blocks\":null,\"materials\":null,\"excludeInPaging\":false,\"positionForPaging\":0,\"realtime\":false,\"pid\":\"975\",\"name\":\"시사저널이코노미\",\"logoLight\":{\"url\":\"https://s.pstatic.net/static/newsstand/2020/logo/light/0604/975.png\"},\"logoDark\":{\"url\":\"https://s.pstatic.net/static/newsstand/2020/logo/dark/0604/975.png\"},\"showThumbnailView\":true,\"showListView\":true,\"regDate\":\"20240607 16:40:08\",\"_id\":null,\"@type\":\"PC-NEWSSTAND-PRESS-BLOCK\",\"@code\":null,\"@template\":\"NONE\",\"@flowId\":null,\"@flowExecutionId\":null,\"@provider\":null,\"@lastModifiedAt\":null},{\"@type\":\"PC-NEWSSTAND-PRESS-BLOCK\",\"blocks\":null,\"materials\":null,\"excludeInPaging\":false,\"positionForPaging\":0,\"realtime\":false,\"pid\":\"976\",\"name\":\"무등일보\",\"logoLight\":{\"url\":\"https://s.pstatic.net/static/newsstand/2020/logo/light/0604/976.png\"},\"logoDark\":{\"url\":\"https://s.pstatic.net/static/newsstand/2020/logo/dark/0604/976.png\"},\"showThumbnailView\":true,\"showListView\":true,\"regDate\":\"20240607 16:40:09\",\"_id\":null,\"@type\":\"PC-NEWSSTAND-PRESS-BLOCK\",\"@code\":null,\"@template\":\"NONE\",\"@flowId\":null,\"@flowExecutionId\":null,\"@provider\":null,\"@lastModifiedAt\":null},{\"@type\":\"PC-NEWSSTAND-PRESS-BLOCK\",\"blocks\":null,\"materials\":null,\"excludeInPaging\":false,\"positionForPaging\":0,\"realtime\":false,\"pid\":\"977\",\"name\":\"헬로디디\",\"logoLight\":{\"url\":\"https://s.pstatic.net/static/newsstand/2020/logo/light/0604/977.png\"},\"logoDark\":{\"url\":\"https://s.pstatic.net/static/newsstand/2020/logo/dark/0604/977.png\"},\"showThumbnailView\":true,\"showListView\":true,\"regDate\":\"20240607 16:40:20\",\"_id\":null,\"@type\":\"PC-NEWSSTAND-PRESS-BLOCK\",\"@code\":null,\"@template\":\"NONE\",\"@flowId\":null,\"@flowExecutionId\":null,\"@provider\":null,\"@lastModifiedAt\":null},{\"@type\":\"PC-NEWSSTAND-PRESS-BLOCK\",\"blocks\":null,\"materials\":null,\"excludeInPaging\":false,\"positionForPaging\":0,\"realtime\":false,\"pid\":\"978\",\"name\":\"경북도민일보\",\"logoLight\":{\"url\":\"https://s.pstatic.net/static/newsstand/2020/logo/light/0604/978.png\"},\"logoDark\":{\"url\":\"https://s.pstatic.net/static/newsstand/2020/logo/dark/0604/978.png\"},\"showThumbnailView\":true,\"showListView\":true,\"regDate\":\"20240606 18:43:39\",\"_id\":null,\"@type\":\"PC-NEWSSTAND-PRESS-BLOCK\",\"@code\":null,\"@template\":\"NONE\",\"@flowId\":null,\"@flowExecutionId\":null,\"@provider\":null,\"@lastModifiedAt\":null},{\"@type\":\"PC-NEWSSTAND-PRESS-BLOCK\",\"blocks\":null,\"materials\":null,\"excludeInPaging\":false,\"positionForPaging\":0,\"realtime\":false,\"pid\":\"979\",\"name\":\"약사공론\",\"logoLight\":{\"url\":\"https://s.pstatic.net/static/newsstand/2020/logo/light/0604/979.png\"},\"logoDark\":{\"url\":\"https://s.pstatic.net/static/newsstand/2020/logo/dark/0604/979.png\"},\"showThumbnailView\":true,\"showListView\":true,\"regDate\":\"20240607 12:00:55\",\"_id\":null,\"@type\":\"PC-NEWSSTAND-PRESS-BLOCK\",\"@code\":null,\"@template\":\"NONE\",\"@flowId\":null,\"@flowExecutionId\":null,\"@provider\":null,\"@lastModifiedAt\":null},{\"@type\":\"PC-NEWSSTAND-PRESS-BLOCK\",\"blocks\":null,\"materials\":null,\"excludeInPaging\":false,\"positionForPaging\":0,\"realtime\":false,\"pid\":\"980\",\"name\":\"KBC광주방송\",\"logoLight\":{\"url\":\"https://s.pstatic.net/static/newsstand/2020/logo/light/0604/980.png\"},\"logoDark\":{\"url\":\"https://s.pstatic.net/static/newsstand/2020/logo/dark/0604/980.png\"},\"showThumbnailView\":true,\"showListView\":true,\"regDate\":\"20240607 15:58:26\",\"_id\":null,\"@type\":\"PC-NEWSSTAND-PRESS-BLOCK\",\"@code\":null,\"@template\":\"NONE\",\"@flowId\":null,\"@flowExecutionId\":null,\"@provider\":null,\"@lastModifiedAt\":null},{\"@type\":\"PC-NEWSSTAND-PRESS-BLOCK\",\"blocks\":null,\"materials\":null,\"excludeInPaging\":false,\"positionForPaging\":0,\"realtime\":false,\"pid\":\"981\",\"name\":\"TBS\",\"logoLight\":{\"url\":\"https://s.pstatic.net/static/newsstand/2020/logo/light/0604/981.png\"},\"logoDark\":{\"url\":\"https://s.pstatic.net/static/newsstand/2020/logo/dark/0604/981.png\"},\"showThumbnailView\":true,\"showListView\":true,\"regDate\":\"20240607 16:45:46\",\"_id\":null,\"@type\":\"PC-NEWSSTAND-PRESS-BLOCK\",\"@code\":null,\"@template\":\"NONE\",\"@flowId\":null,\"@flowExecutionId\":null,\"@provider\":null,\"@lastModifiedAt\":null},{\"@type\":\"PC-NEWSSTAND-PRESS-BLOCK\",\"blocks\":null,\"materials\":null,\"excludeInPaging\":false,\"positionForPaging\":0,\"realtime\":false,\"pid\":\"982\",\"name\":\"이코노미조선\",\"logoLight\":{\"url\":\"https://s.pstatic.net/static/newsstand/2020/logo/light/0604/982.png\"},\"logoDark\":{\"url\":\"https://s.pstatic.net/static/newsstand/2020/logo/dark/0604/982.png\"},\"showThumbnailView\":true,\"showListView\":true,\"regDate\":\"20240603 11:38:51\",\"_id\":null,\"@type\":\"PC-NEWSSTAND-PRESS-BLOCK\",\"@code\":null,\"@template\":\"NONE\",\"@flowId\":null,\"@flowExecutionId\":null,\"@provider\":null,\"@lastModifiedAt\":null},{\"@type\":\"PC-NEWSSTAND-PRESS-BLOCK\",\"blocks\":null,\"materials\":null,\"excludeInPaging\":false,\"positionForPaging\":0,\"realtime\":false,\"pid\":\"983\",\"name\":\"중부매일\",\"logoLight\":{\"url\":\"https://s.pstatic.net/static/newsstand/2020/logo/light/0604/983.png\"},\"logoDark\":{\"url\":\"https://s.pstatic.net/static/newsstand/2020/logo/dark/0604/983.png\"},\"showThumbnailView\":true,\"showListView\":true,\"regDate\":\"20240606 19:41:49\",\"_id\":null,\"@type\":\"PC-NEWSSTAND-PRESS-BLOCK\",\"@code\":null,\"@template\":\"NONE\",\"@flowId\":null,\"@flowExecutionId\":null,\"@provider\":null,\"@lastModifiedAt\":null},{\"@type\":\"PC-NEWSSTAND-PRESS-BLOCK\",\"blocks\":null,\"materials\":null,\"excludeInPaging\":false,\"positionForPaging\":0,\"realtime\":false,\"pid\":\"984\",\"name\":\"낚시춘추\",\"logoLight\":{\"url\":\"https://s.pstatic.net/static/newsstand/2020/logo/light/0604/984.png\"},\"logoDark\":{\"url\":\"https://s.pstatic.net/static/newsstand/2020/logo/dark/0604/984.png\"},\"showThumbnailView\":true,\"showListView\":true,\"regDate\":\"20240522 11:00:00\",\"_id\":null,\"@type\":\"PC-NEWSSTAND-PRESS-BLOCK\",\"@code\":null,\"@template\":\"NONE\",\"@flowId\":null,\"@flowExecutionId\":null,\"@provider\":null,\"@lastModifiedAt\":null},{\"@type\":\"PC-NEWSSTAND-PRESS-BLOCK\",\"blocks\":null,\"materials\":null,\"excludeInPaging\":false,\"positionForPaging\":0,\"realtime\":false,\"pid\":\"986\",\"name\":\"투데이신문\",\"logoLight\":{\"url\":\"https://s.pstatic.net/static/newsstand/up/2020/1019/nsd144531857.png\"},\"logoDark\":{\"url\":\"https://s.pstatic.net/static/newsstand/up/2020/1019/nsd144525568.png\"},\"showThumbnailView\":true,\"showListView\":true,\"regDate\":\"20240607 16:40:04\",\"_id\":null,\"@type\":\"PC-NEWSSTAND-PRESS-BLOCK\",\"@code\":null,\"@template\":\"NONE\",\"@flowId\":null,\"@flowExecutionId\":null,\"@provider\":null,\"@lastModifiedAt\":null},{\"@type\":\"PC-NEWSSTAND-PRESS-BLOCK\",\"blocks\":null,\"materials\":null,\"excludeInPaging\":false,\"positionForPaging\":0,\"realtime\":false,\"pid\":\"988\",\"name\":\"이웃집과학자\",\"logoLight\":{\"url\":\"https://s.pstatic.net/static/newsstand/2020/logo/light/0604/988.png\"},\"logoDark\":{\"url\":\"https://s.pstatic.net/static/newsstand/2020/logo/dark/0604/988.png\"},\"showThumbnailView\":true,\"showListView\":true,\"regDate\":\"20240525 01:17:01\",\"_id\":null,\"@type\":\"PC-NEWSSTAND-PRESS-BLOCK\",\"@code\":null,\"@template\":\"NONE\",\"@flowId\":null,\"@flowExecutionId\":null,\"@provider\":null,\"@lastModifiedAt\":null},{\"@type\":\"PC-NEWSSTAND-PRESS-BLOCK\",\"blocks\":null,\"materials\":null,\"excludeInPaging\":false,\"positionForPaging\":0,\"realtime\":false,\"pid\":\"989\",\"name\":\"TBC\",\"logoLight\":{\"url\":\"https://s.pstatic.net/static/newsstand/2020/logo/light/0604/989.png\"},\"logoDark\":{\"url\":\"https://s.pstatic.net/static/newsstand/2020/logo/dark/0604/989.png\"},\"showThumbnailView\":true,\"showListView\":true,\"regDate\":\"20240607 10:21:00\",\"_id\":null,\"@type\":\"PC-NEWSSTAND-PRESS-BLOCK\",\"@code\":null,\"@template\":\"NONE\",\"@flowId\":null,\"@flowExecutionId\":null,\"@provider\":null,\"@lastModifiedAt\":null},{\"@type\":\"PC-NEWSSTAND-PRESS-BLOCK\",\"blocks\":null,\"materials\":null,\"excludeInPaging\":false,\"positionForPaging\":0,\"realtime\":false,\"pid\":\"073\",\"name\":\"스포츠서울\",\"logoLight\":{\"url\":\"https://s.pstatic.net/static/newsstand/up/2020/0708/nsd94830278.png\"},\"logoDark\":{\"url\":\"https://s.pstatic.net/static/newsstand/up/2020/0708/nsd94820151.png\"},\"showThumbnailView\":true,\"showListView\":true,\"regDate\":\"20240607 16:45:11\",\"_id\":null,\"@type\":\"PC-NEWSSTAND-PRESS-BLOCK\",\"@code\":null,\"@template\":\"NONE\",\"@flowId\":null,\"@flowExecutionId\":null,\"@provider\":null,\"@lastModifiedAt\":null},{\"@type\":\"PC-NEWSSTAND-PRESS-BLOCK\",\"blocks\":null,\"materials\":null,\"excludeInPaging\":false,\"positionForPaging\":0,\"realtime\":false,\"pid\":\"075\",\"name\":\"맥스무비\",\"logoLight\":{\"url\":\"https://s.pstatic.net/static/newsstand/2020/logo/light/0604/075.png\"},\"logoDark\":{\"url\":\"https://s.pstatic.net/static/newsstand/2020/logo/dark/0604/075.png\"},\"showThumbnailView\":true,\"showListView\":true,\"regDate\":\"20240607 15:54:06\",\"_id\":null,\"@type\":\"PC-NEWSSTAND-PRESS-BLOCK\",\"@code\":null,\"@template\":\"NONE\",\"@flowId\":null,\"@flowExecutionId\":null,\"@provider\":null,\"@lastModifiedAt\":null},{\"@type\":\"PC-NEWSSTAND-PRESS-BLOCK\",\"blocks\":null,\"materials\":null,\"excludeInPaging\":false,\"positionForPaging\":0,\"realtime\":false,\"pid\":\"076\",\"name\":\"스포츠조선\",\"logoLight\":{\"url\":\"https://s.pstatic.net/static/newsstand/2020/logo/light/0604/076.png\"},\"logoDark\":{\"url\":\"https://s.pstatic.net/static/newsstand/2020/logo/dark/0604/076.png\"},\"showThumbnailView\":true,\"showListView\":true,\"regDate\":\"20240607 15:54:43\",\"_id\":null,\"@type\":\"PC-NEWSSTAND-PRESS-BLOCK\",\"@code\":null,\"@template\":\"NONE\",\"@flowId\":null,\"@flowExecutionId\":null,\"@provider\":null,\"@lastModifiedAt\":null},{\"@type\":\"PC-NEWSSTAND-PRESS-BLOCK\",\"blocks\":null,\"materials\":null,\"excludeInPaging\":false,\"positionForPaging\":0,\"realtime\":false,\"pid\":\"990\",\"name\":\"주간조선\",\"logoLight\":{\"url\":\"https://s.pstatic.net/static/newsstand/2020/logo/light/0604/990.png\"},\"logoDark\":{\"url\":\"https://s.pstatic.net/static/newsstand/2020/logo/dark/0604/990.png\"},\"showThumbnailView\":true,\"showListView\":true,\"regDate\":\"20240607 16:40:29\",\"_id\":null,\"@type\":\"PC-NEWSSTAND-PRESS-BLOCK\",\"@code\":null,\"@template\":\"NONE\",\"@flowId\":null,\"@flowExecutionId\":null,\"@provider\":null,\"@lastModifiedAt\":null},{\"@type\":\"PC-NEWSSTAND-PRESS-BLOCK\",\"blocks\":null,\"materials\":null,\"excludeInPaging\":false,\"positionForPaging\":0,\"realtime\":false,\"pid\":\"991\",\"name\":\"데일리NK\",\"logoLight\":{\"url\":\"https://s.pstatic.net/static/newsstand/2020/logo/light/0604/991.png\"},\"logoDark\":{\"url\":\"https://s.pstatic.net/static/newsstand/2020/logo/dark/0604/991.png\"},\"showThumbnailView\":true,\"showListView\":true,\"regDate\":\"20240607 02:02:07\",\"_id\":null,\"@type\":\"PC-NEWSSTAND-PRESS-BLOCK\",\"@code\":null,\"@template\":\"NONE\",\"@flowId\":null,\"@flowExecutionId\":null,\"@provider\":null,\"@lastModifiedAt\":null},{\"@type\":\"PC-NEWSSTAND-PRESS-BLOCK\",\"blocks\":null,\"materials\":null,\"excludeInPaging\":false,\"positionForPaging\":0,\"realtime\":false,\"pid\":\"079\",\"name\":\"노컷뉴스\",\"logoLight\":{\"url\":\"https://s.pstatic.net/static/newsstand/2020/logo/light/0604/079.png\"},\"logoDark\":{\"url\":\"https://s.pstatic.net/static/newsstand/2020/logo/dark/0604/079.png\"},\"showThumbnailView\":true,\"showListView\":true,\"regDate\":\"20240607 16:43:20\",\"_id\":null,\"@type\":\"PC-NEWSSTAND-PRESS-BLOCK\",\"@code\":null,\"@template\":\"NONE\",\"@flowId\":null,\"@flowExecutionId\":null,\"@provider\":null,\"@lastModifiedAt\":null},{\"@type\":\"PC-NEWSSTAND-PRESS-BLOCK\",\"blocks\":null,\"materials\":null,\"excludeInPaging\":false,\"positionForPaging\":0,\"realtime\":false,\"pid\":\"993\",\"name\":\"허프포스트코리아\",\"logoLight\":{\"url\":\"https://s.pstatic.net/static/newsstand/2020/logo/light/0604/993.png\"},\"logoDark\":{\"url\":\"https://s.pstatic.net/static/newsstand/2020/logo/dark/0604/993.png\"},\"showThumbnailView\":true,\"showListView\":true,\"regDate\":\"20240607 16:40:31\",\"_id\":null,\"@type\":\"PC-NEWSSTAND-PRESS-BLOCK\",\"@code\":null,\"@template\":\"NONE\",\"@flowId\":null,\"@flowExecutionId\":null,\"@provider\":null,\"@lastModifiedAt\":null},{\"@type\":\"PC-NEWSSTAND-PRESS-BLOCK\",\"blocks\":null,\"materials\":null,\"excludeInPaging\":false,\"positionForPaging\":0,\"realtime\":false,\"pid\":\"994\",\"name\":\"AI타임스\",\"logoLight\":{\"url\":\"https://s.pstatic.net/static/newsstand/up/2021/1112/nsd102040597.png\"},\"logoDark\":{\"url\":\"https://s.pstatic.net/static/newsstand/up/2021/1112/nsd102110770.png\"},\"showThumbnailView\":true,\"showListView\":true,\"regDate\":\"20240607 16:40:24\",\"_id\":null,\"@type\":\"PC-NEWSSTAND-PRESS-BLOCK\",\"@code\":null,\"@template\":\"NONE\",\"@flowId\":null,\"@flowExecutionId\":null,\"@provider\":null,\"@lastModifiedAt\":null},{\"@type\":\"PC-NEWSSTAND-PRESS-BLOCK\",\"blocks\":null,\"materials\":null,\"excludeInPaging\":false,\"positionForPaging\":0,\"realtime\":false,\"pid\":\"995\",\"name\":\"뉴스포스트\",\"logoLight\":{\"url\":\"https://s.pstatic.net/static/newsstand/up/2021/1112/nsd10248812.png\"},\"logoDark\":{\"url\":\"https://s.pstatic.net/static/newsstand/up/2021/1112/nsd102419893.png\"},\"showThumbnailView\":true,\"showListView\":true,\"regDate\":\"20240607 16:40:24\",\"_id\":null,\"@type\":\"PC-NEWSSTAND-PRESS-BLOCK\",\"@code\":null,\"@template\":\"NONE\",\"@flowId\":null,\"@flowExecutionId\":null,\"@provider\":null,\"@lastModifiedAt\":null},{\"@type\":\"PC-NEWSSTAND-PRESS-BLOCK\",\"blocks\":null,\"materials\":null,\"excludeInPaging\":false,\"positionForPaging\":0,\"realtime\":false,\"pid\":\"996\",\"name\":\"매경헬스\",\"logoLight\":{\"url\":\"https://s.pstatic.net/static/newsstand/up/2023/0330/nsd10125746.png\"},\"logoDark\":{\"url\":\"https://s.pstatic.net/static/newsstand/up/2023/0330/nsd10148542.png\"},\"showThumbnailView\":true,\"showListView\":true,\"regDate\":\"20240607 16:40:26\",\"_id\":null,\"@type\":\"PC-NEWSSTAND-PRESS-BLOCK\",\"@code\":null,\"@template\":\"NONE\",\"@flowId\":null,\"@flowExecutionId\":null,\"@provider\":null,\"@lastModifiedAt\":null},{\"@type\":\"PC-NEWSSTAND-PRESS-BLOCK\",\"blocks\":null,\"materials\":null,\"excludeInPaging\":false,\"positionForPaging\":0,\"realtime\":false,\"pid\":\"997\",\"name\":\"뉴스펭귄\",\"logoLight\":{\"url\":\"https://s.pstatic.net/static/newsstand/up/2022/0405/nsd15024245.png\"},\"logoDark\":{\"url\":\"https://s.pstatic.net/static/newsstand/up/2022/0405/nsd15014578.png\"},\"showThumbnailView\":true,\"showListView\":true,\"regDate\":\"20240607 16:50:27\",\"_id\":null,\"@type\":\"PC-NEWSSTAND-PRESS-BLOCK\",\"@code\":null,\"@template\":\"NONE\",\"@flowId\":null,\"@flowExecutionId\":null,\"@provider\":null,\"@lastModifiedAt\":null},{\"@type\":\"PC-NEWSSTAND-PRESS-BLOCK\",\"blocks\":null,\"materials\":null,\"excludeInPaging\":false,\"positionForPaging\":0,\"realtime\":false,\"pid\":\"998\",\"name\":\"뉴스앤조이\",\"logoLight\":{\"url\":\"https://s.pstatic.net/static/newsstand/up/2022/0328/nsd22503109.png\"},\"logoDark\":{\"url\":\"https://s.pstatic.net/static/newsstand/up/2022/0328/nsd22509287.png\"},\"showThumbnailView\":true,\"showListView\":true,\"regDate\":\"20240607 16:40:26\",\"_id\":null,\"@type\":\"PC-NEWSSTAND-PRESS-BLOCK\",\"@code\":null,\"@template\":\"NONE\",\"@flowId\":null,\"@flowExecutionId\":null,\"@provider\":null,\"@lastModifiedAt\":null},{\"@type\":\"PC-NEWSSTAND-PRESS-BLOCK\",\"blocks\":null,\"materials\":null,\"excludeInPaging\":false,\"positionForPaging\":0,\"realtime\":false,\"pid\":\"081\",\"name\":\"서울신문\",\"logoLight\":{\"url\":\"https://s.pstatic.net/static/newsstand/up/2022/0208/nsd16121208.png\"},\"logoDark\":{\"url\":\"https://s.pstatic.net/static/newsstand/up/2022/0208/nsd161212576.png\"},\"showThumbnailView\":true,\"showListView\":true,\"regDate\":\"20240607 16:14:52\",\"_id\":null,\"@type\":\"PC-NEWSSTAND-PRESS-BLOCK\",\"@code\":null,\"@template\":\"NONE\",\"@flowId\":null,\"@flowExecutionId\":null,\"@provider\":null,\"@lastModifiedAt\":null},{\"@type\":\"PC-NEWSSTAND-PRESS-BLOCK\",\"blocks\":null,\"materials\":null,\"excludeInPaging\":false,\"positionForPaging\":0,\"realtime\":false,\"pid\":\"082\",\"name\":\"부산일보\",\"logoLight\":{\"url\":\"https://s.pstatic.net/static/newsstand/up/2021/0322/nsd21527882.png\"},\"logoDark\":{\"url\":\"https://s.pstatic.net/static/newsstand/up/2021/0322/nsd215225866.png\"},\"showThumbnailView\":true,\"showListView\":true,\"regDate\":\"20240607 14:03:25\",\"_id\":null,\"@type\":\"PC-NEWSSTAND-PRESS-BLOCK\",\"@code\":null,\"@template\":\"NONE\",\"@flowId\":null,\"@flowExecutionId\":null,\"@provider\":null,\"@lastModifiedAt\":null},{\"@type\":\"PC-NEWSSTAND-PRESS-BLOCK\",\"blocks\":null,\"materials\":null,\"excludeInPaging\":false,\"positionForPaging\":0,\"realtime\":false,\"pid\":\"083\",\"name\":\"광주일보\",\"logoLight\":{\"url\":\"https://s.pstatic.net/static/newsstand/up/2023/0309/nsd195548501.png\"},\"logoDark\":{\"url\":\"https://s.pstatic.net/static/newsstand/up/2023/0309/nsd1956932.png\"},\"showThumbnailView\":true,\"showListView\":true,\"regDate\":\"20240607 16:30:01\",\"_id\":null,\"@type\":\"PC-NEWSSTAND-PRESS-BLOCK\",\"@code\":null,\"@template\":\"NONE\",\"@flowId\":null,\"@flowExecutionId\":null,\"@provider\":null,\"@lastModifiedAt\":null},{\"@type\":\"PC-NEWSSTAND-PRESS-BLOCK\",\"blocks\":null,\"materials\":null,\"excludeInPaging\":false,\"positionForPaging\":0,\"realtime\":false,\"pid\":\"087\",\"name\":\"강원일보\",\"logoLight\":{\"url\":\"https://s.pstatic.net/static/newsstand/2020/logo/light/0604/087.png\"},\"logoDark\":{\"url\":\"https://s.pstatic.net/static/newsstand/2020/logo/dark/0604/087.png\"},\"showThumbnailView\":true,\"showListView\":true,\"regDate\":\"20240607 00:02:39\",\"_id\":null,\"@type\":\"PC-NEWSSTAND-PRESS-BLOCK\",\"@code\":null,\"@template\":\"NONE\",\"@flowId\":null,\"@flowExecutionId\":null,\"@provider\":null,\"@lastModifiedAt\":null},{\"@type\":\"PC-NEWSSTAND-PRESS-BLOCK\",\"blocks\":null,\"materials\":null,\"excludeInPaging\":false,\"positionForPaging\":0,\"realtime\":false,\"pid\":\"088\",\"name\":\"매일신문\",\"logoLight\":{\"url\":\"https://s.pstatic.net/static/newsstand/2020/logo/light/0604/088.png\"},\"logoDark\":{\"url\":\"https://s.pstatic.net/static/newsstand/2020/logo/dark/0604/088.png\"},\"showThumbnailView\":true,\"showListView\":true,\"regDate\":\"20240607 16:10:00\",\"_id\":null,\"@type\":\"PC-NEWSSTAND-PRESS-BLOCK\",\"@code\":null,\"@template\":\"NONE\",\"@flowId\":null,\"@flowExecutionId\":null,\"@provider\":null,\"@lastModifiedAt\":null},{\"@type\":\"PC-NEWSSTAND-PRESS-BLOCK\",\"blocks\":null,\"materials\":null,\"excludeInPaging\":false,\"positionForPaging\":0,\"realtime\":false,\"pid\":\"089\",\"name\":\"대전일보\",\"logoLight\":{\"url\":\"https://s.pstatic.net/static/newsstand/2020/logo/light/0604/089.png\"},\"logoDark\":{\"url\":\"https://s.pstatic.net/static/newsstand/2020/logo/dark/0604/089.png\"},\"showThumbnailView\":true,\"showListView\":true,\"regDate\":\"20240607 16:50:02\",\"_id\":null,\"@type\":\"PC-NEWSSTAND-PRESS-BLOCK\",\"@code\":null,\"@template\":\"NONE\",\"@flowId\":null,\"@flowExecutionId\":null,\"@provider\":null,\"@lastModifiedAt\":null},{\"@type\":\"PC-NEWSSTAND-PRESS-BLOCK\",\"blocks\":null,\"materials\":null,\"excludeInPaging\":false,\"positionForPaging\":0,\"realtime\":false,\"pid\":\"529\",\"name\":\"스포츠춘추\",\"logoLight\":{\"url\":\"https://s.pstatic.net/static/newsstand/up/2022/0116/nsd19454239.png\"},\"logoDark\":{\"url\":\"https://s.pstatic.net/static/newsstand/up/2022/0116/nsd194523259.png\"},\"showThumbnailView\":true,\"showListView\":true,\"regDate\":\"20240607 16:40:25\",\"_id\":null,\"@type\":\"PC-NEWSSTAND-PRESS-BLOCK\",\"@code\":null,\"@template\":\"NONE\",\"@flowId\":null,\"@flowExecutionId\":null,\"@provider\":null,\"@lastModifiedAt\":null},{\"@type\":\"PC-NEWSSTAND-PRESS-BLOCK\",\"blocks\":null,\"materials\":null,\"excludeInPaging\":false,\"positionForPaging\":0,\"realtime\":false,\"pid\":\"092\",\"name\":\"지디넷코리아\",\"logoLight\":{\"url\":\"https://s.pstatic.net/static/newsstand/up/2022/0905/nsd131925414.png\"},\"logoDark\":{\"url\":\"https://s.pstatic.net/static/newsstand/up/2022/0905/nsd91639628.png\"},\"showThumbnailView\":true,\"showListView\":true,\"regDate\":\"20240607 16:43:22\",\"_id\":null,\"@type\":\"PC-NEWSSTAND-PRESS-BLOCK\",\"@code\":null,\"@template\":\"NONE\",\"@flowId\":null,\"@flowExecutionId\":null,\"@provider\":null,\"@lastModifiedAt\":null},{\"@type\":\"PC-NEWSSTAND-PRESS-BLOCK\",\"blocks\":null,\"materials\":null,\"excludeInPaging\":false,\"positionForPaging\":0,\"realtime\":false,\"pid\":\"094\",\"name\":\"월간 산\",\"logoLight\":{\"url\":\"https://s.pstatic.net/static/newsstand/2020/logo/light/0604/094.png\"},\"logoDark\":{\"url\":\"https://s.pstatic.net/static/newsstand/2020/logo/dark/0604/094.png\"},\"showThumbnailView\":true,\"showListView\":true,\"regDate\":\"20240607 16:40:30\",\"_id\":null,\"@type\":\"PC-NEWSSTAND-PRESS-BLOCK\",\"@code\":null,\"@template\":\"NONE\",\"@flowId\":null,\"@flowExecutionId\":null,\"@provider\":null,\"@lastModifiedAt\":null},{\"@type\":\"PC-NEWSSTAND-PRESS-BLOCK\",\"blocks\":null,\"materials\":null,\"excludeInPaging\":false,\"positionForPaging\":0,\"realtime\":false,\"pid\":\"536\",\"name\":\"더팩트\",\"logoLight\":{\"url\":\"https://s.pstatic.net/static/newsstand/2020/logo/light/0604/536.png\"},\"logoDark\":{\"url\":\"https://s.pstatic.net/static/newsstand/2020/logo/dark/0604/536.png\"},\"showThumbnailView\":true,\"showListView\":true,\"regDate\":\"20240607 16:39:11\",\"_id\":null,\"@type\":\"PC-NEWSSTAND-PRESS-BLOCK\",\"@code\":null,\"@template\":\"NONE\",\"@flowId\":null,\"@flowExecutionId\":null,\"@provider\":null,\"@lastModifiedAt\":null},{\"@type\":\"PC-NEWSSTAND-PRESS-BLOCK\",\"blocks\":null,\"materials\":null,\"excludeInPaging\":false,\"positionForPaging\":0,\"realtime\":false,\"pid\":\"416\",\"name\":\"SBS연예뉴스\",\"logoLight\":{\"url\":\"https://s.pstatic.net/static/newsstand/up/2020/1228/nsd1681569.png\"},\"logoDark\":{\"url\":\"https://s.pstatic.net/static/newsstand/up/2020/1228/nsd1688305.png\"},\"showThumbnailView\":true,\"showListView\":true,\"regDate\":\"20240607 16:51:40\",\"_id\":null,\"@type\":\"PC-NEWSSTAND-PRESS-BLOCK\",\"@code\":null,\"@template\":\"NONE\",\"@flowId\":null,\"@flowExecutionId\":null,\"@provider\":null,\"@lastModifiedAt\":null},{\"@type\":\"PC-NEWSSTAND-PRESS-BLOCK\",\"blocks\":null,\"materials\":null,\"excludeInPaging\":false,\"positionForPaging\":0,\"realtime\":false,\"pid\":\"417\",\"name\":\"머니S\",\"logoLight\":{\"url\":\"https://s.pstatic.net/static/newsstand/2020/logo/light/0604/417.png\"},\"logoDark\":{\"url\":\"https://s.pstatic.net/static/newsstand/2020/logo/dark/0604/417.png\"},\"showThumbnailView\":true,\"showListView\":true,\"regDate\":\"20240607 16:51:46\",\"_id\":null,\"@type\":\"PC-NEWSSTAND-PRESS-BLOCK\",\"@code\":null,\"@template\":\"NONE\",\"@flowId\":null,\"@flowExecutionId\":null,\"@provider\":null,\"@lastModifiedAt\":null},{\"@type\":\"PC-NEWSSTAND-PRESS-BLOCK\",\"blocks\":null,\"materials\":null,\"excludeInPaging\":false,\"positionForPaging\":0,\"realtime\":false,\"pid\":\"539\",\"name\":\"위키트리\",\"logoLight\":{\"url\":\"https://s.pstatic.net/static/newsstand/2020/logo/light/0604/539.png\"},\"logoDark\":{\"url\":\"https://s.pstatic.net/static/newsstand/2020/logo/dark/0604/539.png\"},\"showThumbnailView\":true,\"showListView\":true,\"regDate\":\"20240607 16:51:42\",\"_id\":null,\"@type\":\"PC-NEWSSTAND-PRESS-BLOCK\",\"@code\":null,\"@template\":\"NONE\",\"@flowId\":null,\"@flowExecutionId\":null,\"@provider\":null,\"@lastModifiedAt\":null},{\"@type\":\"PC-NEWSSTAND-PRESS-BLOCK\",\"blocks\":null,\"materials\":null,\"excludeInPaging\":false,\"positionForPaging\":0,\"realtime\":false,\"pid\":\"421\",\"name\":\"뉴스1\",\"logoLight\":{\"url\":\"https://s.pstatic.net/static/newsstand/up/2024/0229/nsd103734195.png\"},\"logoDark\":{\"url\":\"https://s.pstatic.net/static/newsstand/up/2024/0229/nsd10375418.png\"},\"showThumbnailView\":true,\"showListView\":true,\"regDate\":\"20240607 16:51:23\",\"_id\":null,\"@type\":\"PC-NEWSSTAND-PRESS-BLOCK\",\"@code\":null,\"@template\":\"NONE\",\"@flowId\":null,\"@flowExecutionId\":null,\"@provider\":null,\"@lastModifiedAt\":null},{\"@type\":\"PC-NEWSSTAND-PRESS-BLOCK\",\"blocks\":null,\"materials\":null,\"excludeInPaging\":false,\"positionForPaging\":0,\"realtime\":false,\"pid\":\"301\",\"name\":\"광주드림\",\"logoLight\":{\"url\":\"https://s.pstatic.net/static/newsstand/2020/logo/light/0604/301.png\"},\"logoDark\":{\"url\":\"https://s.pstatic.net/static/newsstand/2020/logo/dark/0604/301.png\"},\"showThumbnailView\":true,\"showListView\":true,\"regDate\":\"20240607 16:40:20\",\"_id\":null,\"@type\":\"PC-NEWSSTAND-PRESS-BLOCK\",\"@code\":null,\"@template\":\"NONE\",\"@flowId\":null,\"@flowExecutionId\":null,\"@provider\":null,\"@lastModifiedAt\":null},{\"@type\":\"PC-NEWSSTAND-PRESS-BLOCK\",\"blocks\":null,\"materials\":null,\"excludeInPaging\":false,\"positionForPaging\":0,\"realtime\":false,\"pid\":\"422\",\"name\":\"연합뉴스TV\",\"logoLight\":{\"url\":\"https://s.pstatic.net/static/newsstand/2020/logo/light/0604/422.png\"},\"logoDark\":{\"url\":\"https://s.pstatic.net/static/newsstand/2020/logo/dark/0604/422.png\"},\"showThumbnailView\":true,\"showListView\":true,\"regDate\":\"20240607 16:51:31\",\"_id\":null,\"@type\":\"PC-NEWSSTAND-PRESS-BLOCK\",\"@code\":null,\"@template\":\"NONE\",\"@flowId\":null,\"@flowExecutionId\":null,\"@provider\":null,\"@lastModifiedAt\":null},{\"@type\":\"PC-NEWSSTAND-PRESS-BLOCK\",\"blocks\":null,\"materials\":null,\"excludeInPaging\":false,\"positionForPaging\":0,\"realtime\":false,\"pid\":\"308\",\"name\":\"시사IN\",\"logoLight\":{\"url\":\"https://s.pstatic.net/static/newsstand/2020/logo/light/0604/308.png\"},\"logoDark\":{\"url\":\"https://s.pstatic.net/static/newsstand/2020/logo/dark/0604/308.png\"},\"showThumbnailView\":true,\"showListView\":true,\"regDate\":\"20240607 07:03:26\",\"_id\":null,\"@type\":\"PC-NEWSSTAND-PRESS-BLOCK\",\"@code\":null,\"@template\":\"NONE\",\"@flowId\":null,\"@flowExecutionId\":null,\"@provider\":null,\"@lastModifiedAt\":null},{\"@type\":\"PC-NEWSSTAND-PRESS-BLOCK\",\"blocks\":null,\"materials\":null,\"excludeInPaging\":false,\"positionForPaging\":0,\"realtime\":false,\"pid\":\"310\",\"name\":\"여성신문\",\"logoLight\":{\"url\":\"https://s.pstatic.net/static/newsstand/2020/logo/light/0604/310.png\"},\"logoDark\":{\"url\":\"https://s.pstatic.net/static/newsstand/2020/logo/dark/0604/310.png\"},\"showThumbnailView\":true,\"showListView\":true,\"regDate\":\"20240607 16:40:02\",\"_id\":null,\"@type\":\"PC-NEWSSTAND-PRESS-BLOCK\",\"@code\":null,\"@template\":\"NONE\",\"@flowId\":null,\"@flowExecutionId\":null,\"@provider\":null,\"@lastModifiedAt\":null},{\"@type\":\"PC-NEWSSTAND-PRESS-BLOCK\",\"blocks\":null,\"materials\":null,\"excludeInPaging\":false,\"positionForPaging\":0,\"realtime\":false,\"pid\":\"311\",\"name\":\"엑스포츠뉴스\",\"logoLight\":{\"url\":\"https://s.pstatic.net/static/newsstand/2020/logo/light/0604/311.png\"},\"logoDark\":{\"url\":\"https://s.pstatic.net/static/newsstand/2020/logo/dark/0604/311.png\"},\"showThumbnailView\":true,\"showListView\":true,\"regDate\":\"20240607 16:06:16\",\"_id\":null,\"@type\":\"PC-NEWSSTAND-PRESS-BLOCK\",\"@code\":null,\"@template\":\"NONE\",\"@flowId\":null,\"@flowExecutionId\":null,\"@provider\":null,\"@lastModifiedAt\":null},{\"@type\":\"PC-NEWSSTAND-PRESS-BLOCK\",\"blocks\":null,\"materials\":null,\"excludeInPaging\":false,\"positionForPaging\":0,\"realtime\":false,\"pid\":\"312\",\"name\":\"텐아시아\",\"logoLight\":{\"url\":\"https://s.pstatic.net/static/newsstand/2020/logo/light/0604/312.png\"},\"logoDark\":{\"url\":\"https://s.pstatic.net/static/newsstand/2020/logo/dark/0604/312.png\"},\"showThumbnailView\":true,\"showListView\":true,\"regDate\":\"20240607 11:17:46\",\"_id\":null,\"@type\":\"PC-NEWSSTAND-PRESS-BLOCK\",\"@code\":null,\"@template\":\"NONE\",\"@flowId\":null,\"@flowExecutionId\":null,\"@provider\":null,\"@lastModifiedAt\":null},{\"@type\":\"PC-NEWSSTAND-PRESS-BLOCK\",\"blocks\":null,\"materials\":null,\"excludeInPaging\":false,\"positionForPaging\":0,\"realtime\":false,\"pid\":\"314\",\"name\":\"스포츠동아\",\"logoLight\":{\"url\":\"https://s.pstatic.net/static/newsstand/2020/logo/light/0604/314.png\"},\"logoDark\":{\"url\":\"https://s.pstatic.net/static/newsstand/2020/logo/dark/0604/314.png\"},\"showThumbnailView\":true,\"showListView\":true,\"regDate\":\"20240607 16:31:44\",\"_id\":null,\"@type\":\"PC-NEWSSTAND-PRESS-BLOCK\",\"@code\":null,\"@template\":\"NONE\",\"@flowId\":null,\"@flowExecutionId\":null,\"@provider\":null,\"@lastModifiedAt\":null},{\"@type\":\"PC-NEWSSTAND-PRESS-BLOCK\",\"blocks\":null,\"materials\":null,\"excludeInPaging\":false,\"positionForPaging\":0,\"realtime\":false,\"pid\":\"681\",\"name\":\"이코노타임즈\",\"logoLight\":{\"url\":\"https://s.pstatic.net/static/newsstand/up/2022/0615/nsd7251644.png\"},\"logoDark\":{\"url\":\"https://s.pstatic.net/static/newsstand/up/2022/0615/nsd7244919.png\"},\"showThumbnailView\":true,\"showListView\":true,\"regDate\":\"20240606 20:43:52\",\"_id\":null,\"@type\":\"PC-NEWSSTAND-PRESS-BLOCK\",\"@code\":null,\"@template\":\"NONE\",\"@flowId\":null,\"@flowExecutionId\":null,\"@provider\":null,\"@lastModifiedAt\":null},{\"@type\":\"PC-NEWSSTAND-PRESS-BLOCK\",\"blocks\":null,\"materials\":null,\"excludeInPaging\":false,\"positionForPaging\":0,\"realtime\":false,\"pid\":\"440\",\"name\":\"티브이데일리\",\"logoLight\":{\"url\":\"https://s.pstatic.net/static/newsstand/2020/logo/light/0604/440.png\"},\"logoDark\":{\"url\":\"https://s.pstatic.net/static/newsstand/2020/logo/dark/0604/440.png\"},\"showThumbnailView\":true,\"showListView\":true,\"regDate\":\"20240607 16:40:01\",\"_id\":null,\"@type\":\"PC-NEWSSTAND-PRESS-BLOCK\",\"@code\":null,\"@template\":\"NONE\",\"@flowId\":null,\"@flowExecutionId\":null,\"@provider\":null,\"@lastModifiedAt\":null},{\"@type\":\"PC-NEWSSTAND-PRESS-BLOCK\",\"blocks\":null,\"materials\":null,\"excludeInPaging\":false,\"positionForPaging\":0,\"realtime\":false,\"pid\":\"682\",\"name\":\"여성경제신문\",\"logoLight\":{\"url\":\"https://s.pstatic.net/static/newsstand/up/2022/1018/nsd132851977.png\"},\"logoDark\":{\"url\":\"https://s.pstatic.net/static/newsstand/up/2022/1018/nsd132844419.png\"},\"showThumbnailView\":true,\"showListView\":true,\"regDate\":\"20240607 16:40:33\",\"_id\":null,\"@type\":\"PC-NEWSSTAND-PRESS-BLOCK\",\"@code\":null,\"@template\":\"NONE\",\"@flowId\":null,\"@flowExecutionId\":null,\"@provider\":null,\"@lastModifiedAt\":null},{\"@type\":\"PC-NEWSSTAND-PRESS-BLOCK\",\"blocks\":null,\"materials\":null,\"excludeInPaging\":false,\"positionForPaging\":0,\"realtime\":false,\"pid\":\"683\",\"name\":\"MS투데이\",\"logoLight\":{\"url\":\"https://s.pstatic.net/static/newsstand/up/2022/1017/nsd202940832.png\"},\"logoDark\":{\"url\":\"https://s.pstatic.net/static/newsstand/up/2022/1017/nsd202933363.png\"},\"showThumbnailView\":true,\"showListView\":true,\"regDate\":\"20240607 16:40:34\",\"_id\":null,\"@type\":\"PC-NEWSSTAND-PRESS-BLOCK\",\"@code\":null,\"@template\":\"NONE\",\"@flowId\":null,\"@flowExecutionId\":null,\"@provider\":null,\"@lastModifiedAt\":null},{\"@type\":\"PC-NEWSSTAND-PRESS-BLOCK\",\"blocks\":null,\"materials\":null,\"excludeInPaging\":false,\"positionForPaging\":0,\"realtime\":false,\"pid\":\"684\",\"name\":\"TJB대전방송\",\"logoLight\":{\"url\":\"https://s.pstatic.net/static/newsstand/up/2023/0103/nsd95227559.png\"},\"logoDark\":{\"url\":\"https://s.pstatic.net/static/newsstand/up/2023/0103/nsd9522095.png\"},\"showThumbnailView\":true,\"showListView\":true,\"regDate\":\"20240607 08:00:01\",\"_id\":null,\"@type\":\"PC-NEWSSTAND-PRESS-BLOCK\",\"@code\":null,\"@template\":\"NONE\",\"@flowId\":null,\"@flowExecutionId\":null,\"@provider\":null,\"@lastModifiedAt\":null},{\"@type\":\"PC-NEWSSTAND-PRESS-BLOCK\",\"blocks\":null,\"materials\":null,\"excludeInPaging\":false,\"positionForPaging\":0,\"realtime\":false,\"pid\":\"685\",\"name\":\"서울와이어\",\"logoLight\":{\"url\":\"https://s.pstatic.net/static/newsstand/up/2022/1024/nsd174430433.png\"},\"logoDark\":{\"url\":\"https://s.pstatic.net/static/newsstand/up/2022/1024/nsd174424325.png\"},\"showThumbnailView\":true,\"showListView\":true,\"regDate\":\"20240607 16:40:33\",\"_id\":null,\"@type\":\"PC-NEWSSTAND-PRESS-BLOCK\",\"@code\":null,\"@template\":\"NONE\",\"@flowId\":null,\"@flowExecutionId\":null,\"@provider\":null,\"@lastModifiedAt\":null},{\"@type\":\"PC-NEWSSTAND-PRESS-BLOCK\",\"blocks\":null,\"materials\":null,\"excludeInPaging\":false,\"positionForPaging\":0,\"realtime\":false,\"pid\":\"686\",\"name\":\"주간경향\",\"logoLight\":{\"url\":\"https://s.pstatic.net/static/newsstand/up/2022/1007/nsd161849944.png\"},\"logoDark\":{\"url\":\"https://s.pstatic.net/static/newsstand/up/2022/1007/nsd161842489.png\"},\"showThumbnailView\":true,\"showListView\":true,\"regDate\":\"20240607 14:45:20\",\"_id\":null,\"@type\":\"PC-NEWSSTAND-PRESS-BLOCK\",\"@code\":null,\"@template\":\"NONE\",\"@flowId\":null,\"@flowExecutionId\":null,\"@provider\":null,\"@lastModifiedAt\":null},{\"@type\":\"PC-NEWSSTAND-PRESS-BLOCK\",\"blocks\":null,\"materials\":null,\"excludeInPaging\":false,\"positionForPaging\":0,\"realtime\":false,\"pid\":\"687\",\"name\":\"뉴스클레임\",\"logoLight\":{\"url\":\"https://s.pstatic.net/static/newsstand/up/2022/1006/nsd205818702.png\"},\"logoDark\":{\"url\":\"https://s.pstatic.net/static/newsstand/up/2022/1006/nsd205810265.png\"},\"showThumbnailView\":true,\"showListView\":true,\"regDate\":\"20240607 16:40:32\",\"_id\":null,\"@type\":\"PC-NEWSSTAND-PRESS-BLOCK\",\"@code\":null,\"@template\":\"NONE\",\"@flowId\":null,\"@flowExecutionId\":null,\"@provider\":null,\"@lastModifiedAt\":null},{\"@type\":\"PC-NEWSSTAND-PRESS-BLOCK\",\"blocks\":null,\"materials\":null,\"excludeInPaging\":false,\"positionForPaging\":0,\"realtime\":false,\"pid\":\"688\",\"name\":\"경기신문\",\"logoLight\":{\"url\":\"https://s.pstatic.net/static/newsstand/up/2022/1017/nsd202616515.png\"},\"logoDark\":{\"url\":\"https://s.pstatic.net/static/newsstand/up/2022/1017/nsd20268714.png\"},\"showThumbnailView\":true,\"showListView\":true,\"regDate\":\"20240607 16:40:01\",\"_id\":null,\"@type\":\"PC-NEWSSTAND-PRESS-BLOCK\",\"@code\":null,\"@template\":\"NONE\",\"@flowId\":null,\"@flowExecutionId\":null,\"@provider\":null,\"@lastModifiedAt\":null},{\"@type\":\"PC-NEWSSTAND-PRESS-BLOCK\",\"blocks\":null,\"materials\":null,\"excludeInPaging\":false,\"positionForPaging\":0,\"realtime\":false,\"pid\":\"326\",\"name\":\"KBS World\",\"logoLight\":{\"url\":\"https://s.pstatic.net/static/newsstand/2020/logo/light/0604/326.png\"},\"logoDark\":{\"url\":\"https://s.pstatic.net/static/newsstand/2020/logo/dark/0604/326.png\"},\"showThumbnailView\":true,\"showListView\":true,\"regDate\":\"20240607 16:00:48\",\"_id\":null,\"@type\":\"PC-NEWSSTAND-PRESS-BLOCK\",\"@code\":null,\"@template\":\"NONE\",\"@flowId\":null,\"@flowExecutionId\":null,\"@provider\":null,\"@lastModifiedAt\":null},{\"@type\":\"PC-NEWSSTAND-PRESS-BLOCK\",\"blocks\":null,\"materials\":null,\"excludeInPaging\":false,\"positionForPaging\":0,\"realtime\":false,\"pid\":\"447\",\"name\":\"뉴스엔\",\"logoLight\":{\"url\":\"https://s.pstatic.net/static/newsstand/2020/logo/light/0604/447.png\"},\"logoDark\":{\"url\":\"https://s.pstatic.net/static/newsstand/2020/logo/dark/0604/447.png\"},\"showThumbnailView\":true,\"showListView\":true,\"regDate\":\"20240607 15:29:40\",\"_id\":null,\"@type\":\"PC-NEWSSTAND-PRESS-BLOCK\",\"@code\":null,\"@template\":\"NONE\",\"@flowId\":null,\"@flowExecutionId\":null,\"@provider\":null,\"@lastModifiedAt\":null},{\"@type\":\"PC-NEWSSTAND-PRESS-BLOCK\",\"blocks\":null,\"materials\":null,\"excludeInPaging\":false,\"positionForPaging\":0,\"realtime\":false,\"pid\":\"689\",\"name\":\"인천투데이\",\"logoLight\":{\"url\":\"https://s.pstatic.net/static/newsstand/up/2022/1107/nsd1054226.png\"},\"logoDark\":{\"url\":\"https://s.pstatic.net/static/newsstand/up/2022/1107/nsd105354391.png\"},\"showThumbnailView\":true,\"showListView\":true,\"regDate\":\"20240607 16:40:32\",\"_id\":null,\"@type\":\"PC-NEWSSTAND-PRESS-BLOCK\",\"@code\":null,\"@template\":\"NONE\",\"@flowId\":null,\"@flowExecutionId\":null,\"@provider\":null,\"@lastModifiedAt\":null},{\"@type\":\"PC-NEWSSTAND-PRESS-BLOCK\",\"blocks\":null,\"materials\":null,\"excludeInPaging\":false,\"positionForPaging\":0,\"realtime\":false,\"pid\":\"327\",\"name\":\"뉴데일리\",\"logoLight\":{\"url\":\"https://s.pstatic.net/static/newsstand/up/2024/0124/nsd95528325.png\"},\"logoDark\":{\"url\":\"https://s.pstatic.net/static/newsstand/up/2024/0124/nsd95520363.png\"},\"showThumbnailView\":true,\"showListView\":true,\"regDate\":\"20240607 16:40:10\",\"_id\":null,\"@type\":\"PC-NEWSSTAND-PRESS-BLOCK\",\"@code\":null,\"@template\":\"NONE\",\"@flowId\":null,\"@flowExecutionId\":null,\"@provider\":null,\"@lastModifiedAt\":null},{\"@type\":\"PC-NEWSSTAND-PRESS-BLOCK\",\"blocks\":null,\"materials\":null,\"excludeInPaging\":false,\"positionForPaging\":0,\"realtime\":false,\"pid\":\"328\",\"name\":\"에이블뉴스\",\"logoLight\":{\"url\":\"https://s.pstatic.net/static/newsstand/2020/logo/light/0604/328.png\"},\"logoDark\":{\"url\":\"https://s.pstatic.net/static/newsstand/2020/logo/dark/0604/328.png\"},\"showThumbnailView\":true,\"showListView\":true,\"regDate\":\"20240607 16:40:34\",\"_id\":null,\"@type\":\"PC-NEWSSTAND-PRESS-BLOCK\",\"@code\":null,\"@template\":\"NONE\",\"@flowId\":null,\"@flowExecutionId\":null,\"@provider\":null,\"@lastModifiedAt\":null},{\"@type\":\"PC-NEWSSTAND-PRESS-BLOCK\",\"blocks\":null,\"materials\":null,\"excludeInPaging\":false,\"positionForPaging\":0,\"realtime\":false,\"pid\":\"329\",\"name\":\"소년한국일보\",\"logoLight\":{\"url\":\"https://s.pstatic.net/static/newsstand/up/2021/0728/nsd1110888.png\"},\"logoDark\":{\"url\":\"https://s.pstatic.net/static/newsstand/up/2021/0728/nsd111059924.png\"},\"showThumbnailView\":true,\"showListView\":true,\"regDate\":\"20240607 16:40:23\",\"_id\":null,\"@type\":\"PC-NEWSSTAND-PRESS-BLOCK\",\"@code\":null,\"@template\":\"NONE\",\"@flowId\":null,\"@flowExecutionId\":null,\"@provider\":null,\"@lastModifiedAt\":null},{\"@type\":\"PC-NEWSSTAND-PRESS-BLOCK\",\"blocks\":null,\"materials\":null,\"excludeInPaging\":false,\"positionForPaging\":0,\"realtime\":false,\"pid\":\"690\",\"name\":\"정책브리핑\",\"logoLight\":{\"url\":\"https://s.pstatic.net/static/newsstand/up/2022/1116/nsd113848865.png\"},\"logoDark\":{\"url\":\"https://s.pstatic.net/static/newsstand/up/2022/1116/nsd113840778.png\"},\"showThumbnailView\":true,\"showListView\":true,\"regDate\":\"20240607 16:42:00\",\"_id\":null,\"@type\":\"PC-NEWSSTAND-PRESS-BLOCK\",\"@code\":null,\"@template\":\"NONE\",\"@flowId\":null,\"@flowExecutionId\":null,\"@provider\":null,\"@lastModifiedAt\":null},{\"@type\":\"PC-NEWSSTAND-PRESS-BLOCK\",\"blocks\":null,\"materials\":null,\"excludeInPaging\":false,\"positionForPaging\":0,\"realtime\":false,\"pid\":\"691\",\"name\":\"여성동아\",\"logoLight\":{\"url\":\"https://s.pstatic.net/static/newsstand/up/2023/0418/nsd124451202.png\"},\"logoDark\":{\"url\":\"https://s.pstatic.net/static/newsstand/up/2023/0418/nsd124439166.png\"},\"showThumbnailView\":true,\"showListView\":true,\"regDate\":\"20240607 10:00:43\",\"_id\":null,\"@type\":\"PC-NEWSSTAND-PRESS-BLOCK\",\"@code\":null,\"@template\":\"NONE\",\"@flowId\":null,\"@flowExecutionId\":null,\"@provider\":null,\"@lastModifiedAt\":null},{\"@type\":\"PC-NEWSSTAND-PRESS-BLOCK\",\"blocks\":null,\"materials\":null,\"excludeInPaging\":false,\"positionForPaging\":0,\"realtime\":false,\"pid\":\"330\",\"name\":\"중앙데일리\",\"logoLight\":{\"url\":\"https://s.pstatic.net/static/newsstand/2020/logo/light/0604/330.png\"},\"logoDark\":{\"url\":\"https://s.pstatic.net/static/newsstand/2020/logo/dark/0604/330.png\"},\"showThumbnailView\":true,\"showListView\":true,\"regDate\":\"20240607 15:27:28\",\"_id\":null,\"@type\":\"PC-NEWSSTAND-PRESS-BLOCK\",\"@code\":null,\"@template\":\"NONE\",\"@flowId\":null,\"@flowExecutionId\":null,\"@provider\":null,\"@lastModifiedAt\":null},{\"@type\":\"PC-NEWSSTAND-PRESS-BLOCK\",\"blocks\":null,\"materials\":null,\"excludeInPaging\":false,\"positionForPaging\":0,\"realtime\":false,\"pid\":\"331\",\"name\":\"충청투데이\",\"logoLight\":{\"url\":\"https://s.pstatic.net/static/newsstand/2020/logo/light/0604/331.png\"},\"logoDark\":{\"url\":\"https://s.pstatic.net/static/newsstand/2020/logo/dark/0604/331.png\"},\"showThumbnailView\":true,\"showListView\":true,\"regDate\":\"20240606 18:06:23\",\"_id\":null,\"@type\":\"PC-NEWSSTAND-PRESS-BLOCK\",\"@code\":null,\"@template\":\"NONE\",\"@flowId\":null,\"@flowExecutionId\":null,\"@provider\":null,\"@lastModifiedAt\":null},{\"@type\":\"PC-NEWSSTAND-PRESS-BLOCK\",\"blocks\":null,\"materials\":null,\"excludeInPaging\":false,\"positionForPaging\":0,\"realtime\":false,\"pid\":\"332\",\"name\":\"국제신문\",\"logoLight\":{\"url\":\"https://s.pstatic.net/static/newsstand/2020/logo/light/0604/332.png\"},\"logoDark\":{\"url\":\"https://s.pstatic.net/static/newsstand/2020/logo/dark/0604/332.png\"},\"showThumbnailView\":true,\"showListView\":true,\"regDate\":\"20240607 11:09:38\",\"_id\":null,\"@type\":\"PC-NEWSSTAND-PRESS-BLOCK\",\"@code\":null,\"@template\":\"NONE\",\"@flowId\":null,\"@flowExecutionId\":null,\"@provider\":null,\"@lastModifiedAt\":null},{\"@type\":\"PC-NEWSSTAND-PRESS-BLOCK\",\"blocks\":null,\"materials\":null,\"excludeInPaging\":false,\"positionForPaging\":0,\"realtime\":false,\"pid\":\"333\",\"name\":\"경남신문\",\"logoLight\":{\"url\":\"https://s.pstatic.net/static/newsstand/2020/logo/light/0604/333.png\"},\"logoDark\":{\"url\":\"https://s.pstatic.net/static/newsstand/2020/logo/dark/0604/333.png\"},\"showThumbnailView\":true,\"showListView\":true,\"regDate\":\"20240607 16:15:20\",\"_id\":null,\"@type\":\"PC-NEWSSTAND-PRESS-BLOCK\",\"@code\":null,\"@template\":\"NONE\",\"@flowId\":null,\"@flowExecutionId\":null,\"@provider\":null,\"@lastModifiedAt\":null},{\"@type\":\"PC-NEWSSTAND-PRESS-BLOCK\",\"blocks\":null,\"materials\":null,\"excludeInPaging\":false,\"positionForPaging\":0,\"realtime\":false,\"pid\":\"213\",\"name\":\"TV리포트\",\"logoLight\":{\"url\":\"https://s.pstatic.net/static/newsstand/up/2023/0714/nsd125517690.png\"},\"logoDark\":{\"url\":\"https://s.pstatic.net/static/newsstand/up/2023/0714/nsd125510155.png\"},\"showThumbnailView\":true,\"showListView\":true,\"regDate\":\"20240607 14:03:46\",\"_id\":null,\"@type\":\"PC-NEWSSTAND-PRESS-BLOCK\",\"@code\":null,\"@template\":\"NONE\",\"@flowId\":null,\"@flowExecutionId\":null,\"@provider\":null,\"@lastModifiedAt\":null},{\"@type\":\"PC-NEWSSTAND-PRESS-BLOCK\",\"blocks\":null,\"materials\":null,\"excludeInPaging\":false,\"positionForPaging\":0,\"realtime\":false,\"pid\":\"334\",\"name\":\"제주의소리\",\"logoLight\":{\"url\":\"https://s.pstatic.net/static/newsstand/2020/logo/light/0604/334.png\"},\"logoDark\":{\"url\":\"https://s.pstatic.net/static/newsstand/2020/logo/dark/0604/334.png\"},\"showThumbnailView\":true,\"showListView\":true,\"regDate\":\"20240607 08:43:39\",\"_id\":null,\"@type\":\"PC-NEWSSTAND-PRESS-BLOCK\",\"@code\":null,\"@template\":\"NONE\",\"@flowId\":null,\"@flowExecutionId\":null,\"@provider\":null,\"@lastModifiedAt\":null},{\"@type\":\"PC-NEWSSTAND-PRESS-BLOCK\",\"blocks\":null,\"materials\":null,\"excludeInPaging\":false,\"positionForPaging\":0,\"realtime\":false,\"pid\":\"214\",\"name\":\"MBC\",\"logoLight\":{\"url\":\"https://s.pstatic.net/static/newsstand/2020/logo/light/0604/214.png\"},\"logoDark\":{\"url\":\"https://s.pstatic.net/static/newsstand/2020/logo/dark/0604/214.png\"},\"showThumbnailView\":true,\"showListView\":true,\"regDate\":\"20240607 16:34:06\",\"_id\":null,\"@type\":\"PC-NEWSSTAND-PRESS-BLOCK\",\"@code\":null,\"@template\":\"NONE\",\"@flowId\":null,\"@flowExecutionId\":null,\"@provider\":null,\"@lastModifiedAt\":null},{\"@type\":\"PC-NEWSSTAND-PRESS-BLOCK\",\"blocks\":null,\"materials\":null,\"excludeInPaging\":false,\"positionForPaging\":0,\"realtime\":false,\"pid\":\"335\",\"name\":\"강원도민일보\",\"logoLight\":{\"url\":\"https://s.pstatic.net/static/newsstand/2020/logo/light/0604/335.png\"},\"logoDark\":{\"url\":\"https://s.pstatic.net/static/newsstand/2020/logo/dark/0604/335.png\"},\"showThumbnailView\":true,\"showListView\":true,\"regDate\":\"20240607 13:28:19\",\"_id\":null,\"@type\":\"PC-NEWSSTAND-PRESS-BLOCK\",\"@code\":null,\"@template\":\"NONE\",\"@flowId\":null,\"@flowExecutionId\":null,\"@provider\":null,\"@lastModifiedAt\":null},{\"@type\":\"PC-NEWSSTAND-PRESS-BLOCK\",\"blocks\":null,\"materials\":null,\"excludeInPaging\":false,\"positionForPaging\":0,\"realtime\":false,\"pid\":\"215\",\"name\":\"한국경제TV\",\"logoLight\":{\"url\":\"https://s.pstatic.net/static/newsstand/2020/logo/light/0604/215.png\"},\"logoDark\":{\"url\":\"https://s.pstatic.net/static/newsstand/2020/logo/dark/0604/215.png\"},\"showThumbnailView\":true,\"showListView\":true,\"regDate\":\"20240607 16:26:46\",\"_id\":null,\"@type\":\"PC-NEWSSTAND-PRESS-BLOCK\",\"@code\":null,\"@template\":\"NONE\",\"@flowId\":null,\"@flowExecutionId\":null,\"@provider\":null,\"@lastModifiedAt\":null},{\"@type\":\"PC-NEWSSTAND-PRESS-BLOCK\",\"blocks\":null,\"materials\":null,\"excludeInPaging\":false,\"positionForPaging\":0,\"realtime\":false,\"pid\":\"336\",\"name\":\"전북일보\",\"logoLight\":{\"url\":\"https://s.pstatic.net/static/newsstand/2020/logo/light/0604/336.png\"},\"logoDark\":{\"url\":\"https://s.pstatic.net/static/newsstand/2020/logo/dark/0604/336.png\"},\"showThumbnailView\":true,\"showListView\":true,\"regDate\":\"20240607 15:00:02\",\"_id\":null,\"@type\":\"PC-NEWSSTAND-PRESS-BLOCK\",\"@code\":null,\"@template\":\"NONE\",\"@flowId\":null,\"@flowExecutionId\":null,\"@provider\":null,\"@lastModifiedAt\":null},{\"@type\":\"PC-NEWSSTAND-PRESS-BLOCK\",\"blocks\":null,\"materials\":null,\"excludeInPaging\":false,\"positionForPaging\":0,\"realtime\":false,\"pid\":\"337\",\"name\":\"경북일보\",\"logoLight\":{\"url\":\"https://s.pstatic.net/static/newsstand/2020/logo/light/0604/337.png\"},\"logoDark\":{\"url\":\"https://s.pstatic.net/static/newsstand/2020/logo/dark/0604/337.png\"},\"showThumbnailView\":true,\"showListView\":true,\"regDate\":\"20240604 22:33:21\",\"_id\":null,\"@type\":\"PC-NEWSSTAND-PRESS-BLOCK\",\"@code\":null,\"@template\":\"NONE\",\"@flowId\":null,\"@flowExecutionId\":null,\"@provider\":null,\"@lastModifiedAt\":null},{\"@type\":\"PC-NEWSSTAND-PRESS-BLOCK\",\"blocks\":null,\"materials\":null,\"excludeInPaging\":false,\"positionForPaging\":0,\"realtime\":false,\"pid\":\"338\",\"name\":\"경인일보\",\"logoLight\":{\"url\":\"https://s.pstatic.net/static/newsstand/2020/logo/light/0604/338.png\"},\"logoDark\":{\"url\":\"https://s.pstatic.net/static/newsstand/2020/logo/dark/0604/338.png\"},\"showThumbnailView\":true,\"showListView\":true,\"regDate\":\"20240607 15:49:42\",\"_id\":null,\"@type\":\"PC-NEWSSTAND-PRESS-BLOCK\",\"@code\":null,\"@template\":\"NONE\",\"@flowId\":null,\"@flowExecutionId\":null,\"@provider\":null,\"@lastModifiedAt\":null},{\"@type\":\"PC-NEWSSTAND-PRESS-BLOCK\",\"blocks\":null,\"materials\":null,\"excludeInPaging\":false,\"positionForPaging\":0,\"realtime\":false,\"pid\":\"339\",\"name\":\"경기일보\",\"logoLight\":{\"url\":\"https://s.pstatic.net/static/newsstand/2020/logo/light/0604/339.png\"},\"logoDark\":{\"url\":\"https://s.pstatic.net/static/newsstand/2020/logo/dark/0604/339.png\"},\"showThumbnailView\":true,\"showListView\":true,\"regDate\":\"20240607 16:01:18\",\"_id\":null,\"@type\":\"PC-NEWSSTAND-PRESS-BLOCK\",\"@code\":null,\"@template\":\"NONE\",\"@flowId\":null,\"@flowExecutionId\":null,\"@provider\":null,\"@lastModifiedAt\":null},{\"@type\":\"PC-NEWSSTAND-PRESS-BLOCK\",\"blocks\":null,\"materials\":null,\"excludeInPaging\":false,\"positionForPaging\":0,\"realtime\":false,\"pid\":\"340\",\"name\":\"OBS\",\"logoLight\":{\"url\":\"https://s.pstatic.net/static/newsstand/2020/logo/light/0604/340.png\"},\"logoDark\":{\"url\":\"https://s.pstatic.net/static/newsstand/2020/logo/dark/0604/340.png\"},\"showThumbnailView\":true,\"showListView\":true,\"regDate\":\"20240607 16:36:39\",\"_id\":null,\"@type\":\"PC-NEWSSTAND-PRESS-BLOCK\",\"@code\":null,\"@template\":\"NONE\",\"@flowId\":null,\"@flowExecutionId\":null,\"@provider\":null,\"@lastModifiedAt\":null},{\"@type\":\"PC-NEWSSTAND-PRESS-BLOCK\",\"blocks\":null,\"materials\":null,\"excludeInPaging\":false,\"positionForPaging\":0,\"realtime\":false,\"pid\":\"344\",\"name\":\"EBS\",\"logoLight\":{\"url\":\"https://s.pstatic.net/static/newsstand/up/2020/0803/nsd20247547.png\"},\"logoDark\":{\"url\":\"https://s.pstatic.net/static/newsstand/up/2020/0803/nsd202358800.png\"},\"showThumbnailView\":true,\"showListView\":true,\"regDate\":\"20240607 14:11:18\",\"_id\":null,\"@type\":\"PC-NEWSSTAND-PRESS-BLOCK\",\"@code\":null,\"@template\":\"NONE\",\"@flowId\":null,\"@flowExecutionId\":null,\"@provider\":null,\"@lastModifiedAt\":null},{\"@type\":\"PC-NEWSSTAND-PRESS-BLOCK\",\"blocks\":null,\"materials\":null,\"excludeInPaging\":false,\"positionForPaging\":0,\"realtime\":false,\"pid\":\"345\",\"name\":\"디자인정글\",\"logoLight\":{\"url\":\"https://s.pstatic.net/static/newsstand/2020/logo/light/0604/345.png\"},\"logoDark\":{\"url\":\"https://s.pstatic.net/static/newsstand/2020/logo/dark/0604/345.png\"},\"showThumbnailView\":true,\"showListView\":true,\"regDate\":\"20240607 11:32:58\",\"_id\":null,\"@type\":\"PC-NEWSSTAND-PRESS-BLOCK\",\"@code\":null,\"@template\":\"NONE\",\"@flowId\":null,\"@flowExecutionId\":null,\"@provider\":null,\"@lastModifiedAt\":null},{\"@type\":\"PC-NEWSSTAND-PRESS-BLOCK\",\"blocks\":null,\"materials\":null,\"excludeInPaging\":false,\"positionForPaging\":0,\"realtime\":false,\"pid\":\"346\",\"name\":\"헬스조선\",\"logoLight\":{\"url\":\"https://s.pstatic.net/static/newsstand/2020/logo/light/0604/346.png\"},\"logoDark\":{\"url\":\"https://s.pstatic.net/static/newsstand/2020/logo/dark/0604/346.png\"},\"showThumbnailView\":true,\"showListView\":true,\"regDate\":\"20240607 16:43:03\",\"_id\":null,\"@type\":\"PC-NEWSSTAND-PRESS-BLOCK\",\"@code\":null,\"@template\":\"NONE\",\"@flowId\":null,\"@flowExecutionId\":null,\"@provider\":null,\"@lastModifiedAt\":null},{\"@type\":\"PC-NEWSSTAND-PRESS-BLOCK\",\"blocks\":null,\"materials\":null,\"excludeInPaging\":false,\"positionForPaging\":0,\"realtime\":false,\"pid\":\"108\",\"name\":\"스타뉴스\",\"logoLight\":{\"url\":\"https://s.pstatic.net/static/newsstand/2020/logo/light/0604/108.png\"},\"logoDark\":{\"url\":\"https://s.pstatic.net/static/newsstand/2020/logo/dark/0604/108.png\"},\"showThumbnailView\":true,\"showListView\":true,\"regDate\":\"20240607 16:45:06\",\"_id\":null,\"@type\":\"PC-NEWSSTAND-PRESS-BLOCK\",\"@code\":null,\"@template\":\"NONE\",\"@flowId\":null,\"@flowExecutionId\":null,\"@provider\":null,\"@lastModifiedAt\":null},{\"@type\":\"PC-NEWSSTAND-PRESS-BLOCK\",\"blocks\":null,\"materials\":null,\"excludeInPaging\":false,\"positionForPaging\":0,\"realtime\":false,\"pid\":\"109\",\"name\":\"OSEN\",\"logoLight\":{\"url\":\"https://s.pstatic.net/static/newsstand/up/2020/0610/nsd151458769.png\"},\"logoDark\":{\"url\":\"https://s.pstatic.net/static/newsstand/up/2020/0610/nsd151458769.png\"},\"showThumbnailView\":true,\"showListView\":true,\"regDate\":\"20240607 09:36:57\",\"_id\":null,\"@type\":\"PC-NEWSSTAND-PRESS-BLOCK\",\"@code\":null,\"@template\":\"NONE\",\"@flowId\":null,\"@flowExecutionId\":null,\"@provider\":null,\"@lastModifiedAt\":null},{\"@type\":\"PC-NEWSSTAND-PRESS-BLOCK\",\"blocks\":null,\"materials\":null,\"excludeInPaging\":false,\"positionForPaging\":0,\"realtime\":false,\"pid\":\"901\",\"name\":\"제민일보\",\"logoLight\":{\"url\":\"https://s.pstatic.net/static/newsstand/up/2020/1119/nsd213345745.png\"},\"logoDark\":{\"url\":\"https://s.pstatic.net/static/newsstand/up/2020/1119/nsd213339585.png\"},\"showThumbnailView\":true,\"showListView\":true,\"regDate\":\"20240606 18:22:59\",\"_id\":null,\"@type\":\"PC-NEWSSTAND-PRESS-BLOCK\",\"@code\":null,\"@template\":\"NONE\",\"@flowId\":null,\"@flowExecutionId\":null,\"@provider\":null,\"@lastModifiedAt\":null},{\"@type\":\"PC-NEWSSTAND-PRESS-BLOCK\",\"blocks\":null,\"materials\":null,\"excludeInPaging\":false,\"positionForPaging\":0,\"realtime\":false,\"pid\":\"902\",\"name\":\"TV조선\",\"logoLight\":{\"url\":\"https://s.pstatic.net/static/newsstand/2020/logo/light/0604/902.png\"},\"logoDark\":{\"url\":\"https://s.pstatic.net/static/newsstand/2020/logo/dark/0604/902.png\"},\"showThumbnailView\":true,\"showListView\":true,\"regDate\":\"20240607 16:42:26\",\"_id\":null,\"@type\":\"PC-NEWSSTAND-PRESS-BLOCK\",\"@code\":null,\"@template\":\"NONE\",\"@flowId\":null,\"@flowExecutionId\":null,\"@provider\":null,\"@lastModifiedAt\":null},{\"@type\":\"PC-NEWSSTAND-PRESS-BLOCK\",\"blocks\":null,\"materials\":null,\"excludeInPaging\":false,\"positionForPaging\":0,\"realtime\":false,\"pid\":\"903\",\"name\":\"채널A\",\"logoLight\":{\"url\":\"https://s.pstatic.net/static/newsstand/2020/logo/light/0604/903.png\"},\"logoDark\":{\"url\":\"https://s.pstatic.net/static/newsstand/2020/logo/dark/0604/903.png\"},\"showThumbnailView\":true,\"showListView\":true,\"regDate\":\"20240607 16:26:29\",\"_id\":null,\"@type\":\"PC-NEWSSTAND-PRESS-BLOCK\",\"@code\":null,\"@template\":\"NONE\",\"@flowId\":null,\"@flowExecutionId\":null,\"@provider\":null,\"@lastModifiedAt\":null},{\"@type\":\"PC-NEWSSTAND-PRESS-BLOCK\",\"blocks\":null,\"materials\":null,\"excludeInPaging\":false,\"positionForPaging\":0,\"realtime\":false,\"pid\":\"904\",\"name\":\"JTBC\",\"logoLight\":{\"url\":\"https://s.pstatic.net/static/newsstand/2020/logo/light/0604/904.png\"},\"logoDark\":{\"url\":\"https://s.pstatic.net/static/newsstand/2020/logo/dark/0604/904.png\"},\"showThumbnailView\":true,\"showListView\":true,\"regDate\":\"20240607 16:45:00\",\"_id\":null,\"@type\":\"PC-NEWSSTAND-PRESS-BLOCK\",\"@code\":null,\"@template\":\"NONE\",\"@flowId\":null,\"@flowExecutionId\":null,\"@provider\":null,\"@lastModifiedAt\":null},{\"@type\":\"PC-NEWSSTAND-PRESS-BLOCK\",\"blocks\":null,\"materials\":null,\"excludeInPaging\":false,\"positionForPaging\":0,\"realtime\":false,\"pid\":\"905\",\"name\":\"더스쿠프\",\"logoLight\":{\"url\":\"https://s.pstatic.net/static/newsstand/up/2024/0304/nsd101630742.png\"},\"logoDark\":{\"url\":\"https://s.pstatic.net/static/newsstand/up/2024/0304/nsd101639503.png\"},\"showThumbnailView\":true,\"showListView\":true,\"regDate\":\"20240606 19:25:59\",\"_id\":null,\"@type\":\"PC-NEWSSTAND-PRESS-BLOCK\",\"@code\":null,\"@template\":\"NONE\",\"@flowId\":null,\"@flowExecutionId\":null,\"@provider\":null,\"@lastModifiedAt\":null},{\"@type\":\"PC-NEWSSTAND-PRESS-BLOCK\",\"blocks\":null,\"materials\":null,\"excludeInPaging\":false,\"positionForPaging\":0,\"realtime\":false,\"pid\":\"906\",\"name\":\"KNN\",\"logoLight\":{\"url\":\"https://s.pstatic.net/static/newsstand/2020/logo/light/0604/906.png\"},\"logoDark\":{\"url\":\"https://s.pstatic.net/static/newsstand/2020/logo/dark/0604/906.png\"},\"showThumbnailView\":true,\"showListView\":true,\"regDate\":\"20240607 13:33:28\",\"_id\":null,\"@type\":\"PC-NEWSSTAND-PRESS-BLOCK\",\"@code\":null,\"@template\":\"NONE\",\"@flowId\":null,\"@flowExecutionId\":null,\"@provider\":null,\"@lastModifiedAt\":null},{\"@type\":\"PC-NEWSSTAND-PRESS-BLOCK\",\"blocks\":null,\"materials\":null,\"excludeInPaging\":false,\"positionForPaging\":0,\"realtime\":false,\"pid\":\"410\",\"name\":\"MK스포츠\",\"logoLight\":{\"url\":\"https://s.pstatic.net/static/newsstand/2020/logo/light/0604/410.png\"},\"logoDark\":{\"url\":\"https://s.pstatic.net/static/newsstand/2020/logo/dark/0604/410.png\"},\"showThumbnailView\":false,\"showListView\":false,\"regDate\":null,\"_id\":null,\"@type\":\"PC-NEWSSTAND-PRESS-BLOCK\",\"@code\":null,\"@template\":\"NONE\",\"@flowId\":null,\"@flowExecutionId\":null,\"@provider\":null,\"@lastModifiedAt\":null}],\"materials\":null,\"excludeInPaging\":false,\"positionForPaging\":0,\"realtime\":false,\"majorPidList\":[\"032\",\"005\",\"079\",\"327\",\"930\",\"003\",\"368\",\"020\",\"029\",\"117\",\"009\",\"008\",\"021\",\"006\",\"293\",\"011\",\"081\",\"022\",\"314\",\"073\",\"076\",\"139\",\"308\",\"277\",\"031\",\"422\",\"047\",\"018\",\"241\",\"030\",\"366\",\"023\",\"330\",\"025\",\"092\",\"376\",\"044\",\"014\",\"002\",\"028\",\"015\",\"215\",\"038\",\"016\",\"904\",\"056\",\"326\",\"214\",\"057\",\"109\",\"055\",\"052\"],\"minorPidList\":[\"944\",\"687\",\"913\",\"914\",\"960\",\"536\",\"804\",\"812\",\"042\",\"969\",\"417\",\"961\",\"809\",\"814\",\"942\",\"943\",\"973\",\"685\",\"824\",\"970\",\"816\",\"957\",\"975\",\"810\",\"920\",\"921\",\"963\",\"682\",\"013\",\"801\",\"539\",\"964\",\"825\",\"243\",\"922\",\"803\",\"923\",\"971\",\"925\",\"690\",\"123\",\"353\",\"941\",\"143\",\"826\",\"822\",\"968\",\"993\",\"974\",\"932\",\"954\",\"120\",\"823\",\"959\",\"972\",\"421\",\"916\",\"903\",\"934\",\"344\",\"980\",\"906\",\"340\",\"374\",\"989\",\"981\",\"684\",\"902\",\"945\",\"910\",\"138\",\"953\",\"952\",\"977\",\"994\",\"818\",\"917\",\"681\",\"040\",\"946\",\"830\",\"447\",\"108\",\"802\",\"144\",\"396\",\"529\",\"940\",\"962\",\"477\",\"311\",\"947\",\"312\",\"440\",\"410\",\"416\",\"213\",\"356\",\"908\",\"938\",\"984\",\"911\",\"998\",\"997\",\"995\",\"905\",\"991\",\"955\",\"363\",\"345\",\"915\",\"024\",\"996\",\"075\",\"829\",\"819\",\"815\",\"122\",\"958\",\"827\",\"355\",\"808\",\"329\",\"135\",\"828\",\"140\",\"979\",\"328\",\"354\",\"691\",\"310\",\"094\",\"820\",\"950\",\"988\",\"982\",\"813\",\"924\",\"807\",\"965\",\"966\",\"686\",\"990\",\"361\",\"956\",\"928\",\"967\",\"296\",\"986\",\"951\",\"948\",\"806\",\"050\",\"805\",\"811\",\"384\",\"346\",\"364\"],\"catePidList\":{\"ct7\":[\"356\",\"908\",\"938\",\"984\",\"911\",\"998\",\"997\",\"995\",\"905\",\"991\",\"955\",\"363\",\"345\",\"915\",\"024\",\"996\",\"075\",\"829\",\"819\",\"815\",\"122\",\"958\",\"827\",\"355\",\"808\",\"329\",\"308\",\"135\",\"828\",\"140\",\"979\",\"328\",\"354\",\"691\",\"310\",\"094\",\"820\",\"950\",\"988\",\"982\",\"813\",\"924\",\"807\",\"965\",\"966\",\"686\",\"990\",\"361\",\"956\",\"928\",\"967\",\"296\",\"986\",\"951\",\"948\",\"806\",\"050\",\"805\",\"811\",\"384\",\"346\",\"364\"],\"ct8\":[\"335\",\"087\",\"688\",\"339\",\"821\",\"333\",\"978\",\"907\",\"337\",\"935\",\"338\",\"301\",\"083\",\"332\",\"909\",\"936\",\"089\",\"088\",\"976\",\"817\",\"082\",\"385\",\"387\",\"689\",\"388\",\"937\",\"336\",\"901\",\"389\",\"334\",\"983\",\"926\",\"927\",\"391\",\"331\",\"683\"],\"ct5\":[\"681\",\"330\",\"040\",\"044\",\"326\",\"946\"],\"ct6\":[\"830\",\"447\",\"117\",\"108\",\"802\",\"144\",\"314\",\"073\",\"396\",\"076\",\"529\",\"940\",\"962\",\"139\",\"477\",\"311\",\"241\",\"947\",\"312\",\"440\",\"410\",\"109\",\"416\",\"213\"],\"ct3\":[\"421\",\"003\",\"916\",\"422\",\"376\",\"903\",\"215\",\"934\",\"344\",\"904\",\"980\",\"056\",\"906\",\"214\",\"057\",\"340\",\"055\",\"374\",\"989\",\"981\",\"684\",\"902\",\"052\",\"945\"],\"ct4\":[\"910\",\"138\",\"029\",\"953\",\"952\",\"293\",\"030\",\"092\",\"977\",\"994\",\"818\",\"917\"],\"ct2\":[\"032\",\"005\",\"944\",\"079\",\"327\",\"687\",\"930\",\"913\",\"914\",\"960\",\"536\",\"804\",\"368\",\"812\",\"042\",\"020\",\"009\",\"969\",\"417\",\"008\",\"961\",\"021\",\"006\",\"809\",\"814\",\"942\",\"943\",\"973\",\"011\",\"081\",\"685\",\"824\",\"022\",\"970\",\"816\",\"957\",\"975\",\"810\",\"277\",\"920\",\"031\",\"921\",\"963\",\"682\",\"013\",\"047\",\"801\",\"539\",\"964\",\"018\",\"825\",\"243\",\"922\",\"803\",\"923\",\"971\",\"925\",\"690\",\"366\",\"023\",\"123\",\"353\",\"025\",\"941\",\"143\",\"826\",\"014\",\"822\",\"002\",\"028\",\"015\",\"968\",\"038\",\"993\",\"016\",\"974\",\"932\",\"954\",\"120\",\"823\",\"959\",\"972\"]},\"targetLocalPidList\":[],\"subsPidList\":[],\"firstPressBlock\":null,\"rcode2\":\"default\",\"rcode\":\"09590107\",\"_id\":null,\"@type\":\"PC-NEWSSTAND-BLOCK\",\"@code\":\"PC-NEWSSTAND\",\"@template\":\"PC-NEWSSTAND\",\"@flowId\":null,\"@flowExecutionId\":null,\"@provider\":null,\"@lastModifiedAt\":null}],\"materials\":null,\"excludeInPaging\":false,\"positionForPaging\":0,\"realtime\":false,\"_id\":null,\"@type\":\"BLOCK\",\"@code\":\"PC-MEDIA-NEWSSTAND\",\"@template\":\"NONE\",\"@flowId\":null,\"@flowExecutionId\":null,\"@provider\":null,\"@lastModifiedAt\":null}],\"materials\":null,\"excludeInPaging\":false,\"positionForPaging\":0,\"realtime\":false,\"sportsLive\":true,\"_id\":\"643e68a5a10d3006855e268d\",\"@type\":\"PC-MEDIA-CONTENTS-BLOCK\",\"@code\":\"PC-MEDIA-WRAPPER\",\"@template\":\"PC-MEDIA-WRAPPER\",\"@flowId\":\"PC-MEDIA-WRAPPER\",\"@flowExecutionId\":\"9c3da739-24a3-11ef-9f80-314019f6e2b5\",\"@provider\":\"lambda\",\"@lastModifiedAt\":[2024,6,7,7,57,44,368000000]}\n",
      "window[\"EAGER-DATA\"][\"PC-NEWSSTAND-YONHAP\"] = {\"@type\":\"BLOCK\",\"blocks\":[{\"@type\":\"BLOCK\",\"blocks\":null,\"materials\":[],\"excludeInPaging\":false,\"positionForPaging\":0,\"realtime\":false,\"_id\":null,\"@type\":\"BLOCK\",\"@code\":null,\"@template\":\"NONE\",\"@flowId\":null,\"@flowExecutionId\":null,\"@provider\":null,\"@lastModifiedAt\":null}],\"materials\":[{\"@type\":\"MATERIAL-PC-NEWS-ONELINE\",\"gdid\":null,\"title\":\"'대북송금·뇌물수수 혐의' 이화영 1심 징역 9년 6개월 선고\",\"url\":\"https://news.naver.com/main/list.naver?mode=LPOD&mid=sec&sid1=001&sid2=140&oid=001&isYeonhapFlash=Y&aid=0014734296\",\"aid\":null,\"emergency\":false,\"notCompleted\":false,\"officeName\":\"연합뉴스\",\"officeId\":\"001\",\"officeHomeUrl\":null,\"officeWeight\":0,\"officeWeightRate\":0.0,\"_id\":\"643543b2caf3d87b7e0a0da6\"},{\"@type\":\"MATERIAL-PC-NEWS-ONELINE\",\"gdid\":null,\"title\":\"서울대병원장 \\\"교수들, 집단 휴진 허가하지 않겠다\\\"\",\"url\":\"https://news.naver.com/main/list.naver?mode=LPOD&mid=sec&sid1=001&sid2=140&oid=001&isYeonhapFlash=Y&aid=0014734304\",\"aid\":null,\"emergency\":false,\"notCompleted\":false,\"officeName\":\"연합뉴스\",\"officeId\":\"001\",\"officeHomeUrl\":null,\"officeWeight\":0,\"officeWeightRate\":0.0,\"_id\":\"65692532e9bedeca62543dbb\"},{\"@type\":\"MATERIAL-PC-NEWS-ONELINE\",\"gdid\":null,\"title\":\"용산 \\\"동해 가스, 5월 중하순 보고받아…발표 전날 대통령 직보\\\"\",\"url\":\"https://news.naver.com/main/list.naver?mode=LPOD&mid=sec&sid1=001&sid2=140&oid=001&isYeonhapFlash=Y&aid=0014734264\",\"aid\":null,\"emergency\":false,\"notCompleted\":false,\"officeName\":\"연합뉴스\",\"officeId\":\"001\",\"officeHomeUrl\":null,\"officeWeight\":0,\"officeWeightRate\":0.0,\"_id\":\"65692532e9bedeca62543dbc\"},{\"@type\":\"MATERIAL-PC-NEWS-ONELINE\",\"gdid\":null,\"title\":\"작년 1월 동해광구 철수한 우드사이드…한달 뒤 뛰어든 액트지오\",\"url\":\"https://news.naver.com/main/list.naver?mode=LPOD&mid=sec&sid1=001&sid2=140&oid=001&isYeonhapFlash=Y&aid=0014734318\",\"aid\":null,\"emergency\":false,\"notCompleted\":false,\"officeName\":\"연합뉴스\",\"officeId\":\"001\",\"officeHomeUrl\":null,\"officeWeight\":0,\"officeWeightRate\":0.0,\"_id\":\"65692532e9bedeca62543dbd\"},{\"@type\":\"MATERIAL-PC-NEWS-ONELINE\",\"gdid\":null,\"title\":\"尹대통령, 10∼15일 투르크·카자흐·우즈베크 국빈 방문\",\"url\":\"https://news.naver.com/main/list.naver?mode=LPOD&mid=sec&sid1=001&sid2=140&oid=001&isYeonhapFlash=Y&aid=0014734254\",\"aid\":null,\"emergency\":false,\"notCompleted\":false,\"officeName\":\"연합뉴스\",\"officeId\":\"001\",\"officeHomeUrl\":null,\"officeWeight\":0,\"officeWeightRate\":0.0,\"_id\":\"65692532e9bedeca62543dbe\"},{\"@type\":\"MATERIAL-PC-NEWS-ONELINE\",\"gdid\":null,\"title\":\"윤건영 \\\"김정숙 여사 기내식비 4끼 105만원…전체의 4.8% 불과\\\"\",\"url\":\"https://news.naver.com/main/list.naver?mode=LPOD&mid=sec&sid1=001&sid2=140&oid=001&isYeonhapFlash=Y&aid=0014734247\",\"aid\":null,\"emergency\":false,\"notCompleted\":false,\"officeName\":\"연합뉴스\",\"officeId\":\"001\",\"officeHomeUrl\":null,\"officeWeight\":0,\"officeWeightRate\":0.0,\"_id\":\"65692532e9bedeca62543dbf\"},{\"@type\":\"MATERIAL-PC-NEWS-ONELINE\",\"gdid\":null,\"title\":\"외교부 \\\"'조선인 강제노역' 반영 안되면 사도광산 등재 반대\\\"\",\"url\":\"https://news.naver.com/main/list.naver?mode=LPOD&mid=sec&sid1=001&sid2=140&oid=001&isYeonhapFlash=Y&aid=0014734319\",\"aid\":null,\"emergency\":false,\"notCompleted\":false,\"officeName\":\"연합뉴스\",\"officeId\":\"001\",\"officeHomeUrl\":null,\"officeWeight\":0,\"officeWeightRate\":0.0,\"_id\":\"65692532e9bedeca62543dc0\"},{\"@type\":\"MATERIAL-PC-NEWS-ONELINE\",\"gdid\":null,\"title\":\"훈련병 사망 이른 '무리한 얼차려' 지시 중대장 소환 언제쯤\",\"url\":\"https://news.naver.com/main/list.naver?mode=LPOD&mid=sec&sid1=001&sid2=140&oid=001&isYeonhapFlash=Y&aid=0014733947\",\"aid\":null,\"emergency\":false,\"notCompleted\":false,\"officeName\":\"연합뉴스\",\"officeId\":\"001\",\"officeHomeUrl\":null,\"officeWeight\":0,\"officeWeightRate\":0.0,\"_id\":\"6573c24ecaf3d87b7e4d5269\"},{\"@type\":\"MATERIAL-PC-NEWS-ONELINE\",\"gdid\":null,\"title\":\"'밀양 성폭행' 가해자 공개에 영상 속 관련자들 유튜버 고소\",\"url\":\"https://news.naver.com/main/list.naver?mode=LPOD&mid=sec&sid1=001&sid2=140&oid=001&isYeonhapFlash=Y&aid=0014734251\",\"aid\":null,\"emergency\":false,\"notCompleted\":false,\"officeName\":\"연합뉴스\",\"officeId\":\"001\",\"officeHomeUrl\":null,\"officeWeight\":0,\"officeWeightRate\":0.0,\"_id\":\"66583442a8e6e913d3f2ba82\"},{\"@type\":\"MATERIAL-PC-NEWS-ONELINE\",\"gdid\":null,\"title\":\"'현충일 욱일기' 주민 \\\"사과할 용의 있지만 국민 알아야할 문제\\\"\",\"url\":\"https://news.naver.com/main/list.naver?mode=LPOD&mid=sec&sid1=001&sid2=140&oid=001&isYeonhapFlash=Y&aid=0014733895\",\"aid\":null,\"emergency\":false,\"notCompleted\":false,\"officeName\":\"연합뉴스\",\"officeId\":\"001\",\"officeHomeUrl\":null,\"officeWeight\":0,\"officeWeightRate\":0.0,\"_id\":\"665d7b6e13a59b347f8bcd96\"}],\"excludeInPaging\":false,\"positionForPaging\":0,\"realtime\":false,\"_id\":\"643543b2a10d3006850fa263\",\"@type\":\"BLOCK\",\"@code\":\"PC-NEWSSTAND-YONHAP\",\"@template\":\"PC-NEWSSTAND-YONHAP\",\"@flowId\":\"PC-YONHAP\",\"@flowExecutionId\":\"77dee503-24a3-11ef-93d8-a39e748742cf\",\"@provider\":\"lambda\",\"@lastModifiedAt\":[2024,6,7,7,56,38,277000000]}\n",
      "window[\"EAGER-DATA\"][\"CAS-MINICONTENT-PC-SEARCH-RIGHT\"] = {\"@type\":\"MINI-CONTENT-BLOCK\",\"blocks\":null,\"materials\":null,\"excludeInPaging\":false,\"positionForPaging\":0,\"realtime\":false,\"items\":[],\"_id\":\"6433d8a5a10d300685012682\",\"@type\":\"MINI-CONTENT-BLOCK\",\"@code\":\"CAS-MINICONTENT-PC-SEARCH-RIGHT\",\"@template\":\"NONE\",\"@flowId\":\"CAS-MINICONTENT\",\"@flowExecutionId\":\"774a4611-24a3-11ef-9f80-cfe79753c86a\",\"@provider\":\"lambda\",\"@lastModifiedAt\":[2024,6,7,7,56,37,169000000]}\n",
      "window[\"EAGER-DATA\"][\"PC-HEADLINE-AD\"] = {\"@type\":\"PC-HEADLINE-AD-BLOCK\",\"blocks\":null,\"materials\":null,\"excludeInPaging\":false,\"positionForPaging\":0,\"realtime\":false,\"adResponse\":{\"type\":\"N011\",\"adlineId\":null,\"vimp100p0s\":\"https://siape.veta.naver.com/fxview?eu=EU10044129&calp=-&oj=ZJlEFeSBKmLsXgW4rDRL%2BI2uONgRIw01&ac=8968387&src=7094288&evtcd=V900&x_ti=1586&tb=&oid=&sid1=&sid2=&rk=x8kjL3etpdAGVfZEHn-liw&eltts=E2OluS6BraaKTzRlhopYlg%3D%3D&brs=Y&&eid=V900\",\"assets\":null},\"_id\":null,\"@type\":null,\"@code\":\"PC-HEADLINE-AD\",\"@template\":\"PC-HEADLINE-AD\",\"@flowId\":null,\"@flowExecutionId\":null,\"@provider\":null,\"@lastModifiedAt\":null}\n",
      "window[\"EAGER-DATA\"][\"CAS-MINICONTENT-PC-MEDIA-TAB-EVENT\"] = {\"@type\":\"MINI-CONTENT-BLOCK\",\"blocks\":null,\"materials\":null,\"excludeInPaging\":false,\"positionForPaging\":0,\"realtime\":false,\"items\":[],\"_id\":\"643687e1a10d300685630556\",\"@type\":\"MINI-CONTENT-BLOCK\",\"@code\":\"CAS-MINICONTENT-PC-MEDIA-TAB-EVENT\",\"@template\":\"NONE\",\"@flowId\":\"CAS-MINICONTENT\",\"@flowExecutionId\":\"7e6e6e05-24a3-11ef-b933-27c29a3bf20f\",\"@provider\":\"lambda\",\"@lastModifiedAt\":[2024,6,7,7,56,49,170000000]}\n",
      "window[\"EAGER-DATA\"][\"CAS-MINICONTENT-PC-MID-BANNER\"] = {\"@type\":\"MINI-CONTENT-BLOCK\",\"blocks\":null,\"materials\":null,\"excludeInPaging\":false,\"positionForPaging\":0,\"realtime\":false,\"items\":[],\"_id\":\"648ae476a10d300685fbab10\",\"@type\":\"MINI-CONTENT-BLOCK\",\"@code\":\"CAS-MINICONTENT-PC-MID-BANNER\",\"@template\":\"NONE\",\"@flowId\":\"CAS-MINICONTENT\",\"@flowExecutionId\":\"97782fd2-24a3-11ef-b933-f1c4bbcaf42c\",\"@provider\":\"lambda\",\"@lastModifiedAt\":[2024,6,7,7,57,31,153000000]}\n",
      "window[\"EAGER-DATA\"][\"CAS-MINICONTENT-PC-TAB-META\"] = {\"@type\":\"MINI-CONTENT-BLOCK\",\"blocks\":null,\"materials\":null,\"excludeInPaging\":false,\"positionForPaging\":0,\"realtime\":false,\"items\":[{\"content\":{\"area\":\"FEED\",\"tabList\":[{\"clickCode\":\"tct.mynr\",\"name\":\"추천・구독\",\"id\":\"PC-FEED-RECOMMEND\",\"contingencyEnabled\":true,\"enabled\":true,\"useFeedCasEditTemplate\":false,\"weight\":1},{\"clickCode\":\"tct.wtn\",\"name\":\"자동차\",\"id\":\"PC-FEED-CARGAME\",\"contingencyEnabled\":true,\"enabled\":true,\"useFeedCasEditTemplate\":true,\"weight\":1},{\"clickCode\":\"tct.wtn\",\"name\":\"웹툰\",\"id\":\"PC-FEED-WEBTOON\",\"contingencyEnabled\":true,\"enabled\":true,\"useFeedCasEditTemplate\":true,\"weight\":1},{\"clickCode\":\"tct.bty\",\"name\":\"패션뷰티\",\"id\":\"PC-FEED-BEAUTY\",\"contingencyEnabled\":true,\"enabled\":true,\"useFeedCasEditTemplate\":false,\"weight\":1},{\"clickCode\":\"tct.fod\",\"name\":\"레시피\",\"id\":\"PC-FEED-RECIPE\",\"contingencyEnabled\":true,\"enabled\":true,\"useFeedCasEditTemplate\":true,\"weight\":1},{\"clickCode\":\"tct.lif\",\"name\":\"리빙\",\"id\":\"PC-FEED-LIVINGHOME\",\"contingencyEnabled\":true,\"enabled\":true,\"useFeedCasEditTemplate\":true,\"weight\":1},{\"clickCode\":\"tct.bok\",\"name\":\"책방\",\"id\":\"PC-FEED-CULTURE\",\"contingencyEnabled\":true,\"enabled\":true,\"useFeedCasEditTemplate\":true,\"weight\":1},{\"clickCode\":\"tct.lec\",\"name\":\"지식+\",\"id\":\"PC-FEED-LECTURE\",\"contingencyEnabled\":true,\"enabled\":true,\"useFeedCasEditTemplate\":true,\"weight\":1},{\"clickCode\":\"tct.health\",\"name\":\"건강\",\"id\":\"PC-FEED-HEALTH\",\"contingencyEnabled\":true,\"enabled\":true,\"useFeedCasEditTemplate\":false,\"weight\":1},{\"clickCode\":\"tct.gameapp\",\"name\":\"게임\",\"id\":\"PC-FEED-GAMEAPP\",\"contingencyEnabled\":true,\"enabled\":true,\"useFeedCasEditTemplate\":false,\"weight\":1}],\"@type\":\"BLOCK-PC-TAB-META\"},\"exposure\":true,\"@miniContentId\":\"643e64d370a065058f369bac\",\"@miniContentCode\":\"PC-TAB-META\",\"@startAt\":\"2023-04-10 00:00\",\"@endAt\":\"2030-05-30 23:59\",\"@createdAt\":\"2023-04-18T18:37:23.412\",\"@updatedAt\":\"2023-11-08T11:34:03.902\"},{\"content\":{\"area\":\"MEDIA\",\"tabList\":[{\"clickCode\":\"nst.nsd\",\"name\":\"뉴스스탠드\",\"id\":\"PC-MEDIA-NEWSSTAND\",\"contingencyEnabled\":true,\"enabled\":true,\"useFeedCasEditTemplate\":false,\"weight\":1},{\"clickCode\":\"nst.nch\",\"name\":\"언론사편집\",\"id\":\"PC-MEDIA-NEWS\",\"contingencyEnabled\":true,\"enabled\":true,\"useFeedCasEditTemplate\":false,\"weight\":1},{\"clickCode\":\"nst.ent\",\"name\":\"엔터\",\"id\":\"PC-MEDIA-ENTER\",\"contingencyEnabled\":true,\"enabled\":true,\"useFeedCasEditTemplate\":false,\"weight\":1},{\"clickCode\":\"nst.spo\",\"name\":\"스포츠\",\"id\":\"PC-MEDIA-SPORTS\",\"contingencyEnabled\":true,\"enabled\":true,\"useFeedCasEditTemplate\":false,\"weight\":1},{\"clickCode\":\"nst.fin\",\"name\":\"경제\",\"id\":\"PC-MEDIA-ECONOMIC\",\"contingencyEnabled\":true,\"enabled\":true,\"useFeedCasEditTemplate\":false,\"weight\":1},{\"clickCode\":\"nst.shpt\",\"name\":\"쇼핑투데이\",\"id\":\"PC-MEDIA-SHOPPING-TODAY\",\"contingencyEnabled\":true,\"enabled\":true,\"useFeedCasEditTemplate\":false,\"weight\":1}],\"@type\":\"BLOCK-PC-TAB-META\"},\"exposure\":true,\"@miniContentId\":\"643e642c8793487c84743a38\",\"@miniContentCode\":\"PC-TAB-META\",\"@startAt\":\"2023-04-11 00:00\",\"@endAt\":\"2030-05-31 23:59\",\"@createdAt\":\"2023-04-18T18:34:36.648\",\"@updatedAt\":\"2024-04-18T16:13:27.109\"}],\"_id\":\"643e6299a10d3006853cc04c\",\"@type\":\"MINI-CONTENT-BLOCK\",\"@code\":\"CAS-MINICONTENT-PC-TAB-META\",\"@template\":\"NONE\",\"@flowId\":\"CAS-MINICONTENT\",\"@flowExecutionId\":\"80d47090-24a3-11ef-b933-434cc1615651\",\"@provider\":\"lambda\",\"@lastModifiedAt\":[2024,6,7,7,56,53,197000000]}\n",
      "</script> <script defer=\"defer\" src=\"https://pm.pstatic.net/resources/js/polyfill.a163af38.js?o=www\" crossorigin=\"anonymous\"></script><script defer=\"defer\" src=\"https://pm.pstatic.net/resources/js/preload.819aeb5e.js?o=www\" crossorigin=\"anonymous\"></script><script defer=\"defer\" src=\"https://pm.pstatic.net/resources/js/search.a2eb1636.js?o=www\" crossorigin=\"anonymous\"></script><script defer=\"defer\" src=\"https://pm.pstatic.net/resources/js/main.4698d75a.js?o=www\" crossorigin=\"anonymous\"></script><link href=\"https://pm.pstatic.net/resources/css/main.cd92fed5.css\" rel=\"stylesheet\"></head> <body> <div id=\"u_skip\"> <a href=\"#topAsideButton\"><span>상단영역 바로가기</span></a> <a href=\"#shortcutArea\"><span>서비스 메뉴 바로가기</span></a> <a href=\"#newsstand\"><span>새소식 블록 바로가기</span></a> <a href=\"#shopping\"><span>쇼핑 블록 바로가기</span></a> <a href=\"#feed\"><span>관심사 블록 바로가기</span></a> <a href=\"#account\"><span>MY 영역 바로가기</span></a> <a href=\"#widgetboard\"><span>위젯 보드 바로가기</span></a> <a href=\"#viewSetting\"><span>보기 설정 바로가기</span></a> </div>   <script type=\"text/plain\" id=\"ad-timeboard-response\" data-gfp-banner-size=\"830x130\" data-gfp-banner-type=\"full\">{\"payload\":{\"requestId\":\"e5dfa811531f490bbfc9a218bd7bf209\",\"head\":{\"version\":\"0.0.1\",\"description\":\"Naver SSP Waterfall List\"},\"eventTracking\":{\"ackImpressions\":[{\"url\":\"https://tivan.naver.com/sc2/1/\"}],\"activeViewImpressions\":[{\"url\":\"https://tivan.naver.com/sc2/2/\"}],\"clicks\":[{\"url\":\"https://tivan.naver.com/sc2/3/\"}],\"completions\":[{\"url\":\"https://tivan.naver.com/sc2/4/\"}],\"attached\":[{\"url\":\"https://tivan.naver.com/sc2/10/\"}],\"renderedImpressions\":[{\"url\":\"https://tivan.naver.com/sc2/11/\"}],\"viewableImpressions\":[{\"url\":\"https://tivan.naver.com/sc2/12/\"}],\"loadErrors\":[{\"url\":\"https://tivan.naver.com/sc2/91/\"}],\"startErrors\":[{\"url\":\"https://tivan.naver.com/sc2/92/\"}],\"lazyRenderMediaFailed\":[{\"url\":\"https://tivan.naver.com/sc2/93/\"}],\"mute\":[{\"url\":\"https://tivan.naver.com/sc2/5/\"}],\"close\":[{\"url\":\"https://tivan.naver.com/sc2/6/\"}]},\"adUnit\":\"p_main_timeboard_v1\",\"randomNumber\":40,\"adDivId\":\"ad_timeboard\",\"advertiserDomains\":[\"m.game.naver.com\"],\"adDuplicationKeys\":[\"URL:https://m.game.naver.com/lounge/Echocalypse_Scarlet_Covenant/pre_campaign\"],\"ads\":[{\"encrypted\":\"mq_AJcs50SY71mrF3bn8EYexc8cyD2Hi8M3oNvLoSFs0u95sh7dEq-3hRe3zpzIW7F7osqEdt0UgXY7TT25j5bccMO_ys_F3i4v1PMvgPFLsff86vAA6XpoFP3JsTC8VQnWuo7E5Rc3hbNhlv7V6aO69d43guijdf5YbnbR3ChiT7GBxHY-cUco4wkCiS0Ep_CMY2tduIx7DjQPd56uqXW9IjhEOpV4YTuZ_vL43zZuVViriUHcixE7pTME10mYXpPmjRipOZQOmzXwIvFyPrMIr3Kc9kWBoKK1vMWuw8Ac4eBgBSCX4JDhfmyIpMbGH7B3Y_gTAqk6UzOIXcVAtgy5ICvZJalvJUUCQsWFbM6QqIHnpnxRd5-He379teuT_sfeFPpY3ZC-WSAQP-prw-cYBNg5dX30dKsTHYsoRRqhQr95k7xeOqBZyhtidxqu8b_8ylytVtQ82xzJ6I8CoUAiG4hwOcrtCs6JCT4ZUhsPN1q3wMdEKPg9Ua-zzbomZhxQjtd7talYwXcs6a912B0f8YOGAGTQBF9n7_MzVBSM6zepKuxe1iFU3S-TqANDQlYE7CwMivkr7aiCdyBKiS3VMzke7FD-pf-P6yy1RFHRfiHp0M9o63MLx18-Zcmy5IU5WRM7LtuawI0TZtOY9Tyd8WmgeE7Uzauhe2i8U2hstiwf9ztdEPJiV8oz_3wfeF41bwdEVtVlywHWEUgbbe4KYF-A5OPzHmeAi_it66e0=\",\"connectionType\":\"S2S\",\"adProviderType\":\"IN_NAVER\",\"adProviderName\":\"NDP_SF\",\"layoutType\":\"FLUID\",\"creativeType\":\"BANNER\",\"renderType\":\"SF\",\"eventTracking\":{\"ackImpressions\":[{\"url\":\"https://siape.veta.naver.com/openrtb/nurl?eu=EU10043565\\u0026calp=-\\u0026oj=cQgn6aire5OCUsAt0enUU10j%2BbOoldTqOO2eCLgZl%2F54C4SUMkNdU4Sji8OhGBJbJL1qM2Pf%2FakayJ4ZDYJROURuREn1uGk1hYfJX7PP9ZzIBWexIpibH0plqdgUSG%2BUXrQSw%2B%2FX1bbNCF9%2F110BZDp0hCNKO%2BcHo2M9jEOAPSLbaIdXv9YIFqKzdZWOwZvbdMAtSn%2B9Id4vH4MuGzFJiErLLp1Ox71Vg1K%2FFXnNMQA\\u0026ac=8974459\\u0026src=7114358\\u0026evtcd=BID_WIN\\u0026x_ti=1504\\u0026rk=RsiZDbHtiiKSu8QmI_h1hw\\u0026eltts=E2OluS6BraaKTzRlhopYlg%3D%3D\\u0026brs=Y\\u0026\"}],\"attached\":[],\"activeViewImpressions\":[],\"renderedImpressions\":[],\"viewableImpressions\":[],\"clicks\":[],\"vimp1px\":[],\"vimp100\":[],\"vimp100p\":[],\"admute\":[],\"advmute\":[],\"like\":[],\"unlike\":[],\"close\":[],\"bounce\":[]},\"adInfo\":{\"placeId\":\"6436232db28a76002ea3f30c\",\"adomain\":[\"m.game.naver.com\"],\"cid\":\"1495675\",\"crid\":\"2639052\",\"exp\":28,\"adm\":\"%3Cscript%20src%3D%22https%3A%2F%2Fssl.pstatic.net%2Fmelona%2Flibs%2Fglad%2Fbridge%2Fgfp-bridge.js%22%3E%3C%2Fscript%3E%0D%0A%0D%0A%3Ca%20href%3D%22https%3A%2F%2Fsiape.veta.naver.com%2Ffxclick%3Feu%3DEU10043565%26calp%3D-%26oj%3DcQgn6aire5OCUsAt0enUU10j%252BbOoldTqOO2eCLgZl%252F54C4SUMkNdU4Sji8OhGBJbJL1qM2Pf%252FakayJ4ZDYJROURuREn1uGk1hYfJX7PP9ZzIBWexIpibH0plqdgUSG%252BUXrQSw%252B%252FX1bbNCF9%252F110BZDp0hCNKO%252BcHo2M9jEOAPSLbaIdXv9YIFqKzdZWOwZvbdMAtSn%252B9Id4vH4MuGzFJiErLLp1Ox71Vg1K%252FFXnNMQA%26ac%3D8974459%26src%3D7114358%26br%3D4526660%26evtcd%3DP901%26x_ti%3D1504%26tb%3D%26oid%3D%26sid1%3D%26sid2%3D%26rk%3DRsiZDbHtiiKSu8QmI_h1hw%26eltts%3DE2OluS6BraaKTzRlhopYlg%253D%253D%26lu%3D%26brs%3DY%26%22%20id%3D%22ac_banner_a%22%20target%3D%22_blank%22%20style%3D%22display%3Ablock%22%3E%0D%0A%20%20%20%20%3Cimg%20src%3D%22https%3A%2F%2Fssl.pstatic.net%2Fmelona%2Flibs%2F1495%2F1495675%2F6dc638e2faef0066d250_20240605142203582_1.jpg%22%20width%3D%22830%22%20height%3D%22130%22%20alt%3D%22%5B%EA%B4%91%EA%B3%A0%5D6%EC%9B%94%205%EC%9D%BC%20%EA%B7%B8%EB%9E%9C%EB%93%9C%20%EC%98%A4%ED%94%88%20%EB%AA%A8%EB%93%A0%20%EC%88%9C%EA%B0%84%EC%9D%B4%20%EC%8B%9C%EC%84%A0%EA%B0%95%ED%83%88%20%EC%97%90%EC%BD%94%EC%B9%BC%EB%A6%BD%EC%8A%A4%20%EC%A7%84%ED%99%8D%EC%9D%98%20%EC%84%9C%EC%95%BD%20%EC%A7%80%EA%B8%88%20%EB%B0%94%EB%A1%9C%20%EB%8B%A4%EC%9A%B4%EB%A1%9C%EB%93%9C%22%3E%0D%0A%3C%2Fa%3E%0D%0A%0D%0A%3Cscript%20type%3D%22text%2Fjavascript%22%20src%3D%22https%3A%2F%2Fssl.pstatic.net%2Fmelona%2Flibs%2Fassets%2Fjs%2Fpc%2Fmain%2Fmin%2Fpc.veta.core.min.js%3F20240228%22%3E%3C%2Fscript%3E%0D%0A%3Cscript%20type%3D%22text%2Fjavascript%22%3E%0D%0A%20%20%20%20%28function%28ns%2C%20bridge%29%20%7B%0D%0A%20%20%20%20%20%20%20%20var%20LOG%20%3D%20%7B%0D%0A%20%20%20%20%20%20%20%20%20%20%20%20VIEWABLED%3A%20%22https%3A%2F%2Fsiape.veta.naver.com%2Ffxview%3Feu%3DEU10043565%26calp%3D-%26oj%3DcQgn6aire5OCUsAt0enUU10j%252BbOoldTqOO2eCLgZl%252F54C4SUMkNdU4Sji8OhGBJbJL1qM2Pf%252FakayJ4ZDYJROURuREn1uGk1hYfJX7PP9ZzIBWexIpibH0plqdgUSG%252BUXrQSw%252B%252FX1bbNCF9%252F110BZDp0hCNKO%252BcHo2M9jEOAPSLbaIdXv9YIFqKzdZWOwZvbdMAtSn%252B9Id4vH4MuGzFJiErLLp1Ox71Vg1K%252FFXnNMQA%26ac%3D8974459%26src%3D7114358%26evtcd%3DV900%26x_ti%3D1504%26tb%3D%26oid%3D%26sid1%3D%26sid2%3D%26rk%3DRsiZDbHtiiKSu8QmI_h1hw%26eltts%3DE2OluS6BraaKTzRlhopYlg%253D%253D%26brs%3DY%26%26eid%3DV900%22%2C%0D%0A%20%20%20%20%20%20%20%20%20%20%20%20RENDERED%3A%20%22https%3A%2F%2Fsiape.veta.naver.com%2Ffxview%3Feu%3DEU10043565%26calp%3D-%26oj%3DcQgn6aire5OCUsAt0enUU10j%252BbOoldTqOO2eCLgZl%252F54C4SUMkNdU4Sji8OhGBJbJL1qM2Pf%252FakayJ4ZDYJROURuREn1uGk1hYfJX7PP9ZzIBWexIpibH0plqdgUSG%252BUXrQSw%252B%252FX1bbNCF9%252F110BZDp0hCNKO%252BcHo2M9jEOAPSLbaIdXv9YIFqKzdZWOwZvbdMAtSn%252B9Id4vH4MuGzFJiErLLp1Ox71Vg1K%252FFXnNMQA%26ac%3D8974459%26src%3D7114359%26evtcd%3DV602%26x_ti%3D1504%26tb%3D%26oid%3D%26sid1%3D%26sid2%3D%26rk%3DRsiZDbHtiiKSu8QmI_h1hw%26eltts%3DE2OluS6BraaKTzRlhopYlg%253D%253D%26brs%3DY%26%26eid%3DV810%22%0D%0A%20%20%20%20%20%20%20%20%7D%3B%0D%0A%0D%0A%20%20%20%20%20%20%20%20var%20util%20%3D%20ns.Util%20%3F%20new%20ns.Util%28%29%20%3A%20new%20NBP_CORP.Nimp%28%29%3B%0D%0A%20%20%20%20%20%20%20%20var%20gladSdkBridge%20%3D%20bridge.createSdkBridge%28%29%3B%0D%0A%20%20%20%20%20%20%20%20var%20eventList%20%3D%20%7B%7D%3B%0D%0A%0D%0A%20%20%20%20%20%20%20%20%2F%2F%20%EC%9D%91%EB%8B%B5%EB%85%B8%EC%B6%9C%0D%0A%20%20%20%20%20%20%20%20util.log%28LOG.RENDERED%29%3B%0D%0A%0D%0A%20%20%20%20%20%20%20%20%2F%2F%20%EC%9C%A0%ED%9A%A8%EB%85%B8%EC%B6%9C%0D%0A%20%20%20%20%20%20%20%20eventList%5Bbridge.EVENT.VIEWABLED%5D%20%3D%20function%28%29%20%7B%0D%0A%20%20%20%20%20%20%20%20%20%20%20%20util.log%28LOG.VIEWABLED%29%3B%0D%0A%20%20%20%20%20%20%20%20%7D%3B%0D%0A%0D%0A%20%20%20%20%20%20%20%20gladSdkBridge.setEventListeners%28eventList%29%3B%0D%0A%20%20%20%20%7D%29%28%0D%0A%20%20%20%20%20%20%20%20window.naver_corp_da%20%7C%7C%20%7B%7D%2C%0D%0A%20%20%20%20%20%20%20%20window.gladBridge%0D%0A%20%20%20%20%29%3B%0D%0A%3C%2Fscript%3E\",\"encoded\":1,\"responseSize\":{\"height\":130,\"width\":830,\"force\":0},\"template\":\"%3C%21doctype%20html%3E%3Chtml%3E%3Chead%3E%3Cmeta%20name%3D%22viewport%22%20content%3D%22width%3Ddevice-width%2C%20user-scalable%3Dno%22%2F%3E%3Cstyle%20data-gfp-role%3D%22adMarkLegacyStyle%22%3E%5Bdata-gfp-role%3D%22adMarkLegacy%22%5D%20%7Bdisplay%3A%20none%3B%7D%3C%2Fstyle%3E%3Cscript%3Ewindow.gladBridge%20%3D%20%7BRUNTIME%3A%20%22InApp%22%7D%3B%3C%2Fscript%3E%3C%2Fhead%3E%3Cbody%20style%3D%22margin%3A%200%3B%20padding%3A%200%22%3E%7B%7Badm%7D%7D%3Cscript%20src%3D%22https%3A%2F%2Fssl.pstatic.net%2Ftveta%2Flibs%2Fglad_admute%2Fprod%2Fglad-admute.js%22%3E%3C%2Fscript%3E%3Cscript%3Econst%20adMuteOptions%20%3D%20%7BmuteUrl%3A%20%22%25%25MUTE_URL%25%25%22%2C%20privacyUrl%3A%20%22%25%25PRIV_URL%25%25%22%2C%20creativeType%3A%20%22BANNER%22%2C%20runtimeType%3A%20%22InApp%22%7D%3B%20if%28adMuteOptions.muteUrl%20%7C%7C%20adMuteOptions.privacyUrl%29%20%7B%20window.gladAdMute.checkAdMarkLegacyStyle%28adMuteOptions%29%3B%20const%20adMuteController%20%3D%20window.gladAdMute.createAdMuteController%28adMuteOptions%29%3B%20adMuteController.render%28%29%3B%20%7D%3C%2Fscript%3E%3C%2Fbody%3E%3C%2Fhtml%3E\"}},{\"encrypted\":\"uWn6Cq7rHK5wY6kzp8d8TRZd0dafVx-pbxVjBzEjo3rg3L8SP7b1KlXPAP-LBHbTf4dJtApn8GttulatqWAAxHUCxjIL0u1v1-7vD8K5S1peY0sVl9-B7hOL0cwUOjBOSfks52z-v3H8HcgR33i6IEE9wtKLIKPwqFvUBERx-dovX3qnBr0fgAjexxf539nHEfzAla2PP8AfTEjUHnx5cBeml2BmXMHbDpFT8Ms1mte4cbKKhhaJ0Ys3PEQM0nvSP_u_Pm9cXJ0396RcZX58RUNBQo2RoD7pLsZGzPLwkAl4oBgkZM927P8k06xEgTsYK1oBUhXzFR0kM8QStRYa_QVqwaaE-NBguHVoW-7BLYs4fNeg0Gex-VzpqRq3A1_0mv5GTP_TQvanUu533dBYDfjpiNmQABz3igg59cWvmD4stihxnQ6J3W_i46-AurUgas3hZyCZUeKpLzluo_u-A9FXyOL7nrbNt0Cpt1iWgMEYoOomEXRzKeVmviyhL4VDCdHa1CV91s4jKZD8Ms2GmQ==\",\"connectionType\":\"S2S\",\"adProviderName\":\"GFP\",\"layoutType\":\"FLUID\",\"creativeType\":\"BANNER\",\"renderType\":\"EMPTY\",\"eventTracking\":{\"ackImpressions\":[{\"url\":\"https://siape.veta.naver.com/openrtb/nbackimp?eu=EU10043565\\u0026oj=cQgn6aire5OCUsAt0enUU10j%2BbOoldTqOO2eCLgZl%2F54C4SUMkNdU4Sji8OhGBJbJL1qM2Pf%2FakayJ4ZDYJROURuREn1uGk1hYfJX7PP9ZzIBWexIpibH0plqdgUSG%2BUXrQSw%2B%2FX1bbNCF9%2F110BZDp0hCNKO%2BcHo2M9jEOAPSLbaIdXv9YIFqKzdZWOwZvbdMAtSn%2B9Id4vH4MuGzFJiErLLp1Ox71Vg1K%2FFXnNMQA\\u0026evtcd=BID_LOSE\\u0026rk=RsiZDbHtiiKSu8QmI_h1hw\\u0026eltts=E2OluS6BraaKTzRlhopYlg%3D%3D\\u0026calp=-\\u0026ac=8974459\\u0026src=7114358\\u0026x_ti=1504\\u0026brs=Y\"}],\"attached\":[],\"activeViewImpressions\":[{\"url\":\"https://siape.veta.naver.com/openrtb/nbimp?oj=cQgn6aire5OCUsAt0enUU10j%2BbOoldTqOO2eCLgZl%2F54C4SUMkNdU4Sji8OhGBJbJL1qM2Pf%2FakayJ4ZDYJROURuREn1uGk1hYfJX7PP9ZzIBWexIpibH0plqdgUSG%2BUXrQSw%2B%2FX1bbNCF9%2F110BZDp0hCNKO%2BcHo2M9jEOAPSLbaIdXv9YIFqKzdZWOwZvbdMAtSn%2B9Id4vH4MuGzFJiErLLp1Ox71Vg1K%2FFXnNMQA\\u0026rk=RsiZDbHtiiKSu8QmI_h1hw\\u0026eltts=E2OluS6BraaKTzRlhopYlg%3D%3D\"}],\"renderedImpressions\":[],\"viewableImpressions\":[{\"url\":\"https://siape.veta.naver.com/openrtb/nbimp?oj=cQgn6aire5OCUsAt0enUU10j%2BbOoldTqOO2eCLgZl%2F54C4SUMkNdU4Sji8OhGBJbJL1qM2Pf%2FakayJ4ZDYJROURuREn1uGk1hYfJX7PP9ZzIBWexIpibH0plqdgUSG%2BUXrQSw%2B%2FX1bbNCF9%2F110BZDp0hCNKO%2BcHo2M9jEOAPSLbaIdXv9YIFqKzdZWOwZvbdMAtSn%2B9Id4vH4MuGzFJiErLLp1Ox71Vg1K%2FFXnNMQA\\u0026rk=RsiZDbHtiiKSu8QmI_h1hw\\u0026eltts=E2OluS6BraaKTzRlhopYlg%3D%3D\"}],\"clicks\":[],\"vimp1px\":[],\"vimp100\":[],\"vimp100p\":[],\"admute\":[],\"advmute\":[],\"like\":[],\"unlike\":[],\"close\":[],\"bounce\":[]},\"adInfo\":{\"responseSize\":{\"height\":0,\"width\":0}}}],\"config\":{\"imp\":{\"ratio\":100,\"ms\":0}}},\"additionalInfo\":{\"adCount\":1,\"adDuplicate\":{\"advertiserDomains\":[\"m.game.naver.com\"],\"adDuplicationKeys\":[\"URL:https://m.game.naver.com/lounge/Echocalypse_Scarlet_Covenant/pre_campaign\"]},\"adSize\":{\"h\":130,\"w\":830}}}\n",
      "</script> <div id=\"wrap\"> <div id=\"header\" role=\"banner\"> <div id=\"topSearchWrap\" class=\"header_inner\"> <div id=\"special-logo\" class=\"search_special_bg\"></div> <div id=\"timeboard-ex\" class=\"ad_area\" style=\"min-width:1340px\"> </div> <div id=\"search_area\" class=\"search_area\" style=\"border-color:#fff\"> <div class=\"search_group\"> <div id=\"search\" class=\"search_group_inner\"> <h1 id=\"special-input-logo\" class=\"search_logo\"></h1> <form id=\"sform\" name=\"search\" role=\"search\" action=\"https://search.naver.com/search.naver\" method=\"get\"> <fieldset> <legend class=\"blind\">검색</legend> <input type=\"hidden\" name=\"where\" value=\"nexearch\"/> <input type=\"hidden\" id=\"sm\" name=\"sm\" value=\"top_hty\"/> <input type=\"hidden\" id=\"fbm\" name=\"fbm\" value=\"0\"/> <input type=\"hidden\" id=\"acr\" name=\"acr\" value=\"\" disabled=\"disabled\"/> <input type=\"hidden\" id=\"acq\" name=\"acq\" value=\"\" disabled=\"disabled\"/> <input type=\"hidden\" id=\"qdt\" name=\"qdt\" value=\"\" disabled=\"disabled\"/> <input type=\"hidden\" id=\"ie\" name=\"ie\" value=\"utf8\"/> <input type=\"hidden\" id=\"acir\" name=\"acir\" value=\"\" disabled=\"disabled\"/> <input type=\"hidden\" id=\"os\" name=\"os\" value=\"\" disabled=\"disabled\"/> <input type=\"hidden\" id=\"bid\" name=\"bid\" value=\"\" disabled=\"disabled\"/> <input type=\"hidden\" id=\"pkid\" name=\"pkid\" value=\"\" disabled=\"disabled\"/> <input type=\"hidden\" id=\"eid\" name=\"eid\" value=\"\" disabled=\"disabled\"/> <input type=\"hidden\" id=\"mra\" name=\"mra\" value=\"\" disabled=\"disabled\"/> <div class=\"search_input_box\"> <input id=\"query\" name=\"query\" type=\"search\" title=\"검색어를 입력해 주세요.\" placeholder=\"검색어를 입력해 주세요.\" maxlength=\"255\" autocomplete=\"off\" class=\"search_input\" data-atcmp-element/> </div> <button type=\"submit\" class=\"btn_search\" onclick='window.nclk_v2(this,\"sch.action\")'> <span class=\"ico_btn_search_svg\"> <svg id=\"search-btn\" viewBox=\"0 0 50 50\" xmlns=\"http://www.w3.org/2000/svg\"> <path d=\"M22.13.5c11.378 0 20.632 9.256 20.632 20.63 0 4.699-1.566 9.155-4.439 12.782l10.164 10.165a2.41 2.41 0 0 1-1.706 4.115 2.412 2.412 0 0 1-1.706-.705L33.31 35.719a2.41 2.41 0 0 1 0-3.41 15.71 15.71 0 0 0 4.628-11.178c0-8.718-7.09-15.808-15.807-15.808-8.718 0-15.808 7.09-15.808 15.808 0 7.15 4.817 13.43 11.714 15.273a2.41 2.41 0 0 1 1.705 2.954 2.41 2.41 0 0 1-2.95 1.705C7.788 38.658 1.5 30.46 1.5 21.131 1.5 9.756 10.756.5 22.13.5zm4.716 34.746a3.483 3.483 0 1 1 0 6.966 3.483 3.483 0 0 1 0-6.966z\"/> </svg> </span> <span class=\"blind\">검색</span> </button> </fieldset> </form> <div class=\"search_box\"> <button id=\"ke_kbd_btn\" type=\"button\" class=\"btn_keyboard\" aria-pressed=\"false\"> <span class=\"keybord_text\"> <span class=\"blind\">입력도구</span> </span> </button> <div id=\"_nx_kbd\" style=\"display:none\"></div> <button id=\"nautocomplete\" type=\"button\" class=\"btn_arrow\" data-atcmp-element> <span class=\"blind\">자동완성/최근검색어펼치기</span> </button> </div> <div class=\"layer_atcmp\" id=\"autoFrame\" style=\"display:none\"> <div class=\"ly_atcmp\" data-atcmp-element> <div class=\"api_atcmp_wrap\"> <div class=\"atcmp_fixer _recent_layer\" style=\"display:none\"> <div class=\"atcmp_header _recent_header\"> <strong class=\"tit\">최근 검색어</strong> <div class=\"option\"> <a role=\"button\" href=\"#\" class=\"item _delAll\" aria-pressed=\"false\">전체삭제</a> </div> </div> <div class=\"atcmp_container\"> <ul class=\"kwd_lst _recent\"></ul> <div class=\"kwd_info kwd_off _offMsg\" style=\"display:none\">검색어 저장 기능이 꺼져 있습니다.<br/><span class=\"kwd_dsc\">설정이 초기화 된다면 <a href=\"https://help.naver.com/alias/search/word/word_35.naver\" class=\"kwd_help\" data-clk=\"sly.help\" target=\"_blank\">도움말</a>을 확인해주세요.</span></div> <div class=\"kwd_info kwd_none _recentNone\" style=\"display:none\">최근 검색어 내역이 없습니다.<br/><span class=\"kwd_dsc\">설정이 초기화 된다면 <a href=\"https://help.naver.com/alias/search/word/word_35.naver\" class=\"kwd_help\" data-clk=\"sly.help\" target=\"_blank\">도움말</a>을 확인해주세요.</span></div> </div> <div class=\"atcmp_footer\"> <span class=\"side_opt_area\"> <span class=\"opt_item\"> <a href=\"#\" class=\"close _keywordOnOff\">자동저장 끄기</a> </span> <span class=\"opt_item\"><a href=\"https://help.naver.com/alias/search/word/word_35.naver\" data-clk=\"sly.help\" target=\"_blank\">도움말</a></span> </span> <span class=\"rside_opt_area\"> <span class=\"opt_item\"><a href=\"#\" class=\"close _close\">닫기</a></span> </span> </div> </div> <div class=\"atcmp_fixer _atcmp_layer\" style=\"display:none\"> <div class=\"atcmp_container _words\"> <div class=\"atcmp_cue type_line _cue_root\"> <div class=\"cue_header\"><i class=\"imgsvg ico_cue\">CUE</i>대화하듯 질문해 보세요<a href=\"#\" role=\"button\" class=\"btn_help _tg_btn\" aria-pressed=\"false\"><i class=\"imgsvg ico_alert\">이 정보가 표시된 이유</i></a> <div class=\"layer_plus\"> <p class=\"dsc\">검색어와 포함된 키워드를 기반으로 AI 기술을 활용하여 연관된 추천 질문을 제공합니다.</p> <a href=\"#\" role=\"button\" class=\"btn_close _tg_btn\"><i class=\"imgsvg ico_close\">레이어 닫기</i></a> </div> </div> <div class=\"atcmp_pcpg_wrap cue_list\"> <ul class=\"atcmp_flicking_wrap _ul\"></ul> <div class=\"atcmp_btn_page\"> <div class=\"btn_prev _prev\"><a href=\"#\" role=\"button\" class=\"btn\"><i class=\"imgsvg ico_arr\">이전</i></a></div> <div class=\"btn_next _next\"><a href=\"#\" role=\"button\" class=\"btn\"><i class=\"imgsvg ico_arr\">다음</i></a></div> </div> </div> </div> <ul class=\"kwd_lst _kwd_list\"></ul> <div class=\"atcmp_alert _alert\"> <div class=\"dsc_election\"> <p class=\"dsc\"> <i class=\"imgsvg ico_election\"></i> <span class=\"_alert_passage\"></span> </p> <span class=\"dsc_inner\"> <span class=\"_alert_passage2\"></span> <a href=\"#\" class=\"link _alert_link\" target=\"_blank\">자세히보기</a> </span> </div> </div> <div class=\"atcmp_plus _plus\"> <div class=\"dsc_plus\"> <a href=\"https://help.naver.com/alias/search/word/word_16.naver\" class=\"link_dsc\" data-clk=\"sug.cxhelp\" target=\"_blank\">관심사를 반영한 컨텍스트 자동완성<i class=\"imgsvg ico_help\">도움말</i></a> </div> <div class=\"switch\"> <a role=\"button\" href=\"#\" class=\"bt_switch active _plus_btn\" aria-pressed=\"false\"><i class=\"imgsvg ico_option\">컨텍스트 자동완성</i></a> </div> <div class=\"layer_plus _plus_layer\"> <strong class=\"tit\">컨텍스트 자동완성</strong> <div class=\"_plus_layer_isloggedin\" style=\"display:none\"> <p class=\"dsc\">ON/OFF 설정은 해당기기(브라우저)에 저장됩니다.</p> <div class=\"btn_area\"> <a href=\"https://help.naver.com/alias/search/word/word_16.naver\" class=\"link_view\" data-clk=\"sug.cxlink\" target=\"_blank\">자세히 보기</a> </div> </div> <div class=\"_plus_layer_isnotloggedin\" style=\"display:none\"> <p class=\"dsc\">동일한 시간대・연령대・남녀별 사용자 그룹의 관심사에 맞춰 자동완성을 제공합니다. <a href=\"https://help.naver.com/support/alias/search/word/word_16.naver\" class=\"link_view\" data-clk=\"sug.cxlink\" target=\"_blank\">자세히 보기</a> </p> <div class=\"btn_area\"> <a href=\"https://nid.naver.com/nidlogin.login\" class=\"btn btn_login\" data-clk=\"sug.cxlogin\"><i class=\"imgsvg ico_naver\">네이버</i>로그인</a> </div> </div> <a href=\"#\" role=\"button\" class=\"btn_close _plus_layer_close\"><i class=\"imgsvg ico_close\">컨텍스트 자동완성 레이어 닫기</i></a> </div> </div> </div> <div class=\"atcmp_footer\"> <span class=\"side_opt_area\"> <span class=\"opt_item\"> <a href=\"#\" class=\"close _suggestOnOff\">자동완성 끄기</a> </span> <span class=\"opt_item\"><a href=\"https://help.naver.com/alias/search/word/word_17.naver\" data-clk=\"sug.help\" target=\"_blank\">도움말</a></span> <span class=\"opt_item\"><a href=\"https://help.naver.com/alias/search/word/word_18.naver\" class=\"report\" data-clk=\"sug.report\" target=\"_blank\">신고</a></span> </span> <span class=\"rside_opt_area\"> <span class=\"opt_item\"><a href=\"#\" class=\"close _close\">닫기</a></span> </span> </div> </div> </div> </div> </div> </div> </div> </div> <div id=\"search-right-first\"></div> <div id=\"search-right-second\"></div> <div id=\"shortcutArea\" class=\"shortcut_area\" role=\"navigation\" aria-label=\"주요 서비스\"></div> <div id=\"topAsideArea\" class=\"menu_area\"></div> <div id=\"topPayArea\" class=\"pay_area\"></div> <div id=\"topTalkArea\" class=\"talk_area\"></div> <div id=\"topNotiArea\" class=\"notify_area\"></div> <div id=\"topShoppingArea\" class=\"shopping_area\"></div> </div> </div> <div id=\"container\" role=\"main\"> <div id=\"root\"></div> </div> <div id=\"footer\" role=\"contentinfo\"></div> </div>      <script> window['EAGER-DATA'] = window['EAGER-DATA'] || {};\n",
      "        window['EAGER-DATA']['GV'] = {\n",
      "            svt: '20240607165930',  }; </script> <script>!function(){function t(t){var e=document.getElementById(\"search_area\"),n=document.getElementById(\"search-btn\");if(!t)return e&&e.removeAttribute(\"style\"),void(n&&n.setAttribute(\"style\",\"fill: #03c75a\"));e&&e.setAttribute(\"style\",\"border-color: \"+t),n&&n.setAttribute(\"class\",\"ico_btn_search type_color\"),n&&n.setAttribute(\"style\",\"fill: \"+t)}var e=window[\"EAGER-DATA\"][\"CAS-MINICONTENT-PC-SPECIAL-LOGO\"];if(!e||!e.items||e.items.length>0==!1)return void t();var n=Math.floor(Math.random()*e.items.length),i=e.items[n];e.items=[i],t(i&&i.content&&i.content.input&&i.content.input.color);const l=document.getElementById(\"search\");l&&l.classList.add(\"type_special_logo_full\"),window.addEventListener(\"header-sticky-state-change\",(function(){var t;(t=document.getElementById(\"header\"))&&t.classList.contains(\"ani_fixed\")?l&&l.classList.remove(\"type_special_logo_full\"):l&&l.classList.add(\"type_special_logo_full\")}));var o=i&&i.content&&i.content.input&&i.content.input.placeholder;if(o){var s=document.getElementById(\"query\");s&&o&&s.setAttribute(\"title\",o),s&&o&&s.setAttribute(\"placeholder\",o)}}()</script> </body> </html> \n"
     ]
    }
   ],
   "source": [
    "import requests\n",
    "\n",
    "url = \"https://www.naver.com\"\n",
    "response = requests.get(url)\n",
    "\n",
    "# HTTP 응답 상태 코드 확인\n",
    "print(response.status_code)  # 200 (성공)\n",
    "\n",
    "# 응답 본문(HTML 소스) 확인\n",
    "print(response.text)"
   ]
  },
  {
   "cell_type": "markdown",
   "metadata": {},
   "source": [
    "### 2. BeautifulSoup 라이브러리\n",
    "\n",
    "- **소개:** BeautifulSoup은 HTML 및 XML 파일을 파싱하고 탐색할 수 있게 해주는 파이썬 라이브러리입니다. 이를 통해 원하는 데이터 요소를 쉽게 추출할 수 있습니다.\n",
    "- **설치:** `pip install beautifulsoup4`\n",
    "- **기본 사용법:**"
   ]
  },
  {
   "cell_type": "code",
   "execution_count": 5,
   "metadata": {},
   "outputs": [
    {
     "name": "stdout",
     "output_type": "stream",
     "text": [
      "Hello, World!\n"
     ]
    }
   ],
   "source": [
    "from bs4 import BeautifulSoup\n",
    "\n",
    "html_content = \"<html><body><h1>Hello, World!</h1></body></html>\"\n",
    "soup = BeautifulSoup(html_content, 'html.parser')\n",
    "\n",
    "# 특정 요소 찾기\n",
    "heading = soup.find('h1').text\n",
    "print(heading)  # Hello, World!"
   ]
  },
  {
   "cell_type": "markdown",
   "metadata": {},
   "source": [
    "### 3. Requests와 BeautifulSoup을 이용한 웹 크롤링\n",
    "\n",
    "- **단계 1:** Requests를 사용하여 웹 페이지의 HTML 소스를 가져옵니다.\n",
    "- **단계 2:** BeautifulSoup을 사용하여 HTML 소스를 파싱하고 원하는 데이터를 추출합니다."
   ]
  },
  {
   "cell_type": "code",
   "execution_count": 6,
   "metadata": {},
   "outputs": [
    {
     "data": {
      "text/plain": [
       "'\"\"\\n<!DOCTYPE html>\\n<html>\\n<head>\\n    <title>Sample HTML</title>\\n</head>\\n<body>\\n    <h1 id=\"main-title\">Welcome to the Sample Page</h1>\\n    <div class=\"content\">\\n        <p class=\"description\">This is a simple HTML page for Selenium testing.</p>\\n        <ul>\\n            <li class=\"item\">Item 1</li>\\n            <li class=\"item\">Item 2</li>\\n            <li class=\"item\">Item 3</li>\\n        </ul>\\n    </div>\\n    <footer>\\n        <p>Contact us at <a href=\"mailto:example@example.com\">example@example.com</a></p>\\n    </footer>\\n</body>\\n</html>\\n'"
      ]
     },
     "execution_count": 6,
     "metadata": {},
     "output_type": "execute_result"
    }
   ],
   "source": [
    "html_code = \"\"\"\"\"\n",
    "<!DOCTYPE html>\n",
    "<html>\n",
    "<head>\n",
    "    <title>Sample HTML</title>\n",
    "</head>\n",
    "<body>\n",
    "    <h1 id=\"main-title\">Welcome to the Sample Page</h1>\n",
    "    <div class=\"content\">\n",
    "        <p class=\"description\">This is a simple HTML page for Selenium testing.</p>\n",
    "        <ul>\n",
    "            <li class=\"item\">Item 1</li>\n",
    "            <li class=\"item\">Item 2</li>\n",
    "            <li class=\"item\">Item 3</li>\n",
    "        </ul>\n",
    "    </div>\n",
    "    <footer>\n",
    "        <p>Contact us at <a href=\"mailto:example@example.com\">example@example.com</a></p>\n",
    "    </footer>\n",
    "</body>\n",
    "</html>\n",
    "\"\"\"\"\"\n",
    "\n",
    "html_code"
   ]
  },
  {
   "cell_type": "code",
   "execution_count": 7,
   "metadata": {},
   "outputs": [
    {
     "data": {
      "text/plain": [
       "'\"\"\\n\\n\\n\\nSample HTML\\n\\n\\nWelcome to the Sample Page\\n\\nThis is a simple HTML page for Selenium testing.\\n\\nItem 1\\nItem 2\\nItem 3\\n\\n\\n\\nContact us at example@example.com\\n\\n\\n\\n'"
      ]
     },
     "execution_count": 7,
     "metadata": {},
     "output_type": "execute_result"
    }
   ],
   "source": [
    "# BeautifulSoup으로 파싱\n",
    "soup = BeautifulSoup(html_code, 'html.parser')\n",
    "soup.text"
   ]
  },
  {
   "cell_type": "code",
   "execution_count": 8,
   "metadata": {},
   "outputs": [
    {
     "data": {
      "text/plain": [
       "'Sample HTML'"
      ]
     },
     "execution_count": 8,
     "metadata": {},
     "output_type": "execute_result"
    }
   ],
   "source": [
    "# 1. ID로 요소 찾기\n",
    "soup.find(\"title\").text"
   ]
  },
  {
   "cell_type": "code",
   "execution_count": 9,
   "metadata": {},
   "outputs": [
    {
     "data": {
      "text/plain": [
       "'Welcome to the Sample Page'"
      ]
     },
     "execution_count": 9,
     "metadata": {},
     "output_type": "execute_result"
    }
   ],
   "source": [
    "soup.find(id=\"main-title\").text"
   ]
  },
  {
   "cell_type": "code",
   "execution_count": 10,
   "metadata": {},
   "outputs": [],
   "source": [
    "# 2. 클래스 이름으로 요소 찾기\n",
    "soup.find(class_=\"title\")"
   ]
  },
  {
   "cell_type": "code",
   "execution_count": 11,
   "metadata": {},
   "outputs": [
    {
     "name": "stdout",
     "output_type": "stream",
     "text": [
      "Item 1\n",
      "Item 2\n",
      "Item 3\n"
     ]
    }
   ],
   "source": [
    "# 2. find_all 이용.\n",
    "soup.find_all(class_=\"item\")\n",
    "\n",
    "for li in soup.find_all(class_= \"item\"):\n",
    "    print(li.text)"
   ]
  },
  {
   "cell_type": "markdown",
   "metadata": {},
   "source": [
    "### 문제: BeautifulSoup을 사용하여 다음을 수행하세요.\n",
    "\n",
    "1. ID가 `main-title`인 요소의 텍스트를 가져와 출력하세요.\n",
    "2. 클래스 이름이 `description`인 요소의 텍스트를 가져와 출력하세요.\n",
    "3. 태그 이름이 `li`인 모든 요소를 찾아 각각의 텍스트를 출력하세요.\n",
    "4. 링크 텍스트가 `example@example.com`인 요소의 `href` 속성을 가져와 출력하세요.\n",
    "5. CSS 선택자를 사용하여 ID가 `main-title`인 요소의 텍스트를 가져와 출력하세요.\n",
    "6. CSS 선택자를 사용하여 클래스 이름이 `description`인 요소의 텍스트를 가져와 출력하세요.\n",
    "7. CSS 선택자를 사용하여 `ul` 태그 안에 있는 클래스 이름이 `item`인 모든 `li` 요소를 찾아 각각의 텍스트를 출력하세요."
   ]
  },
  {
   "cell_type": "code",
   "execution_count": 12,
   "metadata": {},
   "outputs": [
    {
     "data": {
      "text/plain": [
       "'Welcome to the Sample Page'"
      ]
     },
     "execution_count": 12,
     "metadata": {},
     "output_type": "execute_result"
    }
   ],
   "source": [
    "soup.find(id=\"main-title\").text"
   ]
  },
  {
   "cell_type": "code",
   "execution_count": 13,
   "metadata": {},
   "outputs": [
    {
     "data": {
      "text/plain": [
       "'Welcome to the Sample Page'"
      ]
     },
     "execution_count": 13,
     "metadata": {},
     "output_type": "execute_result"
    }
   ],
   "source": [
    "soup.select_one(\"#main-title\").text"
   ]
  },
  {
   "cell_type": "code",
   "execution_count": 14,
   "metadata": {},
   "outputs": [
    {
     "data": {
      "text/plain": [
       "'This is a simple HTML page for Selenium testing.'"
      ]
     },
     "execution_count": 14,
     "metadata": {},
     "output_type": "execute_result"
    }
   ],
   "source": [
    "soup.find(class_=\"description\").text"
   ]
  },
  {
   "cell_type": "code",
   "execution_count": 15,
   "metadata": {},
   "outputs": [
    {
     "data": {
      "text/plain": [
       "'This is a simple HTML page for Selenium testing.'"
      ]
     },
     "execution_count": 15,
     "metadata": {},
     "output_type": "execute_result"
    }
   ],
   "source": [
    "soup.select_one(\".description\").text"
   ]
  },
  {
   "cell_type": "code",
   "execution_count": 16,
   "metadata": {},
   "outputs": [
    {
     "name": "stdout",
     "output_type": "stream",
     "text": [
      "Item 1\n",
      "Item 2\n",
      "Item 3\n"
     ]
    }
   ],
   "source": [
    "for item in soup.find_all(class_=\"item\"):\n",
    "    print(item.text)"
   ]
  },
  {
   "cell_type": "code",
   "execution_count": 17,
   "metadata": {},
   "outputs": [
    {
     "name": "stdout",
     "output_type": "stream",
     "text": [
      "Item 1\n",
      "Item 2\n"
     ]
    }
   ],
   "source": [
    "for item in soup.find_all(class_=\"item\", limit=2):\n",
    "    print(item.text)"
   ]
  },
  {
   "cell_type": "code",
   "execution_count": 18,
   "metadata": {},
   "outputs": [
    {
     "data": {
      "text/plain": [
       "['Item 1', 'Item 2', 'Item 3']"
      ]
     },
     "execution_count": 18,
     "metadata": {},
     "output_type": "execute_result"
    }
   ],
   "source": [
    "# 리스트컴프레이션 이용.\n",
    "[item.text for item in soup.find_all(class_=\"item\")]"
   ]
  },
  {
   "cell_type": "code",
   "execution_count": 19,
   "metadata": {},
   "outputs": [
    {
     "data": {
      "text/plain": [
       "'example@example.com'"
      ]
     },
     "execution_count": 19,
     "metadata": {},
     "output_type": "execute_result"
    }
   ],
   "source": [
    "soup.find(href=\"mailto:example@example.com\").text"
   ]
  },
  {
   "cell_type": "code",
   "execution_count": 20,
   "metadata": {},
   "outputs": [
    {
     "data": {
      "text/plain": [
       "'example@example.com'"
      ]
     },
     "execution_count": 20,
     "metadata": {},
     "output_type": "execute_result"
    }
   ],
   "source": [
    "# 태그 사용.\n",
    "soup.find(\"a\", href=\"mailto:example@example.com\").text"
   ]
  },
  {
   "cell_type": "code",
   "execution_count": 21,
   "metadata": {},
   "outputs": [
    {
     "name": "stdout",
     "output_type": "stream",
     "text": [
      "Main Title: Welcome to the Sample Page\n",
      "Description: This is a simple HTML page for testing.\n",
      "List Item: Item 1\n",
      "List Item: Item 2\n",
      "List Item: Item 3\n",
      "Contact Link: mailto:example@example.com\n",
      "Main Title (CSS): Welcome to the Sample Page\n",
      "Description (CSS): This is a simple HTML page for testing.\n",
      "List Item (CSS): Item 1\n",
      "List Item (CSS): Item 2\n",
      "List Item (CSS): Item 3\n"
     ]
    }
   ],
   "source": [
    "from bs4 import BeautifulSoup\n",
    "\n",
    "# 샘플 HTML\n",
    "html_content = \"\"\"\n",
    "<!DOCTYPE html>\n",
    "<html>\n",
    "<head>\n",
    "    <title>Sample HTML</title>\n",
    "</head>\n",
    "<body>\n",
    "    <h1 id=\"main-title\">Welcome to the Sample Page</h1>\n",
    "    <div class=\"content\">\n",
    "        <p class=\"description\">This is a simple HTML page for testing.</p>\n",
    "        <ul>\n",
    "            <li class=\"item\">Item 1</li>\n",
    "            <li class=\"item\">Item 2</li>\n",
    "            <li class=\"item\">Item 3</li>\n",
    "        </ul>\n",
    "    </div>\n",
    "    <footer>\n",
    "        <p>Contact us at <a href=\"mailto:example@example.com\">example@example.com</a></p>\n",
    "    </footer>\n",
    "</body>\n",
    "</html>\n",
    "\"\"\"\n",
    "\n",
    "# BeautifulSoup으로 파싱\n",
    "soup = BeautifulSoup(html_content, 'html.parser')\n",
    "\n",
    "# 1. ID로 요소 찾기\n",
    "main_title = soup.find(id='main-title')\n",
    "print('Main Title:', main_title.text)\n",
    "\n",
    "# 2. 클래스 이름으로 요소 찾기\n",
    "description = soup.find(class_='description')\n",
    "print('Description:', description.text)\n",
    "\n",
    "# 3. 태그 이름으로 요소 찾기\n",
    "items = soup.find_all('li')\n",
    "for item in items:\n",
    "    print('List Item:', item.text)\n",
    "\n",
    "# 4. 링크 텍스트로 요소 찾기\n",
    "contact_link = soup.find('a', href='mailto:example@example.com')\n",
    "print('Contact Link:', contact_link['href'])\n",
    "\n",
    "# 5. CSS 선택자로 요소 찾기 (ID)\n",
    "main_title_css = soup.select_one('#main-title')\n",
    "print('Main Title (CSS):', main_title_css.text)\n",
    "\n",
    "# 6. CSS 선택자로 요소 찾기 (클래스 이름)\n",
    "description_css = soup.select_one('.description')\n",
    "print('Description (CSS):', description_css.text)\n",
    "\n",
    "# 7. CSS 선택자로 요소 찾기 (태그 안 클래스)\n",
    "items_css = soup.select('ul li.item')\n",
    "for item in items_css:\n",
    "    print('List Item (CSS):', item.text)\n"
   ]
  },
  {
   "cell_type": "markdown",
   "metadata": {},
   "source": [
    "# 6. 웹 페이지에서 테이블 데이터 추출\n",
    "\n",
    "웹 페이지에서 테이블 데이터를 추출하는 것은 매우 일반적인 작업입니다. BeautifulSoup을 사용하여 HTML 테이블 데이터를 파싱하고 원하는 형식으로 추출하는 방법을 학습해보겠습니다.\n",
    "\n",
    "### 1. 테이블 데이터 추출 과정\n",
    "\n",
    "- **단계 1:** 웹 페이지의 HTML 소스를 Requests를 사용하여 가져옵니다.\n",
    "- **단계 2:** BeautifulSoup을 사용하여 HTML 소스를 파싱합니다.\n",
    "- **단계 3:** `find` 또는 `find_all` 메서드를 사용하여 테이블 요소를 찾습니다.\n",
    "- **단계 4:** 테이블 행(`<tr>`)과 셀(`<td>`, `<th>`)을 반복하면서 데이터를 추출합니다."
   ]
  },
  {
   "cell_type": "code",
   "execution_count": 23,
   "metadata": {},
   "outputs": [
    {
     "name": "stdout",
     "output_type": "stream",
     "text": [
      "Failed to retrieve the webpage. Status code: 500\n"
     ]
    }
   ],
   "source": [
    "import requests\n",
    "from bs4 import BeautifulSoup\n",
    "import pandas as pd\n",
    "\n",
    "# 단계 1: 웹 페이지의 HTML 소스 가져오기\n",
    "url = \"https://example.com/table-page\"\n",
    "response = requests.get(url)\n",
    "\n",
    "# HTTP 응답 상태 코드 확인\n",
    "if response.status_code == 200:\n",
    "    html_content = response.text\n",
    "\n",
    "    # 단계 2: BeautifulSoup을 이용하여 HTML 파싱\n",
    "    soup = BeautifulSoup(html_content, 'html.parser')\n",
    "\n",
    "    # 단계 3: 테이블 요소 찾기\n",
    "    table = soup.find('table')\n",
    "\n",
    "    # 단계 4: 테이블 행과 셀 반복하여 데이터 추출\n",
    "    headers = []\n",
    "    rows = []\n",
    "    for row in table.find_all('tr'):\n",
    "        cells = row.find_all(['td', 'th'])\n",
    "        if row.find('th'):\n",
    "            headers = [cell.text.strip() for cell in cells]\n",
    "        else:\n",
    "            rows.append([cell.text.strip() for cell in cells])\n",
    "\n",
    "    # 데이터프레임으로 변환 (옵션)\n",
    "    df = pd.DataFrame(rows, columns=headers)\n",
    "    print(df)\n",
    "else:\n",
    "    print(\"Failed to retrieve the webpage. Status code:\", response.status_code)\n"
   ]
  },
  {
   "cell_type": "markdown",
   "metadata": {},
   "source": [
    "# 7. 동적 웹 페이지 이해와 Selenium 사용법\n",
    "\n",
    "동적 웹 페이지는 클라이언트 측(JavaScript)에서 콘텐츠를 생성하거나 업데이트하는 웹 페이지를 의미합니다. 이런 페이지는 서버에서 HTML을 완전히 제공하지 않고, 웹 브라우저가 JavaScript 코드를 실행하여 콘텐츠를 로드하거나 업데이트합니다. 이러한 특성 때문에 정적 HTML 페이지와는 다르게 크롤링하는 방법이 필요합니다.\n",
    "\n",
    "### 1. 동적 웹 페이지의 특징\n",
    "\n",
    "- **JavaScript 실행:** 페이지 로드 시 JavaScript가 실행되어 콘텐츠가 동적으로 변경됩니다.\n",
    "- **Ajax 요청:** JavaScript는 서버에 추가 요청을 보내어 데이터를 가져와 페이지를 업데이트합니다.\n",
    "- **SPA(Single Page Application):** URL 변경 없이 페이지 내에서 동적으로 콘텐츠를 로드하여 사용자 경험을 향상시킵니다.\n",
    "\n",
    "### 2. 동적 웹 페이지 크롤링 방법\n",
    "\n",
    "동적 웹 페이지에서 데이터를 추출하려면 JavaScript를 실행할 수 있는 도구를 사용해야 합니다. 가장 일반적으로 사용되는 도구는 Selenium입니다.\n",
    "\n",
    "### 3. Selenium 사용법 소개\n",
    "\n",
    "Selenium은 웹 브라우저를 자동화하는 도구로, 웹 브라우저를 실제 사용자처럼 조작할 수 있습니다. 이를 통해 JavaScript가 렌더링한 콘텐츠를 크롤링할 수 있습니다.\n",
    "\n",
    "### 설치:\n",
    "\n",
    "- **Selenium 라이브러리:** `pip install selenium`\n",
    "- **웹 드라이버:** 크롤링하려는 브라우저에 맞는 웹 드라이버를 설치합니다. (예: ChromeDriver, GeckoDriver)\n",
    "\n",
    "### 기본 사용법:"
   ]
  },
  {
   "cell_type": "code",
   "execution_count": 28,
   "metadata": {},
   "outputs": [
    {
     "name": "stdout",
     "output_type": "stream",
     "text": [
      "__next: 네이버\n",
      "쇼핑 홈\n",
      "상품명 또는 브랜드 입력\n",
      "장바구니\n",
      "맨위로가기\n",
      "닫기\n",
      "배너 번호지표\n",
      "현재 배너\n",
      "1\n",
      "페이지\n",
      "/\n",
      "전체 배너\n",
      "4\n",
      "페이지\n",
      "하루 동안 보지 않기\n",
      "레이어 닫기\n",
      "쇼핑홈\n",
      "선택됨\n",
      "카테고리\n",
      "마이\n",
      "전체서비스\n",
      "테마관 레이어 닫기\n",
      "테마관 레이어\n",
      "도착보장\n",
      "쇼핑라이브\n",
      "원쁠딜\n",
      "패션타운\n",
      "장보기\n",
      "선물샵\n",
      "럭셔리\n",
      "미스터\n",
      "리빙윈도\n",
      "푸드윈도\n",
      "키즈윈도\n",
      "네이버펫\n",
      "플레이윈도\n",
      "아트윈도\n",
      "도서\n",
      "FOR YOU\n",
      "AiTEMS\n",
      "BEST\n",
      "기획전\n",
      "천원샵\n",
      "나란히가게\n",
      "네이버쇼핑 홈\n",
      "로그인을 진행해주세요\n",
      "로그인\n",
      "도착보장\n",
      "쇼핑라이브\n",
      "원쁠딜\n",
      "패션타운\n",
      "장보기\n",
      "선물샵\n",
      "럭셔리\n",
      "미스터\n",
      "리빙윈도\n",
      "푸드윈도\n",
      "키즈윈도\n",
      "펫\n",
      "천원샵\n",
      "나란히가게\n",
      "브랜드맵\n",
      "플레이윈도\n",
      "아트윈도\n",
      "도서\n",
      "기획전\n",
      "BEST\n",
      "AiTEMS\n",
      "추천쇼핑\n",
      "강세일\n",
      "멤버십특가\n",
      "여성패션\n",
      "남성패션\n",
      "디지털\n",
      "식품\n",
      "화장품/미용\n",
      "출산/유아동\n",
      "반려동물용품\n",
      "스포츠/레저\n",
      "가구/인테리어\n",
      "자동차/공구\n",
      "컴퓨터\n",
      "가전\n",
      "생활/주방용품\n",
      "건강/의료용품\n",
      "취미/문구/악기\n",
      "E쿠폰/티켓\n",
      "해외여행\n",
      "정기구독\n",
      "친환경/인증\n",
      "공식렌탈\n",
      "지금 바로 확인하세요!\n",
      "오늘의 행사\n",
      "브랜드데이 일정\n",
      "브랜드DAY\n",
      "몰리멜리 디즈니 서머룩 외 ~74%↓\n",
      "~70%↓배럴 래시가드 3만 원대~\n",
      "강세일\n",
      "나르왈 완성형 올인원 로봇청소기 특가\n",
      "추가쿠폰\n",
      "냄새 꽉 음식물 쓰레기통 41%↓\n",
      "특가보장\n",
      "한돈 구이용 500g+목살 500g 38%↓\n",
      "~37%↓코리아보드게임즈 강력 특가\n",
      "네이버 도착보장\n",
      "아토앤오투 단 하루 대용량 특가\n",
      "최저가닥터멜락신 ~67% 한정 세일\n",
      "네이버 도착보장\n",
      "슈콤마보니 SS 베스트 샌들 ~50%↓\n",
      "뜨는 스타일 모음구경만 해도 센스 업그레이드\n",
      "연중 최대 세일탑텐 쿨에어 캐미솔 외 신상 50%\n",
      "요즘 주목받고 있는\n",
      "인테리어선반\n",
      "이번달\n",
      "리뷰수 BEST\n",
      "상품\n",
      "15,600원\n",
      "선반 수납선반 다용도 철제선반 시스템 조립 팬트리 랙 모듈 다용도실 선반장\n",
      "네이버 도착보장\n",
      "28,250원\n",
      "선반 수납선반 시스템 다용도선반 철제 조립 모듈 팬트리 랙 홈던트하우스\n",
      "11,300원\n",
      "수납선반 다용도선반 무볼트 조립 철제 팬트리 모듈 랙 선반\n",
      "4,900원\n",
      "못없이 벽에붙이는선반 무타공 벽선반 꼭꼬핀 무지주 벽걸이 원목 모듈 우드 거실 빔프로젝터\n",
      "6,000원\n",
      "스피드랙 (홈던트, 홈던트하우스V2버전) 선반, 행거 추가 액세서리 개별 구매\n",
      "6,000원\n",
      "홈던트하우스 추가옵션 모음\n",
      "이전\n",
      "현재 페이지\n",
      "1 /\n",
      "전체 페이지\n",
      "3\n",
      "다음\n",
      "공기계/중고폰\n",
      "요새 인기래요\n",
      "이번주\n",
      "구매 BEST\n",
      "상품\n",
      "14,800원\n",
      "[대여] 갤럭시 S24 울트라 512G 대여 렌탈 임대 1일\n",
      "14,800원\n",
      "[대여] 갤럭시 S24 울트라 대여 1일 단기대여 무료반납 방문수령\n",
      "12,800원\n",
      "[대여] 갤럭시 S23 울트라 대여 렌탈 임대 1일\n",
      "49,000원\n",
      "데이터를 완벽히 차단한 어린이핸드폰 갤럭시 A15 공부폰 공신폰 키즈폰 초등학생핸드폰\n",
      "129,900원\n",
      "아이폰 SE1 iPhone SE1 스페이스 그레이(카메라 유음) 16GB 공기계\n",
      "99,800원\n",
      "아이폰SE 1세대 풀박스 공기계 자급제 실버 16GB 기본보증 (10일)\n",
      "이전\n",
      "현재 페이지\n",
      "1 /\n",
      "전체 페이지\n",
      "2\n",
      "다음\n",
      "가장 많이 찾는\n",
      "원피스 추천해요\n",
      "이번달\n",
      "리뷰수 BEST\n",
      "상품\n",
      "10,000원\n",
      "봄 여름 롱 원피스 바스락 휴양지 나시 반팔 하객 홈 빅사이즈 원피스 블랙 77\n",
      "28,000원\n",
      "[당일출고/MADE] 러시 촤르르 롱 원피스\n",
      "23,800원\n",
      "여름 원피스 빅사이즈 88 99 스트라이프 반팔 니트 롱 원피스 봄\n",
      "22,900원\n",
      "[연아실장추천,오늘출발]오브 골드 단추 셔링 오픈 카라 플레어 원피스\n",
      "29,900원\n",
      "여름 원피스 빅사이즈 롱 반팔 쉬폰 나시 휴양지원피스 플리츠 랩 바캉스룩\n",
      "23,800원\n",
      "[여름신상 무배] 루인 브이넥 카라 핀턱 허리끈 롱 원피스\n",
      "이전\n",
      "현재 페이지\n",
      "1 /\n",
      "전체 페이지\n",
      "3\n",
      "다음\n",
      "지금 가장 핫한\n",
      "클렌징폼\n",
      "어제\n",
      "클릭 BEST\n",
      "상품\n",
      "900원\n",
      "공스킨 비타민 저자극 폼클렌징 [오늘특가]\n",
      "10,900원\n",
      "1+1 메르헨트 미셀라 폼클렌징 230ml 약알칼리 버블 딥클렌징 세안제 저자극\n",
      "네이버 도착보장\n",
      "9,900원\n",
      "살림백서 휩 미셀라 대용량 클렌징폼 500ml 세안제 저자극 딥클렌징 지성 민감성 임산부\n",
      "900원\n",
      "공스킨 판테놀 폼클렌징 [품절임박]\n",
      "네이버 도착보장\n",
      "15,900원\n",
      "살림백서 대용량 휩 폼클렌징 230ml 4개 퓨어 마이크로 세안제 저자극 지성 민감성\n",
      "네이버 도착보장\n",
      "17,900원\n",
      "닥터릴리프 디에이씨투 약알칼리성 카렌듈라 수분 진정 클렌징 폼 120ml\n",
      "이전\n",
      "현재 페이지\n",
      "1 /\n",
      "전체 페이지\n",
      "3\n",
      "다음\n",
      "트렌드Pick\n",
      "뉴아이템\n",
      "선택됨\n",
      "코디셋\n",
      "백트임 롱원피스\n",
      "이지원피스 50%\n",
      "볼륨브라SET 1+1\n",
      "여름 반팔가디건\n",
      "점퍼&팬츠set\n",
      "이수지 원피스\n",
      "감탄~ 롱 원피스\n",
      "12,900원 미들뮬\n",
      "쿨썸머 팬츠\n",
      "AD\n",
      "이전\n",
      "현재 페이지\n",
      "1 /\n",
      "전체 페이지\n",
      "15\n",
      "다음\n",
      "도착보장은 배송이 늦으면 보상!\n",
      "배송 예정일보다 늦으면 네이버페이 포인트 보상\n",
      "전체랭킹\n",
      "행사\n",
      "시즌 잇템\n",
      "간편조리/밀키트\n",
      "라면/면\n",
      "스낵/빵/떡\n",
      "음료/커피/전통주\n",
      "조미료/소스\n",
      "축산/농수산\n",
      "건강/다이어트\n",
      "지금 인기 있는 도착보장 BEST\n",
      "1\n",
      "위\n",
      "할인율\n",
      "48%34,500원\n",
      "햇반 백미 210g, 36개\n",
      "네이버 도착보장\n",
      "2\n",
      "위\n",
      "할인율\n",
      "52%19,900원\n",
      "티젠 콤부차 매실+피치 (60스틱)\n",
      "네이버 도착보장\n",
      "3\n",
      "위\n",
      "할인율\n",
      "10%17,910원\n",
      "[N도착] (우디) 헤리티지 반팔티_SPRPE24C51\n",
      "네이버 도착보장\n",
      "4\n",
      "위\n",
      "할인율\n",
      "59%9,980원\n",
      "샤오미 레드미 버즈4 액티브 이어폰 무선 블루투스\n",
      "네이버 도착보장\n",
      "5\n",
      "위\n",
      "할인율\n",
      "50%174,000원\n",
      "Vandalion sandal(black)_DG2AM23008BLK\n",
      "네이버 도착보장\n",
      "6\n",
      "위\n",
      "할인율\n",
      "52%20,990원\n",
      "햇반 백미 210g, 24개\n",
      "네이버 도착보장\n",
      "7\n",
      "위\n",
      "할인율\n",
      "40%226,800원\n",
      "[김나영 착용] Polygon quilting sandal(white)_DW2AM24004WHT\n",
      "네이버 도착보장\n",
      "8\n",
      "위\n",
      "할인율\n",
      "26%13,000원\n",
      "그린핑거 파워쉴드 선스틱 워터프루프 18g외 선케어 모음 / 어린이선케어,어린이선크림,키즈선크림,물놀이,물에지워지지않는\n",
      "네이버 도착보장\n",
      "9\n",
      "위\n",
      "할인율\n",
      "30%21,350원\n",
      "[최유정 착용, 69차 재입고] 여름 쿨링 마몽 크롭 무지 반팔티 [화이트]\n",
      "네이버 도착보장\n",
      "10\n",
      "위\n",
      "할인율\n",
      "69%49,900원\n",
      "[1+1] 푸드올로지 콜레올로지컷 30정+프로 60정 서현 빨간통 다이어트 체지방감소 보조제\n",
      "네이버 도착보장\n",
      "할인율\n",
      "10%178,200원\n",
      "Aqua sandal(ivory)_DG2AM24047IVY\n",
      "네이버 도착보장\n",
      "할인율\n",
      "20%278,400원\n",
      "Strap wedge heel sandal(brown)_DG2AM24050BRN\n",
      "네이버 도착보장\n",
      "할인율\n",
      "52%8,640원\n",
      "(공식) 강원평창수 무라벨 500ml 40개\n",
      "네이버 도착보장\n",
      "할인율\n",
      "84%15,900원\n",
      "명품 가벼운 UV 자외선 차단 사각 커플 데일리 패션 대두 선글라스 핑크 브라운\n",
      "네이버 도착보장\n",
      "할인율\n",
      "5%24,400원\n",
      "(광동 직영) 삼다수 그린(무라벨) 2L 24입 (유/무라벨 랜덤 발송)\n",
      "네이버 도착보장\n",
      "할인율\n",
      "44%83,440원\n",
      "[N도착보장]세인트스코트 앤슬리 숄더백 GBK3783 블랙\n",
      "네이버 도착보장\n",
      "할인율\n",
      "50%174,000원\n",
      "[셀럽 착용] Vandalion sandal(ivory)_DG2AM23008IVY\n",
      "네이버 도착보장\n",
      "13,900원\n",
      "더 빅토리아 탄산수 플레인 500mL 20개 외 15종\n",
      "네이버 도착보장\n",
      "할인율\n",
      "22%9,990원\n",
      "[도착보장] 애슐리 해물듬뿍 삼선 누룽지탕 2인(냉동)\n",
      "네이버 도착보장\n",
      "할인율\n",
      "40%226,800원\n",
      "Polygon quilting sandal(black)_DW2AM24004BLK\n",
      "네이버 도착보장\n",
      "할인율\n",
      "42%28,900원\n",
      "독일 블라우풍트 무선 블루투스이어폰 AAC ENC노이즈캔슬링 오픈형\n",
      "네이버 도착보장\n",
      "할인율\n",
      "18%14,900원\n",
      "포카리스웨트 340ml 무라벨 PET 20입 1박스\n",
      "네이버 도착보장\n",
      "14,800원\n",
      "[made][2종택1]촉촉탱글 비스코스 스판티셔츠\n",
      "네이버 도착보장\n",
      "할인율\n",
      "40%196,800원\n",
      "Polygon mary jane flat(blue)_DG1DA23509BLU\n",
      "네이버 도착보장\n",
      "할인율\n",
      "19%7,990원\n",
      "[도착보장] 애슐리 크런치즈엣지 트리플 치즈 피자 1팩 외 3종 냉동\n",
      "네이버 도착보장\n",
      "할인율\n",
      "20%19,900원\n",
      "총1.8kg 안심밥상 한돈 제주흑돼지 돼지세트 300g x 6팩\n",
      "네이버 도착보장\n",
      "할인율\n",
      "13%29,000원\n",
      "포카리스웨트 340ml 무라벨 PET 20입 2박스(총 40개)\n",
      "네이버 도착보장\n",
      "할인율\n",
      "88%4,900원\n",
      "위크나인 노샘케이스 둥둥밴드 핸드폰 휴대폰 방수케이스 밴드 스마트폰 스트랩\n",
      "네이버 도착보장\n",
      "29,900원\n",
      "2WAY 민소매 풀오버_CVKRE2402M\n",
      "네이버 도착보장\n",
      "할인율\n",
      "10%313,200원\n",
      "Cle sandal(black)_DG2AM24015BLK\n",
      "네이버 도착보장\n",
      "즐거움 가득, 혜택이 팡팡!\n",
      "쇼핑라이브\n",
      "라이브 일정\n",
      "혜택은 놓치지마세요\n",
      "선택됨\n",
      "지금 인기리빙패션푸드WOW 숏시피\n",
      "이전\n",
      "현재 페이지\n",
      "1 /\n",
      "전체 페이지\n",
      "1\n",
      "다음\n",
      "전 상품 무료배송 타임딜!\n",
      "원쁠딜\n",
      "HOT\n",
      "선택됨\n",
      "하기스스타필드생필품식품생활·육아건강식품디지털패션뷰티\n",
      "할인율\n",
      "47%11,900원\n",
      "1+1\n",
      "1개+1개 대건명가 부산맛집돼지국밥 엄마가보낸국밥 캠핑 밀키트\n",
      "할인율\n",
      "16%24,900원\n",
      "적립제철 복숭아 천도 신비복숭아 + Npay 5%적립\n",
      "할인율\n",
      "51%3,900원\n",
      "1+1\n",
      "슈베스 생리대 1팩+1팩 / 중형 대형 오버나이트 팬티라이너\n",
      "할인율\n",
      "60%31,600원\n",
      "1+1\n",
      "(케이스증정) 클라 파워클린 3in1 실내건조 캡슐세제 80개+80개\n",
      "할인율\n",
      "35%12,900원\n",
      "1+1\n",
      "맛있는 훈제 닭가슴살 100g 5팩+5팩 혼합\n",
      "할인율\n",
      "35%219,000원\n",
      "1+@\n",
      "WQ61-1EDB 셀프스탠딩 투인원 무선청소기 +정품필터증정\n",
      "이전\n",
      "현재 페이지\n",
      "1 /\n",
      "전체 페이지\n",
      "9\n",
      "다음\n",
      "패션&뷰티, 타운 하나로 끝\n",
      "패션타운\n",
      "영캐주얼\n",
      "아울렛 명품\n",
      "신상 직구\n",
      "소호 원피스\n",
      "럭셔리 뷰티\n",
      "주얼리\n",
      "지금 '소호&스트릿'은 특가 중!\n",
      "자체 제작\n",
      "소프트한 코튼 소재 롤업 셔츠\n",
      "1만 원대\n",
      "활용도 칭찬하는 서머 맨투맨\n",
      "7부와이드 핏으로 편안해요\n",
      "신상플리츠 디테일이 돋보여요\n",
      "할인자꾸만 손이 가는 슬랙스\n",
      "7컬러\n",
      "입은 듯 안 입은 듯 가벼워요\n",
      "이전\n",
      "현재 페이지\n",
      "1 /\n",
      "전체 페이지\n",
      "11\n",
      "다음\n",
      "모든 마트 오늘 도착\n",
      "네이버 장보기\n",
      "배송 주소지\n",
      "로그인을 진행해주세요\n",
      "로그인\n",
      "구매많은\n",
      "지역한정\n",
      "당일배송\n",
      "이마트몰\n",
      "구매많은\n",
      "지역한정\n",
      "당일배송\n",
      "Homeplus\n",
      "지역한정\n",
      "새벽배송\n",
      "SSG 새벽배송\n",
      "지역한정\n",
      "당일배송\n",
      "트레이더스\n",
      "가장빠른\n",
      "지역한정\n",
      "즉시배송\n",
      "홈플 익스프레스\n",
      "가장빠른\n",
      "지역한정\n",
      "즉시배송\n",
      "GS 더프레시\n",
      "지역한정\n",
      "당일배송\n",
      "프레딧\n",
      "지역한정\n",
      "당일배송\n",
      "농협하나로마트\n",
      "지역한정\n",
      "당일배송\n",
      "초록마을\n",
      "지역한정\n",
      "새벽배송\n",
      "올가 새벽배송\n",
      "지역한정\n",
      "당일배송\n",
      "어바웃펫\n",
      "지역한정\n",
      "당일배송\n",
      "이마트 에브리데이\n",
      "가장빠른\n",
      "지역한정\n",
      "즉시배송\n",
      "동네슈퍼\n",
      "이번주 전단행사 이마트몰\n",
      "이번주 전단행사이마트몰 홈\n",
      "전단\n",
      "행사\n",
      "2,330원\n",
      "[백설] 하얀설탕 (1kg)\n",
      "전단\n",
      "행사\n",
      "3,180원\n",
      "[오뚜기] 토마토케찹500g\n",
      "전단\n",
      "행사\n",
      "14,900원\n",
      "[립톤] 아이스티 복숭아맛 스틱 (14g×40포)\n",
      "전단행사\n",
      "오반장\n",
      "노브랜드\n",
      "피코크\n",
      "아이간식\n",
      "이전\n",
      "현재 페이지\n",
      "1 /\n",
      "전체 페이지\n",
      "13\n",
      "다음\n",
      "트렌디한 남성들의 PICK\n",
      "미스터\n",
      "MR.PICK\n",
      "도움말 열기\n",
      "티셔츠\n",
      "선택됨\n",
      "모자바지청바지가방스니커즈시계\n",
      "샤카웨어\n",
      "샤카웨어 7.5oz 맥스 헤비웨이트 반팔티 WHITE\n",
      "블랙몬스터핏\n",
      "3장 세트 드라이 쿨론 쿨티 기능성 쿨링 무지 반팔 운동 헬스 티셔츠\n",
      "헤지스\n",
      "[N 도착보장] 헤지스 피즈 [PHIZ] 2PACK 스몰로고 와펜 반팔티 SPTS4E901WT\n",
      "프로클럽\n",
      "프로클럽 헤비웨이트 무지 반팔티 (black)\n",
      "마인드브릿지\n",
      "마인드브릿지 남성 수피마 포인트 그래픽 오버핏 티셔츠 MXTS3166\n",
      "자바나스\n",
      "D 익스트림 USA코튼 티셔츠 - 10수 어깨넓어보이는 두꺼운 세미 오버핏 반팔\n",
      "이전\n",
      "현재 페이지\n",
      "1 /\n",
      "전체 페이지\n",
      "7\n",
      "다음\n",
      "추가 테마관을 둘러보세요\n",
      "네이버펫\n",
      "선택됨\n",
      "리빙윈도키즈윈도플레이윈도푸드윈도\n",
      "펫 랭킹템\n",
      "1+1\n",
      "시원한 기능성 소재\n",
      "시선강탈 귀여운 컬러 조합\n",
      "인기\n",
      "리뷰 2천 건 이상\n",
      "외출 스트레스 줄여줘요\n",
      "물 없이 관리한다멍\n",
      "제로 워터리스 샴푸 33%↓\n",
      "9,900원 득템\n",
      "서지컬스틸 목걸이 인식표\n",
      "이전\n",
      "현재 페이지\n",
      "1 /\n",
      "전체 페이지\n",
      "11\n",
      "다음\n",
      "울진몰 할인 기획전\n",
      "선착순 20% 쿠폰 할인\n",
      "함께그린 동행축제\n",
      "선착순 20% 쿠폰 할인\n",
      "나란히가게\n",
      "함께 사니까 나란히 갑니다\n",
      "로딩중\n",
      "하위내용\n",
      "법적고지\n",
      "자세히 보기\n",
      "네이버(주)는 통신판매중개자이며, 통신판매의 당사자가 아닙니다. 통신판매업자 신고, 신원 및 거래조건에 대한 정보 제공, 상품의 주문, 배송 및 환불 등 거래에 관한 의무와 책임은 각 판매자에게 있고, 네이버(주)는 책임을 지지 않습니다.\n",
      "현금 결제 시 주의사항\n",
      "자세히 보기\n",
      "무통장입금 등의 현금 결제 시 거래안전 확보를 위해 반드시 에스크로 결제를 이용하여 주시기 바랍니다.\n",
      "NAVER\n",
      "사업자정보 확인\n",
      "네이버 이용약관\n",
      "네이버페이 이용약관\n",
      "쇼핑&페이 고객센터\n",
      "전자금융거래약관\n",
      "개인정보처리방침\n",
      "안전거래센터\n",
      "네이버㈜ 사업자 정보\n",
      "대표전화/고객센터 1588-3819\n",
      "로그인\n",
      "네이버 메인에 #네이버 쇼핑 추가\n"
     ]
    }
   ],
   "source": [
    "from selenium import webdriver\n",
    "from selenium.webdriver.common.by import By\n",
    "import time\n",
    "\n",
    "# 브라우저 열기\n",
    "driver = webdriver.Chrome()\n",
    "\n",
    "# 웹 페이지 로드\n",
    "url = 'https://shopping.naver.com/home'\n",
    "driver.get(url)\n",
    "\n",
    "# JavaScript 실행 대기\n",
    "time.sleep(3)  # 페이지 로드 및 JavaScript 실행을 위한 대기 시간\n",
    "\n",
    "# 요소 찾기\n",
    "heading = driver.find_element(By.ID, '__next').text\n",
    "print(\"__next:\", heading)\n",
    "\n",
    "# 브라우저 닫기\n",
    "driver.quit()\n"
   ]
  },
  {
   "cell_type": "markdown",
   "metadata": {},
   "source": [
    "# 8. 크롤링한 데이터 저장 및 처리\n",
    "\n",
    "웹 크롤링을 통해 수집한 데이터를 유용하게 사용하기 위해서는 적절한 형식으로 저장하고, 필요에 따라 데이터를 전처리 및 분석하는 과정이 필요합니다. 이번 섹션에서는 CSV 및 JSON 파일로 데이터를 저장하는 방법과 간단한 데이터 전처리 및 분석 방법을 학습합니다.\n",
    "\n",
    "### 1. CSV 파일로 데이터 저장\n",
    "\n",
    "CSV(Comma-Separated Values) 파일은 데이터를 테이블 형태로 저장하는 간단한 텍스트 파일 형식입니다. 파이썬에서는 `pandas` 라이브러리를 사용하여 데이터를 CSV 파일로 쉽게 저장할 수 있습니다.\n",
    "\n",
    "### 설치:\n",
    "\n",
    "- `pandas` 라이브러리 설치: `pip install pandas`\n",
    "\n",
    "### 예제 코드:"
   ]
  },
  {
   "cell_type": "code",
   "execution_count": 29,
   "metadata": {},
   "outputs": [
    {
     "name": "stdout",
     "output_type": "stream",
     "text": [
      "Data saved to data.csv\n"
     ]
    }
   ],
   "source": [
    "import pandas as pd\n",
    "\n",
    "# 데이터 예시\n",
    "data = {\n",
    "    'Name': ['Alice', 'Bob', 'Charlie'],\n",
    "    'Age': [30, 25, 35],\n",
    "    'City': ['New York', 'Los Angeles', 'Chicago']\n",
    "}\n",
    "\n",
    "# 데이터프레임 생성\n",
    "df = pd.DataFrame(data)\n",
    "\n",
    "# CSV 파일로 저장\n",
    "df.to_csv('data.csv', index=False)\n",
    "print(\"Data saved to data.csv\")\n"
   ]
  },
  {
   "cell_type": "markdown",
   "metadata": {},
   "source": [
    "### 2. JSON 파일로 데이터 저장\n",
    "\n",
    "JSON(JavaScript Object Notation) 파일은 데이터를 구조화된 형식으로 저장하는 파일 형식입니다. 파이썬에서는 `json` 모듈을 사용하여 데이터를 JSON 파일로 저장할 수 있습니다."
   ]
  },
  {
   "cell_type": "code",
   "execution_count": 30,
   "metadata": {},
   "outputs": [
    {
     "name": "stdout",
     "output_type": "stream",
     "text": [
      "Data saved to data.json\n"
     ]
    }
   ],
   "source": [
    "import json\n",
    "\n",
    "# 데이터 예시\n",
    "data = [\n",
    "    {'Name': 'Alice', 'Age': 30, 'City': 'New York'},\n",
    "    {'Name': 'Bob', 'Age': 25, 'City': 'Los Angeles'},\n",
    "    {'Name': 'Charlie', 'Age': 35, 'City': 'Chicago'}\n",
    "]\n",
    "\n",
    "# JSON 파일로 저장\n",
    "with open('data.json', 'w') as f:\n",
    "    json.dump(data, f, indent=4)\n",
    "print(\"Data saved to data.json\")\n"
   ]
  },
  {
   "cell_type": "markdown",
   "metadata": {},
   "source": [
    "### 3. 데이터 전처리 및 간단한 분석\n",
    "\n",
    "수집한 데이터를 분석하기 전에 데이터 정리, 결측치 처리, 데이터 타입 변환 등의 전처리 과정을 거쳐야 합니다. 전처리 후에는 간단한 통계 분석을 수행할 수 있습니다."
   ]
  },
  {
   "cell_type": "code",
   "execution_count": 31,
   "metadata": {},
   "outputs": [
    {
     "name": "stdout",
     "output_type": "stream",
     "text": [
      "Age Mean: 30.0\n",
      "Age Max: 35\n",
      "Age Min: 25\n",
      "Processed data saved to processed_data.csv\n"
     ]
    }
   ],
   "source": [
    "import pandas as pd\n",
    "\n",
    "# CSV 파일에서 데이터 로드\n",
    "df = pd.read_csv('data.csv')\n",
    "\n",
    "# 데이터 전처리\n",
    "df['Age'] = df['Age'].fillna(df['Age'].mean())  # 결측치 처리\n",
    "df['City'] = df['City'].str.title()  # 문자열 정리\n",
    "\n",
    "# 데이터 분석: 나이의 평균, 최대, 최소 값 계산\n",
    "age_mean = df['Age'].mean()\n",
    "age_max = df['Age'].max()\n",
    "age_min = df['Age'].min()\n",
    "\n",
    "print(\"Age Mean:\", age_mean)\n",
    "print(\"Age Max:\", age_max)\n",
    "print(\"Age Min:\", age_min)\n",
    "\n",
    "# 결과를 새로운 CSV 파일로 저장\n",
    "df.to_csv('processed_data.csv', index=False)\n",
    "print(\"Processed data saved to processed_data.csv\")\n"
   ]
  },
  {
   "cell_type": "markdown",
   "metadata": {},
   "source": [
    "# 9. 심화 크롤링 및 프로젝트\n",
    "\n",
    "이번 섹션에서는 네이버 예약 사이트에서 예약 현황을 수집하는 실습을 진행해봅니다."
   ]
  },
  {
   "cell_type": "code",
   "execution_count": 43,
   "metadata": {},
   "outputs": [],
   "source": [
    "from selenium import webdriver\n",
    "from selenium.webdriver.common.by import By\n",
    "from bs4 import BeautifulSoup\n",
    "import time\n",
    "\n",
    "# selenium: 웹 브라우저를 자동화하여 웹 페이지와 상호 작용하는 데 사용합니다.\n",
    "# BeautifulSoup: HTML 및 XML 파일을 파싱하여 데이터를 추출하는 데 사용됩니다.\n",
    "# time: 코드 실행 중 일정 시간을 기다리기 위해 사용됩니다.\n",
    "\n",
    "# chrome driver 설정\n",
    "driver = webdriver.Chrome()\n",
    "\n",
    "# webdriver.Chrome(): Chrome 웹 드라이버를 설정합니다."
   ]
  },
  {
   "cell_type": "markdown",
   "metadata": {},
   "source": [
    "### 설명:\n",
    "\n",
    "- `selenium`: 웹 페이지의 자동화를 위한 도구입니다. 웹 브라우저를 열고 조작할 수 있습니다.\n",
    "- `webdriver`: Selenium의 웹 드라이버 모듈로, 웹 브라우저를 제어합니다.\n",
    "- `By`: Selenium의 모듈로, HTML 요소를 찾기 위한 다양한 방법을 제공합니다.\n",
    "- `BeautifulSoup`: HTML 및 XML 파일을 파싱하는 라이브러리입니다.\n",
    "\n",
    "이 코드에서는 Chrome 드라이버를 설정하고 있습니다. Chrome 드라이버는 Chrome 브라우저를 자동화하기 위해 사용됩니다. 다른 브라우저를 사용할 수도 있으며, 예를 들어 Firefox를 사용하려면 `webdriver.Firefox()`를 사용합니다."
   ]
  },
  {
   "cell_type": "code",
   "execution_count": 44,
   "metadata": {},
   "outputs": [],
   "source": [
    "# URL 열기\n",
    "url = 'https://booking.naver.com/booking/12/bizes/181387/items/2870248'\n",
    "driver.get(url)\n",
    "# 페이지 로딩 대기 (필요 시)\n",
    "driver.implicitly_wait(10)  # 최대 10초 대기\n",
    "\n",
    "# driver.get(url): 지정한 URL을 엽니다.\n",
    "# driver.implicitly_wait(10): 웹 페이지의 요소가 로드될 때까지 최대 10초간 기다립니다."
   ]
  },
  {
   "cell_type": "markdown",
   "metadata": {},
   "source": [
    "### 설명:\n",
    "\n",
    "- `driver.get(url)`: 지정된 URL을 엽니다.\n",
    "- `driver.implicitly_wait(10)`: 요소를 찾을 때까지 최대 10초까지 대기합니다. 요소가 즉시 나타나지 않더라도 대기하며, 나타나면 즉시 다음 작업을 수행합니다. 이 방법은 웹 페이지의 로딩 시간을 처리하는 데 유용합니다."
   ]
  },
  {
   "cell_type": "code",
   "execution_count": 45,
   "metadata": {},
   "outputs": [
    {
     "data": {
      "text/plain": [
       "[<selenium.webdriver.remote.webelement.WebElement (session=\"7d67542c6923a93eb21cce2b9ead38bb\", element=\"f.F03EAEDC7E56186CA61F7ACC5B1A4023.d.799B4DD5FCD4B841E7C7746508E908F6.e.24\")>,\n",
       " <selenium.webdriver.remote.webelement.WebElement (session=\"7d67542c6923a93eb21cce2b9ead38bb\", element=\"f.F03EAEDC7E56186CA61F7ACC5B1A4023.d.799B4DD5FCD4B841E7C7746508E908F6.e.25\")>,\n",
       " <selenium.webdriver.remote.webelement.WebElement (session=\"7d67542c6923a93eb21cce2b9ead38bb\", element=\"f.F03EAEDC7E56186CA61F7ACC5B1A4023.d.799B4DD5FCD4B841E7C7746508E908F6.e.26\")>,\n",
       " <selenium.webdriver.remote.webelement.WebElement (session=\"7d67542c6923a93eb21cce2b9ead38bb\", element=\"f.F03EAEDC7E56186CA61F7ACC5B1A4023.d.799B4DD5FCD4B841E7C7746508E908F6.e.27\")>,\n",
       " <selenium.webdriver.remote.webelement.WebElement (session=\"7d67542c6923a93eb21cce2b9ead38bb\", element=\"f.F03EAEDC7E56186CA61F7ACC5B1A4023.d.799B4DD5FCD4B841E7C7746508E908F6.e.28\")>,\n",
       " <selenium.webdriver.remote.webelement.WebElement (session=\"7d67542c6923a93eb21cce2b9ead38bb\", element=\"f.F03EAEDC7E56186CA61F7ACC5B1A4023.d.799B4DD5FCD4B841E7C7746508E908F6.e.29\")>,\n",
       " <selenium.webdriver.remote.webelement.WebElement (session=\"7d67542c6923a93eb21cce2b9ead38bb\", element=\"f.F03EAEDC7E56186CA61F7ACC5B1A4023.d.799B4DD5FCD4B841E7C7746508E908F6.e.30\")>,\n",
       " <selenium.webdriver.remote.webelement.WebElement (session=\"7d67542c6923a93eb21cce2b9ead38bb\", element=\"f.F03EAEDC7E56186CA61F7ACC5B1A4023.d.799B4DD5FCD4B841E7C7746508E908F6.e.31\")>,\n",
       " <selenium.webdriver.remote.webelement.WebElement (session=\"7d67542c6923a93eb21cce2b9ead38bb\", element=\"f.F03EAEDC7E56186CA61F7ACC5B1A4023.d.799B4DD5FCD4B841E7C7746508E908F6.e.32\")>,\n",
       " <selenium.webdriver.remote.webelement.WebElement (session=\"7d67542c6923a93eb21cce2b9ead38bb\", element=\"f.F03EAEDC7E56186CA61F7ACC5B1A4023.d.799B4DD5FCD4B841E7C7746508E908F6.e.33\")>,\n",
       " <selenium.webdriver.remote.webelement.WebElement (session=\"7d67542c6923a93eb21cce2b9ead38bb\", element=\"f.F03EAEDC7E56186CA61F7ACC5B1A4023.d.799B4DD5FCD4B841E7C7746508E908F6.e.34\")>,\n",
       " <selenium.webdriver.remote.webelement.WebElement (session=\"7d67542c6923a93eb21cce2b9ead38bb\", element=\"f.F03EAEDC7E56186CA61F7ACC5B1A4023.d.799B4DD5FCD4B841E7C7746508E908F6.e.35\")>,\n",
       " <selenium.webdriver.remote.webelement.WebElement (session=\"7d67542c6923a93eb21cce2b9ead38bb\", element=\"f.F03EAEDC7E56186CA61F7ACC5B1A4023.d.799B4DD5FCD4B841E7C7746508E908F6.e.36\")>,\n",
       " <selenium.webdriver.remote.webelement.WebElement (session=\"7d67542c6923a93eb21cce2b9ead38bb\", element=\"f.F03EAEDC7E56186CA61F7ACC5B1A4023.d.799B4DD5FCD4B841E7C7746508E908F6.e.37\")>,\n",
       " <selenium.webdriver.remote.webelement.WebElement (session=\"7d67542c6923a93eb21cce2b9ead38bb\", element=\"f.F03EAEDC7E56186CA61F7ACC5B1A4023.d.799B4DD5FCD4B841E7C7746508E908F6.e.38\")>,\n",
       " <selenium.webdriver.remote.webelement.WebElement (session=\"7d67542c6923a93eb21cce2b9ead38bb\", element=\"f.F03EAEDC7E56186CA61F7ACC5B1A4023.d.799B4DD5FCD4B841E7C7746508E908F6.e.39\")>,\n",
       " <selenium.webdriver.remote.webelement.WebElement (session=\"7d67542c6923a93eb21cce2b9ead38bb\", element=\"f.F03EAEDC7E56186CA61F7ACC5B1A4023.d.799B4DD5FCD4B841E7C7746508E908F6.e.40\")>,\n",
       " <selenium.webdriver.remote.webelement.WebElement (session=\"7d67542c6923a93eb21cce2b9ead38bb\", element=\"f.F03EAEDC7E56186CA61F7ACC5B1A4023.d.799B4DD5FCD4B841E7C7746508E908F6.e.41\")>,\n",
       " <selenium.webdriver.remote.webelement.WebElement (session=\"7d67542c6923a93eb21cce2b9ead38bb\", element=\"f.F03EAEDC7E56186CA61F7ACC5B1A4023.d.799B4DD5FCD4B841E7C7746508E908F6.e.42\")>,\n",
       " <selenium.webdriver.remote.webelement.WebElement (session=\"7d67542c6923a93eb21cce2b9ead38bb\", element=\"f.F03EAEDC7E56186CA61F7ACC5B1A4023.d.799B4DD5FCD4B841E7C7746508E908F6.e.43\")>,\n",
       " <selenium.webdriver.remote.webelement.WebElement (session=\"7d67542c6923a93eb21cce2b9ead38bb\", element=\"f.F03EAEDC7E56186CA61F7ACC5B1A4023.d.799B4DD5FCD4B841E7C7746508E908F6.e.44\")>,\n",
       " <selenium.webdriver.remote.webelement.WebElement (session=\"7d67542c6923a93eb21cce2b9ead38bb\", element=\"f.F03EAEDC7E56186CA61F7ACC5B1A4023.d.799B4DD5FCD4B841E7C7746508E908F6.e.45\")>,\n",
       " <selenium.webdriver.remote.webelement.WebElement (session=\"7d67542c6923a93eb21cce2b9ead38bb\", element=\"f.F03EAEDC7E56186CA61F7ACC5B1A4023.d.799B4DD5FCD4B841E7C7746508E908F6.e.46\")>,\n",
       " <selenium.webdriver.remote.webelement.WebElement (session=\"7d67542c6923a93eb21cce2b9ead38bb\", element=\"f.F03EAEDC7E56186CA61F7ACC5B1A4023.d.799B4DD5FCD4B841E7C7746508E908F6.e.47\")>,\n",
       " <selenium.webdriver.remote.webelement.WebElement (session=\"7d67542c6923a93eb21cce2b9ead38bb\", element=\"f.F03EAEDC7E56186CA61F7ACC5B1A4023.d.799B4DD5FCD4B841E7C7746508E908F6.e.48\")>,\n",
       " <selenium.webdriver.remote.webelement.WebElement (session=\"7d67542c6923a93eb21cce2b9ead38bb\", element=\"f.F03EAEDC7E56186CA61F7ACC5B1A4023.d.799B4DD5FCD4B841E7C7746508E908F6.e.49\")>,\n",
       " <selenium.webdriver.remote.webelement.WebElement (session=\"7d67542c6923a93eb21cce2b9ead38bb\", element=\"f.F03EAEDC7E56186CA61F7ACC5B1A4023.d.799B4DD5FCD4B841E7C7746508E908F6.e.50\")>,\n",
       " <selenium.webdriver.remote.webelement.WebElement (session=\"7d67542c6923a93eb21cce2b9ead38bb\", element=\"f.F03EAEDC7E56186CA61F7ACC5B1A4023.d.799B4DD5FCD4B841E7C7746508E908F6.e.51\")>,\n",
       " <selenium.webdriver.remote.webelement.WebElement (session=\"7d67542c6923a93eb21cce2b9ead38bb\", element=\"f.F03EAEDC7E56186CA61F7ACC5B1A4023.d.799B4DD5FCD4B841E7C7746508E908F6.e.52\")>,\n",
       " <selenium.webdriver.remote.webelement.WebElement (session=\"7d67542c6923a93eb21cce2b9ead38bb\", element=\"f.F03EAEDC7E56186CA61F7ACC5B1A4023.d.799B4DD5FCD4B841E7C7746508E908F6.e.53\")>]"
      ]
     },
     "execution_count": 45,
     "metadata": {},
     "output_type": "execute_result"
    }
   ],
   "source": [
    "# 날짜 버튼들 찾기\n",
    "calendar_dates = driver.find_elements(By.CSS_SELECTOR, 'a.calendar-date')\n",
    "calendar_dates\n",
    "\n",
    "# driver.find_elements(By.CSS_SELECTOR, 'a.calendar-date')\n",
    "# : CSS 셀렉터를 사용하여 모든 날짜 버튼 요소를 찾습니다."
   ]
  },
  {
   "cell_type": "markdown",
   "metadata": {},
   "source": [
    "### 설명:\n",
    "\n",
    "- `driver.find_elements(By.CSS_SELECTOR, 'a.calendar-date')`: CSS 선택자를 사용하여 `a.calendar-date` 클래스가 있는 모든 요소를 찾습니다. `find_elements`는 여러 요소를 찾고 리스트를 반환합니다. 반대로 `find_element`는 첫 번째 요소만 반환합니다."
   ]
  },
  {
   "cell_type": "markdown",
   "metadata": {},
   "source": [
    "### 설명:\n",
    "\n",
    "- 예약 시간대 정보를 저장할 빈 리스트를 초기화합니다."
   ]
  },
  {
   "cell_type": "code",
   "execution_count": 46,
   "metadata": {},
   "outputs": [],
   "source": [
    "# 날짜별 예약 시간대 정보 저장할 리스트\n",
    "date_time_info = []\n",
    "\n",
    "# 날짜별 예약 시간대 정보를 저장할 빈 리스트를 만듭니다."
   ]
  },
  {
   "cell_type": "code",
   "execution_count": 48,
   "metadata": {},
   "outputs": [],
   "source": [
    "calendar_dates[0]\n",
    "date_button = calendar_dates[7]\n",
    "date_button\n",
    "date_button.click()\n",
    "\n",
    "# calendar_dates[0], calendar_dates[18]: 첫 번째와 19번째 날짜 버튼을 선택합니다.\n",
    "# date_button.click(): 선택한 날짜 버튼을 클릭합니다."
   ]
  },
  {
   "cell_type": "code",
   "execution_count": 49,
   "metadata": {},
   "outputs": [
    {
     "name": "stdout",
     "output_type": "stream",
     "text": [
      "6일 9일, 오후 7, 1매\n",
      "6일 10일, 오후 7, 1매\n",
      "6일 11일, 오후 1, 1매\n",
      "6일 11일, 오후 5, 2매\n",
      "6일 12일, 오후 3, 1매\n",
      "6일 12일, 오후 5, 4매\n",
      "6일 13일, 오전 11, 3매\n",
      "6일 13일, 오후 3, 1매\n",
      "6일 13일, 오후 5, 3매\n",
      "6일 18일, 오전 11, 1매\n",
      "6일 18일, 오후 5, 2매\n",
      "6일 19일, 오전 11, 5매\n",
      "6일 19일, 오후 1, 1매\n",
      "6일 19일, 오후 3, 2매\n",
      "6일 21일, 오전 11, 1매\n",
      "6일 25일, 오전 11, 4매\n",
      "6일 25일, 오후 1, 2매\n",
      "6일 25일, 오후 5, 1매\n",
      "6일 26일, 오전 11, 4매\n",
      "6일 26일, 오후 5, 2매\n",
      "6일 27일, 오후 1, 2매\n",
      "6일 27일, 오후 3, 1매\n"
     ]
    }
   ],
   "source": [
    "for i, date_button in enumerate(calendar_dates):\n",
    "    try:\n",
    "        # 날짜 버튼 클릭\n",
    "        date_button.click()\n",
    "\n",
    "        # 페이지 로드 시간 대기 (필요 시 조정)\n",
    "        time.sleep(2)  # 페이지 로드 시간 대기\n",
    "        #driver.implicitly_wait(2)  # 페이지 로드 시간 대기\n",
    "        html_code = driver.page_source\n",
    "        soup = BeautifulSoup(html_code, \"html.parser\")\n",
    "        \n",
    "        list_times = soup.find_all(class_=\"list_time\")[0]\n",
    "        \n",
    "        for list_time in list_times:\n",
    "            list_time_text = list_time.find(class_=\"box_info_wrap\").text\n",
    "            sold_info = list_time_text[-2:]\n",
    "            if sold_info[-1] == \"매\":\n",
    "                day = i + 1\n",
    "                hour = list_time_text.split(\":\")[0]\n",
    "                print(f\"6일 {day}일, {hour}, {sold_info}\")\n",
    "    except Exception as e:\n",
    "        print(f\"오류 발생: {e}\")\n",
    "\n",
    "# 브라우저 닫기\n",
    "driver.quit()\n",
    "\n"
   ]
  },
  {
   "cell_type": "markdown",
   "metadata": {},
   "source": [
    "### 설명:\n",
    "\n",
    "- `for date_button in calendar_dates`: 각 날짜 버튼에 대해 반복합니다.\n",
    "- `date_button.click()`: 현재 날짜 버튼을 클릭합니다.\n",
    "- `time.sleep(2)`: 페이지가 로드될 시간을 주기 위해 2초간 대기합니다. `time.sleep`을 사용하는 대신 `driver.implicitly_wait`를 사용할 수도 있습니다.\n",
    "- `html = driver.page_source`: 현재 페이지의 HTML 소스를 가져옵니다.\n",
    "- `soup = BeautifulSoup(html, 'lxml')`: BeautifulSoup을 사용하여 HTML 소스를 파싱합니다. 여기서는 `lxml` 파서를 사용합니다. 다른 파서로는 `html.parser` 등이 있습니다.\n",
    "- `date_info = date_button.find_element(By.CSS_SELECTOR, 'span.num').text`: 날짜 버튼 내부의 날짜 정보를 추출합니다.\n",
    "- `timeslots = soup.select('div.time_box_wrap li.item')`: CSS 선택자를 사용하여 시간대 정보를 포함하는 모든 `li.item` 요소를 찾습니다.\n",
    "- 각 시간대에 대해 반복하며 시간과 예약 가능 여부를 추출합니다.\n"
   ]
  },
  {
   "cell_type": "code",
   "execution_count": null,
   "metadata": {},
   "outputs": [],
   "source": [
    "# 결과를 파일에 저장\n",
    "import csv\n",
    "\n",
    "with open('date_time_info.csv', 'w', newline='', encoding='utf-8') as csvfile:\n",
    "    fieldnames = ['date', 'time', 'availability']\n",
    "    writer = csv.DictWriter(csvfile, fieldnames=fieldnames)\n",
    "\n",
    "    writer.writeheader()\n",
    "    for info in date_time_info:\n",
    "        writer.writerow(info)"
   ]
  },
  {
   "cell_type": "markdown",
   "metadata": {},
   "source": [
    "### 설명:\n",
    "\n",
    "- `csv` 모듈을 사용하여 결과를 CSV 파일로 저장합니다.\n",
    "- `with open('date_time_info.csv', 'w', newline='', encoding='utf-8') as csvfile`: CSV 파일을 쓰기 모드로 엽니다.\n",
    "- `fieldnames`: CSV 파일의 헤더를 정의합니다.\n",
    "- `csv.DictWriter`: 딕셔너리를 CSV 파일로 작성할 수 있는 객체를 생성합니다.\n",
    "- `writer.writeheader()`: 헤더를 작성합니다.\n",
    "- 각 정보를 CSV 파일에 작성합니다."
   ]
  },
  {
   "cell_type": "code",
   "execution_count": null,
   "metadata": {},
   "outputs": [],
   "source": [
    "# GPT가 수정해준 코드\n",
    "\n",
    "from selenium import webdriver\n",
    "from selenium.webdriver.common.by import By\n",
    "from selenium.webdriver.support.ui import WebDriverWait\n",
    "from selenium.webdriver.support import expected_conditions as EC\n",
    "from bs4 import BeautifulSoup\n",
    "import time\n",
    "import csv\n",
    "\n",
    "# 웹 드라이버 설정\n",
    "driver = webdriver.Chrome()\n",
    "\n",
    "# URL 열기\n",
    "url = 'https://booking.naver.com/booking/12/bizes/181387/items/2870248'\n",
    "driver.get(url)\n",
    "# 페이지 로딩 대기 (필요 시)\n",
    "driver.implicitly_wait(10)  # 최대 10초 대기\n",
    "\n",
    "# 날짜 버튼들 찾기\n",
    "calendar_dates = driver.find_elements(By.CSS_SELECTOR, 'a.calendar-date')\n",
    "\n",
    "# 날짜별 예약 시간대 정보 저장할 리스트\n",
    "date_time_info = []\n",
    "\n",
    "# 모든 날짜 버튼 클릭 및 예약 시간대 정보 수집\n",
    "for i in range(len(calendar_dates)):\n",
    "    try:\n",
    "        # 날짜 버튼 클릭\n",
    "        calendar_dates = driver.find_elements(By.CSS_SELECTOR, 'a.calendar-date')  # 매번 새로 가져오기\n",
    "        date_button = calendar_dates[i]\n",
    "        date_button.click()\n",
    "\n",
    "        # 페이지 로드 시간 대기\n",
    "        WebDriverWait(driver, 10).until(\n",
    "            EC.presence_of_element_located((By.CLASS_NAME, \"list_time\"))\n",
    "        )\n",
    "        \n",
    "        html_code = driver.page_source\n",
    "        soup = BeautifulSoup(html_code, \"html.parser\")\n",
    "        \n",
    "        list_times = soup.find_all(class_=\"list_time\")[0]\n",
    "        \n",
    "        for list_time in list_times.find_all('li'):\n",
    "            list_time_text = list_time.find(class_=\"box_info_wrap\").text\n",
    "            sold_info = list_time_text[-2:]\n",
    "            if sold_info[-1] == \"매\":\n",
    "                day = i + 1\n",
    "                hour = list_time_text.split(\":\")[0]\n",
    "                date_time_info.append({\n",
    "                    'date': f\"6월 {day}일\",\n",
    "                    'time': hour,\n",
    "                    'availability': sold_info\n",
    "                })\n",
    "    except Exception as e:\n",
    "        print(f\"오류 발생: {e}\")\n",
    "\n",
    "# 드라이버 종료\n",
    "driver.quit()\n",
    "\n",
    "# 결과를 파일에 저장\n",
    "with open('date_time_info.csv', 'w', newline='', encoding='utf-8') as csvfile:\n",
    "    fieldnames = ['date', 'time', 'availability']\n",
    "    writer = csv.DictWriter(csvfile, fieldnames=fieldnames)\n",
    "\n",
    "    writer.writeheader()\n",
    "    for info in date_time_info:\n",
    "        writer.writerow(info)\n"
   ]
  }
 ],
 "metadata": {
  "kernelspec": {
   "display_name": "Python 3",
   "language": "python",
   "name": "python3"
  },
  "language_info": {
   "codemirror_mode": {
    "name": "ipython",
    "version": 3
   },
   "file_extension": ".py",
   "mimetype": "text/x-python",
   "name": "python",
   "nbconvert_exporter": "python",
   "pygments_lexer": "ipython3",
   "version": "3.12.3"
  }
 },
 "nbformat": 4,
 "nbformat_minor": 2
}
