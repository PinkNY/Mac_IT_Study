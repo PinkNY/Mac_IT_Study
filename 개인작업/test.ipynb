{
 "cells": [
  {
   "cell_type": "markdown",
   "metadata": {},
   "source": [
    "### 필요라이브러리 설치"
   ]
  },
  {
   "cell_type": "code",
   "execution_count": 1,
   "metadata": {},
   "outputs": [
    {
     "name": "stdout",
     "output_type": "stream",
     "text": [
      "Collecting nbformat\n",
      "  Downloading nbformat-5.10.4-py3-none-any.whl.metadata (3.6 kB)\n",
      "Collecting fastjsonschema>=2.15 (from nbformat)\n",
      "  Downloading fastjsonschema-2.20.0-py3-none-any.whl.metadata (2.1 kB)\n",
      "Collecting jsonschema>=2.6 (from nbformat)\n",
      "  Using cached jsonschema-4.22.0-py3-none-any.whl.metadata (8.2 kB)\n",
      "Requirement already satisfied: jupyter-core!=5.0.*,>=4.12 in c:\\users\\user\\desktop\\실습\\day9\\.venv\\lib\\site-packages (from nbformat) (5.7.2)\n",
      "Requirement already satisfied: traitlets>=5.1 in c:\\users\\user\\desktop\\실습\\day9\\.venv\\lib\\site-packages (from nbformat) (5.14.3)\n",
      "Requirement already satisfied: attrs>=22.2.0 in c:\\users\\user\\desktop\\실습\\day9\\.venv\\lib\\site-packages (from jsonschema>=2.6->nbformat) (23.2.0)\n",
      "Collecting jsonschema-specifications>=2023.03.6 (from jsonschema>=2.6->nbformat)\n",
      "  Using cached jsonschema_specifications-2023.12.1-py3-none-any.whl.metadata (3.0 kB)\n",
      "Collecting referencing>=0.28.4 (from jsonschema>=2.6->nbformat)\n",
      "  Using cached referencing-0.35.1-py3-none-any.whl.metadata (2.8 kB)\n",
      "Collecting rpds-py>=0.7.1 (from jsonschema>=2.6->nbformat)\n",
      "  Using cached rpds_py-0.18.1-cp312-none-win_amd64.whl.metadata (4.2 kB)\n",
      "Requirement already satisfied: platformdirs>=2.5 in c:\\users\\user\\desktop\\실습\\day9\\.venv\\lib\\site-packages (from jupyter-core!=5.0.*,>=4.12->nbformat) (4.2.2)\n",
      "Requirement already satisfied: pywin32>=300 in c:\\users\\user\\desktop\\실습\\day9\\.venv\\lib\\site-packages (from jupyter-core!=5.0.*,>=4.12->nbformat) (306)\n",
      "Downloading nbformat-5.10.4-py3-none-any.whl (78 kB)\n",
      "   ---------------------------------------- 0.0/78.5 kB ? eta -:--:--\n",
      "   ----- ---------------------------------- 10.2/78.5 kB ? eta -:--:--\n",
      "   ----- ---------------------------------- 10.2/78.5 kB ? eta -:--:--\n",
      "   -------------------- ------------------- 41.0/78.5 kB 393.8 kB/s eta 0:00:01\n",
      "   ---------------------------------------- 78.5/78.5 kB 487.2 kB/s eta 0:00:00\n",
      "Downloading fastjsonschema-2.20.0-py3-none-any.whl (23 kB)\n",
      "Using cached jsonschema-4.22.0-py3-none-any.whl (88 kB)\n",
      "Using cached jsonschema_specifications-2023.12.1-py3-none-any.whl (18 kB)\n",
      "Using cached referencing-0.35.1-py3-none-any.whl (26 kB)\n",
      "Using cached rpds_py-0.18.1-cp312-none-win_amd64.whl (209 kB)\n",
      "Installing collected packages: fastjsonschema, rpds-py, referencing, jsonschema-specifications, jsonschema, nbformat\n",
      "Successfully installed fastjsonschema-2.20.0 jsonschema-4.22.0 jsonschema-specifications-2023.12.1 nbformat-5.10.4 referencing-0.35.1 rpds-py-0.18.1\n",
      "Note: you may need to restart the kernel to use updated packages.\n",
      "Requirement already satisfied: plotly in c:\\users\\user\\desktop\\실습\\day9\\.venv\\lib\\site-packages (5.22.0)\n",
      "Requirement already satisfied: tenacity>=6.2.0 in c:\\users\\user\\desktop\\실습\\day9\\.venv\\lib\\site-packages (from plotly) (8.4.1)\n",
      "Requirement already satisfied: packaging in c:\\users\\user\\desktop\\실습\\day9\\.venv\\lib\\site-packages (from plotly) (24.0)\n",
      "Note: you may need to restart the kernel to use updated packages.\n"
     ]
    }
   ],
   "source": [
    "%pip install --upgrade nbformat\n",
    "%pip install plotly"
   ]
  },
  {
   "cell_type": "markdown",
   "metadata": {},
   "source": [
    "### Importing Libraries"
   ]
  },
  {
   "cell_type": "code",
   "execution_count": 2,
   "metadata": {},
   "outputs": [],
   "source": [
    "import pandas as pd\n",
    "import numpy as np\n",
    "import matplotlib.pyplot as plt\n",
    "import seaborn as sns\n",
    "import plotly.express as px"
   ]
  },
  {
   "cell_type": "code",
   "execution_count": 3,
   "metadata": {},
   "outputs": [],
   "source": [
    "import warnings\n",
    "warnings.filterwarnings(\"ignore\")"
   ]
  },
  {
   "cell_type": "markdown",
   "metadata": {},
   "source": [
    "### Data Loading"
   ]
  },
  {
   "cell_type": "code",
   "execution_count": 4,
   "metadata": {},
   "outputs": [],
   "source": [
    "df = pd.read_csv(r\"C:\\Users\\USER\\Desktop\\실습\\개인작업\\cybersecurity_attacks.csv\")"
   ]
  },
  {
   "cell_type": "markdown",
   "metadata": {},
   "source": [
    "### EDA (Exploratory Data Analysis)"
   ]
  },
  {
   "cell_type": "code",
   "execution_count": 5,
   "metadata": {},
   "outputs": [
    {
     "data": {
      "text/html": [
       "<div>\n",
       "<style scoped>\n",
       "    .dataframe tbody tr th:only-of-type {\n",
       "        vertical-align: middle;\n",
       "    }\n",
       "\n",
       "    .dataframe tbody tr th {\n",
       "        vertical-align: top;\n",
       "    }\n",
       "\n",
       "    .dataframe thead th {\n",
       "        text-align: right;\n",
       "    }\n",
       "</style>\n",
       "<table border=\"1\" class=\"dataframe\">\n",
       "  <thead>\n",
       "    <tr style=\"text-align: right;\">\n",
       "      <th></th>\n",
       "      <th>0</th>\n",
       "      <th>1</th>\n",
       "      <th>2</th>\n",
       "      <th>3</th>\n",
       "      <th>4</th>\n",
       "    </tr>\n",
       "  </thead>\n",
       "  <tbody>\n",
       "    <tr>\n",
       "      <th>Timestamp</th>\n",
       "      <td>2023-05-30 06:33:58</td>\n",
       "      <td>2020-08-26 07:08:30</td>\n",
       "      <td>2022-11-13 08:23:25</td>\n",
       "      <td>2023-07-02 10:38:46</td>\n",
       "      <td>2023-07-16 13:11:07</td>\n",
       "    </tr>\n",
       "    <tr>\n",
       "      <th>Source IP Address</th>\n",
       "      <td>103.216.15.12</td>\n",
       "      <td>78.199.217.198</td>\n",
       "      <td>63.79.210.48</td>\n",
       "      <td>163.42.196.10</td>\n",
       "      <td>71.166.185.76</td>\n",
       "    </tr>\n",
       "    <tr>\n",
       "      <th>Destination IP Address</th>\n",
       "      <td>84.9.164.252</td>\n",
       "      <td>66.191.137.154</td>\n",
       "      <td>198.219.82.17</td>\n",
       "      <td>101.228.192.255</td>\n",
       "      <td>189.243.174.238</td>\n",
       "    </tr>\n",
       "    <tr>\n",
       "      <th>Source Port</th>\n",
       "      <td>31225</td>\n",
       "      <td>17245</td>\n",
       "      <td>16811</td>\n",
       "      <td>20018</td>\n",
       "      <td>6131</td>\n",
       "    </tr>\n",
       "    <tr>\n",
       "      <th>Destination Port</th>\n",
       "      <td>17616</td>\n",
       "      <td>48166</td>\n",
       "      <td>53600</td>\n",
       "      <td>32534</td>\n",
       "      <td>26646</td>\n",
       "    </tr>\n",
       "    <tr>\n",
       "      <th>Protocol</th>\n",
       "      <td>ICMP</td>\n",
       "      <td>ICMP</td>\n",
       "      <td>UDP</td>\n",
       "      <td>UDP</td>\n",
       "      <td>TCP</td>\n",
       "    </tr>\n",
       "    <tr>\n",
       "      <th>Packet Length</th>\n",
       "      <td>503</td>\n",
       "      <td>1174</td>\n",
       "      <td>306</td>\n",
       "      <td>385</td>\n",
       "      <td>1462</td>\n",
       "    </tr>\n",
       "    <tr>\n",
       "      <th>Packet Type</th>\n",
       "      <td>Data</td>\n",
       "      <td>Data</td>\n",
       "      <td>Control</td>\n",
       "      <td>Data</td>\n",
       "      <td>Data</td>\n",
       "    </tr>\n",
       "    <tr>\n",
       "      <th>Traffic Type</th>\n",
       "      <td>HTTP</td>\n",
       "      <td>HTTP</td>\n",
       "      <td>HTTP</td>\n",
       "      <td>HTTP</td>\n",
       "      <td>DNS</td>\n",
       "    </tr>\n",
       "    <tr>\n",
       "      <th>Payload Data</th>\n",
       "      <td>Qui natus odio asperiores nam. Optio nobis ius...</td>\n",
       "      <td>Aperiam quos modi officiis veritatis rem. Omni...</td>\n",
       "      <td>Perferendis sapiente vitae soluta. Hic delectu...</td>\n",
       "      <td>Totam maxime beatae expedita explicabo porro l...</td>\n",
       "      <td>Odit nesciunt dolorem nisi iste iusto. Animi v...</td>\n",
       "    </tr>\n",
       "    <tr>\n",
       "      <th>Malware Indicators</th>\n",
       "      <td>IoC Detected</td>\n",
       "      <td>IoC Detected</td>\n",
       "      <td>IoC Detected</td>\n",
       "      <td>NaN</td>\n",
       "      <td>NaN</td>\n",
       "    </tr>\n",
       "    <tr>\n",
       "      <th>Anomaly Scores</th>\n",
       "      <td>28.67</td>\n",
       "      <td>51.5</td>\n",
       "      <td>87.42</td>\n",
       "      <td>15.79</td>\n",
       "      <td>0.52</td>\n",
       "    </tr>\n",
       "    <tr>\n",
       "      <th>Alerts/Warnings</th>\n",
       "      <td>NaN</td>\n",
       "      <td>NaN</td>\n",
       "      <td>Alert Triggered</td>\n",
       "      <td>Alert Triggered</td>\n",
       "      <td>Alert Triggered</td>\n",
       "    </tr>\n",
       "    <tr>\n",
       "      <th>Attack Type</th>\n",
       "      <td>Malware</td>\n",
       "      <td>Malware</td>\n",
       "      <td>DDoS</td>\n",
       "      <td>Malware</td>\n",
       "      <td>DDoS</td>\n",
       "    </tr>\n",
       "    <tr>\n",
       "      <th>Attack Signature</th>\n",
       "      <td>Known Pattern B</td>\n",
       "      <td>Known Pattern A</td>\n",
       "      <td>Known Pattern B</td>\n",
       "      <td>Known Pattern B</td>\n",
       "      <td>Known Pattern B</td>\n",
       "    </tr>\n",
       "    <tr>\n",
       "      <th>Action Taken</th>\n",
       "      <td>Logged</td>\n",
       "      <td>Blocked</td>\n",
       "      <td>Ignored</td>\n",
       "      <td>Blocked</td>\n",
       "      <td>Blocked</td>\n",
       "    </tr>\n",
       "    <tr>\n",
       "      <th>Severity Level</th>\n",
       "      <td>Low</td>\n",
       "      <td>Low</td>\n",
       "      <td>Low</td>\n",
       "      <td>Medium</td>\n",
       "      <td>Low</td>\n",
       "    </tr>\n",
       "    <tr>\n",
       "      <th>User Information</th>\n",
       "      <td>Reyansh Dugal</td>\n",
       "      <td>Sumer Rana</td>\n",
       "      <td>Himmat Karpe</td>\n",
       "      <td>Fateh Kibe</td>\n",
       "      <td>Dhanush Chad</td>\n",
       "    </tr>\n",
       "    <tr>\n",
       "      <th>Device Information</th>\n",
       "      <td>Mozilla/5.0 (compatible; MSIE 8.0; Windows NT ...</td>\n",
       "      <td>Mozilla/5.0 (compatible; MSIE 8.0; Windows NT ...</td>\n",
       "      <td>Mozilla/5.0 (compatible; MSIE 9.0; Windows NT ...</td>\n",
       "      <td>Mozilla/5.0 (Macintosh; PPC Mac OS X 10_11_5; ...</td>\n",
       "      <td>Mozilla/5.0 (compatible; MSIE 5.0; Windows NT ...</td>\n",
       "    </tr>\n",
       "    <tr>\n",
       "      <th>Network Segment</th>\n",
       "      <td>Segment A</td>\n",
       "      <td>Segment B</td>\n",
       "      <td>Segment C</td>\n",
       "      <td>Segment B</td>\n",
       "      <td>Segment C</td>\n",
       "    </tr>\n",
       "    <tr>\n",
       "      <th>Geo-location Data</th>\n",
       "      <td>Jamshedpur, Sikkim</td>\n",
       "      <td>Bilaspur, Nagaland</td>\n",
       "      <td>Bokaro, Rajasthan</td>\n",
       "      <td>Jaunpur, Rajasthan</td>\n",
       "      <td>Anantapur, Tripura</td>\n",
       "    </tr>\n",
       "    <tr>\n",
       "      <th>Proxy Information</th>\n",
       "      <td>150.9.97.135</td>\n",
       "      <td>NaN</td>\n",
       "      <td>114.133.48.179</td>\n",
       "      <td>NaN</td>\n",
       "      <td>149.6.110.119</td>\n",
       "    </tr>\n",
       "    <tr>\n",
       "      <th>Firewall Logs</th>\n",
       "      <td>Log Data</td>\n",
       "      <td>Log Data</td>\n",
       "      <td>Log Data</td>\n",
       "      <td>NaN</td>\n",
       "      <td>NaN</td>\n",
       "    </tr>\n",
       "    <tr>\n",
       "      <th>IDS/IPS Alerts</th>\n",
       "      <td>NaN</td>\n",
       "      <td>NaN</td>\n",
       "      <td>Alert Data</td>\n",
       "      <td>Alert Data</td>\n",
       "      <td>Alert Data</td>\n",
       "    </tr>\n",
       "    <tr>\n",
       "      <th>Log Source</th>\n",
       "      <td>Server</td>\n",
       "      <td>Firewall</td>\n",
       "      <td>Firewall</td>\n",
       "      <td>Firewall</td>\n",
       "      <td>Firewall</td>\n",
       "    </tr>\n",
       "  </tbody>\n",
       "</table>\n",
       "</div>"
      ],
      "text/plain": [
       "                                                                        0  \\\n",
       "Timestamp                                             2023-05-30 06:33:58   \n",
       "Source IP Address                                           103.216.15.12   \n",
       "Destination IP Address                                       84.9.164.252   \n",
       "Source Port                                                         31225   \n",
       "Destination Port                                                    17616   \n",
       "Protocol                                                             ICMP   \n",
       "Packet Length                                                         503   \n",
       "Packet Type                                                          Data   \n",
       "Traffic Type                                                         HTTP   \n",
       "Payload Data            Qui natus odio asperiores nam. Optio nobis ius...   \n",
       "Malware Indicators                                           IoC Detected   \n",
       "Anomaly Scores                                                      28.67   \n",
       "Alerts/Warnings                                                       NaN   \n",
       "Attack Type                                                       Malware   \n",
       "Attack Signature                                          Known Pattern B   \n",
       "Action Taken                                                       Logged   \n",
       "Severity Level                                                        Low   \n",
       "User Information                                            Reyansh Dugal   \n",
       "Device Information      Mozilla/5.0 (compatible; MSIE 8.0; Windows NT ...   \n",
       "Network Segment                                                 Segment A   \n",
       "Geo-location Data                                      Jamshedpur, Sikkim   \n",
       "Proxy Information                                            150.9.97.135   \n",
       "Firewall Logs                                                    Log Data   \n",
       "IDS/IPS Alerts                                                        NaN   \n",
       "Log Source                                                         Server   \n",
       "\n",
       "                                                                        1  \\\n",
       "Timestamp                                             2020-08-26 07:08:30   \n",
       "Source IP Address                                          78.199.217.198   \n",
       "Destination IP Address                                     66.191.137.154   \n",
       "Source Port                                                         17245   \n",
       "Destination Port                                                    48166   \n",
       "Protocol                                                             ICMP   \n",
       "Packet Length                                                        1174   \n",
       "Packet Type                                                          Data   \n",
       "Traffic Type                                                         HTTP   \n",
       "Payload Data            Aperiam quos modi officiis veritatis rem. Omni...   \n",
       "Malware Indicators                                           IoC Detected   \n",
       "Anomaly Scores                                                       51.5   \n",
       "Alerts/Warnings                                                       NaN   \n",
       "Attack Type                                                       Malware   \n",
       "Attack Signature                                          Known Pattern A   \n",
       "Action Taken                                                      Blocked   \n",
       "Severity Level                                                        Low   \n",
       "User Information                                               Sumer Rana   \n",
       "Device Information      Mozilla/5.0 (compatible; MSIE 8.0; Windows NT ...   \n",
       "Network Segment                                                 Segment B   \n",
       "Geo-location Data                                      Bilaspur, Nagaland   \n",
       "Proxy Information                                                     NaN   \n",
       "Firewall Logs                                                    Log Data   \n",
       "IDS/IPS Alerts                                                        NaN   \n",
       "Log Source                                                       Firewall   \n",
       "\n",
       "                                                                        2  \\\n",
       "Timestamp                                             2022-11-13 08:23:25   \n",
       "Source IP Address                                            63.79.210.48   \n",
       "Destination IP Address                                      198.219.82.17   \n",
       "Source Port                                                         16811   \n",
       "Destination Port                                                    53600   \n",
       "Protocol                                                              UDP   \n",
       "Packet Length                                                         306   \n",
       "Packet Type                                                       Control   \n",
       "Traffic Type                                                         HTTP   \n",
       "Payload Data            Perferendis sapiente vitae soluta. Hic delectu...   \n",
       "Malware Indicators                                           IoC Detected   \n",
       "Anomaly Scores                                                      87.42   \n",
       "Alerts/Warnings                                           Alert Triggered   \n",
       "Attack Type                                                          DDoS   \n",
       "Attack Signature                                          Known Pattern B   \n",
       "Action Taken                                                      Ignored   \n",
       "Severity Level                                                        Low   \n",
       "User Information                                             Himmat Karpe   \n",
       "Device Information      Mozilla/5.0 (compatible; MSIE 9.0; Windows NT ...   \n",
       "Network Segment                                                 Segment C   \n",
       "Geo-location Data                                       Bokaro, Rajasthan   \n",
       "Proxy Information                                          114.133.48.179   \n",
       "Firewall Logs                                                    Log Data   \n",
       "IDS/IPS Alerts                                                 Alert Data   \n",
       "Log Source                                                       Firewall   \n",
       "\n",
       "                                                                        3  \\\n",
       "Timestamp                                             2023-07-02 10:38:46   \n",
       "Source IP Address                                           163.42.196.10   \n",
       "Destination IP Address                                    101.228.192.255   \n",
       "Source Port                                                         20018   \n",
       "Destination Port                                                    32534   \n",
       "Protocol                                                              UDP   \n",
       "Packet Length                                                         385   \n",
       "Packet Type                                                          Data   \n",
       "Traffic Type                                                         HTTP   \n",
       "Payload Data            Totam maxime beatae expedita explicabo porro l...   \n",
       "Malware Indicators                                                    NaN   \n",
       "Anomaly Scores                                                      15.79   \n",
       "Alerts/Warnings                                           Alert Triggered   \n",
       "Attack Type                                                       Malware   \n",
       "Attack Signature                                          Known Pattern B   \n",
       "Action Taken                                                      Blocked   \n",
       "Severity Level                                                     Medium   \n",
       "User Information                                               Fateh Kibe   \n",
       "Device Information      Mozilla/5.0 (Macintosh; PPC Mac OS X 10_11_5; ...   \n",
       "Network Segment                                                 Segment B   \n",
       "Geo-location Data                                      Jaunpur, Rajasthan   \n",
       "Proxy Information                                                     NaN   \n",
       "Firewall Logs                                                         NaN   \n",
       "IDS/IPS Alerts                                                 Alert Data   \n",
       "Log Source                                                       Firewall   \n",
       "\n",
       "                                                                        4  \n",
       "Timestamp                                             2023-07-16 13:11:07  \n",
       "Source IP Address                                           71.166.185.76  \n",
       "Destination IP Address                                    189.243.174.238  \n",
       "Source Port                                                          6131  \n",
       "Destination Port                                                    26646  \n",
       "Protocol                                                              TCP  \n",
       "Packet Length                                                        1462  \n",
       "Packet Type                                                          Data  \n",
       "Traffic Type                                                          DNS  \n",
       "Payload Data            Odit nesciunt dolorem nisi iste iusto. Animi v...  \n",
       "Malware Indicators                                                    NaN  \n",
       "Anomaly Scores                                                       0.52  \n",
       "Alerts/Warnings                                           Alert Triggered  \n",
       "Attack Type                                                          DDoS  \n",
       "Attack Signature                                          Known Pattern B  \n",
       "Action Taken                                                      Blocked  \n",
       "Severity Level                                                        Low  \n",
       "User Information                                             Dhanush Chad  \n",
       "Device Information      Mozilla/5.0 (compatible; MSIE 5.0; Windows NT ...  \n",
       "Network Segment                                                 Segment C  \n",
       "Geo-location Data                                      Anantapur, Tripura  \n",
       "Proxy Information                                           149.6.110.119  \n",
       "Firewall Logs                                                         NaN  \n",
       "IDS/IPS Alerts                                                 Alert Data  \n",
       "Log Source                                                       Firewall  "
      ]
     },
     "execution_count": 5,
     "metadata": {},
     "output_type": "execute_result"
    }
   ],
   "source": [
    "df.head().T"
   ]
  },
  {
   "cell_type": "code",
   "execution_count": 6,
   "metadata": {},
   "outputs": [
    {
     "data": {
      "text/plain": [
       "Index(['Timestamp', 'Source IP Address', 'Destination IP Address',\n",
       "       'Source Port', 'Destination Port', 'Protocol', 'Packet Length',\n",
       "       'Packet Type', 'Traffic Type', 'Payload Data', 'Malware Indicators',\n",
       "       'Anomaly Scores', 'Alerts/Warnings', 'Attack Type', 'Attack Signature',\n",
       "       'Action Taken', 'Severity Level', 'User Information',\n",
       "       'Device Information', 'Network Segment', 'Geo-location Data',\n",
       "       'Proxy Information', 'Firewall Logs', 'IDS/IPS Alerts', 'Log Source'],\n",
       "      dtype='object')"
      ]
     },
     "execution_count": 6,
     "metadata": {},
     "output_type": "execute_result"
    }
   ],
   "source": [
    "# List Columns\n",
    "df.columns"
   ]
  },
  {
   "cell_type": "code",
   "execution_count": 7,
   "metadata": {},
   "outputs": [
    {
     "name": "stdout",
     "output_type": "stream",
     "text": [
      "There are 40000, row and 25 columns in the dataset\n"
     ]
    }
   ],
   "source": [
    "# Shape of data\n",
    "print(f\"There are {df.shape[0]}, row and {df.shape[1]} columns in the dataset\")"
   ]
  },
  {
   "cell_type": "code",
   "execution_count": 8,
   "metadata": {},
   "outputs": [
    {
     "data": {
      "text/plain": [
       "<bound method DataFrame.info of                  Timestamp Source IP Address Destination IP Address  \\\n",
       "0      2023-05-30 06:33:58     103.216.15.12           84.9.164.252   \n",
       "1      2020-08-26 07:08:30    78.199.217.198         66.191.137.154   \n",
       "2      2022-11-13 08:23:25      63.79.210.48          198.219.82.17   \n",
       "3      2023-07-02 10:38:46     163.42.196.10        101.228.192.255   \n",
       "4      2023-07-16 13:11:07     71.166.185.76        189.243.174.238   \n",
       "...                    ...               ...                    ...   \n",
       "39995  2023-05-26 14:08:42      26.36.109.26         121.100.75.240   \n",
       "39996  2023-03-27 00:38:27      17.21.163.81         196.108.134.78   \n",
       "39997  2022-03-31 01:45:49     162.35.217.57            98.107.0.15   \n",
       "39998  2023-09-22 18:32:38    208.72.233.205         173.79.112.252   \n",
       "39999  2023-10-10 11:59:52     14.102.21.108           109.198.45.7   \n",
       "\n",
       "       Source Port  Destination Port Protocol  Packet Length Packet Type  \\\n",
       "0            31225             17616     ICMP            503        Data   \n",
       "1            17245             48166     ICMP           1174        Data   \n",
       "2            16811             53600      UDP            306     Control   \n",
       "3            20018             32534      UDP            385        Data   \n",
       "4             6131             26646      TCP           1462        Data   \n",
       "...            ...               ...      ...            ...         ...   \n",
       "39995        31005              6764      UDP           1428     Control   \n",
       "39996         2553             28091      UDP           1184     Control   \n",
       "39997        22505             25152      UDP           1043        Data   \n",
       "39998        20013              2703      UDP            483        Data   \n",
       "39999        50137             55575     ICMP           1175     Control   \n",
       "\n",
       "      Traffic Type                                       Payload Data  ...  \\\n",
       "0             HTTP  Qui natus odio asperiores nam. Optio nobis ius...  ...   \n",
       "1             HTTP  Aperiam quos modi officiis veritatis rem. Omni...  ...   \n",
       "2             HTTP  Perferendis sapiente vitae soluta. Hic delectu...  ...   \n",
       "3             HTTP  Totam maxime beatae expedita explicabo porro l...  ...   \n",
       "4              DNS  Odit nesciunt dolorem nisi iste iusto. Animi v...  ...   \n",
       "...            ...                                                ...  ...   \n",
       "39995         HTTP  Quibusdam ullam consequatur consequuntur accus...  ...   \n",
       "39996         HTTP  Quaerat neque esse. Animi expedita natus commo...  ...   \n",
       "39997          DNS  Enim at aspernatur illum. Saepe numquam eligen...  ...   \n",
       "39998          FTP  Officiis dolorem sed harum provident earum dis...  ...   \n",
       "39999         HTTP  Eligendi omnis voluptate nihil voluptatibus do...  ...   \n",
       "\n",
       "      Action Taken  Severity Level User Information  \\\n",
       "0           Logged             Low    Reyansh Dugal   \n",
       "1          Blocked             Low       Sumer Rana   \n",
       "2          Ignored             Low     Himmat Karpe   \n",
       "3          Blocked          Medium       Fateh Kibe   \n",
       "4          Blocked             Low     Dhanush Chad   \n",
       "...            ...             ...              ...   \n",
       "39995       Logged          Medium      Adira Madan   \n",
       "39996       Logged            High        Rati Dara   \n",
       "39997      Blocked             Low     Samiha Joshi   \n",
       "39998      Ignored             Low    Rasha Chauhan   \n",
       "39999       Logged          Medium      Zaina Kumar   \n",
       "\n",
       "                                      Device Information Network Segment  \\\n",
       "0      Mozilla/5.0 (compatible; MSIE 8.0; Windows NT ...       Segment A   \n",
       "1      Mozilla/5.0 (compatible; MSIE 8.0; Windows NT ...       Segment B   \n",
       "2      Mozilla/5.0 (compatible; MSIE 9.0; Windows NT ...       Segment C   \n",
       "3      Mozilla/5.0 (Macintosh; PPC Mac OS X 10_11_5; ...       Segment B   \n",
       "4      Mozilla/5.0 (compatible; MSIE 5.0; Windows NT ...       Segment C   \n",
       "...                                                  ...             ...   \n",
       "39995  Mozilla/5.0 (iPad; CPU iPad OS 14_2_1 like Mac...       Segment A   \n",
       "39996  Mozilla/5.0 (Windows; U; Windows 98; Win 9x 4....       Segment C   \n",
       "39997  Mozilla/5.0 (Windows; U; Windows NT 4.0) Apple...       Segment C   \n",
       "39998  Mozilla/5.0 (X11; Linux i686) AppleWebKit/536....       Segment B   \n",
       "39999  Mozilla/5.0 (iPod; U; CPU iPhone OS 3_0 like M...       Segment A   \n",
       "\n",
       "                   Geo-location Data Proxy Information Firewall Logs  \\\n",
       "0                 Jamshedpur, Sikkim      150.9.97.135      Log Data   \n",
       "1                 Bilaspur, Nagaland               NaN      Log Data   \n",
       "2                  Bokaro, Rajasthan    114.133.48.179      Log Data   \n",
       "3                 Jaunpur, Rajasthan               NaN           NaN   \n",
       "4                 Anantapur, Tripura     149.6.110.119           NaN   \n",
       "...                              ...               ...           ...   \n",
       "39995                Nashik, Manipur               NaN      Log Data   \n",
       "39996              Vadodara, Mizoram       60.51.30.46      Log Data   \n",
       "39997  Mahbubnagar, Himachal Pradesh               NaN      Log Data   \n",
       "39998    Rourkela, Arunachal Pradesh      137.76.130.8      Log Data   \n",
       "39999       Pudukkottai, West Bengal   112.169.115.139      Log Data   \n",
       "\n",
       "      IDS/IPS Alerts Log Source  \n",
       "0                NaN     Server  \n",
       "1                NaN   Firewall  \n",
       "2         Alert Data   Firewall  \n",
       "3         Alert Data   Firewall  \n",
       "4         Alert Data   Firewall  \n",
       "...              ...        ...  \n",
       "39995     Alert Data   Firewall  \n",
       "39996            NaN   Firewall  \n",
       "39997     Alert Data     Server  \n",
       "39998            NaN     Server  \n",
       "39999     Alert Data   Firewall  \n",
       "\n",
       "[40000 rows x 25 columns]>"
      ]
     },
     "execution_count": 8,
     "metadata": {},
     "output_type": "execute_result"
    }
   ],
   "source": [
    "# dataset Info\n",
    "df.info"
   ]
  },
  {
   "cell_type": "markdown",
   "metadata": {},
   "source": [
    "### Checking the Missing/Null Values"
   ]
  },
  {
   "cell_type": "code",
   "execution_count": 9,
   "metadata": {},
   "outputs": [
    {
     "data": {
      "text/plain": [
       "Alerts/Warnings           20067\n",
       "IDS/IPS Alerts            20050\n",
       "Malware Indicators        20000\n",
       "Firewall Logs             19961\n",
       "Proxy Information         19851\n",
       "Attack Type                   0\n",
       "Geo-location Data             0\n",
       "Network Segment               0\n",
       "Device Information            0\n",
       "User Information              0\n",
       "Severity Level                0\n",
       "Action Taken                  0\n",
       "Attack Signature              0\n",
       "Timestamp                     0\n",
       "Source IP Address             0\n",
       "Anomaly Scores                0\n",
       "Payload Data                  0\n",
       "Traffic Type                  0\n",
       "Packet Type                   0\n",
       "Packet Length                 0\n",
       "Protocol                      0\n",
       "Destination Port              0\n",
       "Source Port                   0\n",
       "Destination IP Address        0\n",
       "Log Source                    0\n",
       "dtype: int64"
      ]
     },
     "execution_count": 9,
     "metadata": {},
     "output_type": "execute_result"
    }
   ],
   "source": [
    "df.isnull().sum().sort_values(ascending=False)"
   ]
  },
  {
   "cell_type": "markdown",
   "metadata": {},
   "source": [
    "- Following Columns have missing values:\n",
    "- Alerts/Warnings 20067\n",
    "- IDS/IPS Alerts 20050\n",
    "- Malware Indicators 20000\n",
    "- Firewall Logs 19961\n",
    "- Proxy Information 19851"
   ]
  },
  {
   "cell_type": "code",
   "execution_count": 10,
   "metadata": {},
   "outputs": [
    {
     "data": {
      "text/plain": [
       "Timestamp                  0.0000\n",
       "Source IP Address          0.0000\n",
       "Destination IP Address     0.0000\n",
       "Source Port                0.0000\n",
       "Destination Port           0.0000\n",
       "Protocol                   0.0000\n",
       "Packet Length              0.0000\n",
       "Packet Type                0.0000\n",
       "Traffic Type               0.0000\n",
       "Payload Data               0.0000\n",
       "Malware Indicators        50.0000\n",
       "Anomaly Scores             0.0000\n",
       "Alerts/Warnings           50.1675\n",
       "Attack Type                0.0000\n",
       "Attack Signature           0.0000\n",
       "Action Taken               0.0000\n",
       "Severity Level             0.0000\n",
       "User Information           0.0000\n",
       "Device Information         0.0000\n",
       "Network Segment            0.0000\n",
       "Geo-location Data          0.0000\n",
       "Proxy Information         49.6275\n",
       "Firewall Logs             49.9025\n",
       "IDS/IPS Alerts            50.1250\n",
       "Log Source                 0.0000\n",
       "dtype: float64"
      ]
     },
     "execution_count": 10,
     "metadata": {},
     "output_type": "execute_result"
    }
   ],
   "source": [
    "# Missing Value by Percentage\n",
    "df.isnull().sum() / len(df) * 100"
   ]
  },
  {
   "cell_type": "markdown",
   "metadata": {},
   "source": [
    "### Let's Handle the Missing Values First"
   ]
  },
  {
   "cell_type": "code",
   "execution_count": 11,
   "metadata": {},
   "outputs": [
    {
     "name": "stdout",
     "output_type": "stream",
     "text": [
      "0         no\n",
      "1         no\n",
      "2        yes\n",
      "3        yes\n",
      "4        yes\n",
      "        ... \n",
      "39995     no\n",
      "39996     no\n",
      "39997     no\n",
      "39998    yes\n",
      "39999    yes\n",
      "Name: Alerts/Warnings, Length: 40000, dtype: object\n"
     ]
    }
   ],
   "source": [
    "# Determine recent activity\n",
    "df[\"Alerts/Warnings\"] = df[\"Alerts/Warnings\"].apply(lambda x: \"yes\" if x == \"Alert Triggered\" else \"no\")\n",
    "print(df[\"Alerts/Warnings\"])"
   ]
  },
  {
   "cell_type": "markdown",
   "metadata": {},
   "source": [
    "- If the Alert Triggered is present, then it's a yes, else it's a no."
   ]
  },
  {
   "cell_type": "code",
   "execution_count": 12,
   "metadata": {},
   "outputs": [
    {
     "name": "stdout",
     "output_type": "stream",
     "text": [
      "0        IoC Detected\n",
      "1        IoC Detected\n",
      "2        IoC Detected\n",
      "3        No Detection\n",
      "4        No Detection\n",
      "             ...     \n",
      "39995    IoC Detected\n",
      "39996    IoC Detected\n",
      "39997    IoC Detected\n",
      "39998    IoC Detected\n",
      "39999    No Detection\n",
      "Name: Malware Indicators, Length: 40000, dtype: object\n"
     ]
    }
   ],
   "source": [
    "df[\"Malware Indicators\"] = df[\"Malware Indicators\"].apply(lambda x: \"No Detection\" if pd.isna(x) else x)\n",
    "print(df[\"Malware Indicators\"])"
   ]
  },
  {
   "cell_type": "markdown",
   "metadata": {},
   "source": [
    "- If the Malware Indicators is present, then it's a No, else it's a No Detection."
   ]
  },
  {
   "cell_type": "code",
   "execution_count": 13,
   "metadata": {},
   "outputs": [
    {
     "name": "stdout",
     "output_type": "stream",
     "text": [
      "0           150.9.97.135\n",
      "1               No proxy\n",
      "2         114.133.48.179\n",
      "3               No proxy\n",
      "4          149.6.110.119\n",
      "              ...       \n",
      "39995           No proxy\n",
      "39996        60.51.30.46\n",
      "39997           No proxy\n",
      "39998       137.76.130.8\n",
      "39999    112.169.115.139\n",
      "Name: Proxy Information, Length: 40000, dtype: object\n"
     ]
    }
   ],
   "source": [
    "df['Proxy Information'] = df['Proxy Information'].apply(lambda x: 'No proxy' if pd.isna(x) else x)\n",
    "print(df[\"Proxy Information\"])"
   ]
  },
  {
   "cell_type": "markdown",
   "metadata": {},
   "source": [
    "- If Proxy Information is missing, it is assumed that there is no proxy"
   ]
  },
  {
   "cell_type": "code",
   "execution_count": 14,
   "metadata": {},
   "outputs": [
    {
     "name": "stdout",
     "output_type": "stream",
     "text": [
      "0        Log Data\n",
      "1        Log Data\n",
      "2        Log Data\n",
      "3         No Data\n",
      "4         No Data\n",
      "           ...   \n",
      "39995    Log Data\n",
      "39996    Log Data\n",
      "39997    Log Data\n",
      "39998    Log Data\n",
      "39999    Log Data\n",
      "Name: Firewall Logs, Length: 40000, dtype: object\n"
     ]
    }
   ],
   "source": [
    "df['Firewall Logs'] = df['Firewall Logs'].apply(lambda x: 'No Data' if pd.isna(x) else x)\n",
    "print(df[\"Firewall Logs\"])"
   ]
  },
  {
   "cell_type": "markdown",
   "metadata": {},
   "source": [
    "- If Firewall Logs is missing, it is assumed that there is no data"
   ]
  },
  {
   "cell_type": "code",
   "execution_count": 15,
   "metadata": {},
   "outputs": [
    {
     "name": "stdout",
     "output_type": "stream",
     "text": [
      "0           No Data\n",
      "1           No Data\n",
      "2        Alert Data\n",
      "3        Alert Data\n",
      "4        Alert Data\n",
      "            ...    \n",
      "39995    Alert Data\n",
      "39996       No Data\n",
      "39997    Alert Data\n",
      "39998       No Data\n",
      "39999    Alert Data\n",
      "Name: IDS/IPS Alerts, Length: 40000, dtype: object\n"
     ]
    }
   ],
   "source": [
    "df['IDS/IPS Alerts'] = df['IDS/IPS Alerts'].apply(lambda x: 'No Data' if pd.isna(x) else x)\n",
    "print(df[\"IDS/IPS Alerts\"])"
   ]
  },
  {
   "cell_type": "markdown",
   "metadata": {},
   "source": [
    "- If IDS/IPS Alerts is \"No Data\", then it means that the alert was not generated by IDS/IPS."
   ]
  },
  {
   "cell_type": "code",
   "execution_count": 16,
   "metadata": {},
   "outputs": [
    {
     "data": {
      "text/plain": [
       "Timestamp                 0\n",
       "Attack Type               0\n",
       "IDS/IPS Alerts            0\n",
       "Firewall Logs             0\n",
       "Proxy Information         0\n",
       "Geo-location Data         0\n",
       "Network Segment           0\n",
       "Device Information        0\n",
       "User Information          0\n",
       "Severity Level            0\n",
       "Action Taken              0\n",
       "Attack Signature          0\n",
       "Alerts/Warnings           0\n",
       "Source IP Address         0\n",
       "Anomaly Scores            0\n",
       "Malware Indicators        0\n",
       "Payload Data              0\n",
       "Traffic Type              0\n",
       "Packet Type               0\n",
       "Packet Length             0\n",
       "Protocol                  0\n",
       "Destination Port          0\n",
       "Source Port               0\n",
       "Destination IP Address    0\n",
       "Log Source                0\n",
       "dtype: int64"
      ]
     },
     "execution_count": 16,
     "metadata": {},
     "output_type": "execute_result"
    }
   ],
   "source": [
    "df.isnull().sum().sort_values(ascending=False)"
   ]
  },
  {
   "cell_type": "markdown",
   "metadata": {},
   "source": [
    "- All Missing Values are removed."
   ]
  },
  {
   "cell_type": "markdown",
   "metadata": {},
   "source": [
    "### Let's Explore the Device Information Column"
   ]
  },
  {
   "cell_type": "code",
   "execution_count": 17,
   "metadata": {},
   "outputs": [
    {
     "data": {
      "text/plain": [
       "Device Information\n",
       "Mozilla/5.0 (compatible; MSIE 6.0; Windows NT 6.2; Trident/3.0)                                                                                       35\n",
       "Mozilla/5.0 (compatible; MSIE 5.0; Windows 98; Trident/4.1)                                                                                           34\n",
       "Mozilla/5.0 (compatible; MSIE 6.0; Windows CE; Trident/4.0)                                                                                           33\n",
       "Mozilla/5.0 (compatible; MSIE 7.0; Windows NT 6.0; Trident/3.0)                                                                                       31\n",
       "Mozilla/5.0 (compatible; MSIE 5.0; Windows NT 5.2; Trident/4.1)                                                                                       31\n",
       "                                                                                                                                                      ..\n",
       "Mozilla/5.0 (Macintosh; PPC Mac OS X 10_9_2; rv:1.9.2.20) Gecko/6474-09-17 07:53:12 Firefox/3.6.9                                                      1\n",
       "Mozilla/5.0 (iPhone; CPU iPhone OS 14_2 like Mac OS X) AppleWebKit/535.0 (KHTML, like Gecko) CriOS/19.0.850.0 Mobile/88P921 Safari/535.0               1\n",
       "Mozilla/5.0 (Windows NT 5.0; km-KH; rv:1.9.2.20) Gecko/7799-03-13 07:30:55 Firefox/3.8                                                                 1\n",
       "Mozilla/5.0 (X11; Linux i686; rv:1.9.7.20) Gecko/6248-04-01 13:49:59 Firefox/3.8                                                                       1\n",
       "Mozilla/5.0 (iPod; U; CPU iPhone OS 3_0 like Mac OS X; tg-TJ) AppleWebKit/534.33.5 (KHTML, like Gecko) Version/4.0.5 Mobile/8B116 Safari/6534.33.5     1\n",
       "Name: count, Length: 32104, dtype: int64"
      ]
     },
     "execution_count": 17,
     "metadata": {},
     "output_type": "execute_result"
    }
   ],
   "source": [
    "df['Device Information'].value_counts()"
   ]
  },
  {
   "cell_type": "code",
   "execution_count": 18,
   "metadata": {},
   "outputs": [
    {
     "name": "stdout",
     "output_type": "stream",
     "text": [
      "0        Mozilla\n",
      "1        Mozilla\n",
      "2        Mozilla\n",
      "3        Mozilla\n",
      "4        Mozilla\n",
      "          ...   \n",
      "39995    Mozilla\n",
      "39996    Mozilla\n",
      "39997    Mozilla\n",
      "39998    Mozilla\n",
      "39999    Mozilla\n",
      "Name: Browser, Length: 40000, dtype: object\n"
     ]
    }
   ],
   "source": [
    "# Extract 'Device'\n",
    "df['Browser'] = df['Device Information'].str.split('/').str[0]\n",
    "print(df[\"Browser\"])"
   ]
  },
  {
   "cell_type": "markdown",
   "metadata": {},
   "source": [
    "- We've created the Browser column."
   ]
  },
  {
   "cell_type": "code",
   "execution_count": 19,
   "metadata": {},
   "outputs": [
    {
     "name": "stdout",
     "output_type": "stream",
     "text": [
      "0          Windows\n",
      "1          Windows\n",
      "2          Windows\n",
      "3        Macintosh\n",
      "4          Windows\n",
      "           ...    \n",
      "39995         iPad\n",
      "39996      Windows\n",
      "39997      Windows\n",
      "39998        Linux\n",
      "39999         iPod\n",
      "Name: Device/OS, Length: 40000, dtype: object\n"
     ]
    }
   ],
   "source": [
    "import re\n",
    "# OS and device patterns to search for\n",
    "patterns = [\n",
    "    r'Windows',\n",
    "    r'Linux',\n",
    "    r'Android',\n",
    "    r'iPad',\n",
    "    r'iPod',\n",
    "    r'iPhone',\n",
    "    r'Macintosh',\n",
    "]\n",
    "\n",
    "def extract_device_or_os(user_agent):\n",
    "    for pattern in patterns:\n",
    "        match = re.search(pattern, user_agent, re.I)  # re.I makes the search case-insensitive\n",
    "        if match:\n",
    "            return match.group()\n",
    "    return 'Unknown'  # Return 'Unknown' if no patterns match\n",
    "\n",
    "# Extract device or OS\n",
    "df['Device/OS'] = df['Device Information'].apply(extract_device_or_os)\n",
    "print(df[\"Device/OS\"])"
   ]
  },
  {
   "cell_type": "markdown",
   "metadata": {},
   "source": [
    "- We've created the Device/OS column."
   ]
  },
  {
   "cell_type": "code",
   "execution_count": 20,
   "metadata": {},
   "outputs": [
    {
     "data": {
      "text/plain": [
       "Browser\n",
       "Mozilla    31951\n",
       "Opera       8049\n",
       "Name: count, dtype: int64"
      ]
     },
     "execution_count": 20,
     "metadata": {},
     "output_type": "execute_result"
    }
   ],
   "source": [
    "df['Browser'].value_counts()"
   ]
  },
  {
   "cell_type": "code",
   "execution_count": 21,
   "metadata": {},
   "outputs": [
    {
     "data": {
      "text/plain": [
       "Device/OS\n",
       "Windows      17953\n",
       "Linux         8840\n",
       "Macintosh     5813\n",
       "iPod          2656\n",
       "Android       1620\n",
       "iPhone        1567\n",
       "iPad          1551\n",
       "Name: count, dtype: int64"
      ]
     },
     "execution_count": 21,
     "metadata": {},
     "output_type": "execute_result"
    }
   ],
   "source": [
    "df['Device/OS'].value_counts()"
   ]
  },
  {
   "cell_type": "markdown",
   "metadata": {},
   "source": [
    "- Dropping the Device Information Column"
   ]
  },
  {
   "cell_type": "code",
   "execution_count": 22,
   "metadata": {},
   "outputs": [],
   "source": [
    "df = df.drop('Device Information', axis = 1)"
   ]
  },
  {
   "cell_type": "markdown",
   "metadata": {},
   "source": [
    "- All Missing Values are handled, now we can move on to the next step."
   ]
  },
  {
   "cell_type": "code",
   "execution_count": 23,
   "metadata": {},
   "outputs": [],
   "source": [
    "def extract_time_features(df, Timestamp):\n",
    "    # Convert timestamp column to datetime if it's not already\n",
    "    df[Timestamp] = pd.to_datetime(df[Timestamp])\n",
    "    \n",
    "    # Extract time features\n",
    "    df['Year'] = df[Timestamp].dt.year\n",
    "    df['Month'] = df[Timestamp].dt.month\n",
    "    df['Day'] = df[Timestamp].dt.day\n",
    "    df['Hour'] = df[Timestamp].dt.hour\n",
    "    df['Minute'] = df[Timestamp].dt.minute\n",
    "    df['Second'] = df[Timestamp].dt.second\n",
    "    df['DayOfWeek'] = df[Timestamp].dt.dayofweek\n",
    "    \n",
    "    return df"
   ]
  },
  {
   "cell_type": "code",
   "execution_count": 24,
   "metadata": {},
   "outputs": [
    {
     "name": "stdout",
     "output_type": "stream",
     "text": [
      "            Timestamp Source IP Address Destination IP Address  Source Port  \\\n",
      "0 2023-05-30 06:33:58     103.216.15.12           84.9.164.252        31225   \n",
      "1 2020-08-26 07:08:30    78.199.217.198         66.191.137.154        17245   \n",
      "2 2022-11-13 08:23:25      63.79.210.48          198.219.82.17        16811   \n",
      "3 2023-07-02 10:38:46     163.42.196.10        101.228.192.255        20018   \n",
      "4 2023-07-16 13:11:07     71.166.185.76        189.243.174.238         6131   \n",
      "\n",
      "   Destination Port Protocol  Packet Length Packet Type Traffic Type  \\\n",
      "0             17616     ICMP            503        Data         HTTP   \n",
      "1             48166     ICMP           1174        Data         HTTP   \n",
      "2             53600      UDP            306     Control         HTTP   \n",
      "3             32534      UDP            385        Data         HTTP   \n",
      "4             26646      TCP           1462        Data          DNS   \n",
      "\n",
      "                                        Payload Data  ... Log Source  Browser  \\\n",
      "0  Qui natus odio asperiores nam. Optio nobis ius...  ...     Server  Mozilla   \n",
      "1  Aperiam quos modi officiis veritatis rem. Omni...  ...   Firewall  Mozilla   \n",
      "2  Perferendis sapiente vitae soluta. Hic delectu...  ...   Firewall  Mozilla   \n",
      "3  Totam maxime beatae expedita explicabo porro l...  ...   Firewall  Mozilla   \n",
      "4  Odit nesciunt dolorem nisi iste iusto. Animi v...  ...   Firewall  Mozilla   \n",
      "\n",
      "   Device/OS  Year Month Day Hour Minute Second DayOfWeek  \n",
      "0    Windows  2023     5  30    6     33     58         1  \n",
      "1    Windows  2020     8  26    7      8     30         2  \n",
      "2    Windows  2022    11  13    8     23     25         6  \n",
      "3  Macintosh  2023     7   2   10     38     46         6  \n",
      "4    Windows  2023     7  16   13     11      7         6  \n",
      "\n",
      "[5 rows x 33 columns]\n"
     ]
    }
   ],
   "source": [
    "# Assuming df is your DataFrame\n",
    "# Call the function and store the result in a new DataFrame\n",
    "new_df = extract_time_features(df, 'Timestamp')\n",
    "\n",
    "# Check if new columns are created\n",
    "print(new_df.head())"
   ]
  },
  {
   "cell_type": "code",
   "execution_count": null,
   "metadata": {},
   "outputs": [],
   "source": [
    "df.head().T"
   ]
  },
  {
   "cell_type": "code",
   "execution_count": null,
   "metadata": {},
   "outputs": [],
   "source": [
    "df.describe(include = 'object').T"
   ]
  },
  {
   "cell_type": "code",
   "execution_count": null,
   "metadata": {},
   "outputs": [],
   "source": [
    "df.columns"
   ]
  },
  {
   "cell_type": "markdown",
   "metadata": {},
   "source": [
    "### Let's Explore Each Column"
   ]
  },
  {
   "cell_type": "markdown",
   "metadata": {},
   "source": [
    "- First We'll Explore the Timestamp Column."
   ]
  },
  {
   "cell_type": "code",
   "execution_count": null,
   "metadata": {},
   "outputs": [],
   "source": [
    "# Checking the Day Column ploting with plotly\n",
    "plt = px.histogram(df, x = 'Day', color = 'Malware Indicators', title = 'Number of Malware Attacks by Day')\n",
    "plt.show()"
   ]
  }
 ],
 "metadata": {
  "kernelspec": {
   "display_name": ".venv",
   "language": "python",
   "name": "python3"
  },
  "language_info": {
   "codemirror_mode": {
    "name": "ipython",
    "version": 3
   },
   "file_extension": ".py",
   "mimetype": "text/x-python",
   "name": "python",
   "nbconvert_exporter": "python",
   "pygments_lexer": "ipython3",
   "version": "3.12.3"
  }
 },
 "nbformat": 4,
 "nbformat_minor": 2
}
