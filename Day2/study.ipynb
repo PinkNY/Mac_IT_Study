{
 "cells": [
  {
   "cell_type": "code",
   "execution_count": 1,
   "metadata": {},
   "outputs": [
    {
     "name": "stdout",
     "output_type": "stream",
     "text": [
      "15\n"
     ]
    }
   ],
   "source": [
    "def higher_order_function(a,b,func):\n",
    "    return func(a,b)\n",
    "    # 함수를 두 숫자에 적용한 결과를 반환하는 코드를 작성하세요\n",
    "\n",
    "# 예시 함수\n",
    "def multiply(a, b):\n",
    "    return a * b\n",
    "\n",
    "# 고차 함수를 호출하고 결과를 출력하세요\n",
    "result = higher_order_function(5, 3, multiply)\n",
    "print(result)  # 출력: 15"
   ]
  },
  {
   "cell_type": "code",
   "execution_count": 2,
   "metadata": {},
   "outputs": [
    {
     "name": "stdout",
     "output_type": "stream",
     "text": [
      "8\n"
     ]
    }
   ],
   "source": [
    "sum_lambda = lambda a, b: a+b\n",
    "# 두 숫자의 합을 반환하는 람다 함수를 작성하세요\n",
    "\n",
    "# 람다 함수를 호출하고 결과를 출력하세요\n",
    "result = sum_lambda(5, 3)\n",
    "print(result)  # 출력: 8"
   ]
  },
  {
   "cell_type": "code",
   "execution_count": 3,
   "metadata": {},
   "outputs": [
    {
     "name": "stdout",
     "output_type": "stream",
     "text": [
      "8\n"
     ]
    }
   ],
   "source": [
    "def apply_callback(a,b, callback):\n",
    "    return callback(a,b)\n",
    "    # 콜백 함수를 두 숫자에 적용한 결과를 반환하는 코드를 작성하세요\n",
    "\n",
    "# 예시 콜백 함수\n",
    "def add(a, b):\n",
    "    return a + b\n",
    "\n",
    "# 함수를 호출하고 결과를 출력하세요\n",
    "result = apply_callback(5, 3, add)\n",
    "print(result)  # 출력: 8"
   ]
  },
  {
   "cell_type": "code",
   "execution_count": 4,
   "metadata": {},
   "outputs": [
    {
     "name": "stdout",
     "output_type": "stream",
     "text": [
      "(8, 15)\n"
     ]
    }
   ],
   "source": [
    "def add_and_multiply(a,b):\n",
    "    return a+b, a*b\n",
    "    # 두 숫자의 합과 곱을 튜플로 반환하는 코드를 작성하세요\n",
    "\n",
    "# 함수를 호출하고 결과를 출력하세요\n",
    "result = add_and_multiply(5, 3)\n",
    "print(result)  # 출력: (8, 15)"
   ]
  },
  {
   "cell_type": "code",
   "execution_count": 7,
   "metadata": {},
   "outputs": [
    {
     "name": "stdout",
     "output_type": "stream",
     "text": [
      "1::2::3::4::5::6\n"
     ]
    }
   ],
   "source": [
    "numbers = [1, 2, 3, 4, 5, 6]\n",
    "\n",
    "numbers = [str(number) for number in numbers]\n",
    "\n",
    "print(\"::\".join(numbers))"
   ]
  },
  {
   "cell_type": "code",
   "execution_count": 6,
   "metadata": {},
   "outputs": [
    {
     "name": "stdout",
     "output_type": "stream",
     "text": [
      "# 홀수만 추출하기\n",
      "[1, 3, 5, 7, 9]\n",
      "\n",
      "# 3이상, 7미만 추출하기\n",
      "[3, 4, 5, 6]\n",
      "\n",
      "# 제곱해서 50미만 추출하기\n",
      "[1, 2, 3, 4, 5, 6, 7]\n"
     ]
    }
   ],
   "source": [
    "numbers = list(range(1, 10 + 1))\n",
    "\n",
    "print(\"# 홀수만 추출하기\")\n",
    "print(list(filter(lambda x: x % 2 == 1, numbers)))\n",
    "print()\n",
    "\n",
    "print(\"# 3이상, 7미만 추출하기\")\n",
    "print(list(filter(lambda x: x >= 3 and x < 7, numbers)))\n",
    "print()\n",
    "\n",
    "print(\"# 제곱해서 50미만 추출하기\")\n",
    "print(list(filter(lambda x: x ** 2 < 50, numbers)))"
   ]
  },
  {
   "cell_type": "code",
   "execution_count": 10,
   "metadata": {},
   "outputs": [],
   "source": [
    "import calculator\n",
    "\n",
    "# calculator.py\n",
    "\n",
    "def add(a, b):\n",
    "    return a + b\n",
    "\n",
    "def subtract(a, b):\n",
    "    return a - b\n",
    "\n",
    "def multiply(a, b):\n",
    "    return a * b\n",
    "\n",
    "def divide(a, b):\n",
    "    if b == 0:\n",
    "        print(\"오류: 0으로 나눌 수 없습니다.\")\n",
    "        return None\n",
    "    return a / b\n",
    "\n",
    "def power(base, exponent):\n",
    "    return base ** exponent\n",
    "\n",
    "def sqrt(number):\n",
    "    if number < 0:\n",
    "        print(\"오류: 음수의 제곱근을 계산할 수 없습니다.\")\n",
    "        return None\n",
    "    return number ** 0.5\n",
    "\n",
    "\n"
   ]
  },
  {
   "cell_type": "code",
   "execution_count": 15,
   "metadata": {},
   "outputs": [
    {
     "name": "stdout",
     "output_type": "stream",
     "text": [
      "BankAccount(Charlie, Balance: 500)\n",
      "600\n",
      "400\n",
      "Insufficient funds\n"
     ]
    }
   ],
   "source": [
    "class BankAccount:\n",
    "    def __init__(self, owner, balance=0):\n",
    "        self.owner = owner\n",
    "        self.balance = balance\n",
    "        \n",
    "    def deposit(self, amount):\n",
    "        self.balance += amount\n",
    "        return self.balance\n",
    "    \n",
    "    def withdraw(self, amount):\n",
    "        if amount > self.balance:\n",
    "            return \"Insufficient funds\"\n",
    "        self.balance -= amount\n",
    "        return self.balance\n",
    "    \n",
    "    def __str__(self):\n",
    "        return f\"BankAccount({self.owner}, Balance: {self.balance})\"\n",
    "        \n",
    "     \n",
    "\n",
    "# 테스트 코드\n",
    "acc = BankAccount(\"Charlie\", 500)\n",
    "print(acc)\n",
    "print(acc.deposit(100))\n",
    "print(acc.withdraw(200))\n",
    "print(acc.withdraw(500))"
   ]
  },
  {
   "cell_type": "code",
   "execution_count": 18,
   "metadata": {},
   "outputs": [
    {
     "name": "stdout",
     "output_type": "stream",
     "text": [
      "100 Bob\n",
      "owner=Bob, balance=100\n",
      "200\n",
      "0\n",
      "Insufficent funds\n"
     ]
    }
   ],
   "source": [
    "class BankAccount:\n",
    "    def __init__(self, owner, balance=0):\n",
    "        self.owner = owner\n",
    "        self.balance = balance\n",
    "        \n",
    "    def deposit(self, money):\n",
    "        self.balance += money\n",
    "        return self.balance\n",
    "    \n",
    "    def withdraw(self, money):\n",
    "        if self.balance < money:\n",
    "            return \"Insufficent funds\"\n",
    "        self.balance -= money\n",
    "        return self.balance\n",
    "    \n",
    "    def __str__(self):\n",
    "        return f\"owner={self.owner}, balance={self.balance}\"\n",
    "        \n",
    "acc = BankAccount(\"Bob\", 100)\n",
    "print(acc.balance, acc.owner)\n",
    "print(acc)\n",
    "print(acc.deposit(100))\n",
    "print(acc.withdraw(200))\n",
    "print(acc.withdraw(500))"
   ]
  },
  {
   "cell_type": "code",
   "execution_count": 19,
   "metadata": {},
   "outputs": [
    {
     "name": "stdout",
     "output_type": "stream",
     "text": [
      "owner=Dana, balance=1000\n",
      "1050.0\n",
      "owner=Dana, balance=1050.0\n"
     ]
    }
   ],
   "source": [
    "class SavingsAccount(BankAccount):\n",
    "# SavingsAccount 클래스는 BankAccount 클래스를 상속받는다.\n",
    "    def add_interest(self, interest):\n",
    "    # 이자율(rate)를 인자로 받아서 잔고에 추가.\n",
    "        self.balance += self.balance * interest\n",
    "        return self.balance\n",
    "    \n",
    "savings = SavingsAccount(\"Dana\", 1000)\n",
    "print(savings)\n",
    "print(savings.add_interest(0.05))\n",
    "print(savings)"
   ]
  },
  {
   "cell_type": "code",
   "execution_count": 20,
   "metadata": {},
   "outputs": [
    {
     "name": "stdout",
     "output_type": "stream",
     "text": [
      "owner=Eve, balance=500\n",
      "-100\n",
      "Insufficient funds, overdraft limit reached\n",
      "owner=Eve, balance=-100\n"
     ]
    }
   ],
   "source": [
    "class CheckingAccount(BankAccount):\n",
    "    def __init__(self, owner, balance=0, overdraft_limit=0):\n",
    "        super().__init__(owner, balance)\n",
    "        # super() = super class 부모클래스의 임시적인 객체를 반환하여 사용가능 하게.\n",
    "        # 부모 클래스의 __init__() 매직 메소드를 자식 클래스의 __init__() 매직 메소드에서 실행\n",
    "        self.overdraft_limit = overdraft_limit\n",
    "        # 위에서 super()을 사용했기 때문에 overdraft_limit만 추가 작성해주면 됨.\n",
    "        \n",
    "    def withdraw(self, money):\n",
    "          if money > self.balance + self.overdraft_limit:\n",
    "              return \"Insufficient funds, overdraft limit reached\"\n",
    "          self.balance -= money\n",
    "          return self.balance\n",
    "      # 금액을 인자로 받아 계좌 잔고에서 차감. 잔고와 오버드래프트 한도를 초과 시\n",
    "      # 메세지를 반환.\n",
    "    \n",
    "# 테스트 코드\n",
    "checking = CheckingAccount(\"Eve\", 500, 200)\n",
    "print(checking)\n",
    "print(checking.withdraw(600))\n",
    "print(checking.withdraw(150))\n",
    "print(checking)"
   ]
  },
  {
   "cell_type": "code",
   "execution_count": null,
   "metadata": {},
   "outputs": [],
   "source": [
    "# 문자열을 정수로 변환\n",
    "\n",
    "string = \"100az\"\n",
    "# if string.isdigit()\n",
    "try:\n",
    "    number = int(string)\n",
    "    print(number)\n",
    "    print(type(number))\n",
    "except:\n",
    "    print(\"숫자로 변환할 수 없습니다.\")\n",
    "\n",
    "\n"
   ]
  },
  {
   "cell_type": "code",
   "execution_count": 4,
   "metadata": {},
   "outputs": [
    {
     "name": "stdout",
     "output_type": "stream",
     "text": [
      "Student __init__\n",
      "Person __init__\n",
      "파이썬 코딩 도장\n",
      "안녕하세요.\n"
     ]
    }
   ],
   "source": [
    "class Person:\n",
    "    def __init__(self):\n",
    "        print('Person __init__')\n",
    "        self.hello = '안녕하세요.'\n",
    " \n",
    "class Student(Person):\n",
    "    def __init__(self):\n",
    "        print('Student __init__')\n",
    "        super().__init__()                # super()로 기반 클래스의 __init__ 메서드 호출\n",
    "        self.school = '파이썬 코딩 도장'\n",
    " \n",
    "james = Student()\n",
    "print(james.school)\n",
    "print(james.hello)"
   ]
  },
  {
   "cell_type": "code",
   "execution_count": 5,
   "metadata": {},
   "outputs": [
    {
     "name": "stdout",
     "output_type": "stream",
     "text": [
      "Person __init__\n",
      "안녕하세요.\n"
     ]
    }
   ],
   "source": [
    "class Person:\n",
    "    def __init__(self):\n",
    "        print('Person __init__')\n",
    "        self.hello = '안녕하세요.'\n",
    " \n",
    "class Student(Person):\n",
    "    pass\n",
    " \n",
    "james = Student()\n",
    "print(james.hello)\n",
    "\n",
    "# Student가 Person에 상속되어 있다.\n",
    "# Student 클래스에 내용을 적지 않고 pass 하였으나\n",
    "# james에 Student를 대입하고 james.hello를 출력하려 하면\n",
    "# Person 클래스에 있는 init를 이용하여 둘다 출력이 된다.\n"
   ]
  },
  {
   "cell_type": "code",
   "execution_count": 8,
   "metadata": {},
   "outputs": [
    {
     "name": "stdout",
     "output_type": "stream",
     "text": [
      "Student __init__\n",
      "Person __init__\n",
      "안녕하세요.\n"
     ]
    }
   ],
   "source": [
    "class Student(Person):\n",
    "    def __init__(self):\n",
    "        print(\"Student __init__\")\n",
    "        super(Student, self).__init__()\n",
    "        self.hello = \"안녕하세요.\"\n",
    "        \n",
    "james = Student()\n",
    "print(james.hello)"
   ]
  },
  {
   "cell_type": "code",
   "execution_count": 7,
   "metadata": {},
   "outputs": [],
   "source": [
    "class Student(Person):\n",
    "    def __init__(self):\n",
    "        print('Student __init__')\n",
    "        super(Student, self).__init__()\n",
    "        # super(파생클래스, self)로 기반 클래스의 메서드 호출\n",
    "        self.school = '파이썬 코딩 도장'"
   ]
  }
 ],
 "metadata": {
  "kernelspec": {
   "display_name": "Python 3",
   "language": "python",
   "name": "python3"
  },
  "language_info": {
   "codemirror_mode": {
    "name": "ipython",
    "version": 3
   },
   "file_extension": ".py",
   "mimetype": "text/x-python",
   "name": "python",
   "nbconvert_exporter": "python",
   "pygments_lexer": "ipython3",
   "version": "3.12.3"
  }
 },
 "nbformat": 4,
 "nbformat_minor": 2
}
