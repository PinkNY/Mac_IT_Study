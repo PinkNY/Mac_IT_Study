{
 "cells": [
  {
   "cell_type": "markdown",
   "metadata": {},
   "source": [
    "## 기본 정렬 알고리즘 구현\n",
    "\n",
    "### 버블 정렬 (Bubble Sort)\n",
    "\n",
    "버블 정렬은 인접한 두 요소를 비교하여 정렬하는 단순한 알고리즘입니다. 가장 큰 요소가 맨 끝으로 '버블'처럼 이동하는 방식입니다."
   ]
  },
  {
   "cell_type": "code",
   "execution_count": null,
   "metadata": {},
   "outputs": [],
   "source": [
    "def bubble_sort(arr):\n",
    "    n = len(arr)\n",
    "    for i in range(n):\n",
    "        for j in range(0, n - i - 1):\n",
    "            if arr[j] > arr[j + 1]:\n",
    "                arr[j], arr[j + 1] = arr[j + 1], arr[j]\n",
    "    return arr\n",
    "\n",
    "# 테스트\n",
    "data = [64, 34, 25, 12, 22, 11, 90]\n",
    "print(\"Bubble Sort 결과:\", bubble_sort(data))\n",
    "\n"
   ]
  },
  {
   "cell_type": "markdown",
   "metadata": {},
   "source": [
    "### 삽입 정렬 (Insertion Sort)\n",
    "\n",
    "삽입 정렬은 배열을 정렬된 부분과 정렬되지 않은 부분으로 나누고, 정렬되지 않은 부분의 요소를 하나씩 정렬된 부분에 삽입하여 정렬합니다."
   ]
  },
  {
   "cell_type": "code",
   "execution_count": null,
   "metadata": {},
   "outputs": [],
   "source": [
    "def insertion_sort(arr):\n",
    "    for i in range(1, len(arr)):\n",
    "        key = arr[i]\n",
    "        j = i - 1\n",
    "        while j >= 0 and key < arr[j]:\n",
    "            arr[j + 1] = arr[j]\n",
    "            j -= 1\n",
    "        arr[j + 1] = key\n",
    "    return arr\n",
    "\n",
    "# 테스트\n",
    "data = [64, 34, 25, 12, 22, 11, 90]\n",
    "print(\"Insertion Sort 결과:\", insertion_sort(data))\n"
   ]
  },
  {
   "cell_type": "markdown",
   "metadata": {},
   "source": [
    "백준 수 정렬하기 문제"
   ]
  },
  {
   "cell_type": "code",
   "execution_count": null,
   "metadata": {},
   "outputs": [],
   "source": [
    "# n = int(input())\n",
    "# arr = []\n",
    "    \n",
    "# for i in range(n):\n",
    "#     arr.appende(int(input()))\n",
    "    \n",
    "def bubble_sort(arr):\n",
    "    # 배열의 길이\n",
    "    n = len(arr)\n",
    "    \n",
    "    for i in range(n - 1):\n",
    "        for j in range(n - 1 - i):\n",
    "            # 이전값이 뒤에 있는 값보다 크면\n",
    "            if arr[j] > arr[j + 1]:\n",
    "                arr[j + 1], arr[j] = arr[j], arr[j + 1]\n",
    "                \n",
    "    return arr\n",
    "\n",
    "data = [1, 5, 4, 6, 8, 11, 2]\n",
    "print(\"Bubble Sort 결과:\", bubble_sort(data))"
   ]
  },
  {
   "cell_type": "markdown",
   "metadata": {},
   "source": [
    "### 퀵정렬\n",
    "\n",
    "<aside>\n",
    "💡 퀵정렬(Quick Sort)은 비교 기반 정렬 알고리즘으로, 평균적으로 매우 빠른 속도를 자랑합니다.\n",
    "\n",
    "</aside>"
   ]
  },
  {
   "cell_type": "markdown",
   "metadata": {},
   "source": [
    "1. **피벗 선택(Pivot Selection)**: 리스트에서 하나의 요소를 선택하여 피벗으로 설정합니다.\n",
    "2. **분할(Partitioning)**: 피벗을 기준으로 리스트를 두 개의 부분 리스트로 나눕니다. 피벗보다 작은 요소들은 왼쪽 부분 리스트로, 피벗보다 큰 요소들은 오른쪽 부분 리스트로 이동합니다.\n",
    "3. **재귀적 정렬(Recursive Sorting)**: 분할된 두 부분 리스트에 대해 재귀적으로 퀵정렬을 수행합니다.\n",
    "4. **종료 조건(Base Case)**: 리스트의 크기가 0이나 1이 되면 재귀 호출을 종료합니다.\n",
    "\n",
    "- 퀵정렬은 평균적으로 O(n log n)의 시간 복잡도를 가지며, 최악의 경우 O(n^2)의 시간 복잡도를 가질 수 있습니다.\n",
    "- 하지만, 적절한 피벗 선택 전략을 사용하면 최악의 경우를 피할 수 있습니다."
   ]
  },
  {
   "cell_type": "markdown",
   "metadata": {},
   "source": [
    "## 파이썬 내장 정렬 함수"
   ]
  },
  {
   "cell_type": "markdown",
   "metadata": {},
   "source": [
    "### `sorted()` 함수\n",
    "\n",
    "`sorted()` 함수는 입력 데이터를 정렬된 새로운 리스트로 반환합니다. 원본 리스트는 변경되지 않습니다."
   ]
  },
  {
   "cell_type": "code",
   "execution_count": null,
   "metadata": {},
   "outputs": [],
   "source": [
    "sorted(iterable, key=None, reverse=False)"
   ]
  },
  {
   "cell_type": "markdown",
   "metadata": {},
   "source": [
    "### 매개변수\n",
    "\n",
    "- **iterable**: 정렬할 대상인 반복 가능한 객체 (예: 리스트, 튜플, 문자열 등).\n",
    "- **key**: 정렬 기준을 제공하는 함수. 각 요소에 대해 호출되어 비교에 사용됩니다.\n",
    "- **reverse**: 정렬 순서를 역순으로 할지 여부. 기본값은 `False` (오름차순 정렬)."
   ]
  },
  {
   "cell_type": "code",
   "execution_count": null,
   "metadata": {},
   "outputs": [],
   "source": [
    "data = [64, 34, 25, 12, 22, 11, 90]\n",
    "\n",
    "# 기본 정렬 (오름차순)\n",
    "sorted_data = sorted(data)\n",
    "print(\"오름차순 정렬:\", sorted_data)\n",
    "\n",
    "# 내림차순 정렬\n",
    "sorted_data_desc = sorted(data, reverse=True)\n",
    "print(\"내림차순 정렬:\", sorted_data_desc)\n",
    "\n",
    "# 키를 사용한 정렬 (길이를 기준으로 정렬)\n",
    "words = [\"apple\", \"banana\", \"cherry\", \"date\"]\n",
    "sorted_words = sorted(words, key=len)\n",
    "print(\"길이 기준 정렬:\", sorted_words)\n"
   ]
  },
  {
   "cell_type": "markdown",
   "metadata": {},
   "source": [
    "### **이터러블**\n",
    "\n",
    "- 파이썬에서 이터러블(iterable)은 순회할 수 있는 객체를 말합니다.\n",
    "- 이터러블 객체는 하나씩 접근할 수 있는 요소의 집합입니다.\n",
    "- 파이썬의 기본적인 이터러블 객체에는 리스트, 튜플, 문자열, 딕셔너리, 세트 등이 포함됩니다. \n",
    "\n",
    "- Python에서 `sorted()` 함수는 다양한 이터러블(iterable) 타입을 정렬할 수 있습니다.\n",
    "- 이터러블은 반복 가능한 객체로, 하나씩 순회할 수 있는 객체를 의미합니다."
   ]
  },
  {
   "cell_type": "markdown",
   "metadata": {},
   "source": [
    "### 이터러블의 종류\n",
    "\n",
    "1. **리스트 (List)**\n",
    "    - 예: `[1, 2, 3]`\n",
    "    - 가장 일반적인 이터러블 타입입니다. 리스트는 순서가 있으며, 인덱스를 통해 접근할 수 있습니다.\n",
    "2. **튜플 (Tuple)**\n",
    "    - 예: `(1, 2, 3)`\n",
    "    - 리스트와 유사하지만, 튜플은 불변(immutable)입니다. 한번 생성된 후에는 변경할 수 없습니다.\n",
    "3. **문자열 (String)**\n",
    "    - 예: `'abc'`\n",
    "    - 문자열도 이터러블로, 각 문자를 순회할 수 있습니다.\n",
    "4. **딕셔너리 (Dictionary)**\n",
    "    - 예: `{'a': 1, 'b': 2, 'c': 3}`\n",
    "    - 딕셔너리 자체는 순서가 없지만, 키(key), 값(value), 또는 (키, 값) 쌍을 이터러블로 순회할 수 있습니다.\n",
    "5. **집합 (Set)**\n",
    "    - 예: `{1, 2, 3}`\n",
    "    - 집합은 순서가 없고, 중복을 허용하지 않는 이터러블입니다.\n",
    "6. **레인지 (Range)**\n",
    "    - 예: `range(10)`\n",
    "    - 주어진 범위 내의 숫자 시퀀스를 생성하는 이터러블입니다.\n",
    "7. **파일 객체 (File Object)**\n",
    "    - 예: `open('file.txt')`\n",
    "    - 파일 객체도 이터러블로, 한 줄씩 읽어올 수 있습니다.\n",
    "8. **제너레이터 (Generator)**\n",
    "    - 예: `(x for x in range(10))`\n",
    "    - 제너레이터는 값을 즉석에서 생성하는 이터러블입니다. 메모리를 절약하면서 큰 데이터셋을 처리할 때 유용합니다.\n",
    "9. **이터레이터 (Iterator)**\n",
    "    - 예: `iter([1, 2, 3])`\n",
    "    - 이터레이터는 `__iter__()`와 `__next__()` 메서드를 구현한 객체입니다. 이터러블은 `iter()` 함수를 통해 이터레이터로 변환할 수 있습니다."
   ]
  },
  {
   "cell_type": "markdown",
   "metadata": {},
   "source": [
    "### 정렬 가능한 이터러블 예시\n",
    "\n",
    "`sorted()` 함수는 다음과 같은 이터러블을 정렬할 수 있습니다.\n",
    "\n",
    "1. **리스트**"
   ]
  },
  {
   "cell_type": "code",
   "execution_count": null,
   "metadata": {},
   "outputs": [],
   "source": [
    "my_list = [3, 1, 4, 1, 5, 9]\n",
    "sorted_list = sorted(my_list)\n",
    "# 결과: [1, 1, 3, 4, 5, 9]"
   ]
  },
  {
   "cell_type": "markdown",
   "metadata": {},
   "source": [
    "2. **튜플**"
   ]
  },
  {
   "cell_type": "code",
   "execution_count": null,
   "metadata": {},
   "outputs": [],
   "source": [
    "my_tuple = (3, 1, 4, 1, 5, 9)\n",
    "sorted_tuple = sorted(my_tuple)\n",
    "# 결과: [1, 1, 3, 4, 5, 9]"
   ]
  },
  {
   "cell_type": "markdown",
   "metadata": {},
   "source": [
    "3. **문자열**"
   ]
  },
  {
   "cell_type": "code",
   "execution_count": null,
   "metadata": {},
   "outputs": [],
   "source": [
    "my_string = \"python\"\n",
    "sorted_string = sorted(my_string)\n",
    "# 결과: ['h', 'n', 'o', 'p', 't', 'y']"
   ]
  },
  {
   "cell_type": "markdown",
   "metadata": {},
   "source": [
    "4. **딕셔너리 (키 기준)**"
   ]
  },
  {
   "cell_type": "code",
   "execution_count": null,
   "metadata": {},
   "outputs": [],
   "source": [
    "my_dict = {'b': 2, 'a': 1, 'c': 3}\n",
    "sorted_keys = sorted(my_dict)\n",
    "# 결과: ['a', 'b', 'c']"
   ]
  },
  {
   "cell_type": "markdown",
   "metadata": {},
   "source": [
    "5. **집합**"
   ]
  },
  {
   "cell_type": "code",
   "execution_count": null,
   "metadata": {},
   "outputs": [],
   "source": [
    "my_set = {3, 1, 4, 1, 5, 9}\n",
    "sorted_set = sorted(my_set)\n",
    "# 결과: [1, 3, 4, 5, 9]"
   ]
  },
  {
   "cell_type": "markdown",
   "metadata": {},
   "source": [
    "6. **레인지**"
   ]
  },
  {
   "cell_type": "code",
   "execution_count": null,
   "metadata": {},
   "outputs": [],
   "source": [
    "my_range = range(10, 0, -1)\n",
    "sorted_range = sorted(my_range)\n",
    "# 결과: [1, 2, 3, 4, 5, 6, 7, 8, 9, 10]"
   ]
  },
  {
   "cell_type": "markdown",
   "metadata": {},
   "source": [
    "### 정렬 불가능한 이터러블 예시\n",
    "\n",
    "- 비교할 수 없는 요소들이 섞여 있는 이터러블은 정렬할 수 없습니다."
   ]
  },
  {
   "cell_type": "code",
   "execution_count": null,
   "metadata": {},
   "outputs": [],
   "source": [
    "mixed_list = [3, 'apple', 1, 'banana']\n",
    "try:\n",
    "    sorted_list = sorted(mixed_list)\n",
    "except TypeError as e:\n",
    "    print(\"Error:\", e)\n",
    "# 결과: Error: '<' not supported between instances of 'str' and 'int'"
   ]
  },
  {
   "cell_type": "markdown",
   "metadata": {},
   "source": [
    "### 정리\n",
    "\n",
    "- **정렬 가능한 이터러블**: 리스트, 튜플, 문자열, 집합, 레인지, 이터레이터, 제너레이터\n",
    "- **정렬 불가능한 이터러블**: 비교할 수 없는 요소들이 포함된 경우 (예: 숫자와 문자열의 혼합)"
   ]
  },
  {
   "cell_type": "markdown",
   "metadata": {},
   "source": [
    "### `sort()` 메서드\n",
    "\n",
    "`sort()` 메서드는 리스트 객체의 메서드로, 리스트 자체를 정렬합니다. 이 메서드는 리스트를 직접 변경하며, 새로운 리스트를 반환하지 않습니다."
   ]
  },
  {
   "cell_type": "code",
   "execution_count": null,
   "metadata": {},
   "outputs": [],
   "source": [
    "list.sort(key=None, reverse=False)"
   ]
  },
  {
   "cell_type": "markdown",
   "metadata": {},
   "source": [
    "### 매개변수\n",
    "\n",
    "- **key**: 정렬 기준을 제공하는 함수. 각 요소에 대해 호출되어 비교에 사용됩니다.\n",
    "- **reverse**: 정렬 순서를 역순으로 할지 여부. 기본값은 `False` (오름차순 정렬)."
   ]
  },
  {
   "cell_type": "code",
   "execution_count": null,
   "metadata": {},
   "outputs": [],
   "source": [
    "data = [64, 34, 25, 12, 22, 11, 90]\n",
    "\n",
    "# 기본 정렬 (오름차순)\n",
    "data.sort()\n",
    "print(\"오름차순 정렬:\", data)\n",
    "\n",
    "# 내림차순 정렬\n",
    "data.sort(reverse=True)\n",
    "print(\"내림차순 정렬:\", data)\n",
    "\n",
    "# 키를 사용한 정렬 (길이를 기준으로 정렬)\n",
    "words = [\"apple\", \"banana\", \"cherry\", \"date\"]\n",
    "words.sort(key=len)\n",
    "print(\"길이 기준 정렬:\", words)"
   ]
  },
  {
   "cell_type": "markdown",
   "metadata": {},
   "source": [
    "### `sorted()`와 `sort()`의 비교\n",
    "\n",
    "1. **반환 값**\n",
    "    - `sorted()`: 새로운 정렬된 리스트를 반환합니다. 원본 리스트는 변경되지 않습니다.\n",
    "    - `sort()`: 리스트 객체의 메서드로, 원본 리스트를 직접 정렬하며 반환 값은 `None`입니다.\n",
    "2. **사용 대상**\n",
    "    - `sorted()`: 모든 반복 가능한 객체(iterable)를 정렬할 수 있습니다. 예를 들어, 리스트, 튜플, 문자열, 딕셔너리 키 등.\n",
    "    - `sort()`: 리스트 객체에서만 사용 가능합니다.\n",
    "3. **문법**\n",
    "    - `sorted()`: 함수 형태로 호출됩니다. 예: `sorted(list)`\n",
    "    - `sort()`: 리스트 객체의 메서드로 호출됩니다. 예: `list.sort()`"
   ]
  },
  {
   "cell_type": "code",
   "execution_count": null,
   "metadata": {},
   "outputs": [],
   "source": [
    "data = [64, 34, 25, 12, 22, 11, 90]\n",
    "\n",
    "# sorted() 사용\n",
    "sorted_data = sorted(data)\n",
    "print(\"sorted() 결과:\", sorted_data)\n",
    "print(\"원본 리스트:\", data)  # 원본 리스트는 변경되지 않음\n",
    "\n",
    "# sort() 사용\n",
    "data.sort()\n",
    "print(\"sort() 결과:\", data)  # 원본 리스트가 변경됨"
   ]
  },
  {
   "cell_type": "markdown",
   "metadata": {},
   "source": [
    "## `key` 매개변수의 활용\n",
    "\n",
    "- `key` 매개변수는 각 요소에 대해 호출되는 함수를 지정하여 정렬 기준을 커스터마이즈할 수 있습니다. 이를 통해 다양한 기준으로 정렬할 수 있습니다."
   ]
  },
  {
   "cell_type": "code",
   "execution_count": null,
   "metadata": {},
   "outputs": [],
   "source": [
    "# 리스트를 절대값을 기준으로 정렬\n",
    "numbers = [-5, -2, -1, 0, 1, 3, 7, 8, -9]\n",
    "sorted_numbers = sorted(numbers, key=abs)\n",
    "print(\"절대값 기준 정렬:\", sorted_numbers)\n",
    "\n",
    "# 딕셔너리의 리스트를 특정 키를 기준으로 정렬\n",
    "students = [\n",
    "    {\"name\": \"John\", \"age\": 25},\n",
    "    {\"name\": \"Jane\", \"age\": 22},\n",
    "    {\"name\": \"Dave\", \"age\": 23}\n",
    "]\n",
    "\n",
    "# 나이를 기준으로 정렬\n",
    "sorted_students = sorted(students, key=lambda x: x[\"age\"])\n",
    "print(\"나이 기준 정렬:\", sorted_students)\n",
    "\n",
    "# 이름을 기준으로 정렬\n",
    "sorted_students_by_name = sorted(students, key=lambda x: x[\"name\"])\n",
    "print(\"이름 기준 정렬:\", sorted_students_by_name)\n"
   ]
  },
  {
   "cell_type": "markdown",
   "metadata": {},
   "source": [
    "### `key` 매개변수를 사용하여 복잡한 데이터 구조를 정렬할 때의 예제\n",
    "\n",
    "- `key` 매개변수를 사용하면 리스트의 요소가 복잡한 데이터 구조일 때도 쉽게 정렬할 수 있습니다.\n",
    "- 딕셔너리의 리스트, 객체의 리스트 등을 정렬할 수 있습니다.\n",
    "\n",
    "### 예제 1: 딕셔너리의 리스트 정렬\n",
    "\n",
    "- 학생들의 딕셔너리 리스트를 나이, 이름, 성적 등을 기준으로 정렬해 보겠습니다."
   ]
  },
  {
   "cell_type": "code",
   "execution_count": null,
   "metadata": {},
   "outputs": [],
   "source": [
    "students = [\n",
    "    {\"name\": \"John\", \"age\": 25, \"grade\": 85},\n",
    "    {\"name\": \"Jane\", \"age\": 22, \"grade\": 90},\n",
    "    {\"name\": \"Dave\", \"age\": 23, \"grade\": 88},\n",
    "    {\"name\": \"Alice\", \"age\": 24, \"grade\": 95}\n",
    "]\n",
    "\n",
    "# 나이 기준으로 정렬\n",
    "sorted_by_age = sorted(students, key=lambda x: x[\"age\"])\n",
    "print(\"나이 기준 정렬:\", sorted_by_age)\n",
    "\n",
    "# 이름 기준으로 정렬\n",
    "sorted_by_name = sorted(students, key=lambda x: x[\"name\"])\n",
    "print(\"이름 기준 정렬:\", sorted_by_name)\n",
    "\n",
    "# 성적 기준으로 정렬\n",
    "sorted_by_grade = sorted(students, key=lambda x: x[\"grade\"])\n",
    "print(\"성적 기준 정렬:\", sorted_by_grade)\n"
   ]
  },
  {
   "cell_type": "markdown",
   "metadata": {},
   "source": [
    "### 예제 2: 복합 기준 정렬\n",
    "\n",
    "- 여러 기준을 사용하여 정렬할 수도 있습니다.\n",
    "- 예를 들어, 나이와 성적을 모두 고려하여 정렬할 수 있습니다."
   ]
  },
  {
   "cell_type": "code",
   "execution_count": null,
   "metadata": {},
   "outputs": [],
   "source": [
    "# 나이와 성적 기준으로 정렬 (먼저 나이, 그 다음 성적)\n",
    "sorted_by_age_then_grade = sorted(students, key=lambda x: (x[\"age\"], x[\"grade\"]))\n",
    "print(\"나이와 성적 기준 정렬:\", sorted_by_age_then_grade)"
   ]
  },
  {
   "cell_type": "markdown",
   "metadata": {},
   "source": [
    "### 예제 3: 클래스 객체의 리스트 정렬\n",
    "\n",
    "- 클래스 객체의 리스트를 정렬하는 예제입니다."
   ]
  },
  {
   "cell_type": "code",
   "execution_count": null,
   "metadata": {},
   "outputs": [],
   "source": [
    "class Student:\n",
    "    def __init__(self, name, age, grade):\n",
    "        self.name = name\n",
    "        self.age = age\n",
    "        self.grade = grade\n",
    "\n",
    "    def __repr__(self):\n",
    "        return f\"{self.name}({self.age}, {self.grade})\"\n",
    "\n",
    "students = [\n",
    "    Student(\"John\", 25, 85),\n",
    "    Student(\"Jane\", 22, 90),\n",
    "    Student(\"Dave\", 23, 88),\n",
    "    Student(\"Alice\", 24, 95)\n",
    "]\n",
    "\n",
    "# 나이 기준으로 정렬\n",
    "sorted_students_by_age = sorted(students, key=lambda student: student.age)\n",
    "print(\"나이 기준 정렬:\", sorted_students_by_age)\n",
    "\n",
    "# 이름 기준으로 정렬\n",
    "sorted_students_by_name = sorted(students, key=lambda student: student.name)\n",
    "print(\"이름 기준 정렬:\", sorted_students_by_name)\n",
    "\n",
    "# 성적 기준으로 정렬\n",
    "sorted_students_by_grade = sorted(students, key=lambda student: student.grade)\n",
    "print(\"성적 기준 정렬:\", sorted_students_by_grade)\n"
   ]
  },
  {
   "cell_type": "markdown",
   "metadata": {},
   "source": [
    "### 요약\n",
    "\n",
    "- `sorted()`는 새로운 정렬된 리스트를 반환하고, 원본 리스트는 변경되지 않습니다. 반복 가능한 모든 객체에 사용할 수 있습니다.\n",
    "- `sort()`는 리스트 객체의 메서드로, 리스트 자체를 정렬합니다. 반환 값은 `None`이며, 원본 리스트가 변경됩니다.\n",
    "- 두 함수 모두 `key` 매개변수를 통해 정렬 기준을 지정할 수 있으며, `reverse` 매개변수를 통해 오름차순 또는 내림차순 정렬을 지정할 수 있습니다."
   ]
  }
 ],
 "metadata": {
  "kernelspec": {
   "display_name": "Python 3",
   "language": "python",
   "name": "python3"
  },
  "language_info": {
   "codemirror_mode": {
    "name": "ipython",
    "version": 3
   },
   "file_extension": ".py",
   "mimetype": "text/x-python",
   "name": "python",
   "nbconvert_exporter": "python",
   "pygments_lexer": "ipython3",
   "version": "3.12.3"
  }
 },
 "nbformat": 4,
 "nbformat_minor": 2
}
