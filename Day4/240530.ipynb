{
 "cells": [
  {
   "cell_type": "code",
   "execution_count": 1,
   "metadata": {},
   "outputs": [],
   "source": [
    "def example1(n):\n",
    "\tfor i in range(n):\n",
    "\t\tfor j in range(n):\n",
    "\t\t\tprint(i, j)"
   ]
  },
  {
   "cell_type": "markdown",
   "metadata": {},
   "source": [
    "주어진 코드의 시간 복잡도는 O(n^2)입니다.\n",
    "외부 루프와 내부 루프가 각각 n번 반복되므로, 총 연산의 수는 n * n = n^2입니다."
   ]
  },
  {
   "cell_type": "code",
   "execution_count": 9,
   "metadata": {},
   "outputs": [
    {
     "ename": "NameError",
     "evalue": "name 'time' is not defined",
     "output_type": "error",
     "traceback": [
      "\u001b[1;31m---------------------------------------------------------------------------\u001b[0m",
      "\u001b[1;31mNameError\u001b[0m                                 Traceback (most recent call last)",
      "Cell \u001b[1;32mIn[9], line 16\u001b[0m\n\u001b[0;32m     13\u001b[0m             \u001b[38;5;28;01mreturn\u001b[39;00m \u001b[38;5;28;01mTrue\u001b[39;00m\n\u001b[0;32m     14\u001b[0m     \u001b[38;5;28;01mreturn\u001b[39;00m \u001b[38;5;28;01mFalse\u001b[39;00m\n\u001b[1;32m---> 16\u001b[0m start \u001b[38;5;241m=\u001b[39m \u001b[43mtime\u001b[49m\u001b[38;5;241m.\u001b[39mtime()\n\u001b[0;32m     17\u001b[0m lst \u001b[38;5;241m=\u001b[39m \u001b[38;5;28mlist\u001b[39m(\u001b[38;5;28mrange\u001b[39m(\u001b[38;5;241m1\u001b[39m, \u001b[38;5;241m100000\u001b[39m))\n\u001b[0;32m     18\u001b[0m example2(lst)\n",
      "\u001b[1;31mNameError\u001b[0m: name 'time' is not defined"
     ]
    }
   ],
   "source": [
    "def example2(lst):\n",
    "    result = []\n",
    "    for i in range(len(lst)):\n",
    "        if not my_in(result, lst[i]):\n",
    "            result.append(lst[i])\n",
    "        # if lst[i] not in result:\n",
    "        #     result.append(lst[i])\n",
    "    return result\n",
    "\n",
    "def my_in(arr, element):\n",
    "    for a in arr:\n",
    "        if a == element:\n",
    "            return True\n",
    "    return False\n",
    "\n",
    "start = time.time()\n",
    "lst = list(range(1, 100000))\n",
    "example2(lst)\n",
    "end = time.time()\n",
    "print(end-start)"
   ]
  },
  {
   "cell_type": "markdown",
   "metadata": {},
   "source": [
    "위 코드는 리스트 내에서 중복을 제거하는 기능을 구현하고 있습니다. lst[i] not in result는 result 리스트를 반복 탐색하므로 최악의 경우 O(n)의 시간이 걸립니다. 따라서 전체 코드의 시간 복잡도는 O(n^2)입니다."
   ]
  },
  {
   "cell_type": "code",
   "execution_count": null,
   "metadata": {},
   "outputs": [],
   "source": [
    "def example3(dct, keys):\n",
    "    result = []\n",
    "    for key in keys:\n",
    "        if key in dct:\n",
    "            result.append(dct[key])\n",
    "    return result"
   ]
  },
  {
   "cell_type": "markdown",
   "metadata": {},
   "source": [
    "위 코드는 주어진 키 목록 keys에 대해 딕셔너리 dct에서 값을 검색하여 result 리스트에 추가하는 기능을 구현하고 있습니다. key in dct의 시간 복잡도는 O(1)입니다. 따라서 전체 코드의 시간 복잡도는 O(k), 여기서 k는 keys 리스트의 길이입니다."
   ]
  },
  {
   "cell_type": "code",
   "execution_count": 4,
   "metadata": {},
   "outputs": [],
   "source": [
    "def example4(lst):\n",
    "    count = {}\n",
    "    for item in lst:\n",
    "        if item in count:\n",
    "            count[item] += 1\n",
    "        else:\n",
    "            count[item] = 1\n",
    "    return count\n"
   ]
  },
  {
   "cell_type": "markdown",
   "metadata": {},
   "source": [
    "위 코드는 리스트 lst에서 각 항목의 등장 횟수를 세는 기능을 구현하고 있습니다. 딕셔너리 count의 항목 접근 시간 복잡도는 O(1)이므로, 전체 코드의 시간 복잡도는 O(n)입니다"
   ]
  },
  {
   "cell_type": "code",
   "execution_count": 5,
   "metadata": {},
   "outputs": [
    {
     "name": "stdout",
     "output_type": "stream",
     "text": [
      "[1, 2, 3, 4, 5]\n"
     ]
    }
   ],
   "source": [
    "# 주어진 리스트에서 중복된 요소를 제거하고, 결과를 반환하는 함수를 작성하시오.\n",
    "\n",
    "def remove_duplicates(lst):\n",
    "\treturn list(set(lst))\n",
    "\n",
    "print(remove_duplicates([1, 2, 3, 2, 4, 3, 5]))"
   ]
  },
  {
   "cell_type": "code",
   "execution_count": 6,
   "metadata": {},
   "outputs": [
    {
     "name": "stdout",
     "output_type": "stream",
     "text": [
      "[2, 5, 3, 2, 3, 4]\n"
     ]
    }
   ],
   "source": [
    "def modify_list(lst):\n",
    "    # 리스트에 값 추가\n",
    "    lst.append(4)\n",
    "    lst.insert(2, 5)\n",
    "\n",
    "    # 리스트에서 값 제거\n",
    "    lst.remove(1)\n",
    "    lst.pop(3)\n",
    "\n",
    "    return lst\n",
    "\n",
    "# 예시 입력\n",
    "lst = [1, 2, 3, 1, 2, 3]\n",
    "print(modify_list(lst))\n",
    "\n",
    "# 예상 출력\n",
    "# [2, 5, 3, 1, 3, 4]\n"
   ]
  },
  {
   "cell_type": "markdown",
   "metadata": {},
   "source": [
    "해설:\n",
    "\n",
    "- `append(4)`: 리스트의 끝에 4를 추가합니다. 시간 복잡도는 `O(1)`입니다.\n",
    "- `insert(2, 5)`: 리스트의 인덱스 2에 5를 삽입합니다. 시간 복잡도는 `O(n)`입니다.\n",
    "- `remove(1)`: 리스트에서 첫 번째로 만나는 1을 제거합니다. 시간 복잡도는 `O(n)`입니다.\n",
    "- `pop(3)`: 리스트의 인덱스 3에 있는 요소를 제거하고 반환합니다. 시간 복잡도는 `O(n)`입니다."
   ]
  },
  {
   "cell_type": "markdown",
   "metadata": {},
   "source": [
    "1. `lst.append(1)`\n",
    "2. `lst.insert(0, 1)`\n",
    "3. `lst.pop()`\n",
    "4. `lst.pop(0)`\n",
    "5. `lst.remove(1)`\n",
    "6. `lst[2]`\n",
    "\n",
    "1. `lst.append(1)`: `O(1)`\n",
    "    - 리스트의 끝에 요소를 추가하는 연산입니다. 시간 복잡도는 `O(1)`입니다.\n",
    "2. `lst.insert(0, 1)`: `O(n)`\n",
    "    - 리스트의 인덱스 0에 요소를 삽입하는 연산입니다. 요소들을 오른쪽으로 이동시켜야 하므로 시간 복잡도는 `O(n)`입니다.\n",
    "3. `lst.pop()`: `O(1)`\n",
    "    - 리스트의 마지막 요소를 제거하고 반환하는 연산입니다. 시간 복잡도는 `O(1)`입니다.\n",
    "4. `lst.pop(0)`: `O(n)`\n",
    "    - 리스트의 인덱스 0에 있는 요소를 제거하고 반환하는 연산입니다. 요소들을 왼쪽으로 이동시켜야 하므로 시간 복잡도는 `O(n)`입니다.\n",
    "5. `lst.remove(1)`: `O(n)`\n",
    "    - 리스트에서 첫 번째로 만나는 1을 제거하는 연산입니다. 요소를 찾아야 하므로 시간 복잡도는 `O(n)`입니다.\n",
    "6. `lst[2]`: `O(1)`\n",
    "    - 리스트의 인덱스 2에 있는 요소를 접근하는 연산입니다. 시간 복잡도는 `O(1)`입니다."
   ]
  },
  {
   "cell_type": "code",
   "execution_count": 7,
   "metadata": {},
   "outputs": [
    {
     "name": "stdout",
     "output_type": "stream",
     "text": [
      "{'apple': 2, 'banana': 2, 'orange': 1}\n"
     ]
    }
   ],
   "source": [
    "def word_count(string):\n",
    "    words = string.split()\n",
    "    count = {}\n",
    "    for word in words:\n",
    "        if word in count:\n",
    "            count[word] += 1\n",
    "        else:\n",
    "            count[word] = 1\n",
    "    return count\n",
    "\n",
    "print(word_count(\"apple banana apple orange banana\"))"
   ]
  },
  {
   "cell_type": "markdown",
   "metadata": {},
   "source": [
    "문자열을 split()으로 단어로 분리하고, 딕셔너리를 사용하여 각 단어의 등장 횟수를 셉니다.\n",
    "단어가 이미 딕셔너리에 존재하면 값을 1 증가시키고, 존재하지 않으면 새로운 키-값 쌍을 추가합니다.\n",
    "시간 복잡도: O(n), 공간 복잡도: O(n)"
   ]
  },
  {
   "cell_type": "code",
   "execution_count": 8,
   "metadata": {},
   "outputs": [
    {
     "ename": "TypeError",
     "evalue": "'builtin_function_or_method' object is not iterable",
     "output_type": "error",
     "traceback": [
      "\u001b[1;31m---------------------------------------------------------------------------\u001b[0m",
      "\u001b[1;31mTypeError\u001b[0m                                 Traceback (most recent call last)",
      "Cell \u001b[1;32mIn[8], line 7\u001b[0m\n\u001b[0;32m      5\u001b[0m \u001b[38;5;66;03m# 예시 입력\u001b[39;00m\n\u001b[0;32m      6\u001b[0m dct \u001b[38;5;241m=\u001b[39m {\u001b[38;5;124m'\u001b[39m\u001b[38;5;124m사과\u001b[39m\u001b[38;5;124m'\u001b[39m: \u001b[38;5;241m2\u001b[39m, \u001b[38;5;124m'\u001b[39m\u001b[38;5;124m바나나\u001b[39m\u001b[38;5;124m'\u001b[39m: \u001b[38;5;241m3\u001b[39m, \u001b[38;5;124m'\u001b[39m\u001b[38;5;124m오렌지\u001b[39m\u001b[38;5;124m'\u001b[39m: \u001b[38;5;241m1\u001b[39m}\n\u001b[1;32m----> 7\u001b[0m \u001b[43mprint_dict\u001b[49m\u001b[43m(\u001b[49m\u001b[43mdct\u001b[49m\u001b[43m)\u001b[49m\n\u001b[0;32m      9\u001b[0m \u001b[38;5;66;03m# 예상 출력\u001b[39;00m\n\u001b[0;32m     10\u001b[0m \u001b[38;5;66;03m# 키: 사과, 값: 2\u001b[39;00m\n\u001b[0;32m     11\u001b[0m \u001b[38;5;66;03m# 키: 바나나, 값: 3\u001b[39;00m\n\u001b[0;32m     12\u001b[0m \u001b[38;5;66;03m# 키: 오렌지, 값: 1\u001b[39;00m\n",
      "Cell \u001b[1;32mIn[8], line 2\u001b[0m, in \u001b[0;36mprint_dict\u001b[1;34m(dct)\u001b[0m\n\u001b[0;32m      1\u001b[0m \u001b[38;5;28;01mdef\u001b[39;00m \u001b[38;5;21mprint_dict\u001b[39m(dct):\n\u001b[1;32m----> 2\u001b[0m \u001b[43m    \u001b[49m\u001b[38;5;28;43;01mfor\u001b[39;49;00m\u001b[43m \u001b[49m\u001b[43mkey\u001b[49m\u001b[43m,\u001b[49m\u001b[43m \u001b[49m\u001b[43mvalue\u001b[49m\u001b[43m \u001b[49m\u001b[38;5;129;43;01min\u001b[39;49;00m\u001b[43m \u001b[49m\u001b[43mdct\u001b[49m\u001b[38;5;241;43m.\u001b[39;49m\u001b[43mitems\u001b[49m\u001b[43m:\u001b[49m\n\u001b[0;32m      3\u001b[0m \u001b[43m        \u001b[49m\u001b[38;5;28;43mprint\u001b[39;49m\u001b[43m(\u001b[49m\u001b[38;5;124;43mf\u001b[39;49m\u001b[38;5;124;43m\"\u001b[39;49m\u001b[38;5;124;43m키: \u001b[39;49m\u001b[38;5;132;43;01m{\u001b[39;49;00m\u001b[43mkey\u001b[49m\u001b[38;5;132;43;01m}\u001b[39;49;00m\u001b[38;5;124;43m, 값: \u001b[39;49m\u001b[38;5;132;43;01m{\u001b[39;49;00m\u001b[43mvalue\u001b[49m\u001b[38;5;132;43;01m}\u001b[39;49;00m\u001b[38;5;124;43m\"\u001b[39;49m\u001b[43m)\u001b[49m\n",
      "\u001b[1;31mTypeError\u001b[0m: 'builtin_function_or_method' object is not iterable"
     ]
    }
   ],
   "source": [
    "def print_dict(dct):\n",
    "    for key, value in dct.items:\n",
    "        print(f\"키: {key}, 값: {value}\")\n",
    "\n",
    "# 예시 입력\n",
    "dct = {'사과': 2, '바나나': 3, '오렌지': 1}\n",
    "print_dict(dct)\n",
    "\n",
    "# 예상 출력\n",
    "# 키: 사과, 값: 2\n",
    "# 키: 바나나, 값: 3\n",
    "# 키: 오렌지, 값: 1"
   ]
  },
  {
   "cell_type": "markdown",
   "metadata": {},
   "source": [
    "- `items()` 메서드를 사용하여 딕셔너리의 모든 키-값 쌍을 튜플로 반환합니다.\n",
    "- 각 키와 값을 출력합니다."
   ]
  },
  {
   "cell_type": "code",
   "execution_count": null,
   "metadata": {},
   "outputs": [],
   "source": [
    "def get_value(dct, key):\n",
    "    # 딕셔너리에서 키를 사용하여 값에 접근하기\n",
    "    return dct[key]\n",
    "\n",
    "# 예시 입력\n",
    "dct = {'name': 'Alice', 'age': 25, 'city': 'Seoul'}\n",
    "print(get_value(dct, 'name'))\n",
    "print(get_value(dct, 'age'))\n",
    "\n",
    "# 예상 출력\n",
    "# Alice\n",
    "# 25"
   ]
  },
  {
   "cell_type": "markdown",
   "metadata": {},
   "source": [
    "- 딕셔너리는 키를 사용하여 값을 접근합니다. 인덱스를 사용할 수 없습니다.\n",
    "- `dct[key]` 형태로 키를 사용하여 값을 가져옵니다."
   ]
  },
  {
   "cell_type": "code",
   "execution_count": 3,
   "metadata": {},
   "outputs": [
    {
     "name": "stdout",
     "output_type": "stream",
     "text": [
      "{'name': 'Alice', 'age': 25, 'city': 'Seoul'}\n"
     ]
    }
   ],
   "source": [
    "def add_entry(dct, key, value):\n",
    "    # 딕셔너리에 항목 추가하기\n",
    "    dct[key] = value\n",
    "    return dct\n",
    "    \n",
    "# 예시 입력\n",
    "dct = {'name': 'Alice', 'age': 25}\n",
    "new_key = 'city'\n",
    "new_value = 'Seoul'\n",
    "print(add_entry(dct, new_key, new_value))\n",
    "\n",
    "# 예상 출력\n",
    "# {'name': 'Alice', 'age': 25, 'city': 'Seoul'}\n"
   ]
  },
  {
   "cell_type": "markdown",
   "metadata": {},
   "source": [
    "## 문자열\n",
    "\n",
    "파이썬에서 문자열(String)은 문자들의 연속적인 시퀀스로, 텍스트 데이터를 다루는 데 사용됩니다. 문자열은 작은 따옴표(`'`)나 큰 따옴표(`\"`)로 감싸서 생성할 수 있습니다.\n",
    "\n",
    "### 문자열의 주요 특징\n",
    "\n",
    "1. **불변성 (Immutable)**: 문자열은 생성된 이후에 변경할 수 없습니다. 새로운 문자열을 생성하여 변경된 내용을 반영할 수 있습니다.\n",
    "2. **시퀀스 타입 (Sequence Type)**: 문자열은 문자들의 순서가 있는 시퀀스입니다. 따라서 인덱싱, 슬라이싱, 반복과 같은 시퀀스 연산이 가능합니다.\n",
    "3. **다양한 표현 방식**: 작은 따옴표, 큰 따옴표, 삼중 따옴표(`'''` 또는 `\"\"\"`)로 문자열을 표현할 수 있습니다. 삼중 따옴표는 여러 줄에 걸친 문자열을 생성할 때 유용합니다."
   ]
  },
  {
   "cell_type": "code",
   "execution_count": null,
   "metadata": {},
   "outputs": [],
   "source": [
    "# 작은 따옴표와 큰 따옴표를 사용한 문자열 생성\n",
    "str1 = 'Hello, World!'\n",
    "str2 = \"Python is fun!\"\n",
    "\n",
    "# 여러 줄 문자열 생성\n",
    "str3 = \"\"\"This is a\n",
    "multi-line\n",
    "string.\"\"\"\n"
   ]
  },
  {
   "cell_type": "markdown",
   "metadata": {},
   "source": [
    "### 문자열의 기본 연산\n",
    "\n",
    "1. **인덱싱 (Indexing)**: 특정 위치의 문자에 접근합니다. (0부터 시작)"
   ]
  },
  {
   "cell_type": "code",
   "execution_count": null,
   "metadata": {},
   "outputs": [],
   "source": [
    "word = \"Python\"\n",
    "print(word[0])  # 'P'\n",
    "print(word[-1]) # 'n' (역순 인덱스)\n"
   ]
  },
  {
   "cell_type": "markdown",
   "metadata": {},
   "source": [
    "슬라이싱 (Slicing): 문자열의 부분 문자열을 추출합니다."
   ]
  },
  {
   "cell_type": "code",
   "execution_count": null,
   "metadata": {},
   "outputs": [],
   "source": [
    "# [start:end:stride]\n",
    "\n",
    "print(word[0:2])   # 'Py'\n",
    "print(word[2:])    # 'thon'\n",
    "print(word[:2])    # 'Py'\n",
    "print(word[-2:])   # 'on'\n",
    "print(word[0:4:2]) # 'Pto'\n"
   ]
  },
  {
   "cell_type": "markdown",
   "metadata": {},
   "source": [
    "### 문자열의 기본 연산\n",
    "\n",
    "1. **길이 확인 (Length)**: 문자열의 길이를 확인합니다."
   ]
  },
  {
   "cell_type": "code",
   "execution_count": null,
   "metadata": {},
   "outputs": [],
   "source": [
    "print(len(word))  # 6\n"
   ]
  },
  {
   "cell_type": "markdown",
   "metadata": {},
   "source": [
    "문자열 결합 (Concatenation): 문자열을 결합합니다."
   ]
  },
  {
   "cell_type": "code",
   "execution_count": null,
   "metadata": {},
   "outputs": [],
   "source": [
    "greeting = \"Hello, \" + \"World!\"\n",
    "print(greeting)  # 'Hello, World!'\n"
   ]
  },
  {
   "cell_type": "markdown",
   "metadata": {},
   "source": [
    "문자열 반복 (Repetition): 문자열을 반복합니다."
   ]
  },
  {
   "cell_type": "code",
   "execution_count": null,
   "metadata": {},
   "outputs": [],
   "source": [
    "echo = \"Hello! \" * 3\n",
    "print(echo)  # 'Hello! Hello! Hello! '\n"
   ]
  },
  {
   "cell_type": "markdown",
   "metadata": {},
   "source": [
    "### 문자열의 주요 메소드\n",
    "\n",
    "1. **대소문자 변환 (Changing Case)**:"
   ]
  },
  {
   "cell_type": "code",
   "execution_count": null,
   "metadata": {},
   "outputs": [],
   "source": [
    "text = \"Hello, World!\"\n",
    "print(text.lower())  # 'hello, world!'\n",
    "print(text.upper())  # 'HELLO, WORLD!'\n",
    "print(text.title())  # 'Hello, World!'\n"
   ]
  },
  {
   "cell_type": "markdown",
   "metadata": {},
   "source": [
    "공백 제거 (Trimming Whitespaces):"
   ]
  },
  {
   "cell_type": "code",
   "execution_count": null,
   "metadata": {},
   "outputs": [],
   "source": [
    "text = \"  Hello, World!  \"\n",
    "print(text.strip())  # 'Hello, World!'\n",
    "print(text.lstrip()) # 'Hello, World!  '\n",
    "print(text.rstrip()) # '  Hello, World!'\n"
   ]
  },
  {
   "cell_type": "markdown",
   "metadata": {},
   "source": [
    "문자열 분할 (Splitting Strings):"
   ]
  },
  {
   "cell_type": "code",
   "execution_count": null,
   "metadata": {},
   "outputs": [],
   "source": [
    "text = \"apple,banana,cherry\"\n",
    "fruits = text.split(\",\")\n",
    "print(fruits)  # ['apple', 'banana', 'cherry']\n"
   ]
  },
  {
   "cell_type": "markdown",
   "metadata": {},
   "source": [
    "문자열 결합 (Joining Strings):"
   ]
  },
  {
   "cell_type": "code",
   "execution_count": null,
   "metadata": {},
   "outputs": [],
   "source": [
    "fruits = [\"apple\", \"banana\", \"cherry\"]\n",
    "text = \", \".join(fruits)\n",
    "print(text)  # 'apple, banana, cherry'\n"
   ]
  },
  {
   "cell_type": "markdown",
   "metadata": {},
   "source": [
    "문자열 검색 및 대체 (Searching and Replacing Strings):"
   ]
  },
  {
   "cell_type": "code",
   "execution_count": null,
   "metadata": {},
   "outputs": [],
   "source": [
    "text = \"Hello, World!\"\n",
    "print(text.find(\"World\"))  # 7\n",
    "print(text.replace(\"World\", \"Python\"))  # 'Hello, Python!'\n"
   ]
  },
  {
   "cell_type": "markdown",
   "metadata": {},
   "source": [
    "### 문자열 포맷팅 (String Formatting)\n",
    "\n",
    "파이썬에서는 문자열 내에 변수를 삽입하는 다양한 포맷팅 방법을 제공합니다."
   ]
  },
  {
   "cell_type": "markdown",
   "metadata": {},
   "source": [
    "f-strings (파이썬 3.6+):"
   ]
  },
  {
   "cell_type": "code",
   "execution_count": 10,
   "metadata": {},
   "outputs": [
    {
     "name": "stdout",
     "output_type": "stream",
     "text": [
      "My name is John and I am 30 years old.\n"
     ]
    }
   ],
   "source": [
    "name = \"John\"\n",
    "age = 30\n",
    "text = f\"My name is {name} and I am {age} years old.\"\n",
    "print(text)  # 'My name is John and I am 30 years old.'\n"
   ]
  },
  {
   "cell_type": "markdown",
   "metadata": {},
   "source": [
    "str.format() 메소드:"
   ]
  },
  {
   "cell_type": "code",
   "execution_count": null,
   "metadata": {},
   "outputs": [],
   "source": [
    "text = \"My name is {} and I am {} years old.\".format(name, age)\n",
    "print(text)  # 'My name is John and I am 30 years old.'\n"
   ]
  },
  {
   "cell_type": "markdown",
   "metadata": {},
   "source": [
    "퍼센트 연산자 (%):"
   ]
  },
  {
   "cell_type": "code",
   "execution_count": null,
   "metadata": {},
   "outputs": [],
   "source": [
    "text = \"My name is %s and I am %d years old.\" % (name, age)\n",
    "print(text)  # 'My name is John and I am 30 years old.'\n"
   ]
  },
  {
   "cell_type": "markdown",
   "metadata": {},
   "source": [
    "## (참고) 시퀀스\n",
    "\n",
    "시퀀스(Sequence)는 항목들이 특정한 순서로 나열된 데이터 구조를 말합니다. 시퀀스는 항목의 순서가 중요하며, 여러 종류의 데이터 타입이 포함될 수 있습니다. 주요 시퀀스 타입으로는 리스트(List), 튜플(Tuple), 문자열(String), 레인지(Range), 바이트열(Bytes), 바이트배열(Bytearray)이 있습니다."
   ]
  },
  {
   "cell_type": "markdown",
   "metadata": {},
   "source": [
    "### 주요 시퀀스 타입\n",
    "\n",
    "1. **리스트 (List)**:\n",
    "    - 가변적이며 항목을 추가, 제거, 수정할 수 있습니다.\n",
    "    - 대괄호(`[]`)로 생성합니다.\n",
    "    - 예시: `my_list = [1, 2, 3, 4, 5]`\n",
    "2. **튜플 (Tuple)**:\n",
    "    - 불변적이며 생성 후 항목을 변경할 수 없습니다.\n",
    "    - 소괄호(`()`)로 생성합니다.\n",
    "    - 예시: `my_tuple = (1, 2, 3, 4, 5)`\n",
    "3. **문자열 (String)**:\n",
    "    - 불변적이며 문자들의 시퀀스입니다.\n",
    "    - 작은 따옴표(`'`), 큰 따옴표(`\"`), 삼중 따옴표(`'''` 또는 `\"\"\"`)로 생성합니다.\n",
    "    - 예시: `my_string = \"hello\"`\n",
    "4. **레인지 (Range)**:\n",
    "    - 특정한 범위 내의 숫자 시퀀스를 생성합니다.\n",
    "    - `range()` 함수를 사용합니다.\n",
    "    - 예시: `my_range = range(1, 10)`\n",
    "5. **바이트열 (Bytes)**:\n",
    "    - 불변적이며 바이트 시퀀스를 나타냅니다.\n",
    "    - `b''` 또는 `bytes()`로 생성합니다.\n",
    "    - 예시: `my_bytes = b'hello'`\n",
    "6. **바이트배열 (Bytearray)**:\n",
    "    - 가변적이며 바이트 시퀀스를 나타냅니다.\n",
    "    - `bytearray()`로 생성합니다.\n",
    "    - 예시: `my_bytearray = bytearray(b'hello')`"
   ]
  },
  {
   "cell_type": "markdown",
   "metadata": {},
   "source": [
    "### 시퀀스의 공통 연산\n",
    "\n",
    "1. **인덱싱 (Indexing)**: 특정 위치의 항목에 접근합니다."
   ]
  },
  {
   "cell_type": "code",
   "execution_count": null,
   "metadata": {},
   "outputs": [],
   "source": [
    "print(my_list[0])  # 1\n"
   ]
  },
  {
   "cell_type": "markdown",
   "metadata": {},
   "source": [
    "슬라이싱 (Slicing): 시퀀스의 부분 시퀀스를 추출합니다."
   ]
  },
  {
   "cell_type": "code",
   "execution_count": null,
   "metadata": {},
   "outputs": [],
   "source": [
    "print(my_list[1:3])  # [2, 3]\n"
   ]
  },
  {
   "cell_type": "markdown",
   "metadata": {},
   "source": [
    "길이 확인 (Length): 시퀀스의 길이를 확인합니다."
   ]
  },
  {
   "cell_type": "code",
   "execution_count": null,
   "metadata": {},
   "outputs": [],
   "source": [
    "print(len(my_list))  # 5\n"
   ]
  },
  {
   "cell_type": "markdown",
   "metadata": {},
   "source": [
    "반복 (Iteration): 시퀀스를 반복합니다."
   ]
  },
  {
   "cell_type": "code",
   "execution_count": null,
   "metadata": {},
   "outputs": [],
   "source": [
    "for item in my_list:\n",
    "    print(item)\n"
   ]
  },
  {
   "cell_type": "markdown",
   "metadata": {},
   "source": [
    "멤버십 테스트 (Membership Test): 특정 항목의 존재 여부를 확인합니다."
   ]
  },
  {
   "cell_type": "code",
   "execution_count": null,
   "metadata": {},
   "outputs": [],
   "source": [
    "print(2 in my_list)  # True\n"
   ]
  },
  {
   "cell_type": "markdown",
   "metadata": {},
   "source": [
    "시퀀스를 매개변수로 받는 함수와 객체들"
   ]
  },
  {
   "cell_type": "markdown",
   "metadata": {},
   "source": [
    "len(): 시퀀스의 길이를 반환합니다."
   ]
  },
  {
   "cell_type": "code",
   "execution_count": null,
   "metadata": {},
   "outputs": [],
   "source": [
    "print(len(my_list))  # 5\n"
   ]
  },
  {
   "cell_type": "markdown",
   "metadata": {},
   "source": [
    "sorted(): 시퀀스를 정렬된 리스트로 반환합니다."
   ]
  },
  {
   "cell_type": "code",
   "execution_count": null,
   "metadata": {},
   "outputs": [],
   "source": [
    "sorted_list = sorted(my_list)\n",
    "print(sorted_list)  # [1, 2, 3, 4, 5]\n"
   ]
  },
  {
   "cell_type": "markdown",
   "metadata": {},
   "source": [
    "min() / max(): 시퀀스의 최소값과 최대값을 반환합니다."
   ]
  },
  {
   "cell_type": "code",
   "execution_count": null,
   "metadata": {},
   "outputs": [],
   "source": [
    "print(min(my_list))  # 1\n",
    "print(max(my_list))  # 5\n"
   ]
  },
  {
   "cell_type": "markdown",
   "metadata": {},
   "source": [
    "sum(): 숫자 시퀀스의 합을 반환합니다."
   ]
  },
  {
   "cell_type": "code",
   "execution_count": null,
   "metadata": {},
   "outputs": [],
   "source": [
    "print(sum(my_list))  # 15\n"
   ]
  },
  {
   "cell_type": "markdown",
   "metadata": {},
   "source": [
    "enumerate(): 시퀀스를 열거형 객체로 반환합니다."
   ]
  },
  {
   "cell_type": "code",
   "execution_count": null,
   "metadata": {},
   "outputs": [],
   "source": [
    "for index, value in enumerate(my_list):\n",
    "    print(index, value)\n"
   ]
  },
  {
   "cell_type": "markdown",
   "metadata": {},
   "source": [
    "zip(): 여러 시퀀스를 병렬로 결합합니다."
   ]
  },
  {
   "cell_type": "code",
   "execution_count": null,
   "metadata": {},
   "outputs": [],
   "source": [
    "list1 = [1, 2, 3]\n",
    "list2 = ['a', 'b', 'c']\n",
    "zipped = zip(list1, list2)\n",
    "print(list(zipped))  # [(1, 'a'), (2, 'b'), (3, 'c')]\n"
   ]
  },
  {
   "cell_type": "markdown",
   "metadata": {},
   "source": [
    "map(): 시퀀스의 각 항목에 함수를 적용합니다."
   ]
  },
  {
   "cell_type": "code",
   "execution_count": null,
   "metadata": {},
   "outputs": [],
   "source": [
    "def square(x):\n",
    "    return x * x\n",
    "\n",
    "squared_list = list(map(square, my_list))\n",
    "print(squared_list)  # [1, 4, 9, 16, 25]\n"
   ]
  },
  {
   "cell_type": "markdown",
   "metadata": {},
   "source": [
    "filter(): 조건을 만족하는 항목들로 시퀀스를 필터링합니다."
   ]
  },
  {
   "cell_type": "code",
   "execution_count": null,
   "metadata": {},
   "outputs": [],
   "source": [
    "def is_even(x):\n",
    "    return x % 2 == 0\n",
    "\n",
    "even_list = list(filter(is_even, my_list))\n",
    "print(even_list)  # [2, 4]\n"
   ]
  },
  {
   "cell_type": "markdown",
   "metadata": {},
   "source": [
    "### 시퀀스를 활용한 예제\n",
    "\n",
    "다양한 시퀀스 타입과 시퀀스를 매개변수로 받는 함수들을 결합하여 데이터를 효율적으로 처리할 수 있습니다. 예를 들어, 리스트 컴프리헨션과 `zip()` 함수를 사용하여 두 리스트의 항목을 결합할 수 있습니다."
   ]
  },
  {
   "cell_type": "code",
   "execution_count": null,
   "metadata": {},
   "outputs": [],
   "source": [
    "list1 = [1, 2, 3]\n",
    "list2 = [10, 20, 30]\n",
    "summed_list = [x + y for x, y in zip(list1, list2)]\n",
    "print(summed_list)  # [11, 22, 33]"
   ]
  },
  {
   "cell_type": "markdown",
   "metadata": {},
   "source": [
    "유효한 팰린드롬 문제."
   ]
  },
  {
   "cell_type": "code",
   "execution_count": null,
   "metadata": {},
   "outputs": [],
   "source": [
    "# 리스트를 이용.\n",
    "\n",
    "class Solution:\n",
    "    def isPalindrome(self, s: str) -> bool:\n",
    "        strs = []\n",
    "        for char in s:\n",
    "            if char.isalnum():\n",
    "                strs.append(char.lower())\n",
    "                \n",
    "        while len(strs) > 1:\n",
    "            if strs.pop(0) != strs.pop():\n",
    "                return False\n",
    "        return True"
   ]
  },
  {
   "cell_type": "code",
   "execution_count": null,
   "metadata": {},
   "outputs": [],
   "source": [
    "class Solution:\n",
    "    def isPalindrome(self, s: str) -> bool:\n",
    "        # 알파벳만 남기기\n",
    "        new_s = \"\"\n",
    "        for letter in s:\n",
    "            if letter.isalnum():\n",
    "                new_s += letter\n",
    "        new_s = new_s.lower()\n",
    "        new_array = list(new_s)\n",
    "        \n",
    "        while len(new_array) > 2:\n",
    "            if new_array.pop() != new_array.pop(0): # 마지막값과 첫번째 값 추출\n",
    "                return False\n",
    "            \n",
    "        return True"
   ]
  },
  {
   "cell_type": "code",
   "execution_count": null,
   "metadata": {},
   "outputs": [],
   "source": [
    "class Solution:\n",
    "    def isPalindrome(self, s: str) -> bool:\n",
    "        # 알파벳만 남기기\n",
    "        new_s = \"\"\n",
    "        for letter in s:\n",
    "            if letter.isalnum():\n",
    "                new_s += letter\n",
    "        new_s = new_s.lower()\n",
    "        \n",
    "        return new_s == new_s[::-1]"
   ]
  },
  {
   "cell_type": "code",
   "execution_count": null,
   "metadata": {},
   "outputs": [],
   "source": [
    "# 리스트 컴프리헨션 사용\n",
    "\n",
    "class Solution:\n",
    "    def isPalindrome(self, s: str) -> bool:\n",
    "        # 알파벳만 남기기\n",
    "        \n",
    "        s = ([letter.lower() for letter in s if letter.isalnum])\n",
    "        return s == s[::-1]"
   ]
  },
  {
   "cell_type": "markdown",
   "metadata": {},
   "source": [
    "문자열 뒤집기 문제"
   ]
  },
  {
   "cell_type": "code",
   "execution_count": null,
   "metadata": {},
   "outputs": [],
   "source": [
    "class Solution:\n",
    "    def reverseString(self, s: list[str]) -> None:\n",
    "        s.reverse()"
   ]
  },
  {
   "cell_type": "markdown",
   "metadata": {},
   "source": [
    "로그 파일 재정렬 문제"
   ]
  },
  {
   "cell_type": "code",
   "execution_count": null,
   "metadata": {},
   "outputs": [],
   "source": [
    "class Solution:\n",
    "    def reorderLogFiles(self, logs: list[str]) -> list[str]:\n",
    "        letters, digits = [], []\n",
    "        \n",
    "        for log in logs:\n",
    "            if log.split()[1].isdigit():\n",
    "                digits.append(log)\n",
    "            else:\n",
    "                letters.append(log)\n",
    "                \n",
    "        letters.sort(key=lambda x: (x.split()[1:], x.split()[0]))\n",
    "        \n",
    "        return letters + digits"
   ]
  },
  {
   "cell_type": "markdown",
   "metadata": {},
   "source": [
    "가장 흔한 단어 문제"
   ]
  },
  {
   "cell_type": "code",
   "execution_count": null,
   "metadata": {},
   "outputs": [],
   "source": [
    "# 정규식과 Counter를 이용.\n",
    "\n",
    "from collections import Counter\n",
    "import re\n",
    "\n",
    "class Solution:\n",
    "    def mostCommonWord(self, paragraph: str, banned: list[str]) -> str:\n",
    "        words = [word for word in re.sub(r'[^\\w]', '', paragraph).lower().split() if word not in banned]\n",
    "        counts = Counter(words)\n",
    "        return counts.most_common(1)[0][0]"
   ]
  },
  {
   "cell_type": "code",
   "execution_count": 11,
   "metadata": {},
   "outputs": [],
   "source": [
    "import collections\n",
    "\n",
    "class Solution:\n",
    "    def mostCommonWord(self, paragraph: str, banned: list[str]) -> str:\n",
    "        \n",
    "        words = []\n",
    "        for word in paragraph.split(' '):\n",
    "            words.append(word)\n",
    "            \n",
    "        fin_words = []\n",
    "        for word in words:\n",
    "            fin_words.append(''.join(s for s in word if s.isalnum()).lower())\n",
    "            \n",
    "        final_words = []\n",
    "        for word in fin_words:\n",
    "            if word != banned[0]:\n",
    "                final_words.append(word)\n",
    "                \n",
    "        counts = collections.Counter(final_words)\n",
    "        print(counts.most_common(1)[0][0])"
   ]
  },
  {
   "cell_type": "markdown",
   "metadata": {},
   "source": [
    "강사님"
   ]
  },
  {
   "cell_type": "code",
   "execution_count": null,
   "metadata": {},
   "outputs": [],
   "source": [
    "class Solution:\n",
    "    def mostCommonWord(self, paragraph: str, banned: list[str]) -> str:\n",
    "        p_dict = {}\n",
    "        paragraph = [p.lower() for p in paragraph.split()]\n",
    "        symbols = \"!?',;.\"\n",
    "        \n",
    "        # for i, p in enumerate(paragraph):\n",
    "        #     if not p.isalnum():\n",
    "        #         for symbol in symbols:\n",
    "        #             paragraph[i] = p.replace(symbol, \"\")\n",
    "                    \n",
    "        \n",
    "        for i, p in enumerate(paragraph):\n",
    "            new_p = \"\"\n",
    "            for letter in p:\n",
    "                if letter.isalnum():\n",
    "                    new_p += letter\n",
    "            paragraph[i] = new_p\n",
    "        \n",
    "        for p in paragraph:\n",
    "            if p in p_dict:\n",
    "                p_dict[p] += 1\n",
    "            else:\n",
    "                p_dict[p] = 1"
   ]
  },
  {
   "cell_type": "code",
   "execution_count": null,
   "metadata": {},
   "outputs": [],
   "source": [
    "from collections import Counter\n",
    "\n",
    "class Solution:\n",
    "    def mostCommonWord(self, paragraph: str, banned: list[str]) -> str:\n",
    "        # paragraph = [p.lower() for p in paragraph.split()]\n",
    "        new = \"\"\n",
    "        for i, p in enumerate(paragraph):\n",
    "            if p in \"!?',;.\":\n",
    "                new += \"\"\n",
    "            else:\n",
    "                new += p\n",
    "                \n",
    "        paragraph = new\n",
    "        paragraph = [p.lower() for p in paragraph.split()]\n",
    "        \n",
    "        counter = Counter(paragraph)\n",
    "        for ban in banned:\n",
    "            del counter[ban]\n",
    "        return \n",
    "        \n",
    "\n",
    "        \n"
   ]
  },
  {
   "cell_type": "markdown",
   "metadata": {},
   "source": [
    "## 스택/큐\n",
    "\n",
    "### 스택 (Stack)\n",
    "\n",
    "스택은 **후입선출**(Last In, First Out, LIFO) 원칙을 따르는 자료 구조입니다. 즉, 가장 나중에 삽입된 데이터가 가장 먼저 제거됩니다. 스택은 다음과 같은 기본 연산을 가집니다:\n",
    "\n",
    "- **push**: 스택의 맨 위에 데이터를 추가합니다.\n",
    "- **pop**: 스택의 맨 위에 있는 데이터를 제거하고 반환합니다.\n",
    "- **peek**: 스택의 맨 위에 있는 데이터를 제거하지 않고 반환합니다.\n",
    "- **is_empty**: 스택이 비어 있는지 확인합니다.\n",
    "\n",
    "파이썬에서는 기본적으로 리스트(list)를 사용하여 스택을 구현할 수 있습니다. 예를 들어:"
   ]
  },
  {
   "cell_type": "code",
   "execution_count": null,
   "metadata": {},
   "outputs": [],
   "source": [
    "stack = []\n",
    "\n",
    "# push 연산\n",
    "stack.append(1)\n",
    "stack.append(2)\n",
    "stack.append(3)\n",
    "\n",
    "# pop 연산\n",
    "top_element = stack.pop()  # top_element는 3이 됨\n",
    "\n",
    "# peek 연산\n",
    "top_element = stack[-1]  # top_element는 2가 됨\n",
    "\n",
    "# is_empty 연산\n",
    "is_empty = len(stack) == 0\n",
    "\n"
   ]
  },
  {
   "cell_type": "markdown",
   "metadata": {},
   "source": [
    "### 큐 (Queue)\n",
    "\n",
    "큐는 **선입선출**(First In, First Out, FIFO) 원칙을 따르는 자료 구조입니다. 즉, 가장 먼저 삽입된 데이터가 가장 먼저 제거됩니다. 큐는 다음과 같은 기본 연산을 가집니다:\n",
    "\n",
    "- **enqueue**: 큐의 뒤에 데이터를 추가합니다.\n",
    "- **dequeue**: 큐의 앞에 있는 데이터를 제거하고 반환합니다.\n",
    "- **peek**: 큐의 앞에 있는 데이터를 제거하지 않고 반환합니다.\n",
    "- **is_empty**: 큐가 비어 있는지 확인합니다.\n",
    "\n",
    "파이썬에서는 `collections` 모듈의 `deque` 클래스를 사용하여 큐를 구현할 수 있습니다. 예를 들어:"
   ]
  },
  {
   "cell_type": "code",
   "execution_count": null,
   "metadata": {},
   "outputs": [],
   "source": [
    "from collections import deque\n",
    "\n",
    "queue = deque()\n",
    "\n",
    "# enqueue 연산\n",
    "queue.append(1)\n",
    "queue.append(2)\n",
    "queue.append(3)\n",
    "\n",
    "# dequeue 연산\n",
    "front_element = queue.popleft()  # front_element는 1이 됨\n",
    "\n",
    "# peek 연산\n",
    "front_element = queue[0]  # front_element는 2가 됨\n",
    "\n",
    "# is_empty 연산\n",
    "is_empty = len(queue) == 0\n",
    "\n"
   ]
  },
  {
   "cell_type": "markdown",
   "metadata": {},
   "source": [
    "### 요약\n",
    "\n",
    "- **스택**은 LIFO 원칙을 따르며, `append()`와 `pop()` 메서드를 사용하여 구현할 수 있습니다.\n",
    "- **큐**는 FIFO 원칙을 따르며, `deque` 클래스를 사용하여 `append()`와 `popleft()` 메서드를 통해 구현할 수 있습니다."
   ]
  },
  {
   "cell_type": "markdown",
   "metadata": {},
   "source": [
    "## 데크\n",
    "\n",
    "### 주요 특징과 연산\n",
    "\n",
    "1. **양쪽 끝에서의 효율적인 연산**\n",
    "    - `append(item)`: O(1) - 아이템을 오른쪽 끝에 추가합니다.\n",
    "    - `appendleft(item)`: O(1) - 아이템을 왼쪽 끝에 추가합니다.\n",
    "    - `pop()`: O(1) - 오른쪽 끝에서 아이템을 제거하고 반환합니다.\n",
    "    - `popleft()`: O(1) - 왼쪽 끝에서 아이템을 제거하고 반환합니다.\n",
    "2. **기타 유용한 메서드**\n",
    "    - `extend(iterable)`: 반복 가능한 객체(iterable)의 모든 아이템을 오른쪽 끝에 추가합니다.\n",
    "    - `extendleft(iterable)`: 반복 가능한 객체의 모든 아이템을 왼쪽 끝에 추가합니다. (이때 순서가 반대로 추가됩니다)\n",
    "    - `rotate(n)`: 덱의 모든 아이템을 오른쪽으로 `n`만큼 회전합니다. `n`이 음수일 경우 왼쪽으로 회전합니다.\n",
    "    - `reverse()`: 덱의 아이템 순서를 뒤집습니다.\n",
    "    - `clear()`: 덱의 모든 아이템을 제거합니다.\n",
    "3. **특징**\n",
    "    - `deque`는 양쪽 끝에서의 삽입과 삭제가 O(1) 시간 복잡도를 가지므로, 성능이 매우 뛰어납니다.\n",
    "    - 리스트와 달리 `deque`는 양쪽 끝에서의 삽입 및 삭제에 최적화되어 있어 중간에서의 삽입 및 삭제에는 적합하지 않습니다."
   ]
  },
  {
   "cell_type": "markdown",
   "metadata": {},
   "source": [
    "다음은 deque를 사용하는 간단한 예제입니다:"
   ]
  },
  {
   "cell_type": "code",
   "execution_count": null,
   "metadata": {},
   "outputs": [],
   "source": [
    "from collections import deque\n",
    "\n",
    "# 덱 생성\n",
    "d = deque()\n",
    "\n",
    "# 오른쪽 끝에 아이템 추가\n",
    "d.append(1)\n",
    "d.append(2)\n",
    "d.append(3)\n",
    "print(d)  # 출력: deque([1, 2, 3])\n",
    "\n",
    "# 왼쪽 끝에 아이템 추가\n",
    "d.appendleft(0)\n",
    "print(d)  # 출력: deque([0, 1, 2, 3])\n",
    "\n",
    "# 오른쪽 끝에서 아이템 제거 및 반환\n",
    "right_item = d.pop()\n",
    "print(right_item)  # 출력: 3\n",
    "print(d)  # 출력: deque([0, 1, 2])\n",
    "\n",
    "# 왼쪽 끝에서 아이템 제거 및 반환\n",
    "left_item = d.popleft()\n",
    "print(left_item)  # 출력: 0\n",
    "print(d)  # 출력: deque([1, 2])\n",
    "\n",
    "# 반복 가능한 객체의 아이템들을 오른쪽 끝에 추가\n",
    "d.extend([4, 5, 6])\n",
    "print(d)  # 출력: deque([1, 2, 4, 5, 6])\n",
    "\n",
    "# 반복 가능한 객체의 아이템들을 왼쪽 끝에 추가 (순서 반대로)\n",
    "d.extendleft([-1, -2, -3])\n",
    "print(d)  # 출력: deque([-3, -2, -1, 1, 2, 4, 5, 6])\n",
    "\n",
    "# 덱 회전 (오른쪽으로 2칸)\n",
    "d.rotate(2)\n",
    "print(d)  # 출력: deque([5, 6, -3, -2, -1, 1, 2, 4])\n",
    "\n",
    "# 덱 뒤집기\n",
    "d.reverse()\n",
    "print(d)  # 출력: deque([4, 2, 1, -1, -2, -3, 6, 5])\n",
    "\n",
    "# 덱 비우기\n",
    "d.clear()\n",
    "print(d)  # 출력: deque([])\n",
    "\n"
   ]
  },
  {
   "cell_type": "markdown",
   "metadata": {},
   "source": [
    "### 요약\n",
    "\n",
    "- `deque`는 양쪽 끝에서의 빠른 삽입과 삭제가 필요한 경우 매우 유용한 자료 구조입니다.\n",
    "- 스택과 큐의 기능을 모두 지원하며, 다양한 유틸리티 메서드로 여러 상황에서 유연하게 사용할 수 있습니다.\n",
    "- `deque`는 리스트와 비교할 때, 양 끝에서의 연산 성능이 뛰어나므로, 해당 연산이 빈번한 경우에 특히 적합합니다."
   ]
  },
  {
   "cell_type": "markdown",
   "metadata": {},
   "source": [
    "같은 숫자는 싫어"
   ]
  },
  {
   "cell_type": "markdown",
   "metadata": {},
   "source": [
    "문제 설명\n",
    "배열 arr가 주어집니다. 배열 arr의 각 원소는 숫자 0부터 9까지로 이루어져 있습니다. 이때, 배열 arr에서 연속적으로 나타나는 숫자는 하나만 남기고 전부 제거하려고 합니다. 단, 제거된 후 남은 수들을 반환할 때는 배열 arr의 원소들의 순서를 유지해야 합니다. 예를 들면,\n",
    "\n",
    "arr = [1, 1, 3, 3, 0, 1, 1] 이면 [1, 3, 0, 1] 을 return 합니다.\n",
    "arr = [4, 4, 4, 3, 3] 이면 [4, 3] 을 return 합니다.\n",
    "배열 arr에서 연속적으로 나타나는 숫자는 제거하고 남은 수들을 return 하는 solution 함수를 완성해 주세요.\n",
    "\n",
    "제한사항\n",
    "배열 arr의 크기 : 1,000,000 이하의 자연수\n",
    "배열 arr의 원소의 크기 : 0보다 크거나 같고 9보다 작거나 같은 정수"
   ]
  },
  {
   "cell_type": "code",
   "execution_count": null,
   "metadata": {},
   "outputs": [],
   "source": [
    "def solution(arr):\n",
    "    answer = []\n",
    "    answer.append(arr[0])\n",
    "    now = arr[0]\n",
    "    \n",
    "    for i in arr:\n",
    "        if i != now:\n",
    "            answer.append(i)\n",
    "            now = i\n",
    "    print('Hello Python')\n",
    "    return answer"
   ]
  },
  {
   "cell_type": "code",
   "execution_count": null,
   "metadata": {},
   "outputs": [],
   "source": [
    "def solution(arr):\n",
    "    temp = arr[0] - 1\n",
    "    result = []\n",
    "    for a in arr:\n",
    "        if a != temp:\n",
    "            temp = a\n",
    "            result.append(a)\n",
    "    return result"
   ]
  },
  {
   "cell_type": "markdown",
   "metadata": {},
   "source": [
    "큐를 이용한 스택 구현"
   ]
  },
  {
   "cell_type": "code",
   "execution_count": null,
   "metadata": {},
   "outputs": [],
   "source": [
    "class MyStack:\n",
    "    def __init__(self):\n",
    "        self.q = deque()\n",
    "\n",
    "    def push(self, x: int) -> None:\n",
    "        self.q.append(x)\n",
    "        for _ in range(len(self.q) - 1):\n",
    "            self.q.append(self.q.popleft())\n",
    "\n",
    "    def pop(self) -> int:\n",
    "        return self.q.popleft()\n",
    "\n",
    "    def top(self) -> int:\n",
    "        return self.q[0]\n",
    "        \n",
    "\n",
    "    def empty(self) -> bool:\n",
    "        return True if len(self.q) == 0 else False"
   ]
  },
  {
   "cell_type": "markdown",
   "metadata": {},
   "source": [
    "유효한 괄호 문제"
   ]
  },
  {
   "cell_type": "code",
   "execution_count": 13,
   "metadata": {},
   "outputs": [],
   "source": [
    "class Solution:\n",
    "    def isValid(self, s: str) -> bool:\n",
    "        parentheses = {\n",
    "            \"(\" : \")\",\n",
    "            \"{\" : \"}\",\n",
    "            \"[\" : \"]\"\n",
    "        }   # 괄호 짝 대조를 위한 딕셔너리\n",
    "        stack = [] # 여는 괄호를 담을 stack\n",
    "        \n",
    "        for par in s:\n",
    "            if par in parentheses.keys():   # 여는 괄호라면\n",
    "                stack.append(par)           # stack에 push\n",
    "            else:                           # 닫는 괄호\n",
    "                try:\n",
    "                    op = stack.pop()\n",
    "                    if parentheses[op] != par:\n",
    "                        return False\n",
    "                except:                     # 닫는 괄호로 시작하는 경우 예외처리\n",
    "                    return False\n",
    "                \n",
    "        if stack:   # for loop를 마쳤지만. stack에 여는 괄호가 남아있는 경우(짝이 안맞을때)\n",
    "            return False\n",
    "        else:\n",
    "            return True # for loop를 정상적으로 마치면 Valid parentheses."
   ]
  },
  {
   "cell_type": "code",
   "execution_count": 15,
   "metadata": {},
   "outputs": [],
   "source": [
    "class Solution:\n",
    "    def isValid(self, s: str) -> bool:\n",
    "        parentheses = {\"(\" : \")\",\"{\" : \"}\",\"[\" : \"]\"}\n",
    "        stack = []\n",
    "\n",
    "        for par in s:\n",
    "            if par in parentheses.keys(): # 여는 괄호라면\n",
    "                stack.append(par) # stack에 push\n",
    "            elif (not stack) or (parentheses[stack.pop()] != par):\n",
    "                # not stack (닫는 괄호로 시작)\n",
    "                # parentheses[stack.pop()] != par (여는 괄호와 닫는 괄호의 짝이 맞지 않을 때)\n",
    "                return False\n",
    "\n",
    "        # 모든 string을 다 탐색했는데 stack이 남아있는 경우에는 False\n",
    "        # stack이 정상적으로 비워져 있다면 True\n",
    "        # 이 모든 경우를 포괄하기 위해서는 stack의 길이가 0인지를 return하도록 함\n",
    "        return len(stack) == 0"
   ]
  },
  {
   "cell_type": "code",
   "execution_count": null,
   "metadata": {},
   "outputs": [],
   "source": [
    "class Solution:\n",
    "    def isValid(self, s: str) -> bool:\n",
    "        # 스택 자료 구조\n",
    "        open_brackets = []\n",
    "        \n",
    "        brackets = {\"(\" : \")\",\"{\" : \"}\",\"[\" : \"]\"}\n",
    "        \n",
    "        for bracket in s:\n",
    "            # 열린 괄호는 스택에 추가\n",
    "            if not bracket in brackets.keys():\n",
    "                open_brackets.append(bracket)\n",
    "            # 닫힌 괄호(bracket)와 열린 괄호(open_brackets 마지막 원소)가 맞지 않다면 거짓 반환\n",
    "            elif len(open_brackets) == 0 or brackets[bracket] != open_brackets[-1]:\n",
    "                return False\n",
    "            # 정상적인 경우 마지막 열린 괄호 삭제\n",
    "            else:\n",
    "                open_brackets.pop()\n",
    "                \n",
    "        return len(open_brackets) == 0\n",
    "        # 열린 괄호들이 pop에 의해 전부 잘 닫쳤는지 확인 후 리턴.           \n",
    "        "
   ]
  },
  {
   "cell_type": "markdown",
   "metadata": {},
   "source": [
    "기능 개발 문제"
   ]
  },
  {
   "cell_type": "markdown",
   "metadata": {},
   "source": [
    "프로그래머스 팀에서는 기능 개선 작업을 수행 중입니다. 각 기능은 진도가 100%일 때 서비스에 반영할 수 있습니다.\n",
    "\n",
    "또, 각 기능의 개발속도는 모두 다르기 때문에 뒤에 있는 기능이 앞에 있는 기능보다 먼저 개발될 수 있고, 이때 뒤에 있는 기능은 앞에 있는 기능이 배포될 때 함께 배포됩니다.\n",
    "\n",
    "먼저 배포되어야 하는 순서대로 작업의 진도가 적힌 정수 배열 progresses와 각 작업의 개발 속도가 적힌 정수 배열 speeds가 주어질 때 각 배포마다 몇 개의 기능이 배포되는지를 return 하도록 solution 함수를 완성하세요.\n",
    "\n",
    "제한 사항\n",
    "작업의 개수(progresses, speeds배열의 길이)는 100개 이하입니다.\n",
    "작업 진도는 100 미만의 자연수입니다.\n",
    "작업 속도는 100 이하의 자연수입니다.\n",
    "배포는 하루에 한 번만 할 수 있으며, 하루의 끝에 이루어진다고 가정합니다. 예를 들어 진도율이 95%인 작업의 개발 속도가 하루에 4%라면 배포는 2일 뒤에 이루어집니다."
   ]
  },
  {
   "cell_type": "code",
   "execution_count": 14,
   "metadata": {},
   "outputs": [],
   "source": [
    "def solution(progresses, speeds):\n",
    "    answer = []\n",
    "    days = 0\n",
    "    cnt = 0\n",
    "    while len(progresses) > 0:\n",
    "        if(progresses[0]+days*speeds[0])>=100:\n",
    "            progresses.pop(0)\n",
    "            speeds.pop(0)\n",
    "            cnt += 1\n",
    "        else:\n",
    "            if cnt > 0:\n",
    "                answer.append(cnt)\n",
    "                cnt = 0\n",
    "            else:\n",
    "                days+=1\n",
    "    answer.append(cnt)\n",
    "    return answer"
   ]
  },
  {
   "cell_type": "code",
   "execution_count": null,
   "metadata": {},
   "outputs": [],
   "source": [
    "from math import ceil\n",
    "\n",
    "def solution(progresses, speeds):\n",
    "    answer = [0]\n",
    "    \n",
    "    for progresses, speed in zip(progresses, speeds):\n",
    "        spend = ceil((100 - progresses) / speed)\n",
    "        # 마지막 진행된 작업이 소요시간이 더 길면, 그시간으로 넣는다.\n",
    "        answer.append(max(answer[-1], spend))\n",
    "        \n",
    "    answer = answer[1:]\n",
    "    \n",
    "    count = 0   # 소요시간이 같은 작업의 개수\n",
    "    temp = 0    # 이전 작업의 시간\n",
    "    result = []\n",
    "    for a in answer:\n",
    "        # 만약 소요 시간이 이전 작업 소요시간과 동일하지 않다면.\n",
    "        # 배포 시간이 달라짐\n",
    "        if temp != a:\n",
    "            # 소요 시간이 같았던 것들의 개수는 결과 배열에 추가\n",
    "            result.append(count)\n",
    "            # 이전 소요시간 다시 할당\n",
    "            temp = a\n",
    "            # 소요시간이 같았던 것들의 개수 초기화\n",
    "            count = 0\n",
    "        count += 1\n",
    "    result.append(count)\n",
    "    \n",
    "    \n",
    "    \n",
    "    return result[1:]"
   ]
  },
  {
   "cell_type": "markdown",
   "metadata": {},
   "source": [
    "스택을 위한 큐 구현"
   ]
  },
  {
   "cell_type": "code",
   "execution_count": null,
   "metadata": {},
   "outputs": [],
   "source": [
    "class MyQueue:\n",
    "    def __init__(self):\n",
    "        self.Q = []\n",
    "\n",
    "    def push(self, x: int) -> None:\n",
    "        self.Q.append(x)\n",
    "\n",
    "    def pop(self) -> int:\n",
    "        temp = []\n",
    "        while len(self.Q) > 1:\n",
    "            temp.append(self.Q.pop())\n",
    "        ret = self.Q.pop()\n",
    "        while temp:\n",
    "            self.Q.append(temp.pop())\n",
    "        return ret\n",
    "\n",
    "    def peek(self) -> int:\n",
    "        return self.Q[0]\n",
    "\n",
    "    def empty(self) -> bool:\n",
    "        if len(self.Q) == 0:\n",
    "            return True\n",
    "        else:\n",
    "            return False"
   ]
  },
  {
   "cell_type": "markdown",
   "metadata": {},
   "source": [
    "일일 온도 문제"
   ]
  },
  {
   "cell_type": "markdown",
   "metadata": {},
   "source": [
    "- 문제 설명\n",
    "- 매일의 화씨 온도 리스트 T를 입력받아서, 더 따뜻한 날씨가 될 때까지 며칠을 더 기다려야 하는지 리스트로 리턴하라."
   ]
  },
  {
   "cell_type": "code",
   "execution_count": null,
   "metadata": {},
   "outputs": [],
   "source": [
    "class Solution:\n",
    "    def dailyTemperatures(self, T: list[int]) -> list[int]:\n",
    "        \"\"\"\n",
    "        스택으로 접근\n",
    "        \"\"\"\n",
    "        counter = {k:0 for k in range(len(T))} \n",
    "        # counter dict: 인덱스로 해야됨 (동일한 온도가 있을 수 있으므로)\n",
    "        stack = [0]\n",
    "        \n",
    "        for i in range(1,len(T)):\n",
    "            temp = T[i]\n",
    "            while True:\n",
    "                cur_idx = stack.pop()\n",
    "                cur_temp= T[cur_idx]\n",
    "                if cur_temp >= temp: # 현재보다 더 따뜻한 날씨를 못만남 (탐색 실패)\n",
    "                    stack.append(cur_idx) # cur_temp 다시 push\n",
    "                    stack.append(i) # temp도 뒤이어 push\n",
    "                    break # while loop 탈출 -> temp 변경\n",
    "                else: # 탐색 성공\n",
    "                    counter[cur_idx] = i-cur_idx # counter 업데이트하는 부분을 수정\n",
    "                    if not stack: # when stack is empty\n",
    "                        stack.append(i)\n",
    "                        break\n",
    "                                    \n",
    "        while stack:\n",
    "            counter[stack.pop()] = 0\n",
    "        \n",
    "        return list(counter.values())"
   ]
  },
  {
   "cell_type": "code",
   "execution_count": null,
   "metadata": {},
   "outputs": [],
   "source": [
    "class Solution:\n",
    "    def dailyTemperatures(self, T: list[int]) -> list[int]:\n",
    "        \n",
    "        n = len(T)\n",
    "        result = [0] * n                        # 결과를 저장할 리스트 초기화\n",
    "        stack = []                              # 인덱스를 저장할 스택\n",
    "        \n",
    "        for i in range(n):\n",
    "            # 현재 온도보다 낮은 온도를 스택에서 꺼내면서 처리\n",
    "            while stack and T[i] > T[stack[-1]]:\n",
    "                cur_idx = stack.pop()\n",
    "                result[cur_idx] = i - cur_idx\n",
    "            stack.append(i)                     # 현재 인덱스를 스택에 추가\n",
    "            \n",
    "        return result"
   ]
  },
  {
   "cell_type": "markdown",
   "metadata": {},
   "source": [
    "## 힙과 우선순위 큐\n",
    "\n",
    "### 힙 (Heap)\n",
    "\n",
    "힙은 이진 트리 기반의 자료 구조로, 다음과 같은 두 가지 종류가 있습니다:\n",
    "\n",
    "1. **최소 힙 (Min-Heap)**\n",
    "    - 각 부모 노드가 자식 노드보다 작거나 같은 값을 갖습니다. 최솟값이 루트에 위치합니다.\n",
    "2. **최대 힙 (Max-Heap)**\n",
    "    - 각 부모 노드가 자식 노드보다 크거나 같은 값을 갖습니다. 최댓값이 루트에 위치합니다.\n",
    "\n",
    "파이썬의 `heapq` 모듈은 기본적으로 최소 힙을 제공합니다.\n",
    "\n",
    "### 주요 연산\n",
    "\n",
    "1. **삽입**: 힙에 요소를 추가합니다.\n",
    "2. **삭제**: 힙에서 최상위(최소 힙의 경우 최솟값, 최대 힙의 경우 최댓값) 요소를 제거합니다.\n",
    "3. **힙 정렬**: 데이터를 힙 구조로 변환하여 정렬합니다."
   ]
  },
  {
   "cell_type": "markdown",
   "metadata": {},
   "source": [
    "### 예제 코드\n",
    "\n",
    "다음은 `heapq` 모듈을 사용하여 최소 힙을 구현하는 예제입니다:"
   ]
  },
  {
   "cell_type": "code",
   "execution_count": null,
   "metadata": {},
   "outputs": [],
   "source": [
    "import heapq\n",
    "\n",
    "# 빈 힙 생성\n",
    "min_heap = []\n",
    "\n",
    "# 삽입 연산\n",
    "heapq.heappush(min_heap, 3)\n",
    "heapq.heappush(min_heap, 1)\n",
    "heapq.heappush(min_heap, 4)\n",
    "heapq.heappush(min_heap, 2)\n",
    "\n",
    "# 힙에서 최솟값 제거 및 반환\n",
    "min_value = heapq.heappop(min_heap)\n",
    "print(min_value)  # 출력: 1\n",
    "\n",
    "# 힙에서 최솟값 확인 (제거하지 않음)\n",
    "min_value = min_heap[0]\n",
    "print(min_value)  # 출력: 2\n",
    "\n"
   ]
  },
  {
   "cell_type": "markdown",
   "metadata": {},
   "source": [
    "### 최대 힙 구현\n",
    "\n",
    "최대 힙을 구현하기 위해서는 삽입할 때 음수 값을 저장하고, 꺼낼 때 다시 음수로 변환하여 사용할 수 있습니다."
   ]
  },
  {
   "cell_type": "code",
   "execution_count": null,
   "metadata": {},
   "outputs": [],
   "source": [
    "# 빈 최대 힙 생성\n",
    "max_heap = []\n",
    "\n",
    "# 삽입 연산 (음수 값을 저장)\n",
    "heapq.heappush(max_heap, -3)\n",
    "heapq.heappush(max_heap, -1)\n",
    "heapq.heappush(max_heap, -4)\n",
    "heapq.heappush(max_heap, -2)\n",
    "\n",
    "# 힙에서 최댓값 제거 및 반환 (음수로 변환)\n",
    "max_value = -heapq.heappop(max_heap)\n",
    "print(max_value)  # 출력: 4\n",
    "\n"
   ]
  },
  {
   "cell_type": "markdown",
   "metadata": {},
   "source": [
    "### 우선 순위 큐 (Priority Queue)\n",
    "\n",
    "우선 순위 큐는 요소들이 우선 순위에 따라 처리되는 큐입니다. 힙을 이용하여 효율적으로 구현할 수 있습니다. `heapq` 모듈을 사용하여 우선 순위 큐를 구현하는 예제는 다음과 같습니다:"
   ]
  },
  {
   "cell_type": "code",
   "execution_count": null,
   "metadata": {},
   "outputs": [],
   "source": [
    "import heapq\n",
    "\n",
    "# 빈 우선 순위 큐 생성\n",
    "priority_queue = []\n",
    "\n",
    "# 우선 순위와 함께 삽입 (우선 순위, 값)\n",
    "heapq.heappush(priority_queue, (1, 'task1'))\n",
    "heapq.heappush(priority_queue, (3, 'task3'))\n",
    "heapq.heappush(priority_queue, (2, 'task2'))\n",
    "\n",
    "# 우선 순위가 가장 높은 요소 제거 및 반환\n",
    "priority_task = heapq.heappop(priority_queue)\n",
    "print(priority_task)  # 출력: (1, 'task1')\n",
    "\n"
   ]
  },
  {
   "cell_type": "markdown",
   "metadata": {},
   "source": [
    "### 요약\n",
    "\n",
    "- **힙**은 이진 트리 기반의 자료 구조로, 최소 힙과 최대 힙으로 나뉩니다. 파이썬의 `heapq` 모듈은 기본적으로 최소 힙을 제공합니다.\n",
    "- **우선 순위 큐**는 요소들이 우선 순위에 따라 처리되는 큐로, 힙을 사용하여 구현할 수 있습니다.\n",
    "- `heapq` 모듈은 삽입, 삭제, 정렬 등의 연산을 효율적으로 수행할 수 있도록 합니다."
   ]
  },
  {
   "cell_type": "markdown",
   "metadata": {},
   "source": [
    "더 맵게 문제"
   ]
  },
  {
   "cell_type": "markdown",
   "metadata": {},
   "source": [
    "- 매운 것을 좋아하는 Leo는 모든 음식의 스코빌 지수를 K 이상으로 만들고 싶습니다. 모든 음식의 스코빌 지수를 K 이상으로 만들기 위해\n",
    "- Leo는 스코빌 지수가 가장 낮은 두 개의 음식을 아래와 같이 특별한 방법으로 섞어 새로운 음식을 만듭니다.\n",
    "\n",
    "- 섞은 음식의 스코빌 지수 = 가장 맵지 않은 음식의 스코빌 지수 + (두 번째로 맵지 않은 음식의 스코빌 지수 * 2)\n",
    "\n",
    "- Leo는 모든 음식의 스코빌 지수가 K 이상이 될 때까지 반복하여 섞습니다.\n",
    "- Leo가 가진 음식의 스코빌 지수를 담은 배열 scoville과 원하는 스코빌 지수 K가 주어질 때, 모든 음식의 스코빌 지수를 K 이상으로 만들기 위해 섞어야 하는 최소 횟수를 return 하도록 solution 함수를 작성해주세요."
   ]
  },
  {
   "cell_type": "code",
   "execution_count": null,
   "metadata": {},
   "outputs": [],
   "source": [
    "import heapq\n",
    "\n",
    "def solution(scoville, K):\n",
    "    n = 0\n",
    "    heapq.heapify(scoville)\n",
    "    while True:\n",
    "        if len(scoville) == 1 and scoville[0] < K:\n",
    "            return -1\n",
    "        mini = heapq.heappop(scoville)\n",
    "        # 가장 덜 매운게 스코빌 지수 K이상 섞은 횟수 반환\n",
    "        if mini >= K:\n",
    "            return n\n",
    "        second = heapq.heappop(scoville)\n",
    "        heapq.heappush(scoville, mini + second * 2)\n",
    "        # 섞은 횟수\n",
    "        n += 1\n",
    "        "
   ]
  }
 ],
 "metadata": {
  "kernelspec": {
   "display_name": "Python 3",
   "language": "python",
   "name": "python3"
  },
  "language_info": {
   "codemirror_mode": {
    "name": "ipython",
    "version": 3
   },
   "file_extension": ".py",
   "mimetype": "text/x-python",
   "name": "python",
   "nbconvert_exporter": "python",
   "pygments_lexer": "ipython3",
   "version": "3.12.3"
  }
 },
 "nbformat": 4,
 "nbformat_minor": 2
}
