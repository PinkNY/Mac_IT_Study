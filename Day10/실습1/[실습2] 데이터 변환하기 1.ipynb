{
 "cells": [
  {
   "cell_type": "markdown",
   "id": "6c63f963",
   "metadata": {},
   "source": [
    "# [실습2] 데이터 변환하기 1\n",
    "\n",
    "## 데이터 불러오기\n",
    "\n",
    "실습에 사용할 데이터를 불러오겠습니다."
   ]
  },
  {
   "cell_type": "code",
   "execution_count": 1,
   "id": "JbP7t257_Jl5",
   "metadata": {
    "id": "JbP7t257_Jl5"
   },
   "outputs": [
    {
     "data": {
      "text/html": [
       "<div>\n",
       "<style scoped>\n",
       "    .dataframe tbody tr th:only-of-type {\n",
       "        vertical-align: middle;\n",
       "    }\n",
       "\n",
       "    .dataframe tbody tr th {\n",
       "        vertical-align: top;\n",
       "    }\n",
       "\n",
       "    .dataframe thead th {\n",
       "        text-align: right;\n",
       "    }\n",
       "</style>\n",
       "<table border=\"1\" class=\"dataframe\">\n",
       "  <thead>\n",
       "    <tr style=\"text-align: right;\">\n",
       "      <th></th>\n",
       "      <th>날짜</th>\n",
       "      <th>공휴일</th>\n",
       "      <th>날씨</th>\n",
       "      <th>유료합계</th>\n",
       "      <th>어른</th>\n",
       "      <th>청소년</th>\n",
       "      <th>어린이</th>\n",
       "      <th>외국인</th>\n",
       "      <th>단체</th>\n",
       "      <th>무료합계</th>\n",
       "      <th>총계</th>\n",
       "    </tr>\n",
       "  </thead>\n",
       "  <tbody>\n",
       "    <tr>\n",
       "      <th>0</th>\n",
       "      <td>2016-01-01</td>\n",
       "      <td>O</td>\n",
       "      <td>구름 조금</td>\n",
       "      <td>3,359</td>\n",
       "      <td>2,799</td>\n",
       "      <td>141</td>\n",
       "      <td>419</td>\n",
       "      <td>47</td>\n",
       "      <td>0</td>\n",
       "      <td>1,023</td>\n",
       "      <td>4,382</td>\n",
       "    </tr>\n",
       "    <tr>\n",
       "      <th>1</th>\n",
       "      <td>2016-01-02</td>\n",
       "      <td>O</td>\n",
       "      <td>구름 많음</td>\n",
       "      <td>5,173</td>\n",
       "      <td>4,370</td>\n",
       "      <td>203</td>\n",
       "      <td>600</td>\n",
       "      <td>100</td>\n",
       "      <td>111</td>\n",
       "      <td>2,092</td>\n",
       "      <td>7,265</td>\n",
       "    </tr>\n",
       "    <tr>\n",
       "      <th>2</th>\n",
       "      <td>2016-01-03</td>\n",
       "      <td>O</td>\n",
       "      <td>구름 많음</td>\n",
       "      <td>3,008</td>\n",
       "      <td>2,571</td>\n",
       "      <td>128</td>\n",
       "      <td>309</td>\n",
       "      <td>91</td>\n",
       "      <td>0</td>\n",
       "      <td>1,549</td>\n",
       "      <td>4,557</td>\n",
       "    </tr>\n",
       "    <tr>\n",
       "      <th>3</th>\n",
       "      <td>2016-01-04</td>\n",
       "      <td>X</td>\n",
       "      <td>구름 많음</td>\n",
       "      <td>890</td>\n",
       "      <td>602</td>\n",
       "      <td>NaN</td>\n",
       "      <td>235</td>\n",
       "      <td>51</td>\n",
       "      <td>223</td>\n",
       "      <td>800</td>\n",
       "      <td>1,690</td>\n",
       "    </tr>\n",
       "    <tr>\n",
       "      <th>4</th>\n",
       "      <td>2016-01-05</td>\n",
       "      <td>X</td>\n",
       "      <td>구름 많음</td>\n",
       "      <td>416</td>\n",
       "      <td>319</td>\n",
       "      <td>35</td>\n",
       "      <td>62</td>\n",
       "      <td>43</td>\n",
       "      <td>47</td>\n",
       "      <td>840</td>\n",
       "      <td>1,256</td>\n",
       "    </tr>\n",
       "  </tbody>\n",
       "</table>\n",
       "</div>"
      ],
      "text/plain": [
       "           날짜 공휴일     날씨   유료합계     어른  청소년  어린이  외국인   단체   무료합계     총계\n",
       "0  2016-01-01   O  구름 조금  3,359  2,799  141  419   47    0  1,023  4,382\n",
       "1  2016-01-02   O  구름 많음  5,173  4,370  203  600  100  111  2,092  7,265\n",
       "2  2016-01-03   O  구름 많음  3,008  2,571  128  309   91    0  1,549  4,557\n",
       "3  2016-01-04   X  구름 많음    890    602  NaN  235   51  223    800  1,690\n",
       "4  2016-01-05   X  구름 많음    416    319   35   62   43   47    840  1,256"
      ]
     },
     "execution_count": 1,
     "metadata": {},
     "output_type": "execute_result"
    }
   ],
   "source": [
    "import pandas as pd\n",
    "import numpy as np\n",
    "\n",
    "#파일불러오기\n",
    "df=pd.read_csv('./data/seoul_park.csv')\n",
    "df.head()"
   ]
  },
  {
   "cell_type": "markdown",
   "id": "19888f47",
   "metadata": {},
   "source": [
    "데이터를 다시 살펴보겠습니다."
   ]
  },
  {
   "cell_type": "code",
   "execution_count": null,
   "id": "e2ba0b58",
   "metadata": {},
   "outputs": [],
   "source": [
    "df"
   ]
  },
  {
   "cell_type": "markdown",
   "id": "75d5b02f",
   "metadata": {},
   "source": [
    "데이터의 숫자들에는 천 단위로 콤마(,)가 찍혀있습니다. 또한 데이터의 \"단체\" 컬럼의 윗부분과 아래부분을 보면 윗쪽의 데이터에는 0명이 **0** 으로 적혀있지만, 아래쪽에는 **-** 으로 표기되어있습니다. 이는 년도가 지나면서 기록 방식이 바뀌면서 생긴 문제입니다."
   ]
  },
  {
   "cell_type": "code",
   "execution_count": null,
   "id": "1c1fe42b",
   "metadata": {
    "scrolled": true
   },
   "outputs": [],
   "source": [
    "df.info()"
   ]
  },
  {
   "cell_type": "markdown",
   "id": "13fa50f3",
   "metadata": {},
   "source": [
    "`info()`를 사용해 데이터의 타입을 확인해보면 모든 데이터가 수가 아닌 텍스트(Object) 타입으로 저장되어 있습니다. 이는 즉 데이터에 있는 3,359는 숫자 3359가 아닌 텍스트 \"3,359\"가 저장되어있는 상태입니다. 이 상태로는 숫자의 연산, 나아가 평균값과 같은 통계량을 측정할 수 없습니다. 따라서 우리는 이 텍스트(Object)들을 모두 **정수형(int)** 으로 바꾸어야 합니다.\n",
    "\n",
    "정수형으로 바꾸기 위해선 텍스트에서 숫자만을 남기고 모두 제거해야 합니다. 이를 위해 숫자로 바꾸어야 하는 컬럼들에서 `str.replace()`를 활용하여 -를 0으로 바꾸고 콤마를 제거합니다."
   ]
  },
  {
   "cell_type": "code",
   "execution_count": null,
   "id": "780b0765",
   "metadata": {},
   "outputs": [],
   "source": [
    "# 쉽게 데이터 바꾸기\n",
    "columns=['유료합계', '어른', '청소년', '어린이', '외국인', '단체', '무료합계', '총계']\n",
    "for i in columns:\n",
    "    df[i]=df[i].str.replace('-','0')\n",
    "    df[i]=df[i].str.replace(',','')"
   ]
  },
  {
   "cell_type": "code",
   "execution_count": null,
   "id": "edc34417",
   "metadata": {},
   "outputs": [],
   "source": [
    "df.head()"
   ]
  },
  {
   "cell_type": "markdown",
   "id": "68a3fda0",
   "metadata": {},
   "source": [
    "데이터의 숫자들이 깔끔하게 정리된 것을 확인할 수 있습니다."
   ]
  },
  {
   "cell_type": "markdown",
   "id": "340f0f90",
   "metadata": {},
   "source": [
    "## 데이터 타입 변환: astype()"
   ]
  },
  {
   "cell_type": "code",
   "execution_count": null,
   "id": "62604cbc",
   "metadata": {},
   "outputs": [],
   "source": [
    "df.info()"
   ]
  },
  {
   "cell_type": "markdown",
   "id": "256bee3c",
   "metadata": {},
   "source": [
    "데이터의 숫자들이 깔끔하게 정리되기는 했지만, `info`를 활용하여 살펴보면 여전히 데이터 타입은 텍스트(Object)인 것을 알 수 있습니다. 통계적인 분석을 위해 해당 데이터들을 정수(int)형태로 바꿔주어야 합니다.\n",
    "\n",
    "`astype()`을 사용하면 원하는 타입으로 변환할 수 있습니다. `astype`메서드를 활용해 \"어른\" 컬럼의 데이터를 정수 형태로 변환하는 코드는 다음과 같습니다."
   ]
  },
  {
   "cell_type": "code",
   "execution_count": null,
   "id": "zt76Fv9J_4cs",
   "metadata": {
    "id": "zt76Fv9J_4cs"
   },
   "outputs": [],
   "source": [
    "df[\"어른\"].astype(int)"
   ]
  },
  {
   "cell_type": "markdown",
   "id": "99f65dfe",
   "metadata": {},
   "source": [
    "이제 \"어른\" 컬럼의 형태가 제대로 변환되었는지 확인해보겠습니다."
   ]
  },
  {
   "cell_type": "code",
   "execution_count": null,
   "id": "OAzVwNK2_6v4",
   "metadata": {
    "id": "OAzVwNK2_6v4"
   },
   "outputs": [],
   "source": [
    "df.info()"
   ]
  },
  {
   "cell_type": "markdown",
   "id": "bc7c0e33",
   "metadata": {},
   "source": [
    "`df`의 어른 컬럼의 데이터타입은 object로, `astype()`을 사용했지만 바뀌지 않은 것을 확인할 수 있습니다. 어떻게 된 일일까요.\n",
    "\n",
    "`astype()`을 비롯해 데이터프레임에 뭔가 변형을 가하거나 작업을 하는 메서드들은 데이터프레임 자체를 변환하지 않고, 변환된 새로운 데이터프레임을 반환합니다. \n",
    "\n",
    "따라서 `df[\"어른\"].astype(int)`이라는 코드는 `df`의 \"어른\" 컬럼을 정수형으로 변환하기는 하지만, 그냥 정수형으로 바뀐 \"어른\" 컬럼을 시리즈 형태로 나타낼 뿐 **`df`의 \"어른\" 컬럼 그 자체가 바뀌는 것이 아닙니다**. \n",
    "\n",
    "`df`의 \"어른\" 컬럼을 바꾸고 싶다면 `astype()`을 활용해 변환하여 생성한 \"어른\" 컬럼 시리즈를 `df`의 \"어른\" 컬럼에 덮어씌워주는 작업이 필요합니다. 이는 다음과 같이 수행할 수 있습니다."
   ]
  },
  {
   "cell_type": "code",
   "execution_count": null,
   "id": "ebc49d16",
   "metadata": {},
   "outputs": [],
   "source": [
    "df[\"어른\"]=df[\"어른\"].astype(int)\n",
    "\n",
    "df.info()"
   ]
  },
  {
   "cell_type": "markdown",
   "id": "0a8828c4",
   "metadata": {},
   "source": [
    "덮어씌워주는 과정을 통해 어른 컬럼의 데이터타입이 정수형(int)으로 바뀐 것을 확인할 수 있습니다. 이런 식으로 원본의 데이터프레임을 가공하기 위해선 덮어씌워주는 작업이 필요하다는 사실과 해당 코드를 익혀두시면 앞으로 강의의 코드를 이해하시기 한결 수월할 것입니다.\n",
    "\n",
    "## 데이터 타입 변환: to_numeric()\n",
    "\n",
    "`to_numeric()`은 `astype()`과 같이 데이터의 형태를 변환하지만 원하는 타입을 지정할 수 있는 `astype()`과 달리 숫자로만 변환한다는 차이점이 존재합니다. 특히나 데이터분석에서는 데이터를 숫자로 변환할 일이 많기 때문에 유용하게 사용할 수 있습니다."
   ]
  },
  {
   "cell_type": "code",
   "execution_count": null,
   "id": "4NJ2-xVZClSO",
   "metadata": {
    "id": "4NJ2-xVZClSO"
   },
   "outputs": [],
   "source": [
    "df[\"유료합계\"] = pd.to_numeric(df[\"유료합계\"])\n",
    "\n",
    "df.info()"
   ]
  },
  {
   "cell_type": "markdown",
   "id": "79bef0e1",
   "metadata": {},
   "source": [
    "유료합계 컬럼이 정수형(int)으로 바뀐 것을 확인할 수 있습니다.\n",
    "\n",
    "\n",
    "### [TODO] `df`의 \"외국인\" 컬럼의 자료형을 숫자형으로 변환해 변수 `foreigner`에 저장하세요.\n",
    "* `astype()` 또는 `to_numeric()`을 활용하세요."
   ]
  },
  {
   "cell_type": "code",
   "execution_count": null,
   "id": "4782c8e3",
   "metadata": {},
   "outputs": [],
   "source": [
    "foreigner=df[\"외국인\"].astype(int)\n",
    "#foreigner=pd.to_numeric(df[\"외국인\"])\n",
    "print(foreigner.info()) # 주석을 해제하고 실행해 올바르게 형변환이 되어 저장됐는지 확인하세요."
   ]
  },
  {
   "cell_type": "markdown",
   "id": "388ee453",
   "metadata": {},
   "source": [
    "이제 for문을 사용해 입장객 수에 관련된 컬럼들을 모두 숫자형으로 바꿔보도록 하겠습니다."
   ]
  },
  {
   "cell_type": "code",
   "execution_count": null,
   "id": "c9d7fb39",
   "metadata": {},
   "outputs": [],
   "source": [
    "columns=[\"유료합계\", \"어른\", \"청소년\", \"어린이\", \"단체\", \"무료합계\", \"총계\"]\n",
    "for i in columns:\n",
    "    df[i]=pd.to_numeric(df[i])\n",
    "    \n",
    "df.info()"
   ]
  },
  {
   "cell_type": "markdown",
   "id": "564fcef5",
   "metadata": {},
   "source": [
    "입장객 수에 관련된 데이터가 모두 숫자형태로 바뀐 것을 확인할 수 있습니다. 이제 이 입장객 수를 활용해 평균, 최대값 등을 계산할 수 있습니다.\n",
    "\n",
    "## 데이터 타입 변환: to_datetime()\n",
    "\n",
    "날짜 컬럼에는 데이터가 수집된 날짜가 기록되어있습니다. 하지만 위의 정보를 보면 알 수 있다시피 날짜는 텍스트로 저장되어있습니다. 다시 말해 날짜 컬럼의 \"2016-01-01\"는 텍스트일 뿐 컴퓨터가 이것을 날짜로 인식할 수 없습니다. 이 날짜를 보다 효과적으로 활용하기 위해 `to_datetime()`을 활용해 날짜컬럼 전체를 `datetime`형식으로 변환해줍니다."
   ]
  },
  {
   "cell_type": "code",
   "execution_count": null,
   "id": "7762d3e8",
   "metadata": {
    "id": "7762d3e8"
   },
   "outputs": [],
   "source": [
    "df[\"날짜\"]= pd.to_datetime(df[\"날짜\"])\n",
    "df.info()"
   ]
  },
  {
   "cell_type": "markdown",
   "id": "1299e56f",
   "metadata": {},
   "source": [
    "이번엔 날짜 데이터를 사용해보겠습니다. 데이터프레임에서 `datetime` 형태의 데이터에는 연, 월, 일 정보가 담겨있어 이를 활용하면 날짜정보를 비롯해 요일과 같은 새로운 정보를 생성할 수 있습니다. \n",
    "\n",
    "이를 위해 `dt` 속성을 사용하여 `datetime` 형태의 데이터에서 특정 정보들을 추출하고 연, 월, 일, 요일 컬럼을 새롭게 생성해보겠습니다."
   ]
  },
  {
   "cell_type": "code",
   "execution_count": null,
   "id": "c4f5ec84",
   "metadata": {
    "id": "c4f5ec84"
   },
   "outputs": [],
   "source": [
    "df['연']=df['날짜'].dt.year\n",
    "df['월']=df['날짜'].dt.month\n",
    "df['일']=df['날짜'].dt.day\n",
    "df['요일']=df['날짜'].dt.dayofweek"
   ]
  },
  {
   "cell_type": "code",
   "execution_count": null,
   "id": "2ca9c825",
   "metadata": {
    "colab": {
     "base_uri": "https://localhost:8080/",
     "height": 206
    },
    "id": "2ca9c825",
    "outputId": "010f8371-3e5f-4536-c3cb-ecf672ed52f5",
    "scrolled": false
   },
   "outputs": [],
   "source": [
    "df.head()"
   ]
  },
  {
   "cell_type": "markdown",
   "id": "d46f1788",
   "metadata": {},
   "source": [
    "연, 월, 일, 요일 컬럼이 생성되고 해당하는 정보가 저장된 것을 확인할 수 있습니다. 그런데 요일이 글자가 아닌 **숫자**로 기록되어 있는 것을 확인할 수 있습니다. \n",
    "\n",
    "이대로도 데이터 분석을 진행할 수는 있지만, 조금 알아보기 번거롭습니다. 만약 요일에 있는 숫자들을 한글로 바꾸는 것 처럼 데이터에 일괄적으로 변형을 주고 싶다면 어떻게 해야할까요? 이에 대해서는 다음 실습에서 알아보도록 하겠습니다."
   ]
  },
  {
   "cell_type": "markdown",
   "id": "27f11382",
   "metadata": {},
   "source": [
    "## 채점\n",
    "* **[TODO]** 중 수행하지 않은 부분이 없는지 확인하세요.\n",
    "* 채점을 위해 아래 코드를 실행한 뒤 우측 상단의 제출 버튼을 눌러주세요.\n",
    "* 코드 수정시 정상적인 채점이 이루어지지 않습니다."
   ]
  },
  {
   "cell_type": "code",
   "execution_count": null,
   "id": "9641426e",
   "metadata": {},
   "outputs": [],
   "source": [
    "import os\n",
    "import json\n",
    "\n",
    "foreigner.to_json(\"result.json\")"
   ]
  }
 ],
 "metadata": {
  "colab": {
   "provenance": [],
   "toc_visible": true
  },
  "kernelspec": {
   "display_name": "Python 3 (ipykernel)",
   "language": "python",
   "name": "python3"
  },
  "language_info": {
   "codemirror_mode": {
    "name": "ipython",
    "version": 3
   },
   "file_extension": ".py",
   "mimetype": "text/x-python",
   "name": "python",
   "nbconvert_exporter": "python",
   "pygments_lexer": "ipython3",
   "version": "3.12.3"
  }
 },
 "nbformat": 4,
 "nbformat_minor": 5
}
