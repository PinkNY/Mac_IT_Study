{
 "cells": [
  {
   "cell_type": "markdown",
   "metadata": {},
   "source": [
    "## 재귀 함수\n",
    "\n",
    "함수가 자기 자신을 호출하는 것을 의미합니다.\n",
    "\n",
    "### 재귀 함수의 기본 구조\n",
    "\n",
    "재귀 함수는 두 가지 주요 부분으로 구성됩니다:\n",
    "\n",
    "1. **기본 조건 (Base Case)**: 재귀 호출을 멈추는 조건입니다. 이 조건이 충족되면 함수는 더 이상 자신을 호출하지 않고 종료됩니다.\n",
    "2. **재귀 조건 (Recursive Case)**: 함수가 자기 자신을 호출하는 부분입니다. 이 부분이 기본 조건을 향해 문제를 축소시킵니다.\n",
    "\n",
    "### 예제: 팩토리얼 함수\n",
    "\n",
    "팩토리얼 함수는 양의 정수 `n`에 대해 1부터 `n`까지의 정수를 모두 곱한 결과를 반환하는 함수입니다. 팩토리얼을 재귀적으로 정의하면 다음과 같습니다:\n",
    "\n",
    "- `0! = 1` (기본 조건)\n",
    "- `n! = n * (n-1)!` (재귀 조건)"
   ]
  },
  {
   "cell_type": "code",
   "execution_count": null,
   "metadata": {},
   "outputs": [],
   "source": [
    "def factorial(n):\n",
    "    if n == 0:  # 기본 조건\n",
    "        return 1\n",
    "    else:\n",
    "        return n * factorial(n - 1)  # 재귀 조건\n",
    "\n",
    "print(factorial(5))  # 출력: 120\n"
   ]
  },
  {
   "cell_type": "markdown",
   "metadata": {},
   "source": [
    "### 예제: 피보나치 수열\n",
    "\n",
    "피보나치 수열은 각 항이 앞의 두 항의 합인 수열입니다. 첫 번째 항은 0, 두 번째 항은 1입니다. 피보나치 수열을 재귀적으로 정의하면 다음과 같습니다:\n",
    "\n",
    "- `F(0) = 0` (기본 조건)\n",
    "- `F(1) = 1` (기본 조건)\n",
    "- `F(n) = F(n-1) + F(n-2)` (재귀 조건)\n",
    "\n",
    "이를 파이썬으로 구현하면 다음과 같습니다:"
   ]
  },
  {
   "cell_type": "code",
   "execution_count": null,
   "metadata": {},
   "outputs": [],
   "source": [
    "def fibonacci(n):\n",
    "    if n == 0:  # 기본 조건\n",
    "        return 0\n",
    "    elif n == 1:  # 기본 조건\n",
    "        return 1\n",
    "    else:\n",
    "        return fibonacci(n - 1) + fibonacci(n - 2)  # 재귀 조건\n",
    "\n",
    "print(fibonacci(6))  # 출력: 8\n"
   ]
  },
  {
   "cell_type": "markdown",
   "metadata": {},
   "source": [
    "### 재귀 함수의 중요 개념\n",
    "\n",
    "1. **기본 조건**: 반드시 있어야 하며, 없으면 함수가 무한히 호출되어 스택 오버플로(Stack Overflow)가 발생합니다.\n",
    "2. **재귀 조건**: 문제를 기본 조건으로 점진적으로 축소시키는 부분입니다.\n",
    "\n",
    "### 장점과 단점\n",
    "\n",
    "### 장점\n",
    "\n",
    "- **단순성**: 문제를 단순하게 표현할 수 있습니다. 복잡한 문제를 재귀적으로 정의하여 쉽게 이해할 수 있습니다.\n",
    "- **분할 정복**: 문제를 작은 부분 문제로 나누어 해결하는 데 유용합니다. 많은 알고리즘이 재귀적으로 구현됩니다.\n",
    "\n",
    "### 단점\n",
    "\n",
    "- **효율성**: 많은 경우 재귀 호출은 함수 호출 스택을 많이 사용하여 메모리 효율이 떨어질 수 있습니다.\n",
    "- **오버헤드**: 재귀 호출 시마다 함수 호출에 따른 오버헤드가 발생합니다.\n",
    "- **스택 오버플로**: 너무 깊은 재귀 호출은 스택 오버플로를 초래할 수 있습니다."
   ]
  },
  {
   "cell_type": "markdown",
   "metadata": {},
   "source": [
    "### 재귀를 반복문으로 변환\n",
    "\n",
    "재귀 함수는 때때로 반복문으로 변환할 수 있습니다. 예를 들어, 위의 팩토리얼 함수는 다음과 같이 반복문을 사용하여 구현할 수 있습니다:"
   ]
  },
  {
   "cell_type": "code",
   "execution_count": null,
   "metadata": {},
   "outputs": [],
   "source": [
    "def factorial_iterative(n):\n",
    "    result = 1\n",
    "    for i in range(1, n + 1):\n",
    "        result *= i\n",
    "    return result\n",
    "\n",
    "print(factorial_iterative(5))  # 출력: 120\n"
   ]
  },
  {
   "cell_type": "markdown",
   "metadata": {},
   "source": [
    "피보나치 수열도 다음과 같이 반복문으로 구현할 수 있습니다:"
   ]
  },
  {
   "cell_type": "code",
   "execution_count": null,
   "metadata": {},
   "outputs": [],
   "source": [
    "def fibonacci_iterative(n):\n",
    "    a, b = 0, 1\n",
    "    for _ in range(n):\n",
    "        a, b = b, a + b\n",
    "    return a\n",
    "\n",
    "print(fibonacci_iterative(6))  # 출력: 8\n"
   ]
  },
  {
   "cell_type": "markdown",
   "metadata": {},
   "source": [
    "### 요약\n",
    "\n",
    "- **재귀 함수**는 함수가 자기 자신을 호출하는 함수입니다.\n",
    "- **기본 조건**과 **재귀 조건**을 포함해야 합니다.\n",
    "- **장점**: 단순하게 문제를 표현하고, 분할 정복에 유용합니다.\n",
    "- **단점**: 효율성 문제, 스택 오버플로 위험, 함수 호출 오버헤드.\n",
    "- 재귀 함수는 때때로 **반복문**으로 변환할 수 있습니다."
   ]
  },
  {
   "cell_type": "markdown",
   "metadata": {},
   "source": [
    "## 완전 탐색\n",
    "\n",
    "<aside>\n",
    "💡 완전 탐색(Brute Force)은 가능한 모든 경우를 모두 탐색하여 문제의 해를 찾는 알고리즘 기법입니다.\n",
    "\n",
    "</aside>\n",
    "\n",
    "- 문제의 해를 보장하기 때문에 직관적이며 이해하기 쉽지만, 일반적으로 매우 비효율적\n",
    "- 주로 문제의 입력 크기가 작거나, 최적의 해를 반드시 찾아야 하는 상황에서 사용\n",
    "\n",
    "### 완전 탐색의 특징\n",
    "\n",
    "1. **단순함**: 모든 가능한 경우를 탐색하므로 알고리즘이 매우 단순하고 직관적입니다.\n",
    "2. **보장된 해**: 가능한 모든 경우를 확인하므로, 문제의 해를 반드시 찾을 수 있습니다.\n",
    "3. **비효율성**: 경우의 수가 기하급수적으로 증가할 수 있기 때문에 시간 복잡도가 매우 높아질 수 있습니다.\n",
    "\n",
    "### 완전 탐색의 종류\n",
    "\n",
    "완전 탐색은 여러 방식으로 구현할 수 있으며, 일반적으로 다음과 같은 방법이 사용됩니다:\n",
    "\n",
    "1. **순열 (Permutation)**: 주어진 요소들의 모든 순서를 탐색합니다.\n",
    "2. **조합 (Combination)**: 주어진 요소들 중에서 일부를 선택하는 모든 경우를 탐색합니다.\n",
    "3. **부분 집합 (Subset)**: 주어진 요소들의 모든 부분 집합을 탐색합니다.\n",
    "4. **백트래킹 (Backtracking)**: 불필요한 경우의 수를 줄이기 위해 탐색을 중간에 중단하는 방법입니다."
   ]
  },
  {
   "cell_type": "markdown",
   "metadata": {},
   "source": [
    "### 1. 순열 (Permutation)\n",
    "\n",
    "주어진 리스트의 모든 순서를 탐색하는 반복문을 사용한 방법입니다."
   ]
  },
  {
   "cell_type": "code",
   "execution_count": null,
   "metadata": {},
   "outputs": [],
   "source": [
    "# 재귀\n",
    "def permute(data, depth, n, result):\n",
    "    if depth == n:\n",
    "        print(result)\n",
    "        return\n",
    "\n",
    "    for i in range(len(data)):\n",
    "        if data[i] not in result:\n",
    "            result.append(data[i])\n",
    "            permute(data, depth + 1, n, result)\n",
    "            result.pop()\n",
    "\n",
    "data = [1, 2, 3]\n",
    "permute(data, 0, len(data), [])"
   ]
  },
  {
   "cell_type": "code",
   "execution_count": null,
   "metadata": {},
   "outputs": [],
   "source": [
    "# 스택\n",
    "def permute(data):\n",
    "    result = []\n",
    "    stack = [([], data)]\n",
    "\n",
    "    while stack:\n",
    "        perm, items = stack.pop()\n",
    "        if not items:\n",
    "            result.append(perm)\n",
    "        else:\n",
    "            for i in range(len(items)):\n",
    "                new_perm = perm + [items[i]]\n",
    "                new_items = items[:i] + items[i+1:]\n",
    "                stack.append((new_perm, new_items))\n",
    "\n",
    "    return result\n",
    "\n",
    "data = [1, 2, 3]\n",
    "permutations = permute(data)\n",
    "for perm in permutations:\n",
    "    print(perm)\n",
    "\n"
   ]
  },
  {
   "cell_type": "markdown",
   "metadata": {},
   "source": [
    "### 2. 조합 (Combination)\n",
    "\n",
    "주어진 리스트에서 특정 개수의 요소를 선택하는 모든 경우를 반복문을 사용하여 탐색하는 방법입니다."
   ]
  },
  {
   "cell_type": "code",
   "execution_count": null,
   "metadata": {},
   "outputs": [],
   "source": [
    "# 재귀\n",
    "def combine(data, start, n, k, result):\n",
    "    if len(result) == k:\n",
    "        print(result)\n",
    "        return\n",
    "\n",
    "    for i in range(start, n):\n",
    "        result.append(data[i])\n",
    "        combine(data, i + 1, n, k, result)\n",
    "        result.pop()\n",
    "\n",
    "data = [1, 2, 3]\n",
    "k = 2  # 조합의 크기\n",
    "combine(data, 0, len(data), k, [])"
   ]
  },
  {
   "cell_type": "code",
   "execution_count": null,
   "metadata": {},
   "outputs": [],
   "source": [
    "# 스택\n",
    "def combine(data, k):\n",
    "    result = []\n",
    "    stack = [(0, [])]\n",
    "\n",
    "    while stack:\n",
    "        start, combination = stack.pop()\n",
    "        if len(combination) == k:\n",
    "            result.append(combination)\n",
    "        else:\n",
    "            for i in range(start, len(data)):\n",
    "                new_combination = combination + [data[i]]\n",
    "                stack.append((i + 1, new_combination))\n",
    "\n",
    "    return result\n",
    "\n",
    "data = [1, 2, 3]\n",
    "k = 2\n",
    "combinations = combine(data, k)\n",
    "for comb in combinations:\n",
    "    print(comb)\n",
    "\n"
   ]
  },
  {
   "cell_type": "markdown",
   "metadata": {},
   "source": [
    "### 3. 부분 집합 (Subset)\n",
    "\n",
    "주어진 리스트의 모든 부분 집합을 반복문을 사용하여 탐색하는 방법입니다."
   ]
  },
  {
   "cell_type": "code",
   "execution_count": null,
   "metadata": {},
   "outputs": [],
   "source": [
    "# 재귀\n",
    "def subset(data, index, result):\n",
    "    if index == len(data):\n",
    "        print(result)\n",
    "        return\n",
    "\n",
    "    subset(data, index + 1, result)\n",
    "    result.append(data[index])\n",
    "    subset(data, index + 1, result)\n",
    "    result.pop()\n",
    "\n",
    "data = [1, 2, 3]\n",
    "subset(data, 0, [])"
   ]
  },
  {
   "cell_type": "code",
   "execution_count": null,
   "metadata": {},
   "outputs": [],
   "source": [
    "# 스택\n",
    "def subset(data):\n",
    "    result = [[]]\n",
    "\n",
    "    for item in data:\n",
    "        new_subsets = []\n",
    "        for subset in result:\n",
    "            new_subset = subset + [item]\n",
    "            new_subsets.append(new_subset)\n",
    "        result.extend(new_subsets)\n",
    "\n",
    "    return result\n",
    "\n",
    "data = [1, 2, 3]\n",
    "subsets = subset(data)\n",
    "for s in subsets:\n",
    "    print(s)\n",
    "\n"
   ]
  },
  {
   "cell_type": "markdown",
   "metadata": {},
   "source": [
    "### 설명\n",
    "\n",
    "- **순열** 예제는 스택을 사용하여 모든 가능한 순서를 생성합니다. 각 단계에서 선택된 요소를 제외한 나머지 요소들로 새로운 상태를 생성하여 스택에 추가합니다.\n",
    "- **조합** 예제는 스택을 사용하여 선택된 요소의 개수가 `k`에 도달할 때까지 새로운 요소를 추가합니다. 시작 인덱스를 이용해 중복을 피합니다.\n",
    "- **부분 집합** 예제는 각 요소를 기존 부분 집합에 추가하여 새로운 부분 집합을 생성합니다. 결과 리스트에 모든 부분 집합을 유지합니다.\n",
    "\n",
    "### 요약\n",
    "\n",
    "- **완전 탐색**은 가능한 모든 경우를 탐색하여 해를 찾는 알고리즘 기법입니다.\n",
    "- 모든 경우를 탐색하기 때문에 해를 보장하지만, 경우의 수가 많아지면 비효율적일 수 있습니다.\n",
    "- 다양한 구현 방법이 있으며, 문제의 특성과 크기에 따라 적절히 선택하여 사용해야 합니다."
   ]
  },
  {
   "cell_type": "markdown",
   "metadata": {},
   "source": [
    "### 문제 1: 배열의 모든 부분 집합 찾기(leetcode_46)\n",
    "\n",
    "주어진 배열의 모든 부분 집합을 출력하세요. 예를 들어, 배열 `[1, 2, 3]`이 주어지면, 가능한 모든 부분 집합을 출력해야 합니다."
   ]
  },
  {
   "cell_type": "markdown",
   "metadata": {},
   "source": [
    "예제 입력\n",
    "- [1, 2, 3]\n"
   ]
  },
  {
   "cell_type": "markdown",
   "metadata": {},
   "source": [
    "예제 출력\n",
    "- []\n",
    "- [1]\n",
    "- [2]\n",
    "- [3]\n",
    "- [1, 2]\n",
    "- [1, 3]\n",
    "- [2, 3]\n",
    "- [1, 2, 3]\n"
   ]
  },
  {
   "cell_type": "code",
   "execution_count": 1,
   "metadata": {},
   "outputs": [
    {
     "name": "stdout",
     "output_type": "stream",
     "text": [
      "[]\n",
      "[1]\n",
      "[2]\n",
      "[1, 2]\n",
      "[3]\n",
      "[1, 3]\n",
      "[2, 3]\n",
      "[1, 2, 3]\n"
     ]
    }
   ],
   "source": [
    "def find_subsets(arr):\n",
    "    subsets = [[]]\n",
    "    \n",
    "    for num in arr:\n",
    "        subsets += [current + [num] for current in subsets]\n",
    "    return subsets\n",
    "\n",
    "arr = [1, 2, 3]\n",
    "subsets = find_subsets(arr)\n",
    "for subset in subsets:\n",
    "    print(subset)\n",
    "        "
   ]
  },
  {
   "cell_type": "code",
   "execution_count": null,
   "metadata": {},
   "outputs": [],
   "source": [
    "# leetcode_다른사람 답안\n",
    "\n",
    "from typing import List\n",
    "\n",
    "class Solution:\n",
    "    def permute(self, nums: List[int]) -> List[List[int]]:\n",
    "        self.nums = nums\n",
    "        self.perms = []\n",
    "        \n",
    "        self.bt([])\n",
    "        return self.perms\n",
    "    \n",
    "    def bt(self, crnt_set: List[int]):\n",
    "        if len(crnt_set) == len(self.nums):\n",
    "            self.perms.append(crnt_set.copy())\n",
    "            return\n",
    "        \n",
    "        for num in self.nums:\n",
    "            if num in crnt_set:\n",
    "                continue\n",
    "            \n",
    "            crnt_set.append(num)\n",
    "            self.bt(crnt_set)\n",
    "            crnt_set.pop()"
   ]
  },
  {
   "cell_type": "code",
   "execution_count": null,
   "metadata": {},
   "outputs": [],
   "source": [
    "# 강사님 답안\n",
    "\n",
    "class Solution:\n",
    "    def permute(self, nums: List[int]) -> List[List[int]]:\n",
    "        stack = [([], nums)]\n",
    "        result = []\n",
    "\n",
    "        # while len(stack) > 0:\n",
    "        while stack:\n",
    "            perm, items = stack.pop()\n",
    "            if len(items) == 0: # [1,2,3] len(perm)==3\n",
    "                result.append(perm)\n",
    "            # items = [1, 2, 3]\n",
    "            for i in range(len(items)):\n",
    "                # 새로운 순열의 부분집합을 만듬\n",
    "                new_perm = perm + [items[i]]\n",
    "                # 순열의 부분집합을 만들고 남은 원소들\n",
    "                new_items = items[:i] + items[i + 1:]\n",
    "                stack.append((new_perm, new_items))\n",
    "                print(new_perm, new_items)\n",
    "            \n",
    "        return result"
   ]
  },
  {
   "cell_type": "markdown",
   "metadata": {},
   "source": [
    "### 문제 2: 문자열의 모든 순열 찾기\n",
    "\n",
    "주어진 문자열의 모든 순열을 출력하세요. 예를 들어, 문자열 `\"ABC\"`가 주어지면, 가능한 모든 순열을 출력해야 합니다."
   ]
  },
  {
   "cell_type": "markdown",
   "metadata": {},
   "source": [
    "예제 입력\n",
    "- \"ABC\"\n"
   ]
  },
  {
   "cell_type": "markdown",
   "metadata": {},
   "source": [
    "예제 출력\n",
    "- ABC\n",
    "- ACB\n",
    "- BAC\n",
    "- BCA\n",
    "- CAB\n",
    "- CBA\n"
   ]
  },
  {
   "cell_type": "code",
   "execution_count": null,
   "metadata": {},
   "outputs": [],
   "source": [
    "def permute(s):\n",
    "    result = []\n",
    "    stack = [('', s)]\n",
    "\n",
    "    while stack:\n",
    "        perm, chars = stack.pop()\n",
    "        if not chars:\n",
    "            result.append(perm)\n",
    "        else:\n",
    "            for i in range(len(chars)):\n",
    "                stack.append((perm + chars[i], chars[:i] + chars[i+1:]))\n",
    "    return result\n",
    "\n",
    "s = \"ABC\"\n",
    "permutations = permute(s)\n",
    "for perm in permutations:\n",
    "    print(perm)\n"
   ]
  },
  {
   "cell_type": "markdown",
   "metadata": {},
   "source": [
    "### 문제 3: 두 수의 모든 조합 찾기\n",
    "\n",
    "두 리스트에서 하나씩 숫자를 선택하여 만들 수 있는 모든 조합을 출력하세요. 예를 들어, 리스트 `[1, 2]`와 `[3, 4]`가 주어지면, 가능한 모든 조합을 출력해야 합니다."
   ]
  },
  {
   "cell_type": "markdown",
   "metadata": {},
   "source": [
    "예제 입력\n",
    "- [1, 2], [3, 4]"
   ]
  },
  {
   "cell_type": "markdown",
   "metadata": {},
   "source": [
    "예제 출력\n",
    "- (1, 3)\n",
    "- (1, 4)\n",
    "- (2, 3)\n",
    "- (2, 4)\n"
   ]
  },
  {
   "cell_type": "code",
   "execution_count": null,
   "metadata": {},
   "outputs": [],
   "source": [
    "def find_combinations(list1, list2):\n",
    "    combinations = []\n",
    "    for num1 in list1:\n",
    "        for num2 in list2:\n",
    "            combinations.append((num1, num2))\n",
    "    return combinations\n",
    "\n",
    "# 테스트\n",
    "list1 = [1, 2]\n",
    "list2 = [3, 4]\n",
    "combinations = find_combinations(list1, list2)\n",
    "for combo in combinations:\n",
    "    print(combo)\n"
   ]
  }
 ],
 "metadata": {
  "kernelspec": {
   "display_name": "Python 3",
   "language": "python",
   "name": "python3"
  },
  "language_info": {
   "codemirror_mode": {
    "name": "ipython",
    "version": 3
   },
   "file_extension": ".py",
   "mimetype": "text/x-python",
   "name": "python",
   "nbconvert_exporter": "python",
   "pygments_lexer": "ipython3",
   "version": "3.12.3"
  }
 },
 "nbformat": 4,
 "nbformat_minor": 2
}
