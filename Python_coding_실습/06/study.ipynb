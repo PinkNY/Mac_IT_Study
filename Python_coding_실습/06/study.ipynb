{
 "cells": [
  {
   "cell_type": "markdown",
   "metadata": {},
   "source": [
    "## 1주차 복습 문제\n",
    "\n",
    "### 1.\n",
    "\n",
    "다음과 같은 출력을 내기 위해 `describe_person` 함수를 완성하세요. 이 함수는 사람의 이름과 나이를 출력하며, 나이가 제공되지 않을 경우 기본값으로 0을 사용합니다."
   ]
  },
  {
   "cell_type": "code",
   "execution_count": null,
   "metadata": {},
   "outputs": [],
   "source": [
    "def describe_person(name, age=0):\n",
    "    return f\"{name} is {age} years old.\"\n",
    "\n",
    "print(describe_person(\"Alice\", 30))  # 출력: Alice is 30 years old.\n",
    "print(describe_person(\"Bob\"))        # 출력: Bob is 0 years old."
   ]
  },
  {
   "cell_type": "markdown",
   "metadata": {},
   "source": [
    "### 2.\n",
    "\n",
    "다음과 같은 출력을 내기 위해 `divide` 함수를 완성하세요. 이 함수는 두 숫자를 나누며, 두 번째 숫자가 0일 경우 \"Cannot divide by zero\"를 출력합니다."
   ]
  },
  {
   "cell_type": "code",
   "execution_count": null,
   "metadata": {},
   "outputs": [],
   "source": [
    "def divide(a,b):\n",
    "    if b == 0:\n",
    "        return \"Cannot divide by zero\"\n",
    "    else:\n",
    "        return a/b\n",
    "\n",
    "result = divide(10, 2)\n",
    "print(result)  # 출력: 5.0\n",
    "\n",
    "result = divide(10, 0)\n",
    "print(result)  # 출력: Cannot divide by zero"
   ]
  },
  {
   "cell_type": "markdown",
   "metadata": {},
   "source": [
    "### 3.\n",
    "\n",
    "다음과 같은 출력을 내기 위해 `divide` 함수를 완성하세요. 이 함수는 두 숫자를 나누며, 두 번째 숫자가 0일 경우 예외를 처리하여 \"Cannot divide by zero\"를 출력합니다."
   ]
  },
  {
   "cell_type": "code",
   "execution_count": null,
   "metadata": {},
   "outputs": [],
   "source": [
    "def divide(a,b):\n",
    "    try:\n",
    "        return a/b\n",
    "    except ZeroDivisionError:\n",
    "        return \"Cannot divide by zero\"\n",
    "        \n",
    "\n",
    "result = divide(10, 2)\n",
    "print(result)  # 출력: 5.0\n",
    "\n",
    "result = divide(10, 0)\n",
    "print(result)  # 출력: Cannot divide by zero"
   ]
  },
  {
   "cell_type": "markdown",
   "metadata": {},
   "source": [
    "### 4.\n",
    "\n",
    "다음은 `math` 모듈의 `sqrt` 함수에 대한 설명입니다. 설명을 읽고 적절하게 `sqrt` 함수를 사용하여 문제를 해결하세요.\n",
    "\n",
    "**함수 설명:**\n",
    "\n",
    "- `math.sqrt(x)`는 x의 제곱근을 반환합니다.\n",
    "\n",
    "다음과 같은 출력을 내기 위해 `calculate_square_root` 함수를 완성하세요."
   ]
  },
  {
   "cell_type": "code",
   "execution_count": null,
   "metadata": {},
   "outputs": [],
   "source": [
    "import math\n",
    "\n",
    "def calculate_square_root(x):\n",
    "    return math.sqrt(x)\n",
    "    # math.sqrt(x)는 x의 제곱근을 반환합니다.\n",
    "\n",
    "print(calculate_square_root(9))   # 출력: 3.0\n",
    "print(calculate_square_root(16))  # 출력: 4.0"
   ]
  },
  {
   "cell_type": "markdown",
   "metadata": {},
   "source": [
    "### 5.\n",
    "\n",
    "다음은 `datetime` 모듈의 `datetime.now` 함수에 대한 설명입니다. 설명을 읽고 적절하게 `datetime.now` 함수를 사용하여 문제를 해결하세요.\n",
    "\n",
    "**함수 설명:**\n",
    "\n",
    "- `datetime.datetime.now()`는 현재 날짜와 시간을 반환합니다.\n",
    "\n",
    "다음과 같은 출력을 내기 위해 `get_current_datetime` 함수를 완성하세요."
   ]
  },
  {
   "cell_type": "code",
   "execution_count": null,
   "metadata": {},
   "outputs": [],
   "source": [
    "import datetime\n",
    "\n",
    "def get_current_datetime(____):\n",
    "    return datetime.datetime.now()\n",
    "    # datetime.datetime.now()는 현재 날짜와 시간을 반환합니다.\n",
    "\n",
    "print(get_current_datetime()) \n",
    "# 출력: 현재 날짜와 시간이 출력됩니다 (예: 2024-06-03 10:20:30)"
   ]
  },
  {
   "cell_type": "markdown",
   "metadata": {},
   "source": [
    "### 6.\n",
    "\n",
    "다음은 `random` 모듈의 `randint` 함수에 대한 설명입니다. 설명을 읽고 적절하게 `randint` 함수를 사용하여 문제를 해결하세요.\n",
    "\n",
    "**함수 설명:**\n",
    "\n",
    "- `random.randint(a, b)`는 a와 b 사이의 랜덤 정수를 반환합니다 (a와 b를 포함).\n",
    "\n",
    "다음과 같은 출력을 내기 위해 `generate_lotto_numbers` 함수를 완성하세요. 로또 번호는 1부터 45 사이의 중복되지 않는 6개의 숫자여야 합니다."
   ]
  },
  {
   "cell_type": "code",
   "execution_count": null,
   "metadata": {},
   "outputs": [],
   "source": [
    "import random\n",
    "\n",
    "def generate_lotto_numbers():\n",
    "    numbers = set()\n",
    "    # set 집합에 numbers를 대입\n",
    "    while len(numbers) < 6:\n",
    "    # numbers의 길이가 6 미만이라면.\n",
    "        number = random.randint(1, 45)\n",
    "        # 1부터 45 사이의 랜덤한 숫자를 number에 넣는다.\n",
    "        numbers.add(number)\n",
    "        # 랜덤한 값이 추가된 number를 numbers에 추가한다.\n",
    "    return list(numbers)\n",
    "    # numbers의 리스트를 반환한다.\n",
    "    \n",
    "\n",
    "print(generate_lotto_numbers())  # 출력: 1부터 45 사이의 중복되지 않는 6개의 숫자가 리스트로 출력됩니다 (예: [3, 12, 25, 33, 37, 41])\n"
   ]
  },
  {
   "cell_type": "markdown",
   "metadata": {},
   "source": [
    "### 7.\n",
    "\n",
    "다음은 학생들이 클래스를 구현하고, 생성자를 통해 필드를 주입하며, 원하는 메서드를 구현할 수 있는지 평가할 수 있는 문제입니다. 이 문제는 `self` 키워드를 제대로 이해하고 사용하는지를 평가합니다. 또한, 만든 클래스로 여러 개의 객체를 생성하는 것을 출력 결과로 보여줍니다.\n",
    "\n",
    "### 문제: 클래스 구현하기\n",
    "\n",
    "다음은 `Book` 클래스를 구현하기 위한 요구사항입니다. 설명을 읽고 적절하게 클래스를 구현하세요.\n",
    "\n",
    "**요구사항:**\n",
    "\n",
    "- `Book` 클래스는 `title`, `author`, `year`라는 세 개의 필드를 가집니다.\n",
    "- 생성자 `__init__`를 통해 필드 값을 주입합니다.\n",
    "- `description` 메서드를 구현하여 책의 제목, 저자, 출판 연도를 출력합니다.\n",
    "- `is_classic` 메서드를 구현하여 책이 출판된 지 50년 이상 되었는지를 판단합니다. 50년 이상 되었으면 `True`, 아니면 `False`를 반환합니다.\n",
    "\n",
    "다음과 같은 출력을 내기 위해 `Book` 클래스를 완성하세요."
   ]
  },
  {
   "cell_type": "code",
   "execution_count": null,
   "metadata": {},
   "outputs": [],
   "source": [
    "class Book:\n",
    "    def __init__(self, title, author, year):\n",
    "        self.title = title\n",
    "        self.author = author\n",
    "        self.year = year\n",
    "\n",
    "    def description(self):\n",
    "        return f\"{self.title} by {self.author}, published in {self.year}\"\n",
    "\n",
    "    def is_classic(self):\n",
    "        current_year = 2024\n",
    "        return (current_year - self.year) >= 50\n",
    "\n",
    "# 객체 생성 및 사용 예시\n",
    "book1 = Book(\"1984\", \"George Orwell\", 1949)\n",
    "book2 = Book(\"The Great Gatsby\", \"F. Scott Fitzgerald\", 1925)\n",
    "book3 = Book(\"To Kill a Mockingbird\", \"Harper Lee\", 1960)\n",
    "\n",
    "print(book1.description())  # 출력: 1984 by George Orwell, published in 1949\n",
    "print(book2.description())  # 출력: The Great Gatsby by F. Scott Fitzgerald, published in 1925\n",
    "print(book3.description())  # 출력: To Kill a Mockingbird by Harper Lee, published in 1960\n",
    "\n",
    "print(book1.is_classic())  # 출력: True\n",
    "print(book2.is_classic())  # 출력: True\n",
    "print(book3.is_classic())  # 출력: False\n"
   ]
  },
  {
   "cell_type": "markdown",
   "metadata": {},
   "source": [
    "### 8.\n",
    "\n",
    "다음 코드의 시간 복잡도를 분석하고 이유를 설명하세요."
   ]
  },
  {
   "cell_type": "code",
   "execution_count": null,
   "metadata": {},
   "outputs": [],
   "source": [
    "def print_pairs(arr):\n",
    "    for i in range(len(arr)):\n",
    "        for j in range(len(arr)):\n",
    "            print(arr[i], arr[j])\n",
    "\n",
    "# 예시\n",
    "arr = [1, 2, 3]"
   ]
  },
  {
   "cell_type": "markdown",
   "metadata": {},
   "source": [
    "**질문:**\n",
    "\n",
    "1. 이 코드의 시간 복잡도는 무엇이며, 그 이유는 무엇인가요?\n",
    "2. 이 코드가 입력 배열 `arr`의 길이가 두 배로 증가할 때, 실행 시간은 어떻게 변하나요?"
   ]
  },
  {
   "cell_type": "markdown",
   "metadata": {},
   "source": [
    "### 9.\n",
    "\n",
    "다음 코드의 시간 복잡도를 분석하고 이유를 설명하세요."
   ]
  },
  {
   "cell_type": "code",
   "execution_count": null,
   "metadata": {},
   "outputs": [],
   "source": [
    "def find_target_in_lists(lists, target):\n",
    "    for lst in lists:\n",
    "        if target in lst:\n",
    "            print(f\"Found {target} in list {lst}\")\n",
    "            return\n",
    "    print(f\"{target} not found in any list\")\n",
    "\n",
    "# 예시\n",
    "lists = [[1, 2, 3], [4, 5, 6], [7, 8, 9]]\n",
    "find_target_in_lists(lists, 5)\n"
   ]
  },
  {
   "cell_type": "markdown",
   "metadata": {},
   "source": [
    "**질문:**\n",
    "\n",
    "1. `find_target_in_lists` 함수의 시간 복잡도는 무엇이며, 그 이유는 무엇인가요?\n",
    "2. `if target in lst:` 구문의 시간 복잡도와 이를 호출하는 for문이 결합되면 전체 시간 복잡도는 어떻게 계산되나요?"
   ]
  },
  {
   "cell_type": "markdown",
   "metadata": {},
   "source": [
    "### 10.\n",
    "\n",
    "다음 코드의 시간 복잡도를 분석하고 이유를 설명하세요."
   ]
  },
  {
   "cell_type": "code",
   "execution_count": null,
   "metadata": {},
   "outputs": [],
   "source": [
    "def get_first_element(arr):\n",
    "    return arr[0]\n",
    "\n",
    "# 예시\n",
    "arr = [1, 2, 3, 4, 5]\n",
    "print(get_first_element(arr))"
   ]
  },
  {
   "cell_type": "markdown",
   "metadata": {},
   "source": [
    "**질문:**\n",
    "\n",
    "1. 이 코드의 시간 복잡도는 무엇이며, 그 이유는 무엇인가요?\n",
    "2. 이 함수가 입력 배열 `arr`의 길이에 관계없이 일정한 시간을 유지하는 이유는 무엇인가요?"
   ]
  },
  {
   "cell_type": "markdown",
   "metadata": {},
   "source": [
    "### 11.\n",
    "\n",
    "다음 코드에서 `list_operations` 함수를 완성하세요."
   ]
  },
  {
   "cell_type": "code",
   "execution_count": null,
   "metadata": {},
   "outputs": [],
   "source": [
    "def list_operations(my_list):\n",
    "    \n",
    "    sum_of_elements = sum(my_list)\n",
    "    max_element = max(my_list)\n",
    "    min_element = min(my_list)\n",
    "    length_of_list = len(my_list)\n",
    "    return sum_of_elements, max_element, min_element, length_of_list\n",
    "\n",
    "example_list = [1, 2, 3, 4, 5]\n",
    "result = list_operations(example_list)\n",
    "print(result)  # 출력: (15, 5, 1, 5)"
   ]
  },
  {
   "cell_type": "markdown",
   "metadata": {},
   "source": [
    "### 12.\n",
    "\n",
    "다음 코드에서 `list_methods` 함수를 완성하세요."
   ]
  },
  {
   "cell_type": "code",
   "execution_count": null,
   "metadata": {},
   "outputs": [],
   "source": [
    "def list_methods(my_list):\n",
    "    # 1. 3을 리스트의 맨 끝에 추가하세요\n",
    "    my_list.append(3)\n",
    "    # 2. 5를 리스트의 첫 번째 위치에 추가하세요\n",
    "    my_list.insert(0, 5)\n",
    "    # 3. 리스트의 첫 번째 요소를 제거하세요\n",
    "    my_list.pop()\n",
    "    # 4. 리스트를 오름차순으로 정렬하세요\n",
    "    my_list.sort()\n",
    "\n",
    "example_list = [4, 2, 1, 5]\n",
    "list_methods(example_list)\n",
    "print(example_list)  # 출력: [1, 2, 3, 4, 5]\n"
   ]
  },
  {
   "cell_type": "markdown",
   "metadata": {},
   "source": [
    "### 13.\n",
    "\n",
    "다음 코드에서 `add_entry` 함수를 완성하세요."
   ]
  },
  {
   "cell_type": "code",
   "execution_count": null,
   "metadata": {},
   "outputs": [],
   "source": [
    "def add_entry(my_dict, key, value):\n",
    "    my_dict[key] = value\n",
    "\n",
    "original_dict = {'a': 1, 'b': 2}\n",
    "add_entry(original_dict, 'c', 3)\n",
    "print(original_dict)  # 출력: {'a': 1, 'b': 2, 'c': 3}\n",
    "\n",
    "add_entry(original_dict, 'd', 4)\n",
    "print(original_dict)  # 출력: {'a': 1, 'b': 2, 'c': 3, 'd': 4}\n"
   ]
  },
  {
   "cell_type": "markdown",
   "metadata": {},
   "source": [
    "### 14.\n",
    "\n",
    "다음 코드에서 `check_duplicate_keys` 함수를 완성하세요."
   ]
  },
  {
   "cell_type": "code",
   "execution_count": null,
   "metadata": {},
   "outputs": [],
   "source": [
    "def check_duplicate_keys(dict1, dict2):\n",
    "    for key in dict2:\n",
    "        if key in dict1:\n",
    "            print(f\"key {key} is duplicated\")\n",
    "    # dict2의 모든 키를 하나씩 순회 후. 현재 dict2의 키가 dict1에도 존재하는지 확인.\n",
    "\n",
    "dict1 = {'a': 1, 'b': 2}\n",
    "dict2 = {'b': 3, 'c': 4}\n",
    "check_duplicate_keys(dict1, dict2)\n",
    "# 출력:\n",
    "# Key b is duplicated\n",
    "# b 라는 키가 dict1,dict2 모두 있어서 b 가 있다고 출력."
   ]
  },
  {
   "cell_type": "code",
   "execution_count": null,
   "metadata": {},
   "outputs": [],
   "source": [
    "def dict_operations(my_dict):\n",
    "    # 여기에 코드를 작성하세요\n",
    "    keys = list(my_dict.keys())\n",
    "    values = list(my_dict.values())\n",
    "    length_of_dict = len(my_dict)\n",
    "    return keys, values, length_of_dict\n",
    "\n",
    "example_dict = {'a': 1, 'b': 2, 'c': 3}\n",
    "result = dict_operations(example_dict)\n",
    "print(result)  # 출력: (['a', 'b', 'c'], [1, 2, 3], 3)"
   ]
  },
  {
   "cell_type": "markdown",
   "metadata": {},
   "source": [
    "### 15."
   ]
  },
  {
   "cell_type": "code",
   "execution_count": null,
   "metadata": {},
   "outputs": [],
   "source": [
    "def dict_methods(my_dict):\n",
    "    # 1. 'd': 4 항목을 추가하세요\n",
    "    my_dict['d'] = 4\n",
    "    # 2. 'a' 항목을 제거하세요\n",
    "    del my_dict['a']\n",
    "    # 3. 딕셔너리를 키 기준으로 정렬된 리스트로 반환하세요\n",
    "    return sorted(my_dict.items())\n",
    "\n",
    "example_dict = {'b': 2, 'a': 1, 'c': 3}\n",
    "sorted_dict = dict_methods(example_dict)\n",
    "print(sorted_dict)  # 출력: [('b', 2), ('c', 3), ('d', 4)]"
   ]
  },
  {
   "cell_type": "markdown",
   "metadata": {},
   "source": [
    "### 16."
   ]
  },
  {
   "cell_type": "code",
   "execution_count": null,
   "metadata": {},
   "outputs": [],
   "source": [
    "def add_element(my_set, element):\n",
    "    # 여기에 코드를 작성하세요\n",
    "    my_set.add(element)\n",
    "\n",
    "original_set = {1, 2, 3}\n",
    "add_element(original_set, 4)\n",
    "print(original_set)  # 출력: {1, 2, 3, 4}\n",
    "\n",
    "add_element(original_set, 5)\n",
    "print(original_set)  # 출력: {1, 2, 3, 4, 5}\n"
   ]
  },
  {
   "cell_type": "markdown",
   "metadata": {},
   "source": [
    "### 17."
   ]
  },
  {
   "cell_type": "code",
   "execution_count": null,
   "metadata": {},
   "outputs": [],
   "source": [
    "def check_duplicates(my_list):\n",
    "    # 여기에 코드를 작성하세요\n",
    "    seen = set()\n",
    "    duplicates = set()\n",
    "    for element in my_list:\n",
    "        if element in seen:\n",
    "            duplicates.add(element)\n",
    "        else:\n",
    "            seen.add(element)\n",
    "    print(f\"Duplicates found: {duplicates}\")\n",
    "\n",
    "duplicate_list = [1, 2, 2, 3, 4, 4, 4, 5]\n",
    "check_duplicates(duplicate_list)\n",
    "# 출력:\n",
    "# Duplicates found: {2, 4}"
   ]
  },
  {
   "cell_type": "markdown",
   "metadata": {},
   "source": [
    "- 아래 집합(set)의 기본 연산과 메서드는 검색을 해서 찾아봅니다."
   ]
  },
  {
   "cell_type": "markdown",
   "metadata": {},
   "source": [
    "## 집합\n",
    "- 집합(set)은 중복되지 않는 요소들의 모음.\n",
    "- 다양한 연산과 메서드를 제공하여 데이터를 효율적으로 처리."
   ]
  },
  {
   "cell_type": "markdown",
   "metadata": {},
   "source": [
    "**집합 생성**\n",
    "- 집합은 중괄호 {}를 사용하거나 set() 함수를 사용하여 생성할 수 있습니다."
   ]
  },
  {
   "cell_type": "code",
   "execution_count": null,
   "metadata": {},
   "outputs": [],
   "source": [
    "# 중괄호를 사용한 생성\n",
    "a = {1, 2, 3, 4, 5}\n",
    "b = {3, 4, 5, 6, 7}\n",
    "\n",
    "# set() 함수를 사용한 생성\n",
    "c = set([1, 2, 3, 4, 5])\n"
   ]
  },
  {
   "cell_type": "markdown",
   "metadata": {},
   "source": [
    "**집합 연산**\n",
    "- 합집합 (Union): 두 집합의 모든 요소를 포함하는 집합"
   ]
  },
  {
   "cell_type": "code",
   "execution_count": null,
   "metadata": {},
   "outputs": [],
   "source": [
    "union_set = a | b\n",
    "union_set = a.union(b)"
   ]
  },
  {
   "cell_type": "markdown",
   "metadata": {},
   "source": [
    "- 교집합 (Intersection): 두 집합에 공통으로 포함된 요소를 포함하는 집합"
   ]
  },
  {
   "cell_type": "code",
   "execution_count": null,
   "metadata": {},
   "outputs": [],
   "source": [
    "intersection_set = a & b\n",
    "intersection_set = a.intersection(b)"
   ]
  },
  {
   "cell_type": "markdown",
   "metadata": {},
   "source": [
    "- 차집합 (Difference): 첫 번째 집합에는 포함되지만 두 번째 집합에는 포함되지 않은 요소들로 이루어진 집합"
   ]
  },
  {
   "cell_type": "code",
   "execution_count": null,
   "metadata": {},
   "outputs": [],
   "source": [
    "difference_set = a - b\n",
    "difference_set = a.difference(b)"
   ]
  },
  {
   "cell_type": "markdown",
   "metadata": {},
   "source": [
    "- 대칭 차집합 (Symmetric Difference): 두 집합 중 하나에만 포함된 요소들로 이루어진 집합"
   ]
  },
  {
   "cell_type": "code",
   "execution_count": null,
   "metadata": {},
   "outputs": [],
   "source": [
    "symmetric_difference_set = a ^ b\n",
    "symmetric_difference_set = a.symmetric_difference(b)"
   ]
  },
  {
   "cell_type": "markdown",
   "metadata": {},
   "source": [
    "\n",
    "**집합 메서드**\n",
    "- 추가 (Add): 집합에 요소를 추가\n",
    "\n",
    "- 제거 (Remove): 집합에서 요소를 제거 (존재하지 않는 요소를 제거할 경우 KeyError 발생)\n",
    "\n",
    "- 제거 (Discard): 집합에서 요소를 제거 (존재하지 않는 요소를 제거할 경우에도 에러 발생하지 않음)\n",
    "\n",
    "- 클리어 (Clear): 집합의 모든 요소를 제거\n",
    "\n",
    "- 복사 (Copy): 집합의 얕은 복사본을 반환\n",
    "\n",
    "- 길이 (Length): 집합의 요소 개수를 반환\n",
    "\n",
    "- 포함 여부 확인 (Membership Test): 특정 요소가 집합에 포함되어 있는지 확인\n",
    "\n",
    "- 부분 집합 확인 (Subset Test): 한 집합이 다른 집합의 부분 집합인지 확인\n",
    "\n",
    "- 진 부분 집합 확인 (Proper Subset Test): 한 집합이 다른 집합의 진 부분 집합인지 확인\n",
    "\n",
    "- 상위 집합 확인 (Superset Test): 한 집합이 다른 집합의 상위 집합인지 확인\n",
    "\n",
    "- 진 상위 집합 확인 (Proper Superset Test): 한 집합이 다른 집합의 진 상위 집합인지 확인\n",
    "\n",
    "- 이러한 연산과 메서드를 사용하여 집합을 효율적으로 관리하고 조작할 수 있습니다."
   ]
  },
  {
   "cell_type": "code",
   "execution_count": null,
   "metadata": {},
   "outputs": [],
   "source": [
    "a.add(6)\n",
    "a.remove(6)\n",
    "a.discard(6)\n",
    "a.clear()\n",
    "a_copy = a.copy()\n",
    "len(a)\n",
    "is_member = 3 in a\n",
    "is_subset = a.issubset(b)\n",
    "is_proper_subset = a < b\n",
    "is_superset = a.issuperset(b)\n",
    "is_proper_superset = a > b"
   ]
  },
  {
   "cell_type": "markdown",
   "metadata": {},
   "source": [
    "### 18."
   ]
  },
  {
   "cell_type": "code",
   "execution_count": null,
   "metadata": {},
   "outputs": [],
   "source": [
    "def set_operations(set1, set2):\n",
    "    # 여기에 코드를 작성하세요\n",
    "    union_set = set1.union(set2)\n",
    "    # union_set = set1 | set2\n",
    "    intersection_set = set1.intersection(set2)\n",
    "    # set1 & set2\n",
    "    difference_set = set1.difference(set2)\n",
    "    # set1 - set2\n",
    "    return union_set, intersection_set, difference_set\n",
    "\n",
    "set1 = {1, 2, 3}\n",
    "set2 = {2, 3, 4}\n",
    "result = set_operations(set1, set2)\n",
    "print(result)  # 출력: ({1, 2, 3, 4}, {2, 3}, {1})"
   ]
  },
  {
   "cell_type": "markdown",
   "metadata": {},
   "source": [
    "### 19."
   ]
  },
  {
   "cell_type": "code",
   "execution_count": null,
   "metadata": {},
   "outputs": [],
   "source": [
    "def set_methods(my_set):\n",
    "    # 1. 5를 집합에 추가하세요\n",
    "    my_set.add(5)\n",
    "    # 2. 3을 집합에서 제거하세요\n",
    "    my_set.dicard(3)\n",
    "    # 3. 집합이 비어있는지 확인하세요\n",
    "    is_empty = len(my_set) == 0\n",
    "    return is_empty\n",
    "\n",
    "example_set = {1, 2, 3, 4}\n",
    "is_empty = set_methods(example_set)\n",
    "print(example_set)  # 출력: {1, 2, 4, 5}\n",
    "print(is_empty)     # 출력: False\n"
   ]
  },
  {
   "cell_type": "markdown",
   "metadata": {},
   "source": [
    "## 그래프\n",
    "\n",
    "1. **정점 (Vertex)와 간선 (Edge)**"
   ]
  },
  {
   "cell_type": "markdown",
   "metadata": {},
   "source": [
    "- **정점**: 그래프에서 데이터 항목을 나타내는 개체. 정점은 노드(node)라고도 불립니다.\n",
    "- **간선**: 정점 간의 관계를 나타내는 선. 간선은 링크(link) 또는 아크(arc)라고도 불립니다."
   ]
  },
  {
   "cell_type": "code",
   "execution_count": null,
   "metadata": {},
   "outputs": [],
   "source": [
    "# 인접 행렬로 그래프 표현\n",
    "graph = [\n",
    "    [0, 1, 0, 1],\n",
    "    [1, 0, 1, 0],\n",
    "    [0, 1, 0, 1],\n",
    "    [1, 0, 1, 0]\n",
    "]"
   ]
  },
  {
   "cell_type": "markdown",
   "metadata": {},
   "source": [
    "2. **그래프의 종류**\n",
    "\n",
    "- **무방향 그래프 (Undirected Graph)**: 간선에 방향이 없는 그래프. 정점 A와 B가 연결되어 있으면 A에서 B로, B에서 A로 이동 가능합니다.\n",
    "- **방향 그래프 (Directed Graph)**: 간선에 방향이 있는 그래프. 정점 A에서 B로 가는 경로가 있을 때, A에서 B로는 갈 수 있지만 B에서 A로는 갈 수 없는 경우가 있을 수 있습니다.\n",
    "- **가중 그래프 (Weighted Graph)**: 간선에 가중치가 있는 그래프. 가중치는 두 정점 간의 거리나 비용을 나타냅니다."
   ]
  },
  {
   "cell_type": "markdown",
   "metadata": {},
   "source": [
    "3. **인접 행렬 (Adjacency Matrix)와 인접 리스트 (Adjacency List)**\n",
    "    - **인접 행렬**: 정점 간의 연결을 2차원 배열로 표현. 정점 i와 j가 연결되어 있으면 `matrix[i][j]`는 1, 그렇지 않으면 0.\n",
    "    - **인접 리스트**: 각 정점에 연결된 정점들의 리스트로 표현. 더 적은 메모리를 사용하며, 큰 그래프에서 유리합니다."
   ]
  },
  {
   "cell_type": "code",
   "execution_count": null,
   "metadata": {},
   "outputs": [],
   "source": [
    "# 인접 행렬을 사용한 그래프 표현\n",
    "# A, B, C, D를 각각 0, 1, 2, 3으로 매핑\n",
    "graph = [\n",
    "    [0, 1, 1, 0],  # A\n",
    "    [1, 0, 0, 1],  # B\n",
    "    [1, 0, 0, 1],  # C\n",
    "    [0, 1, 1, 0]   # D\n",
    "]\n",
    "\n",
    "# 그래프 출력\n",
    "for row in graph:\n",
    "    print(row)"
   ]
  },
  {
   "cell_type": "code",
   "execution_count": null,
   "metadata": {},
   "outputs": [],
   "source": [
    "# 인접 리스트를 사용한 그래프 표현\n",
    "graph = {\n",
    "    'A': ['B', 'C'],\n",
    "    'B': ['A', 'D'],\n",
    "    'C': ['A', 'D'],\n",
    "    'D': ['B', 'C']\n",
    "}\n",
    "\n",
    "# 그래프 출력\n",
    "for vertex in graph:\n",
    "    print(f'{vertex}: {graph[vertex]}')"
   ]
  },
  {
   "cell_type": "code",
   "execution_count": null,
   "metadata": {},
   "outputs": [],
   "source": [
    "def factorial(n):\n",
    "    if n == 0:  # 기본 조건\n",
    "        return 1\n",
    "    else:\n",
    "        return n * factorial(n - 1)  # 재귀 조건\n",
    "\n",
    "print(factorial(5))  # 출력: 120\n"
   ]
  },
  {
   "cell_type": "markdown",
   "metadata": {},
   "source": [
    "### 깊이 우선 탐색 (DFS)\n",
    "\n",
    "DFS는 그래프의 한 정점에서 시작하여 가능한 한 깊게 탐색한 후, 더 이상 갈 곳이 없으면 되돌아오는 방식으로 탐색을 진행합니다. 주로 스택을 사용하거나 재귀 호출을 통해 구현됩니다.\n",
    "\n",
    "### 주요 특징\n",
    "\n",
    "- 깊게 탐색 후, 막히면 백트래킹(되돌아가기)하는 방식.\n",
    "- 모든 정점을 방문할 때까지 반복."
   ]
  },
  {
   "cell_type": "markdown",
   "metadata": {},
   "source": [
    "구현 (비재귀)"
   ]
  },
  {
   "cell_type": "code",
   "execution_count": 18,
   "metadata": {},
   "outputs": [
    {
     "name": "stdout",
     "output_type": "stream",
     "text": [
      "A B D E H I C F G "
     ]
    }
   ],
   "source": [
    "def dfs(graph, start):\n",
    "    visited = set()\n",
    "    stack = [start]\n",
    "\n",
    "    while stack:\n",
    "        vertex = stack.pop()\n",
    "        if vertex not in visited:\n",
    "            print(vertex, end=' ')\n",
    "            visited.add(vertex)\n",
    "            for neighbor in reversed(graph[vertex]):\n",
    "                if neighbor not in visited:\n",
    "                    stack.append(neighbor)\n",
    "\n",
    "graph = {\n",
    "    'A': ['B', 'C'],\n",
    "    'B': ['D', 'E'],\n",
    "    'C': ['F', 'G'],\n",
    "    'D': [],\n",
    "    'E': ['H', 'I'],\n",
    "    'F': [],\n",
    "    'G': [],\n",
    "    'H': [],\n",
    "    'I': []\n",
    "}\n",
    "\n",
    "dfs(graph, 'A')\n",
    "# 출력: A C G F B E I H D\n",
    "\n"
   ]
  },
  {
   "cell_type": "markdown",
   "metadata": {},
   "source": [
    "### 너비 우선 탐색 (BFS)\n",
    "\n",
    "BFS는 그래프의 한 정점에서 시작하여 인접한 모든 정점을 먼저 탐색한 후, 그 다음 단계의 인접 정점을 탐색하는 방식으로 진행됩니다. 주로 큐를 사용하여 구현됩니다.\n",
    "\n",
    "### 주요 특징\n",
    "\n",
    "- 같은 레벨의 정점들을 모두 탐색한 후, 다음 레벨로 이동.\n",
    "- 최단 경로를 찾는 데 유용."
   ]
  },
  {
   "cell_type": "code",
   "execution_count": 19,
   "metadata": {},
   "outputs": [
    {
     "name": "stdout",
     "output_type": "stream",
     "text": [
      "A B C D E F G H I "
     ]
    }
   ],
   "source": [
    "from collections import deque\n",
    "\n",
    "def bfs(graph, start):\n",
    "    visited = set()\n",
    "    queue = deque([start])\n",
    "\n",
    "    while queue:\n",
    "        vertex = queue.popleft()\n",
    "        if vertex not in visited:\n",
    "            print(vertex, end=' ')\n",
    "            visited.add(vertex)\n",
    "            for neighbor in graph[vertex]:\n",
    "                if neighbor not in visited:\n",
    "                    queue.append(neighbor)\n",
    "\n",
    "graph = {\n",
    "    'A': ['B', 'C'],\n",
    "    'B': ['D', 'E'],\n",
    "    'C': ['F', 'G'],\n",
    "    'D': [],\n",
    "    'E': ['H', 'I'],\n",
    "    'F': [],\n",
    "    'G': [],\n",
    "    'H': [],\n",
    "    'I': []\n",
    "}\n",
    "\n",
    "bfs(graph, 'A')\n",
    "# 출력: A B C D E F G H I\n"
   ]
  },
  {
   "cell_type": "markdown",
   "metadata": {},
   "source": [
    "## 깊이 우선 탐색과 너비 우선 탐색의 비교\n",
    "\n",
    "### 차이점\n",
    "\n",
    "1. **탐색 방식**\n",
    "    - DFS: 깊게, 막힐 때까지 탐색한 후 되돌아오기.\n",
    "    - BFS: 넓게, 같은 레벨의 모든 정점을 탐색한 후 다음 레벨로 이동.\n",
    "2. **자료 구조**\n",
    "    - DFS: 스택(비재귀 구현) 또는 재귀 호출(내부적으로 스택 사용).\n",
    "    - BFS: 큐.\n",
    "3. **용도**\n",
    "    - DFS: 그래프의 모든 경로를 탐색하거나, 미로 찾기 등에서 사용.\n",
    "    - BFS: 최단 경로를 찾는 문제에서 유용, 레벨 단위로 탐색.\n",
    "\n",
    "### 요약\n",
    "\n",
    "- **DFS**: 깊이 우선 탐색, 스택을 사용, 모든 경로 탐색에 유리.\n",
    "- **BFS**: 너비 우선 탐색, 큐를 사용, 최단 경로 탐색에 유리.\n",
    "\n",
    "### 팁\n",
    "\n",
    "- DFS가 동작 검증을 하는데 더 쉬워서 자주 사용됨\n",
    "- 종종 어려운 문제들은 DFS가 아닌 BFS로 풀어야 시간 초과가 되지 않는 문제들도 존"
   ]
  },
  {
   "cell_type": "markdown",
   "metadata": {},
   "source": [
    "## 파이썬 알고리즘 인터뷰 구현\n",
    "\n",
    "### DFS, 재귀 함수 - 파이썬 알고리즘 인터뷰 (p.324)"
   ]
  },
  {
   "cell_type": "code",
   "execution_count": 21,
   "metadata": {},
   "outputs": [
    {
     "name": "stdout",
     "output_type": "stream",
     "text": [
      "recursive_dfs(1)=[1, 2, 5, 6, 7, 3, 4]\n"
     ]
    }
   ],
   "source": [
    "graph = {\n",
    "    1: [2, 3, 4],\n",
    "    2: [5],\n",
    "    3: [5],\n",
    "    4: [],\n",
    "    5: [6, 7],\n",
    "    6: [],\n",
    "    7: [3],\n",
    "}\n",
    "\n",
    "def recursive_dfs(v, discovered=[]):\n",
    "    discovered.append(v)\n",
    "    for w in graph[v]:\n",
    "        if w not in discovered:\n",
    "            discovered = recursive_dfs(w, discovered)\n",
    "    return discovered\n",
    "    \n",
    "print(f'{recursive_dfs(1)=}')\n",
    "\n",
    "# recursive_dfs(1)=[1, 2, 5, 6, 7, 3, 4]\n",
    "# recursive(재귀적인)"
   ]
  },
  {
   "cell_type": "code",
   "execution_count": 28,
   "metadata": {},
   "outputs": [
    {
     "name": "stdout",
     "output_type": "stream",
     "text": [
      "recrusive_dfs 진입 : 탐색하는 정점: 1, 여태까지 경로: discovered=[]\n",
      "\n",
      "append 함수 호출 : 여태까지 경로 [1]\n",
      "\n",
      "for문 진입 : 탐색한 정점 1와 연결된 노드들은 [2, 3, 4]이고 연결된 노드들을 하나씩 탐색합니다.\n",
      "\n",
      "if문 진입 : 정점 2는 아직 탐색하지 않았기 때문에 재귀함수를 호출합니다.\n",
      "\n",
      "recrusive_dfs 진입 : 탐색하는 정점: 2, 여태까지 경로: discovered=[1]\n",
      "\n",
      "append 함수 호출 : 여태까지 경로 [1, 2]\n",
      "\n",
      "for문 진입 : 탐색한 정점 2와 연결된 노드들은 [5]이고 연결된 노드들을 하나씩 탐색합니다.\n",
      "\n",
      "if문 진입 : 정점 5는 아직 탐색하지 않았기 때문에 재귀함수를 호출합니다.\n",
      "\n",
      "recrusive_dfs 진입 : 탐색하는 정점: 5, 여태까지 경로: discovered=[1, 2]\n",
      "\n",
      "append 함수 호출 : 여태까지 경로 [1, 2, 5]\n",
      "\n",
      "for문 진입 : 탐색한 정점 5와 연결된 노드들은 [6, 7]이고 연결된 노드들을 하나씩 탐색합니다.\n",
      "\n",
      "if문 진입 : 정점 6는 아직 탐색하지 않았기 때문에 재귀함수를 호출합니다.\n",
      "\n",
      "recrusive_dfs 진입 : 탐색하는 정점: 6, 여태까지 경로: discovered=[1, 2, 5]\n",
      "\n",
      "append 함수 호출 : 여태까지 경로 [1, 2, 5, 6]\n",
      "\n",
      "for문 진입 : 탐색한 정점 6와 연결된 노드들은 []이고 연결된 노드들을 하나씩 탐색합니다.\n",
      "\n",
      "재귀함수 종료 : 정점 6에 대한 재귀함수가 종료되었습니다.\n",
      "\n",
      "if문 진입 : 정점 7는 아직 탐색하지 않았기 때문에 재귀함수를 호출합니다.\n",
      "\n",
      "recrusive_dfs 진입 : 탐색하는 정점: 7, 여태까지 경로: discovered=[1, 2, 5, 6]\n",
      "\n",
      "append 함수 호출 : 여태까지 경로 [1, 2, 5, 6, 7]\n",
      "\n",
      "for문 진입 : 탐색한 정점 7와 연결된 노드들은 [3]이고 연결된 노드들을 하나씩 탐색합니다.\n",
      "\n",
      "if문 진입 : 정점 3는 아직 탐색하지 않았기 때문에 재귀함수를 호출합니다.\n",
      "\n",
      "recrusive_dfs 진입 : 탐색하는 정점: 3, 여태까지 경로: discovered=[1, 2, 5, 6, 7]\n",
      "\n",
      "append 함수 호출 : 여태까지 경로 [1, 2, 5, 6, 7, 3]\n",
      "\n",
      "for문 진입 : 탐색한 정점 3와 연결된 노드들은 [5]이고 연결된 노드들을 하나씩 탐색합니다.\n",
      "\n",
      "재귀함수 종료 : 정점 3에 대한 재귀함수가 종료되었습니다.\n",
      "\n",
      "재귀함수 종료 : 정점 7에 대한 재귀함수가 종료되었습니다.\n",
      "\n",
      "재귀함수 종료 : 정점 5에 대한 재귀함수가 종료되었습니다.\n",
      "\n",
      "재귀함수 종료 : 정점 2에 대한 재귀함수가 종료되었습니다.\n",
      "\n",
      "if문 진입 : 정점 4는 아직 탐색하지 않았기 때문에 재귀함수를 호출합니다.\n",
      "\n",
      "recrusive_dfs 진입 : 탐색하는 정점: 4, 여태까지 경로: discovered=[1, 2, 5, 6, 7, 3]\n",
      "\n",
      "append 함수 호출 : 여태까지 경로 [1, 2, 5, 6, 7, 3, 4]\n",
      "\n",
      "for문 진입 : 탐색한 정점 4와 연결된 노드들은 []이고 연결된 노드들을 하나씩 탐색합니다.\n",
      "\n",
      "재귀함수 종료 : 정점 4에 대한 재귀함수가 종료되었습니다.\n",
      "\n",
      "recursive_dfs(1)=[1, 2, 5, 6, 7, 3, 4]\n"
     ]
    }
   ],
   "source": [
    "graph = {\n",
    "    1: [2, 3, 4],   # 부모 노드\n",
    "    2: [5],\n",
    "    3: [5],\n",
    "    4: [],\n",
    "    5: [6, 7],\n",
    "    6: [],\n",
    "    7: [3],\n",
    "}\n",
    "\n",
    "def recursive_dfs(v, discovered=[]):\n",
    "    print(f'recrusive_dfs 진입 : 탐색하는 정점: {v}, 여태까지 경로: {discovered=}')\n",
    "    print()\n",
    "    # 우리가 탐색한 경로\n",
    "    discovered.append(v)\n",
    "    print(f'append 함수 호출 : 여태까지 경로 {discovered}')\n",
    "    print()\n",
    "    #print(f'for문 진입 : 탐색한 정점 {v}를 여태까지 경로에 추가합니다.')\n",
    "    print(f'for문 진입 : 탐색한 정점 {v}와 연결된 노드들은 {graph[v]}이고 연결된 노드들을 하나씩 탐색합니다.')\n",
    "    print()\n",
    "    for w in graph[v]: # 정점과 연결된 다른 정점\n",
    "        if w not in discovered: # 이미 탐색한 정점은 거르기\n",
    "            print(f'if문 진입 : 정점 {w}는 아직 탐색하지 않았기 때문에 재귀함수를 호출합니다.')\n",
    "            print()\n",
    "            discovered = recursive_dfs(w, discovered)\n",
    "            print(f'재귀함수 종료 : 정점 {w}에 대한 재귀함수가 종료되었습니다.')\n",
    "            print()\n",
    "    return discovered\n",
    "    \n",
    "print(f'{recursive_dfs(1)=}')"
   ]
  },
  {
   "cell_type": "markdown",
   "metadata": {},
   "source": [
    "### DFS, 스택 - 파이썬 알고리즘 인터뷰 (p.325)"
   ]
  },
  {
   "cell_type": "code",
   "execution_count": 30,
   "metadata": {},
   "outputs": [
    {
     "name": "stdout",
     "output_type": "stream",
     "text": [
      "while문 진입 - 앞으로 탐색할 노드들 : stack=[1] \n",
      "\n",
      "stack에서 값을 하나 뺌 : v=1 : \n",
      "\n",
      "아직 탐색에 추가되지 않은 v 추가 : discovered=[1] : \n",
      "\n",
      "정점 v=1와 연결된 노드들을 stack=[2]에 추가  : v=1 : \n",
      "\n",
      "정점 v=1와 연결된 노드들을 stack=[2, 3]에 추가  : v=1 : \n",
      "\n",
      "정점 v=1와 연결된 노드들을 stack=[2, 3, 4]에 추가  : v=1 : \n",
      "\n",
      "while문 진입 - 앞으로 탐색할 노드들 : stack=[2, 3, 4] \n",
      "\n",
      "stack에서 값을 하나 뺌 : v=4 : \n",
      "\n",
      "아직 탐색에 추가되지 않은 v 추가 : discovered=[1, 4] : \n",
      "\n",
      "while문 진입 - 앞으로 탐색할 노드들 : stack=[2, 3] \n",
      "\n",
      "stack에서 값을 하나 뺌 : v=3 : \n",
      "\n",
      "아직 탐색에 추가되지 않은 v 추가 : discovered=[1, 4, 3] : \n",
      "\n",
      "정점 v=3와 연결된 노드들을 stack=[2, 5]에 추가  : v=3 : \n",
      "\n",
      "while문 진입 - 앞으로 탐색할 노드들 : stack=[2, 5] \n",
      "\n",
      "stack에서 값을 하나 뺌 : v=5 : \n",
      "\n",
      "아직 탐색에 추가되지 않은 v 추가 : discovered=[1, 4, 3, 5] : \n",
      "\n",
      "정점 v=5와 연결된 노드들을 stack=[2, 6]에 추가  : v=5 : \n",
      "\n",
      "정점 v=5와 연결된 노드들을 stack=[2, 6, 7]에 추가  : v=5 : \n",
      "\n",
      "while문 진입 - 앞으로 탐색할 노드들 : stack=[2, 6, 7] \n",
      "\n",
      "stack에서 값을 하나 뺌 : v=7 : \n",
      "\n",
      "아직 탐색에 추가되지 않은 v 추가 : discovered=[1, 4, 3, 5, 7] : \n",
      "\n",
      "정점 v=7와 연결된 노드들을 stack=[2, 6, 3]에 추가  : v=7 : \n",
      "\n",
      "while문 진입 - 앞으로 탐색할 노드들 : stack=[2, 6, 3] \n",
      "\n",
      "stack에서 값을 하나 뺌 : v=3 : \n",
      "\n",
      "while문 진입 - 앞으로 탐색할 노드들 : stack=[2, 6] \n",
      "\n",
      "stack에서 값을 하나 뺌 : v=6 : \n",
      "\n",
      "아직 탐색에 추가되지 않은 v 추가 : discovered=[1, 4, 3, 5, 7, 6] : \n",
      "\n",
      "while문 진입 - 앞으로 탐색할 노드들 : stack=[2] \n",
      "\n",
      "stack에서 값을 하나 뺌 : v=2 : \n",
      "\n",
      "아직 탐색에 추가되지 않은 v 추가 : discovered=[1, 4, 3, 5, 7, 6, 2] : \n",
      "\n",
      "정점 v=2와 연결된 노드들을 stack=[5]에 추가  : v=2 : \n",
      "\n",
      "while문 진입 - 앞으로 탐색할 노드들 : stack=[5] \n",
      "\n",
      "stack에서 값을 하나 뺌 : v=5 : \n",
      "\n",
      "iterative_dfs(1)=[1, 4, 3, 5, 7, 6, 2]\n"
     ]
    }
   ],
   "source": [
    "graph = {\n",
    "    1: [2, 3, 4],\n",
    "    2: [5],\n",
    "    3: [5],\n",
    "    4: [],\n",
    "    5: [6, 7],\n",
    "    6: [],\n",
    "    7: [3],\n",
    "}\n",
    "\n",
    "def iterative_dfs(start_v):\n",
    "    discovered = []\n",
    "    stack = [start_v]\n",
    "    while stack:\n",
    "        print(f'while문 진입 - 앞으로 탐색할 노드들 : {stack=} ')\n",
    "        print()\n",
    "        v = stack.pop()\n",
    "        print(f'stack에서 값을 하나 뺌 : {v=} : ')\n",
    "        print()\n",
    "        if v not in discovered:\n",
    "            discovered.append(v)\n",
    "            print(f'아직 탐색에 추가되지 않은 v 추가 : {discovered=} : ')\n",
    "            print()\n",
    "            for w in graph[v]:\n",
    "                stack.append(w)\n",
    "                print(f'정점 {v=}와 연결된 노드들을 {stack=}에 추가  : {v=} : ')\n",
    "                print()\n",
    "    return discovered\n",
    "\n",
    "print(f'{iterative_dfs(1)=}')\n",
    "\n",
    "# iterative_dfs(1)=[1, 4, 3, 5, 7, 6, 2]"
   ]
  },
  {
   "cell_type": "markdown",
   "metadata": {},
   "source": [
    "## BFS - 파이썬 알고리즘 인터뷰 (p.326)"
   ]
  },
  {
   "cell_type": "code",
   "execution_count": null,
   "metadata": {},
   "outputs": [],
   "source": [
    "def iterative_bfs(start_v):\n",
    "    # 탐색된 노드를 저장할 리스트와 탐색할 노드를 저장할 큐를 초기화합니다.\n",
    "    discovered = [start_v]\n",
    "    queue = [start_v]\n",
    "    \n",
    "    # 큐가 비어 있지 않은 동안 탐색을 계속합니다.\n",
    "    while queue:\n",
    "        v = queue.pop(0)\n",
    "        \n",
    "        # 현재 노드 v와 연결된 모든 노드들을 순회합니다.\n",
    "        for w in graph[v]:\n",
    "            if w not in discovered:\n",
    "                discovered.append(w)\n",
    "                queue.append(w)\n",
    "    \n",
    "    # 모든 탐색이 끝나면 discovered 리스트를 반환합니다.\n",
    "    return discovered\n",
    "\n",
    "# 노드 1부터 탐색을 시작합니다.\n",
    "print(f'{iterative_bfs(1)=}')\n",
    "\n",
    "    \n",
    "# iterative_bfs(1)=[1, 2, 3, 4, 5, 6, 7]"
   ]
  }
 ],
 "metadata": {
  "kernelspec": {
   "display_name": "Python 3",
   "language": "python",
   "name": "python3"
  },
  "language_info": {
   "codemirror_mode": {
    "name": "ipython",
    "version": 3
   },
   "file_extension": ".py",
   "mimetype": "text/x-python",
   "name": "python",
   "nbconvert_exporter": "python",
   "pygments_lexer": "ipython3",
   "version": "3.12.3"
  }
 },
 "nbformat": 4,
 "nbformat_minor": 2
}
