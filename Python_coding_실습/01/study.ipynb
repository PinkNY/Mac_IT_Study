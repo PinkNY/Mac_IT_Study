{
 "cells": [
  {
   "cell_type": "code",
   "execution_count": 1,
   "metadata": {},
   "outputs": [
    {
     "name": "stdout",
     "output_type": "stream",
     "text": [
      "안녕하세요\n",
      "안녕하세요\n",
      "안녕하세요\n"
     ]
    }
   ],
   "source": [
    "def print_3_times():\n",
    "    print(\"안녕하세요\")\n",
    "    print(\"안녕하세요\")\n",
    "    print(\"안녕하세요\")\n",
    "    \n",
    "print_3_times()"
   ]
  },
  {
   "cell_type": "code",
   "execution_count": 2,
   "metadata": {},
   "outputs": [
    {
     "name": "stdout",
     "output_type": "stream",
     "text": [
      "안녕하세요\n",
      "안녕하세요\n",
      "안녕하세요\n",
      "안녕하세요\n",
      "안녕하세요\n"
     ]
    }
   ],
   "source": [
    "def print_n_times(value, n):\n",
    "    for i in range(n):\n",
    "        print(value)\n",
    "        \n",
    "print_n_times(\"안녕하세요\", 5)"
   ]
  },
  {
   "cell_type": "code",
   "execution_count": 3,
   "metadata": {},
   "outputs": [
    {
     "name": "stdout",
     "output_type": "stream",
     "text": [
      "안녕하세요\n",
      "<class 'tuple'>\n",
      "즐거운\n",
      "<class 'tuple'>\n",
      "파이썬 프로그래밍\n",
      "<class 'tuple'>\n",
      "\n",
      "안녕하세요\n",
      "<class 'tuple'>\n",
      "즐거운\n",
      "<class 'tuple'>\n",
      "파이썬 프로그래밍\n",
      "<class 'tuple'>\n",
      "\n",
      "안녕하세요\n",
      "<class 'tuple'>\n",
      "즐거운\n",
      "<class 'tuple'>\n",
      "파이썬 프로그래밍\n",
      "<class 'tuple'>\n",
      "\n"
     ]
    }
   ],
   "source": [
    "def print_n_times(n, *values):\n",
    "    # n번 반복합니다.\n",
    "    for i in range(n):\n",
    "        # values는 리스트처럼 활용.\n",
    "        for value in values:\n",
    "            print(value)\n",
    "            \n",
    "            print(type(values))\n",
    "            # 자료형 확인.\n",
    "        print()\n",
    "        # 단순한 줄바꿈.\n",
    "        \n",
    "print_n_times(3, \"안녕하세요\", \"즐거운\", \"파이썬 프로그래밍\")"
   ]
  },
  {
   "cell_type": "code",
   "execution_count": 4,
   "metadata": {},
   "outputs": [
    {
     "name": "stdout",
     "output_type": "stream",
     "text": [
      "안녕하세요\n",
      "안녕하세요\n"
     ]
    }
   ],
   "source": [
    "def print_n_times(value, n=2):\n",
    "    # n번 반복한다.\n",
    "    for i in range(n):\n",
    "        print(value)\n",
    "        \n",
    "print_n_times(\"안녕하세요\")"
   ]
  },
  {
   "cell_type": "code",
   "execution_count": 6,
   "metadata": {},
   "outputs": [
    {
     "name": "stdout",
     "output_type": "stream",
     "text": [
      "안녕하세요\n",
      "즐거운\n",
      "파이썬 프로그래밍\n",
      "\n",
      "안녕하세요\n",
      "즐거운\n",
      "파이썬 프로그래밍\n",
      "\n",
      "안녕하세요\n",
      "즐거운\n",
      "파이썬 프로그래밍\n",
      "\n"
     ]
    }
   ],
   "source": [
    "def print_n_times(*values, n=2):\n",
    "    # n번 반복한다.\n",
    "    for i in range(n):\n",
    "        # values는 리스트처럼 활용.\n",
    "        for value in values:\n",
    "            print(value)\n",
    "            \n",
    "        print()\n",
    "        # 단순한 줄바꿈\n",
    "        \n",
    "print_n_times(\"안녕하세요\", \"즐거운\", \"파이썬 프로그래밍\", n=3)\n"
   ]
  },
  {
   "cell_type": "code",
   "execution_count": 7,
   "metadata": {},
   "outputs": [
    {
     "name": "stdout",
     "output_type": "stream",
     "text": [
      "5\n"
     ]
    }
   ],
   "source": [
    "# f(x) = x\n",
    "\n",
    "def f1(x):\n",
    "    return x\n",
    "\n",
    "print(f1(5))"
   ]
  },
  {
   "cell_type": "code",
   "execution_count": 8,
   "metadata": {},
   "outputs": [
    {
     "name": "stdout",
     "output_type": "stream",
     "text": [
      "11\n"
     ]
    }
   ],
   "source": [
    "# f(x) = 2x + 1\n",
    "\n",
    "def f2(x):\n",
    "    return 2 * x + 1\n",
    "\n",
    "print(f2(5))"
   ]
  },
  {
   "cell_type": "code",
   "execution_count": 9,
   "metadata": {},
   "outputs": [
    {
     "name": "stdout",
     "output_type": "stream",
     "text": [
      "36\n"
     ]
    }
   ],
   "source": [
    "# f(x) = x^2 + 2x + 1\n",
    "\n",
    "def f3(x):\n",
    "    return x ** 2 + 2 * x + 1\n",
    "\n",
    "print(f3(5))"
   ]
  },
  {
   "cell_type": "code",
   "execution_count": 10,
   "metadata": {},
   "outputs": [
    {
     "name": "stdout",
     "output_type": "stream",
     "text": [
      "3150\n"
     ]
    }
   ],
   "source": [
    "def mul(*values):\n",
    "    result = 1\n",
    "    for value in values:\n",
    "        #result = result * value // 위 아래 두가지 활용 가능.\n",
    "        result *= value\n",
    "    return result\n",
    "\n",
    "print(mul(5, 7, 9, 10))"
   ]
  },
  {
   "cell_type": "code",
   "execution_count": 11,
   "metadata": {},
   "outputs": [
    {
     "data": {
      "text/plain": [
       "10"
      ]
     },
     "execution_count": 11,
     "metadata": {},
     "output_type": "execute_result"
    }
   ],
   "source": [
    "def add(a, b):\n",
    "    # 여기에 코드를 작성하세요\n",
    "    return a+b\n",
    "\n",
    "# 함수를 호출하고 결과를 출력하세요\n",
    "c = add(7, 3)\n",
    "c # 10"
   ]
  },
  {
   "cell_type": "code",
   "execution_count": 12,
   "metadata": {},
   "outputs": [
    {
     "name": "stdout",
     "output_type": "stream",
     "text": [
      "hellohellohello\n"
     ]
    }
   ],
   "source": [
    "def repeat_string(s, n):\n",
    "    return s * n\n",
    "\n",
    "# 함수를 호출하고 결과를 출력하세요\n",
    "repeated_string = repeat_string(\"hello\", 3)\n",
    "print(repeated_string)  # 출력: 'hellohellohello'"
   ]
  },
  {
   "cell_type": "code",
   "execution_count": 13,
   "metadata": {},
   "outputs": [
    {
     "data": {
      "text/plain": [
       "150"
      ]
     },
     "execution_count": 13,
     "metadata": {},
     "output_type": "execute_result"
    }
   ],
   "source": [
    "def sum_all(*args):\n",
    "    # 여기에 코드를 작성하세요\n",
    "    return sum(args)\n",
    "        \n",
    "\n",
    "# 함수를 호출하고 결과를 출력하세요\n",
    "number = sum_all(10, 20, 30)\n",
    "number # 60\n",
    "\n",
    "number = sum_all(10, 20, 30, 40, 50)\n",
    "number # 150"
   ]
  },
  {
   "cell_type": "code",
   "execution_count": 17,
   "metadata": {},
   "outputs": [],
   "source": [
    "# *args\n",
    "# 파라미터를 몇개를 받을지 모르는 경우 사용한다. args는 튜플 형태로 전달.\n",
    "# *args -> 어떤 단어를 넣어도 무관.\n",
    "\n",
    "# **kwargs\n",
    "# 파라미터 명을 같이 보낼 수 있다. kwargs는 딕셔너리 형태로 전달.\n",
    "# 키워드 = 특정 값 형태로 함수를 호출."
   ]
  },
  {
   "cell_type": "code",
   "execution_count": 14,
   "metadata": {},
   "outputs": [
    {
     "name": "stdout",
     "output_type": "stream",
     "text": [
      "7\n",
      "21\n"
     ]
    }
   ],
   "source": [
    "def multiply(a, b=1):\n",
    "    # 여기에 코드를 작성하세요\n",
    "    return a * b\n",
    "\n",
    "# 함수를 호출하고 결과를 출력하세요\n",
    "result = multiply(7)\n",
    "print(result)  # 출력: 7\n",
    "\n",
    "result = multiply(7, 3)\n",
    "print(result)  # 출력: 21\n"
   ]
  },
  {
   "cell_type": "code",
   "execution_count": 18,
   "metadata": {},
   "outputs": [
    {
     "name": "stdout",
     "output_type": "stream",
     "text": [
      "Name: Alice, Age: 30\n",
      "Name: Bob, Age: 25\n"
     ]
    }
   ],
   "source": [
    "def print_info(name, age):\n",
    "    # 이름과 나이를 출력하는 코드를 작성하세요\n",
    "    print(f\"Name: {name}, Age: {age}\")\n",
    "\n",
    "# 함수를 호출하고 결과를 출력하세요\n",
    "print_info(name=\"Alice\", age=30)\n",
    "print_info(age=25, name=\"Bob\")"
   ]
  },
  {
   "cell_type": "code",
   "execution_count": 19,
   "metadata": {},
   "outputs": [
    {
     "name": "stdout",
     "output_type": "stream",
     "text": [
      "Sum: 8, Product: 15\n"
     ]
    }
   ],
   "source": [
    "def add_and_multiply(a,b):\n",
    "    # 두 숫자의 합과 곱을 반환하는 코드를 작성하세요\n",
    "    return a + b, a * b\n",
    "\n",
    "# 함수를 호출하고 결과를 출력하세요\n",
    "sum_result, product_result = add_and_multiply(5, 3)\n",
    "print(f\"Sum: {sum_result}, Product: {product_result}\")  # 출력: Sum: 8, Product: 15"
   ]
  },
  {
   "cell_type": "code",
   "execution_count": 20,
   "metadata": {},
   "outputs": [
    {
     "name": "stdout",
     "output_type": "stream",
     "text": [
      "name: Alice\n",
      "age: 30\n",
      "city: New York\n"
     ]
    }
   ],
   "source": [
    "def print_kwargs(**kwargs):\n",
    "    # 키워드 인자의 값을 출력하는 코드를 작성하세요\n",
    "    for key, value in kwargs.items():\n",
    "        print(f\"{key}: {value}\")\n",
    "\n",
    "# 함수를 호출하고 결과를 출력하세요\n",
    "print_kwargs(name=\"Alice\", age=30, city=\"New York\")"
   ]
  },
  {
   "cell_type": "code",
   "execution_count": 21,
   "metadata": {},
   "outputs": [
    {
     "name": "stdout",
     "output_type": "stream",
     "text": [
      "a: 1, b: 2, c: 0\n",
      "args: ()\n",
      "kwargs: {}\n",
      "a: 1, b: 2, c: 3\n",
      "args: (4, 5, 6)\n",
      "kwargs: {'key1': 'value1', 'key2': 'value2'}\n"
     ]
    }
   ],
   "source": [
    "def mixed_params(a, b, c=0, *args, **kwargs):\n",
    "    # 필수 매개변수, 기본 매개변수, 가변 매개변수, 키워드 가변 매개변수를 출력하는 코드를 작성하세요\n",
    "    print(f\"a: {a}, b: {b}, c: {c}\")\n",
    "    print(f\"args: {args}\")\n",
    "    print(f\"kwargs: {kwargs}\")\n",
    "\n",
    "# 함수를 호출하고 결과를 출력하세요\n",
    "mixed_params(1, 2)\n",
    "mixed_params(1, 2, 3, 4, 5, 6, key1=\"value1\", key2=\"value2\")"
   ]
  },
  {
   "cell_type": "code",
   "execution_count": 22,
   "metadata": {},
   "outputs": [
    {
     "name": "stdout",
     "output_type": "stream",
     "text": [
      "저는 coffee를 좋아합니다. 하루 5잔 마셔요.\n"
     ]
    }
   ],
   "source": [
    "# f-string\n",
    "# f'문자열{변수}문자열' 형식\n",
    "# 문자열 맨 앞에 f를 붙이고, 출력할 변수, 값을 중괄호 안에 넣는다.\n",
    "\n",
    "s = \"coffee\"\n",
    "n = 5\n",
    "result = f\"저는 {s}를 좋아합니다. 하루 {n}잔 마셔요.\"\n",
    "print(result)"
   ]
  },
  {
   "cell_type": "code",
   "execution_count": 24,
   "metadata": {},
   "outputs": [
    {
     "name": "stdout",
     "output_type": "stream",
     "text": [
      "14\n"
     ]
    }
   ],
   "source": [
    "# ### **1. 함수 정의와 호출 (10분)**\n",
    "\n",
    "# **문제 1:**\n",
    "\n",
    "# - 두 숫자를 입력받아 그 합을 반환하는 함수를 작성하라.\n",
    "\n",
    "def add(a, b):\n",
    "    return a + b\n",
    "\n",
    "# 함수를 호출하고 결과를 출력하세요\n",
    "print(add(5, 3))  # 출력: 8"
   ]
  },
  {
   "cell_type": "code",
   "execution_count": 25,
   "metadata": {},
   "outputs": [
    {
     "name": "stdout",
     "output_type": "stream",
     "text": [
      "ThankThankThank\n"
     ]
    }
   ],
   "source": [
    "# **문제 2:**\n",
    "\n",
    "# - 문자열을 입력받아 해당 문자열을 3번 반복하여 반환하는 함수를 작성하라.\n",
    "\n",
    "def repeat_string(s,n):\n",
    "    return s * n\n",
    "repeated_string = repeat_string(\"Thank\", 3)\n",
    "\n",
    "# - 함수를 호출하여 결과를 출력하라.\n",
    "\n",
    "print(repeated_string)"
   ]
  },
  {
   "cell_type": "code",
   "execution_count": 28,
   "metadata": {},
   "outputs": [
    {
     "name": "stdout",
     "output_type": "stream",
     "text": [
      "hellohellohello\n",
      "Sum: 8, Product: 15\n"
     ]
    }
   ],
   "source": [
    "# **문제 3:**\n",
    "\n",
    "# - 두 숫자를 입력받아 두 숫자의 합과 곱을 반환하는 함수를 작성하라.\n",
    "\n",
    "def add_and_multiply(a, b):\n",
    "    return a + b, a * b\n",
    "\n",
    "# 함수를 호출하고 결과를 출력하세요\n",
    "sum_result, product_result = add_and_multiply(5, 3)\n",
    "print(f\"Sum: {sum_result}, Product: {product_result}\")  # 출력: Sum: 8, Product: 15"
   ]
  },
  {
   "cell_type": "code",
   "execution_count": null,
   "metadata": {},
   "outputs": [],
   "source": [
    "# **문제 4:**\n",
    "\n",
    "# - 주어진 문자열 리스트에서 가장 긴 문자열을 반환하는 함수를 작성하라.\n",
    "\n",
    "def longest_string(strings):\n",
    "    return max(strings, key=len)\n",
    "\n",
    "# 함수를 호출하고 결과를 출력하세요\n",
    "print(longest_string([\"apple\", \"banana\", \"cherry\", \"date\"]))  # 출력: banana"
   ]
  },
  {
   "cell_type": "code",
   "execution_count": null,
   "metadata": {},
   "outputs": [],
   "source": [
    "# ### **3. 가변 매개변수 (10분)**\n",
    "\n",
    "# **문제 5:**\n",
    "\n",
    "# - 여러 개의 숫자를 입력받아 그 합을 반환하는 함수를 작성하라.\n",
    "\n",
    "def sum_all(*args):\n",
    "    return sum(args)\n",
    "\n",
    "# 함수를 호출하고 결과를 출력하세요\n",
    "print(sum_all(1, 2, 3, 4, 5))  # 출력: 15\n",
    "print(sum_all(10, 20, 30))  # 출력: 60"
   ]
  },
  {
   "cell_type": "code",
   "execution_count": null,
   "metadata": {},
   "outputs": [],
   "source": [
    "# **문제 6:**\n",
    "\n",
    "# - 여러 개의 문자열을 입력받아 모든 문자열을 공백으로 연결한 문자열을 반환하는 함수를 작성하라.\n",
    "def concatenate_all(*args):\n",
    "    return ' '.join(args)\n",
    "\n",
    "# 함수를 호출하고 결과를 출력하세요\n",
    "print(concatenate_all(\"Hello\", \"world\", \"this\", \"is\", \"Python\"))  # 출력: Hello world this is Python\n"
   ]
  },
  {
   "cell_type": "code",
   "execution_count": null,
   "metadata": {},
   "outputs": [],
   "source": [
    "# ### **4. 기본 매개변수 (10분)**\n",
    "\n",
    "# **문제 7:**\n",
    "\n",
    "# - 두 숫자를 입력받아, 두 번째 숫자가 주어지지 않으면 기본값으로 1을 사용하여 곱셈을 수행하는 함수를 작성하라.\n",
    "# - 함수를 호출하여 결과를 출력하라.\n",
    "\n",
    "def multiply(a, b=1):                                           # multiply 함수를 생성 a, b 인자를 추가 b=1\n",
    "    return a * b                                                # a * b 값을 multiply에 리턴.\n",
    "\n",
    "# 함수를 호출하고 결과를 출력하세요\n",
    "print(multiply(7))  # 출력: 7\n",
    "print(multiply(7, 3))  # 출력: 21"
   ]
  },
  {
   "cell_type": "code",
   "execution_count": null,
   "metadata": {},
   "outputs": [],
   "source": [
    "# **문제 8:**\n",
    "\n",
    "# - 문자열과 반복 횟수를 입력받아, 반복 횟수가 주어지지 않으면 기본값으로 1을 사용하여 문자열을 반복하는 함수를 작성하라.\n",
    "# - 함수를 호출하여 결과를 출력하라.\n",
    "\n",
    "def repeat_string(s, n=1):                                          # repeat_string 이라는 함수를 생성 후 s, n=1 변수를 생성.\n",
    "    return s * n                                                    # repeat_string에 s*n 값을 리턴한다.\n",
    "\n",
    "# 함수를 호출하고 결과를 출력하세요\n",
    "print(repeat_string(\"hello\"))  # 출력: hello\n",
    "print(repeat_string(\"hello\", 3))  # 출력: hellohellohello"
   ]
  },
  {
   "cell_type": "code",
   "execution_count": null,
   "metadata": {},
   "outputs": [],
   "source": [
    "# ### **5. 키워드 매개변수 (10분)**\n",
    "\n",
    "# **문제 9:**\n",
    "\n",
    "# - 키워드 매개변수를 사용하여 이름과 나이를 출력하는 함수를 작성하라.\n",
    "# - 함수를 호출하여 결과를 출력하라.\n",
    "\n",
    "def print_info(name, age):                                      # print_info 라는 함수를 생성하고 name, age 변수를 생성한다.\n",
    "    print(f\"Name: {name}, Age: {age}\")                          # f'문자열{변수}문자열' 형식\n",
    "\n",
    "# 함수를 호출하고 결과를 출력하세요\n",
    "print_info(name=\"Alice\", age=30)\n",
    "print_info(age=25, name=\"Bob\")"
   ]
  },
  {
   "cell_type": "code",
   "execution_count": 29,
   "metadata": {},
   "outputs": [
    {
     "name": "stdout",
     "output_type": "stream",
     "text": [
      "name: Alice\n",
      "age: 30\n",
      "city: New York\n"
     ]
    }
   ],
   "source": [
    "# **문제 10:**\n",
    "\n",
    "# - 키워드 가변 매개변수를 사용하여 여러 개의 키워드 인자를 받아 각 인자의 값을 출력하는 함수를 작성하라.\n",
    "# - 함수를 호출하여 결과를 출력하라.\n",
    "\n",
    "def print_kwargs(**kwargs):                                     # 여러개의 키워드를 생성 후 print_kwargs에 추가\n",
    "    for key, value in kwargs.items():                           # 만약 key, value가 kwargs 안에 있다면 아래를 실행.\n",
    "        print(f\"{key}: {value}\")                                # f'문자열{변수}문자열' 형식\n",
    "\n",
    "# 함수를 호출하고 결과를 출력하세요\n",
    "print_kwargs(name=\"Alice\", age=30, city=\"New York\")             # 출력"
   ]
  },
  {
   "cell_type": "code",
   "execution_count": 31,
   "metadata": {},
   "outputs": [
    {
     "name": "stdout",
     "output_type": "stream",
     "text": [
      "3\n"
     ]
    }
   ],
   "source": [
    "# 위치 매개변수 예시\n",
    "# def sum(a, b):\n",
    "#     return a + b\n",
    "\n",
    "# print(sum(1, 2))  # 3\n",
    "\n",
    "# # 가변 매개변수 예시\n",
    "# def mean(*args):\n",
    "#     return sum(args) / len(args)\n",
    "\n",
    "# print(mean(1, 2, 3, 4, 5))  # 3.0\n",
    "\n",
    "# # 키워드 매개변수 예시\n",
    "# def info(**kwargs):\n",
    "#     print('name:', kwargs['name'])\n",
    "#     print('age:', kwargs['age'])\n",
    "\n",
    "# info(name='Alice', age=25)\n",
    "# # name: Alice\n",
    "# # age: 25"
   ]
  },
  {
   "cell_type": "code",
   "execution_count": 32,
   "metadata": {},
   "outputs": [
    {
     "name": "stdout",
     "output_type": "stream",
     "text": [
      "[1, 3, 5]\n"
     ]
    }
   ],
   "source": [
    "# 콜백 함수 : 함수의 매개변수에 사용하는 함수\n",
    "# 고차 함수 : 콜백 함수를 활용하는 함수\n",
    "\n",
    "a= [1, 2, 3, 4,5]\n",
    "\n",
    "def is_odd(number):\n",
    "    if number % 2 == 1:\n",
    "        return True\n",
    "    else:\n",
    "        return False\n",
    "\n",
    "print(list(filter(is_odd, a)))"
   ]
  },
  {
   "cell_type": "code",
   "execution_count": null,
   "metadata": {},
   "outputs": [],
   "source": [
    "def add_and_multiply(/* 코드 작성 */):\n",
    "    # 두 숫자의 합과 곱을 튜플로 반환하는 코드를 작성하세요\n",
    "\n",
    "# 함수를 호출하고 결과를 출력하세요\n",
    "result = add_and_multiply(5, 3)\n",
    "print(result)  # 출력: (8, 15)"
   ]
  },
  {
   "cell_type": "code",
   "execution_count": null,
   "metadata": {},
   "outputs": [],
   "source": [
    "def add_and_multiply(a, b):\n",
    "    # 두 숫자의 합과 곱을 튜플로 반환하는 코드를 작성하세요\n",
    "    return a + b, a * b\n",
    "\n",
    "# 함수를 호출하고 결과를 출력하세요\n",
    "result = add_and_multiply(5, 3)\n",
    "print(result)  # 출력: (8, 15)"
   ]
  },
  {
   "cell_type": "code",
   "execution_count": null,
   "metadata": {},
   "outputs": [],
   "source": [
    "def apply_callback(/* 코드 작성 */):\n",
    "    # 콜백 함수를 두 숫자에 적용한 결과를 반환하는 코드를 작성하세요\n",
    "\n",
    "# 예시 콜백 함수\n",
    "def add(a, b):\n",
    "    return a + b\n",
    "\n",
    "# 함수를 호출하고 결과를 출력하세요\n",
    "result = apply_callback(5, 3, add)\n",
    "print(result)  # 출력: 8"
   ]
  },
  {
   "cell_type": "code",
   "execution_count": null,
   "metadata": {},
   "outputs": [],
   "source": [
    "def apply_callback(a, b, callback):\n",
    "    # 콜백 함수를 두 숫자에 적용한 결과를 반환하는 코드를 작성하세요\n",
    "    return callback(a, b)\n",
    "\n",
    "# 예시 콜백 함수\n",
    "def add(a, b):\n",
    "    return a + b\n",
    "\n",
    "# 함수를 호출하고 결과를 출력하세요\n",
    "result = apply_callback(5, 3, add)\n",
    "print(result)  # 출력: 8"
   ]
  },
  {
   "cell_type": "code",
   "execution_count": null,
   "metadata": {},
   "outputs": [],
   "source": [
    "sum_lambda = /* 코드 작성 */\n",
    "# 두 숫자의 합을 반환하는 람다 함수를 작성하세요\n",
    "\n",
    "# 람다 함수를 호출하고 결과를 출력하세요\n",
    "result = sum_lambda(5, 3)\n",
    "print(result)  # 출력: 8"
   ]
  },
  {
   "cell_type": "code",
   "execution_count": null,
   "metadata": {},
   "outputs": [],
   "source": [
    "sum_lambda = lambda a, b: a + b\n",
    "# 두 숫자의 합을 반환하는 람다 함수를 작성하세요\n",
    "\n",
    "# 람다 함수를 호출하고 결과를 출력하세요\n",
    "result = sum_lambda(5, 3)\n",
    "print(result)  # 출력: 8"
   ]
  },
  {
   "cell_type": "code",
   "execution_count": null,
   "metadata": {},
   "outputs": [],
   "source": [
    "def higher_order_function(/* 코드 작성 */):\n",
    "    # 함수를 두 숫자에 적용한 결과를 반환하는 코드를 작성하세요\n",
    "\n",
    "# 예시 함수\n",
    "def multiply(a, b):\n",
    "    return a * b\n",
    "\n",
    "# 고차 함수를 호출하고 결과를 출력하세요\n",
    "result = higher_order_function(5, 3, multiply)\n",
    "print(result)  # 출력: 15\n"
   ]
  },
  {
   "cell_type": "code",
   "execution_count": null,
   "metadata": {},
   "outputs": [],
   "source": [
    "def higher_order_function(a, b, func):\n",
    "    # 함수를 두 숫자에 적용한 결과를 반환하는 코드를 작성하세요\n",
    "    return func(a, b)\n",
    "\n",
    "# 예시 함수\n",
    "def multiply(a, b):\n",
    "    return a * b\n",
    "\n",
    "# 고차 함수를 호출하고 결과를 출력하세요\n",
    "result = higher_order_function(5, 3, multiply)\n",
    "print(result)  # 출력: 15"
   ]
  },
  {
   "cell_type": "code",
   "execution_count": null,
   "metadata": {},
   "outputs": [],
   "source": [
    "def write_to_file(/* 코드 작성 */):\n",
    "    # 파일에 문자열을 쓰는 코드를 작성하세요\n",
    "\n",
    "# 함수를 호출하고 결과를 출력하세요\n",
    "write_to_file('example.txt', 'Hello, world!')"
   ]
  },
  {
   "cell_type": "code",
   "execution_count": null,
   "metadata": {},
   "outputs": [],
   "source": [
    "def write_to_file(filename, content):\n",
    "    # 파일에 문자열을 쓰는 코드를 작성하세요\n",
    "    with open(filename, 'w') as file:\n",
    "        file.write(content)\n",
    "\n",
    "# 함수를 호출하고 결과를 출력하세요\n",
    "write_to_file('example.txt', 'Hello, world!')\n",
    "\n",
    "# 파일 내용을 확인하기 위해 읽어 출력\n",
    "with open('example.txt', 'r') as file:\n",
    "    print(file.read())  # 출력: Hello, world!"
   ]
  },
  {
   "cell_type": "code",
   "execution_count": null,
   "metadata": {},
   "outputs": [],
   "source": [
    "# main.py\n",
    "\n",
    "import calculator\n",
    "\n",
    "def main():\n",
    "    # 더하기 예시\n",
    "    result = calculator.add(10, 5)\n",
    "    print(f\"10 + 5 = {result}\")\n",
    "\n",
    "    # 빼기 예시\n",
    "    result = calculator.subtract(10, 5)\n",
    "    print(f\"10 - 5 = {result}\")\n",
    "\n",
    "    # 곱하기 예시\n",
    "    result = calculator.multiply(10, 5)\n",
    "    print(f\"10 * 5 = {result}\")\n",
    "\n",
    "    # 나누기 예시\n",
    "    result = calculator.divide(10, 5)\n",
    "    print(f\"10 / 5 = {result}\")\n",
    "\n",
    "    # 0으로 나누기 예시\n",
    "    result = calculator.divide(10, 0)\n",
    "    if result is not None:\n",
    "        print(f\"10 / 0 = {result}\")\n",
    "\n",
    "    # 거듭제곱 예시\n",
    "    result = calculator.power(2, 3)\n",
    "    print(f\"2^3 = {result}\")\n",
    "\n",
    "    # 제곱근 예시\n",
    "    result = calculator.sqrt(9)\n",
    "    print(f\"sqrt(9) = {result}\")\n",
    "\n",
    "    # 음수의 제곱근 예시\n",
    "    result = calculator.sqrt(-9)\n",
    "    if result is not None:\n",
    "        print(f\"sqrt(-9) = {result}\")\n",
    "\n",
    "if __name__ == \"__main__\":\n",
    "    main()\n"
   ]
  },
  {
   "cell_type": "code",
   "execution_count": null,
   "metadata": {},
   "outputs": [],
   "source": [
    "# calculator.py\n",
    "\n",
    "def add(a, b):\n",
    "    return a + b\n",
    "\n",
    "def subtract(a, b):\n",
    "    return a - b\n",
    "\n",
    "def multiply(a, b):\n",
    "    return a * b\n",
    "\n",
    "def divide(a, b):\n",
    "    if b == 0:\n",
    "        print(\"오류: 0으로 나눌 수 없습니다.\")\n",
    "        return None\n",
    "    return a / b\n",
    "\n",
    "def power(base, exponent):\n",
    "    return base ** exponent\n",
    "\n",
    "def sqrt(number):\n",
    "    if number < 0:\n",
    "        print(\"오류: 음수의 제곱근을 계산할 수 없습니다.\")\n",
    "        return None\n",
    "    return number ** 0.5"
   ]
  }
 ],
 "metadata": {
  "kernelspec": {
   "display_name": "Python 3",
   "language": "python",
   "name": "python3"
  },
  "language_info": {
   "codemirror_mode": {
    "name": "ipython",
    "version": 3
   },
   "file_extension": ".py",
   "mimetype": "text/x-python",
   "name": "python",
   "nbconvert_exporter": "python",
   "pygments_lexer": "ipython3",
   "version": "3.12.3"
  }
 },
 "nbformat": 4,
 "nbformat_minor": 2
}
