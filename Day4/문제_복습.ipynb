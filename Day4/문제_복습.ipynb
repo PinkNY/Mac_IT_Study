{
 "cells": [
  {
   "cell_type": "markdown",
   "metadata": {},
   "source": [
    "유효한 팰린드롬 문제"
   ]
  },
  {
   "cell_type": "code",
   "execution_count": null,
   "metadata": {},
   "outputs": [],
   "source": [
    "# 리스트를 이용.\n",
    "\n",
    "class Solution:\n",
    "    def isPalindrome(self, s: str) -> bool:\n",
    "        strs = []\n",
    "        for char in s:\n",
    "            if char.isalnum():\n",
    "                strs.append(char.lower())\n",
    "                \n",
    "        while len(strs) > 1:\n",
    "            if strs.pop(0) != strs.pop():\n",
    "                return False\n",
    "        return True"
   ]
  },
  {
   "cell_type": "code",
   "execution_count": null,
   "metadata": {},
   "outputs": [],
   "source": [
    "class Solution:\n",
    "    def isPalindrome(self, s: str) -> bool:\n",
    "        # 알파벳만 남기기\n",
    "        new_s = \"\"\n",
    "        for letter in s:\n",
    "            if letter.isalnum():\n",
    "                new_s += letter\n",
    "        new_s = new_s.lower()\n",
    "        new_array = list(new_s)\n",
    "        \n",
    "        while len(new_array) > 2:\n",
    "            if new_array.pop() != new_array.pop(0): # 마지막값과 첫번째 값 추출\n",
    "                return False\n",
    "            \n",
    "        return True"
   ]
  },
  {
   "cell_type": "code",
   "execution_count": null,
   "metadata": {},
   "outputs": [],
   "source": [
    "class Solution:\n",
    "    def isPalindrome(self, s: str) -> bool:\n",
    "        # 알파벳만 남기기\n",
    "        new_s = \"\"\n",
    "        for letter in s:\n",
    "            if letter.isalnum():\n",
    "                new_s += letter\n",
    "        new_s = new_s.lower()\n",
    "        \n",
    "        return new_s == new_s[::-1]"
   ]
  },
  {
   "cell_type": "markdown",
   "metadata": {},
   "source": [
    "가장 흔한 단어 문제"
   ]
  },
  {
   "cell_type": "code",
   "execution_count": null,
   "metadata": {},
   "outputs": [],
   "source": [
    "from collections import Counter\n",
    "\n",
    "class Solution:\n",
    "    def mostCommonWord(self, paragraph: str, banned: list[str]) -> str:\n",
    "        # paragraph = [p.lower() for p in paragraph.split()]\n",
    "        new = \"\"\n",
    "        for i, p in enumerate(paragraph):\n",
    "            if p in \"!?',;.\":\n",
    "                new += \"\"\n",
    "            else:\n",
    "                new += p\n",
    "                \n",
    "        paragraph = new\n",
    "        paragraph = [p.lower() for p in paragraph.split()]\n",
    "        \n",
    "        counter = Counter(paragraph)\n",
    "        for ban in banned:\n",
    "            del counter[ban]\n",
    "        return \n",
    "        "
   ]
  },
  {
   "cell_type": "code",
   "execution_count": null,
   "metadata": {},
   "outputs": [],
   "source": [
    "from collections import Counter\n",
    "import re\n",
    "\n",
    "class Solution:\n",
    "    def mostCommonWord(self, paragraph: str, banned: list[str]) -> str:\n",
    "        words = [word for word in re.sub(r'[^\\w]', '', paragraph).lower().split() if word not in banned]\n",
    "        counts = Counter(words)\n",
    "        return counts.most_common(1)[0][0]\n",
    "    \n",
    "# re.sub(r'[^\\w]', '', paragraph)\n",
    "# re모듈을 사용. sub 메소드를 이용해 정규식을 사용하여 문자열을 치환.\n",
    "# re.sub(pattern(바꿔야하는거), replace(변경할내용), text(바꾸고자 하는 문자열)) 형식.\n",
    "# []    = 문자 클래스.\n",
    "# '^'   = 문자 클래스 안에서 사용되면 부정의 의미. 즉. 문자 클래스 안의 문자들을 제외한 나머지를 대체하겠다.\n",
    "# '\\w'  = 단어 문자를 의미. (알파벳 문자나 숫자, 밑줄)\n",
    "# 'r''' = 원시 문자열. 백슬래시를 이스케이프 문자로 해석하지 않고 그대로 취급. r, '' 으로 취급함."
   ]
  },
  {
   "cell_type": "code",
   "execution_count": null,
   "metadata": {},
   "outputs": [],
   "source": [
    "class Solution:\n",
    "    def mostCommonWord(self, paragraph: str, banned: list[str]) -> str:\n",
    "        # banned 리스트를 집합(set)으로 변환하여 O(1) 시간에 포함 여부를 확인할 수 있도록 합니다.\n",
    "        banned_set = set(banned)\n",
    "        # 소문자로 변환된 단어 리스트 생성\n",
    "        words = paragraph.lower().split()\n",
    "        # 구두점 제거\n",
    "        words = [word.strip(\"!?',;.\") for word in words]\n",
    "        # banned에 포함되지 않은 단어들만 필터링\n",
    "        words = [word for word in words if word and word not in banned_set]\n",
    "        # 각 단어의 등장 횟수를 세어줍니다.\n",
    "        counts = {}\n",
    "        for word in words:\n",
    "            counts[word] = counts.get(word, 0) + 1\n",
    "        # 등장 횟수가 가장 많은 단어를 반환합니다.\n",
    "        return max(counts, key=counts.get)\n",
    "\n",
    "# 정규 표현식 대신 split() 메서드를 사용하여 공백 기준으로 문단을 단어로 분리.\n",
    "# 각 단어에서 구두점을 제거하기 위해 strip() 메서드를 활용.\n",
    "# 그 후 banned 단어들을 제외하고 남은 단어들의 등장 횟수를 세어서 가장 많이 등장한 단어를 반환."
   ]
  },
  {
   "cell_type": "markdown",
   "metadata": {},
   "source": [
    "로그 파일 재정렬 문제"
   ]
  },
  {
   "cell_type": "code",
   "execution_count": null,
   "metadata": {},
   "outputs": [],
   "source": [
    "class Solution:\n",
    "    def reorderLogFiles(self, logs: list[str]) -> list[str]:\n",
    "        letters, digits = [], []\n",
    "        \n",
    "        for log in logs:\n",
    "            if log.split()[1].isdigit():\n",
    "                digits.append(log)\n",
    "            else:\n",
    "                letters.append(log)\n",
    "                \n",
    "        letters.sort(key=lambda x: (x.split()[1:], x.split()[0]))\n",
    "        \n",
    "        return letters + digits"
   ]
  },
  {
   "cell_type": "markdown",
   "metadata": {},
   "source": [
    "큐를 이용한 스택 구현"
   ]
  },
  {
   "cell_type": "code",
   "execution_count": null,
   "metadata": {},
   "outputs": [],
   "source": [
    "class MyStack:\n",
    "    def __init__(self):\n",
    "        self.q = deque()\n",
    "\n",
    "    def push(self, x: int) -> None:\n",
    "        self.q.append(x)\n",
    "        for _ in range(len(self.q) - 1):\n",
    "            self.q.append(self.q.popleft())\n",
    "\n",
    "    def pop(self) -> int:\n",
    "        return self.q.popleft()\n",
    "\n",
    "    def top(self) -> int:\n",
    "        return self.q[0]\n",
    "        \n",
    "\n",
    "    def empty(self) -> bool:\n",
    "        return True if len(self.q) == 0 else False"
   ]
  },
  {
   "cell_type": "markdown",
   "metadata": {},
   "source": [
    "스택을 위한 큐 구현"
   ]
  },
  {
   "cell_type": "code",
   "execution_count": null,
   "metadata": {},
   "outputs": [],
   "source": [
    "class MyQueue:\n",
    "    def __init__(self):\n",
    "        self.Q = []\n",
    "\n",
    "    def push(self, x: int) -> None:\n",
    "        self.Q.append(x)\n",
    "\n",
    "    def pop(self) -> int:\n",
    "        temp = []\n",
    "        while len(self.Q) > 1:\n",
    "            temp.append(self.Q.pop())\n",
    "        ret = self.Q.pop()\n",
    "        while temp:\n",
    "            self.Q.append(temp.pop())\n",
    "        return ret\n",
    "\n",
    "    def peek(self) -> int:\n",
    "        return self.Q[0]\n",
    "\n",
    "    def empty(self) -> bool:\n",
    "        if len(self.Q) == 0:\n",
    "            return True\n",
    "        else:\n",
    "            return False"
   ]
  },
  {
   "cell_type": "markdown",
   "metadata": {},
   "source": [
    "기능 개발 문제"
   ]
  },
  {
   "cell_type": "code",
   "execution_count": null,
   "metadata": {},
   "outputs": [],
   "source": [
    "from math import ceil\n",
    "\n",
    "def solution(progresses, speeds):\n",
    "    answer = [0]\n",
    "    \n",
    "    for progresses, speed in zip(progresses, speeds):\n",
    "        spend = ceil((100 - progresses) / speed)\n",
    "        # 마지막 진행된 작업이 소요시간이 더 길면, 그시간으로 넣는다.\n",
    "        answer.append(max(answer[-1], spend))\n",
    "        \n",
    "    answer = answer[1:]\n",
    "    \n",
    "    count = 0   # 소요시간이 같은 작업의 개수\n",
    "    temp = 0    # 이전 작업의 시간\n",
    "    result = []\n",
    "    for a in answer:\n",
    "        # 만약 소요 시간이 이전 작업 소요시간과 동일하지 않다면.\n",
    "        # 배포 시간이 달라짐\n",
    "        if temp != a:\n",
    "            # 소요 시간이 같았던 것들의 개수는 결과 배열에 추가\n",
    "            result.append(count)\n",
    "            # 이전 소요시간 다시 할당\n",
    "            temp = a\n",
    "            # 소요시간이 같았던 것들의 개수 초기화\n",
    "            count = 0\n",
    "        count += 1\n",
    "    result.append(count)\n",
    "       \n",
    "    return result[1:]"
   ]
  },
  {
   "cell_type": "code",
   "execution_count": null,
   "metadata": {},
   "outputs": [],
   "source": [
    "def solution(progresses, speeds):\n",
    "    answer = []\n",
    "    days = 0\n",
    "    cnt = 0\n",
    "    while len(progresses) > 0:\n",
    "        if(progresses[0]+days*speeds[0])>=100:\n",
    "            progresses.pop(0)\n",
    "            speeds.pop(0)\n",
    "            cnt += 1\n",
    "        else:\n",
    "            if cnt > 0:\n",
    "                answer.append(cnt)\n",
    "                cnt = 0\n",
    "            else:\n",
    "                days+=1\n",
    "    answer.append(cnt)\n",
    "    return answer"
   ]
  },
  {
   "cell_type": "markdown",
   "metadata": {},
   "source": [
    "일일 온도 문제"
   ]
  },
  {
   "cell_type": "code",
   "execution_count": null,
   "metadata": {},
   "outputs": [],
   "source": [
    "class Solution:\n",
    "    def dailyTemperatures(self, T: list[int]) -> list[int]:\n",
    "        \"\"\"\n",
    "        스택으로 접근\n",
    "        \"\"\"\n",
    "        counter = {k:0 for k in range(len(T))} \n",
    "        # counter dict: 인덱스로 해야됨 (동일한 온도가 있을 수 있으므로)\n",
    "        stack = [0]\n",
    "        \n",
    "        for i in range(1,len(T)):\n",
    "            temp = T[i]\n",
    "            while True:\n",
    "                cur_idx = stack.pop()\n",
    "                cur_temp= T[cur_idx]\n",
    "                if cur_temp >= temp: # 현재보다 더 따뜻한 날씨를 못만남 (탐색 실패)\n",
    "                    stack.append(cur_idx) # cur_temp 다시 push\n",
    "                    stack.append(i) # temp도 뒤이어 push\n",
    "                    break # while loop 탈출 -> temp 변경\n",
    "                else: # 탐색 성공\n",
    "                    counter[cur_idx] = i-cur_idx # counter 업데이트하는 부분을 수정\n",
    "                    if not stack: # when stack is empty\n",
    "                        stack.append(i)\n",
    "                        break\n",
    "                                    \n",
    "        while stack:\n",
    "            counter[stack.pop()] = 0\n",
    "        \n",
    "        return list(counter.values())"
   ]
  },
  {
   "cell_type": "markdown",
   "metadata": {},
   "source": [
    "더 맵게 문제"
   ]
  },
  {
   "cell_type": "code",
   "execution_count": null,
   "metadata": {},
   "outputs": [],
   "source": [
    "import heapq\n",
    "\n",
    "def solution(scoville, K):\n",
    "    n = 0\n",
    "    heapq.heapify(scoville)\n",
    "    while True:\n",
    "        if len(scoville) == 1 and scoville[0] < K:\n",
    "            return -1\n",
    "        mini = heapq.heappop(scoville)\n",
    "        # 가장 덜 매운게 스코빌 지수 K이상 섞은 횟수 반환\n",
    "        if mini >= K:\n",
    "            return n\n",
    "        second = heapq.heappop(scoville)\n",
    "        heapq.heappush(scoville, mini + second * 2)\n",
    "        # 섞은 횟수\n",
    "        n += 1\n",
    "        "
   ]
  }
 ],
 "metadata": {
  "language_info": {
   "name": "python"
  }
 },
 "nbformat": 4,
 "nbformat_minor": 2
}
